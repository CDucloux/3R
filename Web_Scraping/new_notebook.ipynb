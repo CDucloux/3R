{
 "cells": [
  {
   "cell_type": "code",
   "execution_count": 2,
   "metadata": {},
   "outputs": [],
   "source": [
    "from script.scraper_functions import *\n",
    "from script.soupifier import *\n",
    "from serde.json import to_json"
   ]
  },
  {
   "cell_type": "markdown",
   "metadata": {},
   "source": [
    "**TODO**:\n",
    "\n",
    "- `ruff` $\\Rightarrow$ linter, à utiliser plus dans le cadre du dvpt\n",
    "- `pytest` avec subprocess.run pour tester le code\n",
    "- `pytest-coverage`\n",
    "- `poetry` avec gestion des dépendances\n",
    "- `black` pour automatiquement indenter, etc.\n",
    "- `doctest` pour tester les exemples des docstrings\n",
    "- `bandit` pour gérer les vulnérabilités\n",
    "\n",
    "***\n",
    "\n",
    "- `yarl` pour travailler avec des URL"
   ]
  },
  {
   "cell_type": "markdown",
   "metadata": {},
   "source": [
    "## Le code ci-dessous lance le `scraper`\n",
    "\n",
    "- Tu peux changer le nombre d'*URL* de **19** à 1 ou 2 pour tester ça prendra beaucoup moins longtemps à générer\n",
    "- Lien [`Darty`](https://www.darty.com/nav/extra/list?seller=311289-0-327183-311290-311291-328771-311452&cat=89054&state=new_offer&persist_sold_by_darty=true) $\\Rightarrow$ en choisissant les produits uniquement vendus par Darty + Neufs on a 567 produits.\n",
    "- Avoir un comparatif Boulanger/Darty pourrait être intéressant\n",
    "- Voir pour récupérer les images des téléphones pour plus tard dans l'appli - voir : https://discuss.streamlit.io/t/add-image-and-header-to-streamlit-dataframe-table/36065/3"
   ]
  },
  {
   "cell_type": "code",
   "execution_count": 4,
   "metadata": {},
   "outputs": [],
   "source": [
    "URL = \"https://boulanger.com/c/nav-filtre/smartphone-telephone-portable?_etat_produit~neuf\""
   ]
  },
  {
   "cell_type": "code",
   "execution_count": 5,
   "metadata": {},
   "outputs": [
    {
     "name": "stdout",
     "output_type": "stream",
     "text": [
      "Page 1 -> Successfull Extraction.\n",
      "Page 2 -> Successfull Extraction.\n",
      "Page 3 -> Successfull Extraction.\n",
      "Page 4 -> Successfull Extraction.\n",
      "Page 5 -> Successfull Extraction.\n",
      "Page 6 -> Successfull Extraction.\n",
      "Page 7 -> Successfull Extraction.\n",
      "Page 8 -> Successfull Extraction.\n",
      "Page 9 -> Successfull Extraction.\n",
      "Page 10 -> Successfull Extraction.\n"
     ]
    },
    {
     "data": {
      "text/html": [
       "<pre style=\"white-space:pre;overflow-x:auto;line-height:normal;font-family:Menlo,'DejaVu Sans Mono',consolas,'Courier New',monospace\"><span style=\"font-style: italic\">Elapsed time</span> for <span style=\"color: #800000; text-decoration-color: #800000; font-weight: bold\">read_pages</span> function: <span style=\"color: #008080; text-decoration-color: #008080; font-weight: bold\">39.687</span> seconds.\n",
       "</pre>\n"
      ],
      "text/plain": [
       "\u001b[3mElapsed time\u001b[0m for \u001b[1;31mread_pages\u001b[0m function: \u001b[1;36m39.687\u001b[0m seconds.\n"
      ]
     },
     "metadata": {},
     "output_type": "display_data"
    }
   ],
   "source": [
    "session = create_session()\n",
    "url_list = create_url_list(URL, 11) #11\n",
    "pages = read_pages(url_list=url_list, session=session)"
   ]
  },
  {
   "cell_type": "code",
   "execution_count": null,
   "metadata": {},
   "outputs": [],
   "source": [
    "all_urls = extract_all_urls(pages)\n",
    "print(\"--------------------\")\n",
    "product_pages = extract_all_pages(all_urls, session)"
   ]
  },
  {
   "cell_type": "code",
   "execution_count": null,
   "metadata": {},
   "outputs": [],
   "source": [
    "all_urls"
   ]
  },
  {
   "cell_type": "markdown",
   "metadata": {},
   "source": [
    "Il faudrait créer une fonction pour la génération de la liste des smartphones + l'export en `json`"
   ]
  },
  {
   "cell_type": "code",
   "execution_count": 8,
   "metadata": {},
   "outputs": [],
   "source": [
    "smartphone_list = list()\n",
    "for article in product_pages:\n",
    "    soup = BeautifulSoup(article, \"html.parser\")\n",
    "    dict_features = extract_features(soup)\n",
    "    smartphone = smartphone_characteristics(dict_features)\n",
    "    smartphone_list.append(smartphone)"
   ]
  },
  {
   "cell_type": "code",
   "execution_count": 9,
   "metadata": {},
   "outputs": [],
   "source": [
    "smartphones_json = to_json(smartphone_list)"
   ]
  },
  {
   "cell_type": "code",
   "execution_count": 10,
   "metadata": {},
   "outputs": [],
   "source": [
    "file_path = \"data/smartphones_2.json\"\n",
    "\n",
    "with open(file_path, \"w\", encoding=\"utf-8\") as json_file:\n",
    "    json_file.write(smartphones_json)"
   ]
  },
  {
   "cell_type": "markdown",
   "metadata": {},
   "source": [
    "## Charge le Dataframe dans `polars`"
   ]
  },
  {
   "cell_type": "code",
   "execution_count": 1,
   "metadata": {},
   "outputs": [],
   "source": [
    "import polars as pl\n",
    "import polars.selectors as cs\n",
    "from script.polars_gazprom import *\n",
    "from itertools import chain"
   ]
  },
  {
   "cell_type": "code",
   "execution_count": 2,
   "metadata": {},
   "outputs": [],
   "source": [
    "df_brut = pl.read_json(\"data/smartphones_2.json\")"
   ]
  },
  {
   "cell_type": "markdown",
   "metadata": {},
   "source": [
    "### Pipeline"
   ]
  },
  {
   "cell_type": "markdown",
   "metadata": {},
   "source": [
    "Sur `535` extractions, il y a `487` téléphones valides."
   ]
  },
  {
   "cell_type": "code",
   "execution_count": 3,
   "metadata": {},
   "outputs": [],
   "source": [
    "df = NordStream(df_brut)"
   ]
  },
  {
   "cell_type": "code",
   "execution_count": 5,
   "metadata": {},
   "outputs": [],
   "source": [
    "from pathlib import Path\n",
    "\n",
    "root = Path(\".\").resolve()\n",
    "data_folder = root / \"data\"\n",
    "path_file = data_folder / \"df_clean_2.csv\""
   ]
  },
  {
   "cell_type": "code",
   "execution_count": 3,
   "metadata": {},
   "outputs": [
    {
     "ename": "NameError",
     "evalue": "name 'df' is not defined",
     "output_type": "error",
     "traceback": [
      "\u001b[1;31m---------------------------------------------------------------------------\u001b[0m",
      "\u001b[1;31mNameError\u001b[0m                                 Traceback (most recent call last)",
      "Cell \u001b[1;32mIn [3], line 1\u001b[0m\n\u001b[1;32m----> 1\u001b[0m \u001b[43mdf\u001b[49m\u001b[38;5;241m.\u001b[39mwrite_csv(path_file, separator\u001b[38;5;241m=\u001b[39m\u001b[38;5;124m\"\u001b[39m\u001b[38;5;124m;\u001b[39m\u001b[38;5;124m\"\u001b[39m)\n\u001b[0;32m      2\u001b[0m \u001b[38;5;28;01mimport\u001b[39;00m \u001b[38;5;21;01mpolars\u001b[39;00m \u001b[38;5;28;01mas\u001b[39;00m \u001b[38;5;21;01mpl\u001b[39;00m\n",
      "\u001b[1;31mNameError\u001b[0m: name 'df' is not defined"
     ]
    }
   ],
   "source": [
    "df.write_csv(path_file, separator=\";\")"
   ]
  },
  {
   "cell_type": "code",
   "execution_count": 14,
   "metadata": {},
   "outputs": [],
   "source": [
    "import polars as pl\n",
    "import plotly.express as px"
   ]
  },
  {
   "cell_type": "code",
   "execution_count": 15,
   "metadata": {},
   "outputs": [],
   "source": [
    "df = pl.read_parquet(\"data/sfa_results_app.parquet\")"
   ]
  },
  {
   "cell_type": "code",
   "execution_count": 30,
   "metadata": {},
   "outputs": [],
   "source": [
    "ctx = pl.SQLContext()"
   ]
  },
  {
   "cell_type": "code",
   "execution_count": 41,
   "metadata": {},
   "outputs": [
    {
     "data": {
      "text/plain": [
       "4.0"
      ]
     },
     "execution_count": 41,
     "metadata": {},
     "output_type": "execute_result"
    }
   ],
   "source": [
    "ctx.register(\"df\", df).execute(\n",
    "    \"SELECT ram FROM df WHERE model = 'iPhone 14 Plus' AND color = 'Jaune' \"\n",
    "    ).collect().item()"
   ]
  },
  {
   "cell_type": "code",
   "execution_count": 31,
   "metadata": {},
   "outputs": [
    {
     "data": {
      "text/plain": [
       "85"
      ]
     },
     "execution_count": 31,
     "metadata": {},
     "output_type": "execute_result"
    }
   ],
   "source": [
    "df.filter(pl.col(\"efficiency\") < 0.8).select(pl.col(\"model\").count()).item()"
   ]
  },
  {
   "cell_type": "code",
   "execution_count": 9,
   "metadata": {},
   "outputs": [
    {
     "data": {
      "application/vnd.plotly.v1+json": {
       "config": {
        "plotlyServerURL": "https://plot.ly"
       },
       "data": [
        {
         "alignmentgroup": "True",
         "boxpoints": "all",
         "hovertemplate": "<b>Prix :</b> %{y}<br><b>RAM :</b> %{x}<br>",
         "legendgroup": "",
         "marker": {
          "color": "#636efa"
         },
         "name": "",
         "notched": false,
         "offsetgroup": "",
         "orientation": "v",
         "showlegend": false,
         "type": "box",
         "x": [
          "2 Go",
          "2 Go",
          "2 Go",
          "2 Go",
          "2 Go",
          "2 Go",
          "2 Go",
          "2 Go",
          "2 Go",
          "2 Go",
          "2 Go",
          "2 Go",
          "2 Go",
          "2 Go",
          "3 Go",
          "3 Go",
          "3 Go",
          "3 Go",
          "3 Go",
          "3 Go",
          "3 Go",
          "3 Go",
          "3 Go",
          "3 Go",
          "3 Go",
          "3 Go",
          "3 Go",
          "3 Go",
          "4 Go",
          "4 Go",
          "4 Go",
          "4 Go",
          "4 Go",
          "4 Go",
          "4 Go",
          "4 Go",
          "4 Go",
          "4 Go",
          "4 Go",
          "4 Go",
          "4 Go",
          "4 Go",
          "4 Go",
          "4 Go",
          "4 Go",
          "4 Go",
          "4 Go",
          "4 Go",
          "4 Go",
          "4 Go",
          "4 Go",
          "4 Go",
          "4 Go",
          "4 Go",
          "4 Go",
          "4 Go",
          "4 Go",
          "4 Go",
          "4 Go",
          "4 Go",
          "4 Go",
          "4 Go",
          "4 Go",
          "4 Go",
          "4 Go",
          "4 Go",
          "4 Go",
          "4 Go",
          "4 Go",
          "4 Go",
          "4 Go",
          "4 Go",
          "4 Go",
          "4 Go",
          "4 Go",
          "4 Go",
          "4 Go",
          "4 Go",
          "4 Go",
          "4 Go",
          "4 Go",
          "4 Go",
          "4 Go",
          "4 Go",
          "4 Go",
          "4 Go",
          "4 Go",
          "4 Go",
          "4 Go",
          "4 Go",
          "4 Go",
          "4 Go",
          "4 Go",
          "4 Go",
          "4 Go",
          "4 Go",
          "4 Go",
          "4 Go",
          "4 Go",
          "4 Go",
          "4 Go",
          "4 Go",
          "4 Go",
          "4 Go",
          "4 Go",
          "4 Go",
          "4 Go",
          "4 Go",
          "4 Go",
          "4 Go",
          "4 Go",
          "4 Go",
          "4 Go",
          "4 Go",
          "4 Go",
          "4 Go",
          "4 Go",
          "4 Go",
          "4 Go",
          "4 Go",
          "4 Go",
          "4 Go",
          "4 Go",
          "4 Go",
          "4 Go",
          "4 Go",
          "4 Go",
          "4 Go",
          "4 Go",
          "4 Go",
          "4 Go",
          "4 Go",
          "4 Go",
          "6 Go",
          "6 Go",
          "6 Go",
          "6 Go",
          "6 Go",
          "6 Go",
          "6 Go",
          "6 Go",
          "6 Go",
          "6 Go",
          "6 Go",
          "6 Go",
          "6 Go",
          "6 Go",
          "6 Go",
          "6 Go",
          "6 Go",
          "6 Go",
          "6 Go",
          "6 Go",
          "6 Go",
          "6 Go",
          "6 Go",
          "6 Go",
          "6 Go",
          "6 Go",
          "6 Go",
          "6 Go",
          "6 Go",
          "6 Go",
          "6 Go",
          "6 Go",
          "6 Go",
          "6 Go",
          "6 Go",
          "6 Go",
          "6 Go",
          "6 Go",
          "6 Go",
          "6 Go",
          "6 Go",
          "6 Go",
          "6 Go",
          "6 Go",
          "6 Go",
          "6 Go",
          "6 Go",
          "6 Go",
          "6 Go",
          "6 Go",
          "6 Go",
          "6 Go",
          "6 Go",
          "6 Go",
          "6 Go",
          "6 Go",
          "6 Go",
          "6 Go",
          "6 Go",
          "6 Go",
          "6 Go",
          "6 Go",
          "6 Go",
          "6 Go",
          "6 Go",
          "6 Go",
          "6 Go",
          "6 Go",
          "6 Go",
          "6 Go",
          "6 Go",
          "8 Go",
          "8 Go",
          "8 Go",
          "8 Go",
          "8 Go",
          "8 Go",
          "8 Go",
          "8 Go",
          "8 Go",
          "8 Go",
          "8 Go",
          "8 Go",
          "8 Go",
          "8 Go",
          "8 Go",
          "8 Go",
          "8 Go",
          "8 Go",
          "8 Go",
          "8 Go",
          "8 Go",
          "8 Go",
          "8 Go",
          "8 Go",
          "8 Go",
          "8 Go",
          "8 Go",
          "8 Go",
          "8 Go",
          "8 Go",
          "8 Go",
          "8 Go",
          "8 Go",
          "8 Go",
          "8 Go",
          "8 Go",
          "8 Go",
          "8 Go",
          "8 Go",
          "8 Go",
          "8 Go",
          "8 Go",
          "8 Go",
          "8 Go",
          "8 Go",
          "8 Go",
          "8 Go",
          "8 Go",
          "8 Go",
          "8 Go",
          "8 Go",
          "8 Go",
          "8 Go",
          "8 Go",
          "8 Go",
          "8 Go",
          "8 Go",
          "8 Go",
          "8 Go",
          "8 Go",
          "8 Go",
          "8 Go",
          "8 Go",
          "8 Go",
          "8 Go",
          "8 Go",
          "8 Go",
          "8 Go",
          "8 Go",
          "8 Go",
          "8 Go",
          "8 Go",
          "8 Go",
          "8 Go",
          "8 Go",
          "8 Go",
          "8 Go",
          "8 Go",
          "8 Go",
          "8 Go",
          "8 Go",
          "8 Go",
          "8 Go",
          "8 Go",
          "8 Go",
          "8 Go",
          "8 Go",
          "8 Go",
          "8 Go",
          "8 Go",
          "8 Go",
          "8 Go",
          "8 Go",
          "8 Go",
          "8 Go",
          "8 Go",
          "8 Go",
          "8 Go",
          "8 Go",
          "8 Go",
          "8 Go",
          "8 Go",
          "8 Go",
          "8 Go",
          "8 Go",
          "8 Go",
          "8 Go",
          "8 Go",
          "8 Go",
          "8 Go",
          "8 Go",
          "8 Go",
          "8 Go",
          "8 Go",
          "8 Go",
          "8 Go",
          "8 Go",
          "8 Go",
          "8 Go",
          "8 Go",
          "8 Go",
          "8 Go",
          "8 Go",
          "8 Go",
          "8 Go",
          "8 Go",
          "8 Go",
          "8 Go",
          "8 Go",
          "8 Go",
          "8 Go",
          "8 Go",
          "8 Go",
          "8 Go",
          "8 Go",
          "8 Go",
          "8 Go",
          "8 Go",
          "8 Go",
          "8 Go",
          "8 Go",
          "8 Go",
          "8 Go",
          "8 Go",
          "8 Go",
          "8 Go",
          "8 Go",
          "8 Go",
          "8 Go",
          "8 Go",
          "8 Go",
          "8 Go",
          "8 Go",
          "8 Go",
          "8 Go",
          "12 Go",
          "12 Go",
          "12 Go",
          "12 Go",
          "12 Go",
          "12 Go",
          "12 Go",
          "12 Go",
          "12 Go",
          "12 Go",
          "12 Go",
          "12 Go",
          "12 Go",
          "12 Go",
          "12 Go",
          "12 Go",
          "12 Go",
          "12 Go",
          "12 Go",
          "12 Go",
          "12 Go",
          "12 Go",
          "12 Go",
          "12 Go",
          "12 Go",
          "12 Go",
          "12 Go",
          "12 Go",
          "12 Go",
          "12 Go",
          "12 Go",
          "12 Go",
          "12 Go",
          "12 Go",
          "12 Go",
          "12 Go",
          "12 Go",
          "12 Go",
          "12 Go",
          "12 Go",
          "12 Go",
          "12 Go",
          "12 Go",
          "12 Go",
          "12 Go",
          "12 Go",
          "12 Go",
          "12 Go",
          "12 Go",
          "12 Go",
          "12 Go",
          "12 Go",
          "12 Go",
          "12 Go",
          "12 Go",
          "12 Go",
          "12 Go",
          "12 Go",
          "12 Go",
          "12 Go",
          "12 Go",
          "12 Go",
          "12 Go",
          "12 Go",
          "12 Go",
          "12 Go",
          "12 Go",
          "12 Go",
          "12 Go",
          "12 Go",
          "12 Go",
          "16 Go",
          "16 Go"
         ],
         "x0": " ",
         "xaxis": "x",
         "y": [
          98.93,
          84.9,
          84.6,
          79,
          99,
          90.34,
          94.63,
          127.48,
          109,
          84.6,
          81.9,
          114.72,
          93.5,
          99.39,
          140.27,
          119.17,
          149,
          129,
          469,
          129,
          133.4,
          119,
          102.51,
          299,
          102.51,
          539,
          118.03,
          539,
          209,
          989,
          149,
          551.73,
          249,
          219,
          179,
          869,
          199,
          599,
          704.9,
          199,
          219,
          262.5,
          199,
          216.24,
          689,
          976,
          159,
          869,
          649,
          869,
          169,
          699,
          159,
          169,
          210.2,
          529,
          169,
          159,
          169,
          649,
          144.63,
          184.28,
          158.95,
          649,
          169,
          769,
          138.28,
          335.48,
          989,
          899,
          369,
          179,
          210.2,
          198,
          199,
          899,
          249,
          989,
          148.2,
          177.57,
          149,
          122.82,
          189.68,
          369,
          179,
          140.5,
          179,
          222.76,
          768.95,
          599,
          146.06,
          168.33,
          562.99,
          179,
          649,
          899,
          249,
          219,
          179.94,
          769,
          199,
          529,
          689,
          193.06,
          369,
          204.37,
          193.32,
          146.06,
          169,
          159,
          859,
          619,
          649,
          283.56,
          179.5,
          179,
          899,
          146.92,
          688,
          649,
          869,
          245.4,
          216.48,
          390,
          769,
          147.5,
          126.01,
          208.1,
          779,
          999,
          869,
          166.9,
          153.3,
          1149.03,
          259.21,
          1149,
          1149,
          1350.59,
          1019,
          231.62,
          759,
          279,
          349,
          869,
          214.81,
          297.42,
          279,
          1019,
          380.2,
          214.81,
          999,
          442,
          379,
          1019,
          195.9,
          1149,
          1389,
          1350.59,
          222.55,
          335.89,
          379,
          349.44,
          869,
          759,
          297.53,
          759,
          279,
          999,
          358.04,
          1239,
          1206.25,
          869,
          349,
          319,
          258.4,
          379,
          139,
          242.41,
          359,
          359.15,
          319,
          1206.25,
          1019,
          191.89,
          319,
          273.53,
          515.59,
          263.5,
          1350.59,
          349,
          1149,
          999,
          999,
          869,
          1019,
          1350.59,
          1249,
          965.66,
          869,
          183.3,
          1249,
          307.5,
          486.94,
          422.07,
          783.9,
          1669,
          1239,
          1239,
          1799,
          1299,
          649,
          1669,
          859,
          1545,
          249,
          959,
          229,
          699,
          322.23,
          729,
          567.9,
          1099,
          1109.02,
          1549,
          299,
          1919,
          199,
          379,
          199,
          243.45,
          299,
          159,
          1239,
          269,
          249,
          499,
          419,
          449.7,
          263.62,
          799,
          1799,
          899,
          598.4,
          264.94,
          379.9,
          429,
          249,
          666.94,
          789,
          1169,
          439.41,
          1310.51,
          429,
          899,
          1419,
          292.15,
          503.12,
          1299,
          379,
          699,
          249,
          429,
          419,
          899,
          1239,
          959,
          319,
          759,
          300.34,
          349,
          899,
          799,
          838.08,
          1219,
          349.99,
          1169,
          899,
          349,
          238.83,
          399,
          999,
          279,
          299.31,
          859,
          999,
          729,
          279,
          999,
          1799,
          169,
          298.23,
          759,
          269,
          379,
          809.5,
          1919,
          1919,
          759,
          899,
          882.97,
          696.9,
          1669,
          449,
          959,
          959,
          269,
          1419,
          1549,
          286.42,
          356.54,
          1919,
          232,
          1099,
          859,
          1799,
          1419,
          249,
          783.32,
          199,
          399,
          668.5,
          421.06,
          399,
          1043.94,
          1169,
          229,
          229,
          789,
          1169,
          689,
          159,
          249,
          159,
          399,
          1419,
          1749,
          699,
          1299,
          1199,
          1099,
          789,
          349,
          319,
          759,
          277.11,
          899,
          349,
          229,
          729,
          299,
          449,
          1669,
          343.71,
          1299,
          1545,
          729,
          399,
          399,
          499,
          1829,
          1469,
          399,
          459,
          1248.99,
          1029.55,
          1244.41,
          1469,
          349,
          1169,
          794.83,
          1829,
          1879,
          1589,
          449.03,
          459,
          1399,
          999,
          379,
          299,
          259,
          1237.62,
          1289,
          1589,
          811.13,
          1337.5,
          1289,
          779.13,
          1141.9,
          1589,
          349,
          974.9,
          349,
          1289,
          1829,
          299.99,
          1469,
          562.86,
          1169,
          1589,
          1289,
          459,
          1058.57,
          346.9,
          299,
          399,
          1829,
          1469,
          1059,
          1059,
          1879,
          856.04,
          1070.32,
          1169,
          399,
          449,
          329,
          1199,
          1749,
          1399,
          999,
          1169,
          999,
          299,
          1059,
          1879,
          893.9,
          666.26,
          893.9,
          876.9,
          658.82,
          999,
          1999
         ],
         "y0": " ",
         "yaxis": "y"
        }
       ],
       "layout": {
        "boxmode": "group",
        "legend": {
         "tracegroupgap": 0
        },
        "margin": {
         "t": 60
        },
        "template": {
         "data": {
          "bar": [
           {
            "error_x": {
             "color": "#2a3f5f"
            },
            "error_y": {
             "color": "#2a3f5f"
            },
            "marker": {
             "line": {
              "color": "#E5ECF6",
              "width": 0.5
             },
             "pattern": {
              "fillmode": "overlay",
              "size": 10,
              "solidity": 0.2
             }
            },
            "type": "bar"
           }
          ],
          "barpolar": [
           {
            "marker": {
             "line": {
              "color": "#E5ECF6",
              "width": 0.5
             },
             "pattern": {
              "fillmode": "overlay",
              "size": 10,
              "solidity": 0.2
             }
            },
            "type": "barpolar"
           }
          ],
          "carpet": [
           {
            "aaxis": {
             "endlinecolor": "#2a3f5f",
             "gridcolor": "white",
             "linecolor": "white",
             "minorgridcolor": "white",
             "startlinecolor": "#2a3f5f"
            },
            "baxis": {
             "endlinecolor": "#2a3f5f",
             "gridcolor": "white",
             "linecolor": "white",
             "minorgridcolor": "white",
             "startlinecolor": "#2a3f5f"
            },
            "type": "carpet"
           }
          ],
          "choropleth": [
           {
            "colorbar": {
             "outlinewidth": 0,
             "ticks": ""
            },
            "type": "choropleth"
           }
          ],
          "contour": [
           {
            "colorbar": {
             "outlinewidth": 0,
             "ticks": ""
            },
            "colorscale": [
             [
              0,
              "#0d0887"
             ],
             [
              0.1111111111111111,
              "#46039f"
             ],
             [
              0.2222222222222222,
              "#7201a8"
             ],
             [
              0.3333333333333333,
              "#9c179e"
             ],
             [
              0.4444444444444444,
              "#bd3786"
             ],
             [
              0.5555555555555556,
              "#d8576b"
             ],
             [
              0.6666666666666666,
              "#ed7953"
             ],
             [
              0.7777777777777778,
              "#fb9f3a"
             ],
             [
              0.8888888888888888,
              "#fdca26"
             ],
             [
              1,
              "#f0f921"
             ]
            ],
            "type": "contour"
           }
          ],
          "contourcarpet": [
           {
            "colorbar": {
             "outlinewidth": 0,
             "ticks": ""
            },
            "type": "contourcarpet"
           }
          ],
          "heatmap": [
           {
            "colorbar": {
             "outlinewidth": 0,
             "ticks": ""
            },
            "colorscale": [
             [
              0,
              "#0d0887"
             ],
             [
              0.1111111111111111,
              "#46039f"
             ],
             [
              0.2222222222222222,
              "#7201a8"
             ],
             [
              0.3333333333333333,
              "#9c179e"
             ],
             [
              0.4444444444444444,
              "#bd3786"
             ],
             [
              0.5555555555555556,
              "#d8576b"
             ],
             [
              0.6666666666666666,
              "#ed7953"
             ],
             [
              0.7777777777777778,
              "#fb9f3a"
             ],
             [
              0.8888888888888888,
              "#fdca26"
             ],
             [
              1,
              "#f0f921"
             ]
            ],
            "type": "heatmap"
           }
          ],
          "heatmapgl": [
           {
            "colorbar": {
             "outlinewidth": 0,
             "ticks": ""
            },
            "colorscale": [
             [
              0,
              "#0d0887"
             ],
             [
              0.1111111111111111,
              "#46039f"
             ],
             [
              0.2222222222222222,
              "#7201a8"
             ],
             [
              0.3333333333333333,
              "#9c179e"
             ],
             [
              0.4444444444444444,
              "#bd3786"
             ],
             [
              0.5555555555555556,
              "#d8576b"
             ],
             [
              0.6666666666666666,
              "#ed7953"
             ],
             [
              0.7777777777777778,
              "#fb9f3a"
             ],
             [
              0.8888888888888888,
              "#fdca26"
             ],
             [
              1,
              "#f0f921"
             ]
            ],
            "type": "heatmapgl"
           }
          ],
          "histogram": [
           {
            "marker": {
             "pattern": {
              "fillmode": "overlay",
              "size": 10,
              "solidity": 0.2
             }
            },
            "type": "histogram"
           }
          ],
          "histogram2d": [
           {
            "colorbar": {
             "outlinewidth": 0,
             "ticks": ""
            },
            "colorscale": [
             [
              0,
              "#0d0887"
             ],
             [
              0.1111111111111111,
              "#46039f"
             ],
             [
              0.2222222222222222,
              "#7201a8"
             ],
             [
              0.3333333333333333,
              "#9c179e"
             ],
             [
              0.4444444444444444,
              "#bd3786"
             ],
             [
              0.5555555555555556,
              "#d8576b"
             ],
             [
              0.6666666666666666,
              "#ed7953"
             ],
             [
              0.7777777777777778,
              "#fb9f3a"
             ],
             [
              0.8888888888888888,
              "#fdca26"
             ],
             [
              1,
              "#f0f921"
             ]
            ],
            "type": "histogram2d"
           }
          ],
          "histogram2dcontour": [
           {
            "colorbar": {
             "outlinewidth": 0,
             "ticks": ""
            },
            "colorscale": [
             [
              0,
              "#0d0887"
             ],
             [
              0.1111111111111111,
              "#46039f"
             ],
             [
              0.2222222222222222,
              "#7201a8"
             ],
             [
              0.3333333333333333,
              "#9c179e"
             ],
             [
              0.4444444444444444,
              "#bd3786"
             ],
             [
              0.5555555555555556,
              "#d8576b"
             ],
             [
              0.6666666666666666,
              "#ed7953"
             ],
             [
              0.7777777777777778,
              "#fb9f3a"
             ],
             [
              0.8888888888888888,
              "#fdca26"
             ],
             [
              1,
              "#f0f921"
             ]
            ],
            "type": "histogram2dcontour"
           }
          ],
          "mesh3d": [
           {
            "colorbar": {
             "outlinewidth": 0,
             "ticks": ""
            },
            "type": "mesh3d"
           }
          ],
          "parcoords": [
           {
            "line": {
             "colorbar": {
              "outlinewidth": 0,
              "ticks": ""
             }
            },
            "type": "parcoords"
           }
          ],
          "pie": [
           {
            "automargin": true,
            "type": "pie"
           }
          ],
          "scatter": [
           {
            "fillpattern": {
             "fillmode": "overlay",
             "size": 10,
             "solidity": 0.2
            },
            "type": "scatter"
           }
          ],
          "scatter3d": [
           {
            "line": {
             "colorbar": {
              "outlinewidth": 0,
              "ticks": ""
             }
            },
            "marker": {
             "colorbar": {
              "outlinewidth": 0,
              "ticks": ""
             }
            },
            "type": "scatter3d"
           }
          ],
          "scattercarpet": [
           {
            "marker": {
             "colorbar": {
              "outlinewidth": 0,
              "ticks": ""
             }
            },
            "type": "scattercarpet"
           }
          ],
          "scattergeo": [
           {
            "marker": {
             "colorbar": {
              "outlinewidth": 0,
              "ticks": ""
             }
            },
            "type": "scattergeo"
           }
          ],
          "scattergl": [
           {
            "marker": {
             "colorbar": {
              "outlinewidth": 0,
              "ticks": ""
             }
            },
            "type": "scattergl"
           }
          ],
          "scattermapbox": [
           {
            "marker": {
             "colorbar": {
              "outlinewidth": 0,
              "ticks": ""
             }
            },
            "type": "scattermapbox"
           }
          ],
          "scatterpolar": [
           {
            "marker": {
             "colorbar": {
              "outlinewidth": 0,
              "ticks": ""
             }
            },
            "type": "scatterpolar"
           }
          ],
          "scatterpolargl": [
           {
            "marker": {
             "colorbar": {
              "outlinewidth": 0,
              "ticks": ""
             }
            },
            "type": "scatterpolargl"
           }
          ],
          "scatterternary": [
           {
            "marker": {
             "colorbar": {
              "outlinewidth": 0,
              "ticks": ""
             }
            },
            "type": "scatterternary"
           }
          ],
          "surface": [
           {
            "colorbar": {
             "outlinewidth": 0,
             "ticks": ""
            },
            "colorscale": [
             [
              0,
              "#0d0887"
             ],
             [
              0.1111111111111111,
              "#46039f"
             ],
             [
              0.2222222222222222,
              "#7201a8"
             ],
             [
              0.3333333333333333,
              "#9c179e"
             ],
             [
              0.4444444444444444,
              "#bd3786"
             ],
             [
              0.5555555555555556,
              "#d8576b"
             ],
             [
              0.6666666666666666,
              "#ed7953"
             ],
             [
              0.7777777777777778,
              "#fb9f3a"
             ],
             [
              0.8888888888888888,
              "#fdca26"
             ],
             [
              1,
              "#f0f921"
             ]
            ],
            "type": "surface"
           }
          ],
          "table": [
           {
            "cells": {
             "fill": {
              "color": "#EBF0F8"
             },
             "line": {
              "color": "white"
             }
            },
            "header": {
             "fill": {
              "color": "#C8D4E3"
             },
             "line": {
              "color": "white"
             }
            },
            "type": "table"
           }
          ]
         },
         "layout": {
          "annotationdefaults": {
           "arrowcolor": "#2a3f5f",
           "arrowhead": 0,
           "arrowwidth": 1
          },
          "autotypenumbers": "strict",
          "coloraxis": {
           "colorbar": {
            "outlinewidth": 0,
            "ticks": ""
           }
          },
          "colorscale": {
           "diverging": [
            [
             0,
             "#8e0152"
            ],
            [
             0.1,
             "#c51b7d"
            ],
            [
             0.2,
             "#de77ae"
            ],
            [
             0.3,
             "#f1b6da"
            ],
            [
             0.4,
             "#fde0ef"
            ],
            [
             0.5,
             "#f7f7f7"
            ],
            [
             0.6,
             "#e6f5d0"
            ],
            [
             0.7,
             "#b8e186"
            ],
            [
             0.8,
             "#7fbc41"
            ],
            [
             0.9,
             "#4d9221"
            ],
            [
             1,
             "#276419"
            ]
           ],
           "sequential": [
            [
             0,
             "#0d0887"
            ],
            [
             0.1111111111111111,
             "#46039f"
            ],
            [
             0.2222222222222222,
             "#7201a8"
            ],
            [
             0.3333333333333333,
             "#9c179e"
            ],
            [
             0.4444444444444444,
             "#bd3786"
            ],
            [
             0.5555555555555556,
             "#d8576b"
            ],
            [
             0.6666666666666666,
             "#ed7953"
            ],
            [
             0.7777777777777778,
             "#fb9f3a"
            ],
            [
             0.8888888888888888,
             "#fdca26"
            ],
            [
             1,
             "#f0f921"
            ]
           ],
           "sequentialminus": [
            [
             0,
             "#0d0887"
            ],
            [
             0.1111111111111111,
             "#46039f"
            ],
            [
             0.2222222222222222,
             "#7201a8"
            ],
            [
             0.3333333333333333,
             "#9c179e"
            ],
            [
             0.4444444444444444,
             "#bd3786"
            ],
            [
             0.5555555555555556,
             "#d8576b"
            ],
            [
             0.6666666666666666,
             "#ed7953"
            ],
            [
             0.7777777777777778,
             "#fb9f3a"
            ],
            [
             0.8888888888888888,
             "#fdca26"
            ],
            [
             1,
             "#f0f921"
            ]
           ]
          },
          "colorway": [
           "#636efa",
           "#EF553B",
           "#00cc96",
           "#ab63fa",
           "#FFA15A",
           "#19d3f3",
           "#FF6692",
           "#B6E880",
           "#FF97FF",
           "#FECB52"
          ],
          "font": {
           "color": "#2a3f5f"
          },
          "geo": {
           "bgcolor": "white",
           "lakecolor": "white",
           "landcolor": "#E5ECF6",
           "showlakes": true,
           "showland": true,
           "subunitcolor": "white"
          },
          "hoverlabel": {
           "align": "left"
          },
          "hovermode": "closest",
          "mapbox": {
           "style": "light"
          },
          "paper_bgcolor": "white",
          "plot_bgcolor": "#E5ECF6",
          "polar": {
           "angularaxis": {
            "gridcolor": "white",
            "linecolor": "white",
            "ticks": ""
           },
           "bgcolor": "#E5ECF6",
           "radialaxis": {
            "gridcolor": "white",
            "linecolor": "white",
            "ticks": ""
           }
          },
          "scene": {
           "xaxis": {
            "backgroundcolor": "#E5ECF6",
            "gridcolor": "white",
            "gridwidth": 2,
            "linecolor": "white",
            "showbackground": true,
            "ticks": "",
            "zerolinecolor": "white"
           },
           "yaxis": {
            "backgroundcolor": "#E5ECF6",
            "gridcolor": "white",
            "gridwidth": 2,
            "linecolor": "white",
            "showbackground": true,
            "ticks": "",
            "zerolinecolor": "white"
           },
           "zaxis": {
            "backgroundcolor": "#E5ECF6",
            "gridcolor": "white",
            "gridwidth": 2,
            "linecolor": "white",
            "showbackground": true,
            "ticks": "",
            "zerolinecolor": "white"
           }
          },
          "shapedefaults": {
           "line": {
            "color": "#2a3f5f"
           }
          },
          "ternary": {
           "aaxis": {
            "gridcolor": "white",
            "linecolor": "white",
            "ticks": ""
           },
           "baxis": {
            "gridcolor": "white",
            "linecolor": "white",
            "ticks": ""
           },
           "bgcolor": "#E5ECF6",
           "caxis": {
            "gridcolor": "white",
            "linecolor": "white",
            "ticks": ""
           }
          },
          "title": {
           "x": 0.05
          },
          "xaxis": {
           "automargin": true,
           "gridcolor": "white",
           "linecolor": "white",
           "ticks": "",
           "title": {
            "standoff": 15
           },
           "zerolinecolor": "white",
           "zerolinewidth": 2
          },
          "yaxis": {
           "automargin": true,
           "gridcolor": "white",
           "linecolor": "white",
           "ticks": "",
           "title": {
            "standoff": 15
           },
           "zerolinecolor": "white",
           "zerolinewidth": 2
          }
         }
        },
        "xaxis": {
         "anchor": "y",
         "domain": [
          0,
          1
         ],
         "title": {
          "text": ""
         }
        },
        "yaxis": {
         "anchor": "x",
         "domain": [
          0,
          1
         ],
         "ticksuffix": " €",
         "title": {
          "text": ""
         }
        }
       }
      }
     },
     "metadata": {},
     "output_type": "display_data"
    }
   ],
   "source": [
    "df_ram = df.sort(pl.col(\"ram\")).with_columns(\n",
    "    pl.format(\"{} Go\", pl.col(\"ram\").cast(pl.Int64)).alias(\"ram_fmt\")\n",
    ")\n",
    "\n",
    "fig_ram = px.box(df_ram, x=\"ram_fmt\", y=\"price\", points=\"all\")\n",
    "fig_ram.update_layout(yaxis=dict(title=\"\", ticksuffix=\" €\"), xaxis=dict(title=\"\"))\n",
    "fig_ram.update_traces(\n",
    "    boxpoints=\"all\",\n",
    "    hovertemplate=\"<b>Prix :</b> %{y}<br>\" \"<b>RAM :</b> %{x}<br>\",\n",
    ")\n",
    "\n",
    "fig_ram"
   ]
  },
  {
   "cell_type": "code",
   "execution_count": 1,
   "metadata": {},
   "outputs": [
    {
     "ename": "NameError",
     "evalue": "name 'df' is not defined",
     "output_type": "error",
     "traceback": [
      "\u001b[1;31m---------------------------------------------------------------------------\u001b[0m",
      "\u001b[1;31mNameError\u001b[0m                                 Traceback (most recent call last)",
      "Cell \u001b[1;32mIn [1], line 1\u001b[0m\n\u001b[1;32m----> 1\u001b[0m \u001b[43mdf\u001b[49m\u001b[38;5;241m.\u001b[39mselect(pl\u001b[38;5;241m.\u001b[39mcorr(\u001b[38;5;124m\"\u001b[39m\u001b[38;5;124mram\u001b[39m\u001b[38;5;124m\"\u001b[39m, \u001b[38;5;124m\"\u001b[39m\u001b[38;5;124mstorage\u001b[39m\u001b[38;5;124m\"\u001b[39m))\n",
      "\u001b[1;31mNameError\u001b[0m: name 'df' is not defined"
     ]
    }
   ],
   "source": [
    "df.select(pl.corr(\"ram\", \"storage\"))"
   ]
  },
  {
   "cell_type": "code",
   "execution_count": 78,
   "metadata": {},
   "outputs": [],
   "source": [
    "fig_ram = px.box(df_ram, x=\"ram_fmt\", y=\"price\", points=\"all\")"
   ]
  },
  {
   "cell_type": "code",
   "execution_count": 77,
   "metadata": {},
   "outputs": [
    {
     "name": "stdout",
     "output_type": "stream",
     "text": [
      "box\n"
     ]
    }
   ],
   "source": [
    "for trace in fig_ram.data:\n",
    "    print(trace.type)"
   ]
  },
  {
   "cell_type": "code",
   "execution_count": 8,
   "metadata": {},
   "outputs": [],
   "source": [
    "import datetime"
   ]
  },
  {
   "cell_type": "code",
   "execution_count": 12,
   "metadata": {},
   "outputs": [],
   "source": [
    "current_year = datetime.date.today().year"
   ]
  },
  {
   "cell_type": "code",
   "execution_count": 27,
   "metadata": {},
   "outputs": [],
   "source": [
    "df_mean_price = df.group_by(\"brand\").agg(pl.col(\"price\").mean().round(2)).sort(\"price\")\n",
    "df_mean_price = df_mean_price.with_columns(\n",
    "    pl.format(\"{} €\", pl.col(\"price\")).alias(\"price_str\")\n",
    ")\n",
    "\n",
    "least_expensive_brand = (\n",
    "        df_mean_price.filter(pl.col(\"price\") == pl.col(\"price\").min())\n",
    "        .select(\"brand\")\n",
    "        .item()\n",
    ")"
   ]
  },
  {
   "cell_type": "code",
   "execution_count": 29,
   "metadata": {},
   "outputs": [
    {
     "data": {
      "text/plain": [
       "'XIAOMI'"
      ]
     },
     "execution_count": 29,
     "metadata": {},
     "output_type": "execute_result"
    }
   ],
   "source": [
    "df_mean_price.filter(pl.col(\"price\") == pl.col(\"price\").min()).select(\"brand\").item()"
   ]
  },
  {
   "cell_type": "code",
   "execution_count": 30,
   "metadata": {},
   "outputs": [],
   "source": [
    "def item_getter(\n",
    "    df_mean_price: pl.DataFrame, column: str, min: bool = True\n",
    ") -> str | float:\n",
    "    if min:\n",
    "        item = (\n",
    "            df_mean_price.filter(pl.col(\"price\") == pl.col(\"price\").min())\n",
    "            .select(column)\n",
    "            .item()\n",
    "        )\n",
    "    if not min:\n",
    "        item = (\n",
    "            df_mean_price.filter(pl.col(\"price\") == pl.col(\"price\").max())\n",
    "            .select(column)\n",
    "            .item()\n",
    "        )\n",
    "    return item"
   ]
  },
  {
   "cell_type": "code",
   "execution_count": 35,
   "metadata": {},
   "outputs": [
    {
     "data": {
      "text/html": [
       "<div><style>\n",
       ".dataframe > thead > tr > th,\n",
       ".dataframe > tbody > tr > td {\n",
       "  text-align: right;\n",
       "  white-space: pre-wrap;\n",
       "}\n",
       "</style>\n",
       "<small>shape: (432, 45)</small><table border=\"1\" class=\"dataframe\"><thead><tr><th>brand</th><th>screen_size</th><th>made_in</th><th>storage</th><th>ram</th><th>thickness</th><th>screen_type</th><th>reviews</th><th>image</th><th>cpu</th><th>network</th><th>model</th><th>cam_1</th><th>cam_2</th><th>cam_3</th><th>width</th><th>usb_type_c</th><th>das_chest</th><th>height</th><th>repairability_index</th><th>battery</th><th>net_weight</th><th>sensor</th><th>price</th><th>stars</th><th>resolution_1</th><th>resolution_2</th><th>scraping_time</th><th>das_head</th><th>upgrade_storage</th><th>das_limbs</th><th>fast_charging</th><th>screen_tech</th><th>color</th><th>diagonal_pixels</th><th>logprice</th><th>induction</th><th>ppi</th><th>flag</th><th>resolution</th><th>mpx_backward_cam</th><th>random_col</th><th>efficiency</th><th>prediction_sfa</th><th>prediction_loghedonic</th></tr><tr><td>str</td><td>f64</td><td>str</td><td>f64</td><td>f64</td><td>f64</td><td>str</td><td>f64</td><td>str</td><td>str</td><td>str</td><td>str</td><td>f64</td><td>f64</td><td>f64</td><td>f64</td><td>bool</td><td>f64</td><td>f64</td><td>f64</td><td>f64</td><td>f64</td><td>f64</td><td>f64</td><td>f64</td><td>f64</td><td>f64</td><td>datetime[μs, UTC]</td><td>f64</td><td>bool</td><td>f64</td><td>bool</td><td>str</td><td>str</td><td>f64</td><td>f64</td><td>bool</td><td>f64</td><td>str</td><td>str</td><td>f64</td><td>f64</td><td>f64</td><td>f64</td><td>f64</td></tr></thead><tbody><tr><td>&quot;XIAOMI&quot;</td><td>6.6</td><td>&quot;Chine&quot;</td><td>128.0</td><td>4.0</td><td>165.9</td><td>&quot;Plat&quot;</td><td>0.0</td><td>&quot;https://boulan…</td><td>&quot;8 coeurs jusqu…</td><td>&quot;5G&quot;</td><td>&quot;XIAOMI Redmi N…</td><td>48.0</td><td>8.0</td><td>2.0</td><td>76.2</td><td>false</td><td>0.911</td><td>8.0</td><td>7.6</td><td>5000.0</td><td>189.0</td><td>3.0</td><td>209.0</td><td>0.0</td><td>2400.0</td><td>1080.0</td><td>2024-02-16 14:08:01.432258 UTC</td><td>0.68</td><td>true</td><td>2.395</td><td>true</td><td>&quot;AMOLED (rigide…</td><td>&quot;Bleu&quot;</td><td>2631.805464</td><td>5.342334</td><td>false</td><td>398.758404</td><td>&quot;🇨🇳&quot;</td><td>&quot;2400 x 1080&quot;</td><td>58.0</td><td>902.0</td><td>0.824179</td><td>158.707056</td><td>188.236929</td></tr><tr><td>&quot;APPLE&quot;</td><td>6.7</td><td>&quot;Chine&quot;</td><td>256.0</td><td>4.0</td><td>7.8</td><td>&quot;Plat&quot;</td><td>5.0</td><td>&quot;https://boulan…</td><td>&quot;Puce A15&quot;</td><td>&quot;5G&quot;</td><td>&quot;iPhone 14 Plus…</td><td>12.0</td><td>12.0</td><td>0.0</td><td>78.1</td><td>false</td><td>0.99</td><td>160.8</td><td>6.9</td><td>4323.0</td><td>203.0</td><td>2.0</td><td>989.0</td><td>5.0</td><td>2778.0</td><td>1284.0</td><td>2024-02-16 14:08:01.558467 UTC</td><td>0.99</td><td>false</td><td>3.0</td><td>true</td><td>&quot;Super Retina X…</td><td>&quot;Bleu&quot;</td><td>3060.382329</td><td>6.896694</td><td>true</td><td>456.773482</td><td>&quot;🇨🇳&quot;</td><td>&quot;2778 x 1284&quot;</td><td>24.0</td><td>-624.0</td><td>0.840229</td><td>789.332585</td><td>931.2089</td></tr><tr><td>&quot;MOTOROLA&quot;</td><td>6.6</td><td>&quot;Chine&quot;</td><td>128.0</td><td>4.0</td><td>8.0</td><td>&quot;Plat&quot;</td><td>0.0</td><td>&quot;https://boulan…</td><td>&quot;8 coeurs jusqu…</td><td>&quot;4G&quot;</td><td>&quot;MOTOROLA G24&quot;</td><td>50.0</td><td>2.0</td><td>0.0</td><td>74.5</td><td>false</td><td>1.49</td><td>163.5</td><td>8.1</td><td>5000.0</td><td>181.0</td><td>2.0</td><td>149.0</td><td>0.0</td><td>1612.0</td><td>720.0</td><td>2024-02-16 14:08:01.672832 UTC</td><td>0.62</td><td>true</td><td>3.15</td><td>true</td><td>&quot;LCD&quot;</td><td>&quot;Noir&quot;</td><td>1765.486902</td><td>5.003946</td><td>false</td><td>267.498015</td><td>&quot;🇨🇳&quot;</td><td>&quot;1612 x 720&quot;</td><td>52.0</td><td>-130.0</td><td>0.800043</td><td>105.642276</td><td>129.922165</td></tr><tr><td>&quot;SAMSUNG&quot;</td><td>6.7</td><td>&quot;Viêt Nam&quot;</td><td>256.0</td><td>8.0</td><td>6.9</td><td>&quot;Pliable&quot;</td><td>14.0</td><td>&quot;https://boulan…</td><td>&quot;8 coeurs jusqu…</td><td>&quot;5G&quot;</td><td>&quot;Samsung Galaxy…</td><td>12.0</td><td>12.0</td><td>0.0</td><td>71.9</td><td>true</td><td>1.451</td><td>165.1</td><td>8.0</td><td>3700.0</td><td>187.0</td><td>2.0</td><td>783.9</td><td>4.5</td><td>2160.0</td><td>1080.0</td><td>2024-02-16 14:08:01.917605 UTC</td><td>0.601</td><td>false</td><td>2.34</td><td>true</td><td>&quot;Dynamic AMOLED…</td><td>&quot;Beige&quot;</td><td>2414.953416</td><td>6.664281</td><td>true</td><td>360.440808</td><td>&quot;🇻🇳&quot;</td><td>&quot;2160 x 1080&quot;</td><td>24.0</td><td>-203.0</td><td>0.923127</td><td>930.955174</td><td>1125.094901</td></tr><tr><td>&quot;APPLE&quot;</td><td>6.1</td><td>&quot;Chine&quot;</td><td>256.0</td><td>4.0</td><td>7.4</td><td>&quot;Plat&quot;</td><td>13.0</td><td>&quot;https://boulan…</td><td>&quot;Puce A15&quot;</td><td>&quot;5G&quot;</td><td>&quot;iPhone 13&quot;</td><td>12.0</td><td>12.0</td><td>0.0</td><td>71.5</td><td>false</td><td>0.99</td><td>146.7</td><td>6.0</td><td>2815.0</td><td>173.0</td><td>2.0</td><td>551.73</td><td>4.6154</td><td>2532.0</td><td>1170.0</td><td>2024-02-16 14:08:02.045242 UTC</td><td>0.99</td><td>false</td><td>3.8</td><td>true</td><td>&quot;Super Retina X…</td><td>&quot;Noir&quot;</td><td>2789.251513</td><td>6.313059</td><td>true</td><td>457.254346</td><td>&quot;🇨🇳&quot;</td><td>&quot;2532 x 1170&quot;</td><td>24.0</td><td>-665.0</td><td>0.922296</td><td>650.947508</td><td>781.5681</td></tr><tr><td>&quot;SAMSUNG&quot;</td><td>6.8</td><td>&quot;Viêt Nam&quot;</td><td>1000.0</td><td>12.0</td><td>28.0</td><td>&quot;Plat&quot;</td><td>1.0</td><td>&quot;https://boulan…</td><td>&quot;8 coeurs jusqu…</td><td>&quot;5G&quot;</td><td>&quot;Samsung Galaxy…</td><td>200.0</td><td>12.0</td><td>10.0</td><td>95.0</td><td>true</td><td>1.3</td><td>182.0</td><td>8.5</td><td>5000.0</td><td>233.0</td><td>4.0</td><td>1829.0</td><td>5.0</td><td>3120.0</td><td>1440.0</td><td>2024-02-16 14:08:02.126359 UTC</td><td>1.056</td><td>false</td><td>2.4</td><td>true</td><td>&quot;Dynamic AMOLED…</td><td>&quot;Noir&quot;</td><td>3436.277055</td><td>7.511525</td><td>true</td><td>505.334861</td><td>&quot;🇻🇳&quot;</td><td>&quot;3120 x 1440&quot;</td><td>222.0</td><td>980.0</td><td>0.86063</td><td>1566.12837</td><td>1845.806374</td></tr><tr><td>&quot;APPLE&quot;</td><td>6.7</td><td>&quot;Chine&quot;</td><td>256.0</td><td>6.0</td><td>7.8</td><td>&quot;Plat&quot;</td><td>2.0</td><td>&quot;https://boulan…</td><td>&quot;Puce A16 Bioni…</td><td>&quot;5G&quot;</td><td>&quot;iPhone 15 Plus…</td><td>48.0</td><td>12.0</td><td>0.0</td><td>77.8</td><td>true</td><td>0.98</td><td>160.9</td><td>7.5</td><td>4912.0</td><td>201.0</td><td>2.0</td><td>1149.03</td><td>5.0</td><td>2796.0</td><td>1290.0</td><td>2024-02-16 14:08:02.238786 UTC</td><td>0.98</td><td>false</td><td>2.98</td><td>true</td><td>&quot;OLED&quot;</td><td>&quot;Noir&quot;</td><td>3079.239517</td><td>7.046673</td><td>true</td><td>459.587988</td><td>&quot;🇨🇳&quot;</td><td>&quot;2796 x 1290&quot;</td><td>60.0</td><td>585.0</td><td>0.844519</td><td>930.025912</td><td>1097.387336</td></tr><tr><td>&quot;SAMSUNG&quot;</td><td>6.5</td><td>&quot;Viêt Nam&quot;</td><td>128.0</td><td>4.0</td><td>8.4</td><td>&quot;Plat&quot;</td><td>0.0</td><td>&quot;https://boulan…</td><td>&quot;8 coeurs jusqu…</td><td>&quot;5G&quot;</td><td>&quot;Samsung Galaxy…</td><td>50.0</td><td>5.0</td><td>2.0</td><td>76.8</td><td>true</td><td>1.461</td><td>160.1</td><td>8.4</td><td>5000.0</td><td>200.0</td><td>3.0</td><td>249.0</td><td>0.0</td><td>1080.0</td><td>2340.0</td><td>2024-02-16 14:08:03.408844 UTC</td><td>0.796</td><td>true</td><td>2.12</td><td>true</td><td>&quot;Super AMOLED (…</td><td>&quot;Bleu&quot;</td><td>2577.207791</td><td>5.517453</td><td>false</td><td>396.493506</td><td>&quot;🇻🇳&quot;</td><td>&quot;1080 x 2340&quot;</td><td>57.0</td><td>-259.0</td><td>0.912614</td><td>274.043592</td><td>322.937347</td></tr><tr><td>&quot;XIAOMI&quot;</td><td>6.6</td><td>&quot;Chine&quot;</td><td>128.0</td><td>6.0</td><td>8.1</td><td>&quot;Plat&quot;</td><td>184.0</td><td>&quot;https://boulan…</td><td>&quot;8 coeurs jusqu…</td><td>&quot;4G&quot;</td><td>&quot;XIAOMI Redmi N…</td><td>108.0</td><td>8.0</td><td>5.0</td><td>76.5</td><td>true</td><td>0.994</td><td>164.0</td><td>7.2</td><td>5020.0</td><td>193.0</td><td>4.0</td><td>259.21</td><td>4.2554</td><td>2340.0</td><td>1080.0</td><td>2024-02-16 14:08:03.545814 UTC</td><td>0.597</td><td>true</td><td>1.972</td><td>true</td><td>&quot;AMOLED (OLED)&quot;</td><td>&quot;Bronze&quot;</td><td>2577.207791</td><td>5.557639</td><td>false</td><td>390.486029</td><td>&quot;🇨🇳&quot;</td><td>&quot;2340 x 1080&quot;</td><td>121.0</td><td>851.0</td><td>0.742809</td><td>158.737414</td><td>187.671722</td></tr><tr><td>&quot;SAMSUNG&quot;</td><td>6.5</td><td>&quot;Viêt Nam&quot;</td><td>128.0</td><td>4.0</td><td>8.4</td><td>&quot;Plat&quot;</td><td>0.0</td><td>&quot;https://boulan…</td><td>&quot;8 coeurs jusqu…</td><td>&quot;4G&quot;</td><td>&quot;Samsung Galaxy…</td><td>50.0</td><td>5.0</td><td>2.0</td><td>76.8</td><td>true</td><td>1.29</td><td>160.0</td><td>8.3</td><td>5000.0</td><td>200.0</td><td>3.0</td><td>219.0</td><td>0.0</td><td>1080.0</td><td>2340.0</td><td>2024-02-16 14:08:03.660888 UTC</td><td>0.42</td><td>true</td><td>2.34</td><td>true</td><td>&quot;Super AMOLED (…</td><td>&quot;Vert&quot;</td><td>2577.207791</td><td>5.389072</td><td>false</td><td>396.493506</td><td>&quot;🇻🇳&quot;</td><td>&quot;1080 x 2340&quot;</td><td>57.0</td><td>-39.0</td><td>0.890065</td><td>212.263549</td><td>252.355461</td></tr><tr><td>&quot;APPLE&quot;</td><td>6.7</td><td>&quot;Chine&quot;</td><td>512.0</td><td>8.0</td><td>8.2</td><td>&quot;Plat&quot;</td><td>7.0</td><td>&quot;https://boulan…</td><td>&quot;Puce A17 Pro&quot;</td><td>&quot;5G&quot;</td><td>&quot;iPhone 15 Pro …</td><td>48.0</td><td>12.0</td><td>12.0</td><td>76.7</td><td>false</td><td>0.98</td><td>159.9</td><td>7.7</td><td>4852.0</td><td>221.0</td><td>3.0</td><td>1669.0</td><td>4.1429</td><td>2796.0</td><td>1290.0</td><td>2024-02-16 14:08:03.772683 UTC</td><td>0.98</td><td>false</td><td>2.98</td><td>true</td><td>&quot;Super Retina X…</td><td>&quot;Gris&quot;</td><td>3079.239517</td><td>7.41998</td><td>true</td><td>459.587988</td><td>&quot;🇨🇳&quot;</td><td>&quot;2796 x 1290&quot;</td><td>72.0</td><td>-399.0</td><td>0.826962</td><td>1278.002371</td><td>1498.875191</td></tr><tr><td>&quot;SAMSUNG&quot;</td><td>6.7</td><td>&quot;Viêt Nam&quot;</td><td>512.0</td><td>8.0</td><td>6.9</td><td>&quot;Pliable&quot;</td><td>7.0</td><td>&quot;https://boulan…</td><td>&quot;8 coeurs jusqu…</td><td>&quot;5G&quot;</td><td>&quot;Samsung Galaxy…</td><td>12.0</td><td>12.0</td><td>0.0</td><td>71.9</td><td>true</td><td>1.451</td><td>165.1</td><td>8.0</td><td>3700.0</td><td>187.0</td><td>2.0</td><td>1239.0</td><td>4.5714</td><td>2640.0</td><td>1080.0</td><td>2024-02-16 14:08:04.044648 UTC</td><td>0.601</td><td>false</td><td>2.34</td><td>true</td><td>&quot;Dynamic AMOLED…</td><td>&quot;Violet&quot;</td><td>2852.367438</td><td>7.12206</td><td>true</td><td>425.726483</td><td>&quot;🇻🇳&quot;</td><td>&quot;2640 x 1080&quot;</td><td>24.0</td><td>838.0</td><td>0.885865</td><td>1177.188448</td><td>1414.076721</td></tr><tr><td>&hellip;</td><td>&hellip;</td><td>&hellip;</td><td>&hellip;</td><td>&hellip;</td><td>&hellip;</td><td>&hellip;</td><td>&hellip;</td><td>&hellip;</td><td>&hellip;</td><td>&hellip;</td><td>&hellip;</td><td>&hellip;</td><td>&hellip;</td><td>&hellip;</td><td>&hellip;</td><td>&hellip;</td><td>&hellip;</td><td>&hellip;</td><td>&hellip;</td><td>&hellip;</td><td>&hellip;</td><td>&hellip;</td><td>&hellip;</td><td>&hellip;</td><td>&hellip;</td><td>&hellip;</td><td>&hellip;</td><td>&hellip;</td><td>&hellip;</td><td>&hellip;</td><td>&hellip;</td><td>&hellip;</td><td>&hellip;</td><td>&hellip;</td><td>&hellip;</td><td>&hellip;</td><td>&hellip;</td><td>&hellip;</td><td>&hellip;</td><td>&hellip;</td><td>&hellip;</td><td>&hellip;</td><td>&hellip;</td><td>&hellip;</td></tr><tr><td>&quot;APPLE&quot;</td><td>6.7</td><td>&quot;Chine&quot;</td><td>512.0</td><td>8.0</td><td>8.2</td><td>&quot;Plat&quot;</td><td>7.0</td><td>&quot;https://boulan…</td><td>&quot;Puce A17 Pro&quot;</td><td>&quot;5G&quot;</td><td>&quot;iPhone 15 Pro …</td><td>48.0</td><td>12.0</td><td>12.0</td><td>76.7</td><td>false</td><td>0.98</td><td>159.9</td><td>7.7</td><td>4852.0</td><td>221.0</td><td>3.0</td><td>1669.0</td><td>4.1429</td><td>2796.0</td><td>1290.0</td><td>2024-02-16 14:09:14.042858 UTC</td><td>0.98</td><td>false</td><td>2.98</td><td>true</td><td>&quot;Super Retina X…</td><td>&quot;Blanc&quot;</td><td>3079.239517</td><td>7.41998</td><td>true</td><td>459.587988</td><td>&quot;🇨🇳&quot;</td><td>&quot;2796 x 1290&quot;</td><td>72.0</td><td>-850.0</td><td>0.826962</td><td>1278.002371</td><td>1498.875191</td></tr><tr><td>&quot;SAMSUNG&quot;</td><td>6.8</td><td>&quot;Viêt Nam&quot;</td><td>256.0</td><td>12.0</td><td>8.9</td><td>&quot;Borderless&quot;</td><td>23.0</td><td>&quot;https://boulan…</td><td>&quot;Exynos 2200&quot;</td><td>&quot;5G&quot;</td><td>&quot;Samsung Galaxy…</td><td>108.0</td><td>12.0</td><td>10.0</td><td>77.9</td><td>true</td><td>1.59</td><td>163.3</td><td>8.2</td><td>5000.0</td><td>228.0</td><td>4.0</td><td>893.9</td><td>4.8261</td><td>3088.0</td><td>1440.0</td><td>2024-02-16 14:09:14.142561 UTC</td><td>1.05</td><td>false</td><td>3.18</td><td>true</td><td>&quot;Dynamic AMOLED…</td><td>&quot;Blanc&quot;</td><td>3407.248743</td><td>6.795594</td><td>true</td><td>501.065992</td><td>&quot;🇻🇳&quot;</td><td>&quot;3088 x 1440&quot;</td><td>130.0</td><td>880.0</td><td>0.900023</td><td>912.093448</td><td>1125.260928</td></tr><tr><td>&quot;XIAOMI&quot;</td><td>6.6</td><td>&quot;Chine&quot;</td><td>128.0</td><td>8.0</td><td>8.8</td><td>&quot;Plat&quot;</td><td>23.0</td><td>&quot;https://boulan…</td><td>&quot;MediaTek Dimen…</td><td>&quot;5G&quot;</td><td>&quot;Xiaomi 11T&quot;</td><td>108.0</td><td>8.0</td><td>5.0</td><td>76.8</td><td>true</td><td>0.954</td><td>164.1</td><td>7.3</td><td>5000.0</td><td>203.0</td><td>3.0</td><td>343.71</td><td>4.0</td><td>2400.0</td><td>1080.0</td><td>2024-02-16 14:09:14.488515 UTC</td><td>0.554</td><td>false</td><td>1.93</td><td>true</td><td>&quot;AMOLED (OLED)&quot;</td><td>&quot;Gris&quot;</td><td>2631.805464</td><td>5.839798</td><td>false</td><td>398.758404</td><td>&quot;🇨🇳&quot;</td><td>&quot;2400 x 1080&quot;</td><td>121.0</td><td>149.0</td><td>0.864865</td><td>299.028993</td><td>357.814525</td></tr><tr><td>&quot;XIAOMI&quot;</td><td>6.5</td><td>&quot;Chine&quot;</td><td>128.0</td><td>4.0</td><td>8.9</td><td>&quot;Plat&quot;</td><td>8.0</td><td>&quot;https://boulan…</td><td>&quot;8 coeurs jusqu…</td><td>&quot;4G&quot;</td><td>&quot;Xiaomi Redmi 1…</td><td>50.0</td><td>8.0</td><td>2.0</td><td>75.5</td><td>true</td><td>0.944</td><td>162.0</td><td>7.9</td><td>5000.0</td><td>181.0</td><td>4.0</td><td>153.3</td><td>4.125</td><td>2400.0</td><td>1080.0</td><td>2024-02-16 14:09:14.608973 UTC</td><td>0.581</td><td>true</td><td>1.977</td><td>true</td><td>&quot;FHD+&quot;</td><td>&quot;Bleu&quot;</td><td>2631.805464</td><td>5.032397</td><td>false</td><td>404.893148</td><td>&quot;🇨🇳&quot;</td><td>&quot;2400 x 1080&quot;</td><td>60.0</td><td>64.0</td><td>0.868177</td><td>135.091867</td><td>159.604802</td></tr><tr><td>&quot;APPLE&quot;</td><td>6.1</td><td>&quot;Chine&quot;</td><td>256.0</td><td>8.0</td><td>8.2</td><td>&quot;Plat&quot;</td><td>20.0</td><td>&quot;https://boulan…</td><td>&quot;Puce A17 Pro&quot;</td><td>&quot;5G&quot;</td><td>&quot;iPhone 15 Pro&quot;</td><td>48.0</td><td>12.0</td><td>12.0</td><td>70.6</td><td>false</td><td>0.96</td><td>146.6</td><td>7.6</td><td>3650.0</td><td>187.0</td><td>3.0</td><td>1299.0</td><td>4.7</td><td>2556.0</td><td>1179.0</td><td>2024-02-16 14:09:14.721799 UTC</td><td>0.98</td><td>false</td><td>2.99</td><td>true</td><td>&quot;Super Retina X…</td><td>&quot;Gris&quot;</td><td>2814.813848</td><td>7.16935</td><td>true</td><td>461.444893</td><td>&quot;🇨🇳&quot;</td><td>&quot;2556 x 1179&quot;</td><td>72.0</td><td>-436.0</td><td>0.828902</td><td>1000.555495</td><td>1181.313969</td></tr><tr><td>&quot;APPLE&quot;</td><td>6.1</td><td>&quot;Chine&quot;</td><td>512.0</td><td>8.0</td><td>8.2</td><td>&quot;Plat&quot;</td><td>2.0</td><td>&quot;https://boulan…</td><td>&quot;Puce A17 Pro&quot;</td><td>&quot;5G&quot;</td><td>&quot;iPhone 15 Pro&quot;</td><td>48.0</td><td>12.0</td><td>12.0</td><td>70.6</td><td>false</td><td>0.96</td><td>146.6</td><td>7.6</td><td>3650.0</td><td>187.0</td><td>3.0</td><td>1545.0</td><td>5.0</td><td>2556.0</td><td>1179.0</td><td>2024-02-16 14:09:14.833906 UTC</td><td>0.98</td><td>false</td><td>2.99</td><td>true</td><td>&quot;Super Retina X…</td><td>&quot;Gris&quot;</td><td>2814.813848</td><td>7.342779</td><td>true</td><td>461.444893</td><td>&quot;🇨🇳&quot;</td><td>&quot;2556 x 1179&quot;</td><td>72.0</td><td>-250.0</td><td>0.824121</td><td>1173.012053</td><td>1375.65438</td></tr><tr><td>&quot;SAMSUNG&quot;</td><td>6.8</td><td>&quot;Viêt Nam&quot;</td><td>256.0</td><td>12.0</td><td>8.9</td><td>&quot;Borderless&quot;</td><td>23.0</td><td>&quot;https://boulan…</td><td>&quot;Exynos 2200&quot;</td><td>&quot;5G&quot;</td><td>&quot;Samsung Galaxy…</td><td>108.0</td><td>12.0</td><td>10.0</td><td>77.9</td><td>true</td><td>1.59</td><td>163.3</td><td>8.2</td><td>5000.0</td><td>228.0</td><td>4.0</td><td>876.9</td><td>4.8261</td><td>3088.0</td><td>1440.0</td><td>2024-02-16 14:09:15.236378 UTC</td><td>1.05</td><td>false</td><td>3.18</td><td>true</td><td>&quot;Dynamic AMOLED…</td><td>&quot;Noir&quot;</td><td>3407.248743</td><td>6.776393</td><td>true</td><td>501.065992</td><td>&quot;🇻🇳&quot;</td><td>&quot;3088 x 1440&quot;</td><td>130.0</td><td>-258.0</td><td>0.90344</td><td>912.093448</td><td>1125.260928</td></tr><tr><td>&quot;GOOGLE&quot;</td><td>6.2</td><td>&quot;Viêt Nam&quot;</td><td>128.0</td><td>8.0</td><td>90.0</td><td>&quot;Plat&quot;</td><td>12.0</td><td>&quot;https://boulan…</td><td>&quot;Google Tensor …</td><td>&quot;5G&quot;</td><td>&quot;Google Pixel 8…</td><td>50.0</td><td>12.0</td><td>10.0</td><td>71.0</td><td>true</td><td>1.2</td><td>151.0</td><td>8.2</td><td>4500.0</td><td>187.0</td><td>3.0</td><td>729.0</td><td>4.7517</td><td>1080.0</td><td>2400.0</td><td>2024-02-16 14:09:15.360704 UTC</td><td>0.98</td><td>false</td><td>2.49</td><td>true</td><td>&quot;Actua ou OLED …</td><td>&quot;Noir&quot;</td><td>2631.805464</td><td>6.591674</td><td>true</td><td>424.484752</td><td>&quot;🇻🇳&quot;</td><td>&quot;1080 x 2400&quot;</td><td>72.0</td><td>-969.0</td><td>0.784763</td><td>496.233169</td><td>586.886399</td></tr><tr><td>&quot;XIAOMI&quot;</td><td>6.6</td><td>&quot;Chine&quot;</td><td>256.0</td><td>8.0</td><td>161.2</td><td>&quot;Plat&quot;</td><td>0.0</td><td>&quot;https://boulan…</td><td>&quot;8 coeurs jusqu…</td><td>&quot;5G&quot;</td><td>&quot;XIAOMI Redmi n…</td><td>200.0</td><td>8.0</td><td>2.0</td><td>74.2</td><td>false</td><td>0.999</td><td>8.0</td><td>8.2</td><td>5100.0</td><td>187.0</td><td>3.0</td><td>399.0</td><td>0.0</td><td>2712.0</td><td>1220.0</td><td>2024-02-16 14:09:15.482337 UTC</td><td>0.99</td><td>false</td><td>2.587</td><td>true</td><td>&quot;AMOLED&quot;</td><td>&quot;Rose&quot;</td><td>2973.776051</td><td>5.988961</td><td>false</td><td>450.572129</td><td>&quot;🇨🇳&quot;</td><td>&quot;2712 x 1220&quot;</td><td>210.0</td><td>-831.0</td><td>0.835551</td><td>313.727204</td><td>380.210793</td></tr><tr><td>&quot;XIAOMI&quot;</td><td>6.6</td><td>&quot;Chine&quot;</td><td>256.0</td><td>8.0</td><td>161.2</td><td>&quot;Plat&quot;</td><td>0.0</td><td>&quot;https://boulan…</td><td>&quot;8 coeurs jusqu…</td><td>&quot;5G&quot;</td><td>&quot;XIAOMI Redmi n…</td><td>200.0</td><td>8.0</td><td>2.0</td><td>74.2</td><td>false</td><td>0.999</td><td>8.0</td><td>8.2</td><td>5100.0</td><td>187.0</td><td>3.0</td><td>399.0</td><td>0.0</td><td>2712.0</td><td>1220.0</td><td>2024-02-16 14:09:15.951882 UTC</td><td>0.99</td><td>false</td><td>2.587</td><td>true</td><td>&quot;AMOLED&quot;</td><td>&quot;Bleu&quot;</td><td>2973.776051</td><td>5.988961</td><td>false</td><td>450.572129</td><td>&quot;🇨🇳&quot;</td><td>&quot;2712 x 1220&quot;</td><td>210.0</td><td>358.0</td><td>0.835551</td><td>313.727204</td><td>380.210793</td></tr><tr><td>&quot;XIAOMI&quot;</td><td>6.7</td><td>&quot;Chine&quot;</td><td>256.0</td><td>12.0</td><td>8.2</td><td>&quot;Plat&quot;</td><td>8.0</td><td>&quot;https://boulan…</td><td>&quot;8 coeurs jusqu…</td><td>&quot;5G&quot;</td><td>&quot;Xiaomi 12 Pro&quot;</td><td>50.0</td><td>50.0</td><td>50.0</td><td>74.6</td><td>true</td><td>0.998</td><td>163.6</td><td>7.9</td><td>4600.0</td><td>205.0</td><td>3.0</td><td>658.82</td><td>4.125</td><td>3200.0</td><td>1440.0</td><td>2024-02-16 14:09:16.079305 UTC</td><td>0.599</td><td>false</td><td>1.987</td><td>true</td><td>&quot;AMOLED (LTPO)&quot;</td><td>&quot;Bleu&quot;</td><td>3509.073952</td><td>6.49045</td><td>true</td><td>523.742381</td><td>&quot;🇨🇳&quot;</td><td>&quot;3200 x 1440&quot;</td><td>150.0</td><td>700.0</td><td>0.890205</td><td>638.990215</td><td>761.692261</td></tr><tr><td>&quot;XIAOMI&quot;</td><td>6.6</td><td>&quot;Chine&quot;</td><td>256.0</td><td>8.0</td><td>162.9</td><td>&quot;Plat&quot;</td><td>19.0</td><td>&quot;https://boulan…</td><td>&quot;8 coeurs jusqu…</td><td>&quot;5G&quot;</td><td>&quot;XIAOMI Redmi N…</td><td>200.0</td><td>8.0</td><td>2.0</td><td>76.0</td><td>false</td><td>0.998</td><td>9.0</td><td>7.6</td><td>5000.0</td><td>211.0</td><td>3.0</td><td>499.0</td><td>4.2632</td><td>2400.0</td><td>1080.0</td><td>2024-02-16 14:09:16.197253 UTC</td><td>0.997</td><td>false</td><td>2.573</td><td>true</td><td>&quot;AMOLED (rigide…</td><td>&quot;Bleu&quot;</td><td>2631.805464</td><td>6.212606</td><td>false</td><td>398.758404</td><td>&quot;🇨🇳&quot;</td><td>&quot;2400 x 1080&quot;</td><td>210.0</td><td>82.0</td><td>0.729721</td><td>295.948743</td><td>358.369929</td></tr></tbody></table></div>"
      ],
      "text/plain": [
       "shape: (432, 45)\n",
       "┌──────────┬────────────┬──────────┬─────────┬───┬────────────┬────────────┬───────────┬───────────┐\n",
       "│ brand    ┆ screen_siz ┆ made_in  ┆ storage ┆ … ┆ random_col ┆ efficiency ┆ predictio ┆ predictio │\n",
       "│ ---      ┆ e          ┆ ---      ┆ ---     ┆   ┆ ---        ┆ ---        ┆ n_sfa     ┆ n_loghedo │\n",
       "│ str      ┆ ---        ┆ str      ┆ f64     ┆   ┆ f64        ┆ f64        ┆ ---       ┆ nic       │\n",
       "│          ┆ f64        ┆          ┆         ┆   ┆            ┆            ┆ f64       ┆ ---       │\n",
       "│          ┆            ┆          ┆         ┆   ┆            ┆            ┆           ┆ f64       │\n",
       "╞══════════╪════════════╪══════════╪═════════╪═══╪════════════╪════════════╪═══════════╪═══════════╡\n",
       "│ XIAOMI   ┆ 6.6        ┆ Chine    ┆ 128.0   ┆ … ┆ 902.0      ┆ 0.824179   ┆ 158.70705 ┆ 188.23692 │\n",
       "│          ┆            ┆          ┆         ┆   ┆            ┆            ┆ 6         ┆ 9         │\n",
       "│ APPLE    ┆ 6.7        ┆ Chine    ┆ 256.0   ┆ … ┆ -624.0     ┆ 0.840229   ┆ 789.33258 ┆ 931.2089  │\n",
       "│          ┆            ┆          ┆         ┆   ┆            ┆            ┆ 5         ┆           │\n",
       "│ MOTOROLA ┆ 6.6        ┆ Chine    ┆ 128.0   ┆ … ┆ -130.0     ┆ 0.800043   ┆ 105.64227 ┆ 129.92216 │\n",
       "│          ┆            ┆          ┆         ┆   ┆            ┆            ┆ 6         ┆ 5         │\n",
       "│ SAMSUNG  ┆ 6.7        ┆ Viêt Nam ┆ 256.0   ┆ … ┆ -203.0     ┆ 0.923127   ┆ 930.95517 ┆ 1125.0949 │\n",
       "│          ┆            ┆          ┆         ┆   ┆            ┆            ┆ 4         ┆ 01        │\n",
       "│ …        ┆ …          ┆ …        ┆ …       ┆ … ┆ …          ┆ …          ┆ …         ┆ …         │\n",
       "│ XIAOMI   ┆ 6.6        ┆ Chine    ┆ 256.0   ┆ … ┆ -831.0     ┆ 0.835551   ┆ 313.72720 ┆ 380.21079 │\n",
       "│          ┆            ┆          ┆         ┆   ┆            ┆            ┆ 4         ┆ 3         │\n",
       "│ XIAOMI   ┆ 6.6        ┆ Chine    ┆ 256.0   ┆ … ┆ 358.0      ┆ 0.835551   ┆ 313.72720 ┆ 380.21079 │\n",
       "│          ┆            ┆          ┆         ┆   ┆            ┆            ┆ 4         ┆ 3         │\n",
       "│ XIAOMI   ┆ 6.7        ┆ Chine    ┆ 256.0   ┆ … ┆ 700.0      ┆ 0.890205   ┆ 638.99021 ┆ 761.69226 │\n",
       "│          ┆            ┆          ┆         ┆   ┆            ┆            ┆ 5         ┆ 1         │\n",
       "│ XIAOMI   ┆ 6.6        ┆ Chine    ┆ 256.0   ┆ … ┆ 82.0       ┆ 0.729721   ┆ 295.94874 ┆ 358.36992 │\n",
       "│          ┆            ┆          ┆         ┆   ┆            ┆            ┆ 3         ┆ 9         │\n",
       "└──────────┴────────────┴──────────┴─────────┴───┴────────────┴────────────┴───────────┴───────────┘"
      ]
     },
     "execution_count": 35,
     "metadata": {},
     "output_type": "execute_result"
    }
   ],
   "source": [
    "df"
   ]
  },
  {
   "cell_type": "code",
   "execution_count": 40,
   "metadata": {},
   "outputs": [
    {
     "data": {
      "text/html": [
       "<div><style>\n",
       ".dataframe > thead > tr > th,\n",
       ".dataframe > tbody > tr > td {\n",
       "  text-align: right;\n",
       "  white-space: pre-wrap;\n",
       "}\n",
       "</style>\n",
       "<small>shape: (8, 2)</small><table border=\"1\" class=\"dataframe\"><thead><tr><th>brand</th><th>efficiency</th></tr><tr><td>str</td><td>f64</td></tr></thead><tbody><tr><td>&quot;OPPO&quot;</td><td>0.823</td></tr><tr><td>&quot;MOTOROLA&quot;</td><td>0.826</td></tr><tr><td>&quot;HONOR&quot;</td><td>0.827</td></tr><tr><td>&quot;SAMSUNG&quot;</td><td>0.838</td></tr><tr><td>&quot;GOOGLE&quot;</td><td>0.842</td></tr><tr><td>&quot;XIAOMI&quot;</td><td>0.846</td></tr><tr><td>&quot;APPLE&quot;</td><td>0.851</td></tr><tr><td>&quot;SONY&quot;</td><td>0.858</td></tr></tbody></table></div>"
      ],
      "text/plain": [
       "shape: (8, 2)\n",
       "┌──────────┬────────────┐\n",
       "│ brand    ┆ efficiency │\n",
       "│ ---      ┆ ---        │\n",
       "│ str      ┆ f64        │\n",
       "╞══════════╪════════════╡\n",
       "│ OPPO     ┆ 0.823      │\n",
       "│ MOTOROLA ┆ 0.826      │\n",
       "│ HONOR    ┆ 0.827      │\n",
       "│ SAMSUNG  ┆ 0.838      │\n",
       "│ GOOGLE   ┆ 0.842      │\n",
       "│ XIAOMI   ┆ 0.846      │\n",
       "│ APPLE    ┆ 0.851      │\n",
       "│ SONY     ┆ 0.858      │\n",
       "└──────────┴────────────┘"
      ]
     },
     "execution_count": 40,
     "metadata": {},
     "output_type": "execute_result"
    }
   ],
   "source": [
    "df.group_by(\"brand\").agg(pl.col(\"efficiency\").mean().round(3)).sort(\"efficiency\")"
   ]
  },
  {
   "cell_type": "code",
   "execution_count": 92,
   "metadata": {},
   "outputs": [
    {
     "data": {
      "text/plain": [
       "['128 Go', '256 Go', '512 Go']"
      ]
     },
     "execution_count": 92,
     "metadata": {},
     "output_type": "execute_result"
    }
   ],
   "source": [
    "(\n",
    "    df.filter(pl.col(\"model\") == \"Google Pixel 8 Pro\")\n",
    "    .select(pl.col(\"storage\"))\n",
    "    .unique()\n",
    "    .cast(pl.Int64)\n",
    "    .sort(\"storage\")\n",
    "    .to_series()\n",
    "    + \" Go\"\n",
    ").to_list()"
   ]
  },
  {
   "cell_type": "code",
   "execution_count": 98,
   "metadata": {},
   "outputs": [
    {
     "data": {
      "text/plain": [
       "['128 Go', '256 Go', '512 Go']"
      ]
     },
     "execution_count": 98,
     "metadata": {},
     "output_type": "execute_result"
    }
   ],
   "source": [
    "(df.filter(pl.col(\"model\") == \"Google Pixel 8 Pro\").select(pl.col(\"storage\")).unique().cast(pl.Int64).sort(\"storage\").to_series() + \" Go\").to_list()"
   ]
  },
  {
   "cell_type": "code",
   "execution_count": 100,
   "metadata": {},
   "outputs": [],
   "source": [
    "ctx = pl.SQLContext()"
   ]
  },
  {
   "cell_type": "code",
   "execution_count": 157,
   "metadata": {},
   "outputs": [
    {
     "data": {
      "text/plain": [
       "polars.datatypes.classes.DataTypeClass"
      ]
     },
     "execution_count": 157,
     "metadata": {},
     "output_type": "execute_result"
    }
   ],
   "source": [
    "type(df.schema['usb_type_c'])"
   ]
  },
  {
   "cell_type": "markdown",
   "metadata": {},
   "source": [
    "- [x] brand\n",
    "- [x] screen_size\n",
    "- [x] made_in\n",
    "- [x] storage\n",
    "- [x] ram\n",
    "- [x] thickness\n",
    "- [x] screen_type\n",
    "- [x] reviews\n",
    "- [x] image\n",
    "- [x] cpu\n",
    "- [x] network\n",
    "- [x] model\n",
    "- [ ] cam_1\n",
    "- [ ] cam_2\n",
    "- [ ] cam_3\n",
    "- [x] width\n",
    "- [x] usb_type_c\n",
    "- [x] das_chest\n",
    "- [x] height\n",
    "- [ ] repairability_index\n",
    "- [x] battery\n",
    "- [x] net_weight\n",
    "- [ ] sensor\n",
    "- [x] price\n",
    "- [x] stars\n",
    "- [ ] scraping_time\n",
    "- [x] das_head\n",
    "- [ ] upgrade_storage\n",
    "- [x] das_limbs\n",
    "- [x] fast_charging\n",
    "- [x] screen_tech\n",
    "- [x] color\n",
    "- [x] induction\n",
    "- [x] flag\n",
    "- [x] resolution\n",
    "- [x] efficiency\n",
    "- [ ] prediction_sfa\n",
    "- [ ] prediction_loghedonic"
   ]
  }
 ],
 "metadata": {
  "kernelspec": {
   "display_name": "Python 3",
   "language": "python",
   "name": "python3"
  },
  "language_info": {
   "codemirror_mode": {
    "name": "ipython",
    "version": 3
   },
   "file_extension": ".py",
   "mimetype": "text/x-python",
   "name": "python",
   "nbconvert_exporter": "python",
   "pygments_lexer": "ipython3",
   "version": "3.10.6"
  }
 },
 "nbformat": 4,
 "nbformat_minor": 2
}
