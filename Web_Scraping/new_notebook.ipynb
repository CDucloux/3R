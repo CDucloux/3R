{
 "cells": [
  {
   "cell_type": "code",
   "execution_count": 59,
   "metadata": {},
   "outputs": [],
   "source": [
    "from script.scraper_functions import *\n",
    "from script.soupifier import *\n",
    "from serde.json import to_json\n",
    "import numpy as np\n",
    "from itertools import chain\n",
    "from yarl import URL"
   ]
  },
  {
   "cell_type": "markdown",
   "metadata": {},
   "source": [
    "**TODO**:\n",
    "\n",
    "- `ruff` $\\Rightarrow$ linter, à utiliser plus dans le cadre du dvpt\n",
    "- `pytest` avec subprocess.run pour tester le code\n",
    "- `pytest-coverage`\n",
    "- `poetry` avec gestion des dépendances\n",
    "- `black` pour automatiquement indenter, etc.\n",
    "- `doctest` pour tester les exemples des docstrings\n",
    "- `bandit` pour gérer les vulnérabilités\n",
    "\n",
    "***\n",
    "\n",
    "- `yarl` pour travailler avec des URL"
   ]
  },
  {
   "cell_type": "markdown",
   "metadata": {},
   "source": [
    "## Le code ci-dessous lance le `scraper`\n",
    "\n",
    "- Tu peux changer le nombre d'*URL* de **19** à 1 ou 2 pour tester ça prendra beaucoup moins longtemps à générer\n",
    "- Lien [`Darty`](https://www.darty.com/nav/extra/list?seller=311289-0-327183-311290-311291-328771-311452&cat=89054&state=new_offer&persist_sold_by_darty=true) $\\Rightarrow$ en choisissant les produits uniquement vendus par Darty + Neufs on a 567 produits.\n",
    "- Avoir un comparatif Boulanger/Darty pourrait être intéressant\n",
    "- Voir pour récupérer les images des téléphones pour plus tard dans l'appli - voir : https://discuss.streamlit.io/t/add-image-and-header-to-streamlit-dataframe-table/36065/3"
   ]
  },
  {
   "cell_type": "code",
   "execution_count": 60,
   "metadata": {},
   "outputs": [
    {
     "data": {
      "text/plain": [
       "URL('')"
      ]
     },
     "execution_count": 60,
     "metadata": {},
     "output_type": "execute_result"
    }
   ],
   "source": [
    "URL()"
   ]
  },
  {
   "cell_type": "code",
   "execution_count": 61,
   "metadata": {},
   "outputs": [],
   "source": [
    "session = create_session()\n",
    "url_list = create_url_list(URL, 1)\n",
    "pages = read_pages(url_list=url_list, session=session)"
   ]
  },
  {
   "cell_type": "code",
   "execution_count": null,
   "metadata": {},
   "outputs": [
    {
     "data": {
      "text/html": [
       "<pre style=\"white-space:pre;overflow-x:auto;line-height:normal;font-family:Menlo,'DejaVu Sans Mono',consolas,'Courier New',monospace\"><span style=\"font-style: italic\">Elapsed time</span> for <span style=\"color: #800000; text-decoration-color: #800000; font-weight: bold\">extract_all_urls</span> function: <span style=\"color: #008080; text-decoration-color: #008080; font-weight: bold\">0.488</span> seconds.\n",
       "</pre>\n"
      ],
      "text/plain": [
       "\u001b[3mElapsed time\u001b[0m for \u001b[1;31mextract_all_urls\u001b[0m function: \u001b[1;36m0.488\u001b[0m seconds.\n"
      ]
     },
     "metadata": {},
     "output_type": "display_data"
    },
    {
     "name": "stdout",
     "output_type": "stream",
     "text": [
      "--------------------\n",
      "Product 1 -> Successfull Extraction.\n",
      "Product 2 -> Successfull Extraction.\n",
      "Product 3 -> Successfull Extraction.\n",
      "Product 4 -> Successfull Extraction.\n",
      "Product 5 -> Successfull Extraction.\n",
      "Product 6 -> Successfull Extraction.\n",
      "Product 7 -> Successfull Extraction.\n",
      "Product 8 -> Successfull Extraction.\n",
      "Product 9 -> Successfull Extraction.\n",
      "Product 10 -> Successfull Extraction.\n",
      "Product 11 -> Successfull Extraction.\n",
      "Product 12 -> Successfull Extraction.\n",
      "Product 13 -> Successfull Extraction.\n",
      "Product 14 -> Successfull Extraction.\n",
      "Product 15 -> Successfull Extraction.\n",
      "Product 16 -> Successfull Extraction.\n",
      "Product 17 -> Successfull Extraction.\n",
      "Product 18 -> Successfull Extraction.\n",
      "Product 19 -> Successfull Extraction.\n",
      "Product 20 -> Successfull Extraction.\n",
      "Product 21 -> Successfull Extraction.\n",
      "Product 22 -> Successfull Extraction.\n",
      "Product 23 -> Successfull Extraction.\n",
      "Product 24 -> Successfull Extraction.\n",
      "Product 25 -> Successfull Extraction.\n",
      "Product 26 -> Successfull Extraction.\n",
      "Product 27 -> Successfull Extraction.\n",
      "Product 28 -> Successfull Extraction.\n",
      "Product 29 -> Successfull Extraction.\n",
      "Product 30 -> Successfull Extraction.\n"
     ]
    },
    {
     "data": {
      "text/html": [
       "<pre style=\"white-space:pre;overflow-x:auto;line-height:normal;font-family:Menlo,'DejaVu Sans Mono',consolas,'Courier New',monospace\"><span style=\"font-style: italic\">Elapsed time</span> for <span style=\"color: #800000; text-decoration-color: #800000; font-weight: bold\">extract_all_pages</span> function: <span style=\"color: #008080; text-decoration-color: #008080; font-weight: bold\">59.688</span> seconds.\n",
       "</pre>\n"
      ],
      "text/plain": [
       "\u001b[3mElapsed time\u001b[0m for \u001b[1;31mextract_all_pages\u001b[0m function: \u001b[1;36m59.688\u001b[0m seconds.\n"
      ]
     },
     "metadata": {},
     "output_type": "display_data"
    }
   ],
   "source": [
    "all_urls = extract_all_urls(pages)\n",
    "print(\"--------------------\")\n",
    "product_pages = extract_all_pages(all_urls, session)"
   ]
  },
  {
   "cell_type": "markdown",
   "metadata": {},
   "source": [
    "Il faudrait créer une fonction pour la génération de la liste des smartphones + l'export en `json`"
   ]
  },
  {
   "cell_type": "code",
   "execution_count": null,
   "metadata": {},
   "outputs": [],
   "source": [
    "smartphone_list = list()\n",
    "for article in product_pages:\n",
    "    soup = BeautifulSoup(article, \"html.parser\")\n",
    "    dict_features = extract_features(soup)\n",
    "    smartphone = smartphone_characteristics(dict_features)\n",
    "    smartphone_list.append(smartphone)"
   ]
  },
  {
   "cell_type": "code",
   "execution_count": null,
   "metadata": {},
   "outputs": [],
   "source": [
    "smartphones_json = to_json(smartphone_list)"
   ]
  },
  {
   "cell_type": "code",
   "execution_count": null,
   "metadata": {},
   "outputs": [],
   "source": [
    "file_path = \"data/smartphones.json\"\n",
    "\n",
    "with open(file_path, \"w\", encoding=\"utf-8\") as json_file:\n",
    "    json_file.write(smartphones_json)"
   ]
  },
  {
   "cell_type": "markdown",
   "metadata": {},
   "source": [
    "## Charge le Dataframe dans `polars`"
   ]
  },
  {
   "cell_type": "code",
   "execution_count": 1,
   "metadata": {},
   "outputs": [],
   "source": [
    "import polars as pl\n",
    "import polars.selectors as cs\n",
    "from script.polars_gazprom import *"
   ]
  },
  {
   "cell_type": "code",
   "execution_count": 2,
   "metadata": {},
   "outputs": [],
   "source": [
    "df_brut = pl.read_json(\"data/smartphones.json\")"
   ]
  },
  {
   "cell_type": "code",
   "execution_count": null,
   "metadata": {},
   "outputs": [],
   "source": [
    "df_brut.select(pl.all().is_null().sum())"
   ]
  },
  {
   "cell_type": "markdown",
   "metadata": {},
   "source": [
    "### Pipeline"
   ]
  },
  {
   "cell_type": "markdown",
   "metadata": {},
   "source": [
    "Sur `535` extractions, il y a `436` téléphones valides avec les caractéristiques. Pas mal ?\n",
    "\n",
    "Pour obtenir la *PPI* (Pixels per Inch) on fait : \n",
    "\n",
    "$$PPI = \\dfrac{\\text{diagonal\\_pixels}}{\\text{screen\\_size} (inch)}$$"
   ]
  },
  {
   "cell_type": "code",
   "execution_count": 3,
   "metadata": {},
   "outputs": [],
   "source": [
    "df = NordStream(df_brut)"
   ]
  },
  {
   "cell_type": "code",
   "execution_count": 50,
   "metadata": {},
   "outputs": [],
   "source": [
    "#df.select(cs.by_dtype(pl.NUMERIC_DTYPES)).corr()\n",
    "\n",
    "# Matrice de corrélation"
   ]
  },
  {
   "cell_type": "code",
   "execution_count": 6,
   "metadata": {},
   "outputs": [],
   "source": [
    "import statsmodels.formula.api as smf\n",
    "import statsmodels.formula as sm\n",
    "from stargazer.stargazer import Stargazer\n",
    "import numpy as np\n",
    "from dataclasses import dataclass\n",
    "from script.hedonic_regression import *"
   ]
  },
  {
   "cell_type": "code",
   "execution_count": 8,
   "metadata": {},
   "outputs": [
    {
     "data": {
      "text/html": [
       "<div><style>\n",
       ".dataframe > thead > tr > th,\n",
       ".dataframe > tbody > tr > td {\n",
       "  text-align: right;\n",
       "  white-space: pre-wrap;\n",
       "}\n",
       "</style>\n",
       "<small>shape: (429, 35)</small><table border=\"1\" class=\"dataframe\"><thead><tr><th>model</th><th>net_weight</th><th>price</th><th>upgrade_storage</th><th>made_in</th><th>color</th><th>sensor</th><th>width</th><th>brand</th><th>usb_type_c</th><th>repairability_index</th><th>battery</th><th>cpu</th><th>thickness</th><th>screen_size</th><th>das_head</th><th>das_chest</th><th>das_limbs</th><th>height</th><th>stars</th><th>screen_tech</th><th>reviews</th><th>network</th><th>storage</th><th>fast_charging</th><th>screen_type</th><th>ram</th><th>cam_1</th><th>cam_2</th><th>cam_3</th><th>diagonal_pixels</th><th>logprice</th><th>induction</th><th>mpx_backward_cam</th><th>random_col</th></tr><tr><td>str</td><td>f64</td><td>f64</td><td>bool</td><td>str</td><td>str</td><td>str</td><td>f64</td><td>str</td><td>bool</td><td>f64</td><td>i64</td><td>str</td><td>f64</td><td>f64</td><td>f64</td><td>f64</td><td>f64</td><td>f64</td><td>f64</td><td>str</td><td>i64</td><td>str</td><td>i64</td><td>bool</td><td>str</td><td>i64</td><td>f64</td><td>f64</td><td>f64</td><td>f64</td><td>f64</td><td>bool</td><td>f64</td><td>i64</td></tr></thead><tbody><tr><td>&quot;SONY Xperia 5 …</td><td>0.0</td><td>999.0</td><td>true</td><td>&quot;Thaïlande&quot;</td><td>&quot;Argent&quot;</td><td>&quot;3&quot;</td><td>0.7</td><td>&quot;SONY&quot;</td><td>true</td><td>8.5</td><td>5000</td><td>&quot;Qualcomm Snapd…</td><td>0.9</td><td>6.1</td><td>0.95</td><td>1.05</td><td>2.11</td><td>15.4</td><td>0.0</td><td>&quot;OLED FHD+&quot;</td><td>0</td><td>&quot;5G&quot;</td><td>128</td><td>true</td><td>&quot;Plat&quot;</td><td>8</td><td>12.0</td><td>12.0</td><td>12.0</td><td>2741.678318</td><td>6.906755</td><td>true</td><td>36.0</td><td>413</td></tr><tr><td>&quot;Samsung Galaxy…</td><td>167.0</td><td>857.59</td><td>false</td><td>&quot;Viêt Nam&quot;</td><td>&quot;Noir&quot;</td><td>&quot;3&quot;</td><td>87.0</td><td>&quot;SAMSUNG&quot;</td><td>true</td><td>8.2</td><td>3700</td><td>&quot;Exynos 2200&quot;</td><td>0.8</td><td>6.1</td><td>1.21</td><td>1.59</td><td>2.71</td><td>146.0</td><td>4.0</td><td>&quot;Dynamic AMOLED…</td><td>1</td><td>&quot;5G&quot;</td><td>256</td><td>true</td><td>&quot;Plat&quot;</td><td>8</td><td>50.0</td><td>12.0</td><td>10.0</td><td>2577.207791</td><td>6.754126</td><td>true</td><td>72.0</td><td>-582</td></tr><tr><td>&quot;Motorola G53&quot;</td><td>183.0</td><td>199.0</td><td>true</td><td>&quot;Chine&quot;</td><td>&quot;Bleu&quot;</td><td>&quot;2&quot;</td><td>74.7</td><td>&quot;MOTOROLA&quot;</td><td>true</td><td>7.1</td><td>5000</td><td>&quot;8 coeurs jusqu…</td><td>8.2</td><td>6.5</td><td>0.98</td><td>1.32</td><td>2.98</td><td>162.7</td><td>4.3333</td><td>&quot;LCD&quot;</td><td>3</td><td>&quot;5G&quot;</td><td>128</td><td>false</td><td>&quot;Plat&quot;</td><td>4</td><td>50.0</td><td>2.0</td><td>0.0</td><td>1754.536976</td><td>5.293305</td><td>false</td><td>52.0</td><td>-511</td></tr><tr><td>&quot;Google Pixel 8…</td><td>null</td><td>799.0</td><td>false</td><td>&quot;Viêt Nam&quot;</td><td>&quot;Noir&quot;</td><td>&quot;3&quot;</td><td>7.1</td><td>&quot;GOOGLE&quot;</td><td>true</td><td>8.2</td><td>4500</td><td>&quot;Google Tensor …</td><td>0.9</td><td>6.2</td><td>0.98</td><td>1.2</td><td>2.49</td><td>15.1</td><td>0.0</td><td>&quot;Actua ou OLED …</td><td>0</td><td>&quot;5G&quot;</td><td>128</td><td>true</td><td>&quot;Plat&quot;</td><td>8</td><td>50.0</td><td>12.0</td><td>10.0</td><td>2631.805464</td><td>6.683361</td><td>true</td><td>72.0</td><td>185</td></tr><tr><td>&quot;Xiaomi Redmi 9…</td><td>194.0</td><td>95.9</td><td>true</td><td>&quot;Chine&quot;</td><td>&quot;Gris&quot;</td><td>&quot;1&quot;</td><td>77.1</td><td>&quot;XIAOMI&quot;</td><td>true</td><td>7.0</td><td>5000</td><td>&quot;8 coeurs jusqu…</td><td>9.0</td><td>6.5</td><td>0.398</td><td>1.186</td><td>2.526</td><td>164.9</td><td>4.0</td><td>&quot;HD+&quot;</td><td>2</td><td>&quot;4G&quot;</td><td>32</td><td>true</td><td>&quot;Plat&quot;</td><td>2</td><td>13.0</td><td>0.0</td><td>0.0</td><td>1754.536976</td><td>4.563306</td><td>false</td><td>13.0</td><td>613</td></tr><tr><td>&quot;HONOR Magic5 L…</td><td>175.0</td><td>299.0</td><td>false</td><td>&quot;Chine&quot;</td><td>&quot;Noir&quot;</td><td>&quot;3&quot;</td><td>73.9</td><td>&quot;HONOR&quot;</td><td>true</td><td>8.0</td><td>5100</td><td>&quot;Qualcomm Snapd…</td><td>7.9</td><td>6.7</td><td>0.82</td><td>1.27</td><td>2.81</td><td>161.6</td><td>4.1333</td><td>&quot;AMOLED (rigide…</td><td>15</td><td>&quot;5G&quot;</td><td>256</td><td>true</td><td>&quot;Bords incurvés…</td><td>8</td><td>64.0</td><td>5.0</td><td>2.0</td><td>2631.805464</td><td>5.700444</td><td>false</td><td>71.0</td><td>600</td></tr><tr><td>&quot;Google Pixel 6…</td><td>210.0</td><td>633.67</td><td>false</td><td>&quot;Chine&quot;</td><td>&quot;Noir&quot;</td><td>&quot;3&quot;</td><td>75.9</td><td>&quot;GOOGLE&quot;</td><td>true</td><td>6.4</td><td>5000</td><td>&quot;Google Tensor&quot;</td><td>8.9</td><td>6.7</td><td>0.99</td><td>1.4</td><td>2.96</td><td>163.9</td><td>4.087</td><td>&quot;Non communiqué…</td><td>23</td><td>&quot;5G&quot;</td><td>128</td><td>true</td><td>&quot;Plat&quot;</td><td>12</td><td>50.0</td><td>48.0</td><td>12.0</td><td>3436.277055</td><td>6.451528</td><td>true</td><td>110.0</td><td>989</td></tr><tr><td>&quot;Realme GT Mast…</td><td>174.0</td><td>304.25</td><td>true</td><td>&quot;Chine&quot;</td><td>&quot;Noir&quot;</td><td>null</td><td>73.5</td><td>&quot;REALME&quot;</td><td>true</td><td>6.2</td><td>4300</td><td>&quot;Non communiqué…</td><td>8.0</td><td>6.4</td><td>1.139</td><td>1.18</td><td>1.88</td><td>159.1</td><td>0.0</td><td>&quot;Non communiqué…</td><td>0</td><td>&quot;5G&quot;</td><td>128</td><td>true</td><td>&quot;Borderless&quot;</td><td>6</td><td>0.0</td><td>0.0</td><td>0.0</td><td>2631.805464</td><td>5.71785</td><td>false</td><td>0.0</td><td>-192</td></tr><tr><td>&quot;Google Pixel 8…</td><td>null</td><td>859.0</td><td>false</td><td>&quot;Viêt Nam&quot;</td><td>&quot;Vert&quot;</td><td>&quot;3&quot;</td><td>7.1</td><td>&quot;GOOGLE&quot;</td><td>true</td><td>8.2</td><td>4500</td><td>&quot;Google Tensor …</td><td>0.9</td><td>6.2</td><td>0.98</td><td>1.2</td><td>2.49</td><td>15.1</td><td>0.0</td><td>&quot;Actua ou OLED …</td><td>0</td><td>&quot;5G&quot;</td><td>256</td><td>true</td><td>&quot;Plat&quot;</td><td>8</td><td>50.0</td><td>12.0</td><td>10.0</td><td>2631.805464</td><td>6.755769</td><td>true</td><td>72.0</td><td>-801</td></tr><tr><td>&quot;Google Pixel 8…</td><td>null</td><td>1099.0</td><td>false</td><td>&quot;Viêt Nam&quot;</td><td>&quot;Blanc&quot;</td><td>null</td><td>7.6</td><td>&quot;GOOGLE&quot;</td><td>true</td><td>8.2</td><td>5000</td><td>&quot;Google Tensor …</td><td>0.9</td><td>6.7</td><td>0.84</td><td>1.2</td><td>2.5</td><td>16.3</td><td>0.0</td><td>&quot;Super Actua ou…</td><td>0</td><td>&quot;5G&quot;</td><td>128</td><td>true</td><td>&quot;Plat&quot;</td><td>12</td><td>50.0</td><td>48.0</td><td>48.0</td><td>3080.636298</td><td>7.002156</td><td>true</td><td>146.0</td><td>412</td></tr><tr><td>&quot;Realme 9 Pro&quot;</td><td>195.0</td><td>259.06</td><td>true</td><td>&quot;Chine&quot;</td><td>&quot;Noir&quot;</td><td>&quot;4&quot;</td><td>75.6</td><td>&quot;REALME&quot;</td><td>true</td><td>6.2</td><td>5000</td><td>&quot;8 coeurs jusqu…</td><td>8.5</td><td>6.6</td><td>0.987</td><td>1.251</td><td>2.725</td><td>164.3</td><td>3.6667</td><td>&quot;AMOLED (OLED)&quot;</td><td>3</td><td>&quot;4G&quot;</td><td>128</td><td>true</td><td>&quot;Plat&quot;</td><td>6</td><td>64.0</td><td>8.0</td><td>2.0</td><td>2631.805464</td><td>5.55706</td><td>true</td><td>74.0</td><td>322</td></tr><tr><td>&quot;iPhone 14 Plus…</td><td>203.0</td><td>969.0</td><td>false</td><td>&quot;Chine&quot;</td><td>&quot;Jaune&quot;</td><td>&quot;2&quot;</td><td>78.1</td><td>&quot;APPLE&quot;</td><td>false</td><td>6.9</td><td>4323</td><td>&quot;Puce A15&quot;</td><td>7.8</td><td>6.7</td><td>0.99</td><td>0.99</td><td>3.0</td><td>160.8</td><td>4.6809</td><td>&quot;Super Retina X…</td><td>47</td><td>&quot;5G&quot;</td><td>128</td><td>true</td><td>&quot;Plat&quot;</td><td>4</td><td>12.0</td><td>12.0</td><td>0.0</td><td>3060.382329</td><td>6.876265</td><td>true</td><td>24.0</td><td>-168</td></tr><tr><td>&hellip;</td><td>&hellip;</td><td>&hellip;</td><td>&hellip;</td><td>&hellip;</td><td>&hellip;</td><td>&hellip;</td><td>&hellip;</td><td>&hellip;</td><td>&hellip;</td><td>&hellip;</td><td>&hellip;</td><td>&hellip;</td><td>&hellip;</td><td>&hellip;</td><td>&hellip;</td><td>&hellip;</td><td>&hellip;</td><td>&hellip;</td><td>&hellip;</td><td>&hellip;</td><td>&hellip;</td><td>&hellip;</td><td>&hellip;</td><td>&hellip;</td><td>&hellip;</td><td>&hellip;</td><td>&hellip;</td><td>&hellip;</td><td>&hellip;</td><td>&hellip;</td><td>&hellip;</td><td>&hellip;</td><td>&hellip;</td><td>&hellip;</td></tr><tr><td>&quot;Samsung Galaxy…</td><td>197.0</td><td>269.0</td><td>true</td><td>&quot;Viêt Nam&quot;</td><td>&quot;Blanc&quot;</td><td>&quot;3&quot;</td><td>76.9</td><td>&quot;SAMSUNG&quot;</td><td>true</td><td>8.1</td><td>5000</td><td>&quot;8 coeurs jusqu…</td><td>8.4</td><td>6.6</td><td>1.492</td><td>1.251</td><td>2.84</td><td>165.4</td><td>4.3137</td><td>&quot;TFT (LCD)&quot;</td><td>51</td><td>&quot;5G&quot;</td><td>64</td><td>true</td><td>&quot;Plat&quot;</td><td>4</td><td>50.0</td><td>2.0</td><td>2.0</td><td>2639.102878</td><td>5.594711</td><td>true</td><td>54.0</td><td>-149</td></tr><tr><td>&quot;XIAOMI Redmi 9…</td><td>196.0</td><td>99.99</td><td>true</td><td>&quot;Chine&quot;</td><td>&quot;Gris&quot;</td><td>&quot;2&quot;</td><td>77.1</td><td>&quot;XIAOMI&quot;</td><td>true</td><td>7.1</td><td>5000</td><td>&quot;8 coeurs jusqu…</td><td>9.0</td><td>6.5</td><td>0.37</td><td>1.14</td><td>2.28</td><td>164.9</td><td>3.1818</td><td>&quot;HD+&quot;</td><td>11</td><td>&quot;4G&quot;</td><td>32</td><td>true</td><td>&quot;Plat&quot;</td><td>2</td><td>13.0</td><td>5.0</td><td>0.0</td><td>1754.536976</td><td>4.60507</td><td>false</td><td>18.0</td><td>-792</td></tr><tr><td>&quot;ASUS Zenfone 9…</td><td>169.0</td><td>849.0</td><td>false</td><td>&quot;Chine&quot;</td><td>&quot;Noir&quot;</td><td>&quot;2&quot;</td><td>146.5</td><td>&quot;ASUS&quot;</td><td>true</td><td>8.2</td><td>4300</td><td>&quot;8 coeurs jusqu…</td><td>9.2</td><td>5.9</td><td>1.56</td><td>1.3</td><td>3.6</td><td>68.1</td><td>5.0</td><td>&quot;FHD+&quot;</td><td>1</td><td>&quot;5G&quot;</td><td>256</td><td>false</td><td>&quot;Plat&quot;</td><td>8</td><td>50.0</td><td>12.0</td><td>0.0</td><td>2631.805464</td><td>6.744059</td><td>false</td><td>62.0</td><td>112</td></tr><tr><td>&quot;Samsung Galaxy…</td><td>227.0</td><td>779.38</td><td>true</td><td>&quot;Chine&quot;</td><td>&quot;Noir&quot;</td><td>null</td><td>75.5</td><td>&quot;SAMSUNG&quot;</td><td>true</td><td>8.1</td><td>5000</td><td>&quot;Non communiqué…</td><td>8.9</td><td>6.8</td><td>0.71</td><td>1.58</td><td>2.56</td><td>165.1</td><td>0.0</td><td>&quot;Non communiqué…</td><td>0</td><td>&quot;5G&quot;</td><td>128</td><td>true</td><td>&quot;Borderless&quot;</td><td>12</td><td>0.0</td><td>0.0</td><td>0.0</td><td>3509.073952</td><td>6.658499</td><td>false</td><td>0.0</td><td>-255</td></tr><tr><td>&quot;iPhone 13&quot;</td><td>173.0</td><td>749.0</td><td>false</td><td>&quot;Chine&quot;</td><td>&quot;Noir&quot;</td><td>&quot;2&quot;</td><td>71.5</td><td>&quot;APPLE&quot;</td><td>false</td><td>6.0</td><td>2815</td><td>&quot;Puce A15&quot;</td><td>7.4</td><td>6.1</td><td>0.99</td><td>0.99</td><td>3.8</td><td>146.7</td><td>4.6687</td><td>&quot;Super Retina X…</td><td>160</td><td>&quot;5G&quot;</td><td>128</td><td>true</td><td>&quot;Plat&quot;</td><td>4</td><td>12.0</td><td>12.0</td><td>0.0</td><td>2789.251513</td><td>6.618739</td><td>true</td><td>24.0</td><td>668</td></tr><tr><td>&quot;Motorola G14&quot;</td><td>177.0</td><td>179.0</td><td>true</td><td>&quot;Chine&quot;</td><td>&quot;Bleu&quot;</td><td>&quot;2&quot;</td><td>7.4</td><td>&quot;MOTOROLA&quot;</td><td>false</td><td>6.6</td><td>5000</td><td>&quot;8 coeurs jusqu…</td><td>8.0</td><td>6.5</td><td>0.71</td><td>1.11</td><td>2.88</td><td>162.0</td><td>0.0</td><td>&quot;LCD (LTPS) FHD…</td><td>0</td><td>&quot;4G&quot;</td><td>128</td><td>true</td><td>&quot;Plat&quot;</td><td>4</td><td>50.0</td><td>2.0</td><td>0.0</td><td>2631.805464</td><td>5.187386</td><td>false</td><td>52.0</td><td>-853</td></tr><tr><td>&quot;Google Pixel 8…</td><td>null</td><td>1159.0</td><td>false</td><td>&quot;Viêt Nam&quot;</td><td>&quot;Bleu&quot;</td><td>null</td><td>7.6</td><td>&quot;GOOGLE&quot;</td><td>true</td><td>8.2</td><td>5000</td><td>&quot;Google Tensor …</td><td>0.9</td><td>6.7</td><td>0.84</td><td>1.2</td><td>2.5</td><td>16.3</td><td>0.0</td><td>&quot;Super Actua ou…</td><td>0</td><td>&quot;5G&quot;</td><td>256</td><td>true</td><td>&quot;Plat&quot;</td><td>12</td><td>50.0</td><td>48.0</td><td>48.0</td><td>3080.636298</td><td>7.055313</td><td>true</td><td>146.0</td><td>54</td></tr><tr><td>&quot;VIVO Y52&quot;</td><td>193.0</td><td>269.0</td><td>true</td><td>&quot;Chine&quot;</td><td>&quot;Noir&quot;</td><td>&quot;3&quot;</td><td>75.3</td><td>&quot;VIVO&quot;</td><td>true</td><td>7.9</td><td>5000</td><td>&quot;8 coeurs jusqu…</td><td>8.5</td><td>6.6</td><td>0.99</td><td>1.2</td><td>3.0</td><td>164.0</td><td>4.8</td><td>&quot;IPS (LCD)&quot;</td><td>5</td><td>&quot;5G&quot;</td><td>128</td><td>true</td><td>&quot;Plat&quot;</td><td>4</td><td>48.0</td><td>2.0</td><td>2.0</td><td>2631.805464</td><td>5.594711</td><td>false</td><td>52.0</td><td>8</td></tr><tr><td>&quot;Google Pixel 7…</td><td>197.0</td><td>548.16</td><td>false</td><td>&quot;Viêt Nam&quot;</td><td>&quot;Vert&quot;</td><td>&quot;3&quot;</td><td>73.2</td><td>&quot;GOOGLE&quot;</td><td>true</td><td>7.2</td><td>4270</td><td>&quot;Google Tensor …</td><td>8.7</td><td>6.3</td><td>0.99</td><td>1.4</td><td>3.0</td><td>155.6</td><td>4.2679</td><td>&quot;OLED FHD+&quot;</td><td>56</td><td>&quot;5G&quot;</td><td>128</td><td>true</td><td>&quot;Plat&quot;</td><td>8</td><td>50.0</td><td>20.0</td><td>12.0</td><td>2631.805464</td><td>6.306567</td><td>true</td><td>82.0</td><td>-803</td></tr><tr><td>&quot;Samsung Galaxy…</td><td>195.0</td><td>212.4</td><td>true</td><td>&quot;Viêt Nam&quot;</td><td>&quot;Noir&quot;</td><td>&quot;4&quot;</td><td>76.4</td><td>&quot;SAMSUNG&quot;</td><td>true</td><td>8.0</td><td>5000</td><td>&quot;8 coeurs jusqu…</td><td>8.8</td><td>6.6</td><td>0.367</td><td>1.39</td><td>2.8</td><td>165.1</td><td>4.4414</td><td>&quot;TFT (LCD)&quot;</td><td>111</td><td>&quot;4G&quot;</td><td>64</td><td>true</td><td>&quot;Plat&quot;</td><td>4</td><td>50.0</td><td>5.0</td><td>2.0</td><td>2639.102878</td><td>5.358471</td><td>false</td><td>57.0</td><td>-612</td></tr><tr><td>&quot;XIAOMI Mi 11 L…</td><td>159.0</td><td>320.0</td><td>true</td><td>&quot;Chine&quot;</td><td>&quot;Noir&quot;</td><td>null</td><td>75.7</td><td>&quot;XIAOMI&quot;</td><td>true</td><td>7.3</td><td>4250</td><td>&quot;Non communiqué…</td><td>6.8</td><td>6.6</td><td>0.555</td><td>0.889</td><td>1.88</td><td>160.5</td><td>0.0</td><td>&quot;Non communiqué…</td><td>0</td><td>&quot;5G&quot;</td><td>128</td><td>true</td><td>&quot;Borderless&quot;</td><td>6</td><td>0.0</td><td>0.0</td><td>0.0</td><td>2631.805464</td><td>5.768321</td><td>false</td><td>0.0</td><td>-16</td></tr><tr><td>&quot;Motorola Moto …</td><td>208.0</td><td>249.0</td><td>true</td><td>&quot;Chine&quot;</td><td>&quot;Bleu&quot;</td><td>&quot;4&quot;</td><td>76.5</td><td>&quot;MOTOROLA&quot;</td><td>true</td><td>7.4</td><td>5000</td><td>&quot;8 coeurs jusqu…</td><td>9.1</td><td>6.8</td><td>1.49</td><td>1.49</td><td>3.19</td><td>170.5</td><td>1.0</td><td>&quot;FHD+&quot;</td><td>1</td><td>&quot;5G&quot;</td><td>64</td><td>true</td><td>&quot;Plat&quot;</td><td>4</td><td>50.0</td><td>8.0</td><td>2.0</td><td>2631.805464</td><td>5.517453</td><td>false</td><td>60.0</td><td>973</td></tr></tbody></table></div>"
      ],
      "text/plain": [
       "shape: (429, 35)\n",
       "┌────────────┬────────────┬────────┬────────────┬───┬──────────┬───────────┬───────────┬───────────┐\n",
       "│ model      ┆ net_weight ┆ price  ┆ upgrade_st ┆ … ┆ logprice ┆ induction ┆ mpx_backw ┆ random_co │\n",
       "│ ---        ┆ ---        ┆ ---    ┆ orage      ┆   ┆ ---      ┆ ---       ┆ ard_cam   ┆ l         │\n",
       "│ str        ┆ f64        ┆ f64    ┆ ---        ┆   ┆ f64      ┆ bool      ┆ ---       ┆ ---       │\n",
       "│            ┆            ┆        ┆ bool       ┆   ┆          ┆           ┆ f64       ┆ i64       │\n",
       "╞════════════╪════════════╪════════╪════════════╪═══╪══════════╪═══════════╪═══════════╪═══════════╡\n",
       "│ SONY       ┆ 0.0        ┆ 999.0  ┆ true       ┆ … ┆ 6.906755 ┆ true      ┆ 36.0      ┆ 413       │\n",
       "│ Xperia 5 V ┆            ┆        ┆            ┆   ┆          ┆           ┆           ┆           │\n",
       "│ Samsung    ┆ 167.0      ┆ 857.59 ┆ false      ┆ … ┆ 6.754126 ┆ true      ┆ 72.0      ┆ -582      │\n",
       "│ Galaxy S22 ┆            ┆        ┆            ┆   ┆          ┆           ┆           ┆           │\n",
       "│ Motorola   ┆ 183.0      ┆ 199.0  ┆ true       ┆ … ┆ 5.293305 ┆ false     ┆ 52.0      ┆ -511      │\n",
       "│ G53        ┆            ┆        ┆            ┆   ┆          ┆           ┆           ┆           │\n",
       "│ Google     ┆ null       ┆ 799.0  ┆ false      ┆ … ┆ 6.683361 ┆ true      ┆ 72.0      ┆ 185       │\n",
       "│ Pixel 8    ┆            ┆        ┆            ┆   ┆          ┆           ┆           ┆           │\n",
       "│ …          ┆ …          ┆ …      ┆ …          ┆ … ┆ …        ┆ …         ┆ …         ┆ …         │\n",
       "│ Google     ┆ 197.0      ┆ 548.16 ┆ false      ┆ … ┆ 6.306567 ┆ true      ┆ 82.0      ┆ -803      │\n",
       "│ Pixel 7    ┆            ┆        ┆            ┆   ┆          ┆           ┆           ┆           │\n",
       "│ Samsung    ┆ 195.0      ┆ 212.4  ┆ true       ┆ … ┆ 5.358471 ┆ false     ┆ 57.0      ┆ -612      │\n",
       "│ Galaxy A13 ┆            ┆        ┆            ┆   ┆          ┆           ┆           ┆           │\n",
       "│ XIAOMI Mi  ┆ 159.0      ┆ 320.0  ┆ true       ┆ … ┆ 5.768321 ┆ false     ┆ 0.0       ┆ -16       │\n",
       "│ 11 Lite    ┆            ┆        ┆            ┆   ┆          ┆           ┆           ┆           │\n",
       "│ Motorola   ┆ 208.0      ┆ 249.0  ┆ true       ┆ … ┆ 5.517453 ┆ false     ┆ 60.0      ┆ 973       │\n",
       "│ Moto G     ┆            ┆        ┆            ┆   ┆          ┆           ┆           ┆           │\n",
       "└────────────┴────────────┴────────┴────────────┴───┴──────────┴───────────┴───────────┴───────────┘"
      ]
     },
     "execution_count": 8,
     "metadata": {},
     "output_type": "execute_result"
    }
   ],
   "source": [
    "df"
   ]
  },
  {
   "cell_type": "code",
   "execution_count": 20,
   "metadata": {},
   "outputs": [],
   "source": [
    "y_1 = \"price\"\n",
    "y_2 = \"logprice\"\n",
    "X = [\n",
    "    \"storage\",\n",
    "    \"induction\",\n",
    "    \"upgrade_storage\",\n",
    "    \"ram\",\n",
    "    \"screen_type\",\n",
    "    \"network\",\n",
    "    \"total_pixels\",\n",
    "    \"screen_size\",\n",
    "    \"brand\",\n",
    "    \"made_in\",\n",
    "    \"das_limbs\",\n",
    "    \"battery\"\n",
    "]"
   ]
  },
  {
   "cell_type": "code",
   "execution_count": 22,
   "metadata": {},
   "outputs": [],
   "source": [
    "f_1 = formula(y_1, X)\n",
    "f_2 = formula(y_2, X)\n",
    "res_1 = execute_ols(df, f_1)\n",
    "res_2 = execute_ols(df, f_2)"
   ]
  },
  {
   "cell_type": "code",
   "execution_count": 24,
   "metadata": {},
   "outputs": [
    {
     "data": {
      "text/html": [
       "<table style=\"text-align:center\"><tr><td colspan=\"3\" style=\"border-bottom: 1px solid black\"></td></tr>\n",
       "<tr><td style=\"text-align:left\"></td><tr><td style=\"text-align:left\"></td><td>(1)</td><td>(2)</td></tr>\n",
       "<tr><td colspan=\"3\" style=\"border-bottom: 1px solid black\"></td></tr>\n",
       "\n",
       "<tr><td style=\"text-align:left\">Intercept</td><td>-638.310<sup>***</sup></td><td>4.959<sup>***</sup></td></tr>\n",
       "<tr><td style=\"text-align:left\"></td><td>(136.737)</td><td>(0.210)</td></tr>\n",
       "<tr><td style=\"text-align:left\">battery</td><td>0.015<sup></sup></td><td>-0.000<sup>***</sup></td></tr>\n",
       "<tr><td style=\"text-align:left\"></td><td>(0.021)</td><td>(0.000)</td></tr>\n",
       "<tr><td style=\"text-align:left\">brand[T.ASUS]</td><td>-134.256<sup></sup></td><td>-0.241<sup>*</sup></td></tr>\n",
       "<tr><td style=\"text-align:left\"></td><td>(82.861)</td><td>(0.127)</td></tr>\n",
       "<tr><td style=\"text-align:left\">brand[T.FAIRPHONE]</td><td>-67.314<sup></sup></td><td>-0.061<sup></sup></td></tr>\n",
       "<tr><td style=\"text-align:left\"></td><td>(96.865)</td><td>(0.149)</td></tr>\n",
       "<tr><td style=\"text-align:left\">brand[T.GOOGLE]</td><td>-225.914<sup>***</sup></td><td>-0.338<sup>***</sup></td></tr>\n",
       "<tr><td style=\"text-align:left\"></td><td>(64.055)</td><td>(0.098)</td></tr>\n",
       "<tr><td style=\"text-align:left\">brand[T.HONOR]</td><td>-452.624<sup>***</sup></td><td>-0.732<sup>***</sup></td></tr>\n",
       "<tr><td style=\"text-align:left\"></td><td>(68.089)</td><td>(0.105)</td></tr>\n",
       "<tr><td style=\"text-align:left\">brand[T.MOTOROLA]</td><td>-423.907<sup>***</sup></td><td>-0.713<sup>***</sup></td></tr>\n",
       "<tr><td style=\"text-align:left\"></td><td>(53.842)</td><td>(0.083)</td></tr>\n",
       "<tr><td style=\"text-align:left\">brand[T.NOTHING]</td><td>-544.576<sup>***</sup></td><td>-0.820<sup>***</sup></td></tr>\n",
       "<tr><td style=\"text-align:left\"></td><td>(71.608)</td><td>(0.110)</td></tr>\n",
       "<tr><td style=\"text-align:left\">brand[T.ONEPLUS]</td><td>-370.046<sup>***</sup></td><td>-0.653<sup>***</sup></td></tr>\n",
       "<tr><td style=\"text-align:left\"></td><td>(72.368)</td><td>(0.111)</td></tr>\n",
       "<tr><td style=\"text-align:left\">brand[T.OPPO]</td><td>-313.252<sup>***</sup></td><td>-0.579<sup>***</sup></td></tr>\n",
       "<tr><td style=\"text-align:left\"></td><td>(57.715)</td><td>(0.089)</td></tr>\n",
       "<tr><td style=\"text-align:left\">brand[T.REALME]</td><td>-343.307<sup>***</sup></td><td>-0.529<sup>***</sup></td></tr>\n",
       "<tr><td style=\"text-align:left\"></td><td>(60.484)</td><td>(0.093)</td></tr>\n",
       "<tr><td style=\"text-align:left\">brand[T.SAMSUNG]</td><td>-162.906<sup>***</sup></td><td>-0.186<sup>**</sup></td></tr>\n",
       "<tr><td style=\"text-align:left\"></td><td>(57.471)</td><td>(0.088)</td></tr>\n",
       "<tr><td style=\"text-align:left\">brand[T.SONY]</td><td>-203.780<sup>**</sup></td><td>-0.257<sup>*</sup></td></tr>\n",
       "<tr><td style=\"text-align:left\"></td><td>(85.422)</td><td>(0.131)</td></tr>\n",
       "<tr><td style=\"text-align:left\">brand[T.VIVO]</td><td>-270.115<sup>***</sup></td><td>-0.489<sup>***</sup></td></tr>\n",
       "<tr><td style=\"text-align:left\"></td><td>(65.773)</td><td>(0.101)</td></tr>\n",
       "<tr><td style=\"text-align:left\">brand[T.XIAOMI]</td><td>-301.467<sup>***</sup></td><td>-0.573<sup>***</sup></td></tr>\n",
       "<tr><td style=\"text-align:left\"></td><td>(51.972)</td><td>(0.080)</td></tr>\n",
       "<tr><td style=\"text-align:left\">das_limbs</td><td>71.023<sup>***</sup></td><td>0.066<sup>**</sup></td></tr>\n",
       "<tr><td style=\"text-align:left\"></td><td>(19.309)</td><td>(0.030)</td></tr>\n",
       "<tr><td style=\"text-align:left\">induction[T.True]</td><td>223.138<sup>***</sup></td><td>0.308<sup>***</sup></td></tr>\n",
       "<tr><td style=\"text-align:left\"></td><td>(28.746)</td><td>(0.044)</td></tr>\n",
       "<tr><td style=\"text-align:left\">made_in[T.Inde]</td><td>-24.112<sup></sup></td><td>-0.041<sup></sup></td></tr>\n",
       "<tr><td style=\"text-align:left\"></td><td>(151.068)</td><td>(0.232)</td></tr>\n",
       "<tr><td style=\"text-align:left\">made_in[T.Japon]</td><td>312.933<sup>**</sup></td><td>0.262<sup></sup></td></tr>\n",
       "<tr><td style=\"text-align:left\"></td><td>(124.756)</td><td>(0.192)</td></tr>\n",
       "<tr><td style=\"text-align:left\">made_in[T.Taïwan]</td><td>184.226<sup></sup></td><td>0.220<sup></sup></td></tr>\n",
       "<tr><td style=\"text-align:left\"></td><td>(157.002)</td><td>(0.241)</td></tr>\n",
       "<tr><td style=\"text-align:left\">made_in[T.Thaïlande]</td><td>506.233<sup>***</sup></td><td>0.520<sup>***</sup></td></tr>\n",
       "<tr><td style=\"text-align:left\"></td><td>(85.777)</td><td>(0.132)</td></tr>\n",
       "<tr><td style=\"text-align:left\">made_in[T.Viêt Nam]</td><td>-25.363<sup></sup></td><td>-0.154<sup>**</sup></td></tr>\n",
       "<tr><td style=\"text-align:left\"></td><td>(41.837)</td><td>(0.064)</td></tr>\n",
       "<tr><td style=\"text-align:left\">network[T.5G]</td><td>14.551<sup></sup></td><td>0.303<sup>***</sup></td></tr>\n",
       "<tr><td style=\"text-align:left\"></td><td>(23.593)</td><td>(0.036)</td></tr>\n",
       "<tr><td style=\"text-align:left\">ram</td><td>28.390<sup>***</sup></td><td>0.083<sup>***</sup></td></tr>\n",
       "<tr><td style=\"text-align:left\"></td><td>(5.031)</td><td>(0.008)</td></tr>\n",
       "<tr><td style=\"text-align:left\">screen_size</td><td>126.475<sup>***</sup></td><td>0.117<sup>***</sup></td></tr>\n",
       "<tr><td style=\"text-align:left\"></td><td>(22.951)</td><td>(0.035)</td></tr>\n",
       "<tr><td style=\"text-align:left\">screen_type[T.Bords incurvés]</td><td>-173.067<sup>***</sup></td><td>-0.101<sup></sup></td></tr>\n",
       "<tr><td style=\"text-align:left\"></td><td>(65.207)</td><td>(0.100)</td></tr>\n",
       "<tr><td style=\"text-align:left\">screen_type[T.Plat]</td><td>-92.424<sup>***</sup></td><td>-0.032<sup></sup></td></tr>\n",
       "<tr><td style=\"text-align:left\"></td><td>(28.142)</td><td>(0.043)</td></tr>\n",
       "<tr><td style=\"text-align:left\">screen_type[T.Pliable]</td><td>295.666<sup>***</sup></td><td>0.243<sup>***</sup></td></tr>\n",
       "<tr><td style=\"text-align:left\"></td><td>(47.992)</td><td>(0.074)</td></tr>\n",
       "<tr><td style=\"text-align:left\">storage</td><td>0.638<sup>***</sup></td><td>0.000<sup>***</sup></td></tr>\n",
       "<tr><td style=\"text-align:left\"></td><td>(0.068)</td><td>(0.000)</td></tr>\n",
       "<tr><td style=\"text-align:left\">total_pixels</td><td>0.000<sup>***</sup></td><td>0.000<sup>***</sup></td></tr>\n",
       "<tr><td style=\"text-align:left\"></td><td>(0.000)</td><td>(0.000)</td></tr>\n",
       "<tr><td style=\"text-align:left\">upgrade_storage[T.True]</td><td>-116.067<sup>***</sup></td><td>-0.249<sup>***</sup></td></tr>\n",
       "<tr><td style=\"text-align:left\"></td><td>(28.925)</td><td>(0.044)</td></tr>\n",
       "\n",
       "<td colspan=\"3\" style=\"border-bottom: 1px solid black\"></td></tr>\n",
       "<tr><td style=\"text-align: left\">Observations</td><td>430</td><td>430</td></tr><tr><td style=\"text-align: left\">R<sup>2</sup></td><td>0.903</td><td>0.926</td></tr><tr><td style=\"text-align: left\">Adjusted R<sup>2</sup></td><td>0.896</td><td>0.920</td></tr><tr><td style=\"text-align: left\">Residual Std. Error</td><td>146.224 (df=399)</td><td>0.225 (df=399)</td></tr><tr><td style=\"text-align: left\">F Statistic</td><td>124.160<sup>***</sup> (df=30; 399)</td><td>166.087<sup>***</sup> (df=30; 399)</td></tr>\n",
       "<tr><td colspan=\"3\" style=\"border-bottom: 1px solid black\"></td></tr><tr><td style=\"text-align: left\">Note:</td><td colspan=\"2\" style=\"text-align: right\"><sup>*</sup>p&lt;0.1; <sup>**</sup>p&lt;0.05; <sup>***</sup>p&lt;0.01</td></tr></table>"
      ],
      "text/plain": [
       "<stargazer.stargazer.Stargazer at 0x194d91787f0>"
      ]
     },
     "execution_count": 24,
     "metadata": {},
     "output_type": "execute_result"
    }
   ],
   "source": [
    "Stargazer([res_1, res_2])"
   ]
  },
  {
   "cell_type": "markdown",
   "metadata": {},
   "source": [
    "Variables qui n'apportent rien dans la loglin-reg : \n",
    "\n",
    "- color\n",
    "- net_weight\n",
    "- model\n",
    "- das_chest\n",
    "- das_head"
   ]
  },
  {
   "cell_type": "code",
   "execution_count": 223,
   "metadata": {},
   "outputs": [],
   "source": [
    "def feature_importance(df: pl.DataFrame, y:str):\n",
    "    column_name = list()\n",
    "    r2_list = list()\n",
    "    for column in df.columns:\n",
    "        ols_model = smf.ols(\n",
    "        formula=f\"{y}~{column}\",\n",
    "        data=df)\n",
    "        res = ols_model.fit()\n",
    "        column_name.append(column)\n",
    "        r2_list.append(res.rsquared)\n",
    "\n",
    "    feature_imp_df = pl.DataFrame({'Column': column_name, 'R-squared': r2_list}).sort(\"R-squared\", descending=True)\n",
    "    return feature_imp_df"
   ]
  },
  {
   "cell_type": "code",
   "execution_count": 224,
   "metadata": {},
   "outputs": [],
   "source": [
    "df_features = feature_importance(df, \"price\")"
   ]
  },
  {
   "cell_type": "code",
   "execution_count": 199,
   "metadata": {},
   "outputs": [],
   "source": [
    "import plotly.express as px"
   ]
  },
  {
   "cell_type": "code",
   "execution_count": 225,
   "metadata": {},
   "outputs": [
    {
     "data": {
      "application/vnd.plotly.v1+json": {
       "config": {
        "plotlyServerURL": "https://plot.ly"
       },
       "data": [
        {
         "alignmentgroup": "True",
         "hovertemplate": "Column=%{x}<br>R-squared=%{y}<extra></extra>",
         "legendgroup": "",
         "marker": {
          "color": "#636efa",
          "pattern": {
           "shape": ""
          }
         },
         "name": "",
         "offsetgroup": "",
         "orientation": "v",
         "showlegend": false,
         "textposition": "auto",
         "type": "bar",
         "x": [
          "price",
          "model",
          "logprice",
          "screen_tech",
          "storage",
          "cpu",
          "induction",
          "ram",
          "upgrade_storage",
          "brand",
          "screen_type",
          "diagonal_pixels",
          "network",
          "made_in",
          "das_head",
          "cam_2",
          "das_limbs",
          "color",
          "cam_3",
          "ppi",
          "battery",
          "screen_size",
          "mpx_backward_cam",
          "das_chest",
          "sensor",
          "net_weight",
          "os",
          "width",
          "fast_charging",
          "stars",
          "thickness",
          "cam_1",
          "repairability_index",
          "height",
          "random_col",
          "reviews",
          "usb_type_c"
         ],
         "xaxis": "x",
         "y": [
          1,
          0.9660226298239412,
          0.8676737773913177,
          0.6116073596545373,
          0.492151181214286,
          0.47083301899388863,
          0.4330686380079418,
          0.4033317072355408,
          0.3832869065713873,
          0.3632139937752292,
          0.32363079507990133,
          0.30975614721257516,
          0.2888764442838154,
          0.2120176753847859,
          0.1643843498592803,
          0.15432524850861828,
          0.15173585219621544,
          0.1509798966747229,
          0.14892261963101372,
          0.14085491317309773,
          0.09444545592514919,
          0.09087265095242603,
          0.06733404580445157,
          0.055608335547525645,
          0.052734021720223345,
          0.050930434529576685,
          0.05064253304549071,
          0.036932982723212215,
          0.028127782057019712,
          0.024340466098009328,
          0.011829904418863557,
          0.011660315862769388,
          0.005413077669721433,
          0.0037234556933652962,
          0.000983543156722888,
          0.0004850758848742309,
          0.0003531947839420235
         ],
         "yaxis": "y"
        }
       ],
       "layout": {
        "barmode": "relative",
        "legend": {
         "tracegroupgap": 0
        },
        "template": {
         "data": {
          "bar": [
           {
            "error_x": {
             "color": "#2a3f5f"
            },
            "error_y": {
             "color": "#2a3f5f"
            },
            "marker": {
             "line": {
              "color": "#E5ECF6",
              "width": 0.5
             },
             "pattern": {
              "fillmode": "overlay",
              "size": 10,
              "solidity": 0.2
             }
            },
            "type": "bar"
           }
          ],
          "barpolar": [
           {
            "marker": {
             "line": {
              "color": "#E5ECF6",
              "width": 0.5
             },
             "pattern": {
              "fillmode": "overlay",
              "size": 10,
              "solidity": 0.2
             }
            },
            "type": "barpolar"
           }
          ],
          "carpet": [
           {
            "aaxis": {
             "endlinecolor": "#2a3f5f",
             "gridcolor": "white",
             "linecolor": "white",
             "minorgridcolor": "white",
             "startlinecolor": "#2a3f5f"
            },
            "baxis": {
             "endlinecolor": "#2a3f5f",
             "gridcolor": "white",
             "linecolor": "white",
             "minorgridcolor": "white",
             "startlinecolor": "#2a3f5f"
            },
            "type": "carpet"
           }
          ],
          "choropleth": [
           {
            "colorbar": {
             "outlinewidth": 0,
             "ticks": ""
            },
            "type": "choropleth"
           }
          ],
          "contour": [
           {
            "colorbar": {
             "outlinewidth": 0,
             "ticks": ""
            },
            "colorscale": [
             [
              0,
              "#0d0887"
             ],
             [
              0.1111111111111111,
              "#46039f"
             ],
             [
              0.2222222222222222,
              "#7201a8"
             ],
             [
              0.3333333333333333,
              "#9c179e"
             ],
             [
              0.4444444444444444,
              "#bd3786"
             ],
             [
              0.5555555555555556,
              "#d8576b"
             ],
             [
              0.6666666666666666,
              "#ed7953"
             ],
             [
              0.7777777777777778,
              "#fb9f3a"
             ],
             [
              0.8888888888888888,
              "#fdca26"
             ],
             [
              1,
              "#f0f921"
             ]
            ],
            "type": "contour"
           }
          ],
          "contourcarpet": [
           {
            "colorbar": {
             "outlinewidth": 0,
             "ticks": ""
            },
            "type": "contourcarpet"
           }
          ],
          "heatmap": [
           {
            "colorbar": {
             "outlinewidth": 0,
             "ticks": ""
            },
            "colorscale": [
             [
              0,
              "#0d0887"
             ],
             [
              0.1111111111111111,
              "#46039f"
             ],
             [
              0.2222222222222222,
              "#7201a8"
             ],
             [
              0.3333333333333333,
              "#9c179e"
             ],
             [
              0.4444444444444444,
              "#bd3786"
             ],
             [
              0.5555555555555556,
              "#d8576b"
             ],
             [
              0.6666666666666666,
              "#ed7953"
             ],
             [
              0.7777777777777778,
              "#fb9f3a"
             ],
             [
              0.8888888888888888,
              "#fdca26"
             ],
             [
              1,
              "#f0f921"
             ]
            ],
            "type": "heatmap"
           }
          ],
          "heatmapgl": [
           {
            "colorbar": {
             "outlinewidth": 0,
             "ticks": ""
            },
            "colorscale": [
             [
              0,
              "#0d0887"
             ],
             [
              0.1111111111111111,
              "#46039f"
             ],
             [
              0.2222222222222222,
              "#7201a8"
             ],
             [
              0.3333333333333333,
              "#9c179e"
             ],
             [
              0.4444444444444444,
              "#bd3786"
             ],
             [
              0.5555555555555556,
              "#d8576b"
             ],
             [
              0.6666666666666666,
              "#ed7953"
             ],
             [
              0.7777777777777778,
              "#fb9f3a"
             ],
             [
              0.8888888888888888,
              "#fdca26"
             ],
             [
              1,
              "#f0f921"
             ]
            ],
            "type": "heatmapgl"
           }
          ],
          "histogram": [
           {
            "marker": {
             "pattern": {
              "fillmode": "overlay",
              "size": 10,
              "solidity": 0.2
             }
            },
            "type": "histogram"
           }
          ],
          "histogram2d": [
           {
            "colorbar": {
             "outlinewidth": 0,
             "ticks": ""
            },
            "colorscale": [
             [
              0,
              "#0d0887"
             ],
             [
              0.1111111111111111,
              "#46039f"
             ],
             [
              0.2222222222222222,
              "#7201a8"
             ],
             [
              0.3333333333333333,
              "#9c179e"
             ],
             [
              0.4444444444444444,
              "#bd3786"
             ],
             [
              0.5555555555555556,
              "#d8576b"
             ],
             [
              0.6666666666666666,
              "#ed7953"
             ],
             [
              0.7777777777777778,
              "#fb9f3a"
             ],
             [
              0.8888888888888888,
              "#fdca26"
             ],
             [
              1,
              "#f0f921"
             ]
            ],
            "type": "histogram2d"
           }
          ],
          "histogram2dcontour": [
           {
            "colorbar": {
             "outlinewidth": 0,
             "ticks": ""
            },
            "colorscale": [
             [
              0,
              "#0d0887"
             ],
             [
              0.1111111111111111,
              "#46039f"
             ],
             [
              0.2222222222222222,
              "#7201a8"
             ],
             [
              0.3333333333333333,
              "#9c179e"
             ],
             [
              0.4444444444444444,
              "#bd3786"
             ],
             [
              0.5555555555555556,
              "#d8576b"
             ],
             [
              0.6666666666666666,
              "#ed7953"
             ],
             [
              0.7777777777777778,
              "#fb9f3a"
             ],
             [
              0.8888888888888888,
              "#fdca26"
             ],
             [
              1,
              "#f0f921"
             ]
            ],
            "type": "histogram2dcontour"
           }
          ],
          "mesh3d": [
           {
            "colorbar": {
             "outlinewidth": 0,
             "ticks": ""
            },
            "type": "mesh3d"
           }
          ],
          "parcoords": [
           {
            "line": {
             "colorbar": {
              "outlinewidth": 0,
              "ticks": ""
             }
            },
            "type": "parcoords"
           }
          ],
          "pie": [
           {
            "automargin": true,
            "type": "pie"
           }
          ],
          "scatter": [
           {
            "fillpattern": {
             "fillmode": "overlay",
             "size": 10,
             "solidity": 0.2
            },
            "type": "scatter"
           }
          ],
          "scatter3d": [
           {
            "line": {
             "colorbar": {
              "outlinewidth": 0,
              "ticks": ""
             }
            },
            "marker": {
             "colorbar": {
              "outlinewidth": 0,
              "ticks": ""
             }
            },
            "type": "scatter3d"
           }
          ],
          "scattercarpet": [
           {
            "marker": {
             "colorbar": {
              "outlinewidth": 0,
              "ticks": ""
             }
            },
            "type": "scattercarpet"
           }
          ],
          "scattergeo": [
           {
            "marker": {
             "colorbar": {
              "outlinewidth": 0,
              "ticks": ""
             }
            },
            "type": "scattergeo"
           }
          ],
          "scattergl": [
           {
            "marker": {
             "colorbar": {
              "outlinewidth": 0,
              "ticks": ""
             }
            },
            "type": "scattergl"
           }
          ],
          "scattermapbox": [
           {
            "marker": {
             "colorbar": {
              "outlinewidth": 0,
              "ticks": ""
             }
            },
            "type": "scattermapbox"
           }
          ],
          "scatterpolar": [
           {
            "marker": {
             "colorbar": {
              "outlinewidth": 0,
              "ticks": ""
             }
            },
            "type": "scatterpolar"
           }
          ],
          "scatterpolargl": [
           {
            "marker": {
             "colorbar": {
              "outlinewidth": 0,
              "ticks": ""
             }
            },
            "type": "scatterpolargl"
           }
          ],
          "scatterternary": [
           {
            "marker": {
             "colorbar": {
              "outlinewidth": 0,
              "ticks": ""
             }
            },
            "type": "scatterternary"
           }
          ],
          "surface": [
           {
            "colorbar": {
             "outlinewidth": 0,
             "ticks": ""
            },
            "colorscale": [
             [
              0,
              "#0d0887"
             ],
             [
              0.1111111111111111,
              "#46039f"
             ],
             [
              0.2222222222222222,
              "#7201a8"
             ],
             [
              0.3333333333333333,
              "#9c179e"
             ],
             [
              0.4444444444444444,
              "#bd3786"
             ],
             [
              0.5555555555555556,
              "#d8576b"
             ],
             [
              0.6666666666666666,
              "#ed7953"
             ],
             [
              0.7777777777777778,
              "#fb9f3a"
             ],
             [
              0.8888888888888888,
              "#fdca26"
             ],
             [
              1,
              "#f0f921"
             ]
            ],
            "type": "surface"
           }
          ],
          "table": [
           {
            "cells": {
             "fill": {
              "color": "#EBF0F8"
             },
             "line": {
              "color": "white"
             }
            },
            "header": {
             "fill": {
              "color": "#C8D4E3"
             },
             "line": {
              "color": "white"
             }
            },
            "type": "table"
           }
          ]
         },
         "layout": {
          "annotationdefaults": {
           "arrowcolor": "#2a3f5f",
           "arrowhead": 0,
           "arrowwidth": 1
          },
          "autotypenumbers": "strict",
          "coloraxis": {
           "colorbar": {
            "outlinewidth": 0,
            "ticks": ""
           }
          },
          "colorscale": {
           "diverging": [
            [
             0,
             "#8e0152"
            ],
            [
             0.1,
             "#c51b7d"
            ],
            [
             0.2,
             "#de77ae"
            ],
            [
             0.3,
             "#f1b6da"
            ],
            [
             0.4,
             "#fde0ef"
            ],
            [
             0.5,
             "#f7f7f7"
            ],
            [
             0.6,
             "#e6f5d0"
            ],
            [
             0.7,
             "#b8e186"
            ],
            [
             0.8,
             "#7fbc41"
            ],
            [
             0.9,
             "#4d9221"
            ],
            [
             1,
             "#276419"
            ]
           ],
           "sequential": [
            [
             0,
             "#0d0887"
            ],
            [
             0.1111111111111111,
             "#46039f"
            ],
            [
             0.2222222222222222,
             "#7201a8"
            ],
            [
             0.3333333333333333,
             "#9c179e"
            ],
            [
             0.4444444444444444,
             "#bd3786"
            ],
            [
             0.5555555555555556,
             "#d8576b"
            ],
            [
             0.6666666666666666,
             "#ed7953"
            ],
            [
             0.7777777777777778,
             "#fb9f3a"
            ],
            [
             0.8888888888888888,
             "#fdca26"
            ],
            [
             1,
             "#f0f921"
            ]
           ],
           "sequentialminus": [
            [
             0,
             "#0d0887"
            ],
            [
             0.1111111111111111,
             "#46039f"
            ],
            [
             0.2222222222222222,
             "#7201a8"
            ],
            [
             0.3333333333333333,
             "#9c179e"
            ],
            [
             0.4444444444444444,
             "#bd3786"
            ],
            [
             0.5555555555555556,
             "#d8576b"
            ],
            [
             0.6666666666666666,
             "#ed7953"
            ],
            [
             0.7777777777777778,
             "#fb9f3a"
            ],
            [
             0.8888888888888888,
             "#fdca26"
            ],
            [
             1,
             "#f0f921"
            ]
           ]
          },
          "colorway": [
           "#636efa",
           "#EF553B",
           "#00cc96",
           "#ab63fa",
           "#FFA15A",
           "#19d3f3",
           "#FF6692",
           "#B6E880",
           "#FF97FF",
           "#FECB52"
          ],
          "font": {
           "color": "#2a3f5f"
          },
          "geo": {
           "bgcolor": "white",
           "lakecolor": "white",
           "landcolor": "#E5ECF6",
           "showlakes": true,
           "showland": true,
           "subunitcolor": "white"
          },
          "hoverlabel": {
           "align": "left"
          },
          "hovermode": "closest",
          "mapbox": {
           "style": "light"
          },
          "paper_bgcolor": "white",
          "plot_bgcolor": "#E5ECF6",
          "polar": {
           "angularaxis": {
            "gridcolor": "white",
            "linecolor": "white",
            "ticks": ""
           },
           "bgcolor": "#E5ECF6",
           "radialaxis": {
            "gridcolor": "white",
            "linecolor": "white",
            "ticks": ""
           }
          },
          "scene": {
           "xaxis": {
            "backgroundcolor": "#E5ECF6",
            "gridcolor": "white",
            "gridwidth": 2,
            "linecolor": "white",
            "showbackground": true,
            "ticks": "",
            "zerolinecolor": "white"
           },
           "yaxis": {
            "backgroundcolor": "#E5ECF6",
            "gridcolor": "white",
            "gridwidth": 2,
            "linecolor": "white",
            "showbackground": true,
            "ticks": "",
            "zerolinecolor": "white"
           },
           "zaxis": {
            "backgroundcolor": "#E5ECF6",
            "gridcolor": "white",
            "gridwidth": 2,
            "linecolor": "white",
            "showbackground": true,
            "ticks": "",
            "zerolinecolor": "white"
           }
          },
          "shapedefaults": {
           "line": {
            "color": "#2a3f5f"
           }
          },
          "ternary": {
           "aaxis": {
            "gridcolor": "white",
            "linecolor": "white",
            "ticks": ""
           },
           "baxis": {
            "gridcolor": "white",
            "linecolor": "white",
            "ticks": ""
           },
           "bgcolor": "#E5ECF6",
           "caxis": {
            "gridcolor": "white",
            "linecolor": "white",
            "ticks": ""
           }
          },
          "title": {
           "x": 0.05
          },
          "xaxis": {
           "automargin": true,
           "gridcolor": "white",
           "linecolor": "white",
           "ticks": "",
           "title": {
            "standoff": 15
           },
           "zerolinecolor": "white",
           "zerolinewidth": 2
          },
          "yaxis": {
           "automargin": true,
           "gridcolor": "white",
           "linecolor": "white",
           "ticks": "",
           "title": {
            "standoff": 15
           },
           "zerolinecolor": "white",
           "zerolinewidth": 2
          }
         }
        },
        "title": {
         "text": "Feature Importance (R-squared)"
        },
        "xaxis": {
         "anchor": "y",
         "domain": [
          0,
          1
         ],
         "title": {
          "text": "Feature"
         }
        },
        "yaxis": {
         "anchor": "x",
         "domain": [
          0,
          1
         ],
         "title": {
          "text": "R-squared"
         }
        }
       }
      }
     },
     "metadata": {},
     "output_type": "display_data"
    }
   ],
   "source": [
    "fig = px.bar(df_features, x='Column', y='R-squared', title='Feature Importance (R-squared)')\n",
    "fig.update_xaxes(title_text='Feature')\n",
    "fig.update_yaxes(title_text='R-squared')\n",
    "fig.show()"
   ]
  },
  {
   "cell_type": "code",
   "execution_count": null,
   "metadata": {},
   "outputs": [],
   "source": [
    "def predict_phone_price(df: pl.DataFrame, f: Formula, storage: float, ram: float):\n",
    "    res = execute_ols(df, f)\n",
    "    params = dict(res.params)\n",
    "    prediction = params[\"Intercept\"] + params[\"storage\"]*storage + params[\"ram\"]*ram\n",
    "    return prediction"
   ]
  },
  {
   "cell_type": "code",
   "execution_count": null,
   "metadata": {},
   "outputs": [
    {
     "data": {
      "text/plain": [
       "143.2669566783436"
      ]
     },
     "execution_count": 180,
     "metadata": {},
     "output_type": "execute_result"
    }
   ],
   "source": [
    "predict_phone_price(df, f, 32, 1)"
   ]
  },
  {
   "cell_type": "code",
   "execution_count": null,
   "metadata": {},
   "outputs": [],
   "source": [
    "ols_model = smf.ols(\n",
    "    formula=f\"{y}~{X2}\",\n",
    "    data=df,\n",
    ")"
   ]
  },
  {
   "cell_type": "code",
   "execution_count": null,
   "metadata": {},
   "outputs": [],
   "source": [
    "res = ols_model.fit()"
   ]
  },
  {
   "cell_type": "code",
   "execution_count": null,
   "metadata": {},
   "outputs": [
    {
     "data": {
      "text/plain": [
       "{'Intercept': 1071.5195276459249,\n",
       " 'storage': 1.1958931708843838,\n",
       " 'ram': 53.85417103504183,\n",
       " 'battery': -0.23112324797420558}"
      ]
     },
     "execution_count": 150,
     "metadata": {},
     "output_type": "execute_result"
    }
   ],
   "source": [
    "dict(res.params)"
   ]
  },
  {
   "cell_type": "code",
   "execution_count": null,
   "metadata": {},
   "outputs": [],
   "source": [
    "real_price = df.select(\"price\").to_numpy()"
   ]
  },
  {
   "cell_type": "code",
   "execution_count": null,
   "metadata": {},
   "outputs": [],
   "source": [
    "price_predict = res.predict()"
   ]
  },
  {
   "cell_type": "code",
   "execution_count": null,
   "metadata": {},
   "outputs": [],
   "source": [
    "# res2 = res.get_robustcov_results(cov_type='HC1')\n",
    "# robuste std errors"
   ]
  },
  {
   "cell_type": "code",
   "execution_count": 66,
   "metadata": {},
   "outputs": [
    {
     "data": {
      "text/html": [
       "<table style=\"text-align:center\"><tr><td colspan=\"2\" style=\"border-bottom: 1px solid black\"></td></tr>\n",
       "<tr><td style=\"text-align:left\"></td><td colspan=\"1\"><em>Dependent variable: price</em></td></tr><tr><td style=\"text-align:left\"></td><tr><td style=\"text-align:left\"></td><td>(1)</td></tr>\n",
       "<tr><td colspan=\"2\" style=\"border-bottom: 1px solid black\"></td></tr>\n",
       "\n",
       "<tr><td style=\"text-align:left\">Intercept</td><td>-751.606<sup>***</sup></td></tr>\n",
       "<tr><td style=\"text-align:left\"></td><td>(142.553)</td></tr>\n",
       "<tr><td style=\"text-align:left\">brand[T.ASUS]</td><td>-146.214<sup>**</sup></td></tr>\n",
       "<tr><td style=\"text-align:left\"></td><td>(71.250)</td></tr>\n",
       "<tr><td style=\"text-align:left\">brand[T.FAIRPHONE]</td><td>-173.723<sup>*</sup></td></tr>\n",
       "<tr><td style=\"text-align:left\"></td><td>(96.570)</td></tr>\n",
       "<tr><td style=\"text-align:left\">brand[T.GOOGLE]</td><td>-250.027<sup>***</sup></td></tr>\n",
       "<tr><td style=\"text-align:left\"></td><td>(62.498)</td></tr>\n",
       "<tr><td style=\"text-align:left\">brand[T.HONOR]</td><td>-465.571<sup>***</sup></td></tr>\n",
       "<tr><td style=\"text-align:left\"></td><td>(65.931)</td></tr>\n",
       "<tr><td style=\"text-align:left\">brand[T.MOTOROLA]</td><td>-476.449<sup>***</sup></td></tr>\n",
       "<tr><td style=\"text-align:left\"></td><td>(49.277)</td></tr>\n",
       "<tr><td style=\"text-align:left\">brand[T.NOTHING]</td><td>-577.413<sup>***</sup></td></tr>\n",
       "<tr><td style=\"text-align:left\"></td><td>(69.496)</td></tr>\n",
       "<tr><td style=\"text-align:left\">brand[T.ONEPLUS]</td><td>-422.635<sup>***</sup></td></tr>\n",
       "<tr><td style=\"text-align:left\"></td><td>(70.387)</td></tr>\n",
       "<tr><td style=\"text-align:left\">brand[T.OPPO]</td><td>-351.686<sup>***</sup></td></tr>\n",
       "<tr><td style=\"text-align:left\"></td><td>(55.343)</td></tr>\n",
       "<tr><td style=\"text-align:left\">brand[T.REALME]</td><td>-364.761<sup>***</sup></td></tr>\n",
       "<tr><td style=\"text-align:left\"></td><td>(57.311)</td></tr>\n",
       "<tr><td style=\"text-align:left\">brand[T.SAMSUNG]</td><td>-214.676<sup>***</sup></td></tr>\n",
       "<tr><td style=\"text-align:left\"></td><td>(55.888)</td></tr>\n",
       "<tr><td style=\"text-align:left\">brand[T.SONY]</td><td>-239.051<sup>***</sup></td></tr>\n",
       "<tr><td style=\"text-align:left\"></td><td>(78.923)</td></tr>\n",
       "<tr><td style=\"text-align:left\">brand[T.VIVO]</td><td>-328.611<sup>***</sup></td></tr>\n",
       "<tr><td style=\"text-align:left\"></td><td>(62.484)</td></tr>\n",
       "<tr><td style=\"text-align:left\">brand[T.XIAOMI]</td><td>-326.006<sup>***</sup></td></tr>\n",
       "<tr><td style=\"text-align:left\"></td><td>(47.694)</td></tr>\n",
       "<tr><td style=\"text-align:left\">das_limbs</td><td>67.445<sup>***</sup></td></tr>\n",
       "<tr><td style=\"text-align:left\"></td><td>(19.536)</td></tr>\n",
       "<tr><td style=\"text-align:left\">diagonal_pixels</td><td>0.049<sup>**</sup></td></tr>\n",
       "<tr><td style=\"text-align:left\"></td><td>(0.024)</td></tr>\n",
       "<tr><td style=\"text-align:left\">induction[T.True]</td><td>259.520<sup>***</sup></td></tr>\n",
       "<tr><td style=\"text-align:left\"></td><td>(27.371)</td></tr>\n",
       "<tr><td style=\"text-align:left\">made_in[T.Inde]</td><td>-57.888<sup></sup></td></tr>\n",
       "<tr><td style=\"text-align:left\"></td><td>(155.003)</td></tr>\n",
       "<tr><td style=\"text-align:left\">made_in[T.Japon]</td><td>263.630<sup>**</sup></td></tr>\n",
       "<tr><td style=\"text-align:left\"></td><td>(127.239)</td></tr>\n",
       "<tr><td style=\"text-align:left\">made_in[T.Taïwan]</td><td>206.093<sup></sup></td></tr>\n",
       "<tr><td style=\"text-align:left\"></td><td>(158.676)</td></tr>\n",
       "<tr><td style=\"text-align:left\">made_in[T.Thaïlande]</td><td>468.409<sup>***</sup></td></tr>\n",
       "<tr><td style=\"text-align:left\"></td><td>(87.686)</td></tr>\n",
       "<tr><td style=\"text-align:left\">made_in[T.Viêt Nam]</td><td>-24.357<sup></sup></td></tr>\n",
       "<tr><td style=\"text-align:left\"></td><td>(42.420)</td></tr>\n",
       "<tr><td style=\"text-align:left\">network[T.5G]</td><td>38.018<sup></sup></td></tr>\n",
       "<tr><td style=\"text-align:left\"></td><td>(23.666)</td></tr>\n",
       "<tr><td style=\"text-align:left\">ram</td><td>36.603<sup>***</sup></td></tr>\n",
       "<tr><td style=\"text-align:left\"></td><td>(4.948)</td></tr>\n",
       "<tr><td style=\"text-align:left\">screen_size</td><td>128.321<sup>***</sup></td></tr>\n",
       "<tr><td style=\"text-align:left\"></td><td>(20.208)</td></tr>\n",
       "<tr><td style=\"text-align:left\">screen_type[T.Bords incurvés]</td><td>-127.616<sup>*</sup></td></tr>\n",
       "<tr><td style=\"text-align:left\"></td><td>(66.150)</td></tr>\n",
       "<tr><td style=\"text-align:left\">screen_type[T.Plat]</td><td>-60.230<sup>**</sup></td></tr>\n",
       "<tr><td style=\"text-align:left\"></td><td>(27.635)</td></tr>\n",
       "<tr><td style=\"text-align:left\">screen_type[T.Pliable]</td><td>348.942<sup>***</sup></td></tr>\n",
       "<tr><td style=\"text-align:left\"></td><td>(43.931)</td></tr>\n",
       "<tr><td style=\"text-align:left\">storage</td><td>0.652<sup>***</sup></td></tr>\n",
       "<tr><td style=\"text-align:left\"></td><td>(0.069)</td></tr>\n",
       "\n",
       "<td colspan=\"2\" style=\"border-bottom: 1px solid black\"></td></tr>\n",
       "<tr><td style=\"text-align: left\">Observations</td><td>430</td></tr><tr><td style=\"text-align: left\">R<sup>2</sup></td><td>0.897</td></tr><tr><td style=\"text-align: left\">Adjusted R<sup>2</sup></td><td>0.890</td></tr><tr><td style=\"text-align: left\">Residual Std. Error</td><td>150.243 (df=401)</td></tr><tr><td style=\"text-align: left\">F Statistic</td><td>125.185<sup>***</sup> (df=28; 401)</td></tr>\n",
       "<tr><td colspan=\"2\" style=\"border-bottom: 1px solid black\"></td></tr><tr><td style=\"text-align: left\">Note:</td><td colspan=\"1\" style=\"text-align: right\"><sup>*</sup>p&lt;0.1; <sup>**</sup>p&lt;0.05; <sup>***</sup>p&lt;0.01</td></tr></table>"
      ],
      "text/plain": [
       "<stargazer.stargazer.Stargazer at 0x1a6fda589a0>"
      ]
     },
     "execution_count": 66,
     "metadata": {},
     "output_type": "execute_result"
    }
   ],
   "source": [
    "Stargazer([res])"
   ]
  },
  {
   "cell_type": "markdown",
   "metadata": {},
   "source": [
    "- fuzzy match à mettre en place ici (pour la technologie de l'écran) ?\n",
    "- ajouter une feature complètement random (pour la partie Machine Learning) puis regarder l'importance des variables : si les variables sont moins importantes que la random, alors on les dégage"
   ]
  },
  {
   "cell_type": "code",
   "execution_count": null,
   "metadata": {},
   "outputs": [
    {
     "data": {
      "text/html": [
       "<div><style>\n",
       ".dataframe > thead > tr > th,\n",
       ".dataframe > tbody > tr > td {\n",
       "  text-align: right;\n",
       "  white-space: pre-wrap;\n",
       "}\n",
       "</style>\n",
       "<small>shape: (14, 2)</small><table border=\"1\" class=\"dataframe\"><thead><tr><th>brand</th><th>count</th></tr><tr><td>str</td><td>u32</td></tr></thead><tbody><tr><td>&quot;FAIRPHONE&quot;</td><td>3</td></tr><tr><td>&quot;ONEPLUS&quot;</td><td>7</td></tr><tr><td>&quot;NOTHING&quot;</td><td>7</td></tr><tr><td>&quot;VIVO&quot;</td><td>9</td></tr><tr><td>&quot;ASUS&quot;</td><td>12</td></tr><tr><td>&quot;REALME&quot;</td><td>14</td></tr><tr><td>&quot;HONOR&quot;</td><td>14</td></tr><tr><td>&quot;SONY&quot;</td><td>15</td></tr><tr><td>&quot;OPPO&quot;</td><td>18</td></tr><tr><td>&quot;GOOGLE&quot;</td><td>25</td></tr><tr><td>&quot;MOTOROLA&quot;</td><td>32</td></tr><tr><td>&quot;APPLE&quot;</td><td>46</td></tr><tr><td>&quot;XIAOMI&quot;</td><td>105</td></tr><tr><td>&quot;SAMSUNG&quot;</td><td>129</td></tr></tbody></table></div>"
      ],
      "text/plain": [
       "shape: (14, 2)\n",
       "┌───────────┬───────┐\n",
       "│ brand     ┆ count │\n",
       "│ ---       ┆ ---   │\n",
       "│ str       ┆ u32   │\n",
       "╞═══════════╪═══════╡\n",
       "│ FAIRPHONE ┆ 3     │\n",
       "│ ONEPLUS   ┆ 7     │\n",
       "│ NOTHING   ┆ 7     │\n",
       "│ VIVO      ┆ 9     │\n",
       "│ …         ┆ …     │\n",
       "│ MOTOROLA  ┆ 32    │\n",
       "│ APPLE     ┆ 46    │\n",
       "│ XIAOMI    ┆ 105   │\n",
       "│ SAMSUNG   ┆ 129   │\n",
       "└───────────┴───────┘"
      ]
     },
     "execution_count": 15,
     "metadata": {},
     "output_type": "execute_result"
    }
   ],
   "source": [
    "df.group_by(\"brand\").count().sort(\"count\")"
   ]
  },
  {
   "cell_type": "markdown",
   "metadata": {},
   "source": [
    "**TODO** `cleaning` :\n",
    "\n",
    "- [x] **network**\n",
    "- [x] **color**\n",
    "- [x] **price**\n",
    "- [x] **screen_type**\n",
    "- [ ] *cpu*"
   ]
  },
  {
   "cell_type": "code",
   "execution_count": null,
   "metadata": {},
   "outputs": [],
   "source": [
    "# df.select(\"cpu\").unique().to_numpy()\n",
    "# pour le cpu on va préférer retravailler pour avoir la fréquence en GHz plutot"
   ]
  },
  {
   "cell_type": "markdown",
   "metadata": {},
   "source": [
    "Vérification des valeurs nulles sur les différentes colonnes."
   ]
  },
  {
   "cell_type": "code",
   "execution_count": null,
   "metadata": {},
   "outputs": [
    {
     "data": {
      "text/html": [
       "<div><style>\n",
       ".dataframe > thead > tr > th,\n",
       ".dataframe > tbody > tr > td {\n",
       "  text-align: right;\n",
       "  white-space: pre-wrap;\n",
       "}\n",
       "</style>\n",
       "<small>shape: (1, 31)</small><table border=\"1\" class=\"dataframe\"><thead><tr><th>screen_tech</th><th>upgrade_storage</th><th>height</th><th>cpu</th><th>reviews</th><th>storage</th><th>color</th><th>fast_charging</th><th>sensor</th><th>model</th><th>sensor_resolution</th><th>ram</th><th>charging_type</th><th>repairability_index</th><th>das_chest</th><th>screen_size</th><th>network</th><th>net_weight</th><th>stars</th><th>das_limbs</th><th>battery</th><th>made_in</th><th>price</th><th>width</th><th>sim_type</th><th>thickness</th><th>das_head</th><th>screen_type</th><th>usb_type_c</th><th>brand</th><th>diagonal_pixels</th></tr><tr><td>u32</td><td>u32</td><td>u32</td><td>u32</td><td>u32</td><td>u32</td><td>u32</td><td>u32</td><td>u32</td><td>u32</td><td>u32</td><td>u32</td><td>u32</td><td>u32</td><td>u32</td><td>u32</td><td>u32</td><td>u32</td><td>u32</td><td>u32</td><td>u32</td><td>u32</td><td>u32</td><td>u32</td><td>u32</td><td>u32</td><td>u32</td><td>u32</td><td>u32</td><td>u32</td><td>u32</td></tr></thead><tbody><tr><td>0</td><td>0</td><td>1</td><td>1</td><td>0</td><td>0</td><td>1</td><td>0</td><td>75</td><td>0</td><td>0</td><td>0</td><td>3</td><td>0</td><td>0</td><td>0</td><td>0</td><td>14</td><td>0</td><td>0</td><td>0</td><td>7</td><td>0</td><td>1</td><td>0</td><td>1</td><td>0</td><td>0</td><td>0</td><td>0</td><td>0</td></tr></tbody></table></div>"
      ],
      "text/plain": [
       "shape: (1, 31)\n",
       "┌─────────────┬───────────────┬────────┬─────┬───┬─────────────┬────────────┬───────┬──────────────┐\n",
       "│ screen_tech ┆ upgrade_stora ┆ height ┆ cpu ┆ … ┆ screen_type ┆ usb_type_c ┆ brand ┆ diagonal_pix │\n",
       "│ ---         ┆ ge            ┆ ---    ┆ --- ┆   ┆ ---         ┆ ---        ┆ ---   ┆ els          │\n",
       "│ u32         ┆ ---           ┆ u32    ┆ u32 ┆   ┆ u32         ┆ u32        ┆ u32   ┆ ---          │\n",
       "│             ┆ u32           ┆        ┆     ┆   ┆             ┆            ┆       ┆ u32          │\n",
       "╞═════════════╪═══════════════╪════════╪═════╪═══╪═════════════╪════════════╪═══════╪══════════════╡\n",
       "│ 0           ┆ 0             ┆ 1      ┆ 1   ┆ … ┆ 0           ┆ 0          ┆ 0     ┆ 0            │\n",
       "└─────────────┴───────────────┴────────┴─────┴───┴─────────────┴────────────┴───────┴──────────────┘"
      ]
     },
     "execution_count": 53,
     "metadata": {},
     "output_type": "execute_result"
    }
   ],
   "source": [
    "df.select(pl.all().is_null().sum())"
   ]
  }
 ],
 "metadata": {
  "kernelspec": {
   "display_name": "Python 3",
   "language": "python",
   "name": "python3"
  },
  "language_info": {
   "codemirror_mode": {
    "name": "ipython",
    "version": 3
   },
   "file_extension": ".py",
   "mimetype": "text/x-python",
   "name": "python",
   "nbconvert_exporter": "python",
   "pygments_lexer": "ipython3",
   "version": "3.10.6"
  }
 },
 "nbformat": 4,
 "nbformat_minor": 2
}
