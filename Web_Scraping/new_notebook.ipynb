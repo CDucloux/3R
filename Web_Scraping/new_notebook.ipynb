{
 "cells": [
  {
   "cell_type": "code",
   "execution_count": 2,
   "metadata": {},
   "outputs": [],
   "source": [
    "from script.scraper_functions import *\n",
    "from script.soupifier import *\n",
    "from serde.json import to_json"
   ]
  },
  {
   "cell_type": "markdown",
   "metadata": {},
   "source": [
    "**TODO**:\n",
    "\n",
    "- `ruff` $\\Rightarrow$ linter, à utiliser plus dans le cadre du dvpt\n",
    "- `pytest` avec subprocess.run pour tester le code\n",
    "- `pytest-coverage`\n",
    "- `poetry` avec gestion des dépendances\n",
    "- `black` pour automatiquement indenter, etc.\n",
    "- `doctest` pour tester les exemples des docstrings\n",
    "- `bandit` pour gérer les vulnérabilités\n",
    "\n",
    "***\n",
    "\n",
    "- `yarl` pour travailler avec des URL"
   ]
  },
  {
   "cell_type": "markdown",
   "metadata": {},
   "source": [
    "## Le code ci-dessous lance le `scraper`\n",
    "\n",
    "- Tu peux changer le nombre d'*URL* de **19** à 1 ou 2 pour tester ça prendra beaucoup moins longtemps à générer\n",
    "- Lien [`Darty`](https://www.darty.com/nav/extra/list?seller=311289-0-327183-311290-311291-328771-311452&cat=89054&state=new_offer&persist_sold_by_darty=true) $\\Rightarrow$ en choisissant les produits uniquement vendus par Darty + Neufs on a 567 produits.\n",
    "- Avoir un comparatif Boulanger/Darty pourrait être intéressant\n",
    "- Voir pour récupérer les images des téléphones pour plus tard dans l'appli - voir : https://discuss.streamlit.io/t/add-image-and-header-to-streamlit-dataframe-table/36065/3"
   ]
  },
  {
   "cell_type": "code",
   "execution_count": 4,
   "metadata": {},
   "outputs": [],
   "source": [
    "URL = \"https://boulanger.com/c/nav-filtre/smartphone-telephone-portable?_etat_produit~neuf\""
   ]
  },
  {
   "cell_type": "code",
   "execution_count": 5,
   "metadata": {},
   "outputs": [
    {
     "name": "stdout",
     "output_type": "stream",
     "text": [
      "Page 1 -> Successfull Extraction.\n",
      "Page 2 -> Successfull Extraction.\n",
      "Page 3 -> Successfull Extraction.\n",
      "Page 4 -> Successfull Extraction.\n",
      "Page 5 -> Successfull Extraction.\n",
      "Page 6 -> Successfull Extraction.\n",
      "Page 7 -> Successfull Extraction.\n",
      "Page 8 -> Successfull Extraction.\n",
      "Page 9 -> Successfull Extraction.\n",
      "Page 10 -> Successfull Extraction.\n"
     ]
    },
    {
     "data": {
      "text/html": [
       "<pre style=\"white-space:pre;overflow-x:auto;line-height:normal;font-family:Menlo,'DejaVu Sans Mono',consolas,'Courier New',monospace\"><span style=\"font-style: italic\">Elapsed time</span> for <span style=\"color: #800000; text-decoration-color: #800000; font-weight: bold\">read_pages</span> function: <span style=\"color: #008080; text-decoration-color: #008080; font-weight: bold\">39.687</span> seconds.\n",
       "</pre>\n"
      ],
      "text/plain": [
       "\u001b[3mElapsed time\u001b[0m for \u001b[1;31mread_pages\u001b[0m function: \u001b[1;36m39.687\u001b[0m seconds.\n"
      ]
     },
     "metadata": {},
     "output_type": "display_data"
    }
   ],
   "source": [
    "session = create_session()\n",
    "url_list = create_url_list(URL, 11) #11\n",
    "pages = read_pages(url_list=url_list, session=session)"
   ]
  },
  {
   "cell_type": "code",
   "execution_count": null,
   "metadata": {},
   "outputs": [],
   "source": [
    "all_urls = extract_all_urls(pages)\n",
    "print(\"--------------------\")\n",
    "product_pages = extract_all_pages(all_urls, session)"
   ]
  },
  {
   "cell_type": "code",
   "execution_count": null,
   "metadata": {},
   "outputs": [],
   "source": [
    "all_urls"
   ]
  },
  {
   "cell_type": "markdown",
   "metadata": {},
   "source": [
    "Il faudrait créer une fonction pour la génération de la liste des smartphones + l'export en `json`"
   ]
  },
  {
   "cell_type": "code",
   "execution_count": 8,
   "metadata": {},
   "outputs": [],
   "source": [
    "smartphone_list = list()\n",
    "for article in product_pages:\n",
    "    soup = BeautifulSoup(article, \"html.parser\")\n",
    "    dict_features = extract_features(soup)\n",
    "    smartphone = smartphone_characteristics(dict_features)\n",
    "    smartphone_list.append(smartphone)"
   ]
  },
  {
   "cell_type": "code",
   "execution_count": 9,
   "metadata": {},
   "outputs": [],
   "source": [
    "smartphones_json = to_json(smartphone_list)"
   ]
  },
  {
   "cell_type": "code",
   "execution_count": 10,
   "metadata": {},
   "outputs": [],
   "source": [
    "file_path = \"data/smartphones_2.json\"\n",
    "\n",
    "with open(file_path, \"w\", encoding=\"utf-8\") as json_file:\n",
    "    json_file.write(smartphones_json)"
   ]
  },
  {
   "cell_type": "markdown",
   "metadata": {},
   "source": [
    "## Charge le Dataframe dans `polars`"
   ]
  },
  {
   "cell_type": "code",
   "execution_count": 1,
   "metadata": {},
   "outputs": [],
   "source": [
    "import polars as pl\n",
    "import polars.selectors as cs\n",
    "from script.polars_gazprom import *\n",
    "from itertools import chain"
   ]
  },
  {
   "cell_type": "code",
   "execution_count": 2,
   "metadata": {},
   "outputs": [],
   "source": [
    "df_brut = pl.read_json(\"data/smartphones_2.json\")"
   ]
  },
  {
   "cell_type": "markdown",
   "metadata": {},
   "source": [
    "### Pipeline"
   ]
  },
  {
   "cell_type": "markdown",
   "metadata": {},
   "source": [
    "Sur `535` extractions, il y a `487` téléphones valides."
   ]
  },
  {
   "cell_type": "code",
   "execution_count": 3,
   "metadata": {},
   "outputs": [],
   "source": [
    "df = NordStream(df_brut)"
   ]
  },
  {
   "cell_type": "code",
   "execution_count": 5,
   "metadata": {},
   "outputs": [],
   "source": [
    "from pathlib import Path\n",
    "\n",
    "root = Path(\".\").resolve()\n",
    "data_folder = root / \"data\"\n",
    "path_file = data_folder / \"df_clean_2.csv\""
   ]
  },
  {
   "cell_type": "code",
   "execution_count": 3,
   "metadata": {},
   "outputs": [
    {
     "ename": "NameError",
     "evalue": "name 'df' is not defined",
     "output_type": "error",
     "traceback": [
      "\u001b[1;31m---------------------------------------------------------------------------\u001b[0m",
      "\u001b[1;31mNameError\u001b[0m                                 Traceback (most recent call last)",
      "Cell \u001b[1;32mIn [3], line 1\u001b[0m\n\u001b[1;32m----> 1\u001b[0m \u001b[43mdf\u001b[49m\u001b[38;5;241m.\u001b[39mwrite_csv(path_file, separator\u001b[38;5;241m=\u001b[39m\u001b[38;5;124m\"\u001b[39m\u001b[38;5;124m;\u001b[39m\u001b[38;5;124m\"\u001b[39m)\n\u001b[0;32m      2\u001b[0m \u001b[38;5;28;01mimport\u001b[39;00m \u001b[38;5;21;01mpolars\u001b[39;00m \u001b[38;5;28;01mas\u001b[39;00m \u001b[38;5;21;01mpl\u001b[39;00m\n",
      "\u001b[1;31mNameError\u001b[0m: name 'df' is not defined"
     ]
    }
   ],
   "source": [
    "df.write_csv(path_file, separator=\";\")"
   ]
  },
  {
   "cell_type": "code",
   "execution_count": 14,
   "metadata": {},
   "outputs": [],
   "source": [
    "import polars as pl\n",
    "import plotly.express as px"
   ]
  },
  {
   "cell_type": "code",
   "execution_count": 15,
   "metadata": {},
   "outputs": [],
   "source": [
    "df = pl.read_parquet(\"data/sfa_results_app.parquet\")"
   ]
  },
  {
   "cell_type": "code",
   "execution_count": 30,
   "metadata": {},
   "outputs": [],
   "source": [
    "ctx = pl.SQLContext()"
   ]
  },
  {
   "cell_type": "code",
   "execution_count": 41,
   "metadata": {},
   "outputs": [
    {
     "data": {
      "text/plain": [
       "4.0"
      ]
     },
     "execution_count": 41,
     "metadata": {},
     "output_type": "execute_result"
    }
   ],
   "source": [
    "ctx.register(\"df\", df).execute(\n",
    "    \"SELECT ram FROM df WHERE model = 'iPhone 14 Plus' AND color = 'Jaune' \"\n",
    "    ).collect().item()"
   ]
  },
  {
   "cell_type": "code",
   "execution_count": 31,
   "metadata": {},
   "outputs": [
    {
     "data": {
      "text/plain": [
       "85"
      ]
     },
     "execution_count": 31,
     "metadata": {},
     "output_type": "execute_result"
    }
   ],
   "source": [
    "df.filter(pl.col(\"efficiency\") < 0.8).select(pl.col(\"model\").count()).item()"
   ]
  },
  {
   "cell_type": "code",
   "execution_count": 9,
   "metadata": {},
   "outputs": [
    {
     "data": {
      "application/vnd.plotly.v1+json": {
       "config": {
        "plotlyServerURL": "https://plot.ly"
       },
       "data": [
        {
         "alignmentgroup": "True",
         "boxpoints": "all",
         "hovertemplate": "<b>Prix :</b> %{y}<br><b>RAM :</b> %{x}<br>",
         "legendgroup": "",
         "marker": {
          "color": "#636efa"
         },
         "name": "",
         "notched": false,
         "offsetgroup": "",
         "orientation": "v",
         "showlegend": false,
         "type": "box",
         "x": [
          "2 Go",
          "2 Go",
          "2 Go",
          "2 Go",
          "2 Go",
          "2 Go",
          "2 Go",
          "2 Go",
          "2 Go",
          "2 Go",
          "2 Go",
          "2 Go",
          "2 Go",
          "2 Go",
          "3 Go",
          "3 Go",
          "3 Go",
          "3 Go",
          "3 Go",
          "3 Go",
          "3 Go",
          "3 Go",
          "3 Go",
          "3 Go",
          "3 Go",
          "3 Go",
          "3 Go",
          "3 Go",
          "4 Go",
          "4 Go",
          "4 Go",
          "4 Go",
          "4 Go",
          "4 Go",
          "4 Go",
          "4 Go",
          "4 Go",
          "4 Go",
          "4 Go",
          "4 Go",
          "4 Go",
          "4 Go",
          "4 Go",
          "4 Go",
          "4 Go",
          "4 Go",
          "4 Go",
          "4 Go",
          "4 Go",
          "4 Go",
          "4 Go",
          "4 Go",
          "4 Go",
          "4 Go",
          "4 Go",
          "4 Go",
          "4 Go",
          "4 Go",
          "4 Go",
          "4 Go",
          "4 Go",
          "4 Go",
          "4 Go",
          "4 Go",
          "4 Go",
          "4 Go",
          "4 Go",
          "4 Go",
          "4 Go",
          "4 Go",
          "4 Go",
          "4 Go",
          "4 Go",
          "4 Go",
          "4 Go",
          "4 Go",
          "4 Go",
          "4 Go",
          "4 Go",
          "4 Go",
          "4 Go",
          "4 Go",
          "4 Go",
          "4 Go",
          "4 Go",
          "4 Go",
          "4 Go",
          "4 Go",
          "4 Go",
          "4 Go",
          "4 Go",
          "4 Go",
          "4 Go",
          "4 Go",
          "4 Go",
          "4 Go",
          "4 Go",
          "4 Go",
          "4 Go",
          "4 Go",
          "4 Go",
          "4 Go",
          "4 Go",
          "4 Go",
          "4 Go",
          "4 Go",
          "4 Go",
          "4 Go",
          "4 Go",
          "4 Go",
          "4 Go",
          "4 Go",
          "4 Go",
          "4 Go",
          "4 Go",
          "4 Go",
          "4 Go",
          "4 Go",
          "4 Go",
          "4 Go",
          "4 Go",
          "4 Go",
          "4 Go",
          "4 Go",
          "4 Go",
          "4 Go",
          "4 Go",
          "4 Go",
          "4 Go",
          "4 Go",
          "4 Go",
          "4 Go",
          "4 Go",
          "6 Go",
          "6 Go",
          "6 Go",
          "6 Go",
          "6 Go",
          "6 Go",
          "6 Go",
          "6 Go",
          "6 Go",
          "6 Go",
          "6 Go",
          "6 Go",
          "6 Go",
          "6 Go",
          "6 Go",
          "6 Go",
          "6 Go",
          "6 Go",
          "6 Go",
          "6 Go",
          "6 Go",
          "6 Go",
          "6 Go",
          "6 Go",
          "6 Go",
          "6 Go",
          "6 Go",
          "6 Go",
          "6 Go",
          "6 Go",
          "6 Go",
          "6 Go",
          "6 Go",
          "6 Go",
          "6 Go",
          "6 Go",
          "6 Go",
          "6 Go",
          "6 Go",
          "6 Go",
          "6 Go",
          "6 Go",
          "6 Go",
          "6 Go",
          "6 Go",
          "6 Go",
          "6 Go",
          "6 Go",
          "6 Go",
          "6 Go",
          "6 Go",
          "6 Go",
          "6 Go",
          "6 Go",
          "6 Go",
          "6 Go",
          "6 Go",
          "6 Go",
          "6 Go",
          "6 Go",
          "6 Go",
          "6 Go",
          "6 Go",
          "6 Go",
          "6 Go",
          "6 Go",
          "6 Go",
          "6 Go",
          "6 Go",
          "6 Go",
          "6 Go",
          "8 Go",
          "8 Go",
          "8 Go",
          "8 Go",
          "8 Go",
          "8 Go",
          "8 Go",
          "8 Go",
          "8 Go",
          "8 Go",
          "8 Go",
          "8 Go",
          "8 Go",
          "8 Go",
          "8 Go",
          "8 Go",
          "8 Go",
          "8 Go",
          "8 Go",
          "8 Go",
          "8 Go",
          "8 Go",
          "8 Go",
          "8 Go",
          "8 Go",
          "8 Go",
          "8 Go",
          "8 Go",
          "8 Go",
          "8 Go",
          "8 Go",
          "8 Go",
          "8 Go",
          "8 Go",
          "8 Go",
          "8 Go",
          "8 Go",
          "8 Go",
          "8 Go",
          "8 Go",
          "8 Go",
          "8 Go",
          "8 Go",
          "8 Go",
          "8 Go",
          "8 Go",
          "8 Go",
          "8 Go",
          "8 Go",
          "8 Go",
          "8 Go",
          "8 Go",
          "8 Go",
          "8 Go",
          "8 Go",
          "8 Go",
          "8 Go",
          "8 Go",
          "8 Go",
          "8 Go",
          "8 Go",
          "8 Go",
          "8 Go",
          "8 Go",
          "8 Go",
          "8 Go",
          "8 Go",
          "8 Go",
          "8 Go",
          "8 Go",
          "8 Go",
          "8 Go",
          "8 Go",
          "8 Go",
          "8 Go",
          "8 Go",
          "8 Go",
          "8 Go",
          "8 Go",
          "8 Go",
          "8 Go",
          "8 Go",
          "8 Go",
          "8 Go",
          "8 Go",
          "8 Go",
          "8 Go",
          "8 Go",
          "8 Go",
          "8 Go",
          "8 Go",
          "8 Go",
          "8 Go",
          "8 Go",
          "8 Go",
          "8 Go",
          "8 Go",
          "8 Go",
          "8 Go",
          "8 Go",
          "8 Go",
          "8 Go",
          "8 Go",
          "8 Go",
          "8 Go",
          "8 Go",
          "8 Go",
          "8 Go",
          "8 Go",
          "8 Go",
          "8 Go",
          "8 Go",
          "8 Go",
          "8 Go",
          "8 Go",
          "8 Go",
          "8 Go",
          "8 Go",
          "8 Go",
          "8 Go",
          "8 Go",
          "8 Go",
          "8 Go",
          "8 Go",
          "8 Go",
          "8 Go",
          "8 Go",
          "8 Go",
          "8 Go",
          "8 Go",
          "8 Go",
          "8 Go",
          "8 Go",
          "8 Go",
          "8 Go",
          "8 Go",
          "8 Go",
          "8 Go",
          "8 Go",
          "8 Go",
          "8 Go",
          "8 Go",
          "8 Go",
          "8 Go",
          "8 Go",
          "8 Go",
          "8 Go",
          "8 Go",
          "8 Go",
          "8 Go",
          "8 Go",
          "8 Go",
          "8 Go",
          "8 Go",
          "8 Go",
          "12 Go",
          "12 Go",
          "12 Go",
          "12 Go",
          "12 Go",
          "12 Go",
          "12 Go",
          "12 Go",
          "12 Go",
          "12 Go",
          "12 Go",
          "12 Go",
          "12 Go",
          "12 Go",
          "12 Go",
          "12 Go",
          "12 Go",
          "12 Go",
          "12 Go",
          "12 Go",
          "12 Go",
          "12 Go",
          "12 Go",
          "12 Go",
          "12 Go",
          "12 Go",
          "12 Go",
          "12 Go",
          "12 Go",
          "12 Go",
          "12 Go",
          "12 Go",
          "12 Go",
          "12 Go",
          "12 Go",
          "12 Go",
          "12 Go",
          "12 Go",
          "12 Go",
          "12 Go",
          "12 Go",
          "12 Go",
          "12 Go",
          "12 Go",
          "12 Go",
          "12 Go",
          "12 Go",
          "12 Go",
          "12 Go",
          "12 Go",
          "12 Go",
          "12 Go",
          "12 Go",
          "12 Go",
          "12 Go",
          "12 Go",
          "12 Go",
          "12 Go",
          "12 Go",
          "12 Go",
          "12 Go",
          "12 Go",
          "12 Go",
          "12 Go",
          "12 Go",
          "12 Go",
          "12 Go",
          "12 Go",
          "12 Go",
          "12 Go",
          "12 Go",
          "16 Go",
          "16 Go"
         ],
         "x0": " ",
         "xaxis": "x",
         "y": [
          98.93,
          84.9,
          84.6,
          79,
          99,
          90.34,
          94.63,
          127.48,
          109,
          84.6,
          81.9,
          114.72,
          93.5,
          99.39,
          140.27,
          119.17,
          149,
          129,
          469,
          129,
          133.4,
          119,
          102.51,
          299,
          102.51,
          539,
          118.03,
          539,
          209,
          989,
          149,
          551.73,
          249,
          219,
          179,
          869,
          199,
          599,
          704.9,
          199,
          219,
          262.5,
          199,
          216.24,
          689,
          976,
          159,
          869,
          649,
          869,
          169,
          699,
          159,
          169,
          210.2,
          529,
          169,
          159,
          169,
          649,
          144.63,
          184.28,
          158.95,
          649,
          169,
          769,
          138.28,
          335.48,
          989,
          899,
          369,
          179,
          210.2,
          198,
          199,
          899,
          249,
          989,
          148.2,
          177.57,
          149,
          122.82,
          189.68,
          369,
          179,
          140.5,
          179,
          222.76,
          768.95,
          599,
          146.06,
          168.33,
          562.99,
          179,
          649,
          899,
          249,
          219,
          179.94,
          769,
          199,
          529,
          689,
          193.06,
          369,
          204.37,
          193.32,
          146.06,
          169,
          159,
          859,
          619,
          649,
          283.56,
          179.5,
          179,
          899,
          146.92,
          688,
          649,
          869,
          245.4,
          216.48,
          390,
          769,
          147.5,
          126.01,
          208.1,
          779,
          999,
          869,
          166.9,
          153.3,
          1149.03,
          259.21,
          1149,
          1149,
          1350.59,
          1019,
          231.62,
          759,
          279,
          349,
          869,
          214.81,
          297.42,
          279,
          1019,
          380.2,
          214.81,
          999,
          442,
          379,
          1019,
          195.9,
          1149,
          1389,
          1350.59,
          222.55,
          335.89,
          379,
          349.44,
          869,
          759,
          297.53,
          759,
          279,
          999,
          358.04,
          1239,
          1206.25,
          869,
          349,
          319,
          258.4,
          379,
          139,
          242.41,
          359,
          359.15,
          319,
          1206.25,
          1019,
          191.89,
          319,
          273.53,
          515.59,
          263.5,
          1350.59,
          349,
          1149,
          999,
          999,
          869,
          1019,
          1350.59,
          1249,
          965.66,
          869,
          183.3,
          1249,
          307.5,
          486.94,
          422.07,
          783.9,
          1669,
          1239,
          1239,
          1799,
          1299,
          649,
          1669,
          859,
          1545,
          249,
          959,
          229,
          699,
          322.23,
          729,
          567.9,
          1099,
          1109.02,
          1549,
          299,
          1919,
          199,
          379,
          199,
          243.45,
          299,
          159,
          1239,
          269,
          249,
          499,
          419,
          449.7,
          263.62,
          799,
          1799,
          899,
          598.4,
          264.94,
          379.9,
          429,
          249,
          666.94,
          789,
          1169,
          439.41,
          1310.51,
          429,
          899,
          1419,
          292.15,
          503.12,
          1299,
          379,
          699,
          249,
          429,
          419,
          899,
          1239,
          959,
          319,
          759,
          300.34,
          349,
          899,
          799,
          838.08,
          1219,
          349.99,
          1169,
          899,
          349,
          238.83,
          399,
          999,
          279,
          299.31,
          859,
          999,
          729,
          279,
          999,
          1799,
          169,
          298.23,
          759,
          269,
          379,
          809.5,
          1919,
          1919,
          759,
          899,
          882.97,
          696.9,
          1669,
          449,
          959,
          959,
          269,
          1419,
          1549,
          286.42,
          356.54,
          1919,
          232,
          1099,
          859,
          1799,
          1419,
          249,
          783.32,
          199,
          399,
          668.5,
          421.06,
          399,
          1043.94,
          1169,
          229,
          229,
          789,
          1169,
          689,
          159,
          249,
          159,
          399,
          1419,
          1749,
          699,
          1299,
          1199,
          1099,
          789,
          349,
          319,
          759,
          277.11,
          899,
          349,
          229,
          729,
          299,
          449,
          1669,
          343.71,
          1299,
          1545,
          729,
          399,
          399,
          499,
          1829,
          1469,
          399,
          459,
          1248.99,
          1029.55,
          1244.41,
          1469,
          349,
          1169,
          794.83,
          1829,
          1879,
          1589,
          449.03,
          459,
          1399,
          999,
          379,
          299,
          259,
          1237.62,
          1289,
          1589,
          811.13,
          1337.5,
          1289,
          779.13,
          1141.9,
          1589,
          349,
          974.9,
          349,
          1289,
          1829,
          299.99,
          1469,
          562.86,
          1169,
          1589,
          1289,
          459,
          1058.57,
          346.9,
          299,
          399,
          1829,
          1469,
          1059,
          1059,
          1879,
          856.04,
          1070.32,
          1169,
          399,
          449,
          329,
          1199,
          1749,
          1399,
          999,
          1169,
          999,
          299,
          1059,
          1879,
          893.9,
          666.26,
          893.9,
          876.9,
          658.82,
          999,
          1999
         ],
         "y0": " ",
         "yaxis": "y"
        }
       ],
       "layout": {
        "boxmode": "group",
        "legend": {
         "tracegroupgap": 0
        },
        "margin": {
         "t": 60
        },
        "template": {
         "data": {
          "bar": [
           {
            "error_x": {
             "color": "#2a3f5f"
            },
            "error_y": {
             "color": "#2a3f5f"
            },
            "marker": {
             "line": {
              "color": "#E5ECF6",
              "width": 0.5
             },
             "pattern": {
              "fillmode": "overlay",
              "size": 10,
              "solidity": 0.2
             }
            },
            "type": "bar"
           }
          ],
          "barpolar": [
           {
            "marker": {
             "line": {
              "color": "#E5ECF6",
              "width": 0.5
             },
             "pattern": {
              "fillmode": "overlay",
              "size": 10,
              "solidity": 0.2
             }
            },
            "type": "barpolar"
           }
          ],
          "carpet": [
           {
            "aaxis": {
             "endlinecolor": "#2a3f5f",
             "gridcolor": "white",
             "linecolor": "white",
             "minorgridcolor": "white",
             "startlinecolor": "#2a3f5f"
            },
            "baxis": {
             "endlinecolor": "#2a3f5f",
             "gridcolor": "white",
             "linecolor": "white",
             "minorgridcolor": "white",
             "startlinecolor": "#2a3f5f"
            },
            "type": "carpet"
           }
          ],
          "choropleth": [
           {
            "colorbar": {
             "outlinewidth": 0,
             "ticks": ""
            },
            "type": "choropleth"
           }
          ],
          "contour": [
           {
            "colorbar": {
             "outlinewidth": 0,
             "ticks": ""
            },
            "colorscale": [
             [
              0,
              "#0d0887"
             ],
             [
              0.1111111111111111,
              "#46039f"
             ],
             [
              0.2222222222222222,
              "#7201a8"
             ],
             [
              0.3333333333333333,
              "#9c179e"
             ],
             [
              0.4444444444444444,
              "#bd3786"
             ],
             [
              0.5555555555555556,
              "#d8576b"
             ],
             [
              0.6666666666666666,
              "#ed7953"
             ],
             [
              0.7777777777777778,
              "#fb9f3a"
             ],
             [
              0.8888888888888888,
              "#fdca26"
             ],
             [
              1,
              "#f0f921"
             ]
            ],
            "type": "contour"
           }
          ],
          "contourcarpet": [
           {
            "colorbar": {
             "outlinewidth": 0,
             "ticks": ""
            },
            "type": "contourcarpet"
           }
          ],
          "heatmap": [
           {
            "colorbar": {
             "outlinewidth": 0,
             "ticks": ""
            },
            "colorscale": [
             [
              0,
              "#0d0887"
             ],
             [
              0.1111111111111111,
              "#46039f"
             ],
             [
              0.2222222222222222,
              "#7201a8"
             ],
             [
              0.3333333333333333,
              "#9c179e"
             ],
             [
              0.4444444444444444,
              "#bd3786"
             ],
             [
              0.5555555555555556,
              "#d8576b"
             ],
             [
              0.6666666666666666,
              "#ed7953"
             ],
             [
              0.7777777777777778,
              "#fb9f3a"
             ],
             [
              0.8888888888888888,
              "#fdca26"
             ],
             [
              1,
              "#f0f921"
             ]
            ],
            "type": "heatmap"
           }
          ],
          "heatmapgl": [
           {
            "colorbar": {
             "outlinewidth": 0,
             "ticks": ""
            },
            "colorscale": [
             [
              0,
              "#0d0887"
             ],
             [
              0.1111111111111111,
              "#46039f"
             ],
             [
              0.2222222222222222,
              "#7201a8"
             ],
             [
              0.3333333333333333,
              "#9c179e"
             ],
             [
              0.4444444444444444,
              "#bd3786"
             ],
             [
              0.5555555555555556,
              "#d8576b"
             ],
             [
              0.6666666666666666,
              "#ed7953"
             ],
             [
              0.7777777777777778,
              "#fb9f3a"
             ],
             [
              0.8888888888888888,
              "#fdca26"
             ],
             [
              1,
              "#f0f921"
             ]
            ],
            "type": "heatmapgl"
           }
          ],
          "histogram": [
           {
            "marker": {
             "pattern": {
              "fillmode": "overlay",
              "size": 10,
              "solidity": 0.2
             }
            },
            "type": "histogram"
           }
          ],
          "histogram2d": [
           {
            "colorbar": {
             "outlinewidth": 0,
             "ticks": ""
            },
            "colorscale": [
             [
              0,
              "#0d0887"
             ],
             [
              0.1111111111111111,
              "#46039f"
             ],
             [
              0.2222222222222222,
              "#7201a8"
             ],
             [
              0.3333333333333333,
              "#9c179e"
             ],
             [
              0.4444444444444444,
              "#bd3786"
             ],
             [
              0.5555555555555556,
              "#d8576b"
             ],
             [
              0.6666666666666666,
              "#ed7953"
             ],
             [
              0.7777777777777778,
              "#fb9f3a"
             ],
             [
              0.8888888888888888,
              "#fdca26"
             ],
             [
              1,
              "#f0f921"
             ]
            ],
            "type": "histogram2d"
           }
          ],
          "histogram2dcontour": [
           {
            "colorbar": {
             "outlinewidth": 0,
             "ticks": ""
            },
            "colorscale": [
             [
              0,
              "#0d0887"
             ],
             [
              0.1111111111111111,
              "#46039f"
             ],
             [
              0.2222222222222222,
              "#7201a8"
             ],
             [
              0.3333333333333333,
              "#9c179e"
             ],
             [
              0.4444444444444444,
              "#bd3786"
             ],
             [
              0.5555555555555556,
              "#d8576b"
             ],
             [
              0.6666666666666666,
              "#ed7953"
             ],
             [
              0.7777777777777778,
              "#fb9f3a"
             ],
             [
              0.8888888888888888,
              "#fdca26"
             ],
             [
              1,
              "#f0f921"
             ]
            ],
            "type": "histogram2dcontour"
           }
          ],
          "mesh3d": [
           {
            "colorbar": {
             "outlinewidth": 0,
             "ticks": ""
            },
            "type": "mesh3d"
           }
          ],
          "parcoords": [
           {
            "line": {
             "colorbar": {
              "outlinewidth": 0,
              "ticks": ""
             }
            },
            "type": "parcoords"
           }
          ],
          "pie": [
           {
            "automargin": true,
            "type": "pie"
           }
          ],
          "scatter": [
           {
            "fillpattern": {
             "fillmode": "overlay",
             "size": 10,
             "solidity": 0.2
            },
            "type": "scatter"
           }
          ],
          "scatter3d": [
           {
            "line": {
             "colorbar": {
              "outlinewidth": 0,
              "ticks": ""
             }
            },
            "marker": {
             "colorbar": {
              "outlinewidth": 0,
              "ticks": ""
             }
            },
            "type": "scatter3d"
           }
          ],
          "scattercarpet": [
           {
            "marker": {
             "colorbar": {
              "outlinewidth": 0,
              "ticks": ""
             }
            },
            "type": "scattercarpet"
           }
          ],
          "scattergeo": [
           {
            "marker": {
             "colorbar": {
              "outlinewidth": 0,
              "ticks": ""
             }
            },
            "type": "scattergeo"
           }
          ],
          "scattergl": [
           {
            "marker": {
             "colorbar": {
              "outlinewidth": 0,
              "ticks": ""
             }
            },
            "type": "scattergl"
           }
          ],
          "scattermapbox": [
           {
            "marker": {
             "colorbar": {
              "outlinewidth": 0,
              "ticks": ""
             }
            },
            "type": "scattermapbox"
           }
          ],
          "scatterpolar": [
           {
            "marker": {
             "colorbar": {
              "outlinewidth": 0,
              "ticks": ""
             }
            },
            "type": "scatterpolar"
           }
          ],
          "scatterpolargl": [
           {
            "marker": {
             "colorbar": {
              "outlinewidth": 0,
              "ticks": ""
             }
            },
            "type": "scatterpolargl"
           }
          ],
          "scatterternary": [
           {
            "marker": {
             "colorbar": {
              "outlinewidth": 0,
              "ticks": ""
             }
            },
            "type": "scatterternary"
           }
          ],
          "surface": [
           {
            "colorbar": {
             "outlinewidth": 0,
             "ticks": ""
            },
            "colorscale": [
             [
              0,
              "#0d0887"
             ],
             [
              0.1111111111111111,
              "#46039f"
             ],
             [
              0.2222222222222222,
              "#7201a8"
             ],
             [
              0.3333333333333333,
              "#9c179e"
             ],
             [
              0.4444444444444444,
              "#bd3786"
             ],
             [
              0.5555555555555556,
              "#d8576b"
             ],
             [
              0.6666666666666666,
              "#ed7953"
             ],
             [
              0.7777777777777778,
              "#fb9f3a"
             ],
             [
              0.8888888888888888,
              "#fdca26"
             ],
             [
              1,
              "#f0f921"
             ]
            ],
            "type": "surface"
           }
          ],
          "table": [
           {
            "cells": {
             "fill": {
              "color": "#EBF0F8"
             },
             "line": {
              "color": "white"
             }
            },
            "header": {
             "fill": {
              "color": "#C8D4E3"
             },
             "line": {
              "color": "white"
             }
            },
            "type": "table"
           }
          ]
         },
         "layout": {
          "annotationdefaults": {
           "arrowcolor": "#2a3f5f",
           "arrowhead": 0,
           "arrowwidth": 1
          },
          "autotypenumbers": "strict",
          "coloraxis": {
           "colorbar": {
            "outlinewidth": 0,
            "ticks": ""
           }
          },
          "colorscale": {
           "diverging": [
            [
             0,
             "#8e0152"
            ],
            [
             0.1,
             "#c51b7d"
            ],
            [
             0.2,
             "#de77ae"
            ],
            [
             0.3,
             "#f1b6da"
            ],
            [
             0.4,
             "#fde0ef"
            ],
            [
             0.5,
             "#f7f7f7"
            ],
            [
             0.6,
             "#e6f5d0"
            ],
            [
             0.7,
             "#b8e186"
            ],
            [
             0.8,
             "#7fbc41"
            ],
            [
             0.9,
             "#4d9221"
            ],
            [
             1,
             "#276419"
            ]
           ],
           "sequential": [
            [
             0,
             "#0d0887"
            ],
            [
             0.1111111111111111,
             "#46039f"
            ],
            [
             0.2222222222222222,
             "#7201a8"
            ],
            [
             0.3333333333333333,
             "#9c179e"
            ],
            [
             0.4444444444444444,
             "#bd3786"
            ],
            [
             0.5555555555555556,
             "#d8576b"
            ],
            [
             0.6666666666666666,
             "#ed7953"
            ],
            [
             0.7777777777777778,
             "#fb9f3a"
            ],
            [
             0.8888888888888888,
             "#fdca26"
            ],
            [
             1,
             "#f0f921"
            ]
           ],
           "sequentialminus": [
            [
             0,
             "#0d0887"
            ],
            [
             0.1111111111111111,
             "#46039f"
            ],
            [
             0.2222222222222222,
             "#7201a8"
            ],
            [
             0.3333333333333333,
             "#9c179e"
            ],
            [
             0.4444444444444444,
             "#bd3786"
            ],
            [
             0.5555555555555556,
             "#d8576b"
            ],
            [
             0.6666666666666666,
             "#ed7953"
            ],
            [
             0.7777777777777778,
             "#fb9f3a"
            ],
            [
             0.8888888888888888,
             "#fdca26"
            ],
            [
             1,
             "#f0f921"
            ]
           ]
          },
          "colorway": [
           "#636efa",
           "#EF553B",
           "#00cc96",
           "#ab63fa",
           "#FFA15A",
           "#19d3f3",
           "#FF6692",
           "#B6E880",
           "#FF97FF",
           "#FECB52"
          ],
          "font": {
           "color": "#2a3f5f"
          },
          "geo": {
           "bgcolor": "white",
           "lakecolor": "white",
           "landcolor": "#E5ECF6",
           "showlakes": true,
           "showland": true,
           "subunitcolor": "white"
          },
          "hoverlabel": {
           "align": "left"
          },
          "hovermode": "closest",
          "mapbox": {
           "style": "light"
          },
          "paper_bgcolor": "white",
          "plot_bgcolor": "#E5ECF6",
          "polar": {
           "angularaxis": {
            "gridcolor": "white",
            "linecolor": "white",
            "ticks": ""
           },
           "bgcolor": "#E5ECF6",
           "radialaxis": {
            "gridcolor": "white",
            "linecolor": "white",
            "ticks": ""
           }
          },
          "scene": {
           "xaxis": {
            "backgroundcolor": "#E5ECF6",
            "gridcolor": "white",
            "gridwidth": 2,
            "linecolor": "white",
            "showbackground": true,
            "ticks": "",
            "zerolinecolor": "white"
           },
           "yaxis": {
            "backgroundcolor": "#E5ECF6",
            "gridcolor": "white",
            "gridwidth": 2,
            "linecolor": "white",
            "showbackground": true,
            "ticks": "",
            "zerolinecolor": "white"
           },
           "zaxis": {
            "backgroundcolor": "#E5ECF6",
            "gridcolor": "white",
            "gridwidth": 2,
            "linecolor": "white",
            "showbackground": true,
            "ticks": "",
            "zerolinecolor": "white"
           }
          },
          "shapedefaults": {
           "line": {
            "color": "#2a3f5f"
           }
          },
          "ternary": {
           "aaxis": {
            "gridcolor": "white",
            "linecolor": "white",
            "ticks": ""
           },
           "baxis": {
            "gridcolor": "white",
            "linecolor": "white",
            "ticks": ""
           },
           "bgcolor": "#E5ECF6",
           "caxis": {
            "gridcolor": "white",
            "linecolor": "white",
            "ticks": ""
           }
          },
          "title": {
           "x": 0.05
          },
          "xaxis": {
           "automargin": true,
           "gridcolor": "white",
           "linecolor": "white",
           "ticks": "",
           "title": {
            "standoff": 15
           },
           "zerolinecolor": "white",
           "zerolinewidth": 2
          },
          "yaxis": {
           "automargin": true,
           "gridcolor": "white",
           "linecolor": "white",
           "ticks": "",
           "title": {
            "standoff": 15
           },
           "zerolinecolor": "white",
           "zerolinewidth": 2
          }
         }
        },
        "xaxis": {
         "anchor": "y",
         "domain": [
          0,
          1
         ],
         "title": {
          "text": ""
         }
        },
        "yaxis": {
         "anchor": "x",
         "domain": [
          0,
          1
         ],
         "ticksuffix": " €",
         "title": {
          "text": ""
         }
        }
       }
      }
     },
     "metadata": {},
     "output_type": "display_data"
    }
   ],
   "source": [
    "df_ram = df.sort(pl.col(\"ram\")).with_columns(\n",
    "    pl.format(\"{} Go\", pl.col(\"ram\").cast(pl.Int64)).alias(\"ram_fmt\")\n",
    ")\n",
    "\n",
    "fig_ram = px.box(df_ram, x=\"ram_fmt\", y=\"price\", points=\"all\")\n",
    "fig_ram.update_layout(yaxis=dict(title=\"\", ticksuffix=\" €\"), xaxis=dict(title=\"\"))\n",
    "fig_ram.update_traces(\n",
    "    boxpoints=\"all\",\n",
    "    hovertemplate=\"<b>Prix :</b> %{y}<br>\" \"<b>RAM :</b> %{x}<br>\",\n",
    ")\n",
    "\n",
    "fig_ram"
   ]
  },
  {
   "cell_type": "code",
   "execution_count": 1,
   "metadata": {},
   "outputs": [
    {
     "ename": "NameError",
     "evalue": "name 'df' is not defined",
     "output_type": "error",
     "traceback": [
      "\u001b[1;31m---------------------------------------------------------------------------\u001b[0m",
      "\u001b[1;31mNameError\u001b[0m                                 Traceback (most recent call last)",
      "Cell \u001b[1;32mIn [1], line 1\u001b[0m\n\u001b[1;32m----> 1\u001b[0m \u001b[43mdf\u001b[49m\u001b[38;5;241m.\u001b[39mselect(pl\u001b[38;5;241m.\u001b[39mcorr(\u001b[38;5;124m\"\u001b[39m\u001b[38;5;124mram\u001b[39m\u001b[38;5;124m\"\u001b[39m, \u001b[38;5;124m\"\u001b[39m\u001b[38;5;124mstorage\u001b[39m\u001b[38;5;124m\"\u001b[39m))\n",
      "\u001b[1;31mNameError\u001b[0m: name 'df' is not defined"
     ]
    }
   ],
   "source": [
    "df.select(pl.corr(\"ram\", \"storage\"))"
   ]
  },
  {
   "cell_type": "code",
   "execution_count": 78,
   "metadata": {},
   "outputs": [],
   "source": [
    "fig_ram = px.box(df_ram, x=\"ram_fmt\", y=\"price\", points=\"all\")"
   ]
  },
  {
   "cell_type": "code",
   "execution_count": 77,
   "metadata": {},
   "outputs": [
    {
     "name": "stdout",
     "output_type": "stream",
     "text": [
      "box\n"
     ]
    }
   ],
   "source": [
    "for trace in fig_ram.data:\n",
    "    print(trace.type)"
   ]
  },
  {
   "cell_type": "code",
   "execution_count": 8,
   "metadata": {},
   "outputs": [],
   "source": [
    "import datetime"
   ]
  },
  {
   "cell_type": "code",
   "execution_count": 12,
   "metadata": {},
   "outputs": [],
   "source": [
    "current_year = datetime.date.today().year"
   ]
  },
  {
   "cell_type": "code",
   "execution_count": 27,
   "metadata": {},
   "outputs": [],
   "source": [
    "df_mean_price = df.group_by(\"brand\").agg(pl.col(\"price\").mean().round(2)).sort(\"price\")\n",
    "df_mean_price = df_mean_price.with_columns(\n",
    "    pl.format(\"{} €\", pl.col(\"price\")).alias(\"price_str\")\n",
    ")\n",
    "\n",
    "least_expensive_brand = (\n",
    "        df_mean_price.filter(pl.col(\"price\") == pl.col(\"price\").min())\n",
    "        .select(\"brand\")\n",
    "        .item()\n",
    ")"
   ]
  },
  {
   "cell_type": "code",
   "execution_count": 29,
   "metadata": {},
   "outputs": [
    {
     "data": {
      "text/plain": [
       "'XIAOMI'"
      ]
     },
     "execution_count": 29,
     "metadata": {},
     "output_type": "execute_result"
    }
   ],
   "source": [
    "df_mean_price.filter(pl.col(\"price\") == pl.col(\"price\").min()).select(\"brand\").item()"
   ]
  },
  {
   "cell_type": "code",
   "execution_count": 30,
   "metadata": {},
   "outputs": [],
   "source": [
    "def item_getter(\n",
    "    df_mean_price: pl.DataFrame, column: str, min: bool = True\n",
    ") -> str | float:\n",
    "    if min:\n",
    "        item = (\n",
    "            df_mean_price.filter(pl.col(\"price\") == pl.col(\"price\").min())\n",
    "            .select(column)\n",
    "            .item()\n",
    "        )\n",
    "    if not min:\n",
    "        item = (\n",
    "            df_mean_price.filter(pl.col(\"price\") == pl.col(\"price\").max())\n",
    "            .select(column)\n",
    "            .item()\n",
    "        )\n",
    "    return item"
   ]
  }
 ],
 "metadata": {
  "kernelspec": {
   "display_name": "Python 3",
   "language": "python",
   "name": "python3"
  },
  "language_info": {
   "codemirror_mode": {
    "name": "ipython",
    "version": 3
   },
   "file_extension": ".py",
   "mimetype": "text/x-python",
   "name": "python",
   "nbconvert_exporter": "python",
   "pygments_lexer": "ipython3",
   "version": "3.10.6"
  }
 },
 "nbformat": 4,
 "nbformat_minor": 2
}
