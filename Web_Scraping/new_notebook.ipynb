{
 "cells": [
  {
   "cell_type": "code",
   "execution_count": 59,
   "metadata": {},
   "outputs": [],
   "source": [
    "from script.scraper_functions import *\n",
    "from script.soupifier import *\n",
    "from serde.json import to_json\n",
    "import numpy as np\n",
    "from itertools import chain\n",
    "from yarl import URL"
   ]
  },
  {
   "cell_type": "markdown",
   "metadata": {},
   "source": [
    "**TODO**:\n",
    "\n",
    "- `ruff` $\\Rightarrow$ linter, à utiliser plus dans le cadre du dvpt\n",
    "- `pytest` avec subprocess.run pour tester le code\n",
    "- `pytest-coverage`\n",
    "- `poetry` avec gestion des dépendances\n",
    "- `black` pour automatiquement indenter, etc.\n",
    "- `doctest` pour tester les exemples des docstrings\n",
    "- `bandit` pour gérer les vulnérabilités\n",
    "\n",
    "***\n",
    "\n",
    "- `yarl` pour travailler avec des URL"
   ]
  },
  {
   "cell_type": "markdown",
   "metadata": {},
   "source": [
    "## Le code ci-dessous lance le `scraper`\n",
    "\n",
    "- Tu peux changer le nombre d'*URL* de **19** à 1 ou 2 pour tester ça prendra beaucoup moins longtemps à générer\n",
    "- Lien [`Darty`](https://www.darty.com/nav/extra/list?seller=311289-0-327183-311290-311291-328771-311452&cat=89054&state=new_offer&persist_sold_by_darty=true) $\\Rightarrow$ en choisissant les produits uniquement vendus par Darty + Neufs on a 567 produits.\n",
    "- Avoir un comparatif Boulanger/Darty pourrait être intéressant\n",
    "- Voir pour récupérer les images des téléphones pour plus tard dans l'appli - voir : https://discuss.streamlit.io/t/add-image-and-header-to-streamlit-dataframe-table/36065/3"
   ]
  },
  {
   "cell_type": "code",
   "execution_count": 60,
   "metadata": {},
   "outputs": [
    {
     "data": {
      "text/plain": [
       "URL('')"
      ]
     },
     "execution_count": 60,
     "metadata": {},
     "output_type": "execute_result"
    }
   ],
   "source": [
    "URL()"
   ]
  },
  {
   "cell_type": "code",
   "execution_count": 61,
   "metadata": {},
   "outputs": [],
   "source": [
    "session = create_session()\n",
    "url_list = create_url_list(URL, 1)\n",
    "pages = read_pages(url_list=url_list, session=session)"
   ]
  },
  {
   "cell_type": "code",
   "execution_count": null,
   "metadata": {},
   "outputs": [
    {
     "data": {
      "text/html": [
       "<pre style=\"white-space:pre;overflow-x:auto;line-height:normal;font-family:Menlo,'DejaVu Sans Mono',consolas,'Courier New',monospace\"><span style=\"font-style: italic\">Elapsed time</span> for <span style=\"color: #800000; text-decoration-color: #800000; font-weight: bold\">extract_all_urls</span> function: <span style=\"color: #008080; text-decoration-color: #008080; font-weight: bold\">0.488</span> seconds.\n",
       "</pre>\n"
      ],
      "text/plain": [
       "\u001b[3mElapsed time\u001b[0m for \u001b[1;31mextract_all_urls\u001b[0m function: \u001b[1;36m0.488\u001b[0m seconds.\n"
      ]
     },
     "metadata": {},
     "output_type": "display_data"
    },
    {
     "name": "stdout",
     "output_type": "stream",
     "text": [
      "--------------------\n",
      "Product 1 -> Successfull Extraction.\n",
      "Product 2 -> Successfull Extraction.\n",
      "Product 3 -> Successfull Extraction.\n",
      "Product 4 -> Successfull Extraction.\n",
      "Product 5 -> Successfull Extraction.\n",
      "Product 6 -> Successfull Extraction.\n",
      "Product 7 -> Successfull Extraction.\n",
      "Product 8 -> Successfull Extraction.\n",
      "Product 9 -> Successfull Extraction.\n",
      "Product 10 -> Successfull Extraction.\n",
      "Product 11 -> Successfull Extraction.\n",
      "Product 12 -> Successfull Extraction.\n",
      "Product 13 -> Successfull Extraction.\n",
      "Product 14 -> Successfull Extraction.\n",
      "Product 15 -> Successfull Extraction.\n",
      "Product 16 -> Successfull Extraction.\n",
      "Product 17 -> Successfull Extraction.\n",
      "Product 18 -> Successfull Extraction.\n",
      "Product 19 -> Successfull Extraction.\n",
      "Product 20 -> Successfull Extraction.\n",
      "Product 21 -> Successfull Extraction.\n",
      "Product 22 -> Successfull Extraction.\n",
      "Product 23 -> Successfull Extraction.\n",
      "Product 24 -> Successfull Extraction.\n",
      "Product 25 -> Successfull Extraction.\n",
      "Product 26 -> Successfull Extraction.\n",
      "Product 27 -> Successfull Extraction.\n",
      "Product 28 -> Successfull Extraction.\n",
      "Product 29 -> Successfull Extraction.\n",
      "Product 30 -> Successfull Extraction.\n"
     ]
    },
    {
     "data": {
      "text/html": [
       "<pre style=\"white-space:pre;overflow-x:auto;line-height:normal;font-family:Menlo,'DejaVu Sans Mono',consolas,'Courier New',monospace\"><span style=\"font-style: italic\">Elapsed time</span> for <span style=\"color: #800000; text-decoration-color: #800000; font-weight: bold\">extract_all_pages</span> function: <span style=\"color: #008080; text-decoration-color: #008080; font-weight: bold\">59.688</span> seconds.\n",
       "</pre>\n"
      ],
      "text/plain": [
       "\u001b[3mElapsed time\u001b[0m for \u001b[1;31mextract_all_pages\u001b[0m function: \u001b[1;36m59.688\u001b[0m seconds.\n"
      ]
     },
     "metadata": {},
     "output_type": "display_data"
    }
   ],
   "source": [
    "all_urls = extract_all_urls(pages)\n",
    "print(\"--------------------\")\n",
    "product_pages = extract_all_pages(all_urls, session)"
   ]
  },
  {
   "cell_type": "markdown",
   "metadata": {},
   "source": [
    "Il faudrait créer une fonction pour la génération de la liste des smartphones + l'export en `json`"
   ]
  },
  {
   "cell_type": "code",
   "execution_count": null,
   "metadata": {},
   "outputs": [],
   "source": [
    "smartphone_list = list()\n",
    "for article in product_pages:\n",
    "    soup = BeautifulSoup(article, \"html.parser\")\n",
    "    dict_features = extract_features(soup)\n",
    "    smartphone = smartphone_characteristics(dict_features)\n",
    "    smartphone_list.append(smartphone)"
   ]
  },
  {
   "cell_type": "code",
   "execution_count": null,
   "metadata": {},
   "outputs": [],
   "source": [
    "smartphones_json = to_json(smartphone_list)"
   ]
  },
  {
   "cell_type": "code",
   "execution_count": null,
   "metadata": {},
   "outputs": [],
   "source": [
    "file_path = \"data/smartphones.json\"\n",
    "\n",
    "with open(file_path, \"w\", encoding=\"utf-8\") as json_file:\n",
    "    json_file.write(smartphones_json)"
   ]
  },
  {
   "cell_type": "markdown",
   "metadata": {},
   "source": [
    "## Charge le Dataframe dans `polars`"
   ]
  },
  {
   "cell_type": "code",
   "execution_count": 2,
   "metadata": {},
   "outputs": [],
   "source": [
    "import polars as pl\n",
    "import polars.selectors as cs\n",
    "from script.polars_gazprom import *"
   ]
  },
  {
   "cell_type": "code",
   "execution_count": 3,
   "metadata": {},
   "outputs": [],
   "source": [
    "df_brut = pl.read_json(\"data/smartphones.json\")"
   ]
  },
  {
   "cell_type": "code",
   "execution_count": 4,
   "metadata": {},
   "outputs": [
    {
     "data": {
      "text/html": [
       "<div><style>\n",
       ".dataframe > thead > tr > th,\n",
       ".dataframe > tbody > tr > td {\n",
       "  text-align: right;\n",
       "  white-space: pre-wrap;\n",
       "}\n",
       "</style>\n",
       "<small>shape: (1, 37)</small><table border=\"1\" class=\"dataframe\"><thead><tr><th>cpu</th><th>usb_type_c</th><th>model</th><th>repairability_index</th><th>brand</th><th>das_limbs</th><th>charging_type</th><th>das_chest</th><th>height</th><th>storage</th><th>stars</th><th>upgrade_storage</th><th>sim_number</th><th>reviews</th><th>ram</th><th>warranty</th><th>das_head</th><th>screen_tech</th><th>sensor</th><th>sensor_resolution</th><th>thickness</th><th>os</th><th>battery</th><th>price</th><th>screen_type</th><th>net_weight</th><th>made_in</th><th>fast_charging</th><th>screen_resolution</th><th>bluetooth</th><th>color</th><th>sim_type</th><th>width</th><th>screen_size</th><th>network</th><th>refresh_rate</th><th>cpu_details</th></tr><tr><td>u32</td><td>u32</td><td>u32</td><td>u32</td><td>u32</td><td>u32</td><td>u32</td><td>u32</td><td>u32</td><td>u32</td><td>u32</td><td>u32</td><td>u32</td><td>u32</td><td>u32</td><td>u32</td><td>u32</td><td>u32</td><td>u32</td><td>u32</td><td>u32</td><td>u32</td><td>u32</td><td>u32</td><td>u32</td><td>u32</td><td>u32</td><td>u32</td><td>u32</td><td>u32</td><td>u32</td><td>u32</td><td>u32</td><td>u32</td><td>u32</td><td>u32</td><td>u32</td></tr></thead><tbody><tr><td>5</td><td>86</td><td>0</td><td>16</td><td>0</td><td>13</td><td>17</td><td>13</td><td>3</td><td>0</td><td>0</td><td>1</td><td>5</td><td>0</td><td>29</td><td>92</td><td>13</td><td>2</td><td>81</td><td>1</td><td>3</td><td>2</td><td>24</td><td>0</td><td>4</td><td>18</td><td>48</td><td>2</td><td>0</td><td>0</td><td>1</td><td>0</td><td>3</td><td>0</td><td>0</td><td>337</td><td>210</td></tr></tbody></table></div>"
      ],
      "text/plain": [
       "shape: (1, 37)\n",
       "┌─────┬────────────┬───────┬──────────────┬───┬─────────────┬─────────┬──────────────┬─────────────┐\n",
       "│ cpu ┆ usb_type_c ┆ model ┆ repairabilit ┆ … ┆ screen_size ┆ network ┆ refresh_rate ┆ cpu_details │\n",
       "│ --- ┆ ---        ┆ ---   ┆ y_index      ┆   ┆ ---         ┆ ---     ┆ ---          ┆ ---         │\n",
       "│ u32 ┆ u32        ┆ u32   ┆ ---          ┆   ┆ u32         ┆ u32     ┆ u32          ┆ u32         │\n",
       "│     ┆            ┆       ┆ u32          ┆   ┆             ┆         ┆              ┆             │\n",
       "╞═════╪════════════╪═══════╪══════════════╪═══╪═════════════╪═════════╪══════════════╪═════════════╡\n",
       "│ 5   ┆ 86         ┆ 0     ┆ 16           ┆ … ┆ 0           ┆ 0       ┆ 337          ┆ 210         │\n",
       "└─────┴────────────┴───────┴──────────────┴───┴─────────────┴─────────┴──────────────┴─────────────┘"
      ]
     },
     "execution_count": 4,
     "metadata": {},
     "output_type": "execute_result"
    }
   ],
   "source": [
    "df_brut.select(pl.all().is_null().sum())"
   ]
  },
  {
   "cell_type": "markdown",
   "metadata": {},
   "source": [
    "### Pipeline"
   ]
  },
  {
   "cell_type": "markdown",
   "metadata": {},
   "source": [
    "Sur `535` extractions, il y a `487` téléphones valides.\n",
    "\n",
    "Pour obtenir la *PPI* (Pixels per Inch) on fait : \n",
    "\n",
    "$$PPI = \\dfrac{\\text{diagonal\\_pixels}}{\\text{screen\\_size} (inch)}$$"
   ]
  },
  {
   "cell_type": "code",
   "execution_count": 5,
   "metadata": {},
   "outputs": [],
   "source": [
    "df = NordStream(df_brut)"
   ]
  },
  {
   "cell_type": "code",
   "execution_count": 6,
   "metadata": {},
   "outputs": [
    {
     "data": {
      "text/html": [
       "<div><style>\n",
       ".dataframe > thead > tr > th,\n",
       ".dataframe > tbody > tr > td {\n",
       "  text-align: right;\n",
       "  white-space: pre-wrap;\n",
       "}\n",
       "</style>\n",
       "<small>shape: (487, 38)</small><table border=\"1\" class=\"dataframe\"><thead><tr><th>cpu</th><th>usb_type_c</th><th>model</th><th>repairability_index</th><th>brand</th><th>das_limbs</th><th>das_chest</th><th>height</th><th>storage</th><th>stars</th><th>upgrade_storage</th><th>reviews</th><th>ram</th><th>das_head</th><th>screen_tech</th><th>sensor</th><th>cam_1</th><th>cam_2</th><th>cam_3</th><th>thickness</th><th>battery</th><th>price</th><th>screen_type</th><th>net_weight</th><th>made_in</th><th>fast_charging</th><th>resolution_1</th><th>resolution_2</th><th>color</th><th>width</th><th>screen_size</th><th>network</th><th>diagonal_pixels</th><th>logprice</th><th>induction</th><th>ppi</th><th>mpx_backward_cam</th><th>random_col</th></tr><tr><td>str</td><td>bool</td><td>str</td><td>f64</td><td>str</td><td>f64</td><td>f64</td><td>f64</td><td>i64</td><td>f64</td><td>bool</td><td>i64</td><td>i64</td><td>f64</td><td>str</td><td>str</td><td>f64</td><td>f64</td><td>f64</td><td>f64</td><td>i64</td><td>f64</td><td>str</td><td>f64</td><td>str</td><td>bool</td><td>i64</td><td>i64</td><td>str</td><td>f64</td><td>f64</td><td>str</td><td>f64</td><td>f64</td><td>bool</td><td>f64</td><td>f64</td><td>i64</td></tr></thead><tbody><tr><td>&quot;Qualcomm Snapd…</td><td>true</td><td>&quot;SONY Xperia 5 …</td><td>8.5</td><td>&quot;SONY&quot;</td><td>2.11</td><td>1.05</td><td>15.4</td><td>128</td><td>0.0</td><td>true</td><td>0</td><td>8</td><td>0.95</td><td>&quot;OLED FHD+&quot;</td><td>&quot;3&quot;</td><td>12.0</td><td>12.0</td><td>12.0</td><td>0.9</td><td>5000</td><td>999.0</td><td>&quot;Plat&quot;</td><td>0.0</td><td>&quot;Thaïlande&quot;</td><td>true</td><td>2520</td><td>1080</td><td>&quot;Argent&quot;</td><td>0.7</td><td>6.1</td><td>&quot;5G&quot;</td><td>2741.678318</td><td>6.906755</td><td>true</td><td>449.455462</td><td>36.0</td><td>731</td></tr><tr><td>&quot;Puce A17 Pro&quot;</td><td>false</td><td>&quot;iPhone 15 Pro&quot;</td><td>7.6</td><td>&quot;APPLE&quot;</td><td>2.99</td><td>0.96</td><td>146.6</td><td>512</td><td>5.0</td><td>false</td><td>1</td><td>8</td><td>0.98</td><td>&quot;Super Retina X…</td><td>&quot;3&quot;</td><td>48.0</td><td>12.0</td><td>12.0</td><td>8.2</td><td>3650</td><td>1609.0</td><td>&quot;Plat&quot;</td><td>187.0</td><td>&quot;Chine&quot;</td><td>true</td><td>2556</td><td>1179</td><td>&quot;Bleu&quot;</td><td>70.6</td><td>6.1</td><td>&quot;5G&quot;</td><td>2814.813848</td><td>7.383368</td><td>true</td><td>461.444893</td><td>72.0</td><td>-499</td></tr><tr><td>&quot;Exynos 2200&quot;</td><td>true</td><td>&quot;Samsung Galaxy…</td><td>8.2</td><td>&quot;SAMSUNG&quot;</td><td>2.71</td><td>1.59</td><td>146.0</td><td>256</td><td>4.0</td><td>false</td><td>1</td><td>8</td><td>1.21</td><td>&quot;Dynamic AMOLED…</td><td>&quot;3&quot;</td><td>50.0</td><td>12.0</td><td>10.0</td><td>0.8</td><td>3700</td><td>857.59</td><td>&quot;Plat&quot;</td><td>167.0</td><td>&quot;Viêt Nam&quot;</td><td>true</td><td>2340</td><td>1080</td><td>&quot;Noir&quot;</td><td>87.0</td><td>6.1</td><td>&quot;5G&quot;</td><td>2577.207791</td><td>6.754126</td><td>true</td><td>422.493081</td><td>72.0</td><td>-45</td></tr><tr><td>&quot;8 coeurs jusqu…</td><td>true</td><td>&quot;Motorola G53&quot;</td><td>7.1</td><td>&quot;MOTOROLA&quot;</td><td>2.98</td><td>1.32</td><td>162.7</td><td>128</td><td>4.3333</td><td>true</td><td>3</td><td>4</td><td>0.98</td><td>&quot;LCD&quot;</td><td>&quot;2&quot;</td><td>50.0</td><td>2.0</td><td>0.0</td><td>8.2</td><td>5000</td><td>199.0</td><td>&quot;Plat&quot;</td><td>183.0</td><td>&quot;Chine&quot;</td><td>false</td><td>1600</td><td>720</td><td>&quot;Bleu&quot;</td><td>74.7</td><td>6.5</td><td>&quot;5G&quot;</td><td>1754.536976</td><td>5.293305</td><td>false</td><td>269.928766</td><td>52.0</td><td>745</td></tr><tr><td>&quot;Google Tensor …</td><td>true</td><td>&quot;Google Pixel 8…</td><td>8.2</td><td>&quot;GOOGLE&quot;</td><td>2.49</td><td>1.2</td><td>15.1</td><td>128</td><td>0.0</td><td>false</td><td>0</td><td>8</td><td>0.98</td><td>&quot;Actua ou OLED …</td><td>&quot;3&quot;</td><td>50.0</td><td>12.0</td><td>10.0</td><td>0.9</td><td>4500</td><td>799.0</td><td>&quot;Plat&quot;</td><td>null</td><td>&quot;Viêt Nam&quot;</td><td>true</td><td>1080</td><td>2400</td><td>&quot;Noir&quot;</td><td>7.1</td><td>6.2</td><td>&quot;5G&quot;</td><td>2631.805464</td><td>6.683361</td><td>true</td><td>424.484752</td><td>72.0</td><td>644</td></tr><tr><td>&quot;Puce A16 Bioni…</td><td>true</td><td>&quot;iPhone 15 Plus…</td><td>7.5</td><td>&quot;APPLE&quot;</td><td>2.98</td><td>0.98</td><td>160.9</td><td>512</td><td>0.0</td><td>false</td><td>0</td><td>6</td><td>0.98</td><td>&quot;OLED&quot;</td><td>&quot;2&quot;</td><td>48.0</td><td>12.0</td><td>0.0</td><td>7.8</td><td>4912</td><td>1499.0</td><td>&quot;Plat&quot;</td><td>201.0</td><td>&quot;Chine&quot;</td><td>true</td><td>2796</td><td>1290</td><td>&quot;Bleu&quot;</td><td>77.8</td><td>6.7</td><td>&quot;5G&quot;</td><td>3079.239517</td><td>7.312553</td><td>true</td><td>459.587988</td><td>60.0</td><td>-328</td></tr><tr><td>&quot;8 coeurs jusqu…</td><td>true</td><td>&quot;Xiaomi Redmi 9…</td><td>7.0</td><td>&quot;XIAOMI&quot;</td><td>2.526</td><td>1.186</td><td>164.9</td><td>32</td><td>4.0</td><td>true</td><td>2</td><td>2</td><td>0.398</td><td>&quot;HD+&quot;</td><td>&quot;1&quot;</td><td>13.0</td><td>0.0</td><td>0.0</td><td>9.0</td><td>5000</td><td>95.9</td><td>&quot;Plat&quot;</td><td>194.0</td><td>&quot;Chine&quot;</td><td>true</td><td>1600</td><td>720</td><td>&quot;Gris&quot;</td><td>77.1</td><td>6.5</td><td>&quot;4G&quot;</td><td>1754.536976</td><td>4.563306</td><td>false</td><td>269.928766</td><td>13.0</td><td>-24</td></tr><tr><td>&quot;Qualcomm Snapd…</td><td>true</td><td>&quot;HONOR Magic5 L…</td><td>8.0</td><td>&quot;HONOR&quot;</td><td>2.81</td><td>1.27</td><td>161.6</td><td>256</td><td>4.1333</td><td>false</td><td>15</td><td>8</td><td>0.82</td><td>&quot;AMOLED (rigide…</td><td>&quot;3&quot;</td><td>64.0</td><td>5.0</td><td>2.0</td><td>7.9</td><td>5100</td><td>299.0</td><td>&quot;Bords incurvés…</td><td>175.0</td><td>&quot;Chine&quot;</td><td>true</td><td>1080</td><td>2400</td><td>&quot;Noir&quot;</td><td>73.9</td><td>6.7</td><td>&quot;5G&quot;</td><td>2631.805464</td><td>5.700444</td><td>false</td><td>392.806786</td><td>71.0</td><td>-98</td></tr><tr><td>&quot;Google Tensor&quot;</td><td>true</td><td>&quot;Google Pixel 6…</td><td>6.4</td><td>&quot;GOOGLE&quot;</td><td>2.96</td><td>1.4</td><td>163.9</td><td>128</td><td>4.087</td><td>false</td><td>23</td><td>12</td><td>0.99</td><td>&quot;Non communiqué…</td><td>&quot;3&quot;</td><td>50.0</td><td>48.0</td><td>12.0</td><td>8.9</td><td>5000</td><td>633.67</td><td>&quot;Plat&quot;</td><td>210.0</td><td>&quot;Chine&quot;</td><td>true</td><td>3120</td><td>1440</td><td>&quot;Noir&quot;</td><td>75.9</td><td>6.7</td><td>&quot;5G&quot;</td><td>3436.277055</td><td>6.451528</td><td>true</td><td>512.877172</td><td>110.0</td><td>-739</td></tr><tr><td>&quot;Non communiqué…</td><td>true</td><td>&quot;Realme GT Mast…</td><td>6.2</td><td>&quot;REALME&quot;</td><td>1.88</td><td>1.18</td><td>159.1</td><td>128</td><td>0.0</td><td>true</td><td>0</td><td>6</td><td>1.139</td><td>&quot;Non communiqué…</td><td>null</td><td>0.0</td><td>0.0</td><td>0.0</td><td>8.0</td><td>4300</td><td>304.25</td><td>&quot;Borderless&quot;</td><td>174.0</td><td>&quot;Chine&quot;</td><td>true</td><td>1080</td><td>2400</td><td>&quot;Noir&quot;</td><td>73.5</td><td>6.4</td><td>&quot;5G&quot;</td><td>2631.805464</td><td>5.71785</td><td>false</td><td>411.219604</td><td>0.0</td><td>477</td></tr><tr><td>&quot;Google Tensor …</td><td>true</td><td>&quot;Google Pixel 8…</td><td>8.2</td><td>&quot;GOOGLE&quot;</td><td>2.49</td><td>1.2</td><td>15.1</td><td>256</td><td>0.0</td><td>false</td><td>0</td><td>8</td><td>0.98</td><td>&quot;Actua ou OLED …</td><td>&quot;3&quot;</td><td>50.0</td><td>12.0</td><td>10.0</td><td>0.9</td><td>4500</td><td>859.0</td><td>&quot;Plat&quot;</td><td>null</td><td>&quot;Viêt Nam&quot;</td><td>true</td><td>1080</td><td>2400</td><td>&quot;Vert&quot;</td><td>7.1</td><td>6.2</td><td>&quot;5G&quot;</td><td>2631.805464</td><td>6.755769</td><td>true</td><td>424.484752</td><td>72.0</td><td>57</td></tr><tr><td>&quot;Google Tensor …</td><td>true</td><td>&quot;Google Pixel 8…</td><td>8.2</td><td>&quot;GOOGLE&quot;</td><td>2.5</td><td>1.2</td><td>16.3</td><td>128</td><td>0.0</td><td>false</td><td>0</td><td>12</td><td>0.84</td><td>&quot;Super Actua ou…</td><td>null</td><td>50.0</td><td>48.0</td><td>48.0</td><td>0.9</td><td>5000</td><td>1099.0</td><td>&quot;Plat&quot;</td><td>null</td><td>&quot;Viêt Nam&quot;</td><td>true</td><td>2772</td><td>1344</td><td>&quot;Blanc&quot;</td><td>7.6</td><td>6.7</td><td>&quot;5G&quot;</td><td>3080.636298</td><td>7.002156</td><td>true</td><td>459.796462</td><td>146.0</td><td>171</td></tr><tr><td>&hellip;</td><td>&hellip;</td><td>&hellip;</td><td>&hellip;</td><td>&hellip;</td><td>&hellip;</td><td>&hellip;</td><td>&hellip;</td><td>&hellip;</td><td>&hellip;</td><td>&hellip;</td><td>&hellip;</td><td>&hellip;</td><td>&hellip;</td><td>&hellip;</td><td>&hellip;</td><td>&hellip;</td><td>&hellip;</td><td>&hellip;</td><td>&hellip;</td><td>&hellip;</td><td>&hellip;</td><td>&hellip;</td><td>&hellip;</td><td>&hellip;</td><td>&hellip;</td><td>&hellip;</td><td>&hellip;</td><td>&hellip;</td><td>&hellip;</td><td>&hellip;</td><td>&hellip;</td><td>&hellip;</td><td>&hellip;</td><td>&hellip;</td><td>&hellip;</td><td>&hellip;</td><td>&hellip;</td></tr><tr><td>&quot;Non communiqué…</td><td>true</td><td>&quot;Samsung Galaxy…</td><td>8.1</td><td>&quot;SAMSUNG&quot;</td><td>2.56</td><td>1.58</td><td>165.1</td><td>128</td><td>0.0</td><td>true</td><td>0</td><td>12</td><td>0.71</td><td>&quot;Non communiqué…</td><td>null</td><td>0.0</td><td>0.0</td><td>0.0</td><td>8.9</td><td>5000</td><td>779.38</td><td>&quot;Borderless&quot;</td><td>227.0</td><td>&quot;Chine&quot;</td><td>true</td><td>1440</td><td>3200</td><td>&quot;Noir&quot;</td><td>75.5</td><td>6.8</td><td>&quot;5G&quot;</td><td>3509.073952</td><td>6.658499</td><td>false</td><td>516.040287</td><td>0.0</td><td>410</td></tr><tr><td>&quot;Puce A15&quot;</td><td>false</td><td>&quot;iPhone 13&quot;</td><td>6.0</td><td>&quot;APPLE&quot;</td><td>3.8</td><td>0.99</td><td>146.7</td><td>128</td><td>4.6687</td><td>false</td><td>160</td><td>4</td><td>0.99</td><td>&quot;Super Retina X…</td><td>&quot;2&quot;</td><td>12.0</td><td>12.0</td><td>0.0</td><td>7.4</td><td>2815</td><td>749.0</td><td>&quot;Plat&quot;</td><td>173.0</td><td>&quot;Chine&quot;</td><td>true</td><td>2532</td><td>1170</td><td>&quot;Noir&quot;</td><td>71.5</td><td>6.1</td><td>&quot;5G&quot;</td><td>2789.251513</td><td>6.618739</td><td>true</td><td>457.254346</td><td>24.0</td><td>-654</td></tr><tr><td>&quot;8 coeurs jusqu…</td><td>false</td><td>&quot;Motorola G14&quot;</td><td>6.6</td><td>&quot;MOTOROLA&quot;</td><td>2.88</td><td>1.11</td><td>162.0</td><td>128</td><td>0.0</td><td>true</td><td>0</td><td>4</td><td>0.71</td><td>&quot;LCD (LTPS) FHD…</td><td>&quot;2&quot;</td><td>50.0</td><td>2.0</td><td>0.0</td><td>8.0</td><td>5000</td><td>179.0</td><td>&quot;Plat&quot;</td><td>177.0</td><td>&quot;Chine&quot;</td><td>true</td><td>1080</td><td>2400</td><td>&quot;Bleu&quot;</td><td>7.4</td><td>6.5</td><td>&quot;4G&quot;</td><td>2631.805464</td><td>5.187386</td><td>false</td><td>404.893148</td><td>52.0</td><td>-805</td></tr><tr><td>&quot;Google Tensor …</td><td>true</td><td>&quot;Google Pixel 8…</td><td>8.2</td><td>&quot;GOOGLE&quot;</td><td>2.5</td><td>1.2</td><td>16.3</td><td>256</td><td>0.0</td><td>false</td><td>0</td><td>12</td><td>0.84</td><td>&quot;Super Actua ou…</td><td>null</td><td>50.0</td><td>48.0</td><td>48.0</td><td>0.9</td><td>5000</td><td>1159.0</td><td>&quot;Plat&quot;</td><td>null</td><td>&quot;Viêt Nam&quot;</td><td>true</td><td>2772</td><td>1344</td><td>&quot;Bleu&quot;</td><td>7.6</td><td>6.7</td><td>&quot;5G&quot;</td><td>3080.636298</td><td>7.055313</td><td>true</td><td>459.796462</td><td>146.0</td><td>-956</td></tr><tr><td>&quot;8 coeurs jusqu…</td><td>true</td><td>&quot;VIVO Y52&quot;</td><td>7.9</td><td>&quot;VIVO&quot;</td><td>3.0</td><td>1.2</td><td>164.0</td><td>128</td><td>4.8</td><td>true</td><td>5</td><td>4</td><td>0.99</td><td>&quot;IPS (LCD)&quot;</td><td>&quot;3&quot;</td><td>48.0</td><td>2.0</td><td>2.0</td><td>8.5</td><td>5000</td><td>269.0</td><td>&quot;Plat&quot;</td><td>193.0</td><td>&quot;Chine&quot;</td><td>true</td><td>2400</td><td>1080</td><td>&quot;Noir&quot;</td><td>75.3</td><td>6.6</td><td>&quot;5G&quot;</td><td>2631.805464</td><td>5.594711</td><td>false</td><td>398.758404</td><td>52.0</td><td>347</td></tr><tr><td>&quot;Google Tensor …</td><td>true</td><td>&quot;Google Pixel 7…</td><td>7.2</td><td>&quot;GOOGLE&quot;</td><td>3.0</td><td>1.4</td><td>155.6</td><td>128</td><td>4.2679</td><td>false</td><td>56</td><td>8</td><td>0.99</td><td>&quot;OLED FHD+&quot;</td><td>&quot;3&quot;</td><td>50.0</td><td>20.0</td><td>12.0</td><td>8.7</td><td>4270</td><td>548.16</td><td>&quot;Plat&quot;</td><td>197.0</td><td>&quot;Viêt Nam&quot;</td><td>true</td><td>1080</td><td>2400</td><td>&quot;Vert&quot;</td><td>73.2</td><td>6.3</td><td>&quot;5G&quot;</td><td>2631.805464</td><td>6.306567</td><td>true</td><td>417.746899</td><td>82.0</td><td>842</td></tr><tr><td>&quot;Puce A16 Bioni…</td><td>true</td><td>&quot;iPhone 15&quot;</td><td>7.5</td><td>&quot;APPLE&quot;</td><td>2.98</td><td>0.96</td><td>147.6</td><td>256</td><td>0.0</td><td>false</td><td>0</td><td>6</td><td>0.98</td><td>&quot;OLED&quot;</td><td>&quot;2&quot;</td><td>48.0</td><td>12.0</td><td>0.0</td><td>7.8</td><td>3877</td><td>1099.0</td><td>&quot;Plat&quot;</td><td>171.0</td><td>&quot;Chine&quot;</td><td>true</td><td>2556</td><td>1179</td><td>&quot;Rose&quot;</td><td>71.6</td><td>6.1</td><td>&quot;5G&quot;</td><td>2814.813848</td><td>7.002156</td><td>true</td><td>461.444893</td><td>60.0</td><td>-317</td></tr><tr><td>&quot;8 coeurs jusqu…</td><td>true</td><td>&quot;Samsung Galaxy…</td><td>8.0</td><td>&quot;SAMSUNG&quot;</td><td>2.8</td><td>1.39</td><td>165.1</td><td>64</td><td>4.4414</td><td>true</td><td>111</td><td>4</td><td>0.367</td><td>&quot;TFT (LCD)&quot;</td><td>&quot;4&quot;</td><td>50.0</td><td>5.0</td><td>2.0</td><td>8.8</td><td>5000</td><td>212.4</td><td>&quot;Plat&quot;</td><td>195.0</td><td>&quot;Viêt Nam&quot;</td><td>true</td><td>2408</td><td>1080</td><td>&quot;Noir&quot;</td><td>76.4</td><td>6.6</td><td>&quot;4G&quot;</td><td>2639.102878</td><td>5.358471</td><td>false</td><td>399.864072</td><td>57.0</td><td>481</td></tr><tr><td>&quot;Non communiqué…</td><td>true</td><td>&quot;XIAOMI Mi 11 L…</td><td>7.3</td><td>&quot;XIAOMI&quot;</td><td>1.88</td><td>0.889</td><td>160.5</td><td>128</td><td>0.0</td><td>true</td><td>0</td><td>6</td><td>0.555</td><td>&quot;Non communiqué…</td><td>null</td><td>0.0</td><td>0.0</td><td>0.0</td><td>6.8</td><td>4250</td><td>320.0</td><td>&quot;Borderless&quot;</td><td>159.0</td><td>&quot;Chine&quot;</td><td>true</td><td>1080</td><td>2400</td><td>&quot;Noir&quot;</td><td>75.7</td><td>6.6</td><td>&quot;5G&quot;</td><td>2631.805464</td><td>5.768321</td><td>false</td><td>398.758404</td><td>0.0</td><td>-115</td></tr><tr><td>&quot;Puce A17 Pro&quot;</td><td>false</td><td>&quot;iPhone 15 Pro …</td><td>7.7</td><td>&quot;APPLE&quot;</td><td>2.98</td><td>0.98</td><td>159.9</td><td>1000</td><td>5.0</td><td>false</td><td>1</td><td>8</td><td>0.98</td><td>&quot;Super Retina X…</td><td>&quot;3&quot;</td><td>48.0</td><td>12.0</td><td>12.0</td><td>8.2</td><td>4852</td><td>1979.0</td><td>&quot;Plat&quot;</td><td>221.0</td><td>&quot;Chine&quot;</td><td>true</td><td>2796</td><td>1290</td><td>&quot;Gris&quot;</td><td>76.7</td><td>6.7</td><td>&quot;5G&quot;</td><td>3079.239517</td><td>7.590347</td><td>true</td><td>459.587988</td><td>72.0</td><td>-919</td></tr><tr><td>&quot;8 coeurs jusqu…</td><td>true</td><td>&quot;Motorola Moto …</td><td>7.4</td><td>&quot;MOTOROLA&quot;</td><td>3.19</td><td>1.49</td><td>170.5</td><td>64</td><td>1.0</td><td>true</td><td>1</td><td>4</td><td>1.49</td><td>&quot;FHD+&quot;</td><td>&quot;4&quot;</td><td>50.0</td><td>8.0</td><td>2.0</td><td>9.1</td><td>5000</td><td>249.0</td><td>&quot;Plat&quot;</td><td>208.0</td><td>&quot;Chine&quot;</td><td>true</td><td>1080</td><td>2400</td><td>&quot;Bleu&quot;</td><td>76.5</td><td>6.8</td><td>&quot;5G&quot;</td><td>2631.805464</td><td>5.517453</td><td>false</td><td>387.030215</td><td>60.0</td><td>367</td></tr><tr><td>&quot;Puce A16 Bioni…</td><td>true</td><td>&quot;iPhone 15&quot;</td><td>7.5</td><td>&quot;APPLE&quot;</td><td>2.98</td><td>0.98</td><td>147.6</td><td>512</td><td>0.0</td><td>false</td><td>0</td><td>6</td><td>0.98</td><td>&quot;OLED&quot;</td><td>&quot;2&quot;</td><td>48.0</td><td>12.0</td><td>0.0</td><td>7.8</td><td>3877</td><td>1349.0</td><td>&quot;Plat&quot;</td><td>171.0</td><td>&quot;Chine&quot;</td><td>true</td><td>2556</td><td>1179</td><td>&quot;Rose&quot;</td><td>71.6</td><td>6.1</td><td>&quot;5G&quot;</td><td>2814.813848</td><td>7.207119</td><td>false</td><td>461.444893</td><td>60.0</td><td>-704</td></tr></tbody></table></div>"
      ],
      "text/plain": [
       "shape: (487, 38)\n",
       "┌───────────┬───────────┬───────────┬───────────┬───┬───────────┬───────────┬───────────┬──────────┐\n",
       "│ cpu       ┆ usb_type_ ┆ model     ┆ repairabi ┆ … ┆ induction ┆ ppi       ┆ mpx_backw ┆ random_c │\n",
       "│ ---       ┆ c         ┆ ---       ┆ lity_inde ┆   ┆ ---       ┆ ---       ┆ ard_cam   ┆ ol       │\n",
       "│ str       ┆ ---       ┆ str       ┆ x         ┆   ┆ bool      ┆ f64       ┆ ---       ┆ ---      │\n",
       "│           ┆ bool      ┆           ┆ ---       ┆   ┆           ┆           ┆ f64       ┆ i64      │\n",
       "│           ┆           ┆           ┆ f64       ┆   ┆           ┆           ┆           ┆          │\n",
       "╞═══════════╪═══════════╪═══════════╪═══════════╪═══╪═══════════╪═══════════╪═══════════╪══════════╡\n",
       "│ Qualcomm  ┆ true      ┆ SONY      ┆ 8.5       ┆ … ┆ true      ┆ 449.45546 ┆ 36.0      ┆ 731      │\n",
       "│ Snapdrago ┆           ┆ Xperia 5  ┆           ┆   ┆           ┆ 2         ┆           ┆          │\n",
       "│ n 8Gen2   ┆           ┆ V         ┆           ┆   ┆           ┆           ┆           ┆          │\n",
       "│ Puce A17  ┆ false     ┆ iPhone 15 ┆ 7.6       ┆ … ┆ true      ┆ 461.44489 ┆ 72.0      ┆ -499     │\n",
       "│ Pro       ┆           ┆ Pro       ┆           ┆   ┆           ┆ 3         ┆           ┆          │\n",
       "│ Exynos    ┆ true      ┆ Samsung   ┆ 8.2       ┆ … ┆ true      ┆ 422.49308 ┆ 72.0      ┆ -45      │\n",
       "│ 2200      ┆           ┆ Galaxy    ┆           ┆   ┆           ┆ 1         ┆           ┆          │\n",
       "│           ┆           ┆ S22       ┆           ┆   ┆           ┆           ┆           ┆          │\n",
       "│ 8 coeurs  ┆ true      ┆ Motorola  ┆ 7.1       ┆ … ┆ false     ┆ 269.92876 ┆ 52.0      ┆ 745      │\n",
       "│ jusqu'à   ┆           ┆ G53       ┆           ┆   ┆           ┆ 6         ┆           ┆          │\n",
       "│ 2,2 GHz   ┆           ┆           ┆           ┆   ┆           ┆           ┆           ┆          │\n",
       "│ …         ┆ …         ┆ …         ┆ …         ┆ … ┆ …         ┆ …         ┆ …         ┆ …        │\n",
       "│ Non commu ┆ true      ┆ XIAOMI Mi ┆ 7.3       ┆ … ┆ false     ┆ 398.75840 ┆ 0.0       ┆ -115     │\n",
       "│ niqué     ┆           ┆ 11 Lite   ┆           ┆   ┆           ┆ 4         ┆           ┆          │\n",
       "│ Puce A17  ┆ false     ┆ iPhone 15 ┆ 7.7       ┆ … ┆ true      ┆ 459.58798 ┆ 72.0      ┆ -919     │\n",
       "│ Pro       ┆           ┆ Pro Max   ┆           ┆   ┆           ┆ 8         ┆           ┆          │\n",
       "│ 8 coeurs  ┆ true      ┆ Motorola  ┆ 7.4       ┆ … ┆ false     ┆ 387.03021 ┆ 60.0      ┆ 367      │\n",
       "│ jusqu'à   ┆           ┆ Moto G    ┆           ┆   ┆           ┆ 5         ┆           ┆          │\n",
       "│ 2,2 GHz   ┆           ┆           ┆           ┆   ┆           ┆           ┆           ┆          │\n",
       "│ Puce A16  ┆ true      ┆ iPhone 15 ┆ 7.5       ┆ … ┆ false     ┆ 461.44489 ┆ 60.0      ┆ -704     │\n",
       "│ Bionic    ┆           ┆           ┆           ┆   ┆           ┆ 3         ┆           ┆          │\n",
       "└───────────┴───────────┴───────────┴───────────┴───┴───────────┴───────────┴───────────┴──────────┘"
      ]
     },
     "execution_count": 6,
     "metadata": {},
     "output_type": "execute_result"
    }
   ],
   "source": [
    "df"
   ]
  },
  {
   "cell_type": "code",
   "execution_count": 50,
   "metadata": {},
   "outputs": [],
   "source": [
    "#df.select(cs.by_dtype(pl.NUMERIC_DTYPES)).corr()\n",
    "\n",
    "# Matrice de corrélation"
   ]
  },
  {
   "cell_type": "code",
   "execution_count": 7,
   "metadata": {},
   "outputs": [],
   "source": [
    "import statsmodels.formula.api as smf\n",
    "import statsmodels.formula as sm\n",
    "from stargazer.stargazer import Stargazer\n",
    "import numpy as np\n",
    "from dataclasses import dataclass\n",
    "from script.hedonic_regression import *"
   ]
  },
  {
   "cell_type": "code",
   "execution_count": 9,
   "metadata": {},
   "outputs": [],
   "source": [
    "y_1 = \"price\"\n",
    "y_2 = \"logprice\"\n",
    "X = [\n",
    "    \"storage\",\n",
    "    \"induction\",\n",
    "    \"upgrade_storage\",\n",
    "    \"ram\",\n",
    "    \"screen_type\",\n",
    "    \"network\",\n",
    "    \"screen_size\",\n",
    "    \"brand\",\n",
    "    \"made_in\",\n",
    "    \"das_limbs\",\n",
    "    \"battery\",\n",
    "    \"ppi\",\n",
    "    \"mpx_backward_cam\",\n",
    "]"
   ]
  },
  {
   "cell_type": "markdown",
   "metadata": {},
   "source": [
    "+ revoir le polars pour ajouter `total_pixels` aussi => multiplication de 1920x1080 (par exemple)"
   ]
  },
  {
   "cell_type": "code",
   "execution_count": 10,
   "metadata": {},
   "outputs": [],
   "source": [
    "f_1 = formula(y_1, X)\n",
    "f_2 = formula(y_2, X)\n",
    "res_1 = execute_ols(df, f_1)\n",
    "res_2 = execute_ols(df, f_2)"
   ]
  },
  {
   "cell_type": "code",
   "execution_count": 11,
   "metadata": {},
   "outputs": [],
   "source": [
    "from pathlib import Path\n",
    "root = Path(\".\").resolve()\n",
    "data_folder = root / \"data\"\n",
    "path_file = data_folder / \"df_clean.csv\""
   ]
  },
  {
   "cell_type": "markdown",
   "metadata": {},
   "source": [
    "On ajoute le prix prédit par la régression 1`E`1 à notre dataframe"
   ]
  },
  {
   "cell_type": "code",
   "execution_count": 12,
   "metadata": {},
   "outputs": [],
   "source": [
    "df = df.with_columns(pl.from_numpy(res_1.predict(), schema=[\"predicted_price\"]))"
   ]
  },
  {
   "cell_type": "code",
   "execution_count": 60,
   "metadata": {},
   "outputs": [
    {
     "data": {
      "text/html": [
       "<div><style>\n",
       ".dataframe > thead > tr > th,\n",
       ".dataframe > tbody > tr > td {\n",
       "  text-align: right;\n",
       "  white-space: pre-wrap;\n",
       "}\n",
       "</style>\n",
       "<small>shape: (7, 3)</small><table border=\"1\" class=\"dataframe\"><thead><tr><th>price</th><th>predicted_price</th><th>model</th></tr><tr><td>f64</td><td>f64</td><td>str</td></tr></thead><tbody><tr><td>99.0</td><td>-35.420331</td><td>&quot;Motorola E13&quot;</td></tr><tr><td>106.59</td><td>-66.638032</td><td>&quot;Xiaomi Redmi A…</td></tr><tr><td>99.0</td><td>-4.545654</td><td>&quot;XIAOMI Redmi 9…</td></tr><tr><td>99.0</td><td>-126.592071</td><td>&quot;Motorola E20&quot;</td></tr><tr><td>114.79</td><td>-24.072381</td><td>&quot;XIAOMI Redmi 1…</td></tr><tr><td>131.36</td><td>-132.537441</td><td>&quot;Motorola \tE22i…</td></tr><tr><td>99.99</td><td>-4.545654</td><td>&quot;XIAOMI Redmi 9…</td></tr></tbody></table></div>"
      ],
      "text/plain": [
       "shape: (7, 3)\n",
       "┌────────┬─────────────────┬──────────────────┐\n",
       "│ price  ┆ predicted_price ┆ model            │\n",
       "│ ---    ┆ ---             ┆ ---              │\n",
       "│ f64    ┆ f64             ┆ str              │\n",
       "╞════════╪═════════════════╪══════════════════╡\n",
       "│ 99.0   ┆ -35.420331      ┆ Motorola E13     │\n",
       "│ 106.59 ┆ -66.638032      ┆ Xiaomi Redmi A1+ │\n",
       "│ 99.0   ┆ -4.545654       ┆ XIAOMI Redmi 9C  │\n",
       "│ 99.0   ┆ -126.592071     ┆ Motorola E20     │\n",
       "│ 114.79 ┆ -24.072381      ┆ XIAOMI Redmi 10A │\n",
       "│ 131.36 ┆ -132.537441     ┆ Motorola \tE22i    │\n",
       "│ 99.99  ┆ -4.545654       ┆ XIAOMI Redmi 9C  │\n",
       "└────────┴─────────────────┴──────────────────┘"
      ]
     },
     "execution_count": 60,
     "metadata": {},
     "output_type": "execute_result"
    }
   ],
   "source": [
    "#df.select(\"price\", \"predicted_price\", \"model\").filter(pl.col(\"predicted_price\") < 0)"
   ]
  },
  {
   "cell_type": "code",
   "execution_count": 13,
   "metadata": {},
   "outputs": [],
   "source": [
    "df.write_csv(path_file, separator=\";\")"
   ]
  },
  {
   "cell_type": "code",
   "execution_count": 14,
   "metadata": {},
   "outputs": [
    {
     "data": {
      "text/html": [
       "<table style=\"text-align:center\"><tr><td colspan=\"3\" style=\"border-bottom: 1px solid black\"></td></tr>\n",
       "<tr><td style=\"text-align:left\"></td><tr><td style=\"text-align:left\"></td><td>(1)</td><td>(2)</td></tr>\n",
       "<tr><td colspan=\"3\" style=\"border-bottom: 1px solid black\"></td></tr>\n",
       "\n",
       "<tr><td style=\"text-align:left\">Intercept</td><td>-355.988<sup>**</sup></td><td>4.586<sup>***</sup></td></tr>\n",
       "<tr><td style=\"text-align:left\"></td><td>(176.522)</td><td>(0.250)</td></tr>\n",
       "<tr><td style=\"text-align:left\">battery</td><td>0.054<sup>***</sup></td><td>-0.000<sup>***</sup></td></tr>\n",
       "<tr><td style=\"text-align:left\"></td><td>(0.019)</td><td>(0.000)</td></tr>\n",
       "<tr><td style=\"text-align:left\">brand[T.ASUS]</td><td>-507.571<sup>***</sup></td><td>-0.474<sup>***</sup></td></tr>\n",
       "<tr><td style=\"text-align:left\"></td><td>(71.167)</td><td>(0.101)</td></tr>\n",
       "<tr><td style=\"text-align:left\">brand[T.FAIRPHONE]</td><td>-352.995<sup>***</sup></td><td>-0.326<sup>**</sup></td></tr>\n",
       "<tr><td style=\"text-align:left\"></td><td>(97.149)</td><td>(0.138)</td></tr>\n",
       "<tr><td style=\"text-align:left\">brand[T.GOOGLE]</td><td>-467.297<sup>***</sup></td><td>-0.532<sup>***</sup></td></tr>\n",
       "<tr><td style=\"text-align:left\"></td><td>(57.114)</td><td>(0.081)</td></tr>\n",
       "<tr><td style=\"text-align:left\">brand[T.HONOR]</td><td>-758.969<sup>***</sup></td><td>-1.016<sup>***</sup></td></tr>\n",
       "<tr><td style=\"text-align:left\"></td><td>(61.194)</td><td>(0.087)</td></tr>\n",
       "<tr><td style=\"text-align:left\">brand[T.MOTOROLA]</td><td>-706.667<sup>***</sup></td><td>-0.955<sup>***</sup></td></tr>\n",
       "<tr><td style=\"text-align:left\"></td><td>(44.641)</td><td>(0.063)</td></tr>\n",
       "<tr><td style=\"text-align:left\">brand[T.NOTHING]</td><td>-839.311<sup>***</sup></td><td>-1.052<sup>***</sup></td></tr>\n",
       "<tr><td style=\"text-align:left\"></td><td>(65.930)</td><td>(0.093)</td></tr>\n",
       "<tr><td style=\"text-align:left\">brand[T.ONEPLUS]</td><td>-635.179<sup>***</sup></td><td>-0.882<sup>***</sup></td></tr>\n",
       "<tr><td style=\"text-align:left\"></td><td>(66.955)</td><td>(0.095)</td></tr>\n",
       "<tr><td style=\"text-align:left\">brand[T.OPPO]</td><td>-586.188<sup>***</sup></td><td>-0.809<sup>***</sup></td></tr>\n",
       "<tr><td style=\"text-align:left\"></td><td>(49.494)</td><td>(0.070)</td></tr>\n",
       "<tr><td style=\"text-align:left\">brand[T.REALME]</td><td>-598.647<sup>***</sup></td><td>-0.768<sup>***</sup></td></tr>\n",
       "<tr><td style=\"text-align:left\"></td><td>(52.577)</td><td>(0.074)</td></tr>\n",
       "<tr><td style=\"text-align:left\">brand[T.SAMSUNG]</td><td>-429.323<sup>***</sup></td><td>-0.430<sup>***</sup></td></tr>\n",
       "<tr><td style=\"text-align:left\"></td><td>(49.870)</td><td>(0.071)</td></tr>\n",
       "<tr><td style=\"text-align:left\">brand[T.SONY]</td><td>-401.764<sup>***</sup></td><td>-0.406<sup>***</sup></td></tr>\n",
       "<tr><td style=\"text-align:left\"></td><td>(78.526)</td><td>(0.111)</td></tr>\n",
       "<tr><td style=\"text-align:left\">brand[T.VIVO]</td><td>-529.705<sup>***</sup></td><td>-0.709<sup>***</sup></td></tr>\n",
       "<tr><td style=\"text-align:left\"></td><td>(59.850)</td><td>(0.085)</td></tr>\n",
       "<tr><td style=\"text-align:left\">brand[T.XIAOMI]</td><td>-602.272<sup>***</sup></td><td>-0.858<sup>***</sup></td></tr>\n",
       "<tr><td style=\"text-align:left\"></td><td>(40.834)</td><td>(0.058)</td></tr>\n",
       "<tr><td style=\"text-align:left\">das_limbs</td><td>43.611<sup>**</sup></td><td>0.041<sup></sup></td></tr>\n",
       "<tr><td style=\"text-align:left\"></td><td>(19.611)</td><td>(0.028)</td></tr>\n",
       "<tr><td style=\"text-align:left\">induction[T.True]</td><td>163.435<sup>***</sup></td><td>0.215<sup>***</sup></td></tr>\n",
       "<tr><td style=\"text-align:left\"></td><td>(25.266)</td><td>(0.036)</td></tr>\n",
       "<tr><td style=\"text-align:left\">made_in[T.Inde]</td><td>-25.898<sup></sup></td><td>-0.062<sup></sup></td></tr>\n",
       "<tr><td style=\"text-align:left\"></td><td>(155.944)</td><td>(0.221)</td></tr>\n",
       "<tr><td style=\"text-align:left\">made_in[T.Japon]</td><td>335.628<sup>***</sup></td><td>0.327<sup>*</sup></td></tr>\n",
       "<tr><td style=\"text-align:left\"></td><td>(128.156)</td><td>(0.182)</td></tr>\n",
       "<tr><td style=\"text-align:left\">made_in[T.Taïwan]</td><td>315.109<sup>*</sup></td><td>0.255<sup></sup></td></tr>\n",
       "<tr><td style=\"text-align:left\"></td><td>(160.648)</td><td>(0.228)</td></tr>\n",
       "<tr><td style=\"text-align:left\">made_in[T.Thaïlande]</td><td>498.844<sup>***</sup></td><td>0.565<sup>***</sup></td></tr>\n",
       "<tr><td style=\"text-align:left\"></td><td>(88.145)</td><td>(0.125)</td></tr>\n",
       "<tr><td style=\"text-align:left\">made_in[T.Viêt Nam]</td><td>-18.048<sup></sup></td><td>-0.128<sup>**</sup></td></tr>\n",
       "<tr><td style=\"text-align:left\"></td><td>(43.099)</td><td>(0.061)</td></tr>\n",
       "<tr><td style=\"text-align:left\">mpx_backward_cam</td><td>0.563<sup>**</sup></td><td>0.001<sup>***</sup></td></tr>\n",
       "<tr><td style=\"text-align:left\"></td><td>(0.265)</td><td>(0.000)</td></tr>\n",
       "<tr><td style=\"text-align:left\">network[T.5G]</td><td>14.810<sup></sup></td><td>0.288<sup>***</sup></td></tr>\n",
       "<tr><td style=\"text-align:left\"></td><td>(24.612)</td><td>(0.035)</td></tr>\n",
       "<tr><td style=\"text-align:left\">ppi</td><td>0.025<sup></sup></td><td>0.001<sup>***</sup></td></tr>\n",
       "<tr><td style=\"text-align:left\"></td><td>(0.127)</td><td>(0.000)</td></tr>\n",
       "<tr><td style=\"text-align:left\">ram</td><td>36.583<sup>***</sup></td><td>0.078<sup>***</sup></td></tr>\n",
       "<tr><td style=\"text-align:left\"></td><td>(4.899)</td><td>(0.007)</td></tr>\n",
       "<tr><td style=\"text-align:left\">screen_size</td><td>104.396<sup>***</sup></td><td>0.201<sup>***</sup></td></tr>\n",
       "<tr><td style=\"text-align:left\"></td><td>(27.568)</td><td>(0.039)</td></tr>\n",
       "<tr><td style=\"text-align:left\">screen_type[T.Bords incurvés]</td><td>-216.991<sup>***</sup></td><td>-0.205<sup>*</sup></td></tr>\n",
       "<tr><td style=\"text-align:left\"></td><td>(76.432)</td><td>(0.108)</td></tr>\n",
       "<tr><td style=\"text-align:left\">screen_type[T.Plat]</td><td>-113.165<sup>***</sup></td><td>-0.107<sup>**</sup></td></tr>\n",
       "<tr><td style=\"text-align:left\"></td><td>(31.713)</td><td>(0.045)</td></tr>\n",
       "<tr><td style=\"text-align:left\">screen_type[T.Pliable]</td><td>335.037<sup>***</sup></td><td>0.241<sup>***</sup></td></tr>\n",
       "<tr><td style=\"text-align:left\"></td><td>(49.644)</td><td>(0.070)</td></tr>\n",
       "<tr><td style=\"text-align:left\">storage</td><td>0.777<sup>***</sup></td><td>0.000<sup>***</sup></td></tr>\n",
       "<tr><td style=\"text-align:left\"></td><td>(0.051)</td><td>(0.000)</td></tr>\n",
       "<tr><td style=\"text-align:left\">upgrade_storage[T.True]</td><td>-97.642<sup>***</sup></td><td>-0.239<sup>***</sup></td></tr>\n",
       "<tr><td style=\"text-align:left\"></td><td>(30.450)</td><td>(0.043)</td></tr>\n",
       "\n",
       "<td colspan=\"3\" style=\"border-bottom: 1px solid black\"></td></tr>\n",
       "<tr><td style=\"text-align: left\">Observations</td><td>487</td><td>487</td></tr><tr><td style=\"text-align: left\">R<sup>2</sup></td><td>0.917</td><td>0.938</td></tr><tr><td style=\"text-align: left\">Adjusted R<sup>2</sup></td><td>0.912</td><td>0.934</td></tr><tr><td style=\"text-align: left\">Residual Std. Error</td><td>150.604 (df=455)</td><td>0.213 (df=455)</td></tr><tr><td style=\"text-align: left\">F Statistic</td><td>162.544<sup>***</sup> (df=31; 455)</td><td>222.461<sup>***</sup> (df=31; 455)</td></tr>\n",
       "<tr><td colspan=\"3\" style=\"border-bottom: 1px solid black\"></td></tr><tr><td style=\"text-align: left\">Note:</td><td colspan=\"2\" style=\"text-align: right\"><sup>*</sup>p&lt;0.1; <sup>**</sup>p&lt;0.05; <sup>***</sup>p&lt;0.01</td></tr></table>"
      ],
      "text/plain": [
       "<stargazer.stargazer.Stargazer at 0x238b0793070>"
      ]
     },
     "execution_count": 14,
     "metadata": {},
     "output_type": "execute_result"
    }
   ],
   "source": [
    "Stargazer([res_1, res_2])"
   ]
  },
  {
   "cell_type": "markdown",
   "metadata": {},
   "source": [
    "Variables qui n'apportent rien dans la loglin-reg : \n",
    "\n",
    "- color\n",
    "- net_weight\n",
    "- model\n",
    "- das_chest\n",
    "- das_head"
   ]
  },
  {
   "cell_type": "code",
   "execution_count": 13,
   "metadata": {},
   "outputs": [],
   "source": [
    "def feature_importance(df: pl.DataFrame, y:str):\n",
    "    column_name = list()\n",
    "    r2_list = list()\n",
    "    for column in df.columns:\n",
    "        ols_model = smf.ols(\n",
    "        formula=f\"{y}~{column}\",\n",
    "        data=df)\n",
    "        res = ols_model.fit()\n",
    "        column_name.append(column)\n",
    "        r2_list.append(res.rsquared)\n",
    "\n",
    "    feature_imp_df = pl.DataFrame({'Column': column_name, 'R-squared': r2_list}).sort(\"R-squared\", descending=True)\n",
    "    return feature_imp_df"
   ]
  },
  {
   "cell_type": "code",
   "execution_count": 14,
   "metadata": {},
   "outputs": [],
   "source": [
    "df_features = feature_importance(df, \"price\")"
   ]
  },
  {
   "cell_type": "code",
   "execution_count": 15,
   "metadata": {},
   "outputs": [],
   "source": [
    "import plotly.express as px"
   ]
  },
  {
   "cell_type": "code",
   "execution_count": 16,
   "metadata": {},
   "outputs": [
    {
     "data": {
      "application/vnd.plotly.v1+json": {
       "config": {
        "plotlyServerURL": "https://plot.ly"
       },
       "data": [
        {
         "alignmentgroup": "True",
         "hovertemplate": "Column=%{x}<br>R-squared=%{y}<extra></extra>",
         "legendgroup": "",
         "marker": {
          "color": "#636efa",
          "pattern": {
           "shape": ""
          }
         },
         "name": "",
         "offsetgroup": "",
         "orientation": "v",
         "showlegend": false,
         "textposition": "auto",
         "type": "bar",
         "x": [
          "price",
          "model",
          "logprice",
          "screen_tech",
          "cpu",
          "storage",
          "brand",
          "induction",
          "upgrade_storage",
          "diagonal_pixels",
          "ram",
          "network",
          "resolution_1",
          "screen_type",
          "das_limbs",
          "ppi",
          "das_head",
          "cam_3",
          "cam_2",
          "battery",
          "color",
          "made_in",
          "sensor",
          "mpx_backward_cam",
          "screen_size",
          "net_weight",
          "fast_charging",
          "usb_type_c",
          "width",
          "thickness",
          "cam_1",
          "reviews",
          "repairability_index",
          "das_chest",
          "stars",
          "random_col",
          "resolution_2",
          "height"
         ],
         "xaxis": "x",
         "y": [
          1,
          0.9584980139302193,
          0.8777855481869451,
          0.6419886487738056,
          0.6046205214246279,
          0.5391755200585442,
          0.45482593998954646,
          0.45238103094454496,
          0.42721413635756145,
          0.32329412990319617,
          0.2974337269316586,
          0.29495413672291293,
          0.2872582827438134,
          0.21251089083556118,
          0.17728036467729402,
          0.1698863315381417,
          0.16712903548237523,
          0.13255286363451768,
          0.11895157676579227,
          0.09263924125045853,
          0.09164357191882688,
          0.07366894401443502,
          0.0729448997616785,
          0.06287151812543257,
          0.04307701204520464,
          0.042022639702686604,
          0.031534816018603196,
          0.027780680808610625,
          0.027638443551347258,
          0.018891804331093276,
          0.013227872055811107,
          0.00864568420128542,
          0.006517447890392436,
          0.0016336412284464474,
          0.00031359068384995137,
          0.00023806640671331092,
          0.00012934231900929571,
          0.0000037195398262523938
         ],
         "yaxis": "y"
        }
       ],
       "layout": {
        "barmode": "relative",
        "legend": {
         "tracegroupgap": 0
        },
        "template": {
         "data": {
          "bar": [
           {
            "error_x": {
             "color": "#2a3f5f"
            },
            "error_y": {
             "color": "#2a3f5f"
            },
            "marker": {
             "line": {
              "color": "#E5ECF6",
              "width": 0.5
             },
             "pattern": {
              "fillmode": "overlay",
              "size": 10,
              "solidity": 0.2
             }
            },
            "type": "bar"
           }
          ],
          "barpolar": [
           {
            "marker": {
             "line": {
              "color": "#E5ECF6",
              "width": 0.5
             },
             "pattern": {
              "fillmode": "overlay",
              "size": 10,
              "solidity": 0.2
             }
            },
            "type": "barpolar"
           }
          ],
          "carpet": [
           {
            "aaxis": {
             "endlinecolor": "#2a3f5f",
             "gridcolor": "white",
             "linecolor": "white",
             "minorgridcolor": "white",
             "startlinecolor": "#2a3f5f"
            },
            "baxis": {
             "endlinecolor": "#2a3f5f",
             "gridcolor": "white",
             "linecolor": "white",
             "minorgridcolor": "white",
             "startlinecolor": "#2a3f5f"
            },
            "type": "carpet"
           }
          ],
          "choropleth": [
           {
            "colorbar": {
             "outlinewidth": 0,
             "ticks": ""
            },
            "type": "choropleth"
           }
          ],
          "contour": [
           {
            "colorbar": {
             "outlinewidth": 0,
             "ticks": ""
            },
            "colorscale": [
             [
              0,
              "#0d0887"
             ],
             [
              0.1111111111111111,
              "#46039f"
             ],
             [
              0.2222222222222222,
              "#7201a8"
             ],
             [
              0.3333333333333333,
              "#9c179e"
             ],
             [
              0.4444444444444444,
              "#bd3786"
             ],
             [
              0.5555555555555556,
              "#d8576b"
             ],
             [
              0.6666666666666666,
              "#ed7953"
             ],
             [
              0.7777777777777778,
              "#fb9f3a"
             ],
             [
              0.8888888888888888,
              "#fdca26"
             ],
             [
              1,
              "#f0f921"
             ]
            ],
            "type": "contour"
           }
          ],
          "contourcarpet": [
           {
            "colorbar": {
             "outlinewidth": 0,
             "ticks": ""
            },
            "type": "contourcarpet"
           }
          ],
          "heatmap": [
           {
            "colorbar": {
             "outlinewidth": 0,
             "ticks": ""
            },
            "colorscale": [
             [
              0,
              "#0d0887"
             ],
             [
              0.1111111111111111,
              "#46039f"
             ],
             [
              0.2222222222222222,
              "#7201a8"
             ],
             [
              0.3333333333333333,
              "#9c179e"
             ],
             [
              0.4444444444444444,
              "#bd3786"
             ],
             [
              0.5555555555555556,
              "#d8576b"
             ],
             [
              0.6666666666666666,
              "#ed7953"
             ],
             [
              0.7777777777777778,
              "#fb9f3a"
             ],
             [
              0.8888888888888888,
              "#fdca26"
             ],
             [
              1,
              "#f0f921"
             ]
            ],
            "type": "heatmap"
           }
          ],
          "heatmapgl": [
           {
            "colorbar": {
             "outlinewidth": 0,
             "ticks": ""
            },
            "colorscale": [
             [
              0,
              "#0d0887"
             ],
             [
              0.1111111111111111,
              "#46039f"
             ],
             [
              0.2222222222222222,
              "#7201a8"
             ],
             [
              0.3333333333333333,
              "#9c179e"
             ],
             [
              0.4444444444444444,
              "#bd3786"
             ],
             [
              0.5555555555555556,
              "#d8576b"
             ],
             [
              0.6666666666666666,
              "#ed7953"
             ],
             [
              0.7777777777777778,
              "#fb9f3a"
             ],
             [
              0.8888888888888888,
              "#fdca26"
             ],
             [
              1,
              "#f0f921"
             ]
            ],
            "type": "heatmapgl"
           }
          ],
          "histogram": [
           {
            "marker": {
             "pattern": {
              "fillmode": "overlay",
              "size": 10,
              "solidity": 0.2
             }
            },
            "type": "histogram"
           }
          ],
          "histogram2d": [
           {
            "colorbar": {
             "outlinewidth": 0,
             "ticks": ""
            },
            "colorscale": [
             [
              0,
              "#0d0887"
             ],
             [
              0.1111111111111111,
              "#46039f"
             ],
             [
              0.2222222222222222,
              "#7201a8"
             ],
             [
              0.3333333333333333,
              "#9c179e"
             ],
             [
              0.4444444444444444,
              "#bd3786"
             ],
             [
              0.5555555555555556,
              "#d8576b"
             ],
             [
              0.6666666666666666,
              "#ed7953"
             ],
             [
              0.7777777777777778,
              "#fb9f3a"
             ],
             [
              0.8888888888888888,
              "#fdca26"
             ],
             [
              1,
              "#f0f921"
             ]
            ],
            "type": "histogram2d"
           }
          ],
          "histogram2dcontour": [
           {
            "colorbar": {
             "outlinewidth": 0,
             "ticks": ""
            },
            "colorscale": [
             [
              0,
              "#0d0887"
             ],
             [
              0.1111111111111111,
              "#46039f"
             ],
             [
              0.2222222222222222,
              "#7201a8"
             ],
             [
              0.3333333333333333,
              "#9c179e"
             ],
             [
              0.4444444444444444,
              "#bd3786"
             ],
             [
              0.5555555555555556,
              "#d8576b"
             ],
             [
              0.6666666666666666,
              "#ed7953"
             ],
             [
              0.7777777777777778,
              "#fb9f3a"
             ],
             [
              0.8888888888888888,
              "#fdca26"
             ],
             [
              1,
              "#f0f921"
             ]
            ],
            "type": "histogram2dcontour"
           }
          ],
          "mesh3d": [
           {
            "colorbar": {
             "outlinewidth": 0,
             "ticks": ""
            },
            "type": "mesh3d"
           }
          ],
          "parcoords": [
           {
            "line": {
             "colorbar": {
              "outlinewidth": 0,
              "ticks": ""
             }
            },
            "type": "parcoords"
           }
          ],
          "pie": [
           {
            "automargin": true,
            "type": "pie"
           }
          ],
          "scatter": [
           {
            "fillpattern": {
             "fillmode": "overlay",
             "size": 10,
             "solidity": 0.2
            },
            "type": "scatter"
           }
          ],
          "scatter3d": [
           {
            "line": {
             "colorbar": {
              "outlinewidth": 0,
              "ticks": ""
             }
            },
            "marker": {
             "colorbar": {
              "outlinewidth": 0,
              "ticks": ""
             }
            },
            "type": "scatter3d"
           }
          ],
          "scattercarpet": [
           {
            "marker": {
             "colorbar": {
              "outlinewidth": 0,
              "ticks": ""
             }
            },
            "type": "scattercarpet"
           }
          ],
          "scattergeo": [
           {
            "marker": {
             "colorbar": {
              "outlinewidth": 0,
              "ticks": ""
             }
            },
            "type": "scattergeo"
           }
          ],
          "scattergl": [
           {
            "marker": {
             "colorbar": {
              "outlinewidth": 0,
              "ticks": ""
             }
            },
            "type": "scattergl"
           }
          ],
          "scattermapbox": [
           {
            "marker": {
             "colorbar": {
              "outlinewidth": 0,
              "ticks": ""
             }
            },
            "type": "scattermapbox"
           }
          ],
          "scatterpolar": [
           {
            "marker": {
             "colorbar": {
              "outlinewidth": 0,
              "ticks": ""
             }
            },
            "type": "scatterpolar"
           }
          ],
          "scatterpolargl": [
           {
            "marker": {
             "colorbar": {
              "outlinewidth": 0,
              "ticks": ""
             }
            },
            "type": "scatterpolargl"
           }
          ],
          "scatterternary": [
           {
            "marker": {
             "colorbar": {
              "outlinewidth": 0,
              "ticks": ""
             }
            },
            "type": "scatterternary"
           }
          ],
          "surface": [
           {
            "colorbar": {
             "outlinewidth": 0,
             "ticks": ""
            },
            "colorscale": [
             [
              0,
              "#0d0887"
             ],
             [
              0.1111111111111111,
              "#46039f"
             ],
             [
              0.2222222222222222,
              "#7201a8"
             ],
             [
              0.3333333333333333,
              "#9c179e"
             ],
             [
              0.4444444444444444,
              "#bd3786"
             ],
             [
              0.5555555555555556,
              "#d8576b"
             ],
             [
              0.6666666666666666,
              "#ed7953"
             ],
             [
              0.7777777777777778,
              "#fb9f3a"
             ],
             [
              0.8888888888888888,
              "#fdca26"
             ],
             [
              1,
              "#f0f921"
             ]
            ],
            "type": "surface"
           }
          ],
          "table": [
           {
            "cells": {
             "fill": {
              "color": "#EBF0F8"
             },
             "line": {
              "color": "white"
             }
            },
            "header": {
             "fill": {
              "color": "#C8D4E3"
             },
             "line": {
              "color": "white"
             }
            },
            "type": "table"
           }
          ]
         },
         "layout": {
          "annotationdefaults": {
           "arrowcolor": "#2a3f5f",
           "arrowhead": 0,
           "arrowwidth": 1
          },
          "autotypenumbers": "strict",
          "coloraxis": {
           "colorbar": {
            "outlinewidth": 0,
            "ticks": ""
           }
          },
          "colorscale": {
           "diverging": [
            [
             0,
             "#8e0152"
            ],
            [
             0.1,
             "#c51b7d"
            ],
            [
             0.2,
             "#de77ae"
            ],
            [
             0.3,
             "#f1b6da"
            ],
            [
             0.4,
             "#fde0ef"
            ],
            [
             0.5,
             "#f7f7f7"
            ],
            [
             0.6,
             "#e6f5d0"
            ],
            [
             0.7,
             "#b8e186"
            ],
            [
             0.8,
             "#7fbc41"
            ],
            [
             0.9,
             "#4d9221"
            ],
            [
             1,
             "#276419"
            ]
           ],
           "sequential": [
            [
             0,
             "#0d0887"
            ],
            [
             0.1111111111111111,
             "#46039f"
            ],
            [
             0.2222222222222222,
             "#7201a8"
            ],
            [
             0.3333333333333333,
             "#9c179e"
            ],
            [
             0.4444444444444444,
             "#bd3786"
            ],
            [
             0.5555555555555556,
             "#d8576b"
            ],
            [
             0.6666666666666666,
             "#ed7953"
            ],
            [
             0.7777777777777778,
             "#fb9f3a"
            ],
            [
             0.8888888888888888,
             "#fdca26"
            ],
            [
             1,
             "#f0f921"
            ]
           ],
           "sequentialminus": [
            [
             0,
             "#0d0887"
            ],
            [
             0.1111111111111111,
             "#46039f"
            ],
            [
             0.2222222222222222,
             "#7201a8"
            ],
            [
             0.3333333333333333,
             "#9c179e"
            ],
            [
             0.4444444444444444,
             "#bd3786"
            ],
            [
             0.5555555555555556,
             "#d8576b"
            ],
            [
             0.6666666666666666,
             "#ed7953"
            ],
            [
             0.7777777777777778,
             "#fb9f3a"
            ],
            [
             0.8888888888888888,
             "#fdca26"
            ],
            [
             1,
             "#f0f921"
            ]
           ]
          },
          "colorway": [
           "#636efa",
           "#EF553B",
           "#00cc96",
           "#ab63fa",
           "#FFA15A",
           "#19d3f3",
           "#FF6692",
           "#B6E880",
           "#FF97FF",
           "#FECB52"
          ],
          "font": {
           "color": "#2a3f5f"
          },
          "geo": {
           "bgcolor": "white",
           "lakecolor": "white",
           "landcolor": "#E5ECF6",
           "showlakes": true,
           "showland": true,
           "subunitcolor": "white"
          },
          "hoverlabel": {
           "align": "left"
          },
          "hovermode": "closest",
          "mapbox": {
           "style": "light"
          },
          "paper_bgcolor": "white",
          "plot_bgcolor": "#E5ECF6",
          "polar": {
           "angularaxis": {
            "gridcolor": "white",
            "linecolor": "white",
            "ticks": ""
           },
           "bgcolor": "#E5ECF6",
           "radialaxis": {
            "gridcolor": "white",
            "linecolor": "white",
            "ticks": ""
           }
          },
          "scene": {
           "xaxis": {
            "backgroundcolor": "#E5ECF6",
            "gridcolor": "white",
            "gridwidth": 2,
            "linecolor": "white",
            "showbackground": true,
            "ticks": "",
            "zerolinecolor": "white"
           },
           "yaxis": {
            "backgroundcolor": "#E5ECF6",
            "gridcolor": "white",
            "gridwidth": 2,
            "linecolor": "white",
            "showbackground": true,
            "ticks": "",
            "zerolinecolor": "white"
           },
           "zaxis": {
            "backgroundcolor": "#E5ECF6",
            "gridcolor": "white",
            "gridwidth": 2,
            "linecolor": "white",
            "showbackground": true,
            "ticks": "",
            "zerolinecolor": "white"
           }
          },
          "shapedefaults": {
           "line": {
            "color": "#2a3f5f"
           }
          },
          "ternary": {
           "aaxis": {
            "gridcolor": "white",
            "linecolor": "white",
            "ticks": ""
           },
           "baxis": {
            "gridcolor": "white",
            "linecolor": "white",
            "ticks": ""
           },
           "bgcolor": "#E5ECF6",
           "caxis": {
            "gridcolor": "white",
            "linecolor": "white",
            "ticks": ""
           }
          },
          "title": {
           "x": 0.05
          },
          "xaxis": {
           "automargin": true,
           "gridcolor": "white",
           "linecolor": "white",
           "ticks": "",
           "title": {
            "standoff": 15
           },
           "zerolinecolor": "white",
           "zerolinewidth": 2
          },
          "yaxis": {
           "automargin": true,
           "gridcolor": "white",
           "linecolor": "white",
           "ticks": "",
           "title": {
            "standoff": 15
           },
           "zerolinecolor": "white",
           "zerolinewidth": 2
          }
         }
        },
        "title": {
         "text": "Feature Importance (R-squared)"
        },
        "xaxis": {
         "anchor": "y",
         "domain": [
          0,
          1
         ],
         "title": {
          "text": "Feature"
         }
        },
        "yaxis": {
         "anchor": "x",
         "domain": [
          0,
          1
         ],
         "title": {
          "text": "R-squared"
         }
        }
       }
      }
     },
     "metadata": {},
     "output_type": "display_data"
    }
   ],
   "source": [
    "fig = px.bar(df_features, x='Column', y='R-squared', title='Feature Importance (R-squared)')\n",
    "fig.update_xaxes(title_text='Feature')\n",
    "fig.update_yaxes(title_text='R-squared')\n",
    "fig.show()"
   ]
  },
  {
   "cell_type": "code",
   "execution_count": null,
   "metadata": {},
   "outputs": [],
   "source": [
    "# res2 = res.get_robustcov_results(cov_type='HC1')\n",
    "# robuste std errors"
   ]
  },
  {
   "cell_type": "markdown",
   "metadata": {},
   "source": [
    "- fuzzy match à mettre en place ici (pour la technologie de l'écran) ?\n",
    "- ajouter une feature complètement random (pour la partie Machine Learning) puis regarder l'importance des variables : si les variables sont moins importantes que la random, alors on les dégage"
   ]
  },
  {
   "cell_type": "code",
   "execution_count": null,
   "metadata": {},
   "outputs": [],
   "source": [
    "# df.select(\"cpu\").unique().to_numpy()\n",
    "# pour le cpu on va préférer retravailler pour avoir la fréquence en GHz plutot"
   ]
  }
 ],
 "metadata": {
  "kernelspec": {
   "display_name": "Python 3",
   "language": "python",
   "name": "python3"
  },
  "language_info": {
   "codemirror_mode": {
    "name": "ipython",
    "version": 3
   },
   "file_extension": ".py",
   "mimetype": "text/x-python",
   "name": "python",
   "nbconvert_exporter": "python",
   "pygments_lexer": "ipython3",
   "version": "3.10.6"
  }
 },
 "nbformat": 4,
 "nbformat_minor": 2
}
