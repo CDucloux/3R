{
 "cells": [
  {
   "cell_type": "code",
   "execution_count": 1,
   "metadata": {},
   "outputs": [],
   "source": [
    "from script.scraper_functions import *\n",
    "from script.soupifier import *\n",
    "from serde.json import to_json\n",
    "import numpy as np"
   ]
  },
  {
   "cell_type": "markdown",
   "metadata": {},
   "source": [
    "## Le code ci-dessous lance le `scraper`\n",
    "\n",
    "- Tu peux changer le nombre d'*URL* de **19** à 1 ou 2 pour tester ça prendra beaucoup moins longtemps à générer"
   ]
  },
  {
   "cell_type": "code",
   "execution_count": 2,
   "metadata": {},
   "outputs": [
    {
     "name": "stdout",
     "output_type": "stream",
     "text": [
      "Page 1 -> Successfull Extraction.\n"
     ]
    },
    {
     "data": {
      "text/html": [
       "<pre style=\"white-space:pre;overflow-x:auto;line-height:normal;font-family:Menlo,'DejaVu Sans Mono',consolas,'Courier New',monospace\"><span style=\"font-style: italic\">Elapsed time</span> for <span style=\"color: #800000; text-decoration-color: #800000; font-weight: bold\">read_pages</span> function: <span style=\"color: #008080; text-decoration-color: #008080; font-weight: bold\">0.97</span> seconds.\n",
       "</pre>\n"
      ],
      "text/plain": [
       "\u001b[3mElapsed time\u001b[0m for \u001b[1;31mread_pages\u001b[0m function: \u001b[1;36m0.97\u001b[0m seconds.\n"
      ]
     },
     "metadata": {},
     "output_type": "display_data"
    }
   ],
   "source": [
    "session = create_session()\n",
    "url_list = create_url_list(URL, 19)\n",
    "pages = read_pages(url_list=url_list, session=session)"
   ]
  },
  {
   "cell_type": "code",
   "execution_count": null,
   "metadata": {},
   "outputs": [],
   "source": [
    "all_urls = extract_all_urls(pages)\n",
    "print(\"--------------------\")\n",
    "product_pages = extract_all_pages(all_urls, session)"
   ]
  },
  {
   "cell_type": "markdown",
   "metadata": {},
   "source": [
    "Il faudrait créer une fonction pour la génération de la liste des smartphones + l'export en `json`"
   ]
  },
  {
   "cell_type": "code",
   "execution_count": 8,
   "metadata": {},
   "outputs": [],
   "source": [
    "smartphone_list = list()\n",
    "for article in product_pages:\n",
    "    soup = BeautifulSoup(article, \"html.parser\")\n",
    "    dict_features = extract_features(soup)\n",
    "    smartphone = smartphone_characteristics(dict_features)\n",
    "    smartphone_list.append(smartphone)"
   ]
  },
  {
   "cell_type": "code",
   "execution_count": 13,
   "metadata": {},
   "outputs": [],
   "source": [
    "smartphones_json = to_json(smartphone_list)"
   ]
  },
  {
   "cell_type": "code",
   "execution_count": 14,
   "metadata": {},
   "outputs": [],
   "source": [
    "file_path = \"data/smartphones.json\"\n",
    "\n",
    "with open(file_path, \"w\", encoding=\"utf-8\") as json_file:\n",
    "    json_file.write(smartphones_json)"
   ]
  },
  {
   "cell_type": "markdown",
   "metadata": {},
   "source": [
    "## Charge le Dataframe dans `polars`"
   ]
  },
  {
   "cell_type": "code",
   "execution_count": 3,
   "metadata": {},
   "outputs": [],
   "source": [
    "import polars as pl\n",
    "from script.polars_gazprom import *"
   ]
  },
  {
   "cell_type": "code",
   "execution_count": 4,
   "metadata": {},
   "outputs": [],
   "source": [
    "df = pl.read_json(\"data/smartphones.json\")"
   ]
  },
  {
   "cell_type": "markdown",
   "metadata": {},
   "source": [
    "### Pipeline"
   ]
  },
  {
   "cell_type": "code",
   "execution_count": 5,
   "metadata": {},
   "outputs": [],
   "source": [
    "df = NordStream(df)"
   ]
  },
  {
   "cell_type": "markdown",
   "metadata": {},
   "source": [
    "Vérification des valeurs nulles sur les différentes colonnes."
   ]
  },
  {
   "cell_type": "code",
   "execution_count": 6,
   "metadata": {},
   "outputs": [
    {
     "data": {
      "text/html": [
       "<div><style>\n",
       ".dataframe > thead > tr > th,\n",
       ".dataframe > tbody > tr > td {\n",
       "  text-align: right;\n",
       "  white-space: pre-wrap;\n",
       "}\n",
       "</style>\n",
       "<small>shape: (1, 34)</small><table border=\"1\" class=\"dataframe\"><thead><tr><th>made_in</th><th>upgrade_storage</th><th>storage</th><th>net_weight</th><th>stars</th><th>screen_size</th><th>thickness</th><th>screen_tech</th><th>das_head</th><th>cpu</th><th>color</th><th>charging_type</th><th>screen_resolution</th><th>sensor</th><th>repairability_index</th><th>brand</th><th>das_chest</th><th>os</th><th>bluetooth</th><th>fast_charging</th><th>model</th><th>price</th><th>sensor_resolution</th><th>network</th><th>width</th><th>sim_number</th><th>screen_type</th><th>ram</th><th>das_limbs</th><th>sim_type</th><th>height</th><th>battery</th><th>reviews</th><th>usb_type_c</th></tr><tr><td>u32</td><td>u32</td><td>u32</td><td>u32</td><td>u32</td><td>u32</td><td>u32</td><td>u32</td><td>u32</td><td>u32</td><td>u32</td><td>u32</td><td>u32</td><td>u32</td><td>u32</td><td>u32</td><td>u32</td><td>u32</td><td>u32</td><td>u32</td><td>u32</td><td>u32</td><td>u32</td><td>u32</td><td>u32</td><td>u32</td><td>u32</td><td>u32</td><td>u32</td><td>u32</td><td>u32</td><td>u32</td><td>u32</td><td>u32</td></tr></thead><tbody><tr><td>10</td><td>0</td><td>0</td><td>15</td><td>0</td><td>0</td><td>1</td><td>0</td><td>0</td><td>1</td><td>1</td><td>3</td><td>0</td><td>80</td><td>0</td><td>0</td><td>0</td><td>1</td><td>0</td><td>0</td><td>0</td><td>0</td><td>0</td><td>0</td><td>1</td><td>5</td><td>0</td><td>0</td><td>0</td><td>0</td><td>1</td><td>0</td><td>0</td><td>0</td></tr></tbody></table></div>"
      ],
      "text/plain": [
       "shape: (1, 34)\n",
       "┌─────────┬─────────────────┬─────────┬────────────┬───┬────────┬─────────┬─────────┬────────────┐\n",
       "│ made_in ┆ upgrade_storage ┆ storage ┆ net_weight ┆ … ┆ height ┆ battery ┆ reviews ┆ usb_type_c │\n",
       "│ ---     ┆ ---             ┆ ---     ┆ ---        ┆   ┆ ---    ┆ ---     ┆ ---     ┆ ---        │\n",
       "│ u32     ┆ u32             ┆ u32     ┆ u32        ┆   ┆ u32    ┆ u32     ┆ u32     ┆ u32        │\n",
       "╞═════════╪═════════════════╪═════════╪════════════╪═══╪════════╪═════════╪═════════╪════════════╡\n",
       "│ 10      ┆ 0               ┆ 0       ┆ 15         ┆ … ┆ 1      ┆ 0       ┆ 0       ┆ 0          │\n",
       "└─────────┴─────────────────┴─────────┴────────────┴───┴────────┴─────────┴─────────┴────────────┘"
      ]
     },
     "execution_count": 6,
     "metadata": {},
     "output_type": "execute_result"
    }
   ],
   "source": [
    "df.select(pl.all().is_null().sum())"
   ]
  },
  {
   "cell_type": "code",
   "execution_count": 39,
   "metadata": {},
   "outputs": [
    {
     "data": {
      "text/plain": [
       "array([['Sony Xperia 1 V'],\n",
       "       ['Google Pixel 8'],\n",
       "       ['Crosscall Stellar-X5'],\n",
       "       ['Google Pixel 8 Pro'],\n",
       "       ['Samsung Galaxy S10']], dtype=object)"
      ]
     },
     "execution_count": 39,
     "metadata": {},
     "output_type": "execute_result"
    }
   ],
   "source": [
    "df.select(pl.col(\"model\").filter(pl.col(\"net_weight\").is_null())).unique().to_numpy()"
   ]
  },
  {
   "cell_type": "markdown",
   "metadata": {},
   "source": [
    "Idée => Avec cette liste unique des téléphones, aller chercher leur poids (manquant) avec une `request` sur google et récupérer le résultat"
   ]
  },
  {
   "cell_type": "code",
   "execution_count": 7,
   "metadata": {},
   "outputs": [
    {
     "data": {
      "text/html": [
       "<div><style>\n",
       ".dataframe > thead > tr > th,\n",
       ".dataframe > tbody > tr > td {\n",
       "  text-align: right;\n",
       "  white-space: pre-wrap;\n",
       "}\n",
       "</style>\n",
       "<small>shape: (3, 34)</small><table border=\"1\" class=\"dataframe\"><thead><tr><th>made_in</th><th>upgrade_storage</th><th>storage</th><th>net_weight</th><th>stars</th><th>screen_size</th><th>thickness</th><th>screen_tech</th><th>das_head</th><th>cpu</th><th>color</th><th>charging_type</th><th>screen_resolution</th><th>sensor</th><th>repairability_index</th><th>brand</th><th>das_chest</th><th>os</th><th>bluetooth</th><th>fast_charging</th><th>model</th><th>price</th><th>sensor_resolution</th><th>network</th><th>width</th><th>sim_number</th><th>screen_type</th><th>ram</th><th>das_limbs</th><th>sim_type</th><th>height</th><th>battery</th><th>reviews</th><th>usb_type_c</th></tr><tr><td>str</td><td>str</td><td>str</td><td>str</td><td>f64</td><td>str</td><td>str</td><td>str</td><td>str</td><td>str</td><td>str</td><td>str</td><td>str</td><td>str</td><td>str</td><td>str</td><td>str</td><td>str</td><td>str</td><td>str</td><td>str</td><td>f64</td><td>str</td><td>str</td><td>str</td><td>str</td><td>str</td><td>str</td><td>str</td><td>str</td><td>str</td><td>str</td><td>i64</td><td>bool</td></tr></thead><tbody><tr><td>&quot;Viêt Nam&quot;</td><td>&quot;Micro SD&quot;</td><td>&quot;128 Go&quot;</td><td>&quot;197,00 g&quot;</td><td>4.3137</td><td>&quot;6,6&quot; soit 16,8…</td><td>&quot;8,40 mm&quot;</td><td>&quot;TFT (LCD)&quot;</td><td>&quot;1,492 W/kg&quot;</td><td>&quot;8 coeurs jusqu…</td><td>&quot;Bleu&quot;</td><td>null</td><td>&quot;2408 x 1080 pi…</td><td>&quot;3&quot;</td><td>&quot;8,1 /10&quot;</td><td>&quot;SAMSUNG&quot;</td><td>&quot;1,251 W/kg&quot;</td><td>&quot;Android 12&quot;</td><td>&quot;5.1&quot;</td><td>&quot;Oui&quot;</td><td>&quot;Samsung Galaxy…</td><td>279.0</td><td>&quot;50 mégapixels+…</td><td>&quot;5G&quot;</td><td>&quot;76,90 mm&quot;</td><td>&quot;2 SIM&quot;</td><td>&quot;Plat&quot;</td><td>&quot;4 Go&quot;</td><td>&quot;2,840 W/kg&quot;</td><td>&quot;Dual SIM&quot;</td><td>&quot;165,40 mm&quot;</td><td>&quot;5000 mAh&quot;</td><td>51</td><td>true</td></tr><tr><td>&quot;Viêt Nam&quot;</td><td>&quot;Micro SD&quot;</td><td>&quot;128 Go&quot;</td><td>&quot;197,00 g&quot;</td><td>4.3137</td><td>&quot;6,6&quot; soit 16,8…</td><td>&quot;8,40 mm&quot;</td><td>&quot;TFT (LCD)&quot;</td><td>&quot;1,492 W/kg&quot;</td><td>&quot;8 coeurs jusqu…</td><td>&quot;Noir&quot;</td><td>null</td><td>&quot;2408 x 1080 pi…</td><td>&quot;3&quot;</td><td>&quot;8,1 /10&quot;</td><td>&quot;SAMSUNG&quot;</td><td>&quot;1,251 W/kg&quot;</td><td>&quot;Android 12&quot;</td><td>&quot;5.1&quot;</td><td>&quot;Oui&quot;</td><td>&quot;Samsung Galaxy…</td><td>279.0</td><td>&quot;50 mégapixels+…</td><td>&quot;5G&quot;</td><td>&quot;76,90 mm&quot;</td><td>&quot;2 SIM&quot;</td><td>&quot;Plat&quot;</td><td>&quot;4 Go&quot;</td><td>&quot;2,840 W/kg&quot;</td><td>&quot;Dual SIM&quot;</td><td>&quot;165,40 mm&quot;</td><td>&quot;5000 mAh&quot;</td><td>51</td><td>true</td></tr><tr><td>&quot;Chine&quot;</td><td>&quot;Micro SD&quot;</td><td>&quot;64 Go&quot;</td><td>&quot;190,00 g&quot;</td><td>4.6667</td><td>&quot;6,6&quot; soit 16,8…</td><td>&quot;8,40 mm&quot;</td><td>&quot;LCD (LTPS) FHD…</td><td>&quot;0,788 W/kg&quot;</td><td>&quot;8 coeurs jusqu…</td><td>&quot;Noir&quot;</td><td>null</td><td>&quot;1080 x 2400 pi…</td><td>&quot;3&quot;</td><td>&quot;6,1 /10&quot;</td><td>&quot;REALME&quot;</td><td>&quot;1,020 W/kg&quot;</td><td>&quot;Android 11&quot;</td><td>&quot;5&quot;</td><td>&quot;Oui&quot;</td><td>&quot;Realme 9i&quot;</td><td>219.0</td><td>&quot;50 mégapixels+…</td><td>&quot;4G+&quot;</td><td>&quot;75,50 mm&quot;</td><td>&quot;1 SIM&quot;</td><td>&quot;Plat&quot;</td><td>&quot;4 Go&quot;</td><td>&quot;2,072 W/kg&quot;</td><td>&quot;Nano SIM&quot;</td><td>&quot;164,40 mm&quot;</td><td>&quot;5000 mAh&quot;</td><td>3</td><td>true</td></tr></tbody></table></div>"
      ],
      "text/plain": [
       "shape: (3, 34)\n",
       "┌──────────┬──────────────┬─────────┬────────────┬───┬───────────┬──────────┬─────────┬────────────┐\n",
       "│ made_in  ┆ upgrade_stor ┆ storage ┆ net_weight ┆ … ┆ height    ┆ battery  ┆ reviews ┆ usb_type_c │\n",
       "│ ---      ┆ age          ┆ ---     ┆ ---        ┆   ┆ ---       ┆ ---      ┆ ---     ┆ ---        │\n",
       "│ str      ┆ ---          ┆ str     ┆ str        ┆   ┆ str       ┆ str      ┆ i64     ┆ bool       │\n",
       "│          ┆ str          ┆         ┆            ┆   ┆           ┆          ┆         ┆            │\n",
       "╞══════════╪══════════════╪═════════╪════════════╪═══╪═══════════╪══════════╪═════════╪════════════╡\n",
       "│ Viêt Nam ┆ Micro SD     ┆ 128 Go  ┆ 197,00 g   ┆ … ┆ 165,40 mm ┆ 5000 mAh ┆ 51      ┆ true       │\n",
       "│ Viêt Nam ┆ Micro SD     ┆ 128 Go  ┆ 197,00 g   ┆ … ┆ 165,40 mm ┆ 5000 mAh ┆ 51      ┆ true       │\n",
       "│ Chine    ┆ Micro SD     ┆ 64 Go   ┆ 190,00 g   ┆ … ┆ 164,40 mm ┆ 5000 mAh ┆ 3       ┆ true       │\n",
       "└──────────┴──────────────┴─────────┴────────────┴───┴───────────┴──────────┴─────────┴────────────┘"
      ]
     },
     "execution_count": 7,
     "metadata": {},
     "output_type": "execute_result"
    }
   ],
   "source": [
    "df.filter(pl.col(\"charging_type\").is_null())\n",
    "# ces 3 téléphones sont en fait chargeables par induction"
   ]
  },
  {
   "cell_type": "code",
   "execution_count": 8,
   "metadata": {},
   "outputs": [
    {
     "data": {
      "text/html": [
       "<div><style>\n",
       ".dataframe > thead > tr > th,\n",
       ".dataframe > tbody > tr > td {\n",
       "  text-align: right;\n",
       "  white-space: pre-wrap;\n",
       "}\n",
       "</style>\n",
       "<small>shape: (10, 34)</small><table border=\"1\" class=\"dataframe\"><thead><tr><th>made_in</th><th>upgrade_storage</th><th>storage</th><th>net_weight</th><th>stars</th><th>screen_size</th><th>thickness</th><th>screen_tech</th><th>das_head</th><th>cpu</th><th>color</th><th>charging_type</th><th>screen_resolution</th><th>sensor</th><th>repairability_index</th><th>brand</th><th>das_chest</th><th>os</th><th>bluetooth</th><th>fast_charging</th><th>model</th><th>price</th><th>sensor_resolution</th><th>network</th><th>width</th><th>sim_number</th><th>screen_type</th><th>ram</th><th>das_limbs</th><th>sim_type</th><th>height</th><th>battery</th><th>reviews</th><th>usb_type_c</th></tr><tr><td>str</td><td>str</td><td>str</td><td>str</td><td>f64</td><td>str</td><td>str</td><td>str</td><td>str</td><td>str</td><td>str</td><td>str</td><td>str</td><td>str</td><td>str</td><td>str</td><td>str</td><td>str</td><td>str</td><td>str</td><td>str</td><td>f64</td><td>str</td><td>str</td><td>str</td><td>str</td><td>str</td><td>str</td><td>str</td><td>str</td><td>str</td><td>str</td><td>i64</td><td>bool</td></tr></thead><tbody><tr><td>null</td><td>&quot;Micro SD&quot;</td><td>&quot;16 Go&quot;</td><td>&quot;165,00 g&quot;</td><td>3.8929</td><td>&quot;5,4&quot; soit 13,7…</td><td>&quot;9,20 mm&quot;</td><td>&quot;IPS (LCD)&quot;</td><td>&quot;0,520 W/kg&quot;</td><td>&quot;4 coeurs jusqu…</td><td>&quot;Gris&quot;</td><td>&quot;Pas de charge …</td><td>&quot;1440 x 720 pix…</td><td>&quot;1&quot;</td><td>&quot;6,0 /10&quot;</td><td>&quot;DORO&quot;</td><td>&quot;1,250 W/kg&quot;</td><td>&quot;Android 9.0 Pi…</td><td>&quot;Oui&quot;</td><td>&quot;Non&quot;</td><td>&quot;DORO 8050&quot;</td><td>230.3</td><td>&quot;13 mégapixels&quot;</td><td>&quot;4G&quot;</td><td>&quot;70,80 mm&quot;</td><td>&quot;1 SIM&quot;</td><td>&quot;Plat&quot;</td><td>&quot;2 Go&quot;</td><td>&quot;2,630 W/kg&quot;</td><td>&quot;Nano SIM et Mi…</td><td>&quot;152,90 mm&quot;</td><td>&quot;3000 mAh&quot;</td><td>28</td><td>true</td></tr><tr><td>null</td><td>&quot;NM Card&quot;</td><td>&quot;128 Go&quot;</td><td>&quot;183,00 g&quot;</td><td>3.4054</td><td>&quot;6,4&quot; soit 16,3…</td><td>&quot;8,70 mm&quot;</td><td>&quot;IPS (LCD)&quot;</td><td>&quot;0,850 W/kg&quot;</td><td>&quot;8 coeurs jusqu…</td><td>&quot;Vert&quot;</td><td>&quot;Pas de charge …</td><td>&quot;2340 x 1080 pi…</td><td>&quot;4&quot;</td><td>&quot;6,7 /10&quot;</td><td>&quot;HUAWEI&quot;</td><td>&quot;1,150 W/kg&quot;</td><td>&quot;Android 10&quot;</td><td>&quot;5.1&quot;</td><td>&quot;Non&quot;</td><td>&quot;HUAWEI P40 Lit…</td><td>305.97</td><td>&quot;48 mégapixels+…</td><td>&quot;4G&quot;</td><td>&quot;76,30 mm&quot;</td><td>&quot;2 SIM ou 1 SIM…</td><td>&quot;Plat&quot;</td><td>&quot;6 Go&quot;</td><td>&quot;2,770 W/kg&quot;</td><td>&quot;Nano SIM x2 ou…</td><td>&quot;159,20 mm&quot;</td><td>&quot;4200 mAh&quot;</td><td>74</td><td>true</td></tr><tr><td>null</td><td>&quot;Non&quot;</td><td>&quot;256 Go&quot;</td><td>&quot;183,00 g&quot;</td><td>5.0</td><td>&quot;6,7&quot; soit 17 c…</td><td>&quot;6,90 mm&quot;</td><td>&quot;Dynamic AMOLED…</td><td>&quot;0,799 W/kg&quot;</td><td>&quot;8 coeurs jusqu…</td><td>&quot;Gris&quot;</td><td>&quot;Possibilité de…</td><td>&quot;2636 x 1080 pi…</td><td>&quot;2&quot;</td><td>&quot;5,1 /10&quot;</td><td>&quot;SAMSUNG&quot;</td><td>&quot;1,451 W/kg&quot;</td><td>&quot;Android 10&quot;</td><td>&quot;5&quot;</td><td>&quot;Oui&quot;</td><td>&quot;Samsung Galaxy…</td><td>1992.93</td><td>&quot;12 mégapixels+…</td><td>&quot;5G&quot;</td><td>&quot;73,60 mm&quot;</td><td>&quot;2 SIM&quot;</td><td>&quot;Pliable&quot;</td><td>&quot;8 Go&quot;</td><td>&quot;1,790 W/kg&quot;</td><td>&quot;Nano SIM et eS…</td><td>&quot;167,30 mm&quot;</td><td>&quot;3300 mAh&quot;</td><td>2</td><td>true</td></tr><tr><td>null</td><td>&quot;Micro SD&quot;</td><td>&quot;128 Go&quot;</td><td>&quot;203,00 g&quot;</td><td>4.2857</td><td>&quot;6,7&quot; soit 17 c…</td><td>&quot;8,40 mm&quot;</td><td>&quot;Super AMOLED (…</td><td>&quot;0,230 W/kg&quot;</td><td>&quot;8 coeurs jusqu…</td><td>null</td><td>&quot;Pas de charge …</td><td>&quot;2400 x 1080 pi…</td><td>&quot;4&quot;</td><td>&quot;8,2 /10&quot;</td><td>&quot;SAMSUNG&quot;</td><td>&quot;1,168 W/kg&quot;</td><td>&quot;Android 11&quot;</td><td>&quot;5&quot;</td><td>&quot;Oui&quot;</td><td>&quot;Samsung Galaxy…</td><td>483.9</td><td>&quot;64 mégapixels+…</td><td>&quot;4G&quot;</td><td>&quot;77,40 mm&quot;</td><td>&quot;2 SIM&quot;</td><td>&quot;Plat&quot;</td><td>&quot;6 Go&quot;</td><td>&quot;2,490 W/kg&quot;</td><td>&quot;Nano SIM (x2)&quot;</td><td>&quot;165,00 mm&quot;</td><td>&quot;5000 mAh&quot;</td><td>14</td><td>true</td></tr><tr><td>null</td><td>&quot;SD&quot;</td><td>&quot;64 Go&quot;</td><td>&quot;199,00 g&quot;</td><td>4.0161</td><td>&quot;6,5&quot; soit 16,5…</td><td>&quot;8,90 mm&quot;</td><td>&quot;IPS (LCD)&quot;</td><td>&quot;0,795 W/kg&quot;</td><td>&quot;8 coeurs jusqu…</td><td>&quot;Vert&quot;</td><td>&quot;Pas de charge …</td><td>&quot;2400 x 1080 pi…</td><td>&quot;4&quot;</td><td>&quot;7,1 /10&quot;</td><td>&quot;XIAOMI&quot;</td><td>&quot;1,138 W/kg&quot;</td><td>&quot;Android 9.0 Pi…</td><td>&quot;5&quot;</td><td>&quot;Oui&quot;</td><td>&quot;XIAOMI Redmi N…</td><td>171.04</td><td>&quot;48 mégapixels+…</td><td>&quot;4G&quot;</td><td>&quot;77,20 mm&quot;</td><td>&quot;2 SIM&quot;</td><td>&quot;Plat&quot;</td><td>&quot;3 Go&quot;</td><td>&quot;2,262 W/kg&quot;</td><td>&quot;SIM&quot;</td><td>&quot;162,30 mm&quot;</td><td>&quot;5020 mAh&quot;</td><td>62</td><td>true</td></tr><tr><td>null</td><td>&quot;Non&quot;</td><td>&quot;256 Go&quot;</td><td>&quot;202,00 g&quot;</td><td>4.75</td><td>&quot;6,7&quot; soit 17 c…</td><td>&quot;7,80 mm&quot;</td><td>&quot;Dynamic AMOLED…</td><td>&quot;0,541 W/kg&quot;</td><td>null</td><td>&quot;Gris&quot;</td><td>&quot;Possibilité de…</td><td>&quot;2400 x 1080 pi…</td><td>&quot;3&quot;</td><td>&quot;8,2 /10&quot;</td><td>&quot;SAMSUNG&quot;</td><td>&quot;1,335 W/kg&quot;</td><td>&quot;Android 11&quot;</td><td>&quot;5.2&quot;</td><td>&quot;Oui&quot;</td><td>&quot;Samsung Galaxy…</td><td>1274.99</td><td>&quot;64 mégapixels+…</td><td>&quot;5G&quot;</td><td>&quot;75,80 mm&quot;</td><td>&quot;2 SIM&quot;</td><td>&quot;Plat&quot;</td><td>&quot;8 Go&quot;</td><td>&quot;2,230 W/kg&quot;</td><td>&quot;SIM&quot;</td><td>&quot;161,40 mm&quot;</td><td>&quot;4800 mAh&quot;</td><td>4</td><td>true</td></tr><tr><td>null</td><td>&quot;Non&quot;</td><td>&quot;128 Go&quot;</td><td>&quot;184,00 g&quot;</td><td>4.4568</td><td>&quot;6,6&quot; soit 16,8…</td><td>&quot;8,10 mm&quot;</td><td>&quot;LTPS&quot;</td><td>&quot;0,880 W/kg&quot;</td><td>&quot;8 coeurs jusqu…</td><td>&quot;Noir&quot;</td><td>&quot;Pas de charge …</td><td>&quot;2400 x 1080 pi…</td><td>&quot;4&quot;</td><td>&quot;7,3 /10&quot;</td><td>&quot;OPPO&quot;</td><td>&quot;0,905 W/kg&quot;</td><td>&quot;Android 10&quot;</td><td>&quot;5&quot;</td><td>&quot;Oui&quot;</td><td>&quot;OPPO Reno 4Z&quot;</td><td>288.49</td><td>&quot;48 mégapixels+…</td><td>&quot;5G&quot;</td><td>&quot;75,50 mm&quot;</td><td>&quot;2 SIM&quot;</td><td>&quot;Bord à bord&quot;</td><td>&quot;8 Go&quot;</td><td>&quot;2,686 W/kg&quot;</td><td>&quot;Nano SIM (x2)&quot;</td><td>&quot;163,80 mm&quot;</td><td>&quot;4000 mAh&quot;</td><td>81</td><td>true</td></tr><tr><td>null</td><td>&quot;Micro SD&quot;</td><td>&quot;128 Go&quot;</td><td>&quot;193,00 g&quot;</td><td>4.5217</td><td>&quot;6,5&quot; soit 16,5…</td><td>&quot;8,40 mm&quot;</td><td>&quot;Super AMOLED (…</td><td>&quot;0,503 W/kg&quot;</td><td>&quot;Qualcomm Snapd…</td><td>&quot;Vert&quot;</td><td>&quot;Possibilité de…</td><td>&quot;2400 x 1080 pi…</td><td>&quot;3&quot;</td><td>&quot;8,1 /10&quot;</td><td>&quot;SAMSUNG&quot;</td><td>&quot;1,335 W/kg&quot;</td><td>&quot;Android 10&quot;</td><td>&quot;5&quot;</td><td>&quot;Oui&quot;</td><td>&quot;Samsung Galaxy…</td><td>391.9</td><td>&quot;12 mégapixels+…</td><td>&quot;5G&quot;</td><td>&quot;74,50 mm&quot;</td><td>&quot;2 SIM&quot;</td><td>&quot;Plat&quot;</td><td>&quot;6 Go&quot;</td><td>&quot;3,110 W/kg&quot;</td><td>&quot;SIM hybride&quot;</td><td>&quot;159,80 mm&quot;</td><td>&quot;4500 mAh&quot;</td><td>138</td><td>true</td></tr><tr><td>null</td><td>&quot;Micro SD&quot;</td><td>&quot;128 Go&quot;</td><td>&quot;205,00 g&quot;</td><td>0.0</td><td>&quot;6,6&quot; soit 16,8…</td><td>&quot;9,10 mm&quot;</td><td>&quot;IPS (LCD)&quot;</td><td>&quot;1,220 W/kg&quot;</td><td>&quot;8 coeurs jusqu…</td><td>&quot;Bleu&quot;</td><td>&quot;Pas de charge …</td><td>&quot;1080 x 2400 pi…</td><td>&quot;4&quot;</td><td>&quot;6,1 /10&quot;</td><td>&quot;TCL&quot;</td><td>&quot;1,350 W/kg&quot;</td><td>&quot;Android 11&quot;</td><td>&quot;5&quot;</td><td>&quot;Non&quot;</td><td>&quot;TCL 20L&quot;</td><td>229.99</td><td>&quot;48 mégapixels+…</td><td>&quot;4G&quot;</td><td>&quot;76,90 mm&quot;</td><td>&quot;2 SIM&quot;</td><td>&quot;Bord à bord&quot;</td><td>&quot;4 Go&quot;</td><td>&quot;2,920 W/kg&quot;</td><td>&quot;Nano SIM (x2) …</td><td>&quot;166,20 mm&quot;</td><td>&quot;5000 mAh&quot;</td><td>0</td><td>true</td></tr><tr><td>null</td><td>&quot;SD&quot;</td><td>&quot;64 Go&quot;</td><td>&quot;199,00 g&quot;</td><td>4.0161</td><td>&quot;6,5&quot; soit 16,5…</td><td>&quot;8,90 mm&quot;</td><td>&quot;IPS (LCD)&quot;</td><td>&quot;0,795 W/kg&quot;</td><td>&quot;8 coeurs jusqu…</td><td>&quot;Gris&quot;</td><td>&quot;Pas de charge …</td><td>&quot;2400 x 1080 pi…</td><td>&quot;4&quot;</td><td>&quot;7,1 /10&quot;</td><td>&quot;XIAOMI&quot;</td><td>&quot;1,138 W/kg&quot;</td><td>&quot;Android 9.0 Pi…</td><td>&quot;5&quot;</td><td>&quot;Oui&quot;</td><td>&quot;XIAOMI Redmi N…</td><td>172.47</td><td>&quot;48 mégapixels+…</td><td>&quot;4G&quot;</td><td>&quot;77,20 mm&quot;</td><td>&quot;2 SIM&quot;</td><td>&quot;Plat&quot;</td><td>&quot;3 Go&quot;</td><td>&quot;2,262 W/kg&quot;</td><td>&quot;SIM&quot;</td><td>&quot;162,30 mm&quot;</td><td>&quot;5020 mAh&quot;</td><td>62</td><td>true</td></tr></tbody></table></div>"
      ],
      "text/plain": [
       "shape: (10, 34)\n",
       "┌─────────┬───────────────┬─────────┬────────────┬───┬───────────┬──────────┬─────────┬────────────┐\n",
       "│ made_in ┆ upgrade_stora ┆ storage ┆ net_weight ┆ … ┆ height    ┆ battery  ┆ reviews ┆ usb_type_c │\n",
       "│ ---     ┆ ge            ┆ ---     ┆ ---        ┆   ┆ ---       ┆ ---      ┆ ---     ┆ ---        │\n",
       "│ str     ┆ ---           ┆ str     ┆ str        ┆   ┆ str       ┆ str      ┆ i64     ┆ bool       │\n",
       "│         ┆ str           ┆         ┆            ┆   ┆           ┆          ┆         ┆            │\n",
       "╞═════════╪═══════════════╪═════════╪════════════╪═══╪═══════════╪══════════╪═════════╪════════════╡\n",
       "│ null    ┆ Micro SD      ┆ 16 Go   ┆ 165,00 g   ┆ … ┆ 152,90 mm ┆ 3000 mAh ┆ 28      ┆ true       │\n",
       "│ null    ┆ NM Card       ┆ 128 Go  ┆ 183,00 g   ┆ … ┆ 159,20 mm ┆ 4200 mAh ┆ 74      ┆ true       │\n",
       "│ null    ┆ Non           ┆ 256 Go  ┆ 183,00 g   ┆ … ┆ 167,30 mm ┆ 3300 mAh ┆ 2       ┆ true       │\n",
       "│ null    ┆ Micro SD      ┆ 128 Go  ┆ 203,00 g   ┆ … ┆ 165,00 mm ┆ 5000 mAh ┆ 14      ┆ true       │\n",
       "│ …       ┆ …             ┆ …       ┆ …          ┆ … ┆ …         ┆ …        ┆ …       ┆ …          │\n",
       "│ null    ┆ Non           ┆ 128 Go  ┆ 184,00 g   ┆ … ┆ 163,80 mm ┆ 4000 mAh ┆ 81      ┆ true       │\n",
       "│ null    ┆ Micro SD      ┆ 128 Go  ┆ 193,00 g   ┆ … ┆ 159,80 mm ┆ 4500 mAh ┆ 138     ┆ true       │\n",
       "│ null    ┆ Micro SD      ┆ 128 Go  ┆ 205,00 g   ┆ … ┆ 166,20 mm ┆ 5000 mAh ┆ 0       ┆ true       │\n",
       "│ null    ┆ SD            ┆ 64 Go   ┆ 199,00 g   ┆ … ┆ 162,30 mm ┆ 5020 mAh ┆ 62      ┆ true       │\n",
       "└─────────┴───────────────┴─────────┴────────────┴───┴───────────┴──────────┴─────────┴────────────┘"
      ]
     },
     "execution_count": 8,
     "metadata": {},
     "output_type": "execute_result"
    }
   ],
   "source": [
    "df.filter(pl.col(\"made_in\").is_null())\n",
    "# on doit fill ces 10 pays là, ce ne doit pas etre très compliqué"
   ]
  }
 ],
 "metadata": {
  "kernelspec": {
   "display_name": "Python 3",
   "language": "python",
   "name": "python3"
  },
  "language_info": {
   "codemirror_mode": {
    "name": "ipython",
    "version": 3
   },
   "file_extension": ".py",
   "mimetype": "text/x-python",
   "name": "python",
   "nbconvert_exporter": "python",
   "pygments_lexer": "ipython3",
   "version": "3.10.6"
  }
 },
 "nbformat": 4,
 "nbformat_minor": 2
}
