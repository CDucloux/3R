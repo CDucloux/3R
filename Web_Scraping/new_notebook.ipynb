{
 "cells": [
  {
   "cell_type": "code",
   "execution_count": 59,
   "metadata": {},
   "outputs": [],
   "source": [
    "from script.scraper_functions import *\n",
    "from script.soupifier import *\n",
    "from serde.json import to_json\n",
    "import numpy as np\n",
    "from itertools import chain\n",
    "from yarl import URL"
   ]
  },
  {
   "cell_type": "markdown",
   "metadata": {},
   "source": [
    "**TODO**:\n",
    "\n",
    "- `ruff` $\\Rightarrow$ linter, à utiliser plus dans le cadre du dvpt\n",
    "- `pytest` avec subprocess.run pour tester le code\n",
    "- `pytest-coverage`\n",
    "- `poetry` avec gestion des dépendances\n",
    "- `black` pour automatiquement indenter, etc.\n",
    "- `doctest` pour tester les exemples des docstrings\n",
    "- `bandit` pour gérer les vulnérabilités\n",
    "\n",
    "***\n",
    "\n",
    "- `yarl` pour travailler avec des URL"
   ]
  },
  {
   "cell_type": "markdown",
   "metadata": {},
   "source": [
    "## Le code ci-dessous lance le `scraper`\n",
    "\n",
    "- Tu peux changer le nombre d'*URL* de **19** à 1 ou 2 pour tester ça prendra beaucoup moins longtemps à générer\n",
    "- Lien [`Darty`](https://www.darty.com/nav/extra/list?seller=311289-0-327183-311290-311291-328771-311452&cat=89054&state=new_offer&persist_sold_by_darty=true) $\\Rightarrow$ en choisissant les produits uniquement vendus par Darty + Neufs on a 567 produits.\n",
    "- Avoir un comparatif Boulanger/Darty pourrait être intéressant\n",
    "- Voir pour récupérer les images des téléphones pour plus tard dans l'appli - voir : https://discuss.streamlit.io/t/add-image-and-header-to-streamlit-dataframe-table/36065/3"
   ]
  },
  {
   "cell_type": "code",
   "execution_count": 60,
   "metadata": {},
   "outputs": [
    {
     "data": {
      "text/plain": [
       "URL('')"
      ]
     },
     "execution_count": 60,
     "metadata": {},
     "output_type": "execute_result"
    }
   ],
   "source": [
    "URL()"
   ]
  },
  {
   "cell_type": "code",
   "execution_count": 61,
   "metadata": {},
   "outputs": [],
   "source": [
    "session = create_session()\n",
    "url_list = create_url_list(URL, 1)\n",
    "pages = read_pages(url_list=url_list, session=session)"
   ]
  },
  {
   "cell_type": "code",
   "execution_count": null,
   "metadata": {},
   "outputs": [
    {
     "data": {
      "text/html": [
       "<pre style=\"white-space:pre;overflow-x:auto;line-height:normal;font-family:Menlo,'DejaVu Sans Mono',consolas,'Courier New',monospace\"><span style=\"font-style: italic\">Elapsed time</span> for <span style=\"color: #800000; text-decoration-color: #800000; font-weight: bold\">extract_all_urls</span> function: <span style=\"color: #008080; text-decoration-color: #008080; font-weight: bold\">0.488</span> seconds.\n",
       "</pre>\n"
      ],
      "text/plain": [
       "\u001b[3mElapsed time\u001b[0m for \u001b[1;31mextract_all_urls\u001b[0m function: \u001b[1;36m0.488\u001b[0m seconds.\n"
      ]
     },
     "metadata": {},
     "output_type": "display_data"
    },
    {
     "name": "stdout",
     "output_type": "stream",
     "text": [
      "--------------------\n",
      "Product 1 -> Successfull Extraction.\n",
      "Product 2 -> Successfull Extraction.\n",
      "Product 3 -> Successfull Extraction.\n",
      "Product 4 -> Successfull Extraction.\n",
      "Product 5 -> Successfull Extraction.\n",
      "Product 6 -> Successfull Extraction.\n",
      "Product 7 -> Successfull Extraction.\n",
      "Product 8 -> Successfull Extraction.\n",
      "Product 9 -> Successfull Extraction.\n",
      "Product 10 -> Successfull Extraction.\n",
      "Product 11 -> Successfull Extraction.\n",
      "Product 12 -> Successfull Extraction.\n",
      "Product 13 -> Successfull Extraction.\n",
      "Product 14 -> Successfull Extraction.\n",
      "Product 15 -> Successfull Extraction.\n",
      "Product 16 -> Successfull Extraction.\n",
      "Product 17 -> Successfull Extraction.\n",
      "Product 18 -> Successfull Extraction.\n",
      "Product 19 -> Successfull Extraction.\n",
      "Product 20 -> Successfull Extraction.\n",
      "Product 21 -> Successfull Extraction.\n",
      "Product 22 -> Successfull Extraction.\n",
      "Product 23 -> Successfull Extraction.\n",
      "Product 24 -> Successfull Extraction.\n",
      "Product 25 -> Successfull Extraction.\n",
      "Product 26 -> Successfull Extraction.\n",
      "Product 27 -> Successfull Extraction.\n",
      "Product 28 -> Successfull Extraction.\n",
      "Product 29 -> Successfull Extraction.\n",
      "Product 30 -> Successfull Extraction.\n"
     ]
    },
    {
     "data": {
      "text/html": [
       "<pre style=\"white-space:pre;overflow-x:auto;line-height:normal;font-family:Menlo,'DejaVu Sans Mono',consolas,'Courier New',monospace\"><span style=\"font-style: italic\">Elapsed time</span> for <span style=\"color: #800000; text-decoration-color: #800000; font-weight: bold\">extract_all_pages</span> function: <span style=\"color: #008080; text-decoration-color: #008080; font-weight: bold\">59.688</span> seconds.\n",
       "</pre>\n"
      ],
      "text/plain": [
       "\u001b[3mElapsed time\u001b[0m for \u001b[1;31mextract_all_pages\u001b[0m function: \u001b[1;36m59.688\u001b[0m seconds.\n"
      ]
     },
     "metadata": {},
     "output_type": "display_data"
    }
   ],
   "source": [
    "all_urls = extract_all_urls(pages)\n",
    "print(\"--------------------\")\n",
    "product_pages = extract_all_pages(all_urls, session)"
   ]
  },
  {
   "cell_type": "markdown",
   "metadata": {},
   "source": [
    "Il faudrait créer une fonction pour la génération de la liste des smartphones + l'export en `json`"
   ]
  },
  {
   "cell_type": "code",
   "execution_count": null,
   "metadata": {},
   "outputs": [],
   "source": [
    "smartphone_list = list()\n",
    "for article in product_pages:\n",
    "    soup = BeautifulSoup(article, \"html.parser\")\n",
    "    dict_features = extract_features(soup)\n",
    "    smartphone = smartphone_characteristics(dict_features)\n",
    "    smartphone_list.append(smartphone)"
   ]
  },
  {
   "cell_type": "code",
   "execution_count": null,
   "metadata": {},
   "outputs": [],
   "source": [
    "smartphones_json = to_json(smartphone_list)"
   ]
  },
  {
   "cell_type": "code",
   "execution_count": null,
   "metadata": {},
   "outputs": [],
   "source": [
    "file_path = \"data/smartphones.json\"\n",
    "\n",
    "with open(file_path, \"w\", encoding=\"utf-8\") as json_file:\n",
    "    json_file.write(smartphones_json)"
   ]
  },
  {
   "cell_type": "markdown",
   "metadata": {},
   "source": [
    "## Charge le Dataframe dans `polars`"
   ]
  },
  {
   "cell_type": "code",
   "execution_count": 1,
   "metadata": {},
   "outputs": [],
   "source": [
    "import polars as pl\n",
    "import polars.selectors as cs\n",
    "from script.polars_gazprom import *"
   ]
  },
  {
   "cell_type": "code",
   "execution_count": 2,
   "metadata": {},
   "outputs": [],
   "source": [
    "df_brut = pl.read_json(\"data/smartphones.json\")"
   ]
  },
  {
   "cell_type": "code",
   "execution_count": 3,
   "metadata": {},
   "outputs": [
    {
     "data": {
      "text/html": [
       "<div><style>\n",
       ".dataframe > thead > tr > th,\n",
       ".dataframe > tbody > tr > td {\n",
       "  text-align: right;\n",
       "  white-space: pre-wrap;\n",
       "}\n",
       "</style>\n",
       "<small>shape: (1, 37)</small><table border=\"1\" class=\"dataframe\"><thead><tr><th>model</th><th>sensor_resolution</th><th>cpu</th><th>upgrade_storage</th><th>sensor</th><th>sim_type</th><th>screen_size</th><th>repairability_index</th><th>thickness</th><th>das_limbs</th><th>brand</th><th>reviews</th><th>made_in</th><th>network</th><th>battery</th><th>fast_charging</th><th>color</th><th>charging_type</th><th>screen_type</th><th>price</th><th>warranty</th><th>net_weight</th><th>screen_resolution</th><th>ram</th><th>sim_number</th><th>height</th><th>stars</th><th>width</th><th>bluetooth</th><th>storage</th><th>screen_tech</th><th>os</th><th>das_chest</th><th>das_head</th><th>usb_type_c</th><th>refresh_rate</th><th>cpu_details</th></tr><tr><td>u32</td><td>u32</td><td>u32</td><td>u32</td><td>u32</td><td>u32</td><td>u32</td><td>u32</td><td>u32</td><td>u32</td><td>u32</td><td>u32</td><td>u32</td><td>u32</td><td>u32</td><td>u32</td><td>u32</td><td>u32</td><td>u32</td><td>u32</td><td>u32</td><td>u32</td><td>u32</td><td>u32</td><td>u32</td><td>u32</td><td>u32</td><td>u32</td><td>u32</td><td>u32</td><td>u32</td><td>u32</td><td>u32</td><td>u32</td><td>u32</td><td>u32</td><td>u32</td></tr></thead><tbody><tr><td>0</td><td>1</td><td>5</td><td>1</td><td>81</td><td>0</td><td>0</td><td>16</td><td>3</td><td>13</td><td>0</td><td>0</td><td>48</td><td>0</td><td>24</td><td>2</td><td>1</td><td>17</td><td>4</td><td>0</td><td>92</td><td>18</td><td>0</td><td>29</td><td>5</td><td>3</td><td>0</td><td>3</td><td>0</td><td>0</td><td>2</td><td>2</td><td>13</td><td>13</td><td>86</td><td>337</td><td>210</td></tr></tbody></table></div>"
      ],
      "text/plain": [
       "shape: (1, 37)\n",
       "┌───────┬──────────────┬─────┬─────────────┬───┬──────────┬────────────┬─────────────┬─────────────┐\n",
       "│ model ┆ sensor_resol ┆ cpu ┆ upgrade_sto ┆ … ┆ das_head ┆ usb_type_c ┆ refresh_rat ┆ cpu_details │\n",
       "│ ---   ┆ ution        ┆ --- ┆ rage        ┆   ┆ ---      ┆ ---        ┆ e           ┆ ---         │\n",
       "│ u32   ┆ ---          ┆ u32 ┆ ---         ┆   ┆ u32      ┆ u32        ┆ ---         ┆ u32         │\n",
       "│       ┆ u32          ┆     ┆ u32         ┆   ┆          ┆            ┆ u32         ┆             │\n",
       "╞═══════╪══════════════╪═════╪═════════════╪═══╪══════════╪════════════╪═════════════╪═════════════╡\n",
       "│ 0     ┆ 1            ┆ 5   ┆ 1           ┆ … ┆ 13       ┆ 86         ┆ 337         ┆ 210         │\n",
       "└───────┴──────────────┴─────┴─────────────┴───┴──────────┴────────────┴─────────────┴─────────────┘"
      ]
     },
     "execution_count": 3,
     "metadata": {},
     "output_type": "execute_result"
    }
   ],
   "source": [
    "df_brut.select(pl.all().is_null().sum())"
   ]
  },
  {
   "cell_type": "markdown",
   "metadata": {},
   "source": [
    "### Pipeline"
   ]
  },
  {
   "cell_type": "markdown",
   "metadata": {},
   "source": [
    "Sur `535` extractions, il y a `436` téléphones valides avec les caractéristiques. Pas mal ?\n",
    "\n",
    "Pour obtenir la *PPI* (Pixels per Inch) on fait : \n",
    "\n",
    "$$PPI = \\dfrac{\\text{diagonal\\_pixels}}{\\text{screen\\_size} (inch)}$$"
   ]
  },
  {
   "cell_type": "code",
   "execution_count": 180,
   "metadata": {},
   "outputs": [],
   "source": [
    "df = NordStream(df_brut)"
   ]
  },
  {
   "cell_type": "code",
   "execution_count": 181,
   "metadata": {},
   "outputs": [],
   "source": [
    "df = df.with_columns(\n",
    "    pl.col(\"sensor_resolution\")\n",
    "    .str.extract_all(r\"(\\d+)\")\n",
    "    .list.to_struct(fields=[\"cam_1\", \"cam_2\", \"cam_3\"])\n",
    ").unnest(\"sensor_resolution\").with_columns(\n",
    "    pl.col(\"cam_1\", \"cam_2\", \"cam_3\").cast(pl.Float64).fill_null(strategy=\"zero\")\n",
    ").with_columns(\n",
    "    pl.col(\"cam_1\").add(pl.col(\"cam_2\").add(pl.col(\"cam_3\"))).alias(\"mpx_backward_cam\")\n",
    ")"
   ]
  },
  {
   "cell_type": "code",
   "execution_count": 50,
   "metadata": {},
   "outputs": [],
   "source": [
    "#df.select(cs.by_dtype(pl.NUMERIC_DTYPES)).corr()\n",
    "\n",
    "# Matrice de corrélation"
   ]
  },
  {
   "cell_type": "code",
   "execution_count": 182,
   "metadata": {},
   "outputs": [],
   "source": [
    "import statsmodels.formula.api as smf\n",
    "import statsmodels.formula as sm\n",
    "from stargazer.stargazer import Stargazer\n",
    "import numpy as np\n",
    "import random\n",
    "from dataclasses import dataclass"
   ]
  },
  {
   "cell_type": "code",
   "execution_count": 183,
   "metadata": {},
   "outputs": [],
   "source": [
    "df = df.drop_nulls(subset=cs.contains({\"made_in\", \"repairability_index\", \"width\"}))"
   ]
  },
  {
   "cell_type": "code",
   "execution_count": 185,
   "metadata": {},
   "outputs": [],
   "source": [
    "df = df.with_columns(random_col = pl.lit(0))"
   ]
  },
  {
   "cell_type": "code",
   "execution_count": 186,
   "metadata": {},
   "outputs": [],
   "source": [
    "df = df.with_columns(pl.col(\"random_col\").map_elements(lambda x: random.randint(-1000, 1000)))"
   ]
  },
  {
   "cell_type": "code",
   "execution_count": 10,
   "metadata": {},
   "outputs": [],
   "source": [
    "@dataclass\n",
    "class Formula:\n",
    "    y: str\n",
    "    X: str\n",
    "\n",
    "    def __repr__(self):\n",
    "        return f\"{self.y} ~ {self.X}\""
   ]
  },
  {
   "cell_type": "code",
   "execution_count": 187,
   "metadata": {},
   "outputs": [],
   "source": [
    "X2 = \"screen_tech\""
   ]
  },
  {
   "cell_type": "code",
   "execution_count": 218,
   "metadata": {},
   "outputs": [],
   "source": [
    "y = \"price\"\n",
    "X = \"storage + induction + ram + screen_type + network + diagonal_pixels + screen_size + brand + made_in + das_limbs\""
   ]
  },
  {
   "cell_type": "code",
   "execution_count": 219,
   "metadata": {},
   "outputs": [],
   "source": [
    "f = Formula(y, X)"
   ]
  },
  {
   "cell_type": "markdown",
   "metadata": {},
   "source": [
    "Variables qui n'apportent rien dans la loglin-reg : \n",
    "\n",
    "- color\n",
    "- net_weight\n",
    "- model\n",
    "- das_chest\n",
    "- das_head"
   ]
  },
  {
   "cell_type": "code",
   "execution_count": 220,
   "metadata": {},
   "outputs": [],
   "source": [
    "def execute_ols(df: pl.DataFrame, f: Formula):\n",
    "    ols_model = smf.ols(\n",
    "        formula=str(f),\n",
    "        data=df,\n",
    "    )\n",
    "    res = ols_model.fit()\n",
    "    #coefs = dict(res.params)\n",
    "    return res"
   ]
  },
  {
   "cell_type": "code",
   "execution_count": 221,
   "metadata": {},
   "outputs": [],
   "source": [
    "res = execute_ols(df, f)"
   ]
  },
  {
   "cell_type": "code",
   "execution_count": 222,
   "metadata": {},
   "outputs": [
    {
     "name": "stdout",
     "output_type": "stream",
     "text": [
      "                            OLS Regression Results                            \n",
      "==============================================================================\n",
      "Dep. Variable:                  price   R-squared:                       0.899\n",
      "Model:                            OLS   Adj. R-squared:                  0.892\n",
      "Method:                 Least Squares   F-statistic:                     126.4\n",
      "Date:                Wed, 01 Nov 2023   Prob (F-statistic):          2.29e-179\n",
      "Time:                        12:07:05   Log-Likelihood:                -2735.6\n",
      "No. Observations:                 428   AIC:                             5529.\n",
      "Df Residuals:                     399   BIC:                             5647.\n",
      "Df Model:                          28                                         \n",
      "Covariance Type:            nonrobust                                         \n",
      "=================================================================================================\n",
      "                                    coef    std err          t      P>|t|      [0.025      0.975]\n",
      "-------------------------------------------------------------------------------------------------\n",
      "Intercept                      -719.1405    143.222     -5.021      0.000   -1000.705    -437.576\n",
      "induction[T.True]               260.3787     27.272      9.548      0.000     206.765     313.993\n",
      "screen_type[T.Bords incurvés]   -96.7612     70.600     -1.371      0.171    -235.556      42.034\n",
      "screen_type[T.Plat]             -58.9711     27.522     -2.143      0.033    -113.078      -4.865\n",
      "screen_type[T.Pliable]          350.6803     43.791      8.008      0.000     264.590     436.771\n",
      "network[T.5G]                    32.0516     23.729      1.351      0.178     -14.598      78.701\n",
      "brand[T.ASUS]                  -151.1974     71.287     -2.121      0.035    -291.342     -11.053\n",
      "brand[T.FAIRPHONE]             -180.5776     96.268     -1.876      0.061    -369.833       8.678\n",
      "brand[T.GOOGLE]                -259.5438     62.385     -4.160      0.000    -382.188    -136.900\n",
      "brand[T.HONOR]                 -487.0574     66.635     -7.309      0.000    -618.056    -356.059\n",
      "brand[T.MOTOROLA]              -484.9504     49.332     -9.830      0.000    -581.933    -387.968\n",
      "brand[T.NOTHING]               -584.8060     69.427     -8.423      0.000    -721.295    -448.317\n",
      "brand[T.ONEPLUS]               -428.4123     70.213     -6.102      0.000    -566.447    -290.378\n",
      "brand[T.OPPO]                  -361.2453     55.317     -6.530      0.000    -469.995    -252.495\n",
      "brand[T.REALME]                -375.0629     57.308     -6.545      0.000    -487.726    -262.400\n",
      "brand[T.SAMSUNG]               -221.3315     55.805     -3.966      0.000    -331.041    -111.622\n",
      "brand[T.SONY]                  -247.2014     78.675     -3.142      0.002    -401.872     -92.531\n",
      "brand[T.VIVO]                  -335.1364     62.369     -5.373      0.000    -457.749    -212.523\n",
      "brand[T.XIAOMI]                -336.1803     47.800     -7.033      0.000    -430.151    -242.209\n",
      "made_in[T.Inde]                 -56.9209    154.307     -0.369      0.712    -360.278     246.436\n",
      "made_in[T.Japon]                262.2923    126.672      2.071      0.039      13.264     511.320\n",
      "made_in[T.Taïwan]               204.3212    157.974      1.293      0.197    -106.244     514.887\n",
      "made_in[T.Thaïlande]            466.9509     87.301      5.349      0.000     295.324     638.577\n",
      "made_in[T.Viêt Nam]             -23.0838     42.263     -0.546      0.585    -106.170      60.002\n",
      "storage                           0.6471      0.069      9.366      0.000       0.511       0.783\n",
      "ram                              36.9047      4.955      7.447      0.000      27.163      46.647\n",
      "diagonal_pixels                   0.0501      0.024      2.106      0.036       0.003       0.097\n",
      "screen_size                     125.4264     20.199      6.209      0.000      85.716     165.137\n",
      "das_limbs                        65.1619     19.473      3.346      0.001      26.879     103.444\n",
      "==============================================================================\n",
      "Omnibus:                       16.306   Durbin-Watson:                   2.162\n",
      "Prob(Omnibus):                  0.000   Jarque-Bera (JB):               38.464\n",
      "Skew:                           0.017   Prob(JB):                     4.44e-09\n",
      "Kurtosis:                       4.468   Cond. No.                     6.58e+04\n",
      "==============================================================================\n",
      "\n",
      "Notes:\n",
      "[1] Standard Errors assume that the covariance matrix of the errors is correctly specified.\n",
      "[2] The condition number is large, 6.58e+04. This might indicate that there are\n",
      "strong multicollinearity or other numerical problems.\n"
     ]
    }
   ],
   "source": [
    "print(res.summary())"
   ]
  },
  {
   "cell_type": "code",
   "execution_count": 223,
   "metadata": {},
   "outputs": [],
   "source": [
    "def feature_importance(df: pl.DataFrame, y:str):\n",
    "    column_name = list()\n",
    "    r2_list = list()\n",
    "    for column in df.columns:\n",
    "        ols_model = smf.ols(\n",
    "        formula=f\"{y}~{column}\",\n",
    "        data=df)\n",
    "        res = ols_model.fit()\n",
    "        column_name.append(column)\n",
    "        r2_list.append(res.rsquared)\n",
    "\n",
    "    feature_imp_df = pl.DataFrame({'Column': column_name, 'R-squared': r2_list}).sort(\"R-squared\", descending=True)\n",
    "    return feature_imp_df"
   ]
  },
  {
   "cell_type": "code",
   "execution_count": 227,
   "metadata": {},
   "outputs": [
    {
     "data": {
      "text/html": [
       "<div><style>\n",
       ".dataframe > thead > tr > th,\n",
       ".dataframe > tbody > tr > td {\n",
       "  text-align: right;\n",
       "  white-space: pre-wrap;\n",
       "}\n",
       "</style>\n",
       "<small>shape: (27, 2)</small><table border=\"1\" class=\"dataframe\"><thead><tr><th>screen_tech</th><th>count</th></tr><tr><td>str</td><td>u32</td></tr></thead><tbody><tr><td>&quot;OLED QHD+&quot;</td><td>3</td></tr><tr><td>&quot;Retina [LCD]&quot;</td><td>5</td></tr><tr><td>&quot;AMOLED (rigide…</td><td>38</td></tr><tr><td>&quot;pOLED HDR10&quot;</td><td>13</td></tr><tr><td>&quot;LCD&quot;</td><td>9</td></tr><tr><td>&quot;Non communiqué…</td><td>69</td></tr><tr><td>&quot;Actua ou OLED …</td><td>6</td></tr><tr><td>&quot;Super Retina X…</td><td>41</td></tr><tr><td>&quot;AMOLED&quot;</td><td>3</td></tr><tr><td>&quot;Super Actua ou…</td><td>7</td></tr><tr><td>&quot;TFT (LCD)&quot;</td><td>18</td></tr><tr><td>&quot;HD+&quot;</td><td>21</td></tr><tr><td>&hellip;</td><td>&hellip;</td></tr><tr><td>&quot;AMOLED Rigide&quot;</td><td>4</td></tr><tr><td>&quot;Dynamic AMOLED…</td><td>59</td></tr><tr><td>&quot;CrystalRes AMO…</td><td>4</td></tr><tr><td>&quot;LCD FHD+&quot;</td><td>1</td></tr><tr><td>&quot;IPS (HD+)&quot;</td><td>1</td></tr><tr><td>&quot;OLED&quot;</td><td>4</td></tr><tr><td>&quot;LCD HD+&quot;</td><td>6</td></tr><tr><td>&quot;IPS (LCD)&quot;</td><td>5</td></tr><tr><td>&quot;OLED FHD+&quot;</td><td>12</td></tr><tr><td>&quot;FHD+&quot;</td><td>30</td></tr><tr><td>&quot;Super AMOLED (…</td><td>21</td></tr><tr><td>&quot;AMOLED (LTPO)&quot;</td><td>12</td></tr></tbody></table></div>"
      ],
      "text/plain": [
       "shape: (27, 2)\n",
       "┌──────────────────────┬───────┐\n",
       "│ screen_tech          ┆ count │\n",
       "│ ---                  ┆ ---   │\n",
       "│ str                  ┆ u32   │\n",
       "╞══════════════════════╪═══════╡\n",
       "│ OLED QHD+            ┆ 3     │\n",
       "│ Retina [LCD]         ┆ 5     │\n",
       "│ AMOLED (rigide) FHD+ ┆ 38    │\n",
       "│ pOLED HDR10          ┆ 13    │\n",
       "│ …                    ┆ …     │\n",
       "│ OLED FHD+            ┆ 12    │\n",
       "│ FHD+                 ┆ 30    │\n",
       "│ Super AMOLED (OLED)  ┆ 21    │\n",
       "│ AMOLED (LTPO)        ┆ 12    │\n",
       "└──────────────────────┴───────┘"
      ]
     },
     "execution_count": 227,
     "metadata": {},
     "output_type": "execute_result"
    }
   ],
   "source": [
    "df.group_by(\"screen_tech\").count()"
   ]
  },
  {
   "cell_type": "code",
   "execution_count": 224,
   "metadata": {},
   "outputs": [],
   "source": [
    "df_features = feature_importance(df, \"price\")"
   ]
  },
  {
   "cell_type": "code",
   "execution_count": 199,
   "metadata": {},
   "outputs": [],
   "source": [
    "import plotly.express as px"
   ]
  },
  {
   "cell_type": "code",
   "execution_count": 225,
   "metadata": {},
   "outputs": [
    {
     "data": {
      "application/vnd.plotly.v1+json": {
       "config": {
        "plotlyServerURL": "https://plot.ly"
       },
       "data": [
        {
         "alignmentgroup": "True",
         "hovertemplate": "Column=%{x}<br>R-squared=%{y}<extra></extra>",
         "legendgroup": "",
         "marker": {
          "color": "#636efa",
          "pattern": {
           "shape": ""
          }
         },
         "name": "",
         "offsetgroup": "",
         "orientation": "v",
         "showlegend": false,
         "textposition": "auto",
         "type": "bar",
         "x": [
          "price",
          "model",
          "logprice",
          "screen_tech",
          "storage",
          "cpu",
          "induction",
          "ram",
          "upgrade_storage",
          "brand",
          "screen_type",
          "diagonal_pixels",
          "network",
          "made_in",
          "das_head",
          "cam_2",
          "das_limbs",
          "color",
          "cam_3",
          "ppi",
          "battery",
          "screen_size",
          "mpx_backward_cam",
          "das_chest",
          "sensor",
          "net_weight",
          "os",
          "width",
          "fast_charging",
          "stars",
          "thickness",
          "cam_1",
          "repairability_index",
          "height",
          "random_col",
          "reviews",
          "usb_type_c"
         ],
         "xaxis": "x",
         "y": [
          1,
          0.9660226298239412,
          0.8676737773913177,
          0.6116073596545373,
          0.492151181214286,
          0.47083301899388863,
          0.4330686380079418,
          0.4033317072355408,
          0.3832869065713873,
          0.3632139937752292,
          0.32363079507990133,
          0.30975614721257516,
          0.2888764442838154,
          0.2120176753847859,
          0.1643843498592803,
          0.15432524850861828,
          0.15173585219621544,
          0.1509798966747229,
          0.14892261963101372,
          0.14085491317309773,
          0.09444545592514919,
          0.09087265095242603,
          0.06733404580445157,
          0.055608335547525645,
          0.052734021720223345,
          0.050930434529576685,
          0.05064253304549071,
          0.036932982723212215,
          0.028127782057019712,
          0.024340466098009328,
          0.011829904418863557,
          0.011660315862769388,
          0.005413077669721433,
          0.0037234556933652962,
          0.000983543156722888,
          0.0004850758848742309,
          0.0003531947839420235
         ],
         "yaxis": "y"
        }
       ],
       "layout": {
        "barmode": "relative",
        "legend": {
         "tracegroupgap": 0
        },
        "template": {
         "data": {
          "bar": [
           {
            "error_x": {
             "color": "#2a3f5f"
            },
            "error_y": {
             "color": "#2a3f5f"
            },
            "marker": {
             "line": {
              "color": "#E5ECF6",
              "width": 0.5
             },
             "pattern": {
              "fillmode": "overlay",
              "size": 10,
              "solidity": 0.2
             }
            },
            "type": "bar"
           }
          ],
          "barpolar": [
           {
            "marker": {
             "line": {
              "color": "#E5ECF6",
              "width": 0.5
             },
             "pattern": {
              "fillmode": "overlay",
              "size": 10,
              "solidity": 0.2
             }
            },
            "type": "barpolar"
           }
          ],
          "carpet": [
           {
            "aaxis": {
             "endlinecolor": "#2a3f5f",
             "gridcolor": "white",
             "linecolor": "white",
             "minorgridcolor": "white",
             "startlinecolor": "#2a3f5f"
            },
            "baxis": {
             "endlinecolor": "#2a3f5f",
             "gridcolor": "white",
             "linecolor": "white",
             "minorgridcolor": "white",
             "startlinecolor": "#2a3f5f"
            },
            "type": "carpet"
           }
          ],
          "choropleth": [
           {
            "colorbar": {
             "outlinewidth": 0,
             "ticks": ""
            },
            "type": "choropleth"
           }
          ],
          "contour": [
           {
            "colorbar": {
             "outlinewidth": 0,
             "ticks": ""
            },
            "colorscale": [
             [
              0,
              "#0d0887"
             ],
             [
              0.1111111111111111,
              "#46039f"
             ],
             [
              0.2222222222222222,
              "#7201a8"
             ],
             [
              0.3333333333333333,
              "#9c179e"
             ],
             [
              0.4444444444444444,
              "#bd3786"
             ],
             [
              0.5555555555555556,
              "#d8576b"
             ],
             [
              0.6666666666666666,
              "#ed7953"
             ],
             [
              0.7777777777777778,
              "#fb9f3a"
             ],
             [
              0.8888888888888888,
              "#fdca26"
             ],
             [
              1,
              "#f0f921"
             ]
            ],
            "type": "contour"
           }
          ],
          "contourcarpet": [
           {
            "colorbar": {
             "outlinewidth": 0,
             "ticks": ""
            },
            "type": "contourcarpet"
           }
          ],
          "heatmap": [
           {
            "colorbar": {
             "outlinewidth": 0,
             "ticks": ""
            },
            "colorscale": [
             [
              0,
              "#0d0887"
             ],
             [
              0.1111111111111111,
              "#46039f"
             ],
             [
              0.2222222222222222,
              "#7201a8"
             ],
             [
              0.3333333333333333,
              "#9c179e"
             ],
             [
              0.4444444444444444,
              "#bd3786"
             ],
             [
              0.5555555555555556,
              "#d8576b"
             ],
             [
              0.6666666666666666,
              "#ed7953"
             ],
             [
              0.7777777777777778,
              "#fb9f3a"
             ],
             [
              0.8888888888888888,
              "#fdca26"
             ],
             [
              1,
              "#f0f921"
             ]
            ],
            "type": "heatmap"
           }
          ],
          "heatmapgl": [
           {
            "colorbar": {
             "outlinewidth": 0,
             "ticks": ""
            },
            "colorscale": [
             [
              0,
              "#0d0887"
             ],
             [
              0.1111111111111111,
              "#46039f"
             ],
             [
              0.2222222222222222,
              "#7201a8"
             ],
             [
              0.3333333333333333,
              "#9c179e"
             ],
             [
              0.4444444444444444,
              "#bd3786"
             ],
             [
              0.5555555555555556,
              "#d8576b"
             ],
             [
              0.6666666666666666,
              "#ed7953"
             ],
             [
              0.7777777777777778,
              "#fb9f3a"
             ],
             [
              0.8888888888888888,
              "#fdca26"
             ],
             [
              1,
              "#f0f921"
             ]
            ],
            "type": "heatmapgl"
           }
          ],
          "histogram": [
           {
            "marker": {
             "pattern": {
              "fillmode": "overlay",
              "size": 10,
              "solidity": 0.2
             }
            },
            "type": "histogram"
           }
          ],
          "histogram2d": [
           {
            "colorbar": {
             "outlinewidth": 0,
             "ticks": ""
            },
            "colorscale": [
             [
              0,
              "#0d0887"
             ],
             [
              0.1111111111111111,
              "#46039f"
             ],
             [
              0.2222222222222222,
              "#7201a8"
             ],
             [
              0.3333333333333333,
              "#9c179e"
             ],
             [
              0.4444444444444444,
              "#bd3786"
             ],
             [
              0.5555555555555556,
              "#d8576b"
             ],
             [
              0.6666666666666666,
              "#ed7953"
             ],
             [
              0.7777777777777778,
              "#fb9f3a"
             ],
             [
              0.8888888888888888,
              "#fdca26"
             ],
             [
              1,
              "#f0f921"
             ]
            ],
            "type": "histogram2d"
           }
          ],
          "histogram2dcontour": [
           {
            "colorbar": {
             "outlinewidth": 0,
             "ticks": ""
            },
            "colorscale": [
             [
              0,
              "#0d0887"
             ],
             [
              0.1111111111111111,
              "#46039f"
             ],
             [
              0.2222222222222222,
              "#7201a8"
             ],
             [
              0.3333333333333333,
              "#9c179e"
             ],
             [
              0.4444444444444444,
              "#bd3786"
             ],
             [
              0.5555555555555556,
              "#d8576b"
             ],
             [
              0.6666666666666666,
              "#ed7953"
             ],
             [
              0.7777777777777778,
              "#fb9f3a"
             ],
             [
              0.8888888888888888,
              "#fdca26"
             ],
             [
              1,
              "#f0f921"
             ]
            ],
            "type": "histogram2dcontour"
           }
          ],
          "mesh3d": [
           {
            "colorbar": {
             "outlinewidth": 0,
             "ticks": ""
            },
            "type": "mesh3d"
           }
          ],
          "parcoords": [
           {
            "line": {
             "colorbar": {
              "outlinewidth": 0,
              "ticks": ""
             }
            },
            "type": "parcoords"
           }
          ],
          "pie": [
           {
            "automargin": true,
            "type": "pie"
           }
          ],
          "scatter": [
           {
            "fillpattern": {
             "fillmode": "overlay",
             "size": 10,
             "solidity": 0.2
            },
            "type": "scatter"
           }
          ],
          "scatter3d": [
           {
            "line": {
             "colorbar": {
              "outlinewidth": 0,
              "ticks": ""
             }
            },
            "marker": {
             "colorbar": {
              "outlinewidth": 0,
              "ticks": ""
             }
            },
            "type": "scatter3d"
           }
          ],
          "scattercarpet": [
           {
            "marker": {
             "colorbar": {
              "outlinewidth": 0,
              "ticks": ""
             }
            },
            "type": "scattercarpet"
           }
          ],
          "scattergeo": [
           {
            "marker": {
             "colorbar": {
              "outlinewidth": 0,
              "ticks": ""
             }
            },
            "type": "scattergeo"
           }
          ],
          "scattergl": [
           {
            "marker": {
             "colorbar": {
              "outlinewidth": 0,
              "ticks": ""
             }
            },
            "type": "scattergl"
           }
          ],
          "scattermapbox": [
           {
            "marker": {
             "colorbar": {
              "outlinewidth": 0,
              "ticks": ""
             }
            },
            "type": "scattermapbox"
           }
          ],
          "scatterpolar": [
           {
            "marker": {
             "colorbar": {
              "outlinewidth": 0,
              "ticks": ""
             }
            },
            "type": "scatterpolar"
           }
          ],
          "scatterpolargl": [
           {
            "marker": {
             "colorbar": {
              "outlinewidth": 0,
              "ticks": ""
             }
            },
            "type": "scatterpolargl"
           }
          ],
          "scatterternary": [
           {
            "marker": {
             "colorbar": {
              "outlinewidth": 0,
              "ticks": ""
             }
            },
            "type": "scatterternary"
           }
          ],
          "surface": [
           {
            "colorbar": {
             "outlinewidth": 0,
             "ticks": ""
            },
            "colorscale": [
             [
              0,
              "#0d0887"
             ],
             [
              0.1111111111111111,
              "#46039f"
             ],
             [
              0.2222222222222222,
              "#7201a8"
             ],
             [
              0.3333333333333333,
              "#9c179e"
             ],
             [
              0.4444444444444444,
              "#bd3786"
             ],
             [
              0.5555555555555556,
              "#d8576b"
             ],
             [
              0.6666666666666666,
              "#ed7953"
             ],
             [
              0.7777777777777778,
              "#fb9f3a"
             ],
             [
              0.8888888888888888,
              "#fdca26"
             ],
             [
              1,
              "#f0f921"
             ]
            ],
            "type": "surface"
           }
          ],
          "table": [
           {
            "cells": {
             "fill": {
              "color": "#EBF0F8"
             },
             "line": {
              "color": "white"
             }
            },
            "header": {
             "fill": {
              "color": "#C8D4E3"
             },
             "line": {
              "color": "white"
             }
            },
            "type": "table"
           }
          ]
         },
         "layout": {
          "annotationdefaults": {
           "arrowcolor": "#2a3f5f",
           "arrowhead": 0,
           "arrowwidth": 1
          },
          "autotypenumbers": "strict",
          "coloraxis": {
           "colorbar": {
            "outlinewidth": 0,
            "ticks": ""
           }
          },
          "colorscale": {
           "diverging": [
            [
             0,
             "#8e0152"
            ],
            [
             0.1,
             "#c51b7d"
            ],
            [
             0.2,
             "#de77ae"
            ],
            [
             0.3,
             "#f1b6da"
            ],
            [
             0.4,
             "#fde0ef"
            ],
            [
             0.5,
             "#f7f7f7"
            ],
            [
             0.6,
             "#e6f5d0"
            ],
            [
             0.7,
             "#b8e186"
            ],
            [
             0.8,
             "#7fbc41"
            ],
            [
             0.9,
             "#4d9221"
            ],
            [
             1,
             "#276419"
            ]
           ],
           "sequential": [
            [
             0,
             "#0d0887"
            ],
            [
             0.1111111111111111,
             "#46039f"
            ],
            [
             0.2222222222222222,
             "#7201a8"
            ],
            [
             0.3333333333333333,
             "#9c179e"
            ],
            [
             0.4444444444444444,
             "#bd3786"
            ],
            [
             0.5555555555555556,
             "#d8576b"
            ],
            [
             0.6666666666666666,
             "#ed7953"
            ],
            [
             0.7777777777777778,
             "#fb9f3a"
            ],
            [
             0.8888888888888888,
             "#fdca26"
            ],
            [
             1,
             "#f0f921"
            ]
           ],
           "sequentialminus": [
            [
             0,
             "#0d0887"
            ],
            [
             0.1111111111111111,
             "#46039f"
            ],
            [
             0.2222222222222222,
             "#7201a8"
            ],
            [
             0.3333333333333333,
             "#9c179e"
            ],
            [
             0.4444444444444444,
             "#bd3786"
            ],
            [
             0.5555555555555556,
             "#d8576b"
            ],
            [
             0.6666666666666666,
             "#ed7953"
            ],
            [
             0.7777777777777778,
             "#fb9f3a"
            ],
            [
             0.8888888888888888,
             "#fdca26"
            ],
            [
             1,
             "#f0f921"
            ]
           ]
          },
          "colorway": [
           "#636efa",
           "#EF553B",
           "#00cc96",
           "#ab63fa",
           "#FFA15A",
           "#19d3f3",
           "#FF6692",
           "#B6E880",
           "#FF97FF",
           "#FECB52"
          ],
          "font": {
           "color": "#2a3f5f"
          },
          "geo": {
           "bgcolor": "white",
           "lakecolor": "white",
           "landcolor": "#E5ECF6",
           "showlakes": true,
           "showland": true,
           "subunitcolor": "white"
          },
          "hoverlabel": {
           "align": "left"
          },
          "hovermode": "closest",
          "mapbox": {
           "style": "light"
          },
          "paper_bgcolor": "white",
          "plot_bgcolor": "#E5ECF6",
          "polar": {
           "angularaxis": {
            "gridcolor": "white",
            "linecolor": "white",
            "ticks": ""
           },
           "bgcolor": "#E5ECF6",
           "radialaxis": {
            "gridcolor": "white",
            "linecolor": "white",
            "ticks": ""
           }
          },
          "scene": {
           "xaxis": {
            "backgroundcolor": "#E5ECF6",
            "gridcolor": "white",
            "gridwidth": 2,
            "linecolor": "white",
            "showbackground": true,
            "ticks": "",
            "zerolinecolor": "white"
           },
           "yaxis": {
            "backgroundcolor": "#E5ECF6",
            "gridcolor": "white",
            "gridwidth": 2,
            "linecolor": "white",
            "showbackground": true,
            "ticks": "",
            "zerolinecolor": "white"
           },
           "zaxis": {
            "backgroundcolor": "#E5ECF6",
            "gridcolor": "white",
            "gridwidth": 2,
            "linecolor": "white",
            "showbackground": true,
            "ticks": "",
            "zerolinecolor": "white"
           }
          },
          "shapedefaults": {
           "line": {
            "color": "#2a3f5f"
           }
          },
          "ternary": {
           "aaxis": {
            "gridcolor": "white",
            "linecolor": "white",
            "ticks": ""
           },
           "baxis": {
            "gridcolor": "white",
            "linecolor": "white",
            "ticks": ""
           },
           "bgcolor": "#E5ECF6",
           "caxis": {
            "gridcolor": "white",
            "linecolor": "white",
            "ticks": ""
           }
          },
          "title": {
           "x": 0.05
          },
          "xaxis": {
           "automargin": true,
           "gridcolor": "white",
           "linecolor": "white",
           "ticks": "",
           "title": {
            "standoff": 15
           },
           "zerolinecolor": "white",
           "zerolinewidth": 2
          },
          "yaxis": {
           "automargin": true,
           "gridcolor": "white",
           "linecolor": "white",
           "ticks": "",
           "title": {
            "standoff": 15
           },
           "zerolinecolor": "white",
           "zerolinewidth": 2
          }
         }
        },
        "title": {
         "text": "Feature Importance (R-squared)"
        },
        "xaxis": {
         "anchor": "y",
         "domain": [
          0,
          1
         ],
         "title": {
          "text": "Feature"
         }
        },
        "yaxis": {
         "anchor": "x",
         "domain": [
          0,
          1
         ],
         "title": {
          "text": "R-squared"
         }
        }
       }
      }
     },
     "metadata": {},
     "output_type": "display_data"
    }
   ],
   "source": [
    "fig = px.bar(df_features, x='Column', y='R-squared', title='Feature Importance (R-squared)')\n",
    "fig.update_xaxes(title_text='Feature')\n",
    "fig.update_yaxes(title_text='R-squared')\n",
    "fig.show()"
   ]
  },
  {
   "cell_type": "code",
   "execution_count": null,
   "metadata": {},
   "outputs": [],
   "source": [
    "def predict_phone_price(df: pl.DataFrame, f: Formula, storage: float, ram: float):\n",
    "    res = execute_ols(df, f)\n",
    "    params = dict(res.params)\n",
    "    prediction = params[\"Intercept\"] + params[\"storage\"]*storage + params[\"ram\"]*ram\n",
    "    return prediction"
   ]
  },
  {
   "cell_type": "code",
   "execution_count": null,
   "metadata": {},
   "outputs": [
    {
     "data": {
      "text/plain": [
       "143.2669566783436"
      ]
     },
     "execution_count": 180,
     "metadata": {},
     "output_type": "execute_result"
    }
   ],
   "source": [
    "predict_phone_price(df, f, 32, 1)"
   ]
  },
  {
   "cell_type": "code",
   "execution_count": null,
   "metadata": {},
   "outputs": [],
   "source": [
    "ols_model = smf.ols(\n",
    "    formula=f\"{y}~{X2}\",\n",
    "    data=df,\n",
    ")"
   ]
  },
  {
   "cell_type": "code",
   "execution_count": null,
   "metadata": {},
   "outputs": [],
   "source": [
    "res = ols_model.fit()"
   ]
  },
  {
   "cell_type": "code",
   "execution_count": null,
   "metadata": {},
   "outputs": [
    {
     "data": {
      "text/plain": [
       "{'Intercept': 1071.5195276459249,\n",
       " 'storage': 1.1958931708843838,\n",
       " 'ram': 53.85417103504183,\n",
       " 'battery': -0.23112324797420558}"
      ]
     },
     "execution_count": 150,
     "metadata": {},
     "output_type": "execute_result"
    }
   ],
   "source": [
    "dict(res.params)"
   ]
  },
  {
   "cell_type": "code",
   "execution_count": null,
   "metadata": {},
   "outputs": [],
   "source": [
    "real_price = df.select(\"price\").to_numpy()"
   ]
  },
  {
   "cell_type": "code",
   "execution_count": null,
   "metadata": {},
   "outputs": [],
   "source": [
    "price_predict = res.predict()"
   ]
  },
  {
   "cell_type": "code",
   "execution_count": null,
   "metadata": {},
   "outputs": [],
   "source": [
    "# res2 = res.get_robustcov_results(cov_type='HC1')\n",
    "# robuste std errors"
   ]
  },
  {
   "cell_type": "code",
   "execution_count": 66,
   "metadata": {},
   "outputs": [
    {
     "data": {
      "text/html": [
       "<table style=\"text-align:center\"><tr><td colspan=\"2\" style=\"border-bottom: 1px solid black\"></td></tr>\n",
       "<tr><td style=\"text-align:left\"></td><td colspan=\"1\"><em>Dependent variable: price</em></td></tr><tr><td style=\"text-align:left\"></td><tr><td style=\"text-align:left\"></td><td>(1)</td></tr>\n",
       "<tr><td colspan=\"2\" style=\"border-bottom: 1px solid black\"></td></tr>\n",
       "\n",
       "<tr><td style=\"text-align:left\">Intercept</td><td>-751.606<sup>***</sup></td></tr>\n",
       "<tr><td style=\"text-align:left\"></td><td>(142.553)</td></tr>\n",
       "<tr><td style=\"text-align:left\">brand[T.ASUS]</td><td>-146.214<sup>**</sup></td></tr>\n",
       "<tr><td style=\"text-align:left\"></td><td>(71.250)</td></tr>\n",
       "<tr><td style=\"text-align:left\">brand[T.FAIRPHONE]</td><td>-173.723<sup>*</sup></td></tr>\n",
       "<tr><td style=\"text-align:left\"></td><td>(96.570)</td></tr>\n",
       "<tr><td style=\"text-align:left\">brand[T.GOOGLE]</td><td>-250.027<sup>***</sup></td></tr>\n",
       "<tr><td style=\"text-align:left\"></td><td>(62.498)</td></tr>\n",
       "<tr><td style=\"text-align:left\">brand[T.HONOR]</td><td>-465.571<sup>***</sup></td></tr>\n",
       "<tr><td style=\"text-align:left\"></td><td>(65.931)</td></tr>\n",
       "<tr><td style=\"text-align:left\">brand[T.MOTOROLA]</td><td>-476.449<sup>***</sup></td></tr>\n",
       "<tr><td style=\"text-align:left\"></td><td>(49.277)</td></tr>\n",
       "<tr><td style=\"text-align:left\">brand[T.NOTHING]</td><td>-577.413<sup>***</sup></td></tr>\n",
       "<tr><td style=\"text-align:left\"></td><td>(69.496)</td></tr>\n",
       "<tr><td style=\"text-align:left\">brand[T.ONEPLUS]</td><td>-422.635<sup>***</sup></td></tr>\n",
       "<tr><td style=\"text-align:left\"></td><td>(70.387)</td></tr>\n",
       "<tr><td style=\"text-align:left\">brand[T.OPPO]</td><td>-351.686<sup>***</sup></td></tr>\n",
       "<tr><td style=\"text-align:left\"></td><td>(55.343)</td></tr>\n",
       "<tr><td style=\"text-align:left\">brand[T.REALME]</td><td>-364.761<sup>***</sup></td></tr>\n",
       "<tr><td style=\"text-align:left\"></td><td>(57.311)</td></tr>\n",
       "<tr><td style=\"text-align:left\">brand[T.SAMSUNG]</td><td>-214.676<sup>***</sup></td></tr>\n",
       "<tr><td style=\"text-align:left\"></td><td>(55.888)</td></tr>\n",
       "<tr><td style=\"text-align:left\">brand[T.SONY]</td><td>-239.051<sup>***</sup></td></tr>\n",
       "<tr><td style=\"text-align:left\"></td><td>(78.923)</td></tr>\n",
       "<tr><td style=\"text-align:left\">brand[T.VIVO]</td><td>-328.611<sup>***</sup></td></tr>\n",
       "<tr><td style=\"text-align:left\"></td><td>(62.484)</td></tr>\n",
       "<tr><td style=\"text-align:left\">brand[T.XIAOMI]</td><td>-326.006<sup>***</sup></td></tr>\n",
       "<tr><td style=\"text-align:left\"></td><td>(47.694)</td></tr>\n",
       "<tr><td style=\"text-align:left\">das_limbs</td><td>67.445<sup>***</sup></td></tr>\n",
       "<tr><td style=\"text-align:left\"></td><td>(19.536)</td></tr>\n",
       "<tr><td style=\"text-align:left\">diagonal_pixels</td><td>0.049<sup>**</sup></td></tr>\n",
       "<tr><td style=\"text-align:left\"></td><td>(0.024)</td></tr>\n",
       "<tr><td style=\"text-align:left\">induction[T.True]</td><td>259.520<sup>***</sup></td></tr>\n",
       "<tr><td style=\"text-align:left\"></td><td>(27.371)</td></tr>\n",
       "<tr><td style=\"text-align:left\">made_in[T.Inde]</td><td>-57.888<sup></sup></td></tr>\n",
       "<tr><td style=\"text-align:left\"></td><td>(155.003)</td></tr>\n",
       "<tr><td style=\"text-align:left\">made_in[T.Japon]</td><td>263.630<sup>**</sup></td></tr>\n",
       "<tr><td style=\"text-align:left\"></td><td>(127.239)</td></tr>\n",
       "<tr><td style=\"text-align:left\">made_in[T.Taïwan]</td><td>206.093<sup></sup></td></tr>\n",
       "<tr><td style=\"text-align:left\"></td><td>(158.676)</td></tr>\n",
       "<tr><td style=\"text-align:left\">made_in[T.Thaïlande]</td><td>468.409<sup>***</sup></td></tr>\n",
       "<tr><td style=\"text-align:left\"></td><td>(87.686)</td></tr>\n",
       "<tr><td style=\"text-align:left\">made_in[T.Viêt Nam]</td><td>-24.357<sup></sup></td></tr>\n",
       "<tr><td style=\"text-align:left\"></td><td>(42.420)</td></tr>\n",
       "<tr><td style=\"text-align:left\">network[T.5G]</td><td>38.018<sup></sup></td></tr>\n",
       "<tr><td style=\"text-align:left\"></td><td>(23.666)</td></tr>\n",
       "<tr><td style=\"text-align:left\">ram</td><td>36.603<sup>***</sup></td></tr>\n",
       "<tr><td style=\"text-align:left\"></td><td>(4.948)</td></tr>\n",
       "<tr><td style=\"text-align:left\">screen_size</td><td>128.321<sup>***</sup></td></tr>\n",
       "<tr><td style=\"text-align:left\"></td><td>(20.208)</td></tr>\n",
       "<tr><td style=\"text-align:left\">screen_type[T.Bords incurvés]</td><td>-127.616<sup>*</sup></td></tr>\n",
       "<tr><td style=\"text-align:left\"></td><td>(66.150)</td></tr>\n",
       "<tr><td style=\"text-align:left\">screen_type[T.Plat]</td><td>-60.230<sup>**</sup></td></tr>\n",
       "<tr><td style=\"text-align:left\"></td><td>(27.635)</td></tr>\n",
       "<tr><td style=\"text-align:left\">screen_type[T.Pliable]</td><td>348.942<sup>***</sup></td></tr>\n",
       "<tr><td style=\"text-align:left\"></td><td>(43.931)</td></tr>\n",
       "<tr><td style=\"text-align:left\">storage</td><td>0.652<sup>***</sup></td></tr>\n",
       "<tr><td style=\"text-align:left\"></td><td>(0.069)</td></tr>\n",
       "\n",
       "<td colspan=\"2\" style=\"border-bottom: 1px solid black\"></td></tr>\n",
       "<tr><td style=\"text-align: left\">Observations</td><td>430</td></tr><tr><td style=\"text-align: left\">R<sup>2</sup></td><td>0.897</td></tr><tr><td style=\"text-align: left\">Adjusted R<sup>2</sup></td><td>0.890</td></tr><tr><td style=\"text-align: left\">Residual Std. Error</td><td>150.243 (df=401)</td></tr><tr><td style=\"text-align: left\">F Statistic</td><td>125.185<sup>***</sup> (df=28; 401)</td></tr>\n",
       "<tr><td colspan=\"2\" style=\"border-bottom: 1px solid black\"></td></tr><tr><td style=\"text-align: left\">Note:</td><td colspan=\"1\" style=\"text-align: right\"><sup>*</sup>p&lt;0.1; <sup>**</sup>p&lt;0.05; <sup>***</sup>p&lt;0.01</td></tr></table>"
      ],
      "text/plain": [
       "<stargazer.stargazer.Stargazer at 0x1a6fda589a0>"
      ]
     },
     "execution_count": 66,
     "metadata": {},
     "output_type": "execute_result"
    }
   ],
   "source": [
    "Stargazer([res])"
   ]
  },
  {
   "cell_type": "markdown",
   "metadata": {},
   "source": [
    "- fuzzy match à mettre en place ici (pour la technologie de l'écran) ?\n",
    "- ajouter une feature complètement random (pour la partie Machine Learning) puis regarder l'importance des variables : si les variables sont moins importantes que la random, alors on les dégage"
   ]
  },
  {
   "cell_type": "code",
   "execution_count": null,
   "metadata": {},
   "outputs": [
    {
     "data": {
      "text/html": [
       "<div><style>\n",
       ".dataframe > thead > tr > th,\n",
       ".dataframe > tbody > tr > td {\n",
       "  text-align: right;\n",
       "  white-space: pre-wrap;\n",
       "}\n",
       "</style>\n",
       "<small>shape: (14, 2)</small><table border=\"1\" class=\"dataframe\"><thead><tr><th>brand</th><th>count</th></tr><tr><td>str</td><td>u32</td></tr></thead><tbody><tr><td>&quot;FAIRPHONE&quot;</td><td>3</td></tr><tr><td>&quot;ONEPLUS&quot;</td><td>7</td></tr><tr><td>&quot;NOTHING&quot;</td><td>7</td></tr><tr><td>&quot;VIVO&quot;</td><td>9</td></tr><tr><td>&quot;ASUS&quot;</td><td>12</td></tr><tr><td>&quot;REALME&quot;</td><td>14</td></tr><tr><td>&quot;HONOR&quot;</td><td>14</td></tr><tr><td>&quot;SONY&quot;</td><td>15</td></tr><tr><td>&quot;OPPO&quot;</td><td>18</td></tr><tr><td>&quot;GOOGLE&quot;</td><td>25</td></tr><tr><td>&quot;MOTOROLA&quot;</td><td>32</td></tr><tr><td>&quot;APPLE&quot;</td><td>46</td></tr><tr><td>&quot;XIAOMI&quot;</td><td>105</td></tr><tr><td>&quot;SAMSUNG&quot;</td><td>129</td></tr></tbody></table></div>"
      ],
      "text/plain": [
       "shape: (14, 2)\n",
       "┌───────────┬───────┐\n",
       "│ brand     ┆ count │\n",
       "│ ---       ┆ ---   │\n",
       "│ str       ┆ u32   │\n",
       "╞═══════════╪═══════╡\n",
       "│ FAIRPHONE ┆ 3     │\n",
       "│ ONEPLUS   ┆ 7     │\n",
       "│ NOTHING   ┆ 7     │\n",
       "│ VIVO      ┆ 9     │\n",
       "│ …         ┆ …     │\n",
       "│ MOTOROLA  ┆ 32    │\n",
       "│ APPLE     ┆ 46    │\n",
       "│ XIAOMI    ┆ 105   │\n",
       "│ SAMSUNG   ┆ 129   │\n",
       "└───────────┴───────┘"
      ]
     },
     "execution_count": 15,
     "metadata": {},
     "output_type": "execute_result"
    }
   ],
   "source": [
    "df.group_by(\"brand\").count().sort(\"count\")"
   ]
  },
  {
   "cell_type": "code",
   "execution_count": null,
   "metadata": {},
   "outputs": [
    {
     "data": {
      "text/html": [
       "<div><style>\n",
       ".dataframe > thead > tr > th,\n",
       ".dataframe > tbody > tr > td {\n",
       "  text-align: right;\n",
       "  white-space: pre-wrap;\n",
       "}\n",
       "</style>\n",
       "<small>shape: (6, 2)</small><table border=\"1\" class=\"dataframe\"><thead><tr><th>storage</th><th>price</th></tr><tr><td>i64</td><td>f64</td></tr></thead><tbody><tr><td>32</td><td>116.647407</td></tr><tr><td>64</td><td>213.197037</td></tr><tr><td>128</td><td>496.864041</td></tr><tr><td>256</td><td>872.482936</td></tr><tr><td>512</td><td>1214.744324</td></tr><tr><td>1000</td><td>1752.29375</td></tr></tbody></table></div>"
      ],
      "text/plain": [
       "shape: (6, 2)\n",
       "┌─────────┬─────────────┐\n",
       "│ storage ┆ price       │\n",
       "│ ---     ┆ ---         │\n",
       "│ i64     ┆ f64         │\n",
       "╞═════════╪═════════════╡\n",
       "│ 32      ┆ 116.647407  │\n",
       "│ 64      ┆ 213.197037  │\n",
       "│ 128     ┆ 496.864041  │\n",
       "│ 256     ┆ 872.482936  │\n",
       "│ 512     ┆ 1214.744324 │\n",
       "│ 1000    ┆ 1752.29375  │\n",
       "└─────────┴─────────────┘"
      ]
     },
     "execution_count": 70,
     "metadata": {},
     "output_type": "execute_result"
    }
   ],
   "source": [
    "df.select(\"price\", \"storage\").group_by(\"storage\").mean().sort(\"price\")"
   ]
  },
  {
   "cell_type": "code",
   "execution_count": null,
   "metadata": {},
   "outputs": [
    {
     "data": {
      "text/html": [
       "<div><style>\n",
       ".dataframe > thead > tr > th,\n",
       ".dataframe > tbody > tr > td {\n",
       "  text-align: right;\n",
       "  white-space: pre-wrap;\n",
       "}\n",
       "</style>\n",
       "<small>shape: (7, 2)</small><table border=\"1\" class=\"dataframe\"><thead><tr><th>ram</th><th>price</th></tr><tr><td>str</td><td>f64</td></tr></thead><tbody><tr><td>&quot;2 Go&quot;</td><td>110.109048</td></tr><tr><td>&quot;3 Go&quot;</td><td>158.240588</td></tr><tr><td>&quot;4 Go&quot;</td><td>413.402542</td></tr><tr><td>&quot;6 Go&quot;</td><td>462.522203</td></tr><tr><td>&quot;8 Go&quot;</td><td>686.67741</td></tr><tr><td>&quot;16 Go&quot;</td><td>1106.142857</td></tr><tr><td>&quot;12 Go&quot;</td><td>1144.023733</td></tr></tbody></table></div>"
      ],
      "text/plain": [
       "shape: (7, 2)\n",
       "┌───────┬─────────────┐\n",
       "│ ram   ┆ price       │\n",
       "│ ---   ┆ ---         │\n",
       "│ str   ┆ f64         │\n",
       "╞═══════╪═════════════╡\n",
       "│ 2 Go  ┆ 110.109048  │\n",
       "│ 3 Go  ┆ 158.240588  │\n",
       "│ 4 Go  ┆ 413.402542  │\n",
       "│ 6 Go  ┆ 462.522203  │\n",
       "│ 8 Go  ┆ 686.67741   │\n",
       "│ 16 Go ┆ 1106.142857 │\n",
       "│ 12 Go ┆ 1144.023733 │\n",
       "└───────┴─────────────┘"
      ]
     },
     "execution_count": 7,
     "metadata": {},
     "output_type": "execute_result"
    }
   ],
   "source": [
    "df.select(\"price\", \"ram\").group_by(\"ram\").mean().sort(\"price\")"
   ]
  },
  {
   "cell_type": "code",
   "execution_count": null,
   "metadata": {},
   "outputs": [
    {
     "data": {
      "text/html": [
       "<div><style>\n",
       ".dataframe > thead > tr > th,\n",
       ".dataframe > tbody > tr > td {\n",
       "  text-align: right;\n",
       "  white-space: pre-wrap;\n",
       "}\n",
       "</style>\n",
       "<small>shape: (4, 2)</small><table border=\"1\" class=\"dataframe\"><thead><tr><th>screen_type</th><th>price</th></tr><tr><td>str</td><td>f64</td></tr></thead><tbody><tr><td>&quot;Plat&quot;</td><td>575.627179</td></tr><tr><td>&quot;Pliable&quot;</td><td>1436.472778</td></tr><tr><td>&quot;Bords incurvés…</td><td>654.381111</td></tr><tr><td>&quot;Borderless&quot;</td><td>386.24338</td></tr></tbody></table></div>"
      ],
      "text/plain": [
       "shape: (4, 2)\n",
       "┌────────────────┬─────────────┐\n",
       "│ screen_type    ┆ price       │\n",
       "│ ---            ┆ ---         │\n",
       "│ str            ┆ f64         │\n",
       "╞════════════════╪═════════════╡\n",
       "│ Plat           ┆ 575.627179  │\n",
       "│ Pliable        ┆ 1436.472778 │\n",
       "│ Bords incurvés ┆ 654.381111  │\n",
       "│ Borderless     ┆ 386.24338   │\n",
       "└────────────────┴─────────────┘"
      ]
     },
     "execution_count": 71,
     "metadata": {},
     "output_type": "execute_result"
    }
   ],
   "source": [
    "df.select(\"price\", \"screen_type\").group_by(\"screen_type\").mean()"
   ]
  },
  {
   "cell_type": "code",
   "execution_count": null,
   "metadata": {},
   "outputs": [
    {
     "data": {
      "application/vnd.plotly.v1+json": {
       "config": {
        "plotlyServerURL": "https://plot.ly"
       },
       "data": [
        {
         "alignmentgroup": "True",
         "bingroup": "x",
         "histnorm": "probability",
         "hovertemplate": "diagonal_pixels=%{x}<br>probability=%{y}<extra></extra>",
         "legendgroup": "",
         "marker": {
          "color": "#636efa",
          "pattern": {
           "shape": ""
          }
         },
         "name": "",
         "offsetgroup": "",
         "orientation": "v",
         "showlegend": false,
         "type": "histogram",
         "x": [
          2741.678318111007,
          2577.2077913897438,
          1754.5369759569046,
          2631.8054639353572,
          1754.5369759569046,
          2631.8054639353572,
          3436.2770551863246,
          2631.8054639353572,
          2631.8054639353572,
          3080.6362979098976,
          2631.8054639353572,
          3060.3823290562896,
          2789.251512502951,
          2577.2077913897438,
          3060.3823290562896,
          2631.8054639353572,
          2789.251512502951,
          2639.102877873464,
          2577.2077913897438,
          2577.2077913897438,
          2789.251512502951,
          3407.2487434879185,
          2789.251512502951,
          2642.7531099215453,
          2631.8054639353572,
          2631.8054639353572,
          2631.8054639353572,
          2631.8054639353572,
          2631.8054639353572,
          2631.8054639353572,
          2577.2077913897438,
          1754.5369759569046,
          1754.5369759569046,
          2675.650201352935,
          2577.2077913897438,
          1754.5369759569046,
          2631.8054639353572,
          2577.2077913897438,
          2577.2077913897438,
          2577.2077913897438,
          2631.8054639353572,
          2577.2077913897438,
          1754.5369759569046,
          1974.043565881969,
          3407.2487434879185,
          1754.5369759569046,
          2642.7531099215453,
          2831.6638218545645,
          2831.6638218545645,
          2631.8054639353572,
          2577.2077913897438,
          1754.5369759569046,
          2831.6638218545645,
          2814.8138481967153,
          2631.8054639353572,
          3523.670813228727,
          3060.3823290562896,
          3523.670813228727,
          2631.8054639353572,
          2577.2077913897438,
          2631.8054639353572,
          2620.867032109794,
          2631.8054639353572,
          3407.2487434879185,
          2831.6638218545645,
          2631.8054639353572,
          2828.619451251794,
          2631.8054639353572,
          1645.8432489152788,
          2631.8054639353572,
          2631.8054639353572,
          3407.2487434879185,
          2631.8054639353572,
          2789.251512502951,
          2631.8054639353572,
          2631.8054639353572,
          1754.5369759569046,
          2577.2077913897438,
          2631.8054639353572,
          2631.8054639353572,
          2631.8054639353572,
          2642.7531099215453,
          2639.102877873464,
          3407.2487434879185,
          2639.102877873464,
          1754.5369759569046,
          2789.251512502951,
          3407.2487434879185,
          1754.5369759569046,
          2631.8054639353572,
          1800.2499826412998,
          2852.367437761131,
          3407.2487434879185,
          2631.8054639353572,
          2831.6638218545645,
          2789.251512502951,
          2631.8054639353572,
          3135.673452386265,
          1645.8432489152788,
          2631.8054639353572,
          2741.678318111007,
          2789.251512502951,
          2577.2077913897438,
          1754.5369759569046,
          1754.5369759569046,
          2631.8054639353572,
          2631.8054639353572,
          2631.8054639353572,
          2639.102877873464,
          2642.7531099215453,
          1800.2499826412998,
          2675.650201352935,
          2921.7967075072147,
          3080.6362979098976,
          2631.8054639353572,
          1754.5369759569046,
          2741.678318111007,
          1754.5369759569046,
          3080.6362979098976,
          3407.2487434879185,
          2973.7760507476014,
          2492.1709411675597,
          3080.6362979098976,
          2631.8054639353572,
          2631.8054639353572,
          1754.5369759569046,
          2631.8054639353572,
          1974.043565881969,
          2631.8054639353572,
          1754.5369759569046,
          2675.650201352935,
          1754.5369759569046,
          2852.367437761131,
          2789.251512502951,
          2631.8054639353572,
          1754.5369759569046,
          2675.650201352935,
          2852.367437761131,
          2789.251512502951,
          2631.8054639353572,
          2577.2077913897438,
          3523.670813228727,
          2577.2077913897438,
          1754.5369759569046,
          3523.670813228727,
          2639.102877873464,
          2789.251512502951,
          2631.8054639353572,
          2789.251512502951,
          2831.6638218545645,
          2639.102877873464,
          2631.8054639353572,
          2577.2077913897438,
          2631.8054639353572,
          2631.8054639353572,
          2642.7531099215453,
          2828.619451251794,
          3407.2487434879185,
          1754.5369759569046,
          2814.8138481967153,
          2966.1395786442686,
          2631.8054639353572,
          2577.2077913897438,
          2631.8054639353572,
          2631.8054639353572,
          1754.5369759569046,
          2492.1709411675597,
          3523.670813228727,
          2789.251512502951,
          2631.8054639353572,
          2631.8054639353572,
          2631.8054639353572,
          3060.3823290562896,
          2921.7967075072147,
          1754.5369759569046,
          1754.5369759569046,
          2631.8054639353572,
          4405.814340164597,
          2852.367437761131,
          3060.3823290562896,
          2639.102877873464,
          2631.8054639353572,
          2631.8054639353572,
          1754.5369759569046,
          2639.102877873464,
          2852.367437761131,
          2631.8054639353572,
          2631.8054639353572,
          2631.8054639353572,
          2631.8054639353572,
          2631.8054639353572,
          2639.102877873464,
          2848.66565254682,
          2831.6638218545645,
          1754.5369759569046,
          2631.8054639353572,
          1754.5369759569046,
          2631.8054639353572,
          2631.8054639353572,
          2631.8054639353572,
          2828.619451251794,
          2631.8054639353572,
          2577.2077913897438,
          2852.367437761131,
          2852.367437761131,
          2631.8054639353572,
          2631.8054639353572,
          2631.8054639353572,
          2577.2077913897438,
          3509.073951913809,
          2831.6638218545645,
          2639.102877873464,
          2631.8054639353572,
          2852.367437761131,
          3080.6362979098976,
          2631.8054639353572,
          2631.8054639353572,
          2631.8054639353572,
          2631.8054639353572,
          1974.043565881969,
          2620.867032109794,
          3060.3823290562896,
          2789.251512502951,
          2852.367437761131,
          3135.673452386265,
          2577.2077913897438,
          2631.8054639353572,
          2631.8054639353572,
          3509.073951913809,
          4405.814340164597,
          2577.2077913897438,
          1791.0890541790488,
          2631.8054639353572,
          2831.6638218545645,
          1754.5369759569046,
          2686.6335812685734,
          2639.102877873464,
          2973.7760507476014,
          4405.814340164597,
          2577.2077913897438,
          2828.619451251794,
          2577.2077913897438,
          2631.8054639353572,
          1754.5369759569046,
          2741.678318111007,
          1974.043565881969,
          2577.2077913897438,
          2631.8054639353572,
          2492.1709411675597,
          2631.8054639353572,
          2741.678318111007,
          2631.8054639353572,
          2631.8054639353572,
          1800.2499826412998,
          2631.8054639353572,
          3523.670813228727,
          1754.5369759569046,
          2631.8054639353572,
          1754.5369759569046,
          2973.7760507476014,
          2789.251512502951,
          2631.8054639353572,
          2631.8054639353572,
          2577.2077913897438,
          2577.2077913897438,
          2789.251512502951,
          3079.2395165040343,
          1791.0890541790488,
          1754.5369759569046,
          2741.678318111007,
          2639.102877873464,
          2492.1709411675597,
          2852.367437761131,
          2414.953415699773,
          2631.8054639353572,
          2631.8054639353572,
          2631.8054639353572,
          2831.6638218545645,
          2814.8138481967153,
          2631.8054639353572,
          2631.8054639353572,
          1754.5369759569046,
          2631.8054639353572,
          2631.8054639353572,
          2631.8054639353572,
          1800.2499826412998,
          1754.5369759569046,
          2631.8054639353572,
          2577.2077913897438,
          2631.8054639353572,
          2492.1709411675597,
          1800.2499826412998,
          2631.8054639353572,
          2631.8054639353572,
          2852.367437761131,
          2631.8054639353572,
          2852.367437761131,
          2577.2077913897438,
          1791.0890541790488,
          2639.102877873464,
          2577.2077913897438,
          2577.2077913897438,
          2852.367437761131,
          2631.8054639353572,
          3060.3823290562896,
          2577.2077913897438,
          2577.2077913897438,
          2577.2077913897438,
          2577.2077913897438,
          2577.2077913897438,
          2831.6638218545645,
          2789.251512502951,
          1754.5369759569046,
          2789.251512502951,
          2831.6638218545645,
          1754.5369759569046,
          2631.8054639353572,
          2631.8054639353572,
          3407.2487434879185,
          2631.8054639353572,
          2631.8054639353572,
          2577.2077913897438,
          2639.102877873464,
          2577.2077913897438,
          2620.867032109794,
          2789.251512502951,
          2631.8054639353572,
          2631.8054639353572,
          2789.251512502951,
          2852.367437761131,
          2831.6638218545645,
          2831.6638218545645,
          1754.5369759569046,
          2631.8054639353572,
          2631.8054639353572,
          3436.2770551863246,
          2631.8054639353572,
          2492.1709411675597,
          2631.8054639353572,
          2789.251512502951,
          2631.8054639353572,
          3060.3823290562896,
          2631.8054639353572,
          3060.3823290562896,
          1754.5369759569046,
          2631.8054639353572,
          2741.678318111007,
          3407.2487434879185,
          2631.8054639353572,
          2852.367437761131,
          2631.8054639353572,
          2852.367437761131,
          2831.6638218545645,
          2631.8054639353572,
          2631.8054639353572,
          2631.8054639353572,
          4405.814340164597,
          1754.5369759569046,
          3523.670813228727,
          2631.8054639353572,
          2639.102877873464,
          2631.8054639353572,
          1791.0890541790488,
          2631.8054639353572,
          2631.8054639353572,
          3407.2487434879185,
          2631.8054639353572,
          2577.2077913897438,
          1754.5369759569046,
          3436.2770551863246,
          2631.8054639353572,
          2852.367437761131,
          2631.8054639353572,
          2631.8054639353572,
          3080.6362979098976,
          2577.2077913897438,
          2631.8054639353572,
          4405.814340164597,
          1754.5369759569046,
          2675.650201352935,
          2852.367437761131,
          3060.3823290562896,
          2741.678318111007,
          2631.8054639353572,
          2639.102877873464,
          2973.7760507476014,
          2852.367437761131,
          2631.8054639353572,
          1800.2499826412998,
          1754.5369759569046,
          2921.7967075072147,
          1791.0890541790488,
          2631.8054639353572,
          4405.814340164597,
          4405.814340164597,
          2852.367437761131,
          3407.2487434879185,
          2631.8054639353572,
          2789.251512502951,
          1754.5369759569046,
          2631.8054639353572,
          1791.0890541790488,
          3060.3823290562896,
          2814.8138481967153,
          1530.3777311500583,
          2631.8054639353572,
          1800.2499826412998,
          2631.8054639353572,
          2631.8054639353572,
          1754.5369759569046,
          2631.8054639353572,
          2631.8054639353572,
          2631.8054639353572,
          2631.8054639353572,
          2631.8054639353572,
          2577.2077913897438,
          2577.2077913897438,
          1754.5369759569046,
          2631.8054639353572,
          3436.2770551863246,
          3070.439707924583,
          2631.8054639353572,
          2639.102877873464,
          1754.5369759569046,
          2631.8054639353572,
          2631.8054639353572,
          3509.073951913809,
          2789.251512502951,
          3363.807366660582,
          2631.8054639353572,
          3080.6362979098976,
          2631.8054639353572,
          2631.8054639353572,
          2639.102877873464,
          2631.8054639353572,
          2631.8054639353572
         ],
         "xaxis": "x",
         "yaxis": "y"
        }
       ],
       "layout": {
        "barmode": "relative",
        "legend": {
         "tracegroupgap": 0
        },
        "margin": {
         "t": 60
        },
        "template": {
         "data": {
          "bar": [
           {
            "error_x": {
             "color": "#2a3f5f"
            },
            "error_y": {
             "color": "#2a3f5f"
            },
            "marker": {
             "line": {
              "color": "#E5ECF6",
              "width": 0.5
             },
             "pattern": {
              "fillmode": "overlay",
              "size": 10,
              "solidity": 0.2
             }
            },
            "type": "bar"
           }
          ],
          "barpolar": [
           {
            "marker": {
             "line": {
              "color": "#E5ECF6",
              "width": 0.5
             },
             "pattern": {
              "fillmode": "overlay",
              "size": 10,
              "solidity": 0.2
             }
            },
            "type": "barpolar"
           }
          ],
          "carpet": [
           {
            "aaxis": {
             "endlinecolor": "#2a3f5f",
             "gridcolor": "white",
             "linecolor": "white",
             "minorgridcolor": "white",
             "startlinecolor": "#2a3f5f"
            },
            "baxis": {
             "endlinecolor": "#2a3f5f",
             "gridcolor": "white",
             "linecolor": "white",
             "minorgridcolor": "white",
             "startlinecolor": "#2a3f5f"
            },
            "type": "carpet"
           }
          ],
          "choropleth": [
           {
            "colorbar": {
             "outlinewidth": 0,
             "ticks": ""
            },
            "type": "choropleth"
           }
          ],
          "contour": [
           {
            "colorbar": {
             "outlinewidth": 0,
             "ticks": ""
            },
            "colorscale": [
             [
              0,
              "#0d0887"
             ],
             [
              0.1111111111111111,
              "#46039f"
             ],
             [
              0.2222222222222222,
              "#7201a8"
             ],
             [
              0.3333333333333333,
              "#9c179e"
             ],
             [
              0.4444444444444444,
              "#bd3786"
             ],
             [
              0.5555555555555556,
              "#d8576b"
             ],
             [
              0.6666666666666666,
              "#ed7953"
             ],
             [
              0.7777777777777778,
              "#fb9f3a"
             ],
             [
              0.8888888888888888,
              "#fdca26"
             ],
             [
              1,
              "#f0f921"
             ]
            ],
            "type": "contour"
           }
          ],
          "contourcarpet": [
           {
            "colorbar": {
             "outlinewidth": 0,
             "ticks": ""
            },
            "type": "contourcarpet"
           }
          ],
          "heatmap": [
           {
            "colorbar": {
             "outlinewidth": 0,
             "ticks": ""
            },
            "colorscale": [
             [
              0,
              "#0d0887"
             ],
             [
              0.1111111111111111,
              "#46039f"
             ],
             [
              0.2222222222222222,
              "#7201a8"
             ],
             [
              0.3333333333333333,
              "#9c179e"
             ],
             [
              0.4444444444444444,
              "#bd3786"
             ],
             [
              0.5555555555555556,
              "#d8576b"
             ],
             [
              0.6666666666666666,
              "#ed7953"
             ],
             [
              0.7777777777777778,
              "#fb9f3a"
             ],
             [
              0.8888888888888888,
              "#fdca26"
             ],
             [
              1,
              "#f0f921"
             ]
            ],
            "type": "heatmap"
           }
          ],
          "heatmapgl": [
           {
            "colorbar": {
             "outlinewidth": 0,
             "ticks": ""
            },
            "colorscale": [
             [
              0,
              "#0d0887"
             ],
             [
              0.1111111111111111,
              "#46039f"
             ],
             [
              0.2222222222222222,
              "#7201a8"
             ],
             [
              0.3333333333333333,
              "#9c179e"
             ],
             [
              0.4444444444444444,
              "#bd3786"
             ],
             [
              0.5555555555555556,
              "#d8576b"
             ],
             [
              0.6666666666666666,
              "#ed7953"
             ],
             [
              0.7777777777777778,
              "#fb9f3a"
             ],
             [
              0.8888888888888888,
              "#fdca26"
             ],
             [
              1,
              "#f0f921"
             ]
            ],
            "type": "heatmapgl"
           }
          ],
          "histogram": [
           {
            "marker": {
             "pattern": {
              "fillmode": "overlay",
              "size": 10,
              "solidity": 0.2
             }
            },
            "type": "histogram"
           }
          ],
          "histogram2d": [
           {
            "colorbar": {
             "outlinewidth": 0,
             "ticks": ""
            },
            "colorscale": [
             [
              0,
              "#0d0887"
             ],
             [
              0.1111111111111111,
              "#46039f"
             ],
             [
              0.2222222222222222,
              "#7201a8"
             ],
             [
              0.3333333333333333,
              "#9c179e"
             ],
             [
              0.4444444444444444,
              "#bd3786"
             ],
             [
              0.5555555555555556,
              "#d8576b"
             ],
             [
              0.6666666666666666,
              "#ed7953"
             ],
             [
              0.7777777777777778,
              "#fb9f3a"
             ],
             [
              0.8888888888888888,
              "#fdca26"
             ],
             [
              1,
              "#f0f921"
             ]
            ],
            "type": "histogram2d"
           }
          ],
          "histogram2dcontour": [
           {
            "colorbar": {
             "outlinewidth": 0,
             "ticks": ""
            },
            "colorscale": [
             [
              0,
              "#0d0887"
             ],
             [
              0.1111111111111111,
              "#46039f"
             ],
             [
              0.2222222222222222,
              "#7201a8"
             ],
             [
              0.3333333333333333,
              "#9c179e"
             ],
             [
              0.4444444444444444,
              "#bd3786"
             ],
             [
              0.5555555555555556,
              "#d8576b"
             ],
             [
              0.6666666666666666,
              "#ed7953"
             ],
             [
              0.7777777777777778,
              "#fb9f3a"
             ],
             [
              0.8888888888888888,
              "#fdca26"
             ],
             [
              1,
              "#f0f921"
             ]
            ],
            "type": "histogram2dcontour"
           }
          ],
          "mesh3d": [
           {
            "colorbar": {
             "outlinewidth": 0,
             "ticks": ""
            },
            "type": "mesh3d"
           }
          ],
          "parcoords": [
           {
            "line": {
             "colorbar": {
              "outlinewidth": 0,
              "ticks": ""
             }
            },
            "type": "parcoords"
           }
          ],
          "pie": [
           {
            "automargin": true,
            "type": "pie"
           }
          ],
          "scatter": [
           {
            "fillpattern": {
             "fillmode": "overlay",
             "size": 10,
             "solidity": 0.2
            },
            "type": "scatter"
           }
          ],
          "scatter3d": [
           {
            "line": {
             "colorbar": {
              "outlinewidth": 0,
              "ticks": ""
             }
            },
            "marker": {
             "colorbar": {
              "outlinewidth": 0,
              "ticks": ""
             }
            },
            "type": "scatter3d"
           }
          ],
          "scattercarpet": [
           {
            "marker": {
             "colorbar": {
              "outlinewidth": 0,
              "ticks": ""
             }
            },
            "type": "scattercarpet"
           }
          ],
          "scattergeo": [
           {
            "marker": {
             "colorbar": {
              "outlinewidth": 0,
              "ticks": ""
             }
            },
            "type": "scattergeo"
           }
          ],
          "scattergl": [
           {
            "marker": {
             "colorbar": {
              "outlinewidth": 0,
              "ticks": ""
             }
            },
            "type": "scattergl"
           }
          ],
          "scattermapbox": [
           {
            "marker": {
             "colorbar": {
              "outlinewidth": 0,
              "ticks": ""
             }
            },
            "type": "scattermapbox"
           }
          ],
          "scatterpolar": [
           {
            "marker": {
             "colorbar": {
              "outlinewidth": 0,
              "ticks": ""
             }
            },
            "type": "scatterpolar"
           }
          ],
          "scatterpolargl": [
           {
            "marker": {
             "colorbar": {
              "outlinewidth": 0,
              "ticks": ""
             }
            },
            "type": "scatterpolargl"
           }
          ],
          "scatterternary": [
           {
            "marker": {
             "colorbar": {
              "outlinewidth": 0,
              "ticks": ""
             }
            },
            "type": "scatterternary"
           }
          ],
          "surface": [
           {
            "colorbar": {
             "outlinewidth": 0,
             "ticks": ""
            },
            "colorscale": [
             [
              0,
              "#0d0887"
             ],
             [
              0.1111111111111111,
              "#46039f"
             ],
             [
              0.2222222222222222,
              "#7201a8"
             ],
             [
              0.3333333333333333,
              "#9c179e"
             ],
             [
              0.4444444444444444,
              "#bd3786"
             ],
             [
              0.5555555555555556,
              "#d8576b"
             ],
             [
              0.6666666666666666,
              "#ed7953"
             ],
             [
              0.7777777777777778,
              "#fb9f3a"
             ],
             [
              0.8888888888888888,
              "#fdca26"
             ],
             [
              1,
              "#f0f921"
             ]
            ],
            "type": "surface"
           }
          ],
          "table": [
           {
            "cells": {
             "fill": {
              "color": "#EBF0F8"
             },
             "line": {
              "color": "white"
             }
            },
            "header": {
             "fill": {
              "color": "#C8D4E3"
             },
             "line": {
              "color": "white"
             }
            },
            "type": "table"
           }
          ]
         },
         "layout": {
          "annotationdefaults": {
           "arrowcolor": "#2a3f5f",
           "arrowhead": 0,
           "arrowwidth": 1
          },
          "autotypenumbers": "strict",
          "coloraxis": {
           "colorbar": {
            "outlinewidth": 0,
            "ticks": ""
           }
          },
          "colorscale": {
           "diverging": [
            [
             0,
             "#8e0152"
            ],
            [
             0.1,
             "#c51b7d"
            ],
            [
             0.2,
             "#de77ae"
            ],
            [
             0.3,
             "#f1b6da"
            ],
            [
             0.4,
             "#fde0ef"
            ],
            [
             0.5,
             "#f7f7f7"
            ],
            [
             0.6,
             "#e6f5d0"
            ],
            [
             0.7,
             "#b8e186"
            ],
            [
             0.8,
             "#7fbc41"
            ],
            [
             0.9,
             "#4d9221"
            ],
            [
             1,
             "#276419"
            ]
           ],
           "sequential": [
            [
             0,
             "#0d0887"
            ],
            [
             0.1111111111111111,
             "#46039f"
            ],
            [
             0.2222222222222222,
             "#7201a8"
            ],
            [
             0.3333333333333333,
             "#9c179e"
            ],
            [
             0.4444444444444444,
             "#bd3786"
            ],
            [
             0.5555555555555556,
             "#d8576b"
            ],
            [
             0.6666666666666666,
             "#ed7953"
            ],
            [
             0.7777777777777778,
             "#fb9f3a"
            ],
            [
             0.8888888888888888,
             "#fdca26"
            ],
            [
             1,
             "#f0f921"
            ]
           ],
           "sequentialminus": [
            [
             0,
             "#0d0887"
            ],
            [
             0.1111111111111111,
             "#46039f"
            ],
            [
             0.2222222222222222,
             "#7201a8"
            ],
            [
             0.3333333333333333,
             "#9c179e"
            ],
            [
             0.4444444444444444,
             "#bd3786"
            ],
            [
             0.5555555555555556,
             "#d8576b"
            ],
            [
             0.6666666666666666,
             "#ed7953"
            ],
            [
             0.7777777777777778,
             "#fb9f3a"
            ],
            [
             0.8888888888888888,
             "#fdca26"
            ],
            [
             1,
             "#f0f921"
            ]
           ]
          },
          "colorway": [
           "#636efa",
           "#EF553B",
           "#00cc96",
           "#ab63fa",
           "#FFA15A",
           "#19d3f3",
           "#FF6692",
           "#B6E880",
           "#FF97FF",
           "#FECB52"
          ],
          "font": {
           "color": "#2a3f5f"
          },
          "geo": {
           "bgcolor": "white",
           "lakecolor": "white",
           "landcolor": "#E5ECF6",
           "showlakes": true,
           "showland": true,
           "subunitcolor": "white"
          },
          "hoverlabel": {
           "align": "left"
          },
          "hovermode": "closest",
          "mapbox": {
           "style": "light"
          },
          "paper_bgcolor": "white",
          "plot_bgcolor": "#E5ECF6",
          "polar": {
           "angularaxis": {
            "gridcolor": "white",
            "linecolor": "white",
            "ticks": ""
           },
           "bgcolor": "#E5ECF6",
           "radialaxis": {
            "gridcolor": "white",
            "linecolor": "white",
            "ticks": ""
           }
          },
          "scene": {
           "xaxis": {
            "backgroundcolor": "#E5ECF6",
            "gridcolor": "white",
            "gridwidth": 2,
            "linecolor": "white",
            "showbackground": true,
            "ticks": "",
            "zerolinecolor": "white"
           },
           "yaxis": {
            "backgroundcolor": "#E5ECF6",
            "gridcolor": "white",
            "gridwidth": 2,
            "linecolor": "white",
            "showbackground": true,
            "ticks": "",
            "zerolinecolor": "white"
           },
           "zaxis": {
            "backgroundcolor": "#E5ECF6",
            "gridcolor": "white",
            "gridwidth": 2,
            "linecolor": "white",
            "showbackground": true,
            "ticks": "",
            "zerolinecolor": "white"
           }
          },
          "shapedefaults": {
           "line": {
            "color": "#2a3f5f"
           }
          },
          "ternary": {
           "aaxis": {
            "gridcolor": "white",
            "linecolor": "white",
            "ticks": ""
           },
           "baxis": {
            "gridcolor": "white",
            "linecolor": "white",
            "ticks": ""
           },
           "bgcolor": "#E5ECF6",
           "caxis": {
            "gridcolor": "white",
            "linecolor": "white",
            "ticks": ""
           }
          },
          "title": {
           "x": 0.05
          },
          "xaxis": {
           "automargin": true,
           "gridcolor": "white",
           "linecolor": "white",
           "ticks": "",
           "title": {
            "standoff": 15
           },
           "zerolinecolor": "white",
           "zerolinewidth": 2
          },
          "yaxis": {
           "automargin": true,
           "gridcolor": "white",
           "linecolor": "white",
           "ticks": "",
           "title": {
            "standoff": 15
           },
           "zerolinecolor": "white",
           "zerolinewidth": 2
          }
         }
        },
        "title": {
         "text": "Distribution des diagonal_pixels"
        },
        "xaxis": {
         "anchor": "y",
         "domain": [
          0,
          1
         ],
         "title": {
          "text": "diagonal_pixels"
         }
        },
        "yaxis": {
         "anchor": "x",
         "domain": [
          0,
          1
         ],
         "title": {
          "text": "Fréquence"
         }
        }
       }
      }
     },
     "metadata": {},
     "output_type": "display_data"
    }
   ],
   "source": [
    "import plotly.express as px\n",
    "\n",
    "fig = px.histogram(df, x=\"diagonal_pixels\", histnorm=\"probability\")\n",
    "fig.update_layout(\n",
    "    title=\"Distribution des diagonal_pixels\",\n",
    "    xaxis_title=\"diagonal_pixels\",\n",
    "    yaxis_title=\"Fréquence\",\n",
    ")\n",
    "fig.show()"
   ]
  },
  {
   "cell_type": "markdown",
   "metadata": {},
   "source": [
    "**TODO** `cleaning` :\n",
    "\n",
    "- [x] **network**\n",
    "- [x] **color**\n",
    "- [x] **price**\n",
    "- [x] **screen_type**\n",
    "- [ ] *cpu*"
   ]
  },
  {
   "cell_type": "code",
   "execution_count": null,
   "metadata": {},
   "outputs": [],
   "source": [
    "# df.select(\"cpu\").unique().to_numpy()\n",
    "# pour le cpu on va préférer retravailler pour avoir la fréquence en GHz plutot"
   ]
  },
  {
   "cell_type": "markdown",
   "metadata": {},
   "source": [
    "Vérification des valeurs nulles sur les différentes colonnes."
   ]
  },
  {
   "cell_type": "code",
   "execution_count": null,
   "metadata": {},
   "outputs": [
    {
     "data": {
      "text/html": [
       "<div><style>\n",
       ".dataframe > thead > tr > th,\n",
       ".dataframe > tbody > tr > td {\n",
       "  text-align: right;\n",
       "  white-space: pre-wrap;\n",
       "}\n",
       "</style>\n",
       "<small>shape: (1, 31)</small><table border=\"1\" class=\"dataframe\"><thead><tr><th>screen_tech</th><th>upgrade_storage</th><th>height</th><th>cpu</th><th>reviews</th><th>storage</th><th>color</th><th>fast_charging</th><th>sensor</th><th>model</th><th>sensor_resolution</th><th>ram</th><th>charging_type</th><th>repairability_index</th><th>das_chest</th><th>screen_size</th><th>network</th><th>net_weight</th><th>stars</th><th>das_limbs</th><th>battery</th><th>made_in</th><th>price</th><th>width</th><th>sim_type</th><th>thickness</th><th>das_head</th><th>screen_type</th><th>usb_type_c</th><th>brand</th><th>diagonal_pixels</th></tr><tr><td>u32</td><td>u32</td><td>u32</td><td>u32</td><td>u32</td><td>u32</td><td>u32</td><td>u32</td><td>u32</td><td>u32</td><td>u32</td><td>u32</td><td>u32</td><td>u32</td><td>u32</td><td>u32</td><td>u32</td><td>u32</td><td>u32</td><td>u32</td><td>u32</td><td>u32</td><td>u32</td><td>u32</td><td>u32</td><td>u32</td><td>u32</td><td>u32</td><td>u32</td><td>u32</td><td>u32</td></tr></thead><tbody><tr><td>0</td><td>0</td><td>1</td><td>1</td><td>0</td><td>0</td><td>1</td><td>0</td><td>75</td><td>0</td><td>0</td><td>0</td><td>3</td><td>0</td><td>0</td><td>0</td><td>0</td><td>14</td><td>0</td><td>0</td><td>0</td><td>7</td><td>0</td><td>1</td><td>0</td><td>1</td><td>0</td><td>0</td><td>0</td><td>0</td><td>0</td></tr></tbody></table></div>"
      ],
      "text/plain": [
       "shape: (1, 31)\n",
       "┌─────────────┬───────────────┬────────┬─────┬───┬─────────────┬────────────┬───────┬──────────────┐\n",
       "│ screen_tech ┆ upgrade_stora ┆ height ┆ cpu ┆ … ┆ screen_type ┆ usb_type_c ┆ brand ┆ diagonal_pix │\n",
       "│ ---         ┆ ge            ┆ ---    ┆ --- ┆   ┆ ---         ┆ ---        ┆ ---   ┆ els          │\n",
       "│ u32         ┆ ---           ┆ u32    ┆ u32 ┆   ┆ u32         ┆ u32        ┆ u32   ┆ ---          │\n",
       "│             ┆ u32           ┆        ┆     ┆   ┆             ┆            ┆       ┆ u32          │\n",
       "╞═════════════╪═══════════════╪════════╪═════╪═══╪═════════════╪════════════╪═══════╪══════════════╡\n",
       "│ 0           ┆ 0             ┆ 1      ┆ 1   ┆ … ┆ 0           ┆ 0          ┆ 0     ┆ 0            │\n",
       "└─────────────┴───────────────┴────────┴─────┴───┴─────────────┴────────────┴───────┴──────────────┘"
      ]
     },
     "execution_count": 53,
     "metadata": {},
     "output_type": "execute_result"
    }
   ],
   "source": [
    "df.select(pl.all().is_null().sum())"
   ]
  },
  {
   "cell_type": "code",
   "execution_count": null,
   "metadata": {},
   "outputs": [
    {
     "data": {
      "text/plain": [
       "array([['Samsung Galaxy S10'],\n",
       "       ['Google Pixel 8'],\n",
       "       ['Google Pixel 8 Pro'],\n",
       "       ['Sony Xperia 1 V']], dtype=object)"
      ]
     },
     "execution_count": 5,
     "metadata": {},
     "output_type": "execute_result"
    }
   ],
   "source": [
    "df.select(pl.col(\"model\").filter(pl.col(\"net_weight\").is_null())).unique().to_numpy()"
   ]
  },
  {
   "cell_type": "markdown",
   "metadata": {},
   "source": [
    "Idée => Avec cette liste unique des téléphones, aller chercher leur poids (manquant) avec une `request` sur google et récupérer le résultat"
   ]
  }
 ],
 "metadata": {
  "kernelspec": {
   "display_name": "Python 3",
   "language": "python",
   "name": "python3"
  },
  "language_info": {
   "codemirror_mode": {
    "name": "ipython",
    "version": 3
   },
   "file_extension": ".py",
   "mimetype": "text/x-python",
   "name": "python",
   "nbconvert_exporter": "python",
   "pygments_lexer": "ipython3",
   "version": "3.10.6"
  }
 },
 "nbformat": 4,
 "nbformat_minor": 2
}
