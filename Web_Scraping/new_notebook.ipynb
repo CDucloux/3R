{
 "cells": [
  {
   "cell_type": "code",
   "execution_count": 2,
   "metadata": {},
   "outputs": [],
   "source": [
    "from script.scraper_functions import *\n",
    "from script.soupifier import *\n",
    "from serde.json import to_json\n",
    "import numpy as np\n",
    "from itertools import chain\n",
    "from yarl import URL"
   ]
  },
  {
   "cell_type": "markdown",
   "metadata": {},
   "source": [
    "**TODO**:\n",
    "\n",
    "- `ruff` $\\Rightarrow$ linter, à utiliser plus dans le cadre du dvpt\n",
    "- `pytest` avec subprocess.run pour tester le code\n",
    "- `pytest-coverage`\n",
    "- `poetry` avec gestion des dépendances\n",
    "- `black` pour automatiquement indenter, etc.\n",
    "- `doctest` pour tester les exemples des docstrings\n",
    "- `bandit` pour gérer les vulnérabilités\n",
    "\n",
    "***\n",
    "\n",
    "- `yarl` pour travailler avec des URL"
   ]
  },
  {
   "cell_type": "markdown",
   "metadata": {},
   "source": [
    "## Le code ci-dessous lance le `scraper`\n",
    "\n",
    "- Tu peux changer le nombre d'*URL* de **19** à 1 ou 2 pour tester ça prendra beaucoup moins longtemps à générer\n",
    "- Lien [`Darty`](https://www.darty.com/nav/extra/list?seller=311289-0-327183-311290-311291-328771-311452&cat=89054&state=new_offer&persist_sold_by_darty=true) $\\Rightarrow$ en choisissant les produits uniquement vendus par Darty + Neufs on a 567 produits.\n",
    "- Avoir un comparatif Boulanger/Darty pourrait être intéressant\n",
    "- Voir pour récupérer les images des téléphones pour plus tard dans l'appli - voir : https://discuss.streamlit.io/t/add-image-and-header-to-streamlit-dataframe-table/36065/3"
   ]
  },
  {
   "cell_type": "code",
   "execution_count": 4,
   "metadata": {},
   "outputs": [
    {
     "data": {
      "text/plain": [
       "URL('')"
      ]
     },
     "execution_count": 4,
     "metadata": {},
     "output_type": "execute_result"
    }
   ],
   "source": [
    "URL()"
   ]
  },
  {
   "cell_type": "code",
   "execution_count": 2,
   "metadata": {},
   "outputs": [
    {
     "name": "stdout",
     "output_type": "stream",
     "text": [
      "Page 1 -> Successfull Extraction.\n"
     ]
    },
    {
     "data": {
      "text/html": [
       "<pre style=\"white-space:pre;overflow-x:auto;line-height:normal;font-family:Menlo,'DejaVu Sans Mono',consolas,'Courier New',monospace\"><span style=\"font-style: italic\">Elapsed time</span> for <span style=\"color: #800000; text-decoration-color: #800000; font-weight: bold\">read_pages</span> function: <span style=\"color: #008080; text-decoration-color: #008080; font-weight: bold\">8.326</span> seconds.\n",
       "</pre>\n"
      ],
      "text/plain": [
       "\u001b[3mElapsed time\u001b[0m for \u001b[1;31mread_pages\u001b[0m function: \u001b[1;36m8.326\u001b[0m seconds.\n"
      ]
     },
     "metadata": {},
     "output_type": "display_data"
    }
   ],
   "source": [
    "session = create_session()\n",
    "url_list = create_url_list(URL, 1)\n",
    "pages = read_pages(url_list=url_list, session=session)"
   ]
  },
  {
   "cell_type": "code",
   "execution_count": 3,
   "metadata": {},
   "outputs": [
    {
     "data": {
      "text/html": [
       "<pre style=\"white-space:pre;overflow-x:auto;line-height:normal;font-family:Menlo,'DejaVu Sans Mono',consolas,'Courier New',monospace\"><span style=\"font-style: italic\">Elapsed time</span> for <span style=\"color: #800000; text-decoration-color: #800000; font-weight: bold\">extract_all_urls</span> function: <span style=\"color: #008080; text-decoration-color: #008080; font-weight: bold\">0.488</span> seconds.\n",
       "</pre>\n"
      ],
      "text/plain": [
       "\u001b[3mElapsed time\u001b[0m for \u001b[1;31mextract_all_urls\u001b[0m function: \u001b[1;36m0.488\u001b[0m seconds.\n"
      ]
     },
     "metadata": {},
     "output_type": "display_data"
    },
    {
     "name": "stdout",
     "output_type": "stream",
     "text": [
      "--------------------\n",
      "Product 1 -> Successfull Extraction.\n",
      "Product 2 -> Successfull Extraction.\n",
      "Product 3 -> Successfull Extraction.\n",
      "Product 4 -> Successfull Extraction.\n",
      "Product 5 -> Successfull Extraction.\n",
      "Product 6 -> Successfull Extraction.\n",
      "Product 7 -> Successfull Extraction.\n",
      "Product 8 -> Successfull Extraction.\n",
      "Product 9 -> Successfull Extraction.\n",
      "Product 10 -> Successfull Extraction.\n",
      "Product 11 -> Successfull Extraction.\n",
      "Product 12 -> Successfull Extraction.\n",
      "Product 13 -> Successfull Extraction.\n",
      "Product 14 -> Successfull Extraction.\n",
      "Product 15 -> Successfull Extraction.\n",
      "Product 16 -> Successfull Extraction.\n",
      "Product 17 -> Successfull Extraction.\n",
      "Product 18 -> Successfull Extraction.\n",
      "Product 19 -> Successfull Extraction.\n",
      "Product 20 -> Successfull Extraction.\n",
      "Product 21 -> Successfull Extraction.\n",
      "Product 22 -> Successfull Extraction.\n",
      "Product 23 -> Successfull Extraction.\n",
      "Product 24 -> Successfull Extraction.\n",
      "Product 25 -> Successfull Extraction.\n",
      "Product 26 -> Successfull Extraction.\n",
      "Product 27 -> Successfull Extraction.\n",
      "Product 28 -> Successfull Extraction.\n",
      "Product 29 -> Successfull Extraction.\n",
      "Product 30 -> Successfull Extraction.\n"
     ]
    },
    {
     "data": {
      "text/html": [
       "<pre style=\"white-space:pre;overflow-x:auto;line-height:normal;font-family:Menlo,'DejaVu Sans Mono',consolas,'Courier New',monospace\"><span style=\"font-style: italic\">Elapsed time</span> for <span style=\"color: #800000; text-decoration-color: #800000; font-weight: bold\">extract_all_pages</span> function: <span style=\"color: #008080; text-decoration-color: #008080; font-weight: bold\">59.688</span> seconds.\n",
       "</pre>\n"
      ],
      "text/plain": [
       "\u001b[3mElapsed time\u001b[0m for \u001b[1;31mextract_all_pages\u001b[0m function: \u001b[1;36m59.688\u001b[0m seconds.\n"
      ]
     },
     "metadata": {},
     "output_type": "display_data"
    }
   ],
   "source": [
    "all_urls = extract_all_urls(pages)\n",
    "print(\"--------------------\")\n",
    "product_pages = extract_all_pages(all_urls, session)"
   ]
  },
  {
   "cell_type": "markdown",
   "metadata": {},
   "source": [
    "Il faudrait créer une fonction pour la génération de la liste des smartphones + l'export en `json`"
   ]
  },
  {
   "cell_type": "code",
   "execution_count": 8,
   "metadata": {},
   "outputs": [],
   "source": [
    "smartphone_list = list()\n",
    "for article in product_pages:\n",
    "    soup = BeautifulSoup(article, \"html.parser\")\n",
    "    dict_features = extract_features(soup)\n",
    "    smartphone = smartphone_characteristics(dict_features)\n",
    "    smartphone_list.append(smartphone)"
   ]
  },
  {
   "cell_type": "code",
   "execution_count": 13,
   "metadata": {},
   "outputs": [],
   "source": [
    "smartphones_json = to_json(smartphone_list)"
   ]
  },
  {
   "cell_type": "code",
   "execution_count": 14,
   "metadata": {},
   "outputs": [],
   "source": [
    "file_path = \"data/smartphones.json\"\n",
    "\n",
    "with open(file_path, \"w\", encoding=\"utf-8\") as json_file:\n",
    "    json_file.write(smartphones_json)"
   ]
  },
  {
   "cell_type": "markdown",
   "metadata": {},
   "source": [
    "## Charge le Dataframe dans `polars`"
   ]
  },
  {
   "cell_type": "code",
   "execution_count": 2,
   "metadata": {},
   "outputs": [],
   "source": [
    "import polars as pl\n",
    "from script.polars_gazprom import *"
   ]
  },
  {
   "cell_type": "code",
   "execution_count": 3,
   "metadata": {},
   "outputs": [],
   "source": [
    "df_brut = pl.read_json(\"data/smartphones.json\")"
   ]
  },
  {
   "cell_type": "markdown",
   "metadata": {},
   "source": [
    "### Pipeline"
   ]
  },
  {
   "cell_type": "markdown",
   "metadata": {},
   "source": [
    "Sur `535` extractions, il y a `436` téléphones valides avec les caractéristiques. Pas mal ?\n",
    "\n",
    "Pour obtenir la *PPI* (Pixels per Inch) on fait : \n",
    "\n",
    "$$PPI = \\dfrac{\\text{diagonal\\_pixels}}{\\text{screen\\_size} (inch)}$$"
   ]
  },
  {
   "cell_type": "code",
   "execution_count": 4,
   "metadata": {},
   "outputs": [],
   "source": [
    "df = NordStream(df_brut)"
   ]
  },
  {
   "cell_type": "code",
   "execution_count": 5,
   "metadata": {},
   "outputs": [
    {
     "data": {
      "text/html": [
       "<div><style>\n",
       ".dataframe > thead > tr > th,\n",
       ".dataframe > tbody > tr > td {\n",
       "  text-align: right;\n",
       "  white-space: pre-wrap;\n",
       "}\n",
       "</style>\n",
       "<small>shape: (436, 31)</small><table border=\"1\" class=\"dataframe\"><thead><tr><th>upgrade_storage</th><th>sensor</th><th>fast_charging</th><th>sensor_resolution</th><th>brand</th><th>ram</th><th>storage</th><th>thickness</th><th>cpu</th><th>screen_type</th><th>network</th><th>usb_type_c</th><th>sim_type</th><th>das_limbs</th><th>height</th><th>color</th><th>width</th><th>reviews</th><th>repairability_index</th><th>price</th><th>charging_type</th><th>stars</th><th>model</th><th>das_head</th><th>made_in</th><th>battery</th><th>das_chest</th><th>screen_size</th><th>screen_tech</th><th>net_weight</th><th>diagonal_pixels</th></tr><tr><td>bool</td><td>str</td><td>bool</td><td>str</td><td>str</td><td>str</td><td>str</td><td>str</td><td>str</td><td>str</td><td>str</td><td>bool</td><td>str</td><td>str</td><td>str</td><td>str</td><td>str</td><td>i64</td><td>str</td><td>f64</td><td>str</td><td>f64</td><td>str</td><td>str</td><td>str</td><td>i64</td><td>str</td><td>f64</td><td>str</td><td>str</td><td>f64</td></tr></thead><tbody><tr><td>true</td><td>&quot;3&quot;</td><td>true</td><td>&quot;12 mégapixels+…</td><td>&quot;SONY&quot;</td><td>&quot;8 Go&quot;</td><td>&quot;128 Go&quot;</td><td>&quot;0,90 mm&quot;</td><td>&quot;Qualcomm Snapd…</td><td>&quot;Plat&quot;</td><td>&quot;5G&quot;</td><td>true</td><td>&quot;Nano SIM et eS…</td><td>&quot;2,110 W/kg&quot;</td><td>&quot;15,40 mm&quot;</td><td>&quot;Argent&quot;</td><td>&quot;0,70 mm&quot;</td><td>0</td><td>&quot;8,5 /10&quot;</td><td>999.0</td><td>&quot;Possibilité de…</td><td>0.0</td><td>&quot;SONY Xperia 5 …</td><td>&quot;0,950 W/kg&quot;</td><td>&quot;Thaïlande&quot;</td><td>5000</td><td>&quot;1,050 W/kg&quot;</td><td>6.1</td><td>&quot;OLED FHD+&quot;</td><td>&quot;0,00 g&quot;</td><td>2741.678318</td></tr><tr><td>false</td><td>&quot;3&quot;</td><td>true</td><td>&quot;50 mégapixels+…</td><td>&quot;SAMSUNG&quot;</td><td>&quot;8 Go&quot;</td><td>&quot;256 Go&quot;</td><td>&quot;0,80 mm&quot;</td><td>&quot;Exynos 2200&quot;</td><td>&quot;Plat&quot;</td><td>&quot;5G&quot;</td><td>true</td><td>&quot;Nano SIM et eS…</td><td>&quot;2,710 W/kg&quot;</td><td>&quot;146,00 mm&quot;</td><td>&quot;Noir&quot;</td><td>&quot;87,00 mm&quot;</td><td>1</td><td>&quot;8,2 /10&quot;</td><td>857.59</td><td>&quot;Possibilité de…</td><td>4.0</td><td>&quot;Samsung Galaxy…</td><td>&quot;1,210 W/kg&quot;</td><td>&quot;Viêt Nam&quot;</td><td>3700</td><td>&quot;1,590 W/kg&quot;</td><td>6.1</td><td>&quot;Dynamic AMOLED…</td><td>&quot;167,00 g&quot;</td><td>2577.207791</td></tr><tr><td>true</td><td>&quot;2&quot;</td><td>false</td><td>&quot;50 mégapixels+…</td><td>&quot;MOTOROLA&quot;</td><td>&quot;4 Go&quot;</td><td>&quot;128 Go&quot;</td><td>&quot;8,20 mm&quot;</td><td>&quot;8 coeurs jusqu…</td><td>&quot;Plat&quot;</td><td>&quot;5G&quot;</td><td>true</td><td>&quot;Nano SIM et eS…</td><td>&quot;2,980 W/kg&quot;</td><td>&quot;162,70 mm&quot;</td><td>&quot;Bleu&quot;</td><td>&quot;74,70 mm&quot;</td><td>3</td><td>&quot;7,1 /10&quot;</td><td>199.0</td><td>&quot;Pas de charge …</td><td>4.3333</td><td>&quot;Motorola G53&quot;</td><td>&quot;0,980 W/kg&quot;</td><td>&quot;Chine&quot;</td><td>5000</td><td>&quot;1,320 W/kg&quot;</td><td>6.5</td><td>&quot;LCD&quot;</td><td>&quot;183,00 g&quot;</td><td>1754.536976</td></tr><tr><td>false</td><td>&quot;3&quot;</td><td>true</td><td>&quot;50 mégapixels+…</td><td>&quot;GOOGLE&quot;</td><td>&quot;8 Go&quot;</td><td>&quot;128 Go&quot;</td><td>&quot;0,90 mm&quot;</td><td>&quot;Google Tensor …</td><td>&quot;Plat&quot;</td><td>&quot;5G&quot;</td><td>true</td><td>&quot;2Nano sim ou 1…</td><td>&quot;2,490 W/kg&quot;</td><td>&quot;15,10 mm&quot;</td><td>&quot;Noir&quot;</td><td>&quot;7,10 mm&quot;</td><td>0</td><td>&quot;8,2 /10&quot;</td><td>799.0</td><td>&quot;Possibilité de…</td><td>0.0</td><td>&quot;Google Pixel 8…</td><td>&quot;0,980 W/kg&quot;</td><td>&quot;Viêt Nam&quot;</td><td>4500</td><td>&quot;1,200 W/kg&quot;</td><td>6.2</td><td>&quot;Actua ou OLED …</td><td>null</td><td>2631.805464</td></tr><tr><td>true</td><td>&quot;1&quot;</td><td>true</td><td>&quot;13 mégapixels&quot;</td><td>&quot;XIAOMI&quot;</td><td>&quot;2 Go&quot;</td><td>&quot;32 Go&quot;</td><td>&quot;9,00 mm&quot;</td><td>&quot;8 coeurs jusqu…</td><td>&quot;Plat&quot;</td><td>&quot;4G+&quot;</td><td>true</td><td>&quot;Nano SIM (x2) …</td><td>&quot;2,526 W/kg&quot;</td><td>&quot;164,90 mm&quot;</td><td>&quot;Gris&quot;</td><td>&quot;77,10 mm&quot;</td><td>2</td><td>&quot;7,0 /10&quot;</td><td>95.9</td><td>&quot;Pas de charge …</td><td>4.0</td><td>&quot;Xiaomi Redmi 9…</td><td>&quot;0,398 W/kg&quot;</td><td>&quot;Chine&quot;</td><td>5000</td><td>&quot;1,186 W/kg&quot;</td><td>6.5</td><td>&quot;HD+&quot;</td><td>&quot;194,00 g&quot;</td><td>1754.536976</td></tr><tr><td>false</td><td>&quot;3&quot;</td><td>true</td><td>&quot;64 mégapixels+…</td><td>&quot;HONOR&quot;</td><td>&quot;8 Go&quot;</td><td>&quot;256 Go&quot;</td><td>&quot;7,90 mm&quot;</td><td>&quot;Qualcomm Snapd…</td><td>&quot;Bords incurvés…</td><td>&quot;5G&quot;</td><td>true</td><td>&quot;Nano SIM (x2)&quot;</td><td>&quot;2,810 W/kg&quot;</td><td>&quot;161,60 mm&quot;</td><td>&quot;Noir&quot;</td><td>&quot;73,90 mm&quot;</td><td>15</td><td>&quot;8,0 /10&quot;</td><td>299.0</td><td>&quot;Pas de charge …</td><td>4.1333</td><td>&quot;HONOR Magic5 L…</td><td>&quot;0,820 W/kg&quot;</td><td>&quot;Chine&quot;</td><td>5100</td><td>&quot;1,270 W/kg&quot;</td><td>6.7</td><td>&quot;AMOLED (rigide…</td><td>&quot;175,00 g&quot;</td><td>2631.805464</td></tr><tr><td>false</td><td>&quot;3&quot;</td><td>true</td><td>&quot;50 mégapixels+…</td><td>&quot;GOOGLE&quot;</td><td>&quot;12 Go&quot;</td><td>&quot;128 Go&quot;</td><td>&quot;8,90 mm&quot;</td><td>&quot;Google Tensor&quot;</td><td>&quot;Plat&quot;</td><td>&quot;5G&quot;</td><td>true</td><td>&quot;Dual SIM&quot;</td><td>&quot;2,960 W/kg&quot;</td><td>&quot;163,90 mm&quot;</td><td>&quot;Noir&quot;</td><td>&quot;75,90 mm&quot;</td><td>23</td><td>&quot;6,4 /10&quot;</td><td>633.67</td><td>&quot;Possibilité de…</td><td>4.087</td><td>&quot;Google Pixel 6…</td><td>&quot;0,990 W/kg&quot;</td><td>&quot;Chine&quot;</td><td>5000</td><td>&quot;1,400 W/kg&quot;</td><td>6.7</td><td>&quot;Non communiqué…</td><td>&quot;210,00 g&quot;</td><td>3436.277055</td></tr><tr><td>true</td><td>null</td><td>true</td><td>&quot;Non communiqué…</td><td>&quot;REALME&quot;</td><td>&quot;6 Go&quot;</td><td>&quot;128 Go&quot;</td><td>&quot;8,00 mm&quot;</td><td>&quot;Non communiqué…</td><td>&quot;Borderless&quot;</td><td>&quot;5G&quot;</td><td>true</td><td>&quot;Nano SIM&quot;</td><td>&quot;1,880 W/kg&quot;</td><td>&quot;159,10 mm&quot;</td><td>&quot;Noir&quot;</td><td>&quot;73,50 mm&quot;</td><td>0</td><td>&quot;6,2 /10&quot;</td><td>304.25</td><td>&quot;Pas de charge …</td><td>0.0</td><td>&quot;Realme GT Mast…</td><td>&quot;1,139 W/kg&quot;</td><td>&quot;Chine&quot;</td><td>4300</td><td>&quot;1,180 W/kg&quot;</td><td>6.4</td><td>&quot;Non communiqué…</td><td>&quot;174,00 g&quot;</td><td>2631.805464</td></tr><tr><td>false</td><td>&quot;3&quot;</td><td>true</td><td>&quot;50 mégapixels+…</td><td>&quot;GOOGLE&quot;</td><td>&quot;8 Go&quot;</td><td>&quot;256 Go&quot;</td><td>&quot;0,90 mm&quot;</td><td>&quot;Google Tensor …</td><td>&quot;Plat&quot;</td><td>&quot;5G&quot;</td><td>true</td><td>&quot;2Nano sim ou 1…</td><td>&quot;2,490 W/kg&quot;</td><td>&quot;15,10 mm&quot;</td><td>&quot;Vert&quot;</td><td>&quot;7,10 mm&quot;</td><td>0</td><td>&quot;8,2 /10&quot;</td><td>859.0</td><td>&quot;Possibilité de…</td><td>0.0</td><td>&quot;Google Pixel 8…</td><td>&quot;0,980 W/kg&quot;</td><td>&quot;Viêt Nam&quot;</td><td>4500</td><td>&quot;1,200 W/kg&quot;</td><td>6.2</td><td>&quot;Actua ou OLED …</td><td>null</td><td>2631.805464</td></tr><tr><td>false</td><td>null</td><td>true</td><td>&quot;50 mégapixels …</td><td>&quot;GOOGLE&quot;</td><td>&quot;12 Go&quot;</td><td>&quot;128 Go&quot;</td><td>&quot;0,90 mm&quot;</td><td>&quot;Google Tensor …</td><td>&quot;Plat&quot;</td><td>&quot;5G&quot;</td><td>true</td><td>&quot;2Nano sim ou 1…</td><td>&quot;2,500 W/kg&quot;</td><td>&quot;16,30 mm&quot;</td><td>&quot;Blanc&quot;</td><td>&quot;7,60 mm&quot;</td><td>0</td><td>&quot;8,2 /10&quot;</td><td>1099.0</td><td>&quot;Possibilité de…</td><td>0.0</td><td>&quot;Google Pixel 8…</td><td>&quot;0,840 W/kg&quot;</td><td>&quot;Viêt Nam&quot;</td><td>5000</td><td>&quot;1,200 W/kg&quot;</td><td>6.7</td><td>&quot;Super Actua ou…</td><td>null</td><td>3080.636298</td></tr><tr><td>true</td><td>&quot;4&quot;</td><td>true</td><td>&quot;64 mégapixels+…</td><td>&quot;REALME&quot;</td><td>&quot;6 Go&quot;</td><td>&quot;128 Go&quot;</td><td>&quot;8,50 mm&quot;</td><td>&quot;8 coeurs jusqu…</td><td>&quot;Plat&quot;</td><td>&quot;4G+&quot;</td><td>true</td><td>&quot;Nano SIM&quot;</td><td>&quot;2,725 W/kg&quot;</td><td>&quot;164,30 mm&quot;</td><td>&quot;Noir&quot;</td><td>&quot;75,60 mm&quot;</td><td>3</td><td>&quot;6,2 /10&quot;</td><td>259.06</td><td>&quot;Possibilité de…</td><td>3.6667</td><td>&quot;Realme 9 Pro&quot;</td><td>&quot;0,987 W/kg&quot;</td><td>&quot;Chine&quot;</td><td>5000</td><td>&quot;1,251 W/kg&quot;</td><td>6.6</td><td>&quot;AMOLED (OLED)&quot;</td><td>&quot;195,00 g&quot;</td><td>2631.805464</td></tr><tr><td>false</td><td>&quot;2&quot;</td><td>true</td><td>&quot;12 mégapixels+…</td><td>&quot;APPLE&quot;</td><td>&quot;4 Go&quot;</td><td>&quot;128 Go&quot;</td><td>&quot;7,80 mm&quot;</td><td>&quot;Puce A15&quot;</td><td>&quot;Plat&quot;</td><td>&quot;5G&quot;</td><td>false</td><td>&quot;Nano SIM et eS…</td><td>&quot;3,000 W/kg&quot;</td><td>&quot;160,80 mm&quot;</td><td>&quot;Jaune&quot;</td><td>&quot;78,10 mm&quot;</td><td>47</td><td>&quot;6,9 /10&quot;</td><td>969.0</td><td>&quot;Possibilité de…</td><td>4.6809</td><td>&quot;iPhone 14 Plus…</td><td>&quot;0,990 W/kg&quot;</td><td>&quot;Chine&quot;</td><td>4323</td><td>&quot;0,990 W/kg&quot;</td><td>6.7</td><td>&quot;Super Retina X…</td><td>&quot;203,00 g&quot;</td><td>3060.382329</td></tr><tr><td>&hellip;</td><td>&hellip;</td><td>&hellip;</td><td>&hellip;</td><td>&hellip;</td><td>&hellip;</td><td>&hellip;</td><td>&hellip;</td><td>&hellip;</td><td>&hellip;</td><td>&hellip;</td><td>&hellip;</td><td>&hellip;</td><td>&hellip;</td><td>&hellip;</td><td>&hellip;</td><td>&hellip;</td><td>&hellip;</td><td>&hellip;</td><td>&hellip;</td><td>&hellip;</td><td>&hellip;</td><td>&hellip;</td><td>&hellip;</td><td>&hellip;</td><td>&hellip;</td><td>&hellip;</td><td>&hellip;</td><td>&hellip;</td><td>&hellip;</td><td>&hellip;</td></tr><tr><td>false</td><td>&quot;2&quot;</td><td>false</td><td>&quot;50 mégapixels+…</td><td>&quot;ASUS&quot;</td><td>&quot;8 Go&quot;</td><td>&quot;256 Go&quot;</td><td>&quot;9,20 mm&quot;</td><td>&quot;8 coeurs jusqu…</td><td>&quot;Plat&quot;</td><td>&quot;5G&quot;</td><td>true</td><td>&quot;Nano SIM (x2)&quot;</td><td>&quot;3,600 W/kg&quot;</td><td>&quot;68,10 mm&quot;</td><td>&quot;Noir&quot;</td><td>&quot;146,50 mm&quot;</td><td>1</td><td>&quot;8,2 /10&quot;</td><td>849.0</td><td>&quot;Pas de charge …</td><td>5.0</td><td>&quot;ASUS Zenfone 9…</td><td>&quot;1,560 W/kg&quot;</td><td>&quot;Chine&quot;</td><td>4300</td><td>&quot;1,300 W/kg&quot;</td><td>5.9</td><td>&quot;FHD+&quot;</td><td>&quot;169,00 g&quot;</td><td>2631.805464</td></tr><tr><td>true</td><td>&quot;4&quot;</td><td>true</td><td>&quot;48 mégapixels+…</td><td>&quot;XIAOMI&quot;</td><td>&quot;3 Go&quot;</td><td>&quot;64 Go&quot;</td><td>&quot;8,90 mm&quot;</td><td>&quot;8 coeurs jusqu…</td><td>&quot;Plat&quot;</td><td>&quot;4G&quot;</td><td>true</td><td>&quot;SIM&quot;</td><td>&quot;2,262 W/kg&quot;</td><td>&quot;162,30 mm&quot;</td><td>&quot;Gris&quot;</td><td>&quot;77,20 mm&quot;</td><td>62</td><td>&quot;7,1 /10&quot;</td><td>172.47</td><td>&quot;Pas de charge …</td><td>4.0161</td><td>&quot;XIAOMI Redmi N…</td><td>&quot;0,795 W/kg&quot;</td><td>null</td><td>5020</td><td>&quot;1,138 W/kg&quot;</td><td>6.5</td><td>&quot;IPS (LCD)&quot;</td><td>&quot;199,00 g&quot;</td><td>2631.805464</td></tr><tr><td>true</td><td>null</td><td>true</td><td>&quot;Non communiqué…</td><td>&quot;SAMSUNG&quot;</td><td>&quot;12 Go&quot;</td><td>&quot;128 Go&quot;</td><td>&quot;8,90 mm&quot;</td><td>&quot;Non communiqué…</td><td>&quot;Borderless&quot;</td><td>&quot;5G&quot;</td><td>true</td><td>&quot;Nano SIM&quot;</td><td>&quot;2,560 W/kg&quot;</td><td>&quot;165,10 mm&quot;</td><td>&quot;Noir&quot;</td><td>&quot;75,50 mm&quot;</td><td>0</td><td>&quot;8,1 /10&quot;</td><td>779.38</td><td>&quot;Pas de charge …</td><td>0.0</td><td>&quot;Samsung Galaxy…</td><td>&quot;0,710 W/kg&quot;</td><td>&quot;Chine&quot;</td><td>5000</td><td>&quot;1,580 W/kg&quot;</td><td>6.8</td><td>&quot;Non communiqué…</td><td>&quot;227,00 g&quot;</td><td>3509.073952</td></tr><tr><td>false</td><td>&quot;2&quot;</td><td>true</td><td>&quot;12 mégapixels+…</td><td>&quot;APPLE&quot;</td><td>&quot;4 Go&quot;</td><td>&quot;128 Go&quot;</td><td>&quot;7,40 mm&quot;</td><td>&quot;Puce A15&quot;</td><td>&quot;Plat&quot;</td><td>&quot;5G&quot;</td><td>false</td><td>&quot;Nano SIM et eS…</td><td>&quot;3,800 W/kg&quot;</td><td>&quot;146,70 mm&quot;</td><td>&quot;Noir&quot;</td><td>&quot;71,50 mm&quot;</td><td>160</td><td>&quot;6,0 /10&quot;</td><td>749.0</td><td>&quot;Possibilité de…</td><td>4.6687</td><td>&quot;iPhone 13&quot;</td><td>&quot;0,990 W/kg&quot;</td><td>&quot;Chine&quot;</td><td>2815</td><td>&quot;0,990 W/kg&quot;</td><td>6.1</td><td>&quot;Super Retina X…</td><td>&quot;173,00 g&quot;</td><td>2789.251513</td></tr><tr><td>false</td><td>&quot;3&quot;</td><td>true</td><td>&quot;12 mégapixels+…</td><td>&quot;SAMSUNG&quot;</td><td>&quot;8 Go&quot;</td><td>&quot;256 Go&quot;</td><td>null</td><td>&quot;8 coeurs jusqu…</td><td>&quot;Bords incurvés…</td><td>&quot;5G&quot;</td><td>true</td><td>&quot;Nano SIM&quot;</td><td>&quot;2,340 W/kg&quot;</td><td>null</td><td>&quot;Noir&quot;</td><td>null</td><td>0</td><td>&quot;8,2 /10&quot;</td><td>668.5</td><td>&quot;Possibilité de…</td><td>0.0</td><td>&quot;Samsung Galaxy…</td><td>&quot;0,260 W/kg&quot;</td><td>&quot;Viêt Nam&quot;</td><td>4500</td><td>&quot;1,551 W/kg&quot;</td><td>6.7</td><td>&quot;Dynamic AMOLED…</td><td>null</td><td>3363.807367</td></tr><tr><td>true</td><td>&quot;2&quot;</td><td>true</td><td>&quot;50 mégapixels+…</td><td>&quot;MOTOROLA&quot;</td><td>&quot;4 Go&quot;</td><td>&quot;128 Go&quot;</td><td>&quot;8,00 mm&quot;</td><td>&quot;8 coeurs jusqu…</td><td>&quot;Plat&quot;</td><td>&quot;4G&quot;</td><td>false</td><td>&quot;Nano SIM (x2) …</td><td>&quot;2,880 W/kg&quot;</td><td>&quot;162,00 mm&quot;</td><td>&quot;Bleu&quot;</td><td>&quot;7,40 mm&quot;</td><td>0</td><td>&quot;6,6 /10&quot;</td><td>179.0</td><td>&quot;Pas de charge …</td><td>0.0</td><td>&quot;Motorola G14&quot;</td><td>&quot;0,710 W/kg&quot;</td><td>&quot;Chine&quot;</td><td>5000</td><td>&quot;1,110 W/kg&quot;</td><td>6.5</td><td>&quot;LCD (LTPS) FHD…</td><td>&quot;177,00 g&quot;</td><td>2631.805464</td></tr><tr><td>false</td><td>null</td><td>true</td><td>&quot;50 mégapixels …</td><td>&quot;GOOGLE&quot;</td><td>&quot;12 Go&quot;</td><td>&quot;256 Go&quot;</td><td>&quot;0,90 mm&quot;</td><td>&quot;Google Tensor …</td><td>&quot;Plat&quot;</td><td>&quot;5G&quot;</td><td>true</td><td>&quot;2Nano sim ou 1…</td><td>&quot;2,500 W/kg&quot;</td><td>&quot;16,30 mm&quot;</td><td>&quot;Bleu&quot;</td><td>&quot;7,60 mm&quot;</td><td>0</td><td>&quot;8,2 /10&quot;</td><td>1159.0</td><td>&quot;Possibilité de…</td><td>0.0</td><td>&quot;Google Pixel 8…</td><td>&quot;0,840 W/kg&quot;</td><td>&quot;Viêt Nam&quot;</td><td>5000</td><td>&quot;1,200 W/kg&quot;</td><td>6.7</td><td>&quot;Super Actua ou…</td><td>null</td><td>3080.636298</td></tr><tr><td>true</td><td>&quot;3&quot;</td><td>true</td><td>&quot;48 mégapixels+…</td><td>&quot;VIVO&quot;</td><td>&quot;4 Go&quot;</td><td>&quot;128 Go&quot;</td><td>&quot;8,50 mm&quot;</td><td>&quot;8 coeurs jusqu…</td><td>&quot;Plat&quot;</td><td>&quot;5G&quot;</td><td>true</td><td>&quot;Nano SIM (x2) …</td><td>&quot;3,000 W/kg&quot;</td><td>&quot;164,00 mm&quot;</td><td>&quot;Noir&quot;</td><td>&quot;75,30 mm&quot;</td><td>5</td><td>&quot;7,9 /10&quot;</td><td>269.0</td><td>&quot;Pas de charge …</td><td>4.8</td><td>&quot;VIVO Y52&quot;</td><td>&quot;0,990 W/kg&quot;</td><td>&quot;Chine&quot;</td><td>5000</td><td>&quot;1,200 W/kg&quot;</td><td>6.6</td><td>&quot;IPS (LCD)&quot;</td><td>&quot;193,00 g&quot;</td><td>2631.805464</td></tr><tr><td>false</td><td>&quot;3&quot;</td><td>true</td><td>&quot;50 mégapixels+…</td><td>&quot;GOOGLE&quot;</td><td>&quot;8 Go&quot;</td><td>&quot;128 Go&quot;</td><td>&quot;8,70 mm&quot;</td><td>&quot;Google Tensor …</td><td>&quot;Plat&quot;</td><td>&quot;5G&quot;</td><td>true</td><td>&quot;Nano SIM et eS…</td><td>&quot;3,000 W/kg&quot;</td><td>&quot;155,60 mm&quot;</td><td>&quot;Vert&quot;</td><td>&quot;73,20 mm&quot;</td><td>56</td><td>&quot;7,2 /10&quot;</td><td>548.16</td><td>&quot;Possibilité de…</td><td>4.2679</td><td>&quot;Google Pixel 7…</td><td>&quot;0,990 W/kg&quot;</td><td>&quot;Viêt Nam&quot;</td><td>4270</td><td>&quot;1,400 W/kg&quot;</td><td>6.3</td><td>&quot;OLED FHD+&quot;</td><td>&quot;197,00 g&quot;</td><td>2631.805464</td></tr><tr><td>true</td><td>&quot;4&quot;</td><td>true</td><td>&quot;50 mégapixels+…</td><td>&quot;SAMSUNG&quot;</td><td>&quot;4 Go&quot;</td><td>&quot;64 Go&quot;</td><td>&quot;8,80 mm&quot;</td><td>&quot;8 coeurs jusqu…</td><td>&quot;Plat&quot;</td><td>&quot;4G&quot;</td><td>true</td><td>&quot;Dual SIM&quot;</td><td>&quot;2,800 W/kg&quot;</td><td>&quot;165,10 mm&quot;</td><td>&quot;Noir&quot;</td><td>&quot;76,40 mm&quot;</td><td>111</td><td>&quot;8,0 /10&quot;</td><td>212.4</td><td>&quot;Pas de charge …</td><td>4.4414</td><td>&quot;Samsung Galaxy…</td><td>&quot;0,367 W/kg&quot;</td><td>&quot;Viêt Nam&quot;</td><td>5000</td><td>&quot;1,390 W/kg&quot;</td><td>6.6</td><td>&quot;TFT (LCD)&quot;</td><td>&quot;195,00 g&quot;</td><td>2639.102878</td></tr><tr><td>true</td><td>null</td><td>true</td><td>&quot;Non communiqué…</td><td>&quot;XIAOMI&quot;</td><td>&quot;6 Go&quot;</td><td>&quot;128 Go&quot;</td><td>&quot;6,80 mm&quot;</td><td>&quot;Non communiqué…</td><td>&quot;Borderless&quot;</td><td>&quot;5G&quot;</td><td>true</td><td>&quot;Nano SIM&quot;</td><td>&quot;1,880 W/kg&quot;</td><td>&quot;160,50 mm&quot;</td><td>&quot;Noir&quot;</td><td>&quot;75,70 mm&quot;</td><td>0</td><td>&quot;7,3 /10&quot;</td><td>320.0</td><td>&quot;Pas de charge …</td><td>0.0</td><td>&quot;XIAOMI Mi 11 L…</td><td>&quot;0,555 W/kg&quot;</td><td>&quot;Chine&quot;</td><td>4250</td><td>&quot;0,889 W/kg&quot;</td><td>6.6</td><td>&quot;Non communiqué…</td><td>&quot;159,00 g&quot;</td><td>2631.805464</td></tr><tr><td>true</td><td>&quot;4&quot;</td><td>true</td><td>&quot;50 mégapixels+…</td><td>&quot;MOTOROLA&quot;</td><td>&quot;4 Go&quot;</td><td>&quot;64 Go&quot;</td><td>&quot;9,10 mm&quot;</td><td>&quot;8 coeurs jusqu…</td><td>&quot;Plat&quot;</td><td>&quot;5G&quot;</td><td>true</td><td>&quot;Nano SIM (x2)&quot;</td><td>&quot;3,190 W/kg&quot;</td><td>&quot;170,50 mm&quot;</td><td>&quot;Bleu&quot;</td><td>&quot;76,50 mm&quot;</td><td>1</td><td>&quot;7,4 /10&quot;</td><td>249.0</td><td>&quot;Pas de charge …</td><td>1.0</td><td>&quot;Motorola Moto …</td><td>&quot;1,490 W/kg&quot;</td><td>&quot;Chine&quot;</td><td>5000</td><td>&quot;1,490 W/kg&quot;</td><td>6.8</td><td>&quot;FHD+&quot;</td><td>&quot;208,00 g&quot;</td><td>2631.805464</td></tr></tbody></table></div>"
      ],
      "text/plain": [
       "shape: (436, 31)\n",
       "┌────────────┬────────┬────────────┬───────────┬───┬───────────┬───────────┬───────────┬───────────┐\n",
       "│ upgrade_st ┆ sensor ┆ fast_charg ┆ sensor_re ┆ … ┆ screen_si ┆ screen_te ┆ net_weigh ┆ diagonal_ │\n",
       "│ orage      ┆ ---    ┆ ing        ┆ solution  ┆   ┆ ze        ┆ ch        ┆ t         ┆ pixels    │\n",
       "│ ---        ┆ str    ┆ ---        ┆ ---       ┆   ┆ ---       ┆ ---       ┆ ---       ┆ ---       │\n",
       "│ bool       ┆        ┆ bool       ┆ str       ┆   ┆ f64       ┆ str       ┆ str       ┆ f64       │\n",
       "╞════════════╪════════╪════════════╪═══════════╪═══╪═══════════╪═══════════╪═══════════╪═══════════╡\n",
       "│ true       ┆ 3      ┆ true       ┆ 12 mégapi ┆ … ┆ 6.1       ┆ OLED FHD+ ┆ 0,00 g    ┆ 2741.6783 │\n",
       "│            ┆        ┆            ┆ xels+ 12  ┆   ┆           ┆           ┆           ┆ 18        │\n",
       "│            ┆        ┆            ┆ mégapixel ┆   ┆           ┆           ┆           ┆           │\n",
       "│            ┆        ┆            ┆ s+ 12…    ┆   ┆           ┆           ┆           ┆           │\n",
       "│ false      ┆ 3      ┆ true       ┆ 50 mégapi ┆ … ┆ 6.1       ┆ Dynamic   ┆ 167,00 g  ┆ 2577.2077 │\n",
       "│            ┆        ┆            ┆ xels+ 12  ┆   ┆           ┆ AMOLED    ┆           ┆ 91        │\n",
       "│            ┆        ┆            ┆ mégapixel ┆   ┆           ┆           ┆           ┆           │\n",
       "│            ┆        ┆            ┆ s+ 10…    ┆   ┆           ┆           ┆           ┆           │\n",
       "│ true       ┆ 2      ┆ false      ┆ 50 mégapi ┆ … ┆ 6.5       ┆ LCD       ┆ 183,00 g  ┆ 1754.5369 │\n",
       "│            ┆        ┆            ┆ xels+ 2   ┆   ┆           ┆           ┆           ┆ 76        │\n",
       "│            ┆        ┆            ┆ mégapixel ┆   ┆           ┆           ┆           ┆           │\n",
       "│            ┆        ┆            ┆ s         ┆   ┆           ┆           ┆           ┆           │\n",
       "│ false      ┆ 3      ┆ true       ┆ 50 mégapi ┆ … ┆ 6.2       ┆ Actua ou  ┆ null      ┆ 2631.8054 │\n",
       "│            ┆        ┆            ┆ xels+ 12  ┆   ┆           ┆ OLED FHD+ ┆           ┆ 64        │\n",
       "│            ┆        ┆            ┆ mégapixel ┆   ┆           ┆           ┆           ┆           │\n",
       "│            ┆        ┆            ┆ s+ 10…    ┆   ┆           ┆           ┆           ┆           │\n",
       "│ …          ┆ …      ┆ …          ┆ …         ┆ … ┆ …         ┆ …         ┆ …         ┆ …         │\n",
       "│ false      ┆ 3      ┆ true       ┆ 50 mégapi ┆ … ┆ 6.3       ┆ OLED FHD+ ┆ 197,00 g  ┆ 2631.8054 │\n",
       "│            ┆        ┆            ┆ xels+ 20  ┆   ┆           ┆           ┆           ┆ 64        │\n",
       "│            ┆        ┆            ┆ mégapixel ┆   ┆           ┆           ┆           ┆           │\n",
       "│            ┆        ┆            ┆ s+ 12…    ┆   ┆           ┆           ┆           ┆           │\n",
       "│ true       ┆ 4      ┆ true       ┆ 50 mégapi ┆ … ┆ 6.6       ┆ TFT (LCD) ┆ 195,00 g  ┆ 2639.1028 │\n",
       "│            ┆        ┆            ┆ xels+ 5   ┆   ┆           ┆           ┆           ┆ 78        │\n",
       "│            ┆        ┆            ┆ mégapixel ┆   ┆           ┆           ┆           ┆           │\n",
       "│            ┆        ┆            ┆ s + 2 …   ┆   ┆           ┆           ┆           ┆           │\n",
       "│ true       ┆ null   ┆ true       ┆ Non commu ┆ … ┆ 6.6       ┆ Non commu ┆ 159,00 g  ┆ 2631.8054 │\n",
       "│            ┆        ┆            ┆ niqué     ┆   ┆           ┆ niqué     ┆           ┆ 64        │\n",
       "│ true       ┆ 4      ┆ true       ┆ 50 mégapi ┆ … ┆ 6.8       ┆ FHD+      ┆ 208,00 g  ┆ 2631.8054 │\n",
       "│            ┆        ┆            ┆ xels+ 8   ┆   ┆           ┆           ┆           ┆ 64        │\n",
       "│            ┆        ┆            ┆ mégapixel ┆   ┆           ┆           ┆           ┆           │\n",
       "│            ┆        ┆            ┆ s + 2 …   ┆   ┆           ┆           ┆           ┆           │\n",
       "└────────────┴────────┴────────────┴───────────┴───┴───────────┴───────────┴───────────┴───────────┘"
      ]
     },
     "execution_count": 5,
     "metadata": {},
     "output_type": "execute_result"
    }
   ],
   "source": [
    "df"
   ]
  },
  {
   "cell_type": "code",
   "execution_count": 26,
   "metadata": {},
   "outputs": [
    {
     "data": {
      "text/plain": [
       "array([['Realme 9 Pro', 3.6666998863220215, 3],\n",
       "       ['ASUS ROG Phone 6', 3.0, 1],\n",
       "       ['Google Pixel 7a', 2.75, 4],\n",
       "       ['XIAOMI Redmi Note 12', 3.4000000953674316, 5],\n",
       "       ['OPPO Find X5 Lite', 3.5999999046325684, 15],\n",
       "       ['Honor X7A', 3.923099994659424, 13],\n",
       "       ['Xiaomi 13', 3.0, 1],\n",
       "       ['ASUS ROG Phone 6', 3.0, 1],\n",
       "       ['Samsung Galaxy A13', 3.6666998863220215, 3],\n",
       "       ['Sony Xperia 5 IV', 3.4000000953674316, 5],\n",
       "       ['XIAOMI Redmi Note 12 Pro', 3.3076999187469482, 13],\n",
       "       ['Xiaomi Redmi 9A', 3.0, 1],\n",
       "       ['Xiaomi 11T', 3.9544999599456787, 22],\n",
       "       ['iPhone 14', 1.0, 1],\n",
       "       ['XIAOMI Redmi 10A', 3.5, 2],\n",
       "       ['SONY Xperia 10 V', 3.0, 3],\n",
       "       ['Xiaomi Redmi 12 4G', 3.5999999046325684, 10],\n",
       "       ['VIVO V21', 3.727299928665161, 11],\n",
       "       ['Google Pixel 7a', 3.0, 1],\n",
       "       ['Xiaomi Redmi Note 11', 3.766700029373169, 30],\n",
       "       ['Xiaomi Redmi A1', 2.0, 1],\n",
       "       ['SONY Xperia 10 V', 3.0, 1],\n",
       "       ['Xiaomi Redmi A1', 3.799999952316284, 5],\n",
       "       ['Xiaomi Redmi A1', 1.0, 1],\n",
       "       ['XIAOMI Redmi Note 12 Pro Plus 5G', 3.6666998863220215, 6],\n",
       "       ['XIAOMI Redmi 12C', 3.3333001136779785, 3],\n",
       "       ['Realme 9 Pro', 3.6666998863220215, 3],\n",
       "       ['Sony Xperia 1 III', 3.0, 2],\n",
       "       ['Xiaomi 11T', 3.9544999599456787, 22],\n",
       "       ['XIAOMI Redmi Note 12', 3.5, 16],\n",
       "       ['XIAOMI Redmi 9C', 3.18179988861084, 11],\n",
       "       ['Motorola Moto G', 1.0, 1]], dtype=object)"
      ]
     },
     "execution_count": 26,
     "metadata": {},
     "output_type": "execute_result"
    }
   ],
   "source": [
    "df.select(\"model\", \"stars\", \"reviews\").filter(\n",
    "    (pl.col(\"reviews\") > 0) & (pl.col(\"stars\") < 4)\n",
    ").to_numpy()"
   ]
  },
  {
   "cell_type": "code",
   "execution_count": 5,
   "metadata": {},
   "outputs": [
    {
     "data": {
      "text/html": [
       "<div><style>\n",
       ".dataframe > thead > tr > th,\n",
       ".dataframe > tbody > tr > td {\n",
       "  text-align: right;\n",
       "  white-space: pre-wrap;\n",
       "}\n",
       "</style>\n",
       "<small>shape: (14, 2)</small><table border=\"1\" class=\"dataframe\"><thead><tr><th>brand</th><th>count</th></tr><tr><td>str</td><td>u32</td></tr></thead><tbody><tr><td>&quot;APPLE&quot;</td><td>46</td></tr><tr><td>&quot;REALME&quot;</td><td>14</td></tr><tr><td>&quot;SAMSUNG&quot;</td><td>129</td></tr><tr><td>&quot;HONOR&quot;</td><td>14</td></tr><tr><td>&quot;NOTHING&quot;</td><td>7</td></tr><tr><td>&quot;XIAOMI&quot;</td><td>105</td></tr><tr><td>&quot;SONY&quot;</td><td>15</td></tr><tr><td>&quot;VIVO&quot;</td><td>9</td></tr><tr><td>&quot;FAIRPHONE&quot;</td><td>3</td></tr><tr><td>&quot;OPPO&quot;</td><td>18</td></tr><tr><td>&quot;MOTOROLA&quot;</td><td>32</td></tr><tr><td>&quot;GOOGLE&quot;</td><td>25</td></tr><tr><td>&quot;ASUS&quot;</td><td>12</td></tr><tr><td>&quot;ONEPLUS&quot;</td><td>7</td></tr></tbody></table></div>"
      ],
      "text/plain": [
       "shape: (14, 2)\n",
       "┌──────────┬───────┐\n",
       "│ brand    ┆ count │\n",
       "│ ---      ┆ ---   │\n",
       "│ str      ┆ u32   │\n",
       "╞══════════╪═══════╡\n",
       "│ APPLE    ┆ 46    │\n",
       "│ REALME   ┆ 14    │\n",
       "│ SAMSUNG  ┆ 129   │\n",
       "│ HONOR    ┆ 14    │\n",
       "│ …        ┆ …     │\n",
       "│ MOTOROLA ┆ 32    │\n",
       "│ GOOGLE   ┆ 25    │\n",
       "│ ASUS     ┆ 12    │\n",
       "│ ONEPLUS  ┆ 7     │\n",
       "└──────────┴───────┘"
      ]
     },
     "execution_count": 5,
     "metadata": {},
     "output_type": "execute_result"
    }
   ],
   "source": [
    "df.group_by(\"brand\").count()"
   ]
  },
  {
   "cell_type": "markdown",
   "metadata": {},
   "source": [
    "- l'OS est il à garder ? pas sûr car il n'y a en vérité que deux choix d'OS aujourd'hui, et étant donné que l'information est forcément comprise dans les marques (Apple = iOS) et (Tous les autres = Android) ce n'est pas forcément utile"
   ]
  },
  {
   "cell_type": "code",
   "execution_count": 6,
   "metadata": {},
   "outputs": [
    {
     "data": {
      "text/html": [
       "<div><style>\n",
       ".dataframe > thead > tr > th,\n",
       ".dataframe > tbody > tr > td {\n",
       "  text-align: right;\n",
       "  white-space: pre-wrap;\n",
       "}\n",
       "</style>\n",
       "<small>shape: (6, 2)</small><table border=\"1\" class=\"dataframe\"><thead><tr><th>storage</th><th>price</th></tr><tr><td>str</td><td>f64</td></tr></thead><tbody><tr><td>&quot;32 Go&quot;</td><td>116.647407</td></tr><tr><td>&quot;64 Go&quot;</td><td>211.716964</td></tr><tr><td>&quot;128 Go&quot;</td><td>495.199235</td></tr><tr><td>&quot;256 Go&quot;</td><td>884.259464</td></tr><tr><td>&quot;512 Go&quot;</td><td>1214.744324</td></tr><tr><td>&quot;1000 Go&quot;</td><td>1752.29375</td></tr></tbody></table></div>"
      ],
      "text/plain": [
       "shape: (6, 2)\n",
       "┌─────────┬─────────────┐\n",
       "│ storage ┆ price       │\n",
       "│ ---     ┆ ---         │\n",
       "│ str     ┆ f64         │\n",
       "╞═════════╪═════════════╡\n",
       "│ 32 Go   ┆ 116.647407  │\n",
       "│ 64 Go   ┆ 211.716964  │\n",
       "│ 128 Go  ┆ 495.199235  │\n",
       "│ 256 Go  ┆ 884.259464  │\n",
       "│ 512 Go  ┆ 1214.744324 │\n",
       "│ 1000 Go ┆ 1752.29375  │\n",
       "└─────────┴─────────────┘"
      ]
     },
     "execution_count": 6,
     "metadata": {},
     "output_type": "execute_result"
    }
   ],
   "source": [
    "df.select(\"price\", \"storage\").group_by(\"storage\").mean().sort(\"price\")"
   ]
  },
  {
   "cell_type": "code",
   "execution_count": 7,
   "metadata": {},
   "outputs": [
    {
     "data": {
      "text/html": [
       "<div><style>\n",
       ".dataframe > thead > tr > th,\n",
       ".dataframe > tbody > tr > td {\n",
       "  text-align: right;\n",
       "  white-space: pre-wrap;\n",
       "}\n",
       "</style>\n",
       "<small>shape: (7, 2)</small><table border=\"1\" class=\"dataframe\"><thead><tr><th>ram</th><th>price</th></tr><tr><td>str</td><td>f64</td></tr></thead><tbody><tr><td>&quot;2 Go&quot;</td><td>110.109048</td></tr><tr><td>&quot;3 Go&quot;</td><td>158.240588</td></tr><tr><td>&quot;4 Go&quot;</td><td>413.402542</td></tr><tr><td>&quot;6 Go&quot;</td><td>462.522203</td></tr><tr><td>&quot;8 Go&quot;</td><td>686.67741</td></tr><tr><td>&quot;16 Go&quot;</td><td>1106.142857</td></tr><tr><td>&quot;12 Go&quot;</td><td>1144.023733</td></tr></tbody></table></div>"
      ],
      "text/plain": [
       "shape: (7, 2)\n",
       "┌───────┬─────────────┐\n",
       "│ ram   ┆ price       │\n",
       "│ ---   ┆ ---         │\n",
       "│ str   ┆ f64         │\n",
       "╞═══════╪═════════════╡\n",
       "│ 2 Go  ┆ 110.109048  │\n",
       "│ 3 Go  ┆ 158.240588  │\n",
       "│ 4 Go  ┆ 413.402542  │\n",
       "│ 6 Go  ┆ 462.522203  │\n",
       "│ 8 Go  ┆ 686.67741   │\n",
       "│ 16 Go ┆ 1106.142857 │\n",
       "│ 12 Go ┆ 1144.023733 │\n",
       "└───────┴─────────────┘"
      ]
     },
     "execution_count": 7,
     "metadata": {},
     "output_type": "execute_result"
    }
   ],
   "source": [
    "df.select(\"price\", \"ram\").group_by(\"ram\").mean().sort(\"price\")"
   ]
  },
  {
   "cell_type": "code",
   "execution_count": 8,
   "metadata": {},
   "outputs": [
    {
     "data": {
      "text/html": [
       "<div><style>\n",
       ".dataframe > thead > tr > th,\n",
       ".dataframe > tbody > tr > td {\n",
       "  text-align: right;\n",
       "  white-space: pre-wrap;\n",
       "}\n",
       "</style>\n",
       "<small>shape: (4, 2)</small><table border=\"1\" class=\"dataframe\"><thead><tr><th>screen_type</th><th>price</th></tr><tr><td>str</td><td>f64</td></tr></thead><tbody><tr><td>&quot;Borderless&quot;</td><td>384.885694</td></tr><tr><td>&quot;Plat&quot;</td><td>574.416341</td></tr><tr><td>&quot;Bords incurvés…</td><td>655.793</td></tr><tr><td>&quot;Pliable&quot;</td><td>1451.512162</td></tr></tbody></table></div>"
      ],
      "text/plain": [
       "shape: (4, 2)\n",
       "┌────────────────┬─────────────┐\n",
       "│ screen_type    ┆ price       │\n",
       "│ ---            ┆ ---         │\n",
       "│ str            ┆ f64         │\n",
       "╞════════════════╪═════════════╡\n",
       "│ Borderless     ┆ 384.885694  │\n",
       "│ Plat           ┆ 574.416341  │\n",
       "│ Bords incurvés ┆ 655.793     │\n",
       "│ Pliable        ┆ 1451.512162 │\n",
       "└────────────────┴─────────────┘"
      ]
     },
     "execution_count": 8,
     "metadata": {},
     "output_type": "execute_result"
    }
   ],
   "source": [
    "df.select(\"price\", \"screen_type\").group_by(\"screen_type\").mean()"
   ]
  },
  {
   "cell_type": "code",
   "execution_count": 17,
   "metadata": {},
   "outputs": [
    {
     "data": {
      "application/vnd.plotly.v1+json": {
       "config": {
        "plotlyServerURL": "https://plot.ly"
       },
       "data": [
        {
         "alignmentgroup": "True",
         "bingroup": "x",
         "histnorm": "probability",
         "hovertemplate": "diagonal_pixels=%{x}<br>probability=%{y}<extra></extra>",
         "legendgroup": "",
         "marker": {
          "color": "#636efa",
          "pattern": {
           "shape": ""
          }
         },
         "name": "",
         "offsetgroup": "",
         "orientation": "v",
         "showlegend": false,
         "type": "histogram",
         "x": [
          2741.678318111007,
          2577.2077913897438,
          1754.5369759569046,
          2631.8054639353572,
          1754.5369759569046,
          2631.8054639353572,
          3436.2770551863246,
          2631.8054639353572,
          2631.8054639353572,
          3080.6362979098976,
          2631.8054639353572,
          3060.3823290562896,
          2789.251512502951,
          2577.2077913897438,
          3060.3823290562896,
          2631.8054639353572,
          2789.251512502951,
          2639.102877873464,
          2577.2077913897438,
          2577.2077913897438,
          2789.251512502951,
          3407.2487434879185,
          2789.251512502951,
          2642.7531099215453,
          2631.8054639353572,
          2631.8054639353572,
          2631.8054639353572,
          2631.8054639353572,
          2631.8054639353572,
          2631.8054639353572,
          2577.2077913897438,
          1754.5369759569046,
          1754.5369759569046,
          2675.650201352935,
          2577.2077913897438,
          1754.5369759569046,
          2631.8054639353572,
          2577.2077913897438,
          2577.2077913897438,
          2577.2077913897438,
          2631.8054639353572,
          2577.2077913897438,
          1754.5369759569046,
          1974.043565881969,
          3407.2487434879185,
          1754.5369759569046,
          2642.7531099215453,
          2831.6638218545645,
          2831.6638218545645,
          2631.8054639353572,
          2577.2077913897438,
          1754.5369759569046,
          2831.6638218545645,
          2814.8138481967153,
          2631.8054639353572,
          3523.670813228727,
          3060.3823290562896,
          3523.670813228727,
          2631.8054639353572,
          2577.2077913897438,
          2631.8054639353572,
          2620.867032109794,
          2631.8054639353572,
          3407.2487434879185,
          2831.6638218545645,
          2631.8054639353572,
          2828.619451251794,
          2631.8054639353572,
          1645.8432489152788,
          2631.8054639353572,
          2631.8054639353572,
          3407.2487434879185,
          2631.8054639353572,
          2789.251512502951,
          2631.8054639353572,
          2631.8054639353572,
          1754.5369759569046,
          2577.2077913897438,
          2631.8054639353572,
          2631.8054639353572,
          2631.8054639353572,
          2642.7531099215453,
          2639.102877873464,
          3407.2487434879185,
          2639.102877873464,
          1754.5369759569046,
          2789.251512502951,
          3407.2487434879185,
          1754.5369759569046,
          2631.8054639353572,
          1800.2499826412998,
          2852.367437761131,
          3407.2487434879185,
          2631.8054639353572,
          2831.6638218545645,
          2789.251512502951,
          2631.8054639353572,
          3135.673452386265,
          1645.8432489152788,
          2631.8054639353572,
          2741.678318111007,
          2789.251512502951,
          2577.2077913897438,
          1754.5369759569046,
          1754.5369759569046,
          2631.8054639353572,
          2631.8054639353572,
          2631.8054639353572,
          2639.102877873464,
          2642.7531099215453,
          1800.2499826412998,
          2675.650201352935,
          2921.7967075072147,
          3080.6362979098976,
          2631.8054639353572,
          1754.5369759569046,
          2741.678318111007,
          1754.5369759569046,
          3080.6362979098976,
          3407.2487434879185,
          2973.7760507476014,
          2492.1709411675597,
          3080.6362979098976,
          2631.8054639353572,
          2631.8054639353572,
          1754.5369759569046,
          2631.8054639353572,
          1974.043565881969,
          2631.8054639353572,
          1754.5369759569046,
          2675.650201352935,
          1754.5369759569046,
          2852.367437761131,
          2789.251512502951,
          2631.8054639353572,
          1754.5369759569046,
          2675.650201352935,
          2852.367437761131,
          2789.251512502951,
          2631.8054639353572,
          2577.2077913897438,
          3523.670813228727,
          2577.2077913897438,
          1754.5369759569046,
          3523.670813228727,
          2639.102877873464,
          2789.251512502951,
          2631.8054639353572,
          2789.251512502951,
          2831.6638218545645,
          2639.102877873464,
          2631.8054639353572,
          2577.2077913897438,
          2631.8054639353572,
          2631.8054639353572,
          2642.7531099215453,
          2828.619451251794,
          3407.2487434879185,
          1754.5369759569046,
          2814.8138481967153,
          2966.1395786442686,
          2631.8054639353572,
          2577.2077913897438,
          2631.8054639353572,
          2631.8054639353572,
          1754.5369759569046,
          2492.1709411675597,
          3523.670813228727,
          2789.251512502951,
          2631.8054639353572,
          2631.8054639353572,
          2631.8054639353572,
          3060.3823290562896,
          2921.7967075072147,
          1754.5369759569046,
          1754.5369759569046,
          2631.8054639353572,
          4405.814340164597,
          2852.367437761131,
          3060.3823290562896,
          2639.102877873464,
          2631.8054639353572,
          2631.8054639353572,
          1754.5369759569046,
          2639.102877873464,
          2852.367437761131,
          2631.8054639353572,
          2631.8054639353572,
          2631.8054639353572,
          2631.8054639353572,
          2631.8054639353572,
          2639.102877873464,
          2848.66565254682,
          2831.6638218545645,
          1754.5369759569046,
          2631.8054639353572,
          1754.5369759569046,
          2631.8054639353572,
          2631.8054639353572,
          2631.8054639353572,
          2828.619451251794,
          2631.8054639353572,
          2577.2077913897438,
          2852.367437761131,
          2852.367437761131,
          2631.8054639353572,
          2631.8054639353572,
          2631.8054639353572,
          2577.2077913897438,
          3509.073951913809,
          2831.6638218545645,
          2639.102877873464,
          2631.8054639353572,
          2852.367437761131,
          3080.6362979098976,
          2631.8054639353572,
          2631.8054639353572,
          2631.8054639353572,
          2631.8054639353572,
          1974.043565881969,
          2620.867032109794,
          3060.3823290562896,
          2789.251512502951,
          2852.367437761131,
          3135.673452386265,
          2577.2077913897438,
          2631.8054639353572,
          2631.8054639353572,
          3509.073951913809,
          4405.814340164597,
          2577.2077913897438,
          1791.0890541790488,
          2631.8054639353572,
          2831.6638218545645,
          1754.5369759569046,
          2686.6335812685734,
          2639.102877873464,
          2973.7760507476014,
          4405.814340164597,
          2577.2077913897438,
          2828.619451251794,
          2577.2077913897438,
          2631.8054639353572,
          1754.5369759569046,
          2741.678318111007,
          1974.043565881969,
          2577.2077913897438,
          2631.8054639353572,
          2492.1709411675597,
          2631.8054639353572,
          2741.678318111007,
          2631.8054639353572,
          2631.8054639353572,
          1800.2499826412998,
          2631.8054639353572,
          3523.670813228727,
          1754.5369759569046,
          2631.8054639353572,
          1754.5369759569046,
          2973.7760507476014,
          2789.251512502951,
          2631.8054639353572,
          2631.8054639353572,
          2577.2077913897438,
          2577.2077913897438,
          2789.251512502951,
          3079.2395165040343,
          1791.0890541790488,
          1754.5369759569046,
          2741.678318111007,
          2639.102877873464,
          2492.1709411675597,
          2852.367437761131,
          2414.953415699773,
          2631.8054639353572,
          2631.8054639353572,
          2631.8054639353572,
          2831.6638218545645,
          2814.8138481967153,
          2631.8054639353572,
          2631.8054639353572,
          1754.5369759569046,
          2631.8054639353572,
          2631.8054639353572,
          2631.8054639353572,
          1800.2499826412998,
          1754.5369759569046,
          2631.8054639353572,
          2577.2077913897438,
          2631.8054639353572,
          2492.1709411675597,
          1800.2499826412998,
          2631.8054639353572,
          2631.8054639353572,
          2852.367437761131,
          2631.8054639353572,
          2852.367437761131,
          2577.2077913897438,
          1791.0890541790488,
          2639.102877873464,
          2577.2077913897438,
          2577.2077913897438,
          2852.367437761131,
          2631.8054639353572,
          3060.3823290562896,
          2577.2077913897438,
          2577.2077913897438,
          2577.2077913897438,
          2577.2077913897438,
          2577.2077913897438,
          2831.6638218545645,
          2789.251512502951,
          1754.5369759569046,
          2789.251512502951,
          2831.6638218545645,
          1754.5369759569046,
          2631.8054639353572,
          2631.8054639353572,
          3407.2487434879185,
          2631.8054639353572,
          2631.8054639353572,
          2577.2077913897438,
          2639.102877873464,
          2577.2077913897438,
          2620.867032109794,
          2789.251512502951,
          2631.8054639353572,
          2631.8054639353572,
          2789.251512502951,
          2852.367437761131,
          2831.6638218545645,
          2831.6638218545645,
          1754.5369759569046,
          2631.8054639353572,
          2631.8054639353572,
          3436.2770551863246,
          2631.8054639353572,
          2492.1709411675597,
          2631.8054639353572,
          2789.251512502951,
          2631.8054639353572,
          3060.3823290562896,
          2631.8054639353572,
          3060.3823290562896,
          1754.5369759569046,
          2631.8054639353572,
          2741.678318111007,
          3407.2487434879185,
          2631.8054639353572,
          2852.367437761131,
          2631.8054639353572,
          2852.367437761131,
          2831.6638218545645,
          2631.8054639353572,
          2631.8054639353572,
          2631.8054639353572,
          4405.814340164597,
          1754.5369759569046,
          3523.670813228727,
          2631.8054639353572,
          2639.102877873464,
          2631.8054639353572,
          1791.0890541790488,
          2631.8054639353572,
          2631.8054639353572,
          3407.2487434879185,
          2631.8054639353572,
          2577.2077913897438,
          1754.5369759569046,
          3436.2770551863246,
          2631.8054639353572,
          2852.367437761131,
          2631.8054639353572,
          2631.8054639353572,
          3080.6362979098976,
          2577.2077913897438,
          2631.8054639353572,
          4405.814340164597,
          1754.5369759569046,
          2675.650201352935,
          2852.367437761131,
          3060.3823290562896,
          2741.678318111007,
          2631.8054639353572,
          2639.102877873464,
          2973.7760507476014,
          2852.367437761131,
          2631.8054639353572,
          1800.2499826412998,
          1754.5369759569046,
          2921.7967075072147,
          1791.0890541790488,
          2631.8054639353572,
          4405.814340164597,
          4405.814340164597,
          2852.367437761131,
          3407.2487434879185,
          2631.8054639353572,
          2789.251512502951,
          1754.5369759569046,
          2631.8054639353572,
          1791.0890541790488,
          3060.3823290562896,
          2814.8138481967153,
          1530.3777311500583,
          2631.8054639353572,
          1800.2499826412998,
          2631.8054639353572,
          2631.8054639353572,
          1754.5369759569046,
          2631.8054639353572,
          2631.8054639353572,
          2631.8054639353572,
          2631.8054639353572,
          2631.8054639353572,
          2577.2077913897438,
          2577.2077913897438,
          1754.5369759569046,
          2631.8054639353572,
          3436.2770551863246,
          3070.439707924583,
          2631.8054639353572,
          2639.102877873464,
          1754.5369759569046,
          2631.8054639353572,
          2631.8054639353572,
          3509.073951913809,
          2789.251512502951,
          3363.807366660582,
          2631.8054639353572,
          3080.6362979098976,
          2631.8054639353572,
          2631.8054639353572,
          2639.102877873464,
          2631.8054639353572,
          2631.8054639353572
         ],
         "xaxis": "x",
         "yaxis": "y"
        }
       ],
       "layout": {
        "barmode": "relative",
        "legend": {
         "tracegroupgap": 0
        },
        "margin": {
         "t": 60
        },
        "template": {
         "data": {
          "bar": [
           {
            "error_x": {
             "color": "#2a3f5f"
            },
            "error_y": {
             "color": "#2a3f5f"
            },
            "marker": {
             "line": {
              "color": "#E5ECF6",
              "width": 0.5
             },
             "pattern": {
              "fillmode": "overlay",
              "size": 10,
              "solidity": 0.2
             }
            },
            "type": "bar"
           }
          ],
          "barpolar": [
           {
            "marker": {
             "line": {
              "color": "#E5ECF6",
              "width": 0.5
             },
             "pattern": {
              "fillmode": "overlay",
              "size": 10,
              "solidity": 0.2
             }
            },
            "type": "barpolar"
           }
          ],
          "carpet": [
           {
            "aaxis": {
             "endlinecolor": "#2a3f5f",
             "gridcolor": "white",
             "linecolor": "white",
             "minorgridcolor": "white",
             "startlinecolor": "#2a3f5f"
            },
            "baxis": {
             "endlinecolor": "#2a3f5f",
             "gridcolor": "white",
             "linecolor": "white",
             "minorgridcolor": "white",
             "startlinecolor": "#2a3f5f"
            },
            "type": "carpet"
           }
          ],
          "choropleth": [
           {
            "colorbar": {
             "outlinewidth": 0,
             "ticks": ""
            },
            "type": "choropleth"
           }
          ],
          "contour": [
           {
            "colorbar": {
             "outlinewidth": 0,
             "ticks": ""
            },
            "colorscale": [
             [
              0,
              "#0d0887"
             ],
             [
              0.1111111111111111,
              "#46039f"
             ],
             [
              0.2222222222222222,
              "#7201a8"
             ],
             [
              0.3333333333333333,
              "#9c179e"
             ],
             [
              0.4444444444444444,
              "#bd3786"
             ],
             [
              0.5555555555555556,
              "#d8576b"
             ],
             [
              0.6666666666666666,
              "#ed7953"
             ],
             [
              0.7777777777777778,
              "#fb9f3a"
             ],
             [
              0.8888888888888888,
              "#fdca26"
             ],
             [
              1,
              "#f0f921"
             ]
            ],
            "type": "contour"
           }
          ],
          "contourcarpet": [
           {
            "colorbar": {
             "outlinewidth": 0,
             "ticks": ""
            },
            "type": "contourcarpet"
           }
          ],
          "heatmap": [
           {
            "colorbar": {
             "outlinewidth": 0,
             "ticks": ""
            },
            "colorscale": [
             [
              0,
              "#0d0887"
             ],
             [
              0.1111111111111111,
              "#46039f"
             ],
             [
              0.2222222222222222,
              "#7201a8"
             ],
             [
              0.3333333333333333,
              "#9c179e"
             ],
             [
              0.4444444444444444,
              "#bd3786"
             ],
             [
              0.5555555555555556,
              "#d8576b"
             ],
             [
              0.6666666666666666,
              "#ed7953"
             ],
             [
              0.7777777777777778,
              "#fb9f3a"
             ],
             [
              0.8888888888888888,
              "#fdca26"
             ],
             [
              1,
              "#f0f921"
             ]
            ],
            "type": "heatmap"
           }
          ],
          "heatmapgl": [
           {
            "colorbar": {
             "outlinewidth": 0,
             "ticks": ""
            },
            "colorscale": [
             [
              0,
              "#0d0887"
             ],
             [
              0.1111111111111111,
              "#46039f"
             ],
             [
              0.2222222222222222,
              "#7201a8"
             ],
             [
              0.3333333333333333,
              "#9c179e"
             ],
             [
              0.4444444444444444,
              "#bd3786"
             ],
             [
              0.5555555555555556,
              "#d8576b"
             ],
             [
              0.6666666666666666,
              "#ed7953"
             ],
             [
              0.7777777777777778,
              "#fb9f3a"
             ],
             [
              0.8888888888888888,
              "#fdca26"
             ],
             [
              1,
              "#f0f921"
             ]
            ],
            "type": "heatmapgl"
           }
          ],
          "histogram": [
           {
            "marker": {
             "pattern": {
              "fillmode": "overlay",
              "size": 10,
              "solidity": 0.2
             }
            },
            "type": "histogram"
           }
          ],
          "histogram2d": [
           {
            "colorbar": {
             "outlinewidth": 0,
             "ticks": ""
            },
            "colorscale": [
             [
              0,
              "#0d0887"
             ],
             [
              0.1111111111111111,
              "#46039f"
             ],
             [
              0.2222222222222222,
              "#7201a8"
             ],
             [
              0.3333333333333333,
              "#9c179e"
             ],
             [
              0.4444444444444444,
              "#bd3786"
             ],
             [
              0.5555555555555556,
              "#d8576b"
             ],
             [
              0.6666666666666666,
              "#ed7953"
             ],
             [
              0.7777777777777778,
              "#fb9f3a"
             ],
             [
              0.8888888888888888,
              "#fdca26"
             ],
             [
              1,
              "#f0f921"
             ]
            ],
            "type": "histogram2d"
           }
          ],
          "histogram2dcontour": [
           {
            "colorbar": {
             "outlinewidth": 0,
             "ticks": ""
            },
            "colorscale": [
             [
              0,
              "#0d0887"
             ],
             [
              0.1111111111111111,
              "#46039f"
             ],
             [
              0.2222222222222222,
              "#7201a8"
             ],
             [
              0.3333333333333333,
              "#9c179e"
             ],
             [
              0.4444444444444444,
              "#bd3786"
             ],
             [
              0.5555555555555556,
              "#d8576b"
             ],
             [
              0.6666666666666666,
              "#ed7953"
             ],
             [
              0.7777777777777778,
              "#fb9f3a"
             ],
             [
              0.8888888888888888,
              "#fdca26"
             ],
             [
              1,
              "#f0f921"
             ]
            ],
            "type": "histogram2dcontour"
           }
          ],
          "mesh3d": [
           {
            "colorbar": {
             "outlinewidth": 0,
             "ticks": ""
            },
            "type": "mesh3d"
           }
          ],
          "parcoords": [
           {
            "line": {
             "colorbar": {
              "outlinewidth": 0,
              "ticks": ""
             }
            },
            "type": "parcoords"
           }
          ],
          "pie": [
           {
            "automargin": true,
            "type": "pie"
           }
          ],
          "scatter": [
           {
            "fillpattern": {
             "fillmode": "overlay",
             "size": 10,
             "solidity": 0.2
            },
            "type": "scatter"
           }
          ],
          "scatter3d": [
           {
            "line": {
             "colorbar": {
              "outlinewidth": 0,
              "ticks": ""
             }
            },
            "marker": {
             "colorbar": {
              "outlinewidth": 0,
              "ticks": ""
             }
            },
            "type": "scatter3d"
           }
          ],
          "scattercarpet": [
           {
            "marker": {
             "colorbar": {
              "outlinewidth": 0,
              "ticks": ""
             }
            },
            "type": "scattercarpet"
           }
          ],
          "scattergeo": [
           {
            "marker": {
             "colorbar": {
              "outlinewidth": 0,
              "ticks": ""
             }
            },
            "type": "scattergeo"
           }
          ],
          "scattergl": [
           {
            "marker": {
             "colorbar": {
              "outlinewidth": 0,
              "ticks": ""
             }
            },
            "type": "scattergl"
           }
          ],
          "scattermapbox": [
           {
            "marker": {
             "colorbar": {
              "outlinewidth": 0,
              "ticks": ""
             }
            },
            "type": "scattermapbox"
           }
          ],
          "scatterpolar": [
           {
            "marker": {
             "colorbar": {
              "outlinewidth": 0,
              "ticks": ""
             }
            },
            "type": "scatterpolar"
           }
          ],
          "scatterpolargl": [
           {
            "marker": {
             "colorbar": {
              "outlinewidth": 0,
              "ticks": ""
             }
            },
            "type": "scatterpolargl"
           }
          ],
          "scatterternary": [
           {
            "marker": {
             "colorbar": {
              "outlinewidth": 0,
              "ticks": ""
             }
            },
            "type": "scatterternary"
           }
          ],
          "surface": [
           {
            "colorbar": {
             "outlinewidth": 0,
             "ticks": ""
            },
            "colorscale": [
             [
              0,
              "#0d0887"
             ],
             [
              0.1111111111111111,
              "#46039f"
             ],
             [
              0.2222222222222222,
              "#7201a8"
             ],
             [
              0.3333333333333333,
              "#9c179e"
             ],
             [
              0.4444444444444444,
              "#bd3786"
             ],
             [
              0.5555555555555556,
              "#d8576b"
             ],
             [
              0.6666666666666666,
              "#ed7953"
             ],
             [
              0.7777777777777778,
              "#fb9f3a"
             ],
             [
              0.8888888888888888,
              "#fdca26"
             ],
             [
              1,
              "#f0f921"
             ]
            ],
            "type": "surface"
           }
          ],
          "table": [
           {
            "cells": {
             "fill": {
              "color": "#EBF0F8"
             },
             "line": {
              "color": "white"
             }
            },
            "header": {
             "fill": {
              "color": "#C8D4E3"
             },
             "line": {
              "color": "white"
             }
            },
            "type": "table"
           }
          ]
         },
         "layout": {
          "annotationdefaults": {
           "arrowcolor": "#2a3f5f",
           "arrowhead": 0,
           "arrowwidth": 1
          },
          "autotypenumbers": "strict",
          "coloraxis": {
           "colorbar": {
            "outlinewidth": 0,
            "ticks": ""
           }
          },
          "colorscale": {
           "diverging": [
            [
             0,
             "#8e0152"
            ],
            [
             0.1,
             "#c51b7d"
            ],
            [
             0.2,
             "#de77ae"
            ],
            [
             0.3,
             "#f1b6da"
            ],
            [
             0.4,
             "#fde0ef"
            ],
            [
             0.5,
             "#f7f7f7"
            ],
            [
             0.6,
             "#e6f5d0"
            ],
            [
             0.7,
             "#b8e186"
            ],
            [
             0.8,
             "#7fbc41"
            ],
            [
             0.9,
             "#4d9221"
            ],
            [
             1,
             "#276419"
            ]
           ],
           "sequential": [
            [
             0,
             "#0d0887"
            ],
            [
             0.1111111111111111,
             "#46039f"
            ],
            [
             0.2222222222222222,
             "#7201a8"
            ],
            [
             0.3333333333333333,
             "#9c179e"
            ],
            [
             0.4444444444444444,
             "#bd3786"
            ],
            [
             0.5555555555555556,
             "#d8576b"
            ],
            [
             0.6666666666666666,
             "#ed7953"
            ],
            [
             0.7777777777777778,
             "#fb9f3a"
            ],
            [
             0.8888888888888888,
             "#fdca26"
            ],
            [
             1,
             "#f0f921"
            ]
           ],
           "sequentialminus": [
            [
             0,
             "#0d0887"
            ],
            [
             0.1111111111111111,
             "#46039f"
            ],
            [
             0.2222222222222222,
             "#7201a8"
            ],
            [
             0.3333333333333333,
             "#9c179e"
            ],
            [
             0.4444444444444444,
             "#bd3786"
            ],
            [
             0.5555555555555556,
             "#d8576b"
            ],
            [
             0.6666666666666666,
             "#ed7953"
            ],
            [
             0.7777777777777778,
             "#fb9f3a"
            ],
            [
             0.8888888888888888,
             "#fdca26"
            ],
            [
             1,
             "#f0f921"
            ]
           ]
          },
          "colorway": [
           "#636efa",
           "#EF553B",
           "#00cc96",
           "#ab63fa",
           "#FFA15A",
           "#19d3f3",
           "#FF6692",
           "#B6E880",
           "#FF97FF",
           "#FECB52"
          ],
          "font": {
           "color": "#2a3f5f"
          },
          "geo": {
           "bgcolor": "white",
           "lakecolor": "white",
           "landcolor": "#E5ECF6",
           "showlakes": true,
           "showland": true,
           "subunitcolor": "white"
          },
          "hoverlabel": {
           "align": "left"
          },
          "hovermode": "closest",
          "mapbox": {
           "style": "light"
          },
          "paper_bgcolor": "white",
          "plot_bgcolor": "#E5ECF6",
          "polar": {
           "angularaxis": {
            "gridcolor": "white",
            "linecolor": "white",
            "ticks": ""
           },
           "bgcolor": "#E5ECF6",
           "radialaxis": {
            "gridcolor": "white",
            "linecolor": "white",
            "ticks": ""
           }
          },
          "scene": {
           "xaxis": {
            "backgroundcolor": "#E5ECF6",
            "gridcolor": "white",
            "gridwidth": 2,
            "linecolor": "white",
            "showbackground": true,
            "ticks": "",
            "zerolinecolor": "white"
           },
           "yaxis": {
            "backgroundcolor": "#E5ECF6",
            "gridcolor": "white",
            "gridwidth": 2,
            "linecolor": "white",
            "showbackground": true,
            "ticks": "",
            "zerolinecolor": "white"
           },
           "zaxis": {
            "backgroundcolor": "#E5ECF6",
            "gridcolor": "white",
            "gridwidth": 2,
            "linecolor": "white",
            "showbackground": true,
            "ticks": "",
            "zerolinecolor": "white"
           }
          },
          "shapedefaults": {
           "line": {
            "color": "#2a3f5f"
           }
          },
          "ternary": {
           "aaxis": {
            "gridcolor": "white",
            "linecolor": "white",
            "ticks": ""
           },
           "baxis": {
            "gridcolor": "white",
            "linecolor": "white",
            "ticks": ""
           },
           "bgcolor": "#E5ECF6",
           "caxis": {
            "gridcolor": "white",
            "linecolor": "white",
            "ticks": ""
           }
          },
          "title": {
           "x": 0.05
          },
          "xaxis": {
           "automargin": true,
           "gridcolor": "white",
           "linecolor": "white",
           "ticks": "",
           "title": {
            "standoff": 15
           },
           "zerolinecolor": "white",
           "zerolinewidth": 2
          },
          "yaxis": {
           "automargin": true,
           "gridcolor": "white",
           "linecolor": "white",
           "ticks": "",
           "title": {
            "standoff": 15
           },
           "zerolinecolor": "white",
           "zerolinewidth": 2
          }
         }
        },
        "title": {
         "text": "Distribution des diagonal_pixels"
        },
        "xaxis": {
         "anchor": "y",
         "domain": [
          0,
          1
         ],
         "title": {
          "text": "diagonal_pixels"
         }
        },
        "yaxis": {
         "anchor": "x",
         "domain": [
          0,
          1
         ],
         "title": {
          "text": "Fréquence"
         }
        }
       }
      }
     },
     "metadata": {},
     "output_type": "display_data"
    }
   ],
   "source": [
    "import plotly.express as px\n",
    "\n",
    "fig = px.histogram(df, x=\"diagonal_pixels\", histnorm=\"probability\")\n",
    "fig.update_layout(\n",
    "    title=\"Distribution des diagonal_pixels\",\n",
    "    xaxis_title=\"diagonal_pixels\",\n",
    "    yaxis_title=\"Fréquence\",\n",
    ")\n",
    "fig.show()"
   ]
  },
  {
   "cell_type": "markdown",
   "metadata": {},
   "source": [
    "**TODO** `cleaning` :\n",
    "\n",
    "- [x] **network**\n",
    "- [x] **color**\n",
    "- [x] **price**\n",
    "- [x] **screen_type**\n",
    "- [ ] *cpu*"
   ]
  },
  {
   "cell_type": "code",
   "execution_count": 10,
   "metadata": {},
   "outputs": [],
   "source": [
    "# df.select(\"cpu\").unique().to_numpy()\n",
    "# pour le cpu on va préférer retravailler pour avoir la fréquence en GHz plutot"
   ]
  },
  {
   "cell_type": "markdown",
   "metadata": {},
   "source": [
    "Vérification des valeurs nulles sur les différentes colonnes."
   ]
  },
  {
   "cell_type": "code",
   "execution_count": 5,
   "metadata": {},
   "outputs": [
    {
     "data": {
      "text/html": [
       "<div><style>\n",
       ".dataframe > thead > tr > th,\n",
       ".dataframe > tbody > tr > td {\n",
       "  text-align: right;\n",
       "  white-space: pre-wrap;\n",
       "}\n",
       "</style>\n",
       "<small>shape: (1, 32)</small><table border=\"1\" class=\"dataframe\"><thead><tr><th>fast_charging</th><th>reviews</th><th>screen_size</th><th>das_chest</th><th>network</th><th>stars</th><th>screen_type</th><th>sensor_resolution</th><th>os</th><th>color</th><th>das_limbs</th><th>net_weight</th><th>storage</th><th>ram</th><th>usb_type_c</th><th>price</th><th>battery</th><th>das_head</th><th>cpu</th><th>made_in</th><th>width</th><th>model</th><th>charging_type</th><th>screen_tech</th><th>upgrade_storage</th><th>height</th><th>repairability_index</th><th>thickness</th><th>sim_type</th><th>brand</th><th>sensor</th><th>total_pixels</th></tr><tr><td>u32</td><td>u32</td><td>u32</td><td>u32</td><td>u32</td><td>u32</td><td>u32</td><td>u32</td><td>u32</td><td>u32</td><td>u32</td><td>u32</td><td>u32</td><td>u32</td><td>u32</td><td>u32</td><td>u32</td><td>u32</td><td>u32</td><td>u32</td><td>u32</td><td>u32</td><td>u32</td><td>u32</td><td>u32</td><td>u32</td><td>u32</td><td>u32</td><td>u32</td><td>u32</td><td>u32</td><td>u32</td></tr></thead><tbody><tr><td>0</td><td>0</td><td>0</td><td>0</td><td>0</td><td>0</td><td>0</td><td>0</td><td>1</td><td>1</td><td>0</td><td>14</td><td>0</td><td>0</td><td>0</td><td>0</td><td>0</td><td>0</td><td>1</td><td>7</td><td>1</td><td>0</td><td>3</td><td>0</td><td>0</td><td>1</td><td>0</td><td>1</td><td>0</td><td>0</td><td>75</td><td>0</td></tr></tbody></table></div>"
      ],
      "text/plain": [
       "shape: (1, 32)\n",
       "┌───────────────┬─────────┬─────────────┬───────────┬───┬──────────┬───────┬────────┬──────────────┐\n",
       "│ fast_charging ┆ reviews ┆ screen_size ┆ das_chest ┆ … ┆ sim_type ┆ brand ┆ sensor ┆ total_pixels │\n",
       "│ ---           ┆ ---     ┆ ---         ┆ ---       ┆   ┆ ---      ┆ ---   ┆ ---    ┆ ---          │\n",
       "│ u32           ┆ u32     ┆ u32         ┆ u32       ┆   ┆ u32      ┆ u32   ┆ u32    ┆ u32          │\n",
       "╞═══════════════╪═════════╪═════════════╪═══════════╪═══╪══════════╪═══════╪════════╪══════════════╡\n",
       "│ 0             ┆ 0       ┆ 0           ┆ 0         ┆ … ┆ 0        ┆ 0     ┆ 75     ┆ 0            │\n",
       "└───────────────┴─────────┴─────────────┴───────────┴───┴──────────┴───────┴────────┴──────────────┘"
      ]
     },
     "execution_count": 5,
     "metadata": {},
     "output_type": "execute_result"
    }
   ],
   "source": [
    "df.select(pl.all().is_null().sum())"
   ]
  },
  {
   "cell_type": "code",
   "execution_count": 5,
   "metadata": {},
   "outputs": [
    {
     "data": {
      "text/plain": [
       "array([['Samsung Galaxy S10'],\n",
       "       ['Google Pixel 8'],\n",
       "       ['Google Pixel 8 Pro'],\n",
       "       ['Sony Xperia 1 V']], dtype=object)"
      ]
     },
     "execution_count": 5,
     "metadata": {},
     "output_type": "execute_result"
    }
   ],
   "source": [
    "df.select(pl.col(\"model\").filter(pl.col(\"net_weight\").is_null())).unique().to_numpy()"
   ]
  },
  {
   "cell_type": "markdown",
   "metadata": {},
   "source": [
    "Idée => Avec cette liste unique des téléphones, aller chercher leur poids (manquant) avec une `request` sur google et récupérer le résultat"
   ]
  },
  {
   "cell_type": "code",
   "execution_count": 8,
   "metadata": {},
   "outputs": [
    {
     "data": {
      "text/html": [
       "<div><style>\n",
       ".dataframe > thead > tr > th,\n",
       ".dataframe > tbody > tr > td {\n",
       "  text-align: right;\n",
       "  white-space: pre-wrap;\n",
       "}\n",
       "</style>\n",
       "<small>shape: (3, 34)</small><table border=\"1\" class=\"dataframe\"><thead><tr><th>stars</th><th>thickness</th><th>screen_tech</th><th>screen_resolution</th><th>net_weight</th><th>das_head</th><th>charging_type</th><th>os</th><th>brand</th><th>repairability_index</th><th>bluetooth</th><th>sim_number</th><th>network</th><th>width</th><th>sim_type</th><th>color</th><th>screen_size</th><th>sensor</th><th>screen_type</th><th>fast_charging</th><th>usb_type_c</th><th>sensor_resolution</th><th>reviews</th><th>storage</th><th>battery</th><th>height</th><th>model</th><th>ram</th><th>das_limbs</th><th>cpu</th><th>made_in</th><th>das_chest</th><th>price</th><th>upgrade_storage</th></tr><tr><td>f64</td><td>str</td><td>str</td><td>str</td><td>str</td><td>str</td><td>str</td><td>str</td><td>str</td><td>str</td><td>str</td><td>str</td><td>str</td><td>str</td><td>str</td><td>str</td><td>str</td><td>str</td><td>str</td><td>str</td><td>bool</td><td>str</td><td>i64</td><td>str</td><td>str</td><td>str</td><td>str</td><td>str</td><td>str</td><td>str</td><td>str</td><td>str</td><td>f64</td><td>bool</td></tr></thead><tbody><tr><td>4.3137</td><td>&quot;8,40 mm&quot;</td><td>&quot;TFT (LCD)&quot;</td><td>&quot;2408 x 1080 pi…</td><td>&quot;197,00 g&quot;</td><td>&quot;1,492 W/kg&quot;</td><td>null</td><td>&quot;Android 12&quot;</td><td>&quot;SAMSUNG&quot;</td><td>&quot;8,1 /10&quot;</td><td>&quot;5.1&quot;</td><td>&quot;2 SIM&quot;</td><td>&quot;5G&quot;</td><td>&quot;76,90 mm&quot;</td><td>&quot;Dual SIM&quot;</td><td>&quot;Bleu&quot;</td><td>&quot;6,6&quot; soit 16,8…</td><td>&quot;3&quot;</td><td>&quot;Plat&quot;</td><td>&quot;Oui&quot;</td><td>true</td><td>&quot;50 mégapixels+…</td><td>51</td><td>&quot;128 Go&quot;</td><td>&quot;5000 mAh&quot;</td><td>&quot;165,40 mm&quot;</td><td>&quot;Samsung Galaxy…</td><td>&quot;4 Go&quot;</td><td>&quot;2,840 W/kg&quot;</td><td>&quot;8 coeurs jusqu…</td><td>&quot;Viêt Nam&quot;</td><td>&quot;1,251 W/kg&quot;</td><td>279.0</td><td>true</td></tr><tr><td>4.3137</td><td>&quot;8,40 mm&quot;</td><td>&quot;TFT (LCD)&quot;</td><td>&quot;2408 x 1080 pi…</td><td>&quot;197,00 g&quot;</td><td>&quot;1,492 W/kg&quot;</td><td>null</td><td>&quot;Android 12&quot;</td><td>&quot;SAMSUNG&quot;</td><td>&quot;8,1 /10&quot;</td><td>&quot;5.1&quot;</td><td>&quot;2 SIM&quot;</td><td>&quot;5G&quot;</td><td>&quot;76,90 mm&quot;</td><td>&quot;Dual SIM&quot;</td><td>&quot;Noir&quot;</td><td>&quot;6,6&quot; soit 16,8…</td><td>&quot;3&quot;</td><td>&quot;Plat&quot;</td><td>&quot;Oui&quot;</td><td>true</td><td>&quot;50 mégapixels+…</td><td>51</td><td>&quot;128 Go&quot;</td><td>&quot;5000 mAh&quot;</td><td>&quot;165,40 mm&quot;</td><td>&quot;Samsung Galaxy…</td><td>&quot;4 Go&quot;</td><td>&quot;2,840 W/kg&quot;</td><td>&quot;8 coeurs jusqu…</td><td>&quot;Viêt Nam&quot;</td><td>&quot;1,251 W/kg&quot;</td><td>279.0</td><td>true</td></tr><tr><td>4.6667</td><td>&quot;8,40 mm&quot;</td><td>&quot;LCD (LTPS) FHD…</td><td>&quot;1080 x 2400 pi…</td><td>&quot;190,00 g&quot;</td><td>&quot;0,788 W/kg&quot;</td><td>null</td><td>&quot;Android 11&quot;</td><td>&quot;REALME&quot;</td><td>&quot;6,1 /10&quot;</td><td>&quot;5&quot;</td><td>&quot;1 SIM&quot;</td><td>&quot;4G+&quot;</td><td>&quot;75,50 mm&quot;</td><td>&quot;Nano SIM&quot;</td><td>&quot;Noir&quot;</td><td>&quot;6,6&quot; soit 16,8…</td><td>&quot;3&quot;</td><td>&quot;Plat&quot;</td><td>&quot;Oui&quot;</td><td>true</td><td>&quot;50 mégapixels+…</td><td>3</td><td>&quot;64 Go&quot;</td><td>&quot;5000 mAh&quot;</td><td>&quot;164,40 mm&quot;</td><td>&quot;Realme 9i&quot;</td><td>&quot;4 Go&quot;</td><td>&quot;2,072 W/kg&quot;</td><td>&quot;8 coeurs jusqu…</td><td>&quot;Chine&quot;</td><td>&quot;1,020 W/kg&quot;</td><td>219.0</td><td>true</td></tr></tbody></table></div>"
      ],
      "text/plain": [
       "shape: (3, 34)\n",
       "┌────────┬───────────┬─────────────┬─────────────┬───┬──────────┬────────────┬───────┬─────────────┐\n",
       "│ stars  ┆ thickness ┆ screen_tech ┆ screen_reso ┆ … ┆ made_in  ┆ das_chest  ┆ price ┆ upgrade_sto │\n",
       "│ ---    ┆ ---       ┆ ---         ┆ lution      ┆   ┆ ---      ┆ ---        ┆ ---   ┆ rage        │\n",
       "│ f64    ┆ str       ┆ str         ┆ ---         ┆   ┆ str      ┆ str        ┆ f64   ┆ ---         │\n",
       "│        ┆           ┆             ┆ str         ┆   ┆          ┆            ┆       ┆ bool        │\n",
       "╞════════╪═══════════╪═════════════╪═════════════╪═══╪══════════╪════════════╪═══════╪═════════════╡\n",
       "│ 4.3137 ┆ 8,40 mm   ┆ TFT (LCD)   ┆ 2408 x 1080 ┆ … ┆ Viêt Nam ┆ 1,251 W/kg ┆ 279.0 ┆ true        │\n",
       "│        ┆           ┆             ┆ pixels      ┆   ┆          ┆            ┆       ┆             │\n",
       "│ 4.3137 ┆ 8,40 mm   ┆ TFT (LCD)   ┆ 2408 x 1080 ┆ … ┆ Viêt Nam ┆ 1,251 W/kg ┆ 279.0 ┆ true        │\n",
       "│        ┆           ┆             ┆ pixels      ┆   ┆          ┆            ┆       ┆             │\n",
       "│ 4.6667 ┆ 8,40 mm   ┆ LCD (LTPS)  ┆ 1080 x 2400 ┆ … ┆ Chine    ┆ 1,020 W/kg ┆ 219.0 ┆ true        │\n",
       "│        ┆           ┆ FHD+        ┆ pixels      ┆   ┆          ┆            ┆       ┆             │\n",
       "└────────┴───────────┴─────────────┴─────────────┴───┴──────────┴────────────┴───────┴─────────────┘"
      ]
     },
     "execution_count": 8,
     "metadata": {},
     "output_type": "execute_result"
    }
   ],
   "source": [
    "df.filter(pl.col(\"charging_type\").is_null())\n",
    "# ces 3 téléphones sont en fait chargeables par induction\n",
    "# renommer la colonne charging_type par induction et avoir des valeurs true/false booléennes"
   ]
  },
  {
   "cell_type": "code",
   "execution_count": 13,
   "metadata": {},
   "outputs": [
    {
     "data": {
      "text/plain": [
       "array([['Noir', 167],\n",
       "       ['Bleu', 68],\n",
       "       ['Gris', 54],\n",
       "       ['Vert', 50],\n",
       "       ['Blanc', 40],\n",
       "       ['Violet', 23],\n",
       "       ['Beige', 10],\n",
       "       ['Argent', 9],\n",
       "       ['Rose', 5],\n",
       "       ['Rouge', 5],\n",
       "       ['Jaune', 3],\n",
       "       ['Bronze', 2],\n",
       "       ['Orange', 1],\n",
       "       [None, 1],\n",
       "       ['Or', 1]], dtype=object)"
      ]
     },
     "execution_count": 13,
     "metadata": {},
     "output_type": "execute_result"
    }
   ],
   "source": [
    "df.group_by(\"color\").count().sort(\"count\", descending=True).to_numpy()"
   ]
  },
  {
   "cell_type": "code",
   "execution_count": 195,
   "metadata": {},
   "outputs": [
    {
     "name": "stderr",
     "output_type": "stream",
     "text": [
      "c:\\Users\\tcrsm\\AppData\\Local\\Programs\\Python\\Python310\\lib\\site-packages\\_plotly_utils\\basevalidators.py:105: FutureWarning:\n",
      "\n",
      "The behavior of DatetimeProperties.to_pydatetime is deprecated, in a future version this will return a Series containing python datetime objects instead of an ndarray. To retain the old behavior, call `np.array` on the result\n",
      "\n"
     ]
    },
    {
     "data": {
      "application/vnd.plotly.v1+json": {
       "config": {
        "plotlyServerURL": "https://plot.ly"
       },
       "data": [
        {
         "alignmentgroup": "True",
         "base": [
          "1989-04-01T00:00:00",
          "1996-01-01T00:00:00"
         ],
         "hovertemplate": "catégorie=Téléphone à clapet<br>start=%{base}<br>end=%{x}<br>technologie=%{text}<extra></extra>",
         "legendgroup": "Téléphone à clapet",
         "marker": {
          "color": "#4E6766",
          "pattern": {
           "shape": ""
          }
         },
         "name": "Téléphone à clapet",
         "offsetgroup": "Téléphone à clapet",
         "orientation": "h",
         "showlegend": true,
         "text": [
          "Motorola – MicroTAC 9800X 📠",
          "Motorola – StarTAC 📠"
         ],
         "textposition": "auto",
         "type": "bar",
         "x": [
          213062400000,
          63158400000
         ],
         "xaxis": "x",
         "y": [
          "Motorola – MicroTAC 9800X 📠",
          "Motorola – StarTAC 📠"
         ],
         "yaxis": "y"
        },
        {
         "alignmentgroup": "True",
         "base": [
          "1992-01-01T00:00:00",
          "1998-01-01T00:00:00",
          "2005-01-01T00:00:00"
         ],
         "hovertemplate": "catégorie=Autres<br>start=%{base}<br>end=%{x}<br>technologie=%{text}<extra></extra>",
         "legendgroup": "Autres",
         "marker": {
          "color": "#E4572E",
          "pattern": {
           "shape": ""
          }
         },
         "name": "Autres",
         "offsetgroup": "Autres",
         "orientation": "h",
         "showlegend": true,
         "text": [
          "Apparition des SMS 💬",
          "Apparition des Emojis 😀",
          "Android OS 🤖"
         ],
         "textposition": "auto",
         "type": "bar",
         "x": [
          1009843200000,
          820454400000,
          599529600000
         ],
         "xaxis": "x",
         "y": [
          "Apparition des SMS 💬",
          "Apparition des Emojis 😀",
          "Android OS 🤖"
         ],
         "yaxis": "y"
        },
        {
         "alignmentgroup": "True",
         "base": [
          "1992-11-01T00:00:00",
          "1999-03-01T00:00:00",
          "2003-01-01T00:00:00"
         ],
         "hovertemplate": "catégorie=Téléphone à clavier<br>start=%{base}<br>end=%{x}<br>technologie=%{text}<extra></extra>",
         "legendgroup": "Téléphone à clavier",
         "marker": {
          "color": "#A5C882",
          "pattern": {
           "shape": ""
          }
         },
         "name": "Téléphone à clavier",
         "offsetgroup": "Téléphone à clavier",
         "orientation": "h",
         "showlegend": true,
         "text": [
          "Nokia – 1011 ⌨",
          "Nokia – 3210 ⌨",
          "Blackberry Quark ⌨"
         ],
         "textposition": "auto",
         "type": "bar",
         "x": [
          36806400000,
          97372800000,
          63158400000
         ],
         "xaxis": "x",
         "y": [
          "Nokia – 1011 ⌨",
          "Nokia – 3210 ⌨",
          "Blackberry Quark ⌨"
         ],
         "yaxis": "y"
        },
        {
         "alignmentgroup": "True",
         "base": [
          "1994-08-01T00:00:00",
          "2007-06-01T00:00:00",
          "2008-01-01T00:00:00",
          "2010-06-01T00:00:00",
          "2010-06-01T00:00:00",
          "2011-10-01T00:00:00",
          "2014-04-01T00:00:00",
          "2017-11-01T00:00:00",
          "2019-09-01T00:00:00"
         ],
         "hovertemplate": "catégorie=Smartphone<br>start=%{base}<br>end=%{x}<br>technologie=%{text}<extra></extra>",
         "legendgroup": "Smartphone",
         "marker": {
          "color": "#1E152A",
          "pattern": {
           "shape": ""
          }
         },
         "name": "Smartphone",
         "offsetgroup": "Smartphone",
         "orientation": "h",
         "showlegend": true,
         "text": [
          "IBM – Simon 📱",
          "Apple – Iphone 📱",
          "HTC – Dream 📱",
          "Apple – Iphone 4 📱",
          "Samsung Galaxy S 📱",
          "Samsung Galaxy Note 📱",
          "One Plus One 📱",
          "Apple Iphone X 📱",
          "Samsung Galaxy Fold 📱"
         ],
         "textposition": "auto",
         "type": "bar",
         "x": [
          15897600000,
          34214400000,
          78796800000,
          102643200000,
          55209600000,
          29030400000,
          63158400000,
          26265600000,
          -23673600000
         ],
         "xaxis": "x",
         "y": [
          "IBM – Simon 📱",
          "Apple – Iphone 📱",
          "HTC – Dream 📱",
          "Apple – Iphone 4 📱",
          "Samsung Galaxy S 📱",
          "Samsung Galaxy Note 📱",
          "One Plus One 📱",
          "Apple Iphone X 📱",
          "Samsung Galaxy Fold 📱"
         ],
         "yaxis": "y"
        },
        {
         "alignmentgroup": "True",
         "base": [
          "1999-01-01T00:00:00"
         ],
         "hovertemplate": "catégorie=Téléphone à appareil photo<br>start=%{base}<br>end=%{x}<br>technologie=%{text}<extra></extra>",
         "legendgroup": "Téléphone à appareil photo",
         "marker": {
          "color": "#5AB1BB",
          "pattern": {
           "shape": ""
          }
         },
         "name": "Téléphone à appareil photo",
         "offsetgroup": "Téléphone à appareil photo",
         "orientation": "h",
         "showlegend": true,
         "text": [
          "Sharp – J-SH04 📷"
         ],
         "textposition": "auto",
         "type": "bar",
         "x": [
          31536000000
         ],
         "xaxis": "x",
         "y": [
          "Sharp – J-SH04 📷"
         ],
         "yaxis": "y"
        }
       ],
       "layout": {
        "barmode": "overlay",
        "font": {
         "color": "black"
        },
        "legend": {
         "font": {
          "color": "white"
         },
         "title": {
          "text": "catégorie"
         },
         "tracegroupgap": 0
        },
        "paper_bgcolor": "#222222",
        "template": {
         "data": {
          "bar": [
           {
            "error_x": {
             "color": "#2a3f5f"
            },
            "error_y": {
             "color": "#2a3f5f"
            },
            "marker": {
             "line": {
              "color": "#E5ECF6",
              "width": 0.5
             },
             "pattern": {
              "fillmode": "overlay",
              "size": 10,
              "solidity": 0.2
             }
            },
            "type": "bar"
           }
          ],
          "barpolar": [
           {
            "marker": {
             "line": {
              "color": "#E5ECF6",
              "width": 0.5
             },
             "pattern": {
              "fillmode": "overlay",
              "size": 10,
              "solidity": 0.2
             }
            },
            "type": "barpolar"
           }
          ],
          "carpet": [
           {
            "aaxis": {
             "endlinecolor": "#2a3f5f",
             "gridcolor": "white",
             "linecolor": "white",
             "minorgridcolor": "white",
             "startlinecolor": "#2a3f5f"
            },
            "baxis": {
             "endlinecolor": "#2a3f5f",
             "gridcolor": "white",
             "linecolor": "white",
             "minorgridcolor": "white",
             "startlinecolor": "#2a3f5f"
            },
            "type": "carpet"
           }
          ],
          "choropleth": [
           {
            "colorbar": {
             "outlinewidth": 0,
             "ticks": ""
            },
            "type": "choropleth"
           }
          ],
          "contour": [
           {
            "colorbar": {
             "outlinewidth": 0,
             "ticks": ""
            },
            "colorscale": [
             [
              0,
              "#0d0887"
             ],
             [
              0.1111111111111111,
              "#46039f"
             ],
             [
              0.2222222222222222,
              "#7201a8"
             ],
             [
              0.3333333333333333,
              "#9c179e"
             ],
             [
              0.4444444444444444,
              "#bd3786"
             ],
             [
              0.5555555555555556,
              "#d8576b"
             ],
             [
              0.6666666666666666,
              "#ed7953"
             ],
             [
              0.7777777777777778,
              "#fb9f3a"
             ],
             [
              0.8888888888888888,
              "#fdca26"
             ],
             [
              1,
              "#f0f921"
             ]
            ],
            "type": "contour"
           }
          ],
          "contourcarpet": [
           {
            "colorbar": {
             "outlinewidth": 0,
             "ticks": ""
            },
            "type": "contourcarpet"
           }
          ],
          "heatmap": [
           {
            "colorbar": {
             "outlinewidth": 0,
             "ticks": ""
            },
            "colorscale": [
             [
              0,
              "#0d0887"
             ],
             [
              0.1111111111111111,
              "#46039f"
             ],
             [
              0.2222222222222222,
              "#7201a8"
             ],
             [
              0.3333333333333333,
              "#9c179e"
             ],
             [
              0.4444444444444444,
              "#bd3786"
             ],
             [
              0.5555555555555556,
              "#d8576b"
             ],
             [
              0.6666666666666666,
              "#ed7953"
             ],
             [
              0.7777777777777778,
              "#fb9f3a"
             ],
             [
              0.8888888888888888,
              "#fdca26"
             ],
             [
              1,
              "#f0f921"
             ]
            ],
            "type": "heatmap"
           }
          ],
          "heatmapgl": [
           {
            "colorbar": {
             "outlinewidth": 0,
             "ticks": ""
            },
            "colorscale": [
             [
              0,
              "#0d0887"
             ],
             [
              0.1111111111111111,
              "#46039f"
             ],
             [
              0.2222222222222222,
              "#7201a8"
             ],
             [
              0.3333333333333333,
              "#9c179e"
             ],
             [
              0.4444444444444444,
              "#bd3786"
             ],
             [
              0.5555555555555556,
              "#d8576b"
             ],
             [
              0.6666666666666666,
              "#ed7953"
             ],
             [
              0.7777777777777778,
              "#fb9f3a"
             ],
             [
              0.8888888888888888,
              "#fdca26"
             ],
             [
              1,
              "#f0f921"
             ]
            ],
            "type": "heatmapgl"
           }
          ],
          "histogram": [
           {
            "marker": {
             "pattern": {
              "fillmode": "overlay",
              "size": 10,
              "solidity": 0.2
             }
            },
            "type": "histogram"
           }
          ],
          "histogram2d": [
           {
            "colorbar": {
             "outlinewidth": 0,
             "ticks": ""
            },
            "colorscale": [
             [
              0,
              "#0d0887"
             ],
             [
              0.1111111111111111,
              "#46039f"
             ],
             [
              0.2222222222222222,
              "#7201a8"
             ],
             [
              0.3333333333333333,
              "#9c179e"
             ],
             [
              0.4444444444444444,
              "#bd3786"
             ],
             [
              0.5555555555555556,
              "#d8576b"
             ],
             [
              0.6666666666666666,
              "#ed7953"
             ],
             [
              0.7777777777777778,
              "#fb9f3a"
             ],
             [
              0.8888888888888888,
              "#fdca26"
             ],
             [
              1,
              "#f0f921"
             ]
            ],
            "type": "histogram2d"
           }
          ],
          "histogram2dcontour": [
           {
            "colorbar": {
             "outlinewidth": 0,
             "ticks": ""
            },
            "colorscale": [
             [
              0,
              "#0d0887"
             ],
             [
              0.1111111111111111,
              "#46039f"
             ],
             [
              0.2222222222222222,
              "#7201a8"
             ],
             [
              0.3333333333333333,
              "#9c179e"
             ],
             [
              0.4444444444444444,
              "#bd3786"
             ],
             [
              0.5555555555555556,
              "#d8576b"
             ],
             [
              0.6666666666666666,
              "#ed7953"
             ],
             [
              0.7777777777777778,
              "#fb9f3a"
             ],
             [
              0.8888888888888888,
              "#fdca26"
             ],
             [
              1,
              "#f0f921"
             ]
            ],
            "type": "histogram2dcontour"
           }
          ],
          "mesh3d": [
           {
            "colorbar": {
             "outlinewidth": 0,
             "ticks": ""
            },
            "type": "mesh3d"
           }
          ],
          "parcoords": [
           {
            "line": {
             "colorbar": {
              "outlinewidth": 0,
              "ticks": ""
             }
            },
            "type": "parcoords"
           }
          ],
          "pie": [
           {
            "automargin": true,
            "type": "pie"
           }
          ],
          "scatter": [
           {
            "fillpattern": {
             "fillmode": "overlay",
             "size": 10,
             "solidity": 0.2
            },
            "type": "scatter"
           }
          ],
          "scatter3d": [
           {
            "line": {
             "colorbar": {
              "outlinewidth": 0,
              "ticks": ""
             }
            },
            "marker": {
             "colorbar": {
              "outlinewidth": 0,
              "ticks": ""
             }
            },
            "type": "scatter3d"
           }
          ],
          "scattercarpet": [
           {
            "marker": {
             "colorbar": {
              "outlinewidth": 0,
              "ticks": ""
             }
            },
            "type": "scattercarpet"
           }
          ],
          "scattergeo": [
           {
            "marker": {
             "colorbar": {
              "outlinewidth": 0,
              "ticks": ""
             }
            },
            "type": "scattergeo"
           }
          ],
          "scattergl": [
           {
            "marker": {
             "colorbar": {
              "outlinewidth": 0,
              "ticks": ""
             }
            },
            "type": "scattergl"
           }
          ],
          "scattermapbox": [
           {
            "marker": {
             "colorbar": {
              "outlinewidth": 0,
              "ticks": ""
             }
            },
            "type": "scattermapbox"
           }
          ],
          "scatterpolar": [
           {
            "marker": {
             "colorbar": {
              "outlinewidth": 0,
              "ticks": ""
             }
            },
            "type": "scatterpolar"
           }
          ],
          "scatterpolargl": [
           {
            "marker": {
             "colorbar": {
              "outlinewidth": 0,
              "ticks": ""
             }
            },
            "type": "scatterpolargl"
           }
          ],
          "scatterternary": [
           {
            "marker": {
             "colorbar": {
              "outlinewidth": 0,
              "ticks": ""
             }
            },
            "type": "scatterternary"
           }
          ],
          "surface": [
           {
            "colorbar": {
             "outlinewidth": 0,
             "ticks": ""
            },
            "colorscale": [
             [
              0,
              "#0d0887"
             ],
             [
              0.1111111111111111,
              "#46039f"
             ],
             [
              0.2222222222222222,
              "#7201a8"
             ],
             [
              0.3333333333333333,
              "#9c179e"
             ],
             [
              0.4444444444444444,
              "#bd3786"
             ],
             [
              0.5555555555555556,
              "#d8576b"
             ],
             [
              0.6666666666666666,
              "#ed7953"
             ],
             [
              0.7777777777777778,
              "#fb9f3a"
             ],
             [
              0.8888888888888888,
              "#fdca26"
             ],
             [
              1,
              "#f0f921"
             ]
            ],
            "type": "surface"
           }
          ],
          "table": [
           {
            "cells": {
             "fill": {
              "color": "#EBF0F8"
             },
             "line": {
              "color": "white"
             }
            },
            "header": {
             "fill": {
              "color": "#C8D4E3"
             },
             "line": {
              "color": "white"
             }
            },
            "type": "table"
           }
          ]
         },
         "layout": {
          "annotationdefaults": {
           "arrowcolor": "#2a3f5f",
           "arrowhead": 0,
           "arrowwidth": 1
          },
          "autotypenumbers": "strict",
          "coloraxis": {
           "colorbar": {
            "outlinewidth": 0,
            "ticks": ""
           }
          },
          "colorscale": {
           "diverging": [
            [
             0,
             "#8e0152"
            ],
            [
             0.1,
             "#c51b7d"
            ],
            [
             0.2,
             "#de77ae"
            ],
            [
             0.3,
             "#f1b6da"
            ],
            [
             0.4,
             "#fde0ef"
            ],
            [
             0.5,
             "#f7f7f7"
            ],
            [
             0.6,
             "#e6f5d0"
            ],
            [
             0.7,
             "#b8e186"
            ],
            [
             0.8,
             "#7fbc41"
            ],
            [
             0.9,
             "#4d9221"
            ],
            [
             1,
             "#276419"
            ]
           ],
           "sequential": [
            [
             0,
             "#0d0887"
            ],
            [
             0.1111111111111111,
             "#46039f"
            ],
            [
             0.2222222222222222,
             "#7201a8"
            ],
            [
             0.3333333333333333,
             "#9c179e"
            ],
            [
             0.4444444444444444,
             "#bd3786"
            ],
            [
             0.5555555555555556,
             "#d8576b"
            ],
            [
             0.6666666666666666,
             "#ed7953"
            ],
            [
             0.7777777777777778,
             "#fb9f3a"
            ],
            [
             0.8888888888888888,
             "#fdca26"
            ],
            [
             1,
             "#f0f921"
            ]
           ],
           "sequentialminus": [
            [
             0,
             "#0d0887"
            ],
            [
             0.1111111111111111,
             "#46039f"
            ],
            [
             0.2222222222222222,
             "#7201a8"
            ],
            [
             0.3333333333333333,
             "#9c179e"
            ],
            [
             0.4444444444444444,
             "#bd3786"
            ],
            [
             0.5555555555555556,
             "#d8576b"
            ],
            [
             0.6666666666666666,
             "#ed7953"
            ],
            [
             0.7777777777777778,
             "#fb9f3a"
            ],
            [
             0.8888888888888888,
             "#fdca26"
            ],
            [
             1,
             "#f0f921"
            ]
           ]
          },
          "colorway": [
           "#636efa",
           "#EF553B",
           "#00cc96",
           "#ab63fa",
           "#FFA15A",
           "#19d3f3",
           "#FF6692",
           "#B6E880",
           "#FF97FF",
           "#FECB52"
          ],
          "font": {
           "color": "#2a3f5f"
          },
          "geo": {
           "bgcolor": "white",
           "lakecolor": "white",
           "landcolor": "#E5ECF6",
           "showlakes": true,
           "showland": true,
           "subunitcolor": "white"
          },
          "hoverlabel": {
           "align": "left"
          },
          "hovermode": "closest",
          "mapbox": {
           "style": "light"
          },
          "paper_bgcolor": "white",
          "plot_bgcolor": "#E5ECF6",
          "polar": {
           "angularaxis": {
            "gridcolor": "white",
            "linecolor": "white",
            "ticks": ""
           },
           "bgcolor": "#E5ECF6",
           "radialaxis": {
            "gridcolor": "white",
            "linecolor": "white",
            "ticks": ""
           }
          },
          "scene": {
           "xaxis": {
            "backgroundcolor": "#E5ECF6",
            "gridcolor": "white",
            "gridwidth": 2,
            "linecolor": "white",
            "showbackground": true,
            "ticks": "",
            "zerolinecolor": "white"
           },
           "yaxis": {
            "backgroundcolor": "#E5ECF6",
            "gridcolor": "white",
            "gridwidth": 2,
            "linecolor": "white",
            "showbackground": true,
            "ticks": "",
            "zerolinecolor": "white"
           },
           "zaxis": {
            "backgroundcolor": "#E5ECF6",
            "gridcolor": "white",
            "gridwidth": 2,
            "linecolor": "white",
            "showbackground": true,
            "ticks": "",
            "zerolinecolor": "white"
           }
          },
          "shapedefaults": {
           "line": {
            "color": "#2a3f5f"
           }
          },
          "ternary": {
           "aaxis": {
            "gridcolor": "white",
            "linecolor": "white",
            "ticks": ""
           },
           "baxis": {
            "gridcolor": "white",
            "linecolor": "white",
            "ticks": ""
           },
           "bgcolor": "#E5ECF6",
           "caxis": {
            "gridcolor": "white",
            "linecolor": "white",
            "ticks": ""
           }
          },
          "title": {
           "x": 0.05
          },
          "xaxis": {
           "automargin": true,
           "gridcolor": "white",
           "linecolor": "white",
           "ticks": "",
           "title": {
            "standoff": 15
           },
           "zerolinecolor": "white",
           "zerolinewidth": 2
          },
          "yaxis": {
           "automargin": true,
           "gridcolor": "white",
           "linecolor": "white",
           "ticks": "",
           "title": {
            "standoff": 15
           },
           "zerolinecolor": "white",
           "zerolinewidth": 2
          }
         }
        },
        "title": {
         "font": {
          "color": "white"
         },
         "text": "Smartphone Timeline"
        },
        "xaxis": {
         "anchor": "y",
         "color": "white",
         "domain": [
          0,
          1
         ],
         "range": [
          "1989",
          "2027"
         ],
         "type": "date"
        },
        "yaxis": {
         "anchor": "x",
         "domain": [
          0,
          1
         ],
         "showticklabels": false,
         "title": {
          "text": "y"
         },
         "visible": false
        }
       }
      },
      "text/html": [
       "<div>                            <div id=\"61355118-a61d-44c1-8483-4cdfaefcf90d\" class=\"plotly-graph-div\" style=\"height:525px; width:100%;\"></div>            <script type=\"text/javascript\">                require([\"plotly\"], function(Plotly) {                    window.PLOTLYENV=window.PLOTLYENV || {};                                    if (document.getElementById(\"61355118-a61d-44c1-8483-4cdfaefcf90d\")) {                    Plotly.newPlot(                        \"61355118-a61d-44c1-8483-4cdfaefcf90d\",                        [{\"alignmentgroup\":\"True\",\"base\":[\"1989-04-01T00:00:00\",\"1996-01-01T00:00:00\"],\"hovertemplate\":\"cat\\u00e9gorie=T\\u00e9l\\u00e9phone \\u00e0 clapet\\u003cbr\\u003estart=%{base}\\u003cbr\\u003eend=%{x}\\u003cbr\\u003etechnologie=%{text}\\u003cextra\\u003e\\u003c\\u002fextra\\u003e\",\"legendgroup\":\"T\\u00e9l\\u00e9phone \\u00e0 clapet\",\"marker\":{\"color\":\"#4E6766\",\"pattern\":{\"shape\":\"\"}},\"name\":\"T\\u00e9l\\u00e9phone \\u00e0 clapet\",\"offsetgroup\":\"T\\u00e9l\\u00e9phone \\u00e0 clapet\",\"orientation\":\"h\",\"showlegend\":true,\"text\":[\"Motorola \\u2013 MicroTAC 9800X \\ud83d\\udce0\",\"Motorola \\u2013 StarTAC \\ud83d\\udce0\"],\"textposition\":\"auto\",\"x\":[213062400000.0,63158400000.0],\"xaxis\":\"x\",\"y\":[\"Motorola \\u2013 MicroTAC 9800X \\ud83d\\udce0\",\"Motorola \\u2013 StarTAC \\ud83d\\udce0\"],\"yaxis\":\"y\",\"type\":\"bar\"},{\"alignmentgroup\":\"True\",\"base\":[\"1992-01-01T00:00:00\",\"1998-01-01T00:00:00\",\"2005-01-01T00:00:00\"],\"hovertemplate\":\"cat\\u00e9gorie=Autres\\u003cbr\\u003estart=%{base}\\u003cbr\\u003eend=%{x}\\u003cbr\\u003etechnologie=%{text}\\u003cextra\\u003e\\u003c\\u002fextra\\u003e\",\"legendgroup\":\"Autres\",\"marker\":{\"color\":\"#E4572E\",\"pattern\":{\"shape\":\"\"}},\"name\":\"Autres\",\"offsetgroup\":\"Autres\",\"orientation\":\"h\",\"showlegend\":true,\"text\":[\"Apparition des SMS \\ud83d\\udcac\",\"Apparition des Emojis \\ud83d\\ude00\",\"Android OS \\ud83e\\udd16\"],\"textposition\":\"auto\",\"x\":[1009843200000.0,820454400000.0,599529600000.0],\"xaxis\":\"x\",\"y\":[\"Apparition des SMS \\ud83d\\udcac\",\"Apparition des Emojis \\ud83d\\ude00\",\"Android OS \\ud83e\\udd16\"],\"yaxis\":\"y\",\"type\":\"bar\"},{\"alignmentgroup\":\"True\",\"base\":[\"1992-11-01T00:00:00\",\"1999-03-01T00:00:00\",\"2003-01-01T00:00:00\"],\"hovertemplate\":\"cat\\u00e9gorie=T\\u00e9l\\u00e9phone \\u00e0 clavier\\u003cbr\\u003estart=%{base}\\u003cbr\\u003eend=%{x}\\u003cbr\\u003etechnologie=%{text}\\u003cextra\\u003e\\u003c\\u002fextra\\u003e\",\"legendgroup\":\"T\\u00e9l\\u00e9phone \\u00e0 clavier\",\"marker\":{\"color\":\"#A5C882\",\"pattern\":{\"shape\":\"\"}},\"name\":\"T\\u00e9l\\u00e9phone \\u00e0 clavier\",\"offsetgroup\":\"T\\u00e9l\\u00e9phone \\u00e0 clavier\",\"orientation\":\"h\",\"showlegend\":true,\"text\":[\"Nokia \\u2013 1011 \\u2328\",\"Nokia \\u2013 3210 \\u2328\",\"Blackberry Quark \\u2328\"],\"textposition\":\"auto\",\"x\":[36806400000.0,97372800000.0,63158400000.0],\"xaxis\":\"x\",\"y\":[\"Nokia \\u2013 1011 \\u2328\",\"Nokia \\u2013 3210 \\u2328\",\"Blackberry Quark \\u2328\"],\"yaxis\":\"y\",\"type\":\"bar\"},{\"alignmentgroup\":\"True\",\"base\":[\"1994-08-01T00:00:00\",\"2007-06-01T00:00:00\",\"2008-01-01T00:00:00\",\"2010-06-01T00:00:00\",\"2010-06-01T00:00:00\",\"2011-10-01T00:00:00\",\"2014-04-01T00:00:00\",\"2017-11-01T00:00:00\",\"2019-09-01T00:00:00\"],\"hovertemplate\":\"cat\\u00e9gorie=Smartphone\\u003cbr\\u003estart=%{base}\\u003cbr\\u003eend=%{x}\\u003cbr\\u003etechnologie=%{text}\\u003cextra\\u003e\\u003c\\u002fextra\\u003e\",\"legendgroup\":\"Smartphone\",\"marker\":{\"color\":\"#1E152A\",\"pattern\":{\"shape\":\"\"}},\"name\":\"Smartphone\",\"offsetgroup\":\"Smartphone\",\"orientation\":\"h\",\"showlegend\":true,\"text\":[\"IBM \\u2013 Simon \\ud83d\\udcf1\",\"Apple \\u2013 Iphone \\ud83d\\udcf1\",\"HTC \\u2013 Dream \\ud83d\\udcf1\",\"Apple \\u2013 Iphone 4 \\ud83d\\udcf1\",\"Samsung Galaxy S \\ud83d\\udcf1\",\"Samsung Galaxy Note \\ud83d\\udcf1\",\"One Plus One \\ud83d\\udcf1\",\"Apple Iphone X \\ud83d\\udcf1\",\"Samsung Galaxy Fold \\ud83d\\udcf1\"],\"textposition\":\"auto\",\"x\":[15897600000.0,34214400000.0,78796800000.0,102643200000.0,55209600000.0,29030400000.0,63158400000.0,26265600000.0,-23673600000.0],\"xaxis\":\"x\",\"y\":[\"IBM \\u2013 Simon \\ud83d\\udcf1\",\"Apple \\u2013 Iphone \\ud83d\\udcf1\",\"HTC \\u2013 Dream \\ud83d\\udcf1\",\"Apple \\u2013 Iphone 4 \\ud83d\\udcf1\",\"Samsung Galaxy S \\ud83d\\udcf1\",\"Samsung Galaxy Note \\ud83d\\udcf1\",\"One Plus One \\ud83d\\udcf1\",\"Apple Iphone X \\ud83d\\udcf1\",\"Samsung Galaxy Fold \\ud83d\\udcf1\"],\"yaxis\":\"y\",\"type\":\"bar\"},{\"alignmentgroup\":\"True\",\"base\":[\"1999-01-01T00:00:00\"],\"hovertemplate\":\"cat\\u00e9gorie=T\\u00e9l\\u00e9phone \\u00e0 appareil photo\\u003cbr\\u003estart=%{base}\\u003cbr\\u003eend=%{x}\\u003cbr\\u003etechnologie=%{text}\\u003cextra\\u003e\\u003c\\u002fextra\\u003e\",\"legendgroup\":\"T\\u00e9l\\u00e9phone \\u00e0 appareil photo\",\"marker\":{\"color\":\"#5AB1BB\",\"pattern\":{\"shape\":\"\"}},\"name\":\"T\\u00e9l\\u00e9phone \\u00e0 appareil photo\",\"offsetgroup\":\"T\\u00e9l\\u00e9phone \\u00e0 appareil photo\",\"orientation\":\"h\",\"showlegend\":true,\"text\":[\"Sharp \\u2013 J-SH04 \\ud83d\\udcf7\"],\"textposition\":\"auto\",\"x\":[31536000000.0],\"xaxis\":\"x\",\"y\":[\"Sharp \\u2013 J-SH04 \\ud83d\\udcf7\"],\"yaxis\":\"y\",\"type\":\"bar\"}],                        {\"template\":{\"data\":{\"histogram2dcontour\":[{\"type\":\"histogram2dcontour\",\"colorbar\":{\"outlinewidth\":0,\"ticks\":\"\"},\"colorscale\":[[0.0,\"#0d0887\"],[0.1111111111111111,\"#46039f\"],[0.2222222222222222,\"#7201a8\"],[0.3333333333333333,\"#9c179e\"],[0.4444444444444444,\"#bd3786\"],[0.5555555555555556,\"#d8576b\"],[0.6666666666666666,\"#ed7953\"],[0.7777777777777778,\"#fb9f3a\"],[0.8888888888888888,\"#fdca26\"],[1.0,\"#f0f921\"]]}],\"choropleth\":[{\"type\":\"choropleth\",\"colorbar\":{\"outlinewidth\":0,\"ticks\":\"\"}}],\"histogram2d\":[{\"type\":\"histogram2d\",\"colorbar\":{\"outlinewidth\":0,\"ticks\":\"\"},\"colorscale\":[[0.0,\"#0d0887\"],[0.1111111111111111,\"#46039f\"],[0.2222222222222222,\"#7201a8\"],[0.3333333333333333,\"#9c179e\"],[0.4444444444444444,\"#bd3786\"],[0.5555555555555556,\"#d8576b\"],[0.6666666666666666,\"#ed7953\"],[0.7777777777777778,\"#fb9f3a\"],[0.8888888888888888,\"#fdca26\"],[1.0,\"#f0f921\"]]}],\"heatmap\":[{\"type\":\"heatmap\",\"colorbar\":{\"outlinewidth\":0,\"ticks\":\"\"},\"colorscale\":[[0.0,\"#0d0887\"],[0.1111111111111111,\"#46039f\"],[0.2222222222222222,\"#7201a8\"],[0.3333333333333333,\"#9c179e\"],[0.4444444444444444,\"#bd3786\"],[0.5555555555555556,\"#d8576b\"],[0.6666666666666666,\"#ed7953\"],[0.7777777777777778,\"#fb9f3a\"],[0.8888888888888888,\"#fdca26\"],[1.0,\"#f0f921\"]]}],\"heatmapgl\":[{\"type\":\"heatmapgl\",\"colorbar\":{\"outlinewidth\":0,\"ticks\":\"\"},\"colorscale\":[[0.0,\"#0d0887\"],[0.1111111111111111,\"#46039f\"],[0.2222222222222222,\"#7201a8\"],[0.3333333333333333,\"#9c179e\"],[0.4444444444444444,\"#bd3786\"],[0.5555555555555556,\"#d8576b\"],[0.6666666666666666,\"#ed7953\"],[0.7777777777777778,\"#fb9f3a\"],[0.8888888888888888,\"#fdca26\"],[1.0,\"#f0f921\"]]}],\"contourcarpet\":[{\"type\":\"contourcarpet\",\"colorbar\":{\"outlinewidth\":0,\"ticks\":\"\"}}],\"contour\":[{\"type\":\"contour\",\"colorbar\":{\"outlinewidth\":0,\"ticks\":\"\"},\"colorscale\":[[0.0,\"#0d0887\"],[0.1111111111111111,\"#46039f\"],[0.2222222222222222,\"#7201a8\"],[0.3333333333333333,\"#9c179e\"],[0.4444444444444444,\"#bd3786\"],[0.5555555555555556,\"#d8576b\"],[0.6666666666666666,\"#ed7953\"],[0.7777777777777778,\"#fb9f3a\"],[0.8888888888888888,\"#fdca26\"],[1.0,\"#f0f921\"]]}],\"surface\":[{\"type\":\"surface\",\"colorbar\":{\"outlinewidth\":0,\"ticks\":\"\"},\"colorscale\":[[0.0,\"#0d0887\"],[0.1111111111111111,\"#46039f\"],[0.2222222222222222,\"#7201a8\"],[0.3333333333333333,\"#9c179e\"],[0.4444444444444444,\"#bd3786\"],[0.5555555555555556,\"#d8576b\"],[0.6666666666666666,\"#ed7953\"],[0.7777777777777778,\"#fb9f3a\"],[0.8888888888888888,\"#fdca26\"],[1.0,\"#f0f921\"]]}],\"mesh3d\":[{\"type\":\"mesh3d\",\"colorbar\":{\"outlinewidth\":0,\"ticks\":\"\"}}],\"scatter\":[{\"fillpattern\":{\"fillmode\":\"overlay\",\"size\":10,\"solidity\":0.2},\"type\":\"scatter\"}],\"parcoords\":[{\"type\":\"parcoords\",\"line\":{\"colorbar\":{\"outlinewidth\":0,\"ticks\":\"\"}}}],\"scatterpolargl\":[{\"type\":\"scatterpolargl\",\"marker\":{\"colorbar\":{\"outlinewidth\":0,\"ticks\":\"\"}}}],\"bar\":[{\"error_x\":{\"color\":\"#2a3f5f\"},\"error_y\":{\"color\":\"#2a3f5f\"},\"marker\":{\"line\":{\"color\":\"#E5ECF6\",\"width\":0.5},\"pattern\":{\"fillmode\":\"overlay\",\"size\":10,\"solidity\":0.2}},\"type\":\"bar\"}],\"scattergeo\":[{\"type\":\"scattergeo\",\"marker\":{\"colorbar\":{\"outlinewidth\":0,\"ticks\":\"\"}}}],\"scatterpolar\":[{\"type\":\"scatterpolar\",\"marker\":{\"colorbar\":{\"outlinewidth\":0,\"ticks\":\"\"}}}],\"histogram\":[{\"marker\":{\"pattern\":{\"fillmode\":\"overlay\",\"size\":10,\"solidity\":0.2}},\"type\":\"histogram\"}],\"scattergl\":[{\"type\":\"scattergl\",\"marker\":{\"colorbar\":{\"outlinewidth\":0,\"ticks\":\"\"}}}],\"scatter3d\":[{\"type\":\"scatter3d\",\"line\":{\"colorbar\":{\"outlinewidth\":0,\"ticks\":\"\"}},\"marker\":{\"colorbar\":{\"outlinewidth\":0,\"ticks\":\"\"}}}],\"scattermapbox\":[{\"type\":\"scattermapbox\",\"marker\":{\"colorbar\":{\"outlinewidth\":0,\"ticks\":\"\"}}}],\"scatterternary\":[{\"type\":\"scatterternary\",\"marker\":{\"colorbar\":{\"outlinewidth\":0,\"ticks\":\"\"}}}],\"scattercarpet\":[{\"type\":\"scattercarpet\",\"marker\":{\"colorbar\":{\"outlinewidth\":0,\"ticks\":\"\"}}}],\"carpet\":[{\"aaxis\":{\"endlinecolor\":\"#2a3f5f\",\"gridcolor\":\"white\",\"linecolor\":\"white\",\"minorgridcolor\":\"white\",\"startlinecolor\":\"#2a3f5f\"},\"baxis\":{\"endlinecolor\":\"#2a3f5f\",\"gridcolor\":\"white\",\"linecolor\":\"white\",\"minorgridcolor\":\"white\",\"startlinecolor\":\"#2a3f5f\"},\"type\":\"carpet\"}],\"table\":[{\"cells\":{\"fill\":{\"color\":\"#EBF0F8\"},\"line\":{\"color\":\"white\"}},\"header\":{\"fill\":{\"color\":\"#C8D4E3\"},\"line\":{\"color\":\"white\"}},\"type\":\"table\"}],\"barpolar\":[{\"marker\":{\"line\":{\"color\":\"#E5ECF6\",\"width\":0.5},\"pattern\":{\"fillmode\":\"overlay\",\"size\":10,\"solidity\":0.2}},\"type\":\"barpolar\"}],\"pie\":[{\"automargin\":true,\"type\":\"pie\"}]},\"layout\":{\"autotypenumbers\":\"strict\",\"colorway\":[\"#636efa\",\"#EF553B\",\"#00cc96\",\"#ab63fa\",\"#FFA15A\",\"#19d3f3\",\"#FF6692\",\"#B6E880\",\"#FF97FF\",\"#FECB52\"],\"font\":{\"color\":\"#2a3f5f\"},\"hovermode\":\"closest\",\"hoverlabel\":{\"align\":\"left\"},\"paper_bgcolor\":\"white\",\"plot_bgcolor\":\"#E5ECF6\",\"polar\":{\"bgcolor\":\"#E5ECF6\",\"angularaxis\":{\"gridcolor\":\"white\",\"linecolor\":\"white\",\"ticks\":\"\"},\"radialaxis\":{\"gridcolor\":\"white\",\"linecolor\":\"white\",\"ticks\":\"\"}},\"ternary\":{\"bgcolor\":\"#E5ECF6\",\"aaxis\":{\"gridcolor\":\"white\",\"linecolor\":\"white\",\"ticks\":\"\"},\"baxis\":{\"gridcolor\":\"white\",\"linecolor\":\"white\",\"ticks\":\"\"},\"caxis\":{\"gridcolor\":\"white\",\"linecolor\":\"white\",\"ticks\":\"\"}},\"coloraxis\":{\"colorbar\":{\"outlinewidth\":0,\"ticks\":\"\"}},\"colorscale\":{\"sequential\":[[0.0,\"#0d0887\"],[0.1111111111111111,\"#46039f\"],[0.2222222222222222,\"#7201a8\"],[0.3333333333333333,\"#9c179e\"],[0.4444444444444444,\"#bd3786\"],[0.5555555555555556,\"#d8576b\"],[0.6666666666666666,\"#ed7953\"],[0.7777777777777778,\"#fb9f3a\"],[0.8888888888888888,\"#fdca26\"],[1.0,\"#f0f921\"]],\"sequentialminus\":[[0.0,\"#0d0887\"],[0.1111111111111111,\"#46039f\"],[0.2222222222222222,\"#7201a8\"],[0.3333333333333333,\"#9c179e\"],[0.4444444444444444,\"#bd3786\"],[0.5555555555555556,\"#d8576b\"],[0.6666666666666666,\"#ed7953\"],[0.7777777777777778,\"#fb9f3a\"],[0.8888888888888888,\"#fdca26\"],[1.0,\"#f0f921\"]],\"diverging\":[[0,\"#8e0152\"],[0.1,\"#c51b7d\"],[0.2,\"#de77ae\"],[0.3,\"#f1b6da\"],[0.4,\"#fde0ef\"],[0.5,\"#f7f7f7\"],[0.6,\"#e6f5d0\"],[0.7,\"#b8e186\"],[0.8,\"#7fbc41\"],[0.9,\"#4d9221\"],[1,\"#276419\"]]},\"xaxis\":{\"gridcolor\":\"white\",\"linecolor\":\"white\",\"ticks\":\"\",\"title\":{\"standoff\":15},\"zerolinecolor\":\"white\",\"automargin\":true,\"zerolinewidth\":2},\"yaxis\":{\"gridcolor\":\"white\",\"linecolor\":\"white\",\"ticks\":\"\",\"title\":{\"standoff\":15},\"zerolinecolor\":\"white\",\"automargin\":true,\"zerolinewidth\":2},\"scene\":{\"xaxis\":{\"backgroundcolor\":\"#E5ECF6\",\"gridcolor\":\"white\",\"linecolor\":\"white\",\"showbackground\":true,\"ticks\":\"\",\"zerolinecolor\":\"white\",\"gridwidth\":2},\"yaxis\":{\"backgroundcolor\":\"#E5ECF6\",\"gridcolor\":\"white\",\"linecolor\":\"white\",\"showbackground\":true,\"ticks\":\"\",\"zerolinecolor\":\"white\",\"gridwidth\":2},\"zaxis\":{\"backgroundcolor\":\"#E5ECF6\",\"gridcolor\":\"white\",\"linecolor\":\"white\",\"showbackground\":true,\"ticks\":\"\",\"zerolinecolor\":\"white\",\"gridwidth\":2}},\"shapedefaults\":{\"line\":{\"color\":\"#2a3f5f\"}},\"annotationdefaults\":{\"arrowcolor\":\"#2a3f5f\",\"arrowhead\":0,\"arrowwidth\":1},\"geo\":{\"bgcolor\":\"white\",\"landcolor\":\"#E5ECF6\",\"subunitcolor\":\"white\",\"showland\":true,\"showlakes\":true,\"lakecolor\":\"white\"},\"title\":{\"x\":0.05},\"mapbox\":{\"style\":\"light\"}}},\"xaxis\":{\"anchor\":\"y\",\"domain\":[0.0,1.0],\"type\":\"date\",\"range\":[\"1989\",\"2027\"],\"color\":\"white\"},\"yaxis\":{\"anchor\":\"x\",\"domain\":[0.0,1.0],\"title\":{\"text\":\"y\"},\"visible\":false,\"showticklabels\":false},\"legend\":{\"title\":{\"text\":\"cat\\u00e9gorie\"},\"tracegroupgap\":0,\"font\":{\"color\":\"white\"}},\"title\":{\"text\":\"Smartphone Timeline\",\"font\":{\"color\":\"white\"}},\"barmode\":\"overlay\",\"font\":{\"color\":\"black\"},\"paper_bgcolor\":\"#222222\"},                        {\"responsive\": true}                    ).then(function(){\n",
       "                            \n",
       "var gd = document.getElementById('61355118-a61d-44c1-8483-4cdfaefcf90d');\n",
       "var x = new MutationObserver(function (mutations, observer) {{\n",
       "        var display = window.getComputedStyle(gd).display;\n",
       "        if (!display || display === 'none') {{\n",
       "            console.log([gd, 'removed!']);\n",
       "            Plotly.purge(gd);\n",
       "            observer.disconnect();\n",
       "        }}\n",
       "}});\n",
       "\n",
       "// Listen for the removal of the full notebook cells\n",
       "var notebookContainer = gd.closest('#notebook-container');\n",
       "if (notebookContainer) {{\n",
       "    x.observe(notebookContainer, {childList: true});\n",
       "}}\n",
       "\n",
       "// Listen for the clearing of the current output cell\n",
       "var outputEl = gd.closest('.output');\n",
       "if (outputEl) {{\n",
       "    x.observe(outputEl, {childList: true});\n",
       "}}\n",
       "\n",
       "                        })                };                });            </script>        </div>"
      ]
     },
     "metadata": {},
     "output_type": "display_data"
    }
   ],
   "source": [
    "import plotly.express as px\n",
    "import pandas as pd\n",
    "\n",
    "source = pd.DataFrame([\n",
    "    {\"technologie\": \"Motorola – MicroTAC 9800X 📠\", \"start\": \"1989-04-01\", \"end\": \"1996-01-01\", \"catégorie\": \"Téléphone à clapet\"},\n",
    "    {\"technologie\": \"Nokia – 1011 ⌨\", \"start\": \"1992-11-01\", \"end\": \"1994-01-01\", \"catégorie\": \"Téléphone à clavier\"},\n",
    "    {\"technologie\": \"Apparition des SMS 💬\", \"start\": \"1992-01-01\", \"end\": \"2024-01-01\", \"catégorie\": \"Autres\"},\n",
    "    {\"technologie\": \"IBM – Simon 📱\", \"start\": \"1994-08-01\", \"end\": \"1995-02-01\", \"catégorie\": \"Smartphone\"},\n",
    "    {\"technologie\": \"Motorola – StarTAC 📠\", \"start\": \"1996-01-01\", \"end\": \"1998-01-01\", \"catégorie\": \"Téléphone à clapet\"},\n",
    "    {\"technologie\": \"Apparition des Emojis 😀\", \"start\": \"1998-01-01\", \"end\": \"2024-01-01\", \"catégorie\": \"Autres\"},\n",
    "    {\"technologie\": \"Nokia – 3210 ⌨\", \"start\": \"1999-03-01\", \"end\": \"2002-04-01\", \"catégorie\": \"Téléphone à clavier\"},\n",
    "    {\"technologie\": \"Sharp – J-SH04 📷\", \"start\": \"1999-01-01\", \"end\": \"2000-01-01\", \"catégorie\": \"Téléphone à appareil photo\"},\n",
    "    {\"technologie\": \"Blackberry Quark ⌨\", \"start\": \"2003-01-01\", \"end\": \"2005-01-01\", \"catégorie\": \"Téléphone à clavier\"},\n",
    "    {\"technologie\": \"Apple – Iphone 📱\", \"start\": \"2007-06-01\", \"end\": \"2008-07-01\", \"catégorie\": \"Smartphone\"},\n",
    "    {\"technologie\": \"Android OS 🤖\", \"start\": \"2005-01-01\", \"end\": \"2024-01-01\", \"catégorie\": \"Autres\"},\n",
    "    {\"technologie\": \"HTC – Dream 📱\", \"start\": \"2008-01-01\", \"end\": \"2010-07-01\", \"catégorie\": \"Smartphone\"},\n",
    "    {\"technologie\": \"Apple – Iphone 4 📱\", \"start\": \"2010-06-01\", \"end\": \"2013-09-01\", \"catégorie\": \"Smartphone\"},\n",
    "    {\"technologie\": \"Samsung Galaxy S 📱\", \"start\": \"2010-06-01\", \"end\": \"2012-03-01\", \"catégorie\": \"Smartphone\"},\n",
    "    {\"technologie\": \"Samsung Galaxy Note 📱\", \"start\": \"2011-10-01\", \"end\": \"2012-09-01\", \"catégorie\": \"Smartphone\"},\n",
    "    {\"technologie\": \"One Plus One 📱\", \"start\": \"2014-04-01\", \"end\": \"2016-04-01\", \"catégorie\": \"Smartphone\"},\n",
    "    {\"technologie\": \"Apple Iphone X 📱\", \"start\": \"2017-11-01\", \"end\": \"2018-09-01\", \"catégorie\": \"Smartphone\"},\n",
    "    {\"technologie\": \"Samsung Galaxy Fold 📱\", \"start\": \"2019-09-01\", \"end\": \"2018-12-01\", \"catégorie\": \"Smartphone\"},\n",
    "])\n",
    "\n",
    "\n",
    "\n",
    "source['start'] = pd.to_datetime(source['start'])\n",
    "source['end'] = pd.to_datetime(source['end'])\n",
    "\n",
    "fig = px.timeline(source.sort_values('start'),\n",
    "                x_start=\"start\",\n",
    "                x_end=\"end\",\n",
    "                y=\"technologie\",\n",
    "                text=\"technologie\",\n",
    "                color=\"catégorie\",\n",
    "                color_discrete_sequence=[\"#4E6766\", \"#E4572E\", \"#A5C882\", \"#1E152A\", \"#5AB1BB\"],\n",
    "                title = \"Smartphone Timeline\")\n",
    "fig.update_yaxes(title='y', visible=False, showticklabels=False)\n",
    "\n",
    "fig.update_layout(\n",
    "    xaxis_range=[\"1989\",\"2027\"],\n",
    "    paper_bgcolor=\"#222222\",\n",
    "    font_color=\"black\",\n",
    "    legend_font_color=\"white\",\n",
    "    title_font_color=\"white\",\n",
    "    xaxis=dict(color=\"white\")\n",
    ")\n",
    "\n",
    "fig.show()"
   ]
  },
  {
   "cell_type": "code",
   "execution_count": 3,
   "metadata": {},
   "outputs": [],
   "source": [
    "from plotly_figures.figure_loader import smartphone_graph_loader"
   ]
  },
  {
   "cell_type": "code",
   "execution_count": 4,
   "metadata": {},
   "outputs": [
    {
     "data": {
      "application/vnd.plotly.v1+json": {
       "config": {
        "plotlyServerURL": "https://plot.ly"
       },
       "data": [
        {
         "alignmentgroup": "True",
         "base": [
          "1989-04-01T00:00:00",
          "1996-01-01T00:00:00"
         ],
         "hovertemplate": "catégorie=Téléphone à clapet<br>start=%{base}<br>end=%{x}<br>technologie=%{text}<extra></extra>",
         "legendgroup": "Téléphone à clapet",
         "marker": {
          "color": "#4E6766",
          "pattern": {
           "shape": ""
          }
         },
         "name": "Téléphone à clapet",
         "offsetgroup": "Téléphone à clapet",
         "orientation": "h",
         "showlegend": true,
         "text": [
          "Motorola – MicroTAC 9800X 📠",
          "Motorola – StarTAC 📠"
         ],
         "textposition": "auto",
         "type": "bar",
         "x": [
          213062400000,
          63158400000
         ],
         "xaxis": "x",
         "y": [
          "Motorola – MicroTAC 9800X 📠",
          "Motorola – StarTAC 📠"
         ],
         "yaxis": "y"
        },
        {
         "alignmentgroup": "True",
         "base": [
          "1992-01-01T00:00:00",
          "1998-01-01T00:00:00",
          "2005-01-01T00:00:00"
         ],
         "hovertemplate": "catégorie=Autres<br>start=%{base}<br>end=%{x}<br>technologie=%{text}<extra></extra>",
         "legendgroup": "Autres",
         "marker": {
          "color": "#E4572E",
          "pattern": {
           "shape": ""
          }
         },
         "name": "Autres",
         "offsetgroup": "Autres",
         "orientation": "h",
         "showlegend": true,
         "text": [
          "Apparition des SMS 💬",
          "Apparition des Emojis 😀",
          "Android OS 🤖"
         ],
         "textposition": "auto",
         "type": "bar",
         "x": [
          1009843200000,
          820454400000,
          599529600000
         ],
         "xaxis": "x",
         "y": [
          "Apparition des SMS 💬",
          "Apparition des Emojis 😀",
          "Android OS 🤖"
         ],
         "yaxis": "y"
        },
        {
         "alignmentgroup": "True",
         "base": [
          "1992-11-01T00:00:00",
          "1999-03-01T00:00:00",
          "2003-01-01T00:00:00"
         ],
         "hovertemplate": "catégorie=Téléphone à clavier<br>start=%{base}<br>end=%{x}<br>technologie=%{text}<extra></extra>",
         "legendgroup": "Téléphone à clavier",
         "marker": {
          "color": "#A5C882",
          "pattern": {
           "shape": ""
          }
         },
         "name": "Téléphone à clavier",
         "offsetgroup": "Téléphone à clavier",
         "orientation": "h",
         "showlegend": true,
         "text": [
          "Nokia – 1011 ⌨",
          "Nokia – 3210 ⌨",
          "Blackberry Quark ⌨"
         ],
         "textposition": "auto",
         "type": "bar",
         "x": [
          36806400000,
          97372800000,
          63158400000
         ],
         "xaxis": "x",
         "y": [
          "Nokia – 1011 ⌨",
          "Nokia – 3210 ⌨",
          "Blackberry Quark ⌨"
         ],
         "yaxis": "y"
        },
        {
         "alignmentgroup": "True",
         "base": [
          "1994-08-01T00:00:00",
          "2007-06-01T00:00:00",
          "2008-01-01T00:00:00",
          "2010-06-01T00:00:00",
          "2010-06-01T00:00:00",
          "2011-10-01T00:00:00",
          "2014-04-01T00:00:00",
          "2017-11-01T00:00:00",
          "2019-09-01T00:00:00"
         ],
         "hovertemplate": "catégorie=Smartphone<br>start=%{base}<br>end=%{x}<br>technologie=%{text}<extra></extra>",
         "legendgroup": "Smartphone",
         "marker": {
          "color": "#1E152A",
          "pattern": {
           "shape": ""
          }
         },
         "name": "Smartphone",
         "offsetgroup": "Smartphone",
         "orientation": "h",
         "showlegend": true,
         "text": [
          "IBM – Simon 📱",
          "Apple – Iphone 📱",
          "HTC – Dream 📱",
          "Apple – Iphone 4 📱",
          "Samsung Galaxy S 📱",
          "Samsung Galaxy Note 📱",
          "One Plus One 📱",
          "Apple Iphone X 📱",
          "Samsung Galaxy Fold 📱"
         ],
         "textposition": "auto",
         "type": "bar",
         "x": [
          15897600000,
          34214400000,
          78796800000,
          102643200000,
          55209600000,
          29030400000,
          63158400000,
          26265600000,
          -23673600000
         ],
         "xaxis": "x",
         "y": [
          "IBM – Simon 📱",
          "Apple – Iphone 📱",
          "HTC – Dream 📱",
          "Apple – Iphone 4 📱",
          "Samsung Galaxy S 📱",
          "Samsung Galaxy Note 📱",
          "One Plus One 📱",
          "Apple Iphone X 📱",
          "Samsung Galaxy Fold 📱"
         ],
         "yaxis": "y"
        },
        {
         "alignmentgroup": "True",
         "base": [
          "1999-01-01T00:00:00"
         ],
         "hovertemplate": "catégorie=Téléphone à appareil photo<br>start=%{base}<br>end=%{x}<br>technologie=%{text}<extra></extra>",
         "legendgroup": "Téléphone à appareil photo",
         "marker": {
          "color": "#5AB1BB",
          "pattern": {
           "shape": ""
          }
         },
         "name": "Téléphone à appareil photo",
         "offsetgroup": "Téléphone à appareil photo",
         "orientation": "h",
         "showlegend": true,
         "text": [
          "Sharp – J-SH04 📷"
         ],
         "textposition": "auto",
         "type": "bar",
         "x": [
          31536000000
         ],
         "xaxis": "x",
         "y": [
          "Sharp – J-SH04 📷"
         ],
         "yaxis": "y"
        }
       ],
       "layout": {
        "barmode": "overlay",
        "font": {
         "color": "black"
        },
        "legend": {
         "font": {
          "color": "white"
         },
         "title": {
          "text": "catégorie"
         },
         "tracegroupgap": 0
        },
        "margin": {
         "b": 30,
         "l": 30,
         "pad": 3,
         "r": 30,
         "t": 30
        },
        "paper_bgcolor": "#222222",
        "template": {
         "data": {
          "bar": [
           {
            "error_x": {
             "color": "#2a3f5f"
            },
            "error_y": {
             "color": "#2a3f5f"
            },
            "marker": {
             "line": {
              "color": "#E5ECF6",
              "width": 0.5
             },
             "pattern": {
              "fillmode": "overlay",
              "size": 10,
              "solidity": 0.2
             }
            },
            "type": "bar"
           }
          ],
          "barpolar": [
           {
            "marker": {
             "line": {
              "color": "#E5ECF6",
              "width": 0.5
             },
             "pattern": {
              "fillmode": "overlay",
              "size": 10,
              "solidity": 0.2
             }
            },
            "type": "barpolar"
           }
          ],
          "carpet": [
           {
            "aaxis": {
             "endlinecolor": "#2a3f5f",
             "gridcolor": "white",
             "linecolor": "white",
             "minorgridcolor": "white",
             "startlinecolor": "#2a3f5f"
            },
            "baxis": {
             "endlinecolor": "#2a3f5f",
             "gridcolor": "white",
             "linecolor": "white",
             "minorgridcolor": "white",
             "startlinecolor": "#2a3f5f"
            },
            "type": "carpet"
           }
          ],
          "choropleth": [
           {
            "colorbar": {
             "outlinewidth": 0,
             "ticks": ""
            },
            "type": "choropleth"
           }
          ],
          "contour": [
           {
            "colorbar": {
             "outlinewidth": 0,
             "ticks": ""
            },
            "colorscale": [
             [
              0,
              "#0d0887"
             ],
             [
              0.1111111111111111,
              "#46039f"
             ],
             [
              0.2222222222222222,
              "#7201a8"
             ],
             [
              0.3333333333333333,
              "#9c179e"
             ],
             [
              0.4444444444444444,
              "#bd3786"
             ],
             [
              0.5555555555555556,
              "#d8576b"
             ],
             [
              0.6666666666666666,
              "#ed7953"
             ],
             [
              0.7777777777777778,
              "#fb9f3a"
             ],
             [
              0.8888888888888888,
              "#fdca26"
             ],
             [
              1,
              "#f0f921"
             ]
            ],
            "type": "contour"
           }
          ],
          "contourcarpet": [
           {
            "colorbar": {
             "outlinewidth": 0,
             "ticks": ""
            },
            "type": "contourcarpet"
           }
          ],
          "heatmap": [
           {
            "colorbar": {
             "outlinewidth": 0,
             "ticks": ""
            },
            "colorscale": [
             [
              0,
              "#0d0887"
             ],
             [
              0.1111111111111111,
              "#46039f"
             ],
             [
              0.2222222222222222,
              "#7201a8"
             ],
             [
              0.3333333333333333,
              "#9c179e"
             ],
             [
              0.4444444444444444,
              "#bd3786"
             ],
             [
              0.5555555555555556,
              "#d8576b"
             ],
             [
              0.6666666666666666,
              "#ed7953"
             ],
             [
              0.7777777777777778,
              "#fb9f3a"
             ],
             [
              0.8888888888888888,
              "#fdca26"
             ],
             [
              1,
              "#f0f921"
             ]
            ],
            "type": "heatmap"
           }
          ],
          "heatmapgl": [
           {
            "colorbar": {
             "outlinewidth": 0,
             "ticks": ""
            },
            "colorscale": [
             [
              0,
              "#0d0887"
             ],
             [
              0.1111111111111111,
              "#46039f"
             ],
             [
              0.2222222222222222,
              "#7201a8"
             ],
             [
              0.3333333333333333,
              "#9c179e"
             ],
             [
              0.4444444444444444,
              "#bd3786"
             ],
             [
              0.5555555555555556,
              "#d8576b"
             ],
             [
              0.6666666666666666,
              "#ed7953"
             ],
             [
              0.7777777777777778,
              "#fb9f3a"
             ],
             [
              0.8888888888888888,
              "#fdca26"
             ],
             [
              1,
              "#f0f921"
             ]
            ],
            "type": "heatmapgl"
           }
          ],
          "histogram": [
           {
            "marker": {
             "pattern": {
              "fillmode": "overlay",
              "size": 10,
              "solidity": 0.2
             }
            },
            "type": "histogram"
           }
          ],
          "histogram2d": [
           {
            "colorbar": {
             "outlinewidth": 0,
             "ticks": ""
            },
            "colorscale": [
             [
              0,
              "#0d0887"
             ],
             [
              0.1111111111111111,
              "#46039f"
             ],
             [
              0.2222222222222222,
              "#7201a8"
             ],
             [
              0.3333333333333333,
              "#9c179e"
             ],
             [
              0.4444444444444444,
              "#bd3786"
             ],
             [
              0.5555555555555556,
              "#d8576b"
             ],
             [
              0.6666666666666666,
              "#ed7953"
             ],
             [
              0.7777777777777778,
              "#fb9f3a"
             ],
             [
              0.8888888888888888,
              "#fdca26"
             ],
             [
              1,
              "#f0f921"
             ]
            ],
            "type": "histogram2d"
           }
          ],
          "histogram2dcontour": [
           {
            "colorbar": {
             "outlinewidth": 0,
             "ticks": ""
            },
            "colorscale": [
             [
              0,
              "#0d0887"
             ],
             [
              0.1111111111111111,
              "#46039f"
             ],
             [
              0.2222222222222222,
              "#7201a8"
             ],
             [
              0.3333333333333333,
              "#9c179e"
             ],
             [
              0.4444444444444444,
              "#bd3786"
             ],
             [
              0.5555555555555556,
              "#d8576b"
             ],
             [
              0.6666666666666666,
              "#ed7953"
             ],
             [
              0.7777777777777778,
              "#fb9f3a"
             ],
             [
              0.8888888888888888,
              "#fdca26"
             ],
             [
              1,
              "#f0f921"
             ]
            ],
            "type": "histogram2dcontour"
           }
          ],
          "mesh3d": [
           {
            "colorbar": {
             "outlinewidth": 0,
             "ticks": ""
            },
            "type": "mesh3d"
           }
          ],
          "parcoords": [
           {
            "line": {
             "colorbar": {
              "outlinewidth": 0,
              "ticks": ""
             }
            },
            "type": "parcoords"
           }
          ],
          "pie": [
           {
            "automargin": true,
            "type": "pie"
           }
          ],
          "scatter": [
           {
            "fillpattern": {
             "fillmode": "overlay",
             "size": 10,
             "solidity": 0.2
            },
            "type": "scatter"
           }
          ],
          "scatter3d": [
           {
            "line": {
             "colorbar": {
              "outlinewidth": 0,
              "ticks": ""
             }
            },
            "marker": {
             "colorbar": {
              "outlinewidth": 0,
              "ticks": ""
             }
            },
            "type": "scatter3d"
           }
          ],
          "scattercarpet": [
           {
            "marker": {
             "colorbar": {
              "outlinewidth": 0,
              "ticks": ""
             }
            },
            "type": "scattercarpet"
           }
          ],
          "scattergeo": [
           {
            "marker": {
             "colorbar": {
              "outlinewidth": 0,
              "ticks": ""
             }
            },
            "type": "scattergeo"
           }
          ],
          "scattergl": [
           {
            "marker": {
             "colorbar": {
              "outlinewidth": 0,
              "ticks": ""
             }
            },
            "type": "scattergl"
           }
          ],
          "scattermapbox": [
           {
            "marker": {
             "colorbar": {
              "outlinewidth": 0,
              "ticks": ""
             }
            },
            "type": "scattermapbox"
           }
          ],
          "scatterpolar": [
           {
            "marker": {
             "colorbar": {
              "outlinewidth": 0,
              "ticks": ""
             }
            },
            "type": "scatterpolar"
           }
          ],
          "scatterpolargl": [
           {
            "marker": {
             "colorbar": {
              "outlinewidth": 0,
              "ticks": ""
             }
            },
            "type": "scatterpolargl"
           }
          ],
          "scatterternary": [
           {
            "marker": {
             "colorbar": {
              "outlinewidth": 0,
              "ticks": ""
             }
            },
            "type": "scatterternary"
           }
          ],
          "surface": [
           {
            "colorbar": {
             "outlinewidth": 0,
             "ticks": ""
            },
            "colorscale": [
             [
              0,
              "#0d0887"
             ],
             [
              0.1111111111111111,
              "#46039f"
             ],
             [
              0.2222222222222222,
              "#7201a8"
             ],
             [
              0.3333333333333333,
              "#9c179e"
             ],
             [
              0.4444444444444444,
              "#bd3786"
             ],
             [
              0.5555555555555556,
              "#d8576b"
             ],
             [
              0.6666666666666666,
              "#ed7953"
             ],
             [
              0.7777777777777778,
              "#fb9f3a"
             ],
             [
              0.8888888888888888,
              "#fdca26"
             ],
             [
              1,
              "#f0f921"
             ]
            ],
            "type": "surface"
           }
          ],
          "table": [
           {
            "cells": {
             "fill": {
              "color": "#EBF0F8"
             },
             "line": {
              "color": "white"
             }
            },
            "header": {
             "fill": {
              "color": "#C8D4E3"
             },
             "line": {
              "color": "white"
             }
            },
            "type": "table"
           }
          ]
         },
         "layout": {
          "annotationdefaults": {
           "arrowcolor": "#2a3f5f",
           "arrowhead": 0,
           "arrowwidth": 1
          },
          "autotypenumbers": "strict",
          "coloraxis": {
           "colorbar": {
            "outlinewidth": 0,
            "ticks": ""
           }
          },
          "colorscale": {
           "diverging": [
            [
             0,
             "#8e0152"
            ],
            [
             0.1,
             "#c51b7d"
            ],
            [
             0.2,
             "#de77ae"
            ],
            [
             0.3,
             "#f1b6da"
            ],
            [
             0.4,
             "#fde0ef"
            ],
            [
             0.5,
             "#f7f7f7"
            ],
            [
             0.6,
             "#e6f5d0"
            ],
            [
             0.7,
             "#b8e186"
            ],
            [
             0.8,
             "#7fbc41"
            ],
            [
             0.9,
             "#4d9221"
            ],
            [
             1,
             "#276419"
            ]
           ],
           "sequential": [
            [
             0,
             "#0d0887"
            ],
            [
             0.1111111111111111,
             "#46039f"
            ],
            [
             0.2222222222222222,
             "#7201a8"
            ],
            [
             0.3333333333333333,
             "#9c179e"
            ],
            [
             0.4444444444444444,
             "#bd3786"
            ],
            [
             0.5555555555555556,
             "#d8576b"
            ],
            [
             0.6666666666666666,
             "#ed7953"
            ],
            [
             0.7777777777777778,
             "#fb9f3a"
            ],
            [
             0.8888888888888888,
             "#fdca26"
            ],
            [
             1,
             "#f0f921"
            ]
           ],
           "sequentialminus": [
            [
             0,
             "#0d0887"
            ],
            [
             0.1111111111111111,
             "#46039f"
            ],
            [
             0.2222222222222222,
             "#7201a8"
            ],
            [
             0.3333333333333333,
             "#9c179e"
            ],
            [
             0.4444444444444444,
             "#bd3786"
            ],
            [
             0.5555555555555556,
             "#d8576b"
            ],
            [
             0.6666666666666666,
             "#ed7953"
            ],
            [
             0.7777777777777778,
             "#fb9f3a"
            ],
            [
             0.8888888888888888,
             "#fdca26"
            ],
            [
             1,
             "#f0f921"
            ]
           ]
          },
          "colorway": [
           "#636efa",
           "#EF553B",
           "#00cc96",
           "#ab63fa",
           "#FFA15A",
           "#19d3f3",
           "#FF6692",
           "#B6E880",
           "#FF97FF",
           "#FECB52"
          ],
          "font": {
           "color": "#2a3f5f"
          },
          "geo": {
           "bgcolor": "white",
           "lakecolor": "white",
           "landcolor": "#E5ECF6",
           "showlakes": true,
           "showland": true,
           "subunitcolor": "white"
          },
          "hoverlabel": {
           "align": "left"
          },
          "hovermode": "closest",
          "mapbox": {
           "style": "light"
          },
          "paper_bgcolor": "white",
          "plot_bgcolor": "#E5ECF6",
          "polar": {
           "angularaxis": {
            "gridcolor": "white",
            "linecolor": "white",
            "ticks": ""
           },
           "bgcolor": "#E5ECF6",
           "radialaxis": {
            "gridcolor": "white",
            "linecolor": "white",
            "ticks": ""
           }
          },
          "scene": {
           "xaxis": {
            "backgroundcolor": "#E5ECF6",
            "gridcolor": "white",
            "gridwidth": 2,
            "linecolor": "white",
            "showbackground": true,
            "ticks": "",
            "zerolinecolor": "white"
           },
           "yaxis": {
            "backgroundcolor": "#E5ECF6",
            "gridcolor": "white",
            "gridwidth": 2,
            "linecolor": "white",
            "showbackground": true,
            "ticks": "",
            "zerolinecolor": "white"
           },
           "zaxis": {
            "backgroundcolor": "#E5ECF6",
            "gridcolor": "white",
            "gridwidth": 2,
            "linecolor": "white",
            "showbackground": true,
            "ticks": "",
            "zerolinecolor": "white"
           }
          },
          "shapedefaults": {
           "line": {
            "color": "#2a3f5f"
           }
          },
          "ternary": {
           "aaxis": {
            "gridcolor": "white",
            "linecolor": "white",
            "ticks": ""
           },
           "baxis": {
            "gridcolor": "white",
            "linecolor": "white",
            "ticks": ""
           },
           "bgcolor": "#E5ECF6",
           "caxis": {
            "gridcolor": "white",
            "linecolor": "white",
            "ticks": ""
           }
          },
          "title": {
           "x": 0.05
          },
          "xaxis": {
           "automargin": true,
           "gridcolor": "white",
           "linecolor": "white",
           "ticks": "",
           "title": {
            "standoff": 15
           },
           "zerolinecolor": "white",
           "zerolinewidth": 2
          },
          "yaxis": {
           "automargin": true,
           "gridcolor": "white",
           "linecolor": "white",
           "ticks": "",
           "title": {
            "standoff": 15
           },
           "zerolinecolor": "white",
           "zerolinewidth": 2
          }
         }
        },
        "title": {
         "font": {
          "color": "white"
         },
         "text": "Smartphone Timeline"
        },
        "xaxis": {
         "anchor": "y",
         "color": "white",
         "domain": [
          0,
          1
         ],
         "range": [
          "1989",
          "2027"
         ],
         "type": "date"
        },
        "yaxis": {
         "anchor": "x",
         "domain": [
          0,
          1
         ],
         "showticklabels": false,
         "title": {
          "text": "y"
         },
         "visible": false
        }
       }
      }
     },
     "metadata": {},
     "output_type": "display_data"
    }
   ],
   "source": [
    "smartphone_graph_loader()"
   ]
  }
 ],
 "metadata": {
  "kernelspec": {
   "display_name": "Python 3",
   "language": "python",
   "name": "python3"
  },
  "language_info": {
   "codemirror_mode": {
    "name": "ipython",
    "version": 3
   },
   "file_extension": ".py",
   "mimetype": "text/x-python",
   "name": "python",
   "nbconvert_exporter": "python",
   "pygments_lexer": "ipython3",
   "version": "3.10.6"
  }
 },
 "nbformat": 4,
 "nbformat_minor": 2
}
