{
 "cells": [
  {
   "cell_type": "code",
   "execution_count": 1,
   "metadata": {},
   "outputs": [],
   "source": [
    "from script.scraper_functions import *\n",
    "from script.soupifier import *\n",
    "from serde.json import to_json\n",
    "import numpy as np\n",
    "from itertools import chain"
   ]
  },
  {
   "cell_type": "markdown",
   "metadata": {},
   "source": [
    "## Le code ci-dessous lance le `scraper`\n",
    "\n",
    "- Tu peux changer le nombre d'*URL* de **19** à 1 ou 2 pour tester ça prendra beaucoup moins longtemps à générer\n",
    "- Lien [`Darty`](https://www.darty.com/nav/extra/list?seller=311289-0-327183-311290-311291-328771-311452&cat=89054&state=new_offer&persist_sold_by_darty=true) $\\Rightarrow$ en choisissant les produits uniquement vendus par Darty + Neufs on a 567 produits.\n",
    "- Avoir un comparatif Boulanger/Darty pourrait être intéressant\n",
    "- Voir pour récupérer les images des téléphones pour plus tard dans l'appli - voir : https://discuss.streamlit.io/t/add-image-and-header-to-streamlit-dataframe-table/36065/3"
   ]
  },
  {
   "cell_type": "code",
   "execution_count": 2,
   "metadata": {},
   "outputs": [
    {
     "name": "stdout",
     "output_type": "stream",
     "text": [
      "Page 1 -> Successfull Extraction.\n"
     ]
    },
    {
     "data": {
      "text/html": [
       "<pre style=\"white-space:pre;overflow-x:auto;line-height:normal;font-family:Menlo,'DejaVu Sans Mono',consolas,'Courier New',monospace\"><span style=\"font-style: italic\">Elapsed time</span> for <span style=\"color: #800000; text-decoration-color: #800000; font-weight: bold\">read_pages</span> function: <span style=\"color: #008080; text-decoration-color: #008080; font-weight: bold\">8.326</span> seconds.\n",
       "</pre>\n"
      ],
      "text/plain": [
       "\u001b[3mElapsed time\u001b[0m for \u001b[1;31mread_pages\u001b[0m function: \u001b[1;36m8.326\u001b[0m seconds.\n"
      ]
     },
     "metadata": {},
     "output_type": "display_data"
    }
   ],
   "source": [
    "session = create_session()\n",
    "url_list = create_url_list(URL, 1)\n",
    "pages = read_pages(url_list=url_list, session=session)"
   ]
  },
  {
   "cell_type": "code",
   "execution_count": 3,
   "metadata": {},
   "outputs": [
    {
     "data": {
      "text/html": [
       "<pre style=\"white-space:pre;overflow-x:auto;line-height:normal;font-family:Menlo,'DejaVu Sans Mono',consolas,'Courier New',monospace\"><span style=\"font-style: italic\">Elapsed time</span> for <span style=\"color: #800000; text-decoration-color: #800000; font-weight: bold\">extract_all_urls</span> function: <span style=\"color: #008080; text-decoration-color: #008080; font-weight: bold\">0.488</span> seconds.\n",
       "</pre>\n"
      ],
      "text/plain": [
       "\u001b[3mElapsed time\u001b[0m for \u001b[1;31mextract_all_urls\u001b[0m function: \u001b[1;36m0.488\u001b[0m seconds.\n"
      ]
     },
     "metadata": {},
     "output_type": "display_data"
    },
    {
     "name": "stdout",
     "output_type": "stream",
     "text": [
      "--------------------\n",
      "Product 1 -> Successfull Extraction.\n",
      "Product 2 -> Successfull Extraction.\n",
      "Product 3 -> Successfull Extraction.\n",
      "Product 4 -> Successfull Extraction.\n",
      "Product 5 -> Successfull Extraction.\n",
      "Product 6 -> Successfull Extraction.\n",
      "Product 7 -> Successfull Extraction.\n",
      "Product 8 -> Successfull Extraction.\n",
      "Product 9 -> Successfull Extraction.\n",
      "Product 10 -> Successfull Extraction.\n",
      "Product 11 -> Successfull Extraction.\n",
      "Product 12 -> Successfull Extraction.\n",
      "Product 13 -> Successfull Extraction.\n",
      "Product 14 -> Successfull Extraction.\n",
      "Product 15 -> Successfull Extraction.\n",
      "Product 16 -> Successfull Extraction.\n",
      "Product 17 -> Successfull Extraction.\n",
      "Product 18 -> Successfull Extraction.\n",
      "Product 19 -> Successfull Extraction.\n",
      "Product 20 -> Successfull Extraction.\n",
      "Product 21 -> Successfull Extraction.\n",
      "Product 22 -> Successfull Extraction.\n",
      "Product 23 -> Successfull Extraction.\n",
      "Product 24 -> Successfull Extraction.\n",
      "Product 25 -> Successfull Extraction.\n",
      "Product 26 -> Successfull Extraction.\n",
      "Product 27 -> Successfull Extraction.\n",
      "Product 28 -> Successfull Extraction.\n",
      "Product 29 -> Successfull Extraction.\n",
      "Product 30 -> Successfull Extraction.\n"
     ]
    },
    {
     "data": {
      "text/html": [
       "<pre style=\"white-space:pre;overflow-x:auto;line-height:normal;font-family:Menlo,'DejaVu Sans Mono',consolas,'Courier New',monospace\"><span style=\"font-style: italic\">Elapsed time</span> for <span style=\"color: #800000; text-decoration-color: #800000; font-weight: bold\">extract_all_pages</span> function: <span style=\"color: #008080; text-decoration-color: #008080; font-weight: bold\">59.688</span> seconds.\n",
       "</pre>\n"
      ],
      "text/plain": [
       "\u001b[3mElapsed time\u001b[0m for \u001b[1;31mextract_all_pages\u001b[0m function: \u001b[1;36m59.688\u001b[0m seconds.\n"
      ]
     },
     "metadata": {},
     "output_type": "display_data"
    }
   ],
   "source": [
    "all_urls = extract_all_urls(pages)\n",
    "print(\"--------------------\")\n",
    "product_pages = extract_all_pages(all_urls, session)"
   ]
  },
  {
   "cell_type": "markdown",
   "metadata": {},
   "source": [
    "Il faudrait créer une fonction pour la génération de la liste des smartphones + l'export en `json`"
   ]
  },
  {
   "cell_type": "code",
   "execution_count": 8,
   "metadata": {},
   "outputs": [],
   "source": [
    "smartphone_list = list()\n",
    "for article in product_pages:\n",
    "    soup = BeautifulSoup(article, \"html.parser\")\n",
    "    dict_features = extract_features(soup)\n",
    "    smartphone = smartphone_characteristics(dict_features)\n",
    "    smartphone_list.append(smartphone)"
   ]
  },
  {
   "cell_type": "code",
   "execution_count": 13,
   "metadata": {},
   "outputs": [],
   "source": [
    "smartphones_json = to_json(smartphone_list)"
   ]
  },
  {
   "cell_type": "code",
   "execution_count": 14,
   "metadata": {},
   "outputs": [],
   "source": [
    "file_path = \"data/smartphones.json\"\n",
    "\n",
    "with open(file_path, \"w\", encoding=\"utf-8\") as json_file:\n",
    "    json_file.write(smartphones_json)"
   ]
  },
  {
   "cell_type": "markdown",
   "metadata": {},
   "source": [
    "## Charge le Dataframe dans `polars`"
   ]
  },
  {
   "cell_type": "code",
   "execution_count": 1,
   "metadata": {},
   "outputs": [],
   "source": [
    "import polars as pl\n",
    "from script.polars_gazprom import *"
   ]
  },
  {
   "cell_type": "code",
   "execution_count": 2,
   "metadata": {},
   "outputs": [],
   "source": [
    "df_brut = pl.read_json(\"data/smartphones.json\")"
   ]
  },
  {
   "cell_type": "markdown",
   "metadata": {},
   "source": [
    "### Pipeline"
   ]
  },
  {
   "cell_type": "markdown",
   "metadata": {},
   "source": [
    "Sur `535` extractions, il y a `436` téléphones valides avec les caractéristiques. Pas mal ?\n",
    "\n",
    "Pour obtenir la *PPI* (Pixels per Inch) on fait : \n",
    "\n",
    "$$PPI = \\dfrac{\\text{diagonal\\_pixels}}{\\text{screen\\_size} (inch)}$$"
   ]
  },
  {
   "cell_type": "code",
   "execution_count": 4,
   "metadata": {},
   "outputs": [],
   "source": [
    "df = NordStream(df_brut)"
   ]
  },
  {
   "cell_type": "code",
   "execution_count": 5,
   "metadata": {},
   "outputs": [
    {
     "data": {
      "text/html": [
       "<div><style>\n",
       ".dataframe > thead > tr > th,\n",
       ".dataframe > tbody > tr > td {\n",
       "  text-align: right;\n",
       "  white-space: pre-wrap;\n",
       "}\n",
       "</style>\n",
       "<small>shape: (436, 31)</small><table border=\"1\" class=\"dataframe\"><thead><tr><th>sensor</th><th>width</th><th>screen_type</th><th>charging_type</th><th>sensor_resolution</th><th>made_in</th><th>usb_type_c</th><th>thickness</th><th>stars</th><th>battery</th><th>ram</th><th>das_head</th><th>upgrade_storage</th><th>das_chest</th><th>price</th><th>reviews</th><th>fast_charging</th><th>cpu</th><th>brand</th><th>storage</th><th>net_weight</th><th>height</th><th>screen_size</th><th>network</th><th>color</th><th>das_limbs</th><th>sim_type</th><th>model</th><th>screen_tech</th><th>repairability_index</th><th>diagonal_pixels</th></tr><tr><td>str</td><td>str</td><td>str</td><td>str</td><td>str</td><td>str</td><td>bool</td><td>str</td><td>f64</td><td>i64</td><td>str</td><td>str</td><td>bool</td><td>str</td><td>f64</td><td>i64</td><td>bool</td><td>str</td><td>str</td><td>str</td><td>str</td><td>str</td><td>f64</td><td>str</td><td>str</td><td>str</td><td>str</td><td>str</td><td>str</td><td>str</td><td>f64</td></tr></thead><tbody><tr><td>&quot;3&quot;</td><td>&quot;0,70 mm&quot;</td><td>&quot;Plat&quot;</td><td>&quot;Possibilité de…</td><td>&quot;12 mégapixels+…</td><td>&quot;Thaïlande&quot;</td><td>true</td><td>&quot;0,90 mm&quot;</td><td>0.0</td><td>5000</td><td>&quot;8 Go&quot;</td><td>&quot;0,950 W/kg&quot;</td><td>true</td><td>&quot;1,050 W/kg&quot;</td><td>999.0</td><td>0</td><td>true</td><td>&quot;Qualcomm Snapd…</td><td>&quot;SONY&quot;</td><td>&quot;128 Go&quot;</td><td>&quot;0,00 g&quot;</td><td>&quot;15,40 mm&quot;</td><td>6.1</td><td>&quot;5G&quot;</td><td>&quot;Argent&quot;</td><td>&quot;2,110 W/kg&quot;</td><td>&quot;Nano SIM et eS…</td><td>&quot;SONY Xperia 5 …</td><td>&quot;OLED FHD+&quot;</td><td>&quot;8,5 /10&quot;</td><td>2741.678318</td></tr><tr><td>&quot;3&quot;</td><td>&quot;87,00 mm&quot;</td><td>&quot;Plat&quot;</td><td>&quot;Possibilité de…</td><td>&quot;50 mégapixels+…</td><td>&quot;Viêt Nam&quot;</td><td>true</td><td>&quot;0,80 mm&quot;</td><td>4.0</td><td>3700</td><td>&quot;8 Go&quot;</td><td>&quot;1,210 W/kg&quot;</td><td>false</td><td>&quot;1,590 W/kg&quot;</td><td>857.59</td><td>1</td><td>true</td><td>&quot;Exynos 2200&quot;</td><td>&quot;SAMSUNG&quot;</td><td>&quot;256 Go&quot;</td><td>&quot;167,00 g&quot;</td><td>&quot;146,00 mm&quot;</td><td>6.1</td><td>&quot;5G&quot;</td><td>&quot;Noir&quot;</td><td>&quot;2,710 W/kg&quot;</td><td>&quot;Nano SIM et eS…</td><td>&quot;Samsung Galaxy…</td><td>&quot;Dynamic AMOLED…</td><td>&quot;8,2 /10&quot;</td><td>2577.207791</td></tr><tr><td>&quot;2&quot;</td><td>&quot;74,70 mm&quot;</td><td>&quot;Plat&quot;</td><td>&quot;Pas de charge …</td><td>&quot;50 mégapixels+…</td><td>&quot;Chine&quot;</td><td>true</td><td>&quot;8,20 mm&quot;</td><td>4.3333</td><td>5000</td><td>&quot;4 Go&quot;</td><td>&quot;0,980 W/kg&quot;</td><td>true</td><td>&quot;1,320 W/kg&quot;</td><td>199.0</td><td>3</td><td>false</td><td>&quot;8 coeurs jusqu…</td><td>&quot;MOTOROLA&quot;</td><td>&quot;128 Go&quot;</td><td>&quot;183,00 g&quot;</td><td>&quot;162,70 mm&quot;</td><td>6.5</td><td>&quot;5G&quot;</td><td>&quot;Bleu&quot;</td><td>&quot;2,980 W/kg&quot;</td><td>&quot;Nano SIM et eS…</td><td>&quot;Motorola G53&quot;</td><td>&quot;LCD&quot;</td><td>&quot;7,1 /10&quot;</td><td>1754.536976</td></tr><tr><td>&quot;3&quot;</td><td>&quot;7,10 mm&quot;</td><td>&quot;Plat&quot;</td><td>&quot;Possibilité de…</td><td>&quot;50 mégapixels+…</td><td>&quot;Viêt Nam&quot;</td><td>true</td><td>&quot;0,90 mm&quot;</td><td>0.0</td><td>4500</td><td>&quot;8 Go&quot;</td><td>&quot;0,980 W/kg&quot;</td><td>false</td><td>&quot;1,200 W/kg&quot;</td><td>799.0</td><td>0</td><td>true</td><td>&quot;Google Tensor …</td><td>&quot;GOOGLE&quot;</td><td>&quot;128 Go&quot;</td><td>null</td><td>&quot;15,10 mm&quot;</td><td>6.2</td><td>&quot;5G&quot;</td><td>&quot;Noir&quot;</td><td>&quot;2,490 W/kg&quot;</td><td>&quot;2Nano sim ou 1…</td><td>&quot;Google Pixel 8…</td><td>&quot;Actua ou OLED …</td><td>&quot;8,2 /10&quot;</td><td>2631.805464</td></tr><tr><td>&quot;1&quot;</td><td>&quot;77,10 mm&quot;</td><td>&quot;Plat&quot;</td><td>&quot;Pas de charge …</td><td>&quot;13 mégapixels&quot;</td><td>&quot;Chine&quot;</td><td>true</td><td>&quot;9,00 mm&quot;</td><td>4.0</td><td>5000</td><td>&quot;2 Go&quot;</td><td>&quot;0,398 W/kg&quot;</td><td>true</td><td>&quot;1,186 W/kg&quot;</td><td>95.9</td><td>2</td><td>true</td><td>&quot;8 coeurs jusqu…</td><td>&quot;XIAOMI&quot;</td><td>&quot;32 Go&quot;</td><td>&quot;194,00 g&quot;</td><td>&quot;164,90 mm&quot;</td><td>6.5</td><td>&quot;4G+&quot;</td><td>&quot;Gris&quot;</td><td>&quot;2,526 W/kg&quot;</td><td>&quot;Nano SIM (x2) …</td><td>&quot;Xiaomi Redmi 9…</td><td>&quot;HD+&quot;</td><td>&quot;7,0 /10&quot;</td><td>1754.536976</td></tr><tr><td>&quot;3&quot;</td><td>&quot;73,90 mm&quot;</td><td>&quot;Bords incurvés…</td><td>&quot;Pas de charge …</td><td>&quot;64 mégapixels+…</td><td>&quot;Chine&quot;</td><td>true</td><td>&quot;7,90 mm&quot;</td><td>4.1333</td><td>5100</td><td>&quot;8 Go&quot;</td><td>&quot;0,820 W/kg&quot;</td><td>false</td><td>&quot;1,270 W/kg&quot;</td><td>299.0</td><td>15</td><td>true</td><td>&quot;Qualcomm Snapd…</td><td>&quot;HONOR&quot;</td><td>&quot;256 Go&quot;</td><td>&quot;175,00 g&quot;</td><td>&quot;161,60 mm&quot;</td><td>6.7</td><td>&quot;5G&quot;</td><td>&quot;Noir&quot;</td><td>&quot;2,810 W/kg&quot;</td><td>&quot;Nano SIM (x2)&quot;</td><td>&quot;HONOR Magic5 L…</td><td>&quot;AMOLED (rigide…</td><td>&quot;8,0 /10&quot;</td><td>2631.805464</td></tr><tr><td>&quot;3&quot;</td><td>&quot;75,90 mm&quot;</td><td>&quot;Plat&quot;</td><td>&quot;Possibilité de…</td><td>&quot;50 mégapixels+…</td><td>&quot;Chine&quot;</td><td>true</td><td>&quot;8,90 mm&quot;</td><td>4.087</td><td>5000</td><td>&quot;12 Go&quot;</td><td>&quot;0,990 W/kg&quot;</td><td>false</td><td>&quot;1,400 W/kg&quot;</td><td>633.67</td><td>23</td><td>true</td><td>&quot;Google Tensor&quot;</td><td>&quot;GOOGLE&quot;</td><td>&quot;128 Go&quot;</td><td>&quot;210,00 g&quot;</td><td>&quot;163,90 mm&quot;</td><td>6.7</td><td>&quot;5G&quot;</td><td>&quot;Noir&quot;</td><td>&quot;2,960 W/kg&quot;</td><td>&quot;Dual SIM&quot;</td><td>&quot;Google Pixel 6…</td><td>&quot;Non communiqué…</td><td>&quot;6,4 /10&quot;</td><td>3436.277055</td></tr><tr><td>null</td><td>&quot;73,50 mm&quot;</td><td>&quot;Borderless&quot;</td><td>&quot;Pas de charge …</td><td>&quot;Non communiqué…</td><td>&quot;Chine&quot;</td><td>true</td><td>&quot;8,00 mm&quot;</td><td>0.0</td><td>4300</td><td>&quot;6 Go&quot;</td><td>&quot;1,139 W/kg&quot;</td><td>true</td><td>&quot;1,180 W/kg&quot;</td><td>304.25</td><td>0</td><td>true</td><td>&quot;Non communiqué…</td><td>&quot;REALME&quot;</td><td>&quot;128 Go&quot;</td><td>&quot;174,00 g&quot;</td><td>&quot;159,10 mm&quot;</td><td>6.4</td><td>&quot;5G&quot;</td><td>&quot;Noir&quot;</td><td>&quot;1,880 W/kg&quot;</td><td>&quot;Nano SIM&quot;</td><td>&quot;Realme GT Mast…</td><td>&quot;Non communiqué…</td><td>&quot;6,2 /10&quot;</td><td>2631.805464</td></tr><tr><td>&quot;3&quot;</td><td>&quot;7,10 mm&quot;</td><td>&quot;Plat&quot;</td><td>&quot;Possibilité de…</td><td>&quot;50 mégapixels+…</td><td>&quot;Viêt Nam&quot;</td><td>true</td><td>&quot;0,90 mm&quot;</td><td>0.0</td><td>4500</td><td>&quot;8 Go&quot;</td><td>&quot;0,980 W/kg&quot;</td><td>false</td><td>&quot;1,200 W/kg&quot;</td><td>859.0</td><td>0</td><td>true</td><td>&quot;Google Tensor …</td><td>&quot;GOOGLE&quot;</td><td>&quot;256 Go&quot;</td><td>null</td><td>&quot;15,10 mm&quot;</td><td>6.2</td><td>&quot;5G&quot;</td><td>&quot;Vert&quot;</td><td>&quot;2,490 W/kg&quot;</td><td>&quot;2Nano sim ou 1…</td><td>&quot;Google Pixel 8…</td><td>&quot;Actua ou OLED …</td><td>&quot;8,2 /10&quot;</td><td>2631.805464</td></tr><tr><td>null</td><td>&quot;7,60 mm&quot;</td><td>&quot;Plat&quot;</td><td>&quot;Possibilité de…</td><td>&quot;50 mégapixels …</td><td>&quot;Viêt Nam&quot;</td><td>true</td><td>&quot;0,90 mm&quot;</td><td>0.0</td><td>5000</td><td>&quot;12 Go&quot;</td><td>&quot;0,840 W/kg&quot;</td><td>false</td><td>&quot;1,200 W/kg&quot;</td><td>1099.0</td><td>0</td><td>true</td><td>&quot;Google Tensor …</td><td>&quot;GOOGLE&quot;</td><td>&quot;128 Go&quot;</td><td>null</td><td>&quot;16,30 mm&quot;</td><td>6.7</td><td>&quot;5G&quot;</td><td>&quot;Blanc&quot;</td><td>&quot;2,500 W/kg&quot;</td><td>&quot;2Nano sim ou 1…</td><td>&quot;Google Pixel 8…</td><td>&quot;Super Actua ou…</td><td>&quot;8,2 /10&quot;</td><td>3080.636298</td></tr><tr><td>&quot;4&quot;</td><td>&quot;75,60 mm&quot;</td><td>&quot;Plat&quot;</td><td>&quot;Possibilité de…</td><td>&quot;64 mégapixels+…</td><td>&quot;Chine&quot;</td><td>true</td><td>&quot;8,50 mm&quot;</td><td>3.6667</td><td>5000</td><td>&quot;6 Go&quot;</td><td>&quot;0,987 W/kg&quot;</td><td>true</td><td>&quot;1,251 W/kg&quot;</td><td>259.06</td><td>3</td><td>true</td><td>&quot;8 coeurs jusqu…</td><td>&quot;REALME&quot;</td><td>&quot;128 Go&quot;</td><td>&quot;195,00 g&quot;</td><td>&quot;164,30 mm&quot;</td><td>6.6</td><td>&quot;4G+&quot;</td><td>&quot;Noir&quot;</td><td>&quot;2,725 W/kg&quot;</td><td>&quot;Nano SIM&quot;</td><td>&quot;Realme 9 Pro&quot;</td><td>&quot;AMOLED (OLED)&quot;</td><td>&quot;6,2 /10&quot;</td><td>2631.805464</td></tr><tr><td>&quot;2&quot;</td><td>&quot;78,10 mm&quot;</td><td>&quot;Plat&quot;</td><td>&quot;Possibilité de…</td><td>&quot;12 mégapixels+…</td><td>&quot;Chine&quot;</td><td>false</td><td>&quot;7,80 mm&quot;</td><td>4.6809</td><td>4323</td><td>&quot;4 Go&quot;</td><td>&quot;0,990 W/kg&quot;</td><td>false</td><td>&quot;0,990 W/kg&quot;</td><td>969.0</td><td>47</td><td>true</td><td>&quot;Puce A15&quot;</td><td>&quot;APPLE&quot;</td><td>&quot;128 Go&quot;</td><td>&quot;203,00 g&quot;</td><td>&quot;160,80 mm&quot;</td><td>6.7</td><td>&quot;5G&quot;</td><td>&quot;Jaune&quot;</td><td>&quot;3,000 W/kg&quot;</td><td>&quot;Nano SIM et eS…</td><td>&quot;iPhone 14 Plus…</td><td>&quot;Super Retina X…</td><td>&quot;6,9 /10&quot;</td><td>3060.382329</td></tr><tr><td>&hellip;</td><td>&hellip;</td><td>&hellip;</td><td>&hellip;</td><td>&hellip;</td><td>&hellip;</td><td>&hellip;</td><td>&hellip;</td><td>&hellip;</td><td>&hellip;</td><td>&hellip;</td><td>&hellip;</td><td>&hellip;</td><td>&hellip;</td><td>&hellip;</td><td>&hellip;</td><td>&hellip;</td><td>&hellip;</td><td>&hellip;</td><td>&hellip;</td><td>&hellip;</td><td>&hellip;</td><td>&hellip;</td><td>&hellip;</td><td>&hellip;</td><td>&hellip;</td><td>&hellip;</td><td>&hellip;</td><td>&hellip;</td><td>&hellip;</td><td>&hellip;</td></tr><tr><td>&quot;2&quot;</td><td>&quot;146,50 mm&quot;</td><td>&quot;Plat&quot;</td><td>&quot;Pas de charge …</td><td>&quot;50 mégapixels+…</td><td>&quot;Chine&quot;</td><td>true</td><td>&quot;9,20 mm&quot;</td><td>5.0</td><td>4300</td><td>&quot;8 Go&quot;</td><td>&quot;1,560 W/kg&quot;</td><td>false</td><td>&quot;1,300 W/kg&quot;</td><td>849.0</td><td>1</td><td>false</td><td>&quot;8 coeurs jusqu…</td><td>&quot;ASUS&quot;</td><td>&quot;256 Go&quot;</td><td>&quot;169,00 g&quot;</td><td>&quot;68,10 mm&quot;</td><td>5.9</td><td>&quot;5G&quot;</td><td>&quot;Noir&quot;</td><td>&quot;3,600 W/kg&quot;</td><td>&quot;Nano SIM (x2)&quot;</td><td>&quot;ASUS Zenfone 9…</td><td>&quot;FHD+&quot;</td><td>&quot;8,2 /10&quot;</td><td>2631.805464</td></tr><tr><td>&quot;4&quot;</td><td>&quot;77,20 mm&quot;</td><td>&quot;Plat&quot;</td><td>&quot;Pas de charge …</td><td>&quot;48 mégapixels+…</td><td>null</td><td>true</td><td>&quot;8,90 mm&quot;</td><td>4.0161</td><td>5020</td><td>&quot;3 Go&quot;</td><td>&quot;0,795 W/kg&quot;</td><td>true</td><td>&quot;1,138 W/kg&quot;</td><td>172.47</td><td>62</td><td>true</td><td>&quot;8 coeurs jusqu…</td><td>&quot;XIAOMI&quot;</td><td>&quot;64 Go&quot;</td><td>&quot;199,00 g&quot;</td><td>&quot;162,30 mm&quot;</td><td>6.5</td><td>&quot;4G&quot;</td><td>&quot;Gris&quot;</td><td>&quot;2,262 W/kg&quot;</td><td>&quot;SIM&quot;</td><td>&quot;XIAOMI Redmi N…</td><td>&quot;IPS (LCD)&quot;</td><td>&quot;7,1 /10&quot;</td><td>2631.805464</td></tr><tr><td>null</td><td>&quot;75,50 mm&quot;</td><td>&quot;Borderless&quot;</td><td>&quot;Pas de charge …</td><td>&quot;Non communiqué…</td><td>&quot;Chine&quot;</td><td>true</td><td>&quot;8,90 mm&quot;</td><td>0.0</td><td>5000</td><td>&quot;12 Go&quot;</td><td>&quot;0,710 W/kg&quot;</td><td>true</td><td>&quot;1,580 W/kg&quot;</td><td>779.38</td><td>0</td><td>true</td><td>&quot;Non communiqué…</td><td>&quot;SAMSUNG&quot;</td><td>&quot;128 Go&quot;</td><td>&quot;227,00 g&quot;</td><td>&quot;165,10 mm&quot;</td><td>6.8</td><td>&quot;5G&quot;</td><td>&quot;Noir&quot;</td><td>&quot;2,560 W/kg&quot;</td><td>&quot;Nano SIM&quot;</td><td>&quot;Samsung Galaxy…</td><td>&quot;Non communiqué…</td><td>&quot;8,1 /10&quot;</td><td>3509.073952</td></tr><tr><td>&quot;2&quot;</td><td>&quot;71,50 mm&quot;</td><td>&quot;Plat&quot;</td><td>&quot;Possibilité de…</td><td>&quot;12 mégapixels+…</td><td>&quot;Chine&quot;</td><td>false</td><td>&quot;7,40 mm&quot;</td><td>4.6687</td><td>2815</td><td>&quot;4 Go&quot;</td><td>&quot;0,990 W/kg&quot;</td><td>false</td><td>&quot;0,990 W/kg&quot;</td><td>749.0</td><td>160</td><td>true</td><td>&quot;Puce A15&quot;</td><td>&quot;APPLE&quot;</td><td>&quot;128 Go&quot;</td><td>&quot;173,00 g&quot;</td><td>&quot;146,70 mm&quot;</td><td>6.1</td><td>&quot;5G&quot;</td><td>&quot;Noir&quot;</td><td>&quot;3,800 W/kg&quot;</td><td>&quot;Nano SIM et eS…</td><td>&quot;iPhone 13&quot;</td><td>&quot;Super Retina X…</td><td>&quot;6,0 /10&quot;</td><td>2789.251513</td></tr><tr><td>&quot;3&quot;</td><td>null</td><td>&quot;Bords incurvés…</td><td>&quot;Possibilité de…</td><td>&quot;12 mégapixels+…</td><td>&quot;Viêt Nam&quot;</td><td>true</td><td>null</td><td>0.0</td><td>4500</td><td>&quot;8 Go&quot;</td><td>&quot;0,260 W/kg&quot;</td><td>false</td><td>&quot;1,551 W/kg&quot;</td><td>668.5</td><td>0</td><td>true</td><td>&quot;8 coeurs jusqu…</td><td>&quot;SAMSUNG&quot;</td><td>&quot;256 Go&quot;</td><td>null</td><td>null</td><td>6.7</td><td>&quot;5G&quot;</td><td>&quot;Noir&quot;</td><td>&quot;2,340 W/kg&quot;</td><td>&quot;Nano SIM&quot;</td><td>&quot;Samsung Galaxy…</td><td>&quot;Dynamic AMOLED…</td><td>&quot;8,2 /10&quot;</td><td>3363.807367</td></tr><tr><td>&quot;2&quot;</td><td>&quot;7,40 mm&quot;</td><td>&quot;Plat&quot;</td><td>&quot;Pas de charge …</td><td>&quot;50 mégapixels+…</td><td>&quot;Chine&quot;</td><td>false</td><td>&quot;8,00 mm&quot;</td><td>0.0</td><td>5000</td><td>&quot;4 Go&quot;</td><td>&quot;0,710 W/kg&quot;</td><td>true</td><td>&quot;1,110 W/kg&quot;</td><td>179.0</td><td>0</td><td>true</td><td>&quot;8 coeurs jusqu…</td><td>&quot;MOTOROLA&quot;</td><td>&quot;128 Go&quot;</td><td>&quot;177,00 g&quot;</td><td>&quot;162,00 mm&quot;</td><td>6.5</td><td>&quot;4G&quot;</td><td>&quot;Bleu&quot;</td><td>&quot;2,880 W/kg&quot;</td><td>&quot;Nano SIM (x2) …</td><td>&quot;Motorola G14&quot;</td><td>&quot;LCD (LTPS) FHD…</td><td>&quot;6,6 /10&quot;</td><td>2631.805464</td></tr><tr><td>null</td><td>&quot;7,60 mm&quot;</td><td>&quot;Plat&quot;</td><td>&quot;Possibilité de…</td><td>&quot;50 mégapixels …</td><td>&quot;Viêt Nam&quot;</td><td>true</td><td>&quot;0,90 mm&quot;</td><td>0.0</td><td>5000</td><td>&quot;12 Go&quot;</td><td>&quot;0,840 W/kg&quot;</td><td>false</td><td>&quot;1,200 W/kg&quot;</td><td>1159.0</td><td>0</td><td>true</td><td>&quot;Google Tensor …</td><td>&quot;GOOGLE&quot;</td><td>&quot;256 Go&quot;</td><td>null</td><td>&quot;16,30 mm&quot;</td><td>6.7</td><td>&quot;5G&quot;</td><td>&quot;Bleu&quot;</td><td>&quot;2,500 W/kg&quot;</td><td>&quot;2Nano sim ou 1…</td><td>&quot;Google Pixel 8…</td><td>&quot;Super Actua ou…</td><td>&quot;8,2 /10&quot;</td><td>3080.636298</td></tr><tr><td>&quot;3&quot;</td><td>&quot;75,30 mm&quot;</td><td>&quot;Plat&quot;</td><td>&quot;Pas de charge …</td><td>&quot;48 mégapixels+…</td><td>&quot;Chine&quot;</td><td>true</td><td>&quot;8,50 mm&quot;</td><td>4.8</td><td>5000</td><td>&quot;4 Go&quot;</td><td>&quot;0,990 W/kg&quot;</td><td>true</td><td>&quot;1,200 W/kg&quot;</td><td>269.0</td><td>5</td><td>true</td><td>&quot;8 coeurs jusqu…</td><td>&quot;VIVO&quot;</td><td>&quot;128 Go&quot;</td><td>&quot;193,00 g&quot;</td><td>&quot;164,00 mm&quot;</td><td>6.6</td><td>&quot;5G&quot;</td><td>&quot;Noir&quot;</td><td>&quot;3,000 W/kg&quot;</td><td>&quot;Nano SIM (x2) …</td><td>&quot;VIVO Y52&quot;</td><td>&quot;IPS (LCD)&quot;</td><td>&quot;7,9 /10&quot;</td><td>2631.805464</td></tr><tr><td>&quot;3&quot;</td><td>&quot;73,20 mm&quot;</td><td>&quot;Plat&quot;</td><td>&quot;Possibilité de…</td><td>&quot;50 mégapixels+…</td><td>&quot;Viêt Nam&quot;</td><td>true</td><td>&quot;8,70 mm&quot;</td><td>4.2679</td><td>4270</td><td>&quot;8 Go&quot;</td><td>&quot;0,990 W/kg&quot;</td><td>false</td><td>&quot;1,400 W/kg&quot;</td><td>548.16</td><td>56</td><td>true</td><td>&quot;Google Tensor …</td><td>&quot;GOOGLE&quot;</td><td>&quot;128 Go&quot;</td><td>&quot;197,00 g&quot;</td><td>&quot;155,60 mm&quot;</td><td>6.3</td><td>&quot;5G&quot;</td><td>&quot;Vert&quot;</td><td>&quot;3,000 W/kg&quot;</td><td>&quot;Nano SIM et eS…</td><td>&quot;Google Pixel 7…</td><td>&quot;OLED FHD+&quot;</td><td>&quot;7,2 /10&quot;</td><td>2631.805464</td></tr><tr><td>&quot;4&quot;</td><td>&quot;76,40 mm&quot;</td><td>&quot;Plat&quot;</td><td>&quot;Pas de charge …</td><td>&quot;50 mégapixels+…</td><td>&quot;Viêt Nam&quot;</td><td>true</td><td>&quot;8,80 mm&quot;</td><td>4.4414</td><td>5000</td><td>&quot;4 Go&quot;</td><td>&quot;0,367 W/kg&quot;</td><td>true</td><td>&quot;1,390 W/kg&quot;</td><td>212.4</td><td>111</td><td>true</td><td>&quot;8 coeurs jusqu…</td><td>&quot;SAMSUNG&quot;</td><td>&quot;64 Go&quot;</td><td>&quot;195,00 g&quot;</td><td>&quot;165,10 mm&quot;</td><td>6.6</td><td>&quot;4G&quot;</td><td>&quot;Noir&quot;</td><td>&quot;2,800 W/kg&quot;</td><td>&quot;Dual SIM&quot;</td><td>&quot;Samsung Galaxy…</td><td>&quot;TFT (LCD)&quot;</td><td>&quot;8,0 /10&quot;</td><td>2639.102878</td></tr><tr><td>null</td><td>&quot;75,70 mm&quot;</td><td>&quot;Borderless&quot;</td><td>&quot;Pas de charge …</td><td>&quot;Non communiqué…</td><td>&quot;Chine&quot;</td><td>true</td><td>&quot;6,80 mm&quot;</td><td>0.0</td><td>4250</td><td>&quot;6 Go&quot;</td><td>&quot;0,555 W/kg&quot;</td><td>true</td><td>&quot;0,889 W/kg&quot;</td><td>320.0</td><td>0</td><td>true</td><td>&quot;Non communiqué…</td><td>&quot;XIAOMI&quot;</td><td>&quot;128 Go&quot;</td><td>&quot;159,00 g&quot;</td><td>&quot;160,50 mm&quot;</td><td>6.6</td><td>&quot;5G&quot;</td><td>&quot;Noir&quot;</td><td>&quot;1,880 W/kg&quot;</td><td>&quot;Nano SIM&quot;</td><td>&quot;XIAOMI Mi 11 L…</td><td>&quot;Non communiqué…</td><td>&quot;7,3 /10&quot;</td><td>2631.805464</td></tr><tr><td>&quot;4&quot;</td><td>&quot;76,50 mm&quot;</td><td>&quot;Plat&quot;</td><td>&quot;Pas de charge …</td><td>&quot;50 mégapixels+…</td><td>&quot;Chine&quot;</td><td>true</td><td>&quot;9,10 mm&quot;</td><td>1.0</td><td>5000</td><td>&quot;4 Go&quot;</td><td>&quot;1,490 W/kg&quot;</td><td>true</td><td>&quot;1,490 W/kg&quot;</td><td>249.0</td><td>1</td><td>true</td><td>&quot;8 coeurs jusqu…</td><td>&quot;MOTOROLA&quot;</td><td>&quot;64 Go&quot;</td><td>&quot;208,00 g&quot;</td><td>&quot;170,50 mm&quot;</td><td>6.8</td><td>&quot;5G&quot;</td><td>&quot;Bleu&quot;</td><td>&quot;3,190 W/kg&quot;</td><td>&quot;Nano SIM (x2)&quot;</td><td>&quot;Motorola Moto …</td><td>&quot;FHD+&quot;</td><td>&quot;7,4 /10&quot;</td><td>2631.805464</td></tr></tbody></table></div>"
      ],
      "text/plain": [
       "shape: (436, 31)\n",
       "┌────────┬──────────┬────────────┬────────────┬───┬────────────┬───────────┬───────────┬───────────┐\n",
       "│ sensor ┆ width    ┆ screen_typ ┆ charging_t ┆ … ┆ model      ┆ screen_te ┆ repairabi ┆ diagonal_ │\n",
       "│ ---    ┆ ---      ┆ e          ┆ ype        ┆   ┆ ---        ┆ ch        ┆ lity_inde ┆ pixels    │\n",
       "│ str    ┆ str      ┆ ---        ┆ ---        ┆   ┆ str        ┆ ---       ┆ x         ┆ ---       │\n",
       "│        ┆          ┆ str        ┆ str        ┆   ┆            ┆ str       ┆ ---       ┆ f64       │\n",
       "│        ┆          ┆            ┆            ┆   ┆            ┆           ┆ str       ┆           │\n",
       "╞════════╪══════════╪════════════╪════════════╪═══╪════════════╪═══════════╪═══════════╪═══════════╡\n",
       "│ 3      ┆ 0,70 mm  ┆ Plat       ┆ Possibilit ┆ … ┆ SONY       ┆ OLED FHD+ ┆ 8,5 /10   ┆ 2741.6783 │\n",
       "│        ┆          ┆            ┆ é de       ┆   ┆ Xperia 5 V ┆           ┆           ┆ 18        │\n",
       "│        ┆          ┆            ┆ charger    ┆   ┆            ┆           ┆           ┆           │\n",
       "│        ┆          ┆            ┆ par induc… ┆   ┆            ┆           ┆           ┆           │\n",
       "│ 3      ┆ 87,00 mm ┆ Plat       ┆ Possibilit ┆ … ┆ Samsung    ┆ Dynamic   ┆ 8,2 /10   ┆ 2577.2077 │\n",
       "│        ┆          ┆            ┆ é de       ┆   ┆ Galaxy S22 ┆ AMOLED    ┆           ┆ 91        │\n",
       "│        ┆          ┆            ┆ charger    ┆   ┆            ┆           ┆           ┆           │\n",
       "│        ┆          ┆            ┆ par induc… ┆   ┆            ┆           ┆           ┆           │\n",
       "│ 2      ┆ 74,70 mm ┆ Plat       ┆ Pas de     ┆ … ┆ Motorola   ┆ LCD       ┆ 7,1 /10   ┆ 1754.5369 │\n",
       "│        ┆          ┆            ┆ charge par ┆   ┆ G53        ┆           ┆           ┆ 76        │\n",
       "│        ┆          ┆            ┆ induction  ┆   ┆            ┆           ┆           ┆           │\n",
       "│ 3      ┆ 7,10 mm  ┆ Plat       ┆ Possibilit ┆ … ┆ Google     ┆ Actua ou  ┆ 8,2 /10   ┆ 2631.8054 │\n",
       "│        ┆          ┆            ┆ é de       ┆   ┆ Pixel 8    ┆ OLED FHD+ ┆           ┆ 64        │\n",
       "│        ┆          ┆            ┆ charger    ┆   ┆            ┆           ┆           ┆           │\n",
       "│        ┆          ┆            ┆ par induc… ┆   ┆            ┆           ┆           ┆           │\n",
       "│ …      ┆ …        ┆ …          ┆ …          ┆ … ┆ …          ┆ …         ┆ …         ┆ …         │\n",
       "│ 3      ┆ 73,20 mm ┆ Plat       ┆ Possibilit ┆ … ┆ Google     ┆ OLED FHD+ ┆ 7,2 /10   ┆ 2631.8054 │\n",
       "│        ┆          ┆            ┆ é de       ┆   ┆ Pixel 7    ┆           ┆           ┆ 64        │\n",
       "│        ┆          ┆            ┆ charger    ┆   ┆            ┆           ┆           ┆           │\n",
       "│        ┆          ┆            ┆ par induc… ┆   ┆            ┆           ┆           ┆           │\n",
       "│ 4      ┆ 76,40 mm ┆ Plat       ┆ Pas de     ┆ … ┆ Samsung    ┆ TFT (LCD) ┆ 8,0 /10   ┆ 2639.1028 │\n",
       "│        ┆          ┆            ┆ charge par ┆   ┆ Galaxy A13 ┆           ┆           ┆ 78        │\n",
       "│        ┆          ┆            ┆ induction  ┆   ┆            ┆           ┆           ┆           │\n",
       "│ null   ┆ 75,70 mm ┆ Borderless ┆ Pas de     ┆ … ┆ XIAOMI Mi  ┆ Non commu ┆ 7,3 /10   ┆ 2631.8054 │\n",
       "│        ┆          ┆            ┆ charge par ┆   ┆ 11 Lite    ┆ niqué     ┆           ┆ 64        │\n",
       "│        ┆          ┆            ┆ induction  ┆   ┆            ┆           ┆           ┆           │\n",
       "│ 4      ┆ 76,50 mm ┆ Plat       ┆ Pas de     ┆ … ┆ Motorola   ┆ FHD+      ┆ 7,4 /10   ┆ 2631.8054 │\n",
       "│        ┆          ┆            ┆ charge par ┆   ┆ Moto G     ┆           ┆           ┆ 64        │\n",
       "│        ┆          ┆            ┆ induction  ┆   ┆            ┆           ┆           ┆           │\n",
       "└────────┴──────────┴────────────┴────────────┴───┴────────────┴───────────┴───────────┴───────────┘"
      ]
     },
     "execution_count": 5,
     "metadata": {},
     "output_type": "execute_result"
    }
   ],
   "source": [
    "df"
   ]
  },
  {
   "cell_type": "code",
   "execution_count": 26,
   "metadata": {},
   "outputs": [
    {
     "data": {
      "text/plain": [
       "array([['Realme 9 Pro', 3.6666998863220215, 3],\n",
       "       ['ASUS ROG Phone 6', 3.0, 1],\n",
       "       ['Google Pixel 7a', 2.75, 4],\n",
       "       ['XIAOMI Redmi Note 12', 3.4000000953674316, 5],\n",
       "       ['OPPO Find X5 Lite', 3.5999999046325684, 15],\n",
       "       ['Honor X7A', 3.923099994659424, 13],\n",
       "       ['Xiaomi 13', 3.0, 1],\n",
       "       ['ASUS ROG Phone 6', 3.0, 1],\n",
       "       ['Samsung Galaxy A13', 3.6666998863220215, 3],\n",
       "       ['Sony Xperia 5 IV', 3.4000000953674316, 5],\n",
       "       ['XIAOMI Redmi Note 12 Pro', 3.3076999187469482, 13],\n",
       "       ['Xiaomi Redmi 9A', 3.0, 1],\n",
       "       ['Xiaomi 11T', 3.9544999599456787, 22],\n",
       "       ['iPhone 14', 1.0, 1],\n",
       "       ['XIAOMI Redmi 10A', 3.5, 2],\n",
       "       ['SONY Xperia 10 V', 3.0, 3],\n",
       "       ['Xiaomi Redmi 12 4G', 3.5999999046325684, 10],\n",
       "       ['VIVO V21', 3.727299928665161, 11],\n",
       "       ['Google Pixel 7a', 3.0, 1],\n",
       "       ['Xiaomi Redmi Note 11', 3.766700029373169, 30],\n",
       "       ['Xiaomi Redmi A1', 2.0, 1],\n",
       "       ['SONY Xperia 10 V', 3.0, 1],\n",
       "       ['Xiaomi Redmi A1', 3.799999952316284, 5],\n",
       "       ['Xiaomi Redmi A1', 1.0, 1],\n",
       "       ['XIAOMI Redmi Note 12 Pro Plus 5G', 3.6666998863220215, 6],\n",
       "       ['XIAOMI Redmi 12C', 3.3333001136779785, 3],\n",
       "       ['Realme 9 Pro', 3.6666998863220215, 3],\n",
       "       ['Sony Xperia 1 III', 3.0, 2],\n",
       "       ['Xiaomi 11T', 3.9544999599456787, 22],\n",
       "       ['XIAOMI Redmi Note 12', 3.5, 16],\n",
       "       ['XIAOMI Redmi 9C', 3.18179988861084, 11],\n",
       "       ['Motorola Moto G', 1.0, 1]], dtype=object)"
      ]
     },
     "execution_count": 26,
     "metadata": {},
     "output_type": "execute_result"
    }
   ],
   "source": [
    "df.select(\"model\", \"stars\", \"reviews\").filter(\n",
    "    (pl.col(\"reviews\") > 0) & (pl.col(\"stars\") < 4)\n",
    ").to_numpy()"
   ]
  },
  {
   "cell_type": "code",
   "execution_count": 5,
   "metadata": {},
   "outputs": [
    {
     "data": {
      "text/html": [
       "<div><style>\n",
       ".dataframe > thead > tr > th,\n",
       ".dataframe > tbody > tr > td {\n",
       "  text-align: right;\n",
       "  white-space: pre-wrap;\n",
       "}\n",
       "</style>\n",
       "<small>shape: (14, 2)</small><table border=\"1\" class=\"dataframe\"><thead><tr><th>brand</th><th>count</th></tr><tr><td>str</td><td>u32</td></tr></thead><tbody><tr><td>&quot;APPLE&quot;</td><td>46</td></tr><tr><td>&quot;REALME&quot;</td><td>14</td></tr><tr><td>&quot;SAMSUNG&quot;</td><td>129</td></tr><tr><td>&quot;HONOR&quot;</td><td>14</td></tr><tr><td>&quot;NOTHING&quot;</td><td>7</td></tr><tr><td>&quot;XIAOMI&quot;</td><td>105</td></tr><tr><td>&quot;SONY&quot;</td><td>15</td></tr><tr><td>&quot;VIVO&quot;</td><td>9</td></tr><tr><td>&quot;FAIRPHONE&quot;</td><td>3</td></tr><tr><td>&quot;OPPO&quot;</td><td>18</td></tr><tr><td>&quot;MOTOROLA&quot;</td><td>32</td></tr><tr><td>&quot;GOOGLE&quot;</td><td>25</td></tr><tr><td>&quot;ASUS&quot;</td><td>12</td></tr><tr><td>&quot;ONEPLUS&quot;</td><td>7</td></tr></tbody></table></div>"
      ],
      "text/plain": [
       "shape: (14, 2)\n",
       "┌──────────┬───────┐\n",
       "│ brand    ┆ count │\n",
       "│ ---      ┆ ---   │\n",
       "│ str      ┆ u32   │\n",
       "╞══════════╪═══════╡\n",
       "│ APPLE    ┆ 46    │\n",
       "│ REALME   ┆ 14    │\n",
       "│ SAMSUNG  ┆ 129   │\n",
       "│ HONOR    ┆ 14    │\n",
       "│ …        ┆ …     │\n",
       "│ MOTOROLA ┆ 32    │\n",
       "│ GOOGLE   ┆ 25    │\n",
       "│ ASUS     ┆ 12    │\n",
       "│ ONEPLUS  ┆ 7     │\n",
       "└──────────┴───────┘"
      ]
     },
     "execution_count": 5,
     "metadata": {},
     "output_type": "execute_result"
    }
   ],
   "source": [
    "df.group_by(\"brand\").count()"
   ]
  },
  {
   "cell_type": "markdown",
   "metadata": {},
   "source": [
    "- l'OS est il à garder ? pas sûr car il n'y a en vérité que deux choix d'OS aujourd'hui, et étant donné que l'information est forcément comprise dans les marques (Apple = iOS) et (Tous les autres = Android) ce n'est pas forcément utile"
   ]
  },
  {
   "cell_type": "code",
   "execution_count": 58,
   "metadata": {},
   "outputs": [
    {
     "data": {
      "text/html": [
       "<div><style>\n",
       ".dataframe > thead > tr > th,\n",
       ".dataframe > tbody > tr > td {\n",
       "  text-align: right;\n",
       "  white-space: pre-wrap;\n",
       "}\n",
       "</style>\n",
       "<small>shape: (6, 2)</small><table border=\"1\" class=\"dataframe\"><thead><tr><th>storage</th><th>price</th></tr><tr><td>str</td><td>f64</td></tr></thead><tbody><tr><td>&quot;32 Go&quot;</td><td>116.647407</td></tr><tr><td>&quot;64 Go&quot;</td><td>211.716964</td></tr><tr><td>&quot;128 Go&quot;</td><td>495.199235</td></tr><tr><td>&quot;256 Go&quot;</td><td>884.259464</td></tr><tr><td>&quot;512 Go&quot;</td><td>1214.744324</td></tr><tr><td>&quot;1000 Go&quot;</td><td>1752.29375</td></tr></tbody></table></div>"
      ],
      "text/plain": [
       "shape: (6, 2)\n",
       "┌─────────┬─────────────┐\n",
       "│ storage ┆ price       │\n",
       "│ ---     ┆ ---         │\n",
       "│ str     ┆ f64         │\n",
       "╞═════════╪═════════════╡\n",
       "│ 32 Go   ┆ 116.647407  │\n",
       "│ 64 Go   ┆ 211.716964  │\n",
       "│ 128 Go  ┆ 495.199235  │\n",
       "│ 256 Go  ┆ 884.259464  │\n",
       "│ 512 Go  ┆ 1214.744324 │\n",
       "│ 1000 Go ┆ 1752.29375  │\n",
       "└─────────┴─────────────┘"
      ]
     },
     "execution_count": 58,
     "metadata": {},
     "output_type": "execute_result"
    }
   ],
   "source": [
    "df.select(\"price\", \"storage\").group_by(\"storage\").mean().sort(\"price\")"
   ]
  },
  {
   "cell_type": "code",
   "execution_count": 59,
   "metadata": {},
   "outputs": [
    {
     "data": {
      "text/html": [
       "<div><style>\n",
       ".dataframe > thead > tr > th,\n",
       ".dataframe > tbody > tr > td {\n",
       "  text-align: right;\n",
       "  white-space: pre-wrap;\n",
       "}\n",
       "</style>\n",
       "<small>shape: (7, 2)</small><table border=\"1\" class=\"dataframe\"><thead><tr><th>ram</th><th>price</th></tr><tr><td>str</td><td>f64</td></tr></thead><tbody><tr><td>&quot;2 Go&quot;</td><td>110.109048</td></tr><tr><td>&quot;3 Go&quot;</td><td>158.240588</td></tr><tr><td>&quot;4 Go&quot;</td><td>413.402542</td></tr><tr><td>&quot;6 Go&quot;</td><td>462.522203</td></tr><tr><td>&quot;8 Go&quot;</td><td>686.67741</td></tr><tr><td>&quot;16 Go&quot;</td><td>1106.142857</td></tr><tr><td>&quot;12 Go&quot;</td><td>1144.023733</td></tr></tbody></table></div>"
      ],
      "text/plain": [
       "shape: (7, 2)\n",
       "┌───────┬─────────────┐\n",
       "│ ram   ┆ price       │\n",
       "│ ---   ┆ ---         │\n",
       "│ str   ┆ f64         │\n",
       "╞═══════╪═════════════╡\n",
       "│ 2 Go  ┆ 110.109048  │\n",
       "│ 3 Go  ┆ 158.240588  │\n",
       "│ 4 Go  ┆ 413.402542  │\n",
       "│ 6 Go  ┆ 462.522203  │\n",
       "│ 8 Go  ┆ 686.67741   │\n",
       "│ 16 Go ┆ 1106.142857 │\n",
       "│ 12 Go ┆ 1144.023733 │\n",
       "└───────┴─────────────┘"
      ]
     },
     "execution_count": 59,
     "metadata": {},
     "output_type": "execute_result"
    }
   ],
   "source": [
    "df.select(\"price\", \"ram\").group_by(\"ram\").mean().sort(\"price\")"
   ]
  },
  {
   "cell_type": "code",
   "execution_count": 34,
   "metadata": {},
   "outputs": [
    {
     "data": {
      "text/html": [
       "<div><style>\n",
       ".dataframe > thead > tr > th,\n",
       ".dataframe > tbody > tr > td {\n",
       "  text-align: right;\n",
       "  white-space: pre-wrap;\n",
       "}\n",
       "</style>\n",
       "<small>shape: (436, 32)</small><table border=\"1\" class=\"dataframe\"><thead><tr><th>os</th><th>stars</th><th>model</th><th>screen_type</th><th>repairability_index</th><th>brand</th><th>made_in</th><th>das_limbs</th><th>network</th><th>width</th><th>height</th><th>reviews</th><th>screen_size</th><th>price</th><th>fast_charging</th><th>net_weight</th><th>storage</th><th>usb_type_c</th><th>ram</th><th>das_chest</th><th>battery</th><th>upgrade_storage</th><th>das_head</th><th>sensor_resolution</th><th>cpu</th><th>color</th><th>charging_type</th><th>screen_tech</th><th>sim_type</th><th>sensor</th><th>thickness</th><th>diagonal_pixels</th></tr><tr><td>str</td><td>f64</td><td>str</td><td>str</td><td>str</td><td>str</td><td>str</td><td>str</td><td>str</td><td>str</td><td>str</td><td>i64</td><td>f64</td><td>f64</td><td>bool</td><td>str</td><td>str</td><td>bool</td><td>str</td><td>str</td><td>i64</td><td>bool</td><td>str</td><td>str</td><td>str</td><td>str</td><td>str</td><td>str</td><td>str</td><td>str</td><td>str</td><td>f64</td></tr></thead><tbody><tr><td>&quot;Android 13&quot;</td><td>0.0</td><td>&quot;SONY Xperia 5 …</td><td>&quot;Plat&quot;</td><td>&quot;8,5 /10&quot;</td><td>&quot;SONY&quot;</td><td>&quot;Thaïlande&quot;</td><td>&quot;2,110 W/kg&quot;</td><td>&quot;5G&quot;</td><td>&quot;0,70 mm&quot;</td><td>&quot;15,40 mm&quot;</td><td>0</td><td>6.1</td><td>999.0</td><td>true</td><td>&quot;0,00 g&quot;</td><td>&quot;128 Go&quot;</td><td>true</td><td>&quot;8 Go&quot;</td><td>&quot;1,050 W/kg&quot;</td><td>5000</td><td>true</td><td>&quot;0,950 W/kg&quot;</td><td>&quot;12 mégapixels+…</td><td>&quot;Qualcomm Snapd…</td><td>&quot;Argent&quot;</td><td>&quot;Possibilité de…</td><td>&quot;OLED FHD+&quot;</td><td>&quot;Nano SIM et eS…</td><td>&quot;3&quot;</td><td>&quot;0,90 mm&quot;</td><td>2741.678318</td></tr><tr><td>&quot;Android 12&quot;</td><td>4.0</td><td>&quot;Samsung Galaxy…</td><td>&quot;Plat&quot;</td><td>&quot;8,2 /10&quot;</td><td>&quot;SAMSUNG&quot;</td><td>&quot;Viêt Nam&quot;</td><td>&quot;2,710 W/kg&quot;</td><td>&quot;5G&quot;</td><td>&quot;87,00 mm&quot;</td><td>&quot;146,00 mm&quot;</td><td>1</td><td>6.1</td><td>857.59</td><td>true</td><td>&quot;167,00 g&quot;</td><td>&quot;256 Go&quot;</td><td>true</td><td>&quot;8 Go&quot;</td><td>&quot;1,590 W/kg&quot;</td><td>3700</td><td>false</td><td>&quot;1,210 W/kg&quot;</td><td>&quot;50 mégapixels+…</td><td>&quot;Exynos 2200&quot;</td><td>&quot;Noir&quot;</td><td>&quot;Possibilité de…</td><td>&quot;Dynamic AMOLED…</td><td>&quot;Nano SIM et eS…</td><td>&quot;3&quot;</td><td>&quot;0,80 mm&quot;</td><td>2577.207791</td></tr><tr><td>&quot;Android 13&quot;</td><td>4.3333</td><td>&quot;Motorola G53&quot;</td><td>&quot;Plat&quot;</td><td>&quot;7,1 /10&quot;</td><td>&quot;MOTOROLA&quot;</td><td>&quot;Chine&quot;</td><td>&quot;2,980 W/kg&quot;</td><td>&quot;5G&quot;</td><td>&quot;74,70 mm&quot;</td><td>&quot;162,70 mm&quot;</td><td>3</td><td>6.5</td><td>199.0</td><td>false</td><td>&quot;183,00 g&quot;</td><td>&quot;128 Go&quot;</td><td>true</td><td>&quot;4 Go&quot;</td><td>&quot;1,320 W/kg&quot;</td><td>5000</td><td>true</td><td>&quot;0,980 W/kg&quot;</td><td>&quot;50 mégapixels+…</td><td>&quot;8 coeurs jusqu…</td><td>&quot;Bleu&quot;</td><td>&quot;Pas de charge …</td><td>&quot;LCD&quot;</td><td>&quot;Nano SIM et eS…</td><td>&quot;2&quot;</td><td>&quot;8,20 mm&quot;</td><td>1754.536976</td></tr><tr><td>&quot;Android 13&quot;</td><td>0.0</td><td>&quot;Google Pixel 8…</td><td>&quot;Plat&quot;</td><td>&quot;8,2 /10&quot;</td><td>&quot;GOOGLE&quot;</td><td>&quot;Viêt Nam&quot;</td><td>&quot;2,490 W/kg&quot;</td><td>&quot;5G&quot;</td><td>&quot;7,10 mm&quot;</td><td>&quot;15,10 mm&quot;</td><td>0</td><td>6.2</td><td>799.0</td><td>true</td><td>null</td><td>&quot;128 Go&quot;</td><td>true</td><td>&quot;8 Go&quot;</td><td>&quot;1,200 W/kg&quot;</td><td>4500</td><td>false</td><td>&quot;0,980 W/kg&quot;</td><td>&quot;50 mégapixels+…</td><td>&quot;Google Tensor …</td><td>&quot;Noir&quot;</td><td>&quot;Possibilité de…</td><td>&quot;Actua ou OLED …</td><td>&quot;2Nano sim ou 1…</td><td>&quot;3&quot;</td><td>&quot;0,90 mm&quot;</td><td>2631.805464</td></tr><tr><td>&quot;Android 11&quot;</td><td>4.0</td><td>&quot;Xiaomi Redmi 9…</td><td>&quot;Plat&quot;</td><td>&quot;7,0 /10&quot;</td><td>&quot;XIAOMI&quot;</td><td>&quot;Chine&quot;</td><td>&quot;2,526 W/kg&quot;</td><td>&quot;4G+&quot;</td><td>&quot;77,10 mm&quot;</td><td>&quot;164,90 mm&quot;</td><td>2</td><td>6.5</td><td>95.9</td><td>true</td><td>&quot;194,00 g&quot;</td><td>&quot;32 Go&quot;</td><td>true</td><td>&quot;2 Go&quot;</td><td>&quot;1,186 W/kg&quot;</td><td>5000</td><td>true</td><td>&quot;0,398 W/kg&quot;</td><td>&quot;13 mégapixels&quot;</td><td>&quot;8 coeurs jusqu…</td><td>&quot;Gris&quot;</td><td>&quot;Pas de charge …</td><td>&quot;HD+&quot;</td><td>&quot;Nano SIM (x2) …</td><td>&quot;1&quot;</td><td>&quot;9,00 mm&quot;</td><td>1754.536976</td></tr><tr><td>&quot;Android S + Ma…</td><td>4.1333</td><td>&quot;HONOR Magic5 L…</td><td>&quot;Bords incurvés…</td><td>&quot;8,0 /10&quot;</td><td>&quot;HONOR&quot;</td><td>&quot;Chine&quot;</td><td>&quot;2,810 W/kg&quot;</td><td>&quot;5G&quot;</td><td>&quot;73,90 mm&quot;</td><td>&quot;161,60 mm&quot;</td><td>15</td><td>6.7</td><td>299.0</td><td>true</td><td>&quot;175,00 g&quot;</td><td>&quot;256 Go&quot;</td><td>true</td><td>&quot;8 Go&quot;</td><td>&quot;1,270 W/kg&quot;</td><td>5100</td><td>false</td><td>&quot;0,820 W/kg&quot;</td><td>&quot;64 mégapixels+…</td><td>&quot;Qualcomm Snapd…</td><td>&quot;Noir&quot;</td><td>&quot;Pas de charge …</td><td>&quot;AMOLED (rigide…</td><td>&quot;Nano SIM (x2)&quot;</td><td>&quot;3&quot;</td><td>&quot;7,90 mm&quot;</td><td>2631.805464</td></tr><tr><td>&quot;Android 12&quot;</td><td>4.087</td><td>&quot;Google Pixel 6…</td><td>&quot;Plat&quot;</td><td>&quot;6,4 /10&quot;</td><td>&quot;GOOGLE&quot;</td><td>&quot;Chine&quot;</td><td>&quot;2,960 W/kg&quot;</td><td>&quot;5G&quot;</td><td>&quot;75,90 mm&quot;</td><td>&quot;163,90 mm&quot;</td><td>23</td><td>6.7</td><td>633.67</td><td>true</td><td>&quot;210,00 g&quot;</td><td>&quot;128 Go&quot;</td><td>true</td><td>&quot;12 Go&quot;</td><td>&quot;1,400 W/kg&quot;</td><td>5000</td><td>false</td><td>&quot;0,990 W/kg&quot;</td><td>&quot;50 mégapixels+…</td><td>&quot;Google Tensor&quot;</td><td>&quot;Noir&quot;</td><td>&quot;Possibilité de…</td><td>&quot;Non communiqué…</td><td>&quot;Dual SIM&quot;</td><td>&quot;3&quot;</td><td>&quot;8,90 mm&quot;</td><td>3436.277055</td></tr><tr><td>&quot;Non communiqué…</td><td>0.0</td><td>&quot;Realme GT Mast…</td><td>&quot;Borderless&quot;</td><td>&quot;6,2 /10&quot;</td><td>&quot;REALME&quot;</td><td>&quot;Chine&quot;</td><td>&quot;1,880 W/kg&quot;</td><td>&quot;5G&quot;</td><td>&quot;73,50 mm&quot;</td><td>&quot;159,10 mm&quot;</td><td>0</td><td>6.4</td><td>304.25</td><td>true</td><td>&quot;174,00 g&quot;</td><td>&quot;128 Go&quot;</td><td>true</td><td>&quot;6 Go&quot;</td><td>&quot;1,180 W/kg&quot;</td><td>4300</td><td>true</td><td>&quot;1,139 W/kg&quot;</td><td>&quot;Non communiqué…</td><td>&quot;Non communiqué…</td><td>&quot;Noir&quot;</td><td>&quot;Pas de charge …</td><td>&quot;Non communiqué…</td><td>&quot;Nano SIM&quot;</td><td>null</td><td>&quot;8,00 mm&quot;</td><td>2631.805464</td></tr><tr><td>&quot;Android 13&quot;</td><td>0.0</td><td>&quot;Google Pixel 8…</td><td>&quot;Plat&quot;</td><td>&quot;8,2 /10&quot;</td><td>&quot;GOOGLE&quot;</td><td>&quot;Viêt Nam&quot;</td><td>&quot;2,490 W/kg&quot;</td><td>&quot;5G&quot;</td><td>&quot;7,10 mm&quot;</td><td>&quot;15,10 mm&quot;</td><td>0</td><td>6.2</td><td>859.0</td><td>true</td><td>null</td><td>&quot;256 Go&quot;</td><td>true</td><td>&quot;8 Go&quot;</td><td>&quot;1,200 W/kg&quot;</td><td>4500</td><td>false</td><td>&quot;0,980 W/kg&quot;</td><td>&quot;50 mégapixels+…</td><td>&quot;Google Tensor …</td><td>&quot;Vert&quot;</td><td>&quot;Possibilité de…</td><td>&quot;Actua ou OLED …</td><td>&quot;2Nano sim ou 1…</td><td>&quot;3&quot;</td><td>&quot;0,90 mm&quot;</td><td>2631.805464</td></tr><tr><td>&quot;Android 13&quot;</td><td>0.0</td><td>&quot;Google Pixel 8…</td><td>&quot;Plat&quot;</td><td>&quot;8,2 /10&quot;</td><td>&quot;GOOGLE&quot;</td><td>&quot;Viêt Nam&quot;</td><td>&quot;2,500 W/kg&quot;</td><td>&quot;5G&quot;</td><td>&quot;7,60 mm&quot;</td><td>&quot;16,30 mm&quot;</td><td>0</td><td>6.7</td><td>1099.0</td><td>true</td><td>null</td><td>&quot;128 Go&quot;</td><td>true</td><td>&quot;12 Go&quot;</td><td>&quot;1,200 W/kg&quot;</td><td>5000</td><td>false</td><td>&quot;0,840 W/kg&quot;</td><td>&quot;50 mégapixels …</td><td>&quot;Google Tensor …</td><td>&quot;Blanc&quot;</td><td>&quot;Possibilité de…</td><td>&quot;Super Actua ou…</td><td>&quot;2Nano sim ou 1…</td><td>null</td><td>&quot;0,90 mm&quot;</td><td>3080.636298</td></tr><tr><td>&quot;Android 12&quot;</td><td>3.6667</td><td>&quot;Realme 9 Pro&quot;</td><td>&quot;Plat&quot;</td><td>&quot;6,2 /10&quot;</td><td>&quot;REALME&quot;</td><td>&quot;Chine&quot;</td><td>&quot;2,725 W/kg&quot;</td><td>&quot;4G+&quot;</td><td>&quot;75,60 mm&quot;</td><td>&quot;164,30 mm&quot;</td><td>3</td><td>6.6</td><td>259.06</td><td>true</td><td>&quot;195,00 g&quot;</td><td>&quot;128 Go&quot;</td><td>true</td><td>&quot;6 Go&quot;</td><td>&quot;1,251 W/kg&quot;</td><td>5000</td><td>true</td><td>&quot;0,987 W/kg&quot;</td><td>&quot;64 mégapixels+…</td><td>&quot;8 coeurs jusqu…</td><td>&quot;Noir&quot;</td><td>&quot;Possibilité de…</td><td>&quot;AMOLED (OLED)&quot;</td><td>&quot;Nano SIM&quot;</td><td>&quot;4&quot;</td><td>&quot;8,50 mm&quot;</td><td>2631.805464</td></tr><tr><td>&quot;iOS 16&quot;</td><td>4.6809</td><td>&quot;iPhone 14 Plus…</td><td>&quot;Plat&quot;</td><td>&quot;6,9 /10&quot;</td><td>&quot;APPLE&quot;</td><td>&quot;Chine&quot;</td><td>&quot;3,000 W/kg&quot;</td><td>&quot;5G&quot;</td><td>&quot;78,10 mm&quot;</td><td>&quot;160,80 mm&quot;</td><td>47</td><td>6.7</td><td>969.0</td><td>true</td><td>&quot;203,00 g&quot;</td><td>&quot;128 Go&quot;</td><td>false</td><td>&quot;4 Go&quot;</td><td>&quot;0,990 W/kg&quot;</td><td>4323</td><td>false</td><td>&quot;0,990 W/kg&quot;</td><td>&quot;12 mégapixels+…</td><td>&quot;Puce A15&quot;</td><td>&quot;Jaune&quot;</td><td>&quot;Possibilité de…</td><td>&quot;Super Retina X…</td><td>&quot;Nano SIM et eS…</td><td>&quot;2&quot;</td><td>&quot;7,80 mm&quot;</td><td>3060.382329</td></tr><tr><td>&hellip;</td><td>&hellip;</td><td>&hellip;</td><td>&hellip;</td><td>&hellip;</td><td>&hellip;</td><td>&hellip;</td><td>&hellip;</td><td>&hellip;</td><td>&hellip;</td><td>&hellip;</td><td>&hellip;</td><td>&hellip;</td><td>&hellip;</td><td>&hellip;</td><td>&hellip;</td><td>&hellip;</td><td>&hellip;</td><td>&hellip;</td><td>&hellip;</td><td>&hellip;</td><td>&hellip;</td><td>&hellip;</td><td>&hellip;</td><td>&hellip;</td><td>&hellip;</td><td>&hellip;</td><td>&hellip;</td><td>&hellip;</td><td>&hellip;</td><td>&hellip;</td><td>&hellip;</td></tr><tr><td>&quot;Android 12&quot;</td><td>5.0</td><td>&quot;ASUS Zenfone 9…</td><td>&quot;Plat&quot;</td><td>&quot;8,2 /10&quot;</td><td>&quot;ASUS&quot;</td><td>&quot;Chine&quot;</td><td>&quot;3,600 W/kg&quot;</td><td>&quot;5G&quot;</td><td>&quot;146,50 mm&quot;</td><td>&quot;68,10 mm&quot;</td><td>1</td><td>5.9</td><td>849.0</td><td>false</td><td>&quot;169,00 g&quot;</td><td>&quot;256 Go&quot;</td><td>true</td><td>&quot;8 Go&quot;</td><td>&quot;1,300 W/kg&quot;</td><td>4300</td><td>false</td><td>&quot;1,560 W/kg&quot;</td><td>&quot;50 mégapixels+…</td><td>&quot;8 coeurs jusqu…</td><td>&quot;Noir&quot;</td><td>&quot;Pas de charge …</td><td>&quot;FHD+&quot;</td><td>&quot;Nano SIM (x2)&quot;</td><td>&quot;2&quot;</td><td>&quot;9,20 mm&quot;</td><td>2631.805464</td></tr><tr><td>&quot;Android 9.0 Pi…</td><td>4.0161</td><td>&quot;XIAOMI Redmi N…</td><td>&quot;Plat&quot;</td><td>&quot;7,1 /10&quot;</td><td>&quot;XIAOMI&quot;</td><td>null</td><td>&quot;2,262 W/kg&quot;</td><td>&quot;4G&quot;</td><td>&quot;77,20 mm&quot;</td><td>&quot;162,30 mm&quot;</td><td>62</td><td>6.5</td><td>172.47</td><td>true</td><td>&quot;199,00 g&quot;</td><td>&quot;64 Go&quot;</td><td>true</td><td>&quot;3 Go&quot;</td><td>&quot;1,138 W/kg&quot;</td><td>5020</td><td>true</td><td>&quot;0,795 W/kg&quot;</td><td>&quot;48 mégapixels+…</td><td>&quot;8 coeurs jusqu…</td><td>&quot;Gris&quot;</td><td>&quot;Pas de charge …</td><td>&quot;IPS (LCD)&quot;</td><td>&quot;SIM&quot;</td><td>&quot;4&quot;</td><td>&quot;8,90 mm&quot;</td><td>2631.805464</td></tr><tr><td>&quot;Non communiqué…</td><td>0.0</td><td>&quot;Samsung Galaxy…</td><td>&quot;Borderless&quot;</td><td>&quot;8,1 /10&quot;</td><td>&quot;SAMSUNG&quot;</td><td>&quot;Chine&quot;</td><td>&quot;2,560 W/kg&quot;</td><td>&quot;5G&quot;</td><td>&quot;75,50 mm&quot;</td><td>&quot;165,10 mm&quot;</td><td>0</td><td>6.8</td><td>779.38</td><td>true</td><td>&quot;227,00 g&quot;</td><td>&quot;128 Go&quot;</td><td>true</td><td>&quot;12 Go&quot;</td><td>&quot;1,580 W/kg&quot;</td><td>5000</td><td>true</td><td>&quot;0,710 W/kg&quot;</td><td>&quot;Non communiqué…</td><td>&quot;Non communiqué…</td><td>&quot;Noir&quot;</td><td>&quot;Pas de charge …</td><td>&quot;Non communiqué…</td><td>&quot;Nano SIM&quot;</td><td>null</td><td>&quot;8,90 mm&quot;</td><td>3509.073952</td></tr><tr><td>&quot;iOS 15&quot;</td><td>4.6687</td><td>&quot;iPhone 13&quot;</td><td>&quot;Plat&quot;</td><td>&quot;6,0 /10&quot;</td><td>&quot;APPLE&quot;</td><td>&quot;Chine&quot;</td><td>&quot;3,800 W/kg&quot;</td><td>&quot;5G&quot;</td><td>&quot;71,50 mm&quot;</td><td>&quot;146,70 mm&quot;</td><td>160</td><td>6.1</td><td>749.0</td><td>true</td><td>&quot;173,00 g&quot;</td><td>&quot;128 Go&quot;</td><td>false</td><td>&quot;4 Go&quot;</td><td>&quot;0,990 W/kg&quot;</td><td>2815</td><td>false</td><td>&quot;0,990 W/kg&quot;</td><td>&quot;12 mégapixels+…</td><td>&quot;Puce A15&quot;</td><td>&quot;Noir&quot;</td><td>&quot;Possibilité de…</td><td>&quot;Super Retina X…</td><td>&quot;Nano SIM et eS…</td><td>&quot;2&quot;</td><td>&quot;7,40 mm&quot;</td><td>2789.251513</td></tr><tr><td>&quot;Android 9.0 Pi…</td><td>0.0</td><td>&quot;Samsung Galaxy…</td><td>&quot;Bords incurvés…</td><td>&quot;8,2 /10&quot;</td><td>&quot;SAMSUNG&quot;</td><td>&quot;Viêt Nam&quot;</td><td>&quot;2,340 W/kg&quot;</td><td>&quot;5G&quot;</td><td>null</td><td>null</td><td>0</td><td>6.7</td><td>668.5</td><td>true</td><td>null</td><td>&quot;256 Go&quot;</td><td>true</td><td>&quot;8 Go&quot;</td><td>&quot;1,551 W/kg&quot;</td><td>4500</td><td>false</td><td>&quot;0,260 W/kg&quot;</td><td>&quot;12 mégapixels+…</td><td>&quot;8 coeurs jusqu…</td><td>&quot;Noir&quot;</td><td>&quot;Possibilité de…</td><td>&quot;Dynamic AMOLED…</td><td>&quot;Nano SIM&quot;</td><td>&quot;3&quot;</td><td>null</td><td>3363.807367</td></tr><tr><td>&quot;Android 13&quot;</td><td>0.0</td><td>&quot;Motorola G14&quot;</td><td>&quot;Plat&quot;</td><td>&quot;6,6 /10&quot;</td><td>&quot;MOTOROLA&quot;</td><td>&quot;Chine&quot;</td><td>&quot;2,880 W/kg&quot;</td><td>&quot;4G&quot;</td><td>&quot;7,40 mm&quot;</td><td>&quot;162,00 mm&quot;</td><td>0</td><td>6.5</td><td>179.0</td><td>true</td><td>&quot;177,00 g&quot;</td><td>&quot;128 Go&quot;</td><td>false</td><td>&quot;4 Go&quot;</td><td>&quot;1,110 W/kg&quot;</td><td>5000</td><td>true</td><td>&quot;0,710 W/kg&quot;</td><td>&quot;50 mégapixels+…</td><td>&quot;8 coeurs jusqu…</td><td>&quot;Bleu&quot;</td><td>&quot;Pas de charge …</td><td>&quot;LCD (LTPS) FHD…</td><td>&quot;Nano SIM (x2) …</td><td>&quot;2&quot;</td><td>&quot;8,00 mm&quot;</td><td>2631.805464</td></tr><tr><td>&quot;Android 13&quot;</td><td>0.0</td><td>&quot;Google Pixel 8…</td><td>&quot;Plat&quot;</td><td>&quot;8,2 /10&quot;</td><td>&quot;GOOGLE&quot;</td><td>&quot;Viêt Nam&quot;</td><td>&quot;2,500 W/kg&quot;</td><td>&quot;5G&quot;</td><td>&quot;7,60 mm&quot;</td><td>&quot;16,30 mm&quot;</td><td>0</td><td>6.7</td><td>1159.0</td><td>true</td><td>null</td><td>&quot;256 Go&quot;</td><td>true</td><td>&quot;12 Go&quot;</td><td>&quot;1,200 W/kg&quot;</td><td>5000</td><td>false</td><td>&quot;0,840 W/kg&quot;</td><td>&quot;50 mégapixels …</td><td>&quot;Google Tensor …</td><td>&quot;Bleu&quot;</td><td>&quot;Possibilité de…</td><td>&quot;Super Actua ou…</td><td>&quot;2Nano sim ou 1…</td><td>null</td><td>&quot;0,90 mm&quot;</td><td>3080.636298</td></tr><tr><td>&quot;Android 11&quot;</td><td>4.8</td><td>&quot;VIVO Y52&quot;</td><td>&quot;Plat&quot;</td><td>&quot;7,9 /10&quot;</td><td>&quot;VIVO&quot;</td><td>&quot;Chine&quot;</td><td>&quot;3,000 W/kg&quot;</td><td>&quot;5G&quot;</td><td>&quot;75,30 mm&quot;</td><td>&quot;164,00 mm&quot;</td><td>5</td><td>6.6</td><td>269.0</td><td>true</td><td>&quot;193,00 g&quot;</td><td>&quot;128 Go&quot;</td><td>true</td><td>&quot;4 Go&quot;</td><td>&quot;1,200 W/kg&quot;</td><td>5000</td><td>true</td><td>&quot;0,990 W/kg&quot;</td><td>&quot;48 mégapixels+…</td><td>&quot;8 coeurs jusqu…</td><td>&quot;Noir&quot;</td><td>&quot;Pas de charge …</td><td>&quot;IPS (LCD)&quot;</td><td>&quot;Nano SIM (x2) …</td><td>&quot;3&quot;</td><td>&quot;8,50 mm&quot;</td><td>2631.805464</td></tr><tr><td>&quot;Android 13&quot;</td><td>4.2679</td><td>&quot;Google Pixel 7…</td><td>&quot;Plat&quot;</td><td>&quot;7,2 /10&quot;</td><td>&quot;GOOGLE&quot;</td><td>&quot;Viêt Nam&quot;</td><td>&quot;3,000 W/kg&quot;</td><td>&quot;5G&quot;</td><td>&quot;73,20 mm&quot;</td><td>&quot;155,60 mm&quot;</td><td>56</td><td>6.3</td><td>548.16</td><td>true</td><td>&quot;197,00 g&quot;</td><td>&quot;128 Go&quot;</td><td>true</td><td>&quot;8 Go&quot;</td><td>&quot;1,400 W/kg&quot;</td><td>4270</td><td>false</td><td>&quot;0,990 W/kg&quot;</td><td>&quot;50 mégapixels+…</td><td>&quot;Google Tensor …</td><td>&quot;Vert&quot;</td><td>&quot;Possibilité de…</td><td>&quot;OLED FHD+&quot;</td><td>&quot;Nano SIM et eS…</td><td>&quot;3&quot;</td><td>&quot;8,70 mm&quot;</td><td>2631.805464</td></tr><tr><td>&quot;Android 12&quot;</td><td>4.4414</td><td>&quot;Samsung Galaxy…</td><td>&quot;Plat&quot;</td><td>&quot;8,0 /10&quot;</td><td>&quot;SAMSUNG&quot;</td><td>&quot;Viêt Nam&quot;</td><td>&quot;2,800 W/kg&quot;</td><td>&quot;4G&quot;</td><td>&quot;76,40 mm&quot;</td><td>&quot;165,10 mm&quot;</td><td>111</td><td>6.6</td><td>212.4</td><td>true</td><td>&quot;195,00 g&quot;</td><td>&quot;64 Go&quot;</td><td>true</td><td>&quot;4 Go&quot;</td><td>&quot;1,390 W/kg&quot;</td><td>5000</td><td>true</td><td>&quot;0,367 W/kg&quot;</td><td>&quot;50 mégapixels+…</td><td>&quot;8 coeurs jusqu…</td><td>&quot;Noir&quot;</td><td>&quot;Pas de charge …</td><td>&quot;TFT (LCD)&quot;</td><td>&quot;Dual SIM&quot;</td><td>&quot;4&quot;</td><td>&quot;8,80 mm&quot;</td><td>2639.102878</td></tr><tr><td>&quot;Non communiqué…</td><td>0.0</td><td>&quot;XIAOMI Mi 11 L…</td><td>&quot;Borderless&quot;</td><td>&quot;7,3 /10&quot;</td><td>&quot;XIAOMI&quot;</td><td>&quot;Chine&quot;</td><td>&quot;1,880 W/kg&quot;</td><td>&quot;5G&quot;</td><td>&quot;75,70 mm&quot;</td><td>&quot;160,50 mm&quot;</td><td>0</td><td>6.6</td><td>320.0</td><td>true</td><td>&quot;159,00 g&quot;</td><td>&quot;128 Go&quot;</td><td>true</td><td>&quot;6 Go&quot;</td><td>&quot;0,889 W/kg&quot;</td><td>4250</td><td>true</td><td>&quot;0,555 W/kg&quot;</td><td>&quot;Non communiqué…</td><td>&quot;Non communiqué…</td><td>&quot;Noir&quot;</td><td>&quot;Pas de charge …</td><td>&quot;Non communiqué…</td><td>&quot;Nano SIM&quot;</td><td>null</td><td>&quot;6,80 mm&quot;</td><td>2631.805464</td></tr><tr><td>&quot;Android 11&quot;</td><td>1.0</td><td>&quot;Motorola Moto …</td><td>&quot;Plat&quot;</td><td>&quot;7,4 /10&quot;</td><td>&quot;MOTOROLA&quot;</td><td>&quot;Chine&quot;</td><td>&quot;3,190 W/kg&quot;</td><td>&quot;5G&quot;</td><td>&quot;76,50 mm&quot;</td><td>&quot;170,50 mm&quot;</td><td>1</td><td>6.8</td><td>249.0</td><td>true</td><td>&quot;208,00 g&quot;</td><td>&quot;64 Go&quot;</td><td>true</td><td>&quot;4 Go&quot;</td><td>&quot;1,490 W/kg&quot;</td><td>5000</td><td>true</td><td>&quot;1,490 W/kg&quot;</td><td>&quot;50 mégapixels+…</td><td>&quot;8 coeurs jusqu…</td><td>&quot;Bleu&quot;</td><td>&quot;Pas de charge …</td><td>&quot;FHD+&quot;</td><td>&quot;Nano SIM (x2)&quot;</td><td>&quot;4&quot;</td><td>&quot;9,10 mm&quot;</td><td>2631.805464</td></tr></tbody></table></div>"
      ],
      "text/plain": [
       "shape: (436, 32)\n",
       "┌────────────┬────────┬────────────┬────────────┬───┬────────────┬────────┬───────────┬────────────┐\n",
       "│ os         ┆ stars  ┆ model      ┆ screen_typ ┆ … ┆ sim_type   ┆ sensor ┆ thickness ┆ diagonal_p │\n",
       "│ ---        ┆ ---    ┆ ---        ┆ e          ┆   ┆ ---        ┆ ---    ┆ ---       ┆ ixels      │\n",
       "│ str        ┆ f64    ┆ str        ┆ ---        ┆   ┆ str        ┆ str    ┆ str       ┆ ---        │\n",
       "│            ┆        ┆            ┆ str        ┆   ┆            ┆        ┆           ┆ f64        │\n",
       "╞════════════╪════════╪════════════╪════════════╪═══╪════════════╪════════╪═══════════╪════════════╡\n",
       "│ Android 13 ┆ 0.0    ┆ SONY       ┆ Plat       ┆ … ┆ Nano SIM   ┆ 3      ┆ 0,90 mm   ┆ 2741.67831 │\n",
       "│            ┆        ┆ Xperia 5 V ┆            ┆   ┆ et eSIM    ┆        ┆           ┆ 8          │\n",
       "│ Android 12 ┆ 4.0    ┆ Samsung    ┆ Plat       ┆ … ┆ Nano SIM   ┆ 3      ┆ 0,80 mm   ┆ 2577.20779 │\n",
       "│            ┆        ┆ Galaxy S22 ┆            ┆   ┆ et eSIM    ┆        ┆           ┆ 1          │\n",
       "│ Android 13 ┆ 4.3333 ┆ Motorola   ┆ Plat       ┆ … ┆ Nano SIM   ┆ 2      ┆ 8,20 mm   ┆ 1754.53697 │\n",
       "│            ┆        ┆ G53        ┆            ┆   ┆ et eSIM    ┆        ┆           ┆ 6          │\n",
       "│ Android 13 ┆ 0.0    ┆ Google     ┆ Plat       ┆ … ┆ 2Nano sim  ┆ 3      ┆ 0,90 mm   ┆ 2631.80546 │\n",
       "│            ┆        ┆ Pixel 8    ┆            ┆   ┆ ou 1 nano  ┆        ┆           ┆ 4          │\n",
       "│            ┆        ┆            ┆            ┆   ┆ sim +      ┆        ┆           ┆            │\n",
       "│            ┆        ┆            ┆            ┆   ┆ 1esim      ┆        ┆           ┆            │\n",
       "│ …          ┆ …      ┆ …          ┆ …          ┆ … ┆ …          ┆ …      ┆ …         ┆ …          │\n",
       "│ Android 13 ┆ 4.2679 ┆ Google     ┆ Plat       ┆ … ┆ Nano SIM   ┆ 3      ┆ 8,70 mm   ┆ 2631.80546 │\n",
       "│            ┆        ┆ Pixel 7    ┆            ┆   ┆ et eSIM    ┆        ┆           ┆ 4          │\n",
       "│ Android 12 ┆ 4.4414 ┆ Samsung    ┆ Plat       ┆ … ┆ Dual SIM   ┆ 4      ┆ 8,80 mm   ┆ 2639.10287 │\n",
       "│            ┆        ┆ Galaxy A13 ┆            ┆   ┆            ┆        ┆           ┆ 8          │\n",
       "│ Non        ┆ 0.0    ┆ XIAOMI Mi  ┆ Borderless ┆ … ┆ Nano SIM   ┆ null   ┆ 6,80 mm   ┆ 2631.80546 │\n",
       "│ communiqué ┆        ┆ 11 Lite    ┆            ┆   ┆            ┆        ┆           ┆ 4          │\n",
       "│ Android 11 ┆ 1.0    ┆ Motorola   ┆ Plat       ┆ … ┆ Nano SIM   ┆ 4      ┆ 9,10 mm   ┆ 2631.80546 │\n",
       "│            ┆        ┆ Moto G     ┆            ┆   ┆ (x2)       ┆        ┆           ┆ 4          │\n",
       "└────────────┴────────┴────────────┴────────────┴───┴────────────┴────────┴───────────┴────────────┘"
      ]
     },
     "execution_count": 34,
     "metadata": {},
     "output_type": "execute_result"
    }
   ],
   "source": [
    "df"
   ]
  },
  {
   "cell_type": "code",
   "execution_count": 17,
   "metadata": {},
   "outputs": [
    {
     "data": {
      "application/vnd.plotly.v1+json": {
       "config": {
        "plotlyServerURL": "https://plot.ly"
       },
       "data": [
        {
         "alignmentgroup": "True",
         "bingroup": "x",
         "histnorm": "probability",
         "hovertemplate": "diagonal_pixels=%{x}<br>probability=%{y}<extra></extra>",
         "legendgroup": "",
         "marker": {
          "color": "#636efa",
          "pattern": {
           "shape": ""
          }
         },
         "name": "",
         "offsetgroup": "",
         "orientation": "v",
         "showlegend": false,
         "type": "histogram",
         "x": [
          2741.678318111007,
          2577.2077913897438,
          1754.5369759569046,
          2631.8054639353572,
          1754.5369759569046,
          2631.8054639353572,
          3436.2770551863246,
          2631.8054639353572,
          2631.8054639353572,
          3080.6362979098976,
          2631.8054639353572,
          3060.3823290562896,
          2789.251512502951,
          2577.2077913897438,
          3060.3823290562896,
          2631.8054639353572,
          2789.251512502951,
          2639.102877873464,
          2577.2077913897438,
          2577.2077913897438,
          2789.251512502951,
          3407.2487434879185,
          2789.251512502951,
          2642.7531099215453,
          2631.8054639353572,
          2631.8054639353572,
          2631.8054639353572,
          2631.8054639353572,
          2631.8054639353572,
          2631.8054639353572,
          2577.2077913897438,
          1754.5369759569046,
          1754.5369759569046,
          2675.650201352935,
          2577.2077913897438,
          1754.5369759569046,
          2631.8054639353572,
          2577.2077913897438,
          2577.2077913897438,
          2577.2077913897438,
          2631.8054639353572,
          2577.2077913897438,
          1754.5369759569046,
          1974.043565881969,
          3407.2487434879185,
          1754.5369759569046,
          2642.7531099215453,
          2831.6638218545645,
          2831.6638218545645,
          2631.8054639353572,
          2577.2077913897438,
          1754.5369759569046,
          2831.6638218545645,
          2814.8138481967153,
          2631.8054639353572,
          3523.670813228727,
          3060.3823290562896,
          3523.670813228727,
          2631.8054639353572,
          2577.2077913897438,
          2631.8054639353572,
          2620.867032109794,
          2631.8054639353572,
          3407.2487434879185,
          2831.6638218545645,
          2631.8054639353572,
          2828.619451251794,
          2631.8054639353572,
          1645.8432489152788,
          2631.8054639353572,
          2631.8054639353572,
          3407.2487434879185,
          2631.8054639353572,
          2789.251512502951,
          2631.8054639353572,
          2631.8054639353572,
          1754.5369759569046,
          2577.2077913897438,
          2631.8054639353572,
          2631.8054639353572,
          2631.8054639353572,
          2642.7531099215453,
          2639.102877873464,
          3407.2487434879185,
          2639.102877873464,
          1754.5369759569046,
          2789.251512502951,
          3407.2487434879185,
          1754.5369759569046,
          2631.8054639353572,
          1800.2499826412998,
          2852.367437761131,
          3407.2487434879185,
          2631.8054639353572,
          2831.6638218545645,
          2789.251512502951,
          2631.8054639353572,
          3135.673452386265,
          1645.8432489152788,
          2631.8054639353572,
          2741.678318111007,
          2789.251512502951,
          2577.2077913897438,
          1754.5369759569046,
          1754.5369759569046,
          2631.8054639353572,
          2631.8054639353572,
          2631.8054639353572,
          2639.102877873464,
          2642.7531099215453,
          1800.2499826412998,
          2675.650201352935,
          2921.7967075072147,
          3080.6362979098976,
          2631.8054639353572,
          1754.5369759569046,
          2741.678318111007,
          1754.5369759569046,
          3080.6362979098976,
          3407.2487434879185,
          2973.7760507476014,
          2492.1709411675597,
          3080.6362979098976,
          2631.8054639353572,
          2631.8054639353572,
          1754.5369759569046,
          2631.8054639353572,
          1974.043565881969,
          2631.8054639353572,
          1754.5369759569046,
          2675.650201352935,
          1754.5369759569046,
          2852.367437761131,
          2789.251512502951,
          2631.8054639353572,
          1754.5369759569046,
          2675.650201352935,
          2852.367437761131,
          2789.251512502951,
          2631.8054639353572,
          2577.2077913897438,
          3523.670813228727,
          2577.2077913897438,
          1754.5369759569046,
          3523.670813228727,
          2639.102877873464,
          2789.251512502951,
          2631.8054639353572,
          2789.251512502951,
          2831.6638218545645,
          2639.102877873464,
          2631.8054639353572,
          2577.2077913897438,
          2631.8054639353572,
          2631.8054639353572,
          2642.7531099215453,
          2828.619451251794,
          3407.2487434879185,
          1754.5369759569046,
          2814.8138481967153,
          2966.1395786442686,
          2631.8054639353572,
          2577.2077913897438,
          2631.8054639353572,
          2631.8054639353572,
          1754.5369759569046,
          2492.1709411675597,
          3523.670813228727,
          2789.251512502951,
          2631.8054639353572,
          2631.8054639353572,
          2631.8054639353572,
          3060.3823290562896,
          2921.7967075072147,
          1754.5369759569046,
          1754.5369759569046,
          2631.8054639353572,
          4405.814340164597,
          2852.367437761131,
          3060.3823290562896,
          2639.102877873464,
          2631.8054639353572,
          2631.8054639353572,
          1754.5369759569046,
          2639.102877873464,
          2852.367437761131,
          2631.8054639353572,
          2631.8054639353572,
          2631.8054639353572,
          2631.8054639353572,
          2631.8054639353572,
          2639.102877873464,
          2848.66565254682,
          2831.6638218545645,
          1754.5369759569046,
          2631.8054639353572,
          1754.5369759569046,
          2631.8054639353572,
          2631.8054639353572,
          2631.8054639353572,
          2828.619451251794,
          2631.8054639353572,
          2577.2077913897438,
          2852.367437761131,
          2852.367437761131,
          2631.8054639353572,
          2631.8054639353572,
          2631.8054639353572,
          2577.2077913897438,
          3509.073951913809,
          2831.6638218545645,
          2639.102877873464,
          2631.8054639353572,
          2852.367437761131,
          3080.6362979098976,
          2631.8054639353572,
          2631.8054639353572,
          2631.8054639353572,
          2631.8054639353572,
          1974.043565881969,
          2620.867032109794,
          3060.3823290562896,
          2789.251512502951,
          2852.367437761131,
          3135.673452386265,
          2577.2077913897438,
          2631.8054639353572,
          2631.8054639353572,
          3509.073951913809,
          4405.814340164597,
          2577.2077913897438,
          1791.0890541790488,
          2631.8054639353572,
          2831.6638218545645,
          1754.5369759569046,
          2686.6335812685734,
          2639.102877873464,
          2973.7760507476014,
          4405.814340164597,
          2577.2077913897438,
          2828.619451251794,
          2577.2077913897438,
          2631.8054639353572,
          1754.5369759569046,
          2741.678318111007,
          1974.043565881969,
          2577.2077913897438,
          2631.8054639353572,
          2492.1709411675597,
          2631.8054639353572,
          2741.678318111007,
          2631.8054639353572,
          2631.8054639353572,
          1800.2499826412998,
          2631.8054639353572,
          3523.670813228727,
          1754.5369759569046,
          2631.8054639353572,
          1754.5369759569046,
          2973.7760507476014,
          2789.251512502951,
          2631.8054639353572,
          2631.8054639353572,
          2577.2077913897438,
          2577.2077913897438,
          2789.251512502951,
          3079.2395165040343,
          1791.0890541790488,
          1754.5369759569046,
          2741.678318111007,
          2639.102877873464,
          2492.1709411675597,
          2852.367437761131,
          2414.953415699773,
          2631.8054639353572,
          2631.8054639353572,
          2631.8054639353572,
          2831.6638218545645,
          2814.8138481967153,
          2631.8054639353572,
          2631.8054639353572,
          1754.5369759569046,
          2631.8054639353572,
          2631.8054639353572,
          2631.8054639353572,
          1800.2499826412998,
          1754.5369759569046,
          2631.8054639353572,
          2577.2077913897438,
          2631.8054639353572,
          2492.1709411675597,
          1800.2499826412998,
          2631.8054639353572,
          2631.8054639353572,
          2852.367437761131,
          2631.8054639353572,
          2852.367437761131,
          2577.2077913897438,
          1791.0890541790488,
          2639.102877873464,
          2577.2077913897438,
          2577.2077913897438,
          2852.367437761131,
          2631.8054639353572,
          3060.3823290562896,
          2577.2077913897438,
          2577.2077913897438,
          2577.2077913897438,
          2577.2077913897438,
          2577.2077913897438,
          2831.6638218545645,
          2789.251512502951,
          1754.5369759569046,
          2789.251512502951,
          2831.6638218545645,
          1754.5369759569046,
          2631.8054639353572,
          2631.8054639353572,
          3407.2487434879185,
          2631.8054639353572,
          2631.8054639353572,
          2577.2077913897438,
          2639.102877873464,
          2577.2077913897438,
          2620.867032109794,
          2789.251512502951,
          2631.8054639353572,
          2631.8054639353572,
          2789.251512502951,
          2852.367437761131,
          2831.6638218545645,
          2831.6638218545645,
          1754.5369759569046,
          2631.8054639353572,
          2631.8054639353572,
          3436.2770551863246,
          2631.8054639353572,
          2492.1709411675597,
          2631.8054639353572,
          2789.251512502951,
          2631.8054639353572,
          3060.3823290562896,
          2631.8054639353572,
          3060.3823290562896,
          1754.5369759569046,
          2631.8054639353572,
          2741.678318111007,
          3407.2487434879185,
          2631.8054639353572,
          2852.367437761131,
          2631.8054639353572,
          2852.367437761131,
          2831.6638218545645,
          2631.8054639353572,
          2631.8054639353572,
          2631.8054639353572,
          4405.814340164597,
          1754.5369759569046,
          3523.670813228727,
          2631.8054639353572,
          2639.102877873464,
          2631.8054639353572,
          1791.0890541790488,
          2631.8054639353572,
          2631.8054639353572,
          3407.2487434879185,
          2631.8054639353572,
          2577.2077913897438,
          1754.5369759569046,
          3436.2770551863246,
          2631.8054639353572,
          2852.367437761131,
          2631.8054639353572,
          2631.8054639353572,
          3080.6362979098976,
          2577.2077913897438,
          2631.8054639353572,
          4405.814340164597,
          1754.5369759569046,
          2675.650201352935,
          2852.367437761131,
          3060.3823290562896,
          2741.678318111007,
          2631.8054639353572,
          2639.102877873464,
          2973.7760507476014,
          2852.367437761131,
          2631.8054639353572,
          1800.2499826412998,
          1754.5369759569046,
          2921.7967075072147,
          1791.0890541790488,
          2631.8054639353572,
          4405.814340164597,
          4405.814340164597,
          2852.367437761131,
          3407.2487434879185,
          2631.8054639353572,
          2789.251512502951,
          1754.5369759569046,
          2631.8054639353572,
          1791.0890541790488,
          3060.3823290562896,
          2814.8138481967153,
          1530.3777311500583,
          2631.8054639353572,
          1800.2499826412998,
          2631.8054639353572,
          2631.8054639353572,
          1754.5369759569046,
          2631.8054639353572,
          2631.8054639353572,
          2631.8054639353572,
          2631.8054639353572,
          2631.8054639353572,
          2577.2077913897438,
          2577.2077913897438,
          1754.5369759569046,
          2631.8054639353572,
          3436.2770551863246,
          3070.439707924583,
          2631.8054639353572,
          2639.102877873464,
          1754.5369759569046,
          2631.8054639353572,
          2631.8054639353572,
          3509.073951913809,
          2789.251512502951,
          3363.807366660582,
          2631.8054639353572,
          3080.6362979098976,
          2631.8054639353572,
          2631.8054639353572,
          2639.102877873464,
          2631.8054639353572,
          2631.8054639353572
         ],
         "xaxis": "x",
         "yaxis": "y"
        }
       ],
       "layout": {
        "barmode": "relative",
        "legend": {
         "tracegroupgap": 0
        },
        "margin": {
         "t": 60
        },
        "template": {
         "data": {
          "bar": [
           {
            "error_x": {
             "color": "#2a3f5f"
            },
            "error_y": {
             "color": "#2a3f5f"
            },
            "marker": {
             "line": {
              "color": "#E5ECF6",
              "width": 0.5
             },
             "pattern": {
              "fillmode": "overlay",
              "size": 10,
              "solidity": 0.2
             }
            },
            "type": "bar"
           }
          ],
          "barpolar": [
           {
            "marker": {
             "line": {
              "color": "#E5ECF6",
              "width": 0.5
             },
             "pattern": {
              "fillmode": "overlay",
              "size": 10,
              "solidity": 0.2
             }
            },
            "type": "barpolar"
           }
          ],
          "carpet": [
           {
            "aaxis": {
             "endlinecolor": "#2a3f5f",
             "gridcolor": "white",
             "linecolor": "white",
             "minorgridcolor": "white",
             "startlinecolor": "#2a3f5f"
            },
            "baxis": {
             "endlinecolor": "#2a3f5f",
             "gridcolor": "white",
             "linecolor": "white",
             "minorgridcolor": "white",
             "startlinecolor": "#2a3f5f"
            },
            "type": "carpet"
           }
          ],
          "choropleth": [
           {
            "colorbar": {
             "outlinewidth": 0,
             "ticks": ""
            },
            "type": "choropleth"
           }
          ],
          "contour": [
           {
            "colorbar": {
             "outlinewidth": 0,
             "ticks": ""
            },
            "colorscale": [
             [
              0,
              "#0d0887"
             ],
             [
              0.1111111111111111,
              "#46039f"
             ],
             [
              0.2222222222222222,
              "#7201a8"
             ],
             [
              0.3333333333333333,
              "#9c179e"
             ],
             [
              0.4444444444444444,
              "#bd3786"
             ],
             [
              0.5555555555555556,
              "#d8576b"
             ],
             [
              0.6666666666666666,
              "#ed7953"
             ],
             [
              0.7777777777777778,
              "#fb9f3a"
             ],
             [
              0.8888888888888888,
              "#fdca26"
             ],
             [
              1,
              "#f0f921"
             ]
            ],
            "type": "contour"
           }
          ],
          "contourcarpet": [
           {
            "colorbar": {
             "outlinewidth": 0,
             "ticks": ""
            },
            "type": "contourcarpet"
           }
          ],
          "heatmap": [
           {
            "colorbar": {
             "outlinewidth": 0,
             "ticks": ""
            },
            "colorscale": [
             [
              0,
              "#0d0887"
             ],
             [
              0.1111111111111111,
              "#46039f"
             ],
             [
              0.2222222222222222,
              "#7201a8"
             ],
             [
              0.3333333333333333,
              "#9c179e"
             ],
             [
              0.4444444444444444,
              "#bd3786"
             ],
             [
              0.5555555555555556,
              "#d8576b"
             ],
             [
              0.6666666666666666,
              "#ed7953"
             ],
             [
              0.7777777777777778,
              "#fb9f3a"
             ],
             [
              0.8888888888888888,
              "#fdca26"
             ],
             [
              1,
              "#f0f921"
             ]
            ],
            "type": "heatmap"
           }
          ],
          "heatmapgl": [
           {
            "colorbar": {
             "outlinewidth": 0,
             "ticks": ""
            },
            "colorscale": [
             [
              0,
              "#0d0887"
             ],
             [
              0.1111111111111111,
              "#46039f"
             ],
             [
              0.2222222222222222,
              "#7201a8"
             ],
             [
              0.3333333333333333,
              "#9c179e"
             ],
             [
              0.4444444444444444,
              "#bd3786"
             ],
             [
              0.5555555555555556,
              "#d8576b"
             ],
             [
              0.6666666666666666,
              "#ed7953"
             ],
             [
              0.7777777777777778,
              "#fb9f3a"
             ],
             [
              0.8888888888888888,
              "#fdca26"
             ],
             [
              1,
              "#f0f921"
             ]
            ],
            "type": "heatmapgl"
           }
          ],
          "histogram": [
           {
            "marker": {
             "pattern": {
              "fillmode": "overlay",
              "size": 10,
              "solidity": 0.2
             }
            },
            "type": "histogram"
           }
          ],
          "histogram2d": [
           {
            "colorbar": {
             "outlinewidth": 0,
             "ticks": ""
            },
            "colorscale": [
             [
              0,
              "#0d0887"
             ],
             [
              0.1111111111111111,
              "#46039f"
             ],
             [
              0.2222222222222222,
              "#7201a8"
             ],
             [
              0.3333333333333333,
              "#9c179e"
             ],
             [
              0.4444444444444444,
              "#bd3786"
             ],
             [
              0.5555555555555556,
              "#d8576b"
             ],
             [
              0.6666666666666666,
              "#ed7953"
             ],
             [
              0.7777777777777778,
              "#fb9f3a"
             ],
             [
              0.8888888888888888,
              "#fdca26"
             ],
             [
              1,
              "#f0f921"
             ]
            ],
            "type": "histogram2d"
           }
          ],
          "histogram2dcontour": [
           {
            "colorbar": {
             "outlinewidth": 0,
             "ticks": ""
            },
            "colorscale": [
             [
              0,
              "#0d0887"
             ],
             [
              0.1111111111111111,
              "#46039f"
             ],
             [
              0.2222222222222222,
              "#7201a8"
             ],
             [
              0.3333333333333333,
              "#9c179e"
             ],
             [
              0.4444444444444444,
              "#bd3786"
             ],
             [
              0.5555555555555556,
              "#d8576b"
             ],
             [
              0.6666666666666666,
              "#ed7953"
             ],
             [
              0.7777777777777778,
              "#fb9f3a"
             ],
             [
              0.8888888888888888,
              "#fdca26"
             ],
             [
              1,
              "#f0f921"
             ]
            ],
            "type": "histogram2dcontour"
           }
          ],
          "mesh3d": [
           {
            "colorbar": {
             "outlinewidth": 0,
             "ticks": ""
            },
            "type": "mesh3d"
           }
          ],
          "parcoords": [
           {
            "line": {
             "colorbar": {
              "outlinewidth": 0,
              "ticks": ""
             }
            },
            "type": "parcoords"
           }
          ],
          "pie": [
           {
            "automargin": true,
            "type": "pie"
           }
          ],
          "scatter": [
           {
            "fillpattern": {
             "fillmode": "overlay",
             "size": 10,
             "solidity": 0.2
            },
            "type": "scatter"
           }
          ],
          "scatter3d": [
           {
            "line": {
             "colorbar": {
              "outlinewidth": 0,
              "ticks": ""
             }
            },
            "marker": {
             "colorbar": {
              "outlinewidth": 0,
              "ticks": ""
             }
            },
            "type": "scatter3d"
           }
          ],
          "scattercarpet": [
           {
            "marker": {
             "colorbar": {
              "outlinewidth": 0,
              "ticks": ""
             }
            },
            "type": "scattercarpet"
           }
          ],
          "scattergeo": [
           {
            "marker": {
             "colorbar": {
              "outlinewidth": 0,
              "ticks": ""
             }
            },
            "type": "scattergeo"
           }
          ],
          "scattergl": [
           {
            "marker": {
             "colorbar": {
              "outlinewidth": 0,
              "ticks": ""
             }
            },
            "type": "scattergl"
           }
          ],
          "scattermapbox": [
           {
            "marker": {
             "colorbar": {
              "outlinewidth": 0,
              "ticks": ""
             }
            },
            "type": "scattermapbox"
           }
          ],
          "scatterpolar": [
           {
            "marker": {
             "colorbar": {
              "outlinewidth": 0,
              "ticks": ""
             }
            },
            "type": "scatterpolar"
           }
          ],
          "scatterpolargl": [
           {
            "marker": {
             "colorbar": {
              "outlinewidth": 0,
              "ticks": ""
             }
            },
            "type": "scatterpolargl"
           }
          ],
          "scatterternary": [
           {
            "marker": {
             "colorbar": {
              "outlinewidth": 0,
              "ticks": ""
             }
            },
            "type": "scatterternary"
           }
          ],
          "surface": [
           {
            "colorbar": {
             "outlinewidth": 0,
             "ticks": ""
            },
            "colorscale": [
             [
              0,
              "#0d0887"
             ],
             [
              0.1111111111111111,
              "#46039f"
             ],
             [
              0.2222222222222222,
              "#7201a8"
             ],
             [
              0.3333333333333333,
              "#9c179e"
             ],
             [
              0.4444444444444444,
              "#bd3786"
             ],
             [
              0.5555555555555556,
              "#d8576b"
             ],
             [
              0.6666666666666666,
              "#ed7953"
             ],
             [
              0.7777777777777778,
              "#fb9f3a"
             ],
             [
              0.8888888888888888,
              "#fdca26"
             ],
             [
              1,
              "#f0f921"
             ]
            ],
            "type": "surface"
           }
          ],
          "table": [
           {
            "cells": {
             "fill": {
              "color": "#EBF0F8"
             },
             "line": {
              "color": "white"
             }
            },
            "header": {
             "fill": {
              "color": "#C8D4E3"
             },
             "line": {
              "color": "white"
             }
            },
            "type": "table"
           }
          ]
         },
         "layout": {
          "annotationdefaults": {
           "arrowcolor": "#2a3f5f",
           "arrowhead": 0,
           "arrowwidth": 1
          },
          "autotypenumbers": "strict",
          "coloraxis": {
           "colorbar": {
            "outlinewidth": 0,
            "ticks": ""
           }
          },
          "colorscale": {
           "diverging": [
            [
             0,
             "#8e0152"
            ],
            [
             0.1,
             "#c51b7d"
            ],
            [
             0.2,
             "#de77ae"
            ],
            [
             0.3,
             "#f1b6da"
            ],
            [
             0.4,
             "#fde0ef"
            ],
            [
             0.5,
             "#f7f7f7"
            ],
            [
             0.6,
             "#e6f5d0"
            ],
            [
             0.7,
             "#b8e186"
            ],
            [
             0.8,
             "#7fbc41"
            ],
            [
             0.9,
             "#4d9221"
            ],
            [
             1,
             "#276419"
            ]
           ],
           "sequential": [
            [
             0,
             "#0d0887"
            ],
            [
             0.1111111111111111,
             "#46039f"
            ],
            [
             0.2222222222222222,
             "#7201a8"
            ],
            [
             0.3333333333333333,
             "#9c179e"
            ],
            [
             0.4444444444444444,
             "#bd3786"
            ],
            [
             0.5555555555555556,
             "#d8576b"
            ],
            [
             0.6666666666666666,
             "#ed7953"
            ],
            [
             0.7777777777777778,
             "#fb9f3a"
            ],
            [
             0.8888888888888888,
             "#fdca26"
            ],
            [
             1,
             "#f0f921"
            ]
           ],
           "sequentialminus": [
            [
             0,
             "#0d0887"
            ],
            [
             0.1111111111111111,
             "#46039f"
            ],
            [
             0.2222222222222222,
             "#7201a8"
            ],
            [
             0.3333333333333333,
             "#9c179e"
            ],
            [
             0.4444444444444444,
             "#bd3786"
            ],
            [
             0.5555555555555556,
             "#d8576b"
            ],
            [
             0.6666666666666666,
             "#ed7953"
            ],
            [
             0.7777777777777778,
             "#fb9f3a"
            ],
            [
             0.8888888888888888,
             "#fdca26"
            ],
            [
             1,
             "#f0f921"
            ]
           ]
          },
          "colorway": [
           "#636efa",
           "#EF553B",
           "#00cc96",
           "#ab63fa",
           "#FFA15A",
           "#19d3f3",
           "#FF6692",
           "#B6E880",
           "#FF97FF",
           "#FECB52"
          ],
          "font": {
           "color": "#2a3f5f"
          },
          "geo": {
           "bgcolor": "white",
           "lakecolor": "white",
           "landcolor": "#E5ECF6",
           "showlakes": true,
           "showland": true,
           "subunitcolor": "white"
          },
          "hoverlabel": {
           "align": "left"
          },
          "hovermode": "closest",
          "mapbox": {
           "style": "light"
          },
          "paper_bgcolor": "white",
          "plot_bgcolor": "#E5ECF6",
          "polar": {
           "angularaxis": {
            "gridcolor": "white",
            "linecolor": "white",
            "ticks": ""
           },
           "bgcolor": "#E5ECF6",
           "radialaxis": {
            "gridcolor": "white",
            "linecolor": "white",
            "ticks": ""
           }
          },
          "scene": {
           "xaxis": {
            "backgroundcolor": "#E5ECF6",
            "gridcolor": "white",
            "gridwidth": 2,
            "linecolor": "white",
            "showbackground": true,
            "ticks": "",
            "zerolinecolor": "white"
           },
           "yaxis": {
            "backgroundcolor": "#E5ECF6",
            "gridcolor": "white",
            "gridwidth": 2,
            "linecolor": "white",
            "showbackground": true,
            "ticks": "",
            "zerolinecolor": "white"
           },
           "zaxis": {
            "backgroundcolor": "#E5ECF6",
            "gridcolor": "white",
            "gridwidth": 2,
            "linecolor": "white",
            "showbackground": true,
            "ticks": "",
            "zerolinecolor": "white"
           }
          },
          "shapedefaults": {
           "line": {
            "color": "#2a3f5f"
           }
          },
          "ternary": {
           "aaxis": {
            "gridcolor": "white",
            "linecolor": "white",
            "ticks": ""
           },
           "baxis": {
            "gridcolor": "white",
            "linecolor": "white",
            "ticks": ""
           },
           "bgcolor": "#E5ECF6",
           "caxis": {
            "gridcolor": "white",
            "linecolor": "white",
            "ticks": ""
           }
          },
          "title": {
           "x": 0.05
          },
          "xaxis": {
           "automargin": true,
           "gridcolor": "white",
           "linecolor": "white",
           "ticks": "",
           "title": {
            "standoff": 15
           },
           "zerolinecolor": "white",
           "zerolinewidth": 2
          },
          "yaxis": {
           "automargin": true,
           "gridcolor": "white",
           "linecolor": "white",
           "ticks": "",
           "title": {
            "standoff": 15
           },
           "zerolinecolor": "white",
           "zerolinewidth": 2
          }
         }
        },
        "title": {
         "text": "Distribution des diagonal_pixels"
        },
        "xaxis": {
         "anchor": "y",
         "domain": [
          0,
          1
         ],
         "title": {
          "text": "diagonal_pixels"
         }
        },
        "yaxis": {
         "anchor": "x",
         "domain": [
          0,
          1
         ],
         "title": {
          "text": "Fréquence"
         }
        }
       }
      }
     },
     "metadata": {},
     "output_type": "display_data"
    }
   ],
   "source": [
    "import plotly.express as px\n",
    "\n",
    "fig = px.histogram(df, x=\"diagonal_pixels\", histnorm=\"probability\")\n",
    "fig.update_layout(\n",
    "    title=\"Distribution des diagonal_pixels\",\n",
    "    xaxis_title=\"diagonal_pixels\",\n",
    "    yaxis_title=\"Fréquence\",\n",
    ")\n",
    "fig.show()"
   ]
  },
  {
   "cell_type": "markdown",
   "metadata": {},
   "source": [
    "**TODO** `cleaning` :\n",
    "\n",
    "- [x] **network**\n",
    "- [x] **color**\n",
    "- [x] **price**\n",
    "- [x] **screen_type**\n",
    "- [ ] *cpu*"
   ]
  },
  {
   "cell_type": "code",
   "execution_count": 10,
   "metadata": {},
   "outputs": [],
   "source": [
    "# df.select(\"cpu\").unique().to_numpy()\n",
    "# pour le cpu on va préférer retravailler pour avoir la fréquence en GHz plutot"
   ]
  },
  {
   "cell_type": "markdown",
   "metadata": {},
   "source": [
    "Vérification des valeurs nulles sur les différentes colonnes."
   ]
  },
  {
   "cell_type": "code",
   "execution_count": 5,
   "metadata": {},
   "outputs": [
    {
     "data": {
      "text/html": [
       "<div><style>\n",
       ".dataframe > thead > tr > th,\n",
       ".dataframe > tbody > tr > td {\n",
       "  text-align: right;\n",
       "  white-space: pre-wrap;\n",
       "}\n",
       "</style>\n",
       "<small>shape: (1, 32)</small><table border=\"1\" class=\"dataframe\"><thead><tr><th>fast_charging</th><th>reviews</th><th>screen_size</th><th>das_chest</th><th>network</th><th>stars</th><th>screen_type</th><th>sensor_resolution</th><th>os</th><th>color</th><th>das_limbs</th><th>net_weight</th><th>storage</th><th>ram</th><th>usb_type_c</th><th>price</th><th>battery</th><th>das_head</th><th>cpu</th><th>made_in</th><th>width</th><th>model</th><th>charging_type</th><th>screen_tech</th><th>upgrade_storage</th><th>height</th><th>repairability_index</th><th>thickness</th><th>sim_type</th><th>brand</th><th>sensor</th><th>total_pixels</th></tr><tr><td>u32</td><td>u32</td><td>u32</td><td>u32</td><td>u32</td><td>u32</td><td>u32</td><td>u32</td><td>u32</td><td>u32</td><td>u32</td><td>u32</td><td>u32</td><td>u32</td><td>u32</td><td>u32</td><td>u32</td><td>u32</td><td>u32</td><td>u32</td><td>u32</td><td>u32</td><td>u32</td><td>u32</td><td>u32</td><td>u32</td><td>u32</td><td>u32</td><td>u32</td><td>u32</td><td>u32</td><td>u32</td></tr></thead><tbody><tr><td>0</td><td>0</td><td>0</td><td>0</td><td>0</td><td>0</td><td>0</td><td>0</td><td>1</td><td>1</td><td>0</td><td>14</td><td>0</td><td>0</td><td>0</td><td>0</td><td>0</td><td>0</td><td>1</td><td>7</td><td>1</td><td>0</td><td>3</td><td>0</td><td>0</td><td>1</td><td>0</td><td>1</td><td>0</td><td>0</td><td>75</td><td>0</td></tr></tbody></table></div>"
      ],
      "text/plain": [
       "shape: (1, 32)\n",
       "┌───────────────┬─────────┬─────────────┬───────────┬───┬──────────┬───────┬────────┬──────────────┐\n",
       "│ fast_charging ┆ reviews ┆ screen_size ┆ das_chest ┆ … ┆ sim_type ┆ brand ┆ sensor ┆ total_pixels │\n",
       "│ ---           ┆ ---     ┆ ---         ┆ ---       ┆   ┆ ---      ┆ ---   ┆ ---    ┆ ---          │\n",
       "│ u32           ┆ u32     ┆ u32         ┆ u32       ┆   ┆ u32      ┆ u32   ┆ u32    ┆ u32          │\n",
       "╞═══════════════╪═════════╪═════════════╪═══════════╪═══╪══════════╪═══════╪════════╪══════════════╡\n",
       "│ 0             ┆ 0       ┆ 0           ┆ 0         ┆ … ┆ 0        ┆ 0     ┆ 75     ┆ 0            │\n",
       "└───────────────┴─────────┴─────────────┴───────────┴───┴──────────┴───────┴────────┴──────────────┘"
      ]
     },
     "execution_count": 5,
     "metadata": {},
     "output_type": "execute_result"
    }
   ],
   "source": [
    "df.select(pl.all().is_null().sum())"
   ]
  },
  {
   "cell_type": "code",
   "execution_count": 5,
   "metadata": {},
   "outputs": [
    {
     "data": {
      "text/plain": [
       "array([['Samsung Galaxy S10'],\n",
       "       ['Google Pixel 8'],\n",
       "       ['Google Pixel 8 Pro'],\n",
       "       ['Sony Xperia 1 V']], dtype=object)"
      ]
     },
     "execution_count": 5,
     "metadata": {},
     "output_type": "execute_result"
    }
   ],
   "source": [
    "df.select(pl.col(\"model\").filter(pl.col(\"net_weight\").is_null())).unique().to_numpy()"
   ]
  },
  {
   "cell_type": "markdown",
   "metadata": {},
   "source": [
    "Idée => Avec cette liste unique des téléphones, aller chercher leur poids (manquant) avec une `request` sur google et récupérer le résultat"
   ]
  },
  {
   "cell_type": "code",
   "execution_count": 8,
   "metadata": {},
   "outputs": [
    {
     "data": {
      "text/html": [
       "<div><style>\n",
       ".dataframe > thead > tr > th,\n",
       ".dataframe > tbody > tr > td {\n",
       "  text-align: right;\n",
       "  white-space: pre-wrap;\n",
       "}\n",
       "</style>\n",
       "<small>shape: (3, 34)</small><table border=\"1\" class=\"dataframe\"><thead><tr><th>stars</th><th>thickness</th><th>screen_tech</th><th>screen_resolution</th><th>net_weight</th><th>das_head</th><th>charging_type</th><th>os</th><th>brand</th><th>repairability_index</th><th>bluetooth</th><th>sim_number</th><th>network</th><th>width</th><th>sim_type</th><th>color</th><th>screen_size</th><th>sensor</th><th>screen_type</th><th>fast_charging</th><th>usb_type_c</th><th>sensor_resolution</th><th>reviews</th><th>storage</th><th>battery</th><th>height</th><th>model</th><th>ram</th><th>das_limbs</th><th>cpu</th><th>made_in</th><th>das_chest</th><th>price</th><th>upgrade_storage</th></tr><tr><td>f64</td><td>str</td><td>str</td><td>str</td><td>str</td><td>str</td><td>str</td><td>str</td><td>str</td><td>str</td><td>str</td><td>str</td><td>str</td><td>str</td><td>str</td><td>str</td><td>str</td><td>str</td><td>str</td><td>str</td><td>bool</td><td>str</td><td>i64</td><td>str</td><td>str</td><td>str</td><td>str</td><td>str</td><td>str</td><td>str</td><td>str</td><td>str</td><td>f64</td><td>bool</td></tr></thead><tbody><tr><td>4.3137</td><td>&quot;8,40 mm&quot;</td><td>&quot;TFT (LCD)&quot;</td><td>&quot;2408 x 1080 pi…</td><td>&quot;197,00 g&quot;</td><td>&quot;1,492 W/kg&quot;</td><td>null</td><td>&quot;Android 12&quot;</td><td>&quot;SAMSUNG&quot;</td><td>&quot;8,1 /10&quot;</td><td>&quot;5.1&quot;</td><td>&quot;2 SIM&quot;</td><td>&quot;5G&quot;</td><td>&quot;76,90 mm&quot;</td><td>&quot;Dual SIM&quot;</td><td>&quot;Bleu&quot;</td><td>&quot;6,6&quot; soit 16,8…</td><td>&quot;3&quot;</td><td>&quot;Plat&quot;</td><td>&quot;Oui&quot;</td><td>true</td><td>&quot;50 mégapixels+…</td><td>51</td><td>&quot;128 Go&quot;</td><td>&quot;5000 mAh&quot;</td><td>&quot;165,40 mm&quot;</td><td>&quot;Samsung Galaxy…</td><td>&quot;4 Go&quot;</td><td>&quot;2,840 W/kg&quot;</td><td>&quot;8 coeurs jusqu…</td><td>&quot;Viêt Nam&quot;</td><td>&quot;1,251 W/kg&quot;</td><td>279.0</td><td>true</td></tr><tr><td>4.3137</td><td>&quot;8,40 mm&quot;</td><td>&quot;TFT (LCD)&quot;</td><td>&quot;2408 x 1080 pi…</td><td>&quot;197,00 g&quot;</td><td>&quot;1,492 W/kg&quot;</td><td>null</td><td>&quot;Android 12&quot;</td><td>&quot;SAMSUNG&quot;</td><td>&quot;8,1 /10&quot;</td><td>&quot;5.1&quot;</td><td>&quot;2 SIM&quot;</td><td>&quot;5G&quot;</td><td>&quot;76,90 mm&quot;</td><td>&quot;Dual SIM&quot;</td><td>&quot;Noir&quot;</td><td>&quot;6,6&quot; soit 16,8…</td><td>&quot;3&quot;</td><td>&quot;Plat&quot;</td><td>&quot;Oui&quot;</td><td>true</td><td>&quot;50 mégapixels+…</td><td>51</td><td>&quot;128 Go&quot;</td><td>&quot;5000 mAh&quot;</td><td>&quot;165,40 mm&quot;</td><td>&quot;Samsung Galaxy…</td><td>&quot;4 Go&quot;</td><td>&quot;2,840 W/kg&quot;</td><td>&quot;8 coeurs jusqu…</td><td>&quot;Viêt Nam&quot;</td><td>&quot;1,251 W/kg&quot;</td><td>279.0</td><td>true</td></tr><tr><td>4.6667</td><td>&quot;8,40 mm&quot;</td><td>&quot;LCD (LTPS) FHD…</td><td>&quot;1080 x 2400 pi…</td><td>&quot;190,00 g&quot;</td><td>&quot;0,788 W/kg&quot;</td><td>null</td><td>&quot;Android 11&quot;</td><td>&quot;REALME&quot;</td><td>&quot;6,1 /10&quot;</td><td>&quot;5&quot;</td><td>&quot;1 SIM&quot;</td><td>&quot;4G+&quot;</td><td>&quot;75,50 mm&quot;</td><td>&quot;Nano SIM&quot;</td><td>&quot;Noir&quot;</td><td>&quot;6,6&quot; soit 16,8…</td><td>&quot;3&quot;</td><td>&quot;Plat&quot;</td><td>&quot;Oui&quot;</td><td>true</td><td>&quot;50 mégapixels+…</td><td>3</td><td>&quot;64 Go&quot;</td><td>&quot;5000 mAh&quot;</td><td>&quot;164,40 mm&quot;</td><td>&quot;Realme 9i&quot;</td><td>&quot;4 Go&quot;</td><td>&quot;2,072 W/kg&quot;</td><td>&quot;8 coeurs jusqu…</td><td>&quot;Chine&quot;</td><td>&quot;1,020 W/kg&quot;</td><td>219.0</td><td>true</td></tr></tbody></table></div>"
      ],
      "text/plain": [
       "shape: (3, 34)\n",
       "┌────────┬───────────┬─────────────┬─────────────┬───┬──────────┬────────────┬───────┬─────────────┐\n",
       "│ stars  ┆ thickness ┆ screen_tech ┆ screen_reso ┆ … ┆ made_in  ┆ das_chest  ┆ price ┆ upgrade_sto │\n",
       "│ ---    ┆ ---       ┆ ---         ┆ lution      ┆   ┆ ---      ┆ ---        ┆ ---   ┆ rage        │\n",
       "│ f64    ┆ str       ┆ str         ┆ ---         ┆   ┆ str      ┆ str        ┆ f64   ┆ ---         │\n",
       "│        ┆           ┆             ┆ str         ┆   ┆          ┆            ┆       ┆ bool        │\n",
       "╞════════╪═══════════╪═════════════╪═════════════╪═══╪══════════╪════════════╪═══════╪═════════════╡\n",
       "│ 4.3137 ┆ 8,40 mm   ┆ TFT (LCD)   ┆ 2408 x 1080 ┆ … ┆ Viêt Nam ┆ 1,251 W/kg ┆ 279.0 ┆ true        │\n",
       "│        ┆           ┆             ┆ pixels      ┆   ┆          ┆            ┆       ┆             │\n",
       "│ 4.3137 ┆ 8,40 mm   ┆ TFT (LCD)   ┆ 2408 x 1080 ┆ … ┆ Viêt Nam ┆ 1,251 W/kg ┆ 279.0 ┆ true        │\n",
       "│        ┆           ┆             ┆ pixels      ┆   ┆          ┆            ┆       ┆             │\n",
       "│ 4.6667 ┆ 8,40 mm   ┆ LCD (LTPS)  ┆ 1080 x 2400 ┆ … ┆ Chine    ┆ 1,020 W/kg ┆ 219.0 ┆ true        │\n",
       "│        ┆           ┆ FHD+        ┆ pixels      ┆   ┆          ┆            ┆       ┆             │\n",
       "└────────┴───────────┴─────────────┴─────────────┴───┴──────────┴────────────┴───────┴─────────────┘"
      ]
     },
     "execution_count": 8,
     "metadata": {},
     "output_type": "execute_result"
    }
   ],
   "source": [
    "df.filter(pl.col(\"charging_type\").is_null())\n",
    "# ces 3 téléphones sont en fait chargeables par induction\n",
    "# renommer la colonne charging_type par induction et avoir des valeurs true/false booléennes"
   ]
  },
  {
   "cell_type": "code",
   "execution_count": 13,
   "metadata": {},
   "outputs": [
    {
     "data": {
      "text/plain": [
       "array([['Noir', 167],\n",
       "       ['Bleu', 68],\n",
       "       ['Gris', 54],\n",
       "       ['Vert', 50],\n",
       "       ['Blanc', 40],\n",
       "       ['Violet', 23],\n",
       "       ['Beige', 10],\n",
       "       ['Argent', 9],\n",
       "       ['Rose', 5],\n",
       "       ['Rouge', 5],\n",
       "       ['Jaune', 3],\n",
       "       ['Bronze', 2],\n",
       "       ['Orange', 1],\n",
       "       [None, 1],\n",
       "       ['Or', 1]], dtype=object)"
      ]
     },
     "execution_count": 13,
     "metadata": {},
     "output_type": "execute_result"
    }
   ],
   "source": [
    "df.group_by(\"color\").count().sort(\"count\", descending=True).to_numpy()"
   ]
  }
 ],
 "metadata": {
  "kernelspec": {
   "display_name": "Python 3",
   "language": "python",
   "name": "python3"
  },
  "language_info": {
   "codemirror_mode": {
    "name": "ipython",
    "version": 3
   },
   "file_extension": ".py",
   "mimetype": "text/x-python",
   "name": "python",
   "nbconvert_exporter": "python",
   "pygments_lexer": "ipython3",
   "version": "3.10.6"
  }
 },
 "nbformat": 4,
 "nbformat_minor": 2
}
