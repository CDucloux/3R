{
 "cells": [
  {
   "cell_type": "code",
   "execution_count": null,
   "metadata": {},
   "outputs": [],
   "source": [
    "from script.scraper_functions import *\n",
    "from script.soupifier import *\n",
    "from serde.json import to_json\n",
    "import numpy as np\n",
    "from itertools import chain\n",
    "from yarl import URL"
   ]
  },
  {
   "cell_type": "code",
   "execution_count": null,
   "metadata": {},
   "outputs": [],
   "source": [
    "from plotly_figures.figure_loader import smartphone_graph_loader"
   ]
  },
  {
   "cell_type": "code",
   "execution_count": null,
   "metadata": {},
   "outputs": [],
   "source": [
    "smartphones = smartphone_graph_loader().update_layout(\n",
    "        paper_bgcolor=\"white\",\n",
    "        font_color=\"black\",\n",
    "        legend_font_color=\"black\",\n",
    "        title_font_color=\"white\",\n",
    "        xaxis=dict(color=\"black\"),\n",
    "        margin=dict(l=30, r=30, b=30, t=30, pad=3),\n",
    "        showlegend=False\n",
    "    )"
   ]
  },
  {
   "cell_type": "code",
   "execution_count": null,
   "metadata": {},
   "outputs": [],
   "source": [
    "import plotly.io as pio\n",
    "\n",
    "pio.write_image(smartphones, \"smartphones.png\", scale = 2, width=1400, height=800) "
   ]
  },
  {
   "cell_type": "markdown",
   "metadata": {},
   "source": [
    "**TODO**:\n",
    "\n",
    "- `ruff` $\\Rightarrow$ linter, à utiliser plus dans le cadre du dvpt\n",
    "- `pytest` avec subprocess.run pour tester le code\n",
    "- `pytest-coverage`\n",
    "- `poetry` avec gestion des dépendances\n",
    "- `black` pour automatiquement indenter, etc.\n",
    "- `doctest` pour tester les exemples des docstrings\n",
    "- `bandit` pour gérer les vulnérabilités\n",
    "\n",
    "***\n",
    "\n",
    "- `yarl` pour travailler avec des URL"
   ]
  },
  {
   "cell_type": "markdown",
   "metadata": {},
   "source": [
    "## Le code ci-dessous lance le `scraper`\n",
    "\n",
    "- Tu peux changer le nombre d'*URL* de **19** à 1 ou 2 pour tester ça prendra beaucoup moins longtemps à générer\n",
    "- Lien [`Darty`](https://www.darty.com/nav/extra/list?seller=311289-0-327183-311290-311291-328771-311452&cat=89054&state=new_offer&persist_sold_by_darty=true) $\\Rightarrow$ en choisissant les produits uniquement vendus par Darty + Neufs on a 567 produits.\n",
    "- Avoir un comparatif Boulanger/Darty pourrait être intéressant\n",
    "- Voir pour récupérer les images des téléphones pour plus tard dans l'appli - voir : https://discuss.streamlit.io/t/add-image-and-header-to-streamlit-dataframe-table/36065/3"
   ]
  },
  {
   "cell_type": "code",
   "execution_count": null,
   "metadata": {},
   "outputs": [],
   "source": [
    "URL()"
   ]
  },
  {
   "cell_type": "code",
   "execution_count": null,
   "metadata": {},
   "outputs": [],
   "source": [
    "session = create_session()\n",
    "url_list = create_url_list(URL, 1)\n",
    "pages = read_pages(url_list=url_list, session=session)"
   ]
  },
  {
   "cell_type": "code",
   "execution_count": null,
   "metadata": {},
   "outputs": [],
   "source": [
    "all_urls = extract_all_urls(pages)\n",
    "print(\"--------------------\")\n",
    "product_pages = extract_all_pages(all_urls, session)"
   ]
  },
  {
   "cell_type": "markdown",
   "metadata": {},
   "source": [
    "Il faudrait créer une fonction pour la génération de la liste des smartphones + l'export en `json`"
   ]
  },
  {
   "cell_type": "code",
   "execution_count": null,
   "metadata": {},
   "outputs": [],
   "source": [
    "smartphone_list = list()\n",
    "for article in product_pages:\n",
    "    soup = BeautifulSoup(article, \"html.parser\")\n",
    "    dict_features = extract_features(soup)\n",
    "    smartphone = smartphone_characteristics(dict_features)\n",
    "    smartphone_list.append(smartphone)"
   ]
  },
  {
   "cell_type": "code",
   "execution_count": null,
   "metadata": {},
   "outputs": [],
   "source": [
    "smartphones_json = to_json(smartphone_list)"
   ]
  },
  {
   "cell_type": "code",
   "execution_count": null,
   "metadata": {},
   "outputs": [],
   "source": [
    "file_path = \"data/smartphones.json\"\n",
    "\n",
    "with open(file_path, \"w\", encoding=\"utf-8\") as json_file:\n",
    "    json_file.write(smartphones_json)"
   ]
  },
  {
   "cell_type": "markdown",
   "metadata": {},
   "source": [
    "## Charge le Dataframe dans `polars`"
   ]
  },
  {
   "cell_type": "code",
   "execution_count": 15,
   "metadata": {},
   "outputs": [],
   "source": [
    "import polars as pl\n",
    "import polars.selectors as cs\n",
    "from script.polars_gazprom import *\n",
    "from itertools import chain"
   ]
  },
  {
   "cell_type": "code",
   "execution_count": 16,
   "metadata": {},
   "outputs": [],
   "source": [
    "df_brut = pl.read_json(\"data/smartphones.json\")"
   ]
  },
  {
   "cell_type": "markdown",
   "metadata": {},
   "source": [
    "### Pipeline"
   ]
  },
  {
   "cell_type": "markdown",
   "metadata": {},
   "source": [
    "Sur `535` extractions, il y a `487` téléphones valides."
   ]
  },
  {
   "cell_type": "code",
   "execution_count": 17,
   "metadata": {},
   "outputs": [
    {
     "data": {
      "text/html": [
       "<div><style>\n",
       ".dataframe > thead > tr,\n",
       ".dataframe > tbody > tr {\n",
       "  text-align: right;\n",
       "  white-space: pre-wrap;\n",
       "}\n",
       "</style>\n",
       "<small>shape: (487, 40)</small><table border=\"1\" class=\"dataframe\"><thead><tr><th>width</th><th>screen_type</th><th>das_chest</th><th>upgrade_storage</th><th>ram</th><th>model</th><th>resolution_1</th><th>resolution_2</th><th>wifi</th><th>battery</th><th>das_limbs</th><th>price</th><th>made_in</th><th>cam_1</th><th>cam_2</th><th>cam_3</th><th>height</th><th>screen_size</th><th>cpu</th><th>screen_tech</th><th>color</th><th>das_head</th><th>network</th><th>sensor</th><th>net_weight</th><th>reviews</th><th>usb_type_c</th><th>brand</th><th>fast_charging</th><th>thickness</th><th>storage</th><th>stars</th><th>repairability_index</th><th>diagonal_pixels</th><th>resolution</th><th>logprice</th><th>induction</th><th>ppi</th><th>mpx_backward_cam</th><th>random_col</th></tr><tr><td>f64</td><td>str</td><td>f64</td><td>bool</td><td>i64</td><td>str</td><td>i64</td><td>i64</td><td>null</td><td>i64</td><td>f64</td><td>f64</td><td>str</td><td>f64</td><td>f64</td><td>f64</td><td>f64</td><td>f64</td><td>str</td><td>str</td><td>str</td><td>f64</td><td>str</td><td>str</td><td>f64</td><td>i64</td><td>bool</td><td>str</td><td>bool</td><td>f64</td><td>i64</td><td>f64</td><td>f64</td><td>f64</td><td>str</td><td>f64</td><td>bool</td><td>f64</td><td>f64</td><td>i64</td></tr></thead><tbody><tr><td>0.7</td><td>&quot;Plat&quot;</td><td>1.05</td><td>true</td><td>8</td><td>&quot;SONY Xperia 5 …</td><td>2520</td><td>1080</td><td>null</td><td>5000</td><td>2.11</td><td>999.0</td><td>&quot;Thaïlande&quot;</td><td>12.0</td><td>12.0</td><td>12.0</td><td>15.4</td><td>6.1</td><td>&quot;Qualcomm Snapd…</td><td>&quot;OLED FHD+&quot;</td><td>&quot;Argent&quot;</td><td>0.95</td><td>&quot;5G&quot;</td><td>&quot;3&quot;</td><td>182.0</td><td>0</td><td>true</td><td>&quot;SONY&quot;</td><td>true</td><td>0.9</td><td>128</td><td>0.0</td><td>8.5</td><td>2741.678318</td><td>&quot;2520 x 1080&quot;</td><td>6.906755</td><td>true</td><td>449.455462</td><td>36.0</td><td>255</td></tr><tr><td>70.6</td><td>&quot;Plat&quot;</td><td>0.96</td><td>false</td><td>8</td><td>&quot;iPhone 15 Pro&quot;</td><td>2556</td><td>1179</td><td>null</td><td>3650</td><td>2.99</td><td>1609.0</td><td>&quot;Chine&quot;</td><td>48.0</td><td>12.0</td><td>12.0</td><td>146.6</td><td>6.1</td><td>&quot;Puce A17 Pro&quot;</td><td>&quot;Super Retina X…</td><td>&quot;Bleu&quot;</td><td>0.98</td><td>&quot;5G&quot;</td><td>&quot;3&quot;</td><td>187.0</td><td>1</td><td>false</td><td>&quot;APPLE&quot;</td><td>true</td><td>8.2</td><td>512</td><td>5.0</td><td>7.6</td><td>2814.813848</td><td>&quot;2556 x 1179&quot;</td><td>7.383368</td><td>true</td><td>461.444893</td><td>72.0</td><td>184</td></tr><tr><td>87.0</td><td>&quot;Plat&quot;</td><td>1.59</td><td>false</td><td>8</td><td>&quot;Samsung Galaxy…</td><td>2340</td><td>1080</td><td>null</td><td>3700</td><td>2.71</td><td>857.59</td><td>&quot;Viêt Nam&quot;</td><td>50.0</td><td>12.0</td><td>10.0</td><td>146.0</td><td>6.1</td><td>&quot;Exynos 2200&quot;</td><td>&quot;Dynamic AMOLED…</td><td>&quot;Noir&quot;</td><td>1.21</td><td>&quot;5G&quot;</td><td>&quot;3&quot;</td><td>167.0</td><td>1</td><td>true</td><td>&quot;SAMSUNG&quot;</td><td>true</td><td>0.8</td><td>256</td><td>4.0</td><td>8.2</td><td>2577.207791</td><td>&quot;2340 x 1080&quot;</td><td>6.754126</td><td>true</td><td>422.493081</td><td>72.0</td><td>-799</td></tr><tr><td>74.7</td><td>&quot;Plat&quot;</td><td>1.32</td><td>true</td><td>4</td><td>&quot;Motorola G53&quot;</td><td>1600</td><td>720</td><td>null</td><td>5000</td><td>2.98</td><td>199.0</td><td>&quot;Chine&quot;</td><td>50.0</td><td>2.0</td><td>0.0</td><td>162.7</td><td>6.5</td><td>&quot;8 coeurs jusqu…</td><td>&quot;LCD&quot;</td><td>&quot;Bleu&quot;</td><td>0.98</td><td>&quot;5G&quot;</td><td>&quot;2&quot;</td><td>183.0</td><td>3</td><td>true</td><td>&quot;MOTOROLA&quot;</td><td>false</td><td>8.2</td><td>128</td><td>4.3333</td><td>7.1</td><td>1754.536976</td><td>&quot;1600 x 720&quot;</td><td>5.293305</td><td>false</td><td>269.928766</td><td>52.0</td><td>701</td></tr><tr><td>7.1</td><td>&quot;Plat&quot;</td><td>1.2</td><td>false</td><td>8</td><td>&quot;Google Pixel 8…</td><td>1080</td><td>2400</td><td>null</td><td>4500</td><td>2.49</td><td>799.0</td><td>&quot;Viêt Nam&quot;</td><td>50.0</td><td>12.0</td><td>10.0</td><td>15.1</td><td>6.2</td><td>&quot;Google Tensor …</td><td>&quot;Actua ou OLED …</td><td>&quot;Noir&quot;</td><td>0.98</td><td>&quot;5G&quot;</td><td>&quot;3&quot;</td><td>187.0</td><td>0</td><td>true</td><td>&quot;GOOGLE&quot;</td><td>true</td><td>0.9</td><td>128</td><td>0.0</td><td>8.2</td><td>2631.805464</td><td>&quot;1080 x 2400&quot;</td><td>6.683361</td><td>true</td><td>424.484752</td><td>72.0</td><td>668</td></tr><tr><td>77.8</td><td>&quot;Plat&quot;</td><td>0.98</td><td>false</td><td>6</td><td>&quot;iPhone 15 Plus…</td><td>2796</td><td>1290</td><td>null</td><td>4912</td><td>2.98</td><td>1499.0</td><td>&quot;Chine&quot;</td><td>48.0</td><td>12.0</td><td>0.0</td><td>160.9</td><td>6.7</td><td>&quot;Puce A16 Bioni…</td><td>&quot;OLED&quot;</td><td>&quot;Bleu&quot;</td><td>0.98</td><td>&quot;5G&quot;</td><td>&quot;2&quot;</td><td>201.0</td><td>0</td><td>true</td><td>&quot;APPLE&quot;</td><td>true</td><td>7.8</td><td>512</td><td>0.0</td><td>7.5</td><td>3079.239517</td><td>&quot;2796 x 1290&quot;</td><td>7.312553</td><td>true</td><td>459.587988</td><td>60.0</td><td>190</td></tr><tr><td>77.1</td><td>&quot;Plat&quot;</td><td>1.186</td><td>true</td><td>2</td><td>&quot;Xiaomi Redmi 9…</td><td>1600</td><td>720</td><td>null</td><td>5000</td><td>2.526</td><td>95.9</td><td>&quot;Chine&quot;</td><td>13.0</td><td>0.0</td><td>0.0</td><td>164.9</td><td>6.5</td><td>&quot;8 coeurs jusqu…</td><td>&quot;HD+&quot;</td><td>&quot;Gris&quot;</td><td>0.398</td><td>&quot;4G&quot;</td><td>&quot;1&quot;</td><td>194.0</td><td>2</td><td>true</td><td>&quot;XIAOMI&quot;</td><td>true</td><td>9.0</td><td>32</td><td>4.0</td><td>7.0</td><td>1754.536976</td><td>&quot;1600 x 720&quot;</td><td>4.563306</td><td>false</td><td>269.928766</td><td>13.0</td><td>289</td></tr><tr><td>73.9</td><td>&quot;Bords incurvés…</td><td>1.27</td><td>false</td><td>8</td><td>&quot;HONOR Magic5 L…</td><td>1080</td><td>2400</td><td>null</td><td>5100</td><td>2.81</td><td>299.0</td><td>&quot;Chine&quot;</td><td>64.0</td><td>5.0</td><td>2.0</td><td>161.6</td><td>6.7</td><td>&quot;Qualcomm Snapd…</td><td>&quot;AMOLED (rigide…</td><td>&quot;Noir&quot;</td><td>0.82</td><td>&quot;5G&quot;</td><td>&quot;3&quot;</td><td>175.0</td><td>15</td><td>true</td><td>&quot;HONOR&quot;</td><td>true</td><td>7.9</td><td>256</td><td>4.1333</td><td>8.0</td><td>2631.805464</td><td>&quot;1080 x 2400&quot;</td><td>5.700444</td><td>false</td><td>392.806786</td><td>71.0</td><td>399</td></tr><tr><td>75.9</td><td>&quot;Plat&quot;</td><td>1.4</td><td>false</td><td>12</td><td>&quot;Google Pixel 6…</td><td>3120</td><td>1440</td><td>null</td><td>5000</td><td>2.96</td><td>633.67</td><td>&quot;Chine&quot;</td><td>50.0</td><td>48.0</td><td>12.0</td><td>163.9</td><td>6.7</td><td>&quot;Google Tensor&quot;</td><td>&quot;Non communiqué…</td><td>&quot;Noir&quot;</td><td>0.99</td><td>&quot;5G&quot;</td><td>&quot;3&quot;</td><td>210.0</td><td>23</td><td>true</td><td>&quot;GOOGLE&quot;</td><td>true</td><td>8.9</td><td>128</td><td>4.087</td><td>6.4</td><td>3436.277055</td><td>&quot;3120 x 1440&quot;</td><td>6.451528</td><td>true</td><td>512.877172</td><td>110.0</td><td>-839</td></tr><tr><td>73.5</td><td>&quot;Borderless&quot;</td><td>1.18</td><td>true</td><td>6</td><td>&quot;Realme GT Mast…</td><td>1080</td><td>2400</td><td>null</td><td>4300</td><td>1.88</td><td>304.25</td><td>&quot;Chine&quot;</td><td>0.0</td><td>0.0</td><td>0.0</td><td>159.1</td><td>6.4</td><td>&quot;Non communiqué…</td><td>&quot;Non communiqué…</td><td>&quot;Noir&quot;</td><td>1.139</td><td>&quot;5G&quot;</td><td>null</td><td>174.0</td><td>0</td><td>true</td><td>&quot;REALME&quot;</td><td>true</td><td>8.0</td><td>128</td><td>0.0</td><td>6.2</td><td>2631.805464</td><td>&quot;1080 x 2400&quot;</td><td>5.71785</td><td>false</td><td>411.219604</td><td>0.0</td><td>-235</td></tr><tr><td>7.1</td><td>&quot;Plat&quot;</td><td>1.2</td><td>false</td><td>8</td><td>&quot;Google Pixel 8…</td><td>1080</td><td>2400</td><td>null</td><td>4500</td><td>2.49</td><td>859.0</td><td>&quot;Viêt Nam&quot;</td><td>50.0</td><td>12.0</td><td>10.0</td><td>15.1</td><td>6.2</td><td>&quot;Google Tensor …</td><td>&quot;Actua ou OLED …</td><td>&quot;Vert&quot;</td><td>0.98</td><td>&quot;5G&quot;</td><td>&quot;3&quot;</td><td>187.0</td><td>0</td><td>true</td><td>&quot;GOOGLE&quot;</td><td>true</td><td>0.9</td><td>256</td><td>0.0</td><td>8.2</td><td>2631.805464</td><td>&quot;1080 x 2400&quot;</td><td>6.755769</td><td>true</td><td>424.484752</td><td>72.0</td><td>-300</td></tr><tr><td>7.6</td><td>&quot;Plat&quot;</td><td>1.2</td><td>false</td><td>12</td><td>&quot;Google Pixel 8…</td><td>2772</td><td>1344</td><td>null</td><td>5000</td><td>2.5</td><td>1099.0</td><td>&quot;Viêt Nam&quot;</td><td>50.0</td><td>48.0</td><td>48.0</td><td>16.3</td><td>6.7</td><td>&quot;Google Tensor …</td><td>&quot;Super Actua ou…</td><td>&quot;Blanc&quot;</td><td>0.84</td><td>&quot;5G&quot;</td><td>null</td><td>213.0</td><td>0</td><td>true</td><td>&quot;GOOGLE&quot;</td><td>true</td><td>0.9</td><td>128</td><td>0.0</td><td>8.2</td><td>3080.636298</td><td>&quot;2772 x 1344&quot;</td><td>7.002156</td><td>true</td><td>459.796462</td><td>146.0</td><td>-300</td></tr><tr><td>&hellip;</td><td>&hellip;</td><td>&hellip;</td><td>&hellip;</td><td>&hellip;</td><td>&hellip;</td><td>&hellip;</td><td>&hellip;</td><td>&hellip;</td><td>&hellip;</td><td>&hellip;</td><td>&hellip;</td><td>&hellip;</td><td>&hellip;</td><td>&hellip;</td><td>&hellip;</td><td>&hellip;</td><td>&hellip;</td><td>&hellip;</td><td>&hellip;</td><td>&hellip;</td><td>&hellip;</td><td>&hellip;</td><td>&hellip;</td><td>&hellip;</td><td>&hellip;</td><td>&hellip;</td><td>&hellip;</td><td>&hellip;</td><td>&hellip;</td><td>&hellip;</td><td>&hellip;</td><td>&hellip;</td><td>&hellip;</td><td>&hellip;</td><td>&hellip;</td><td>&hellip;</td><td>&hellip;</td><td>&hellip;</td><td>&hellip;</td></tr><tr><td>75.5</td><td>&quot;Borderless&quot;</td><td>1.58</td><td>true</td><td>12</td><td>&quot;Samsung Galaxy…</td><td>1440</td><td>3200</td><td>null</td><td>5000</td><td>2.56</td><td>779.38</td><td>&quot;Chine&quot;</td><td>0.0</td><td>0.0</td><td>0.0</td><td>165.1</td><td>6.8</td><td>&quot;Non communiqué…</td><td>&quot;Non communiqué…</td><td>&quot;Noir&quot;</td><td>0.71</td><td>&quot;5G&quot;</td><td>null</td><td>227.0</td><td>0</td><td>true</td><td>&quot;SAMSUNG&quot;</td><td>true</td><td>8.9</td><td>128</td><td>0.0</td><td>8.1</td><td>3509.073952</td><td>&quot;1440 x 3200&quot;</td><td>6.658499</td><td>false</td><td>516.040287</td><td>0.0</td><td>555</td></tr><tr><td>71.5</td><td>&quot;Plat&quot;</td><td>0.99</td><td>false</td><td>4</td><td>&quot;iPhone 13&quot;</td><td>2532</td><td>1170</td><td>null</td><td>2815</td><td>3.8</td><td>749.0</td><td>&quot;Chine&quot;</td><td>12.0</td><td>12.0</td><td>0.0</td><td>146.7</td><td>6.1</td><td>&quot;Puce A15&quot;</td><td>&quot;Super Retina X…</td><td>&quot;Noir&quot;</td><td>0.99</td><td>&quot;5G&quot;</td><td>&quot;2&quot;</td><td>173.0</td><td>160</td><td>false</td><td>&quot;APPLE&quot;</td><td>true</td><td>7.4</td><td>128</td><td>4.6687</td><td>6.0</td><td>2789.251513</td><td>&quot;2532 x 1170&quot;</td><td>6.618739</td><td>true</td><td>457.254346</td><td>24.0</td><td>447</td></tr><tr><td>7.4</td><td>&quot;Plat&quot;</td><td>1.11</td><td>true</td><td>4</td><td>&quot;Motorola G14&quot;</td><td>1080</td><td>2400</td><td>null</td><td>5000</td><td>2.88</td><td>179.0</td><td>&quot;Chine&quot;</td><td>50.0</td><td>2.0</td><td>0.0</td><td>162.0</td><td>6.5</td><td>&quot;8 coeurs jusqu…</td><td>&quot;LCD (LTPS) FHD…</td><td>&quot;Bleu&quot;</td><td>0.71</td><td>&quot;4G&quot;</td><td>&quot;2&quot;</td><td>177.0</td><td>0</td><td>false</td><td>&quot;MOTOROLA&quot;</td><td>true</td><td>8.0</td><td>128</td><td>0.0</td><td>6.6</td><td>2631.805464</td><td>&quot;1080 x 2400&quot;</td><td>5.187386</td><td>false</td><td>404.893148</td><td>52.0</td><td>251</td></tr><tr><td>7.6</td><td>&quot;Plat&quot;</td><td>1.2</td><td>false</td><td>12</td><td>&quot;Google Pixel 8…</td><td>2772</td><td>1344</td><td>null</td><td>5000</td><td>2.5</td><td>1159.0</td><td>&quot;Viêt Nam&quot;</td><td>50.0</td><td>48.0</td><td>48.0</td><td>16.3</td><td>6.7</td><td>&quot;Google Tensor …</td><td>&quot;Super Actua ou…</td><td>&quot;Bleu&quot;</td><td>0.84</td><td>&quot;5G&quot;</td><td>null</td><td>213.0</td><td>0</td><td>true</td><td>&quot;GOOGLE&quot;</td><td>true</td><td>0.9</td><td>256</td><td>0.0</td><td>8.2</td><td>3080.636298</td><td>&quot;2772 x 1344&quot;</td><td>7.055313</td><td>true</td><td>459.796462</td><td>146.0</td><td>10</td></tr><tr><td>75.3</td><td>&quot;Plat&quot;</td><td>1.2</td><td>true</td><td>4</td><td>&quot;VIVO Y52&quot;</td><td>2400</td><td>1080</td><td>null</td><td>5000</td><td>3.0</td><td>269.0</td><td>&quot;Chine&quot;</td><td>48.0</td><td>2.0</td><td>2.0</td><td>164.0</td><td>6.6</td><td>&quot;8 coeurs jusqu…</td><td>&quot;IPS (LCD)&quot;</td><td>&quot;Noir&quot;</td><td>0.99</td><td>&quot;5G&quot;</td><td>&quot;3&quot;</td><td>193.0</td><td>5</td><td>true</td><td>&quot;VIVO&quot;</td><td>true</td><td>8.5</td><td>128</td><td>4.8</td><td>7.9</td><td>2631.805464</td><td>&quot;2400 x 1080&quot;</td><td>5.594711</td><td>false</td><td>398.758404</td><td>52.0</td><td>-912</td></tr><tr><td>73.2</td><td>&quot;Plat&quot;</td><td>1.4</td><td>false</td><td>8</td><td>&quot;Google Pixel 7…</td><td>1080</td><td>2400</td><td>null</td><td>4270</td><td>3.0</td><td>548.16</td><td>&quot;Viêt Nam&quot;</td><td>50.0</td><td>20.0</td><td>12.0</td><td>155.6</td><td>6.3</td><td>&quot;Google Tensor …</td><td>&quot;OLED FHD+&quot;</td><td>&quot;Vert&quot;</td><td>0.99</td><td>&quot;5G&quot;</td><td>&quot;3&quot;</td><td>197.0</td><td>56</td><td>true</td><td>&quot;GOOGLE&quot;</td><td>true</td><td>8.7</td><td>128</td><td>4.2679</td><td>7.2</td><td>2631.805464</td><td>&quot;1080 x 2400&quot;</td><td>6.306567</td><td>true</td><td>417.746899</td><td>82.0</td><td>971</td></tr><tr><td>71.6</td><td>&quot;Plat&quot;</td><td>0.96</td><td>false</td><td>6</td><td>&quot;iPhone 15&quot;</td><td>2556</td><td>1179</td><td>null</td><td>3877</td><td>2.98</td><td>1099.0</td><td>&quot;Chine&quot;</td><td>48.0</td><td>12.0</td><td>0.0</td><td>147.6</td><td>6.1</td><td>&quot;Puce A16 Bioni…</td><td>&quot;OLED&quot;</td><td>&quot;Rose&quot;</td><td>0.98</td><td>&quot;5G&quot;</td><td>&quot;2&quot;</td><td>171.0</td><td>0</td><td>true</td><td>&quot;APPLE&quot;</td><td>true</td><td>7.8</td><td>256</td><td>0.0</td><td>7.5</td><td>2814.813848</td><td>&quot;2556 x 1179&quot;</td><td>7.002156</td><td>true</td><td>461.444893</td><td>60.0</td><td>-24</td></tr><tr><td>76.4</td><td>&quot;Plat&quot;</td><td>1.39</td><td>true</td><td>4</td><td>&quot;Samsung Galaxy…</td><td>2408</td><td>1080</td><td>null</td><td>5000</td><td>2.8</td><td>212.4</td><td>&quot;Viêt Nam&quot;</td><td>50.0</td><td>5.0</td><td>2.0</td><td>165.1</td><td>6.6</td><td>&quot;8 coeurs jusqu…</td><td>&quot;TFT (LCD)&quot;</td><td>&quot;Noir&quot;</td><td>0.367</td><td>&quot;4G&quot;</td><td>&quot;4&quot;</td><td>195.0</td><td>111</td><td>true</td><td>&quot;SAMSUNG&quot;</td><td>true</td><td>8.8</td><td>64</td><td>4.4414</td><td>8.0</td><td>2639.102878</td><td>&quot;2408 x 1080&quot;</td><td>5.358471</td><td>false</td><td>399.864072</td><td>57.0</td><td>-629</td></tr><tr><td>75.7</td><td>&quot;Borderless&quot;</td><td>0.889</td><td>true</td><td>6</td><td>&quot;XIAOMI Mi 11 L…</td><td>1080</td><td>2400</td><td>null</td><td>4250</td><td>1.88</td><td>320.0</td><td>&quot;Chine&quot;</td><td>0.0</td><td>0.0</td><td>0.0</td><td>160.5</td><td>6.6</td><td>&quot;Non communiqué…</td><td>&quot;Non communiqué…</td><td>&quot;Noir&quot;</td><td>0.555</td><td>&quot;5G&quot;</td><td>null</td><td>159.0</td><td>0</td><td>true</td><td>&quot;XIAOMI&quot;</td><td>true</td><td>6.8</td><td>128</td><td>0.0</td><td>7.3</td><td>2631.805464</td><td>&quot;1080 x 2400&quot;</td><td>5.768321</td><td>false</td><td>398.758404</td><td>0.0</td><td>-861</td></tr><tr><td>76.7</td><td>&quot;Plat&quot;</td><td>0.98</td><td>false</td><td>8</td><td>&quot;iPhone 15 Pro …</td><td>2796</td><td>1290</td><td>null</td><td>4852</td><td>2.98</td><td>1979.0</td><td>&quot;Chine&quot;</td><td>48.0</td><td>12.0</td><td>12.0</td><td>159.9</td><td>6.7</td><td>&quot;Puce A17 Pro&quot;</td><td>&quot;Super Retina X…</td><td>&quot;Gris&quot;</td><td>0.98</td><td>&quot;5G&quot;</td><td>&quot;3&quot;</td><td>221.0</td><td>1</td><td>false</td><td>&quot;APPLE&quot;</td><td>true</td><td>8.2</td><td>1000</td><td>5.0</td><td>7.7</td><td>3079.239517</td><td>&quot;2796 x 1290&quot;</td><td>7.590347</td><td>true</td><td>459.587988</td><td>72.0</td><td>-595</td></tr><tr><td>76.5</td><td>&quot;Plat&quot;</td><td>1.49</td><td>true</td><td>4</td><td>&quot;Motorola Moto …</td><td>1080</td><td>2400</td><td>null</td><td>5000</td><td>3.19</td><td>249.0</td><td>&quot;Chine&quot;</td><td>50.0</td><td>8.0</td><td>2.0</td><td>170.5</td><td>6.8</td><td>&quot;8 coeurs jusqu…</td><td>&quot;FHD+&quot;</td><td>&quot;Bleu&quot;</td><td>1.49</td><td>&quot;5G&quot;</td><td>&quot;4&quot;</td><td>208.0</td><td>1</td><td>true</td><td>&quot;MOTOROLA&quot;</td><td>true</td><td>9.1</td><td>64</td><td>1.0</td><td>7.4</td><td>2631.805464</td><td>&quot;1080 x 2400&quot;</td><td>5.517453</td><td>false</td><td>387.030215</td><td>60.0</td><td>-165</td></tr><tr><td>71.6</td><td>&quot;Plat&quot;</td><td>0.98</td><td>false</td><td>6</td><td>&quot;iPhone 15&quot;</td><td>2556</td><td>1179</td><td>null</td><td>3877</td><td>2.98</td><td>1349.0</td><td>&quot;Chine&quot;</td><td>48.0</td><td>12.0</td><td>0.0</td><td>147.6</td><td>6.1</td><td>&quot;Puce A16 Bioni…</td><td>&quot;OLED&quot;</td><td>&quot;Rose&quot;</td><td>0.98</td><td>&quot;5G&quot;</td><td>&quot;2&quot;</td><td>171.0</td><td>0</td><td>true</td><td>&quot;APPLE&quot;</td><td>true</td><td>7.8</td><td>512</td><td>0.0</td><td>7.5</td><td>2814.813848</td><td>&quot;2556 x 1179&quot;</td><td>7.207119</td><td>false</td><td>461.444893</td><td>60.0</td><td>143</td></tr></tbody></table></div>"
      ],
      "text/plain": [
       "shape: (487, 40)\n",
       "┌───────┬────────────┬───────────┬────────────┬───┬───────────┬────────────┬───────────┬───────────┐\n",
       "│ width ┆ screen_typ ┆ das_chest ┆ upgrade_st ┆ … ┆ induction ┆ ppi        ┆ mpx_backw ┆ random_co │\n",
       "│ ---   ┆ e          ┆ ---       ┆ orage      ┆   ┆ ---       ┆ ---        ┆ ard_cam   ┆ l         │\n",
       "│ f64   ┆ ---        ┆ f64       ┆ ---        ┆   ┆ bool      ┆ f64        ┆ ---       ┆ ---       │\n",
       "│       ┆ str        ┆           ┆ bool       ┆   ┆           ┆            ┆ f64       ┆ i64       │\n",
       "╞═══════╪════════════╪═══════════╪════════════╪═══╪═══════════╪════════════╪═══════════╪═══════════╡\n",
       "│ 0.7   ┆ Plat       ┆ 1.05      ┆ true       ┆ … ┆ true      ┆ 449.455462 ┆ 36.0      ┆ 255       │\n",
       "│ 70.6  ┆ Plat       ┆ 0.96      ┆ false      ┆ … ┆ true      ┆ 461.444893 ┆ 72.0      ┆ 184       │\n",
       "│ 87.0  ┆ Plat       ┆ 1.59      ┆ false      ┆ … ┆ true      ┆ 422.493081 ┆ 72.0      ┆ -799      │\n",
       "│ 74.7  ┆ Plat       ┆ 1.32      ┆ true       ┆ … ┆ false     ┆ 269.928766 ┆ 52.0      ┆ 701       │\n",
       "│ 7.1   ┆ Plat       ┆ 1.2       ┆ false      ┆ … ┆ true      ┆ 424.484752 ┆ 72.0      ┆ 668       │\n",
       "│ …     ┆ …          ┆ …         ┆ …          ┆ … ┆ …         ┆ …          ┆ …         ┆ …         │\n",
       "│ 76.4  ┆ Plat       ┆ 1.39      ┆ true       ┆ … ┆ false     ┆ 399.864072 ┆ 57.0      ┆ -629      │\n",
       "│ 75.7  ┆ Borderless ┆ 0.889     ┆ true       ┆ … ┆ false     ┆ 398.758404 ┆ 0.0       ┆ -861      │\n",
       "│ 76.7  ┆ Plat       ┆ 0.98      ┆ false      ┆ … ┆ true      ┆ 459.587988 ┆ 72.0      ┆ -595      │\n",
       "│ 76.5  ┆ Plat       ┆ 1.49      ┆ true       ┆ … ┆ false     ┆ 387.030215 ┆ 60.0      ┆ -165      │\n",
       "│ 71.6  ┆ Plat       ┆ 0.98      ┆ false      ┆ … ┆ false     ┆ 461.444893 ┆ 60.0      ┆ 143       │\n",
       "└───────┴────────────┴───────────┴────────────┴───┴───────────┴────────────┴───────────┴───────────┘"
      ]
     },
     "execution_count": 17,
     "metadata": {},
     "output_type": "execute_result"
    }
   ],
   "source": [
    "df = NordStream(df_brut)\n",
    "df"
   ]
  },
  {
   "cell_type": "code",
   "execution_count": 18,
   "metadata": {},
   "outputs": [
    {
     "data": {
      "text/plain": [
       "37"
      ]
     },
     "execution_count": 18,
     "metadata": {},
     "output_type": "execute_result"
    }
   ],
   "source": [
    "len(df.columns) - 3"
   ]
  },
  {
   "cell_type": "markdown",
   "metadata": {},
   "source": [
    "df = df.with_columns(\n",
    "    pl.concat_str([df['resolution_1'], pl.lit(' x '), df['resolution_2']]).alias('Resolution')\n",
    ")"
   ]
  },
  {
   "cell_type": "code",
   "execution_count": null,
   "metadata": {},
   "outputs": [],
   "source": [
    "from pathlib import Path\n",
    "\n",
    "root = Path(\".\").resolve()\n",
    "data_folder = root / \"data\"\n",
    "path_file = data_folder / \"df_clean.csv\""
   ]
  },
  {
   "cell_type": "code",
   "execution_count": null,
   "metadata": {},
   "outputs": [],
   "source": [
    "df.write_csv(path_file, separator=\";\")"
   ]
  },
  {
   "cell_type": "code",
   "execution_count": null,
   "metadata": {},
   "outputs": [],
   "source": [
    "import plotly.express as px\n",
    "from plotly.subplots import make_subplots"
   ]
  },
  {
   "cell_type": "code",
   "execution_count": null,
   "metadata": {},
   "outputs": [],
   "source": [
    "median = df.select(pl.col(\"price\").median()).item()\n",
    "mean = df.select(pl.col(\"price\").mean()).item()\n",
    "std = df.select(pl.col(\"price\").std()).item()\n",
    "pearson_skewness_coeff = (3*(mean-median))/ std"
   ]
  },
  {
   "cell_type": "code",
   "execution_count": null,
   "metadata": {},
   "outputs": [],
   "source": [
    "pearson_skewness_coeff"
   ]
  },
  {
   "cell_type": "markdown",
   "metadata": {},
   "source": [
    "Le résultat indique que l'asymétrie de la distribution est positive => indique une distribution décalée à gauche de la médiane"
   ]
  },
  {
   "cell_type": "code",
   "execution_count": null,
   "metadata": {},
   "outputs": [],
   "source": [
    "df.select(cs.by_dtype(pl.NUMERIC_DTYPES)).corr()\n",
    "\n",
    "# Matrice de corrélation"
   ]
  },
  {
   "cell_type": "code",
   "execution_count": null,
   "metadata": {},
   "outputs": [],
   "source": [
    "import statsmodels.formula.api as smf\n",
    "import statsmodels.formula as sm\n",
    "from stargazer.stargazer import Stargazer\n",
    "import numpy as np\n",
    "from dataclasses import dataclass\n",
    "from script.hedonic_regression import *"
   ]
  },
  {
   "cell_type": "code",
   "execution_count": null,
   "metadata": {},
   "outputs": [],
   "source": [
    "y_1 = \"price\"\n",
    "y_2 = \"logprice\"\n",
    "X = [\n",
    "    \"screen_type\",\n",
    "    \"das_limbs\",\n",
    "    \"das_head\",\n",
    "    \"upgrade_storage\",\n",
    "    \"screen_size\",\n",
    "    \"fast_charging\",\n",
    "    \"repairability_index\",\n",
    "    \"made_in\",\n",
    "    \"ram\",\n",
    "    \"storage\",\n",
    "    \"brand\",\n",
    "    \"induction\",\n",
    "]"
   ]
  },
  {
   "cell_type": "code",
   "execution_count": null,
   "metadata": {},
   "outputs": [],
   "source": [
    "f_1 = formula(y_1, X)\n",
    "f_2 = formula(y_2, X)\n",
    "res_1 = execute_ols(df, f_1)\n",
    "res_2 = execute_ols(df, f_2)"
   ]
  },
  {
   "cell_type": "markdown",
   "metadata": {},
   "source": [
    "On ajoute le prix prédit par la régression à notre dataframe"
   ]
  },
  {
   "cell_type": "code",
   "execution_count": null,
   "metadata": {},
   "outputs": [],
   "source": [
    "df = df.with_columns(pl.from_numpy(res_1.predict(), schema=[\"predicted_price\"]))"
   ]
  },
  {
   "cell_type": "code",
   "execution_count": null,
   "metadata": {},
   "outputs": [],
   "source": [
    "Stargazer([res_1, res_2])"
   ]
  },
  {
   "cell_type": "code",
   "execution_count": null,
   "metadata": {},
   "outputs": [],
   "source": [
    "sfa_file = data_folder / \"sfa_results.csv\""
   ]
  },
  {
   "cell_type": "code",
   "execution_count": null,
   "metadata": {},
   "outputs": [],
   "source": [
    "sfa_df = pl.read_csv(sfa_file, ignore_errors=True)"
   ]
  },
  {
   "cell_type": "code",
   "execution_count": null,
   "metadata": {},
   "outputs": [],
   "source": [
    "sfa_df.select(\"model\", \"price\", \"predicted_price\", \"efficiency\").sort(\"efficiency\")"
   ]
  },
  {
   "cell_type": "code",
   "execution_count": null,
   "metadata": {},
   "outputs": [],
   "source": [
    "# res2 = res.get_robustcov_results(cov_type='HC1')\n",
    "# robuste std errors"
   ]
  },
  {
   "cell_type": "code",
   "execution_count": null,
   "metadata": {},
   "outputs": [],
   "source": [
    "import polars as pl"
   ]
  },
  {
   "cell_type": "code",
   "execution_count": null,
   "metadata": {},
   "outputs": [],
   "source": [
    "df = pl.read_json(\"data/smartphones.json\")"
   ]
  }
 ],
 "metadata": {
  "kernelspec": {
   "display_name": "Python 3",
   "language": "python",
   "name": "python3"
  },
  "language_info": {
   "codemirror_mode": {
    "name": "ipython",
    "version": 3
   },
   "file_extension": ".py",
   "mimetype": "text/x-python",
   "name": "python",
   "nbconvert_exporter": "python",
   "pygments_lexer": "ipython3",
   "version": "3.11.1"
  }
 },
 "nbformat": 4,
 "nbformat_minor": 2
}
