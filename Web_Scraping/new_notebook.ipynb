{
 "cells": [
  {
   "cell_type": "code",
   "execution_count": 2,
   "metadata": {},
   "outputs": [],
   "source": [
    "from script.scraper_functions import *\n",
    "from script.soupifier import *\n",
    "from serde.json import to_json"
   ]
  },
  {
   "cell_type": "markdown",
   "metadata": {},
   "source": [
    "**TODO**:\n",
    "\n",
    "- `ruff` $\\Rightarrow$ linter, à utiliser plus dans le cadre du dvpt\n",
    "- `pytest` avec subprocess.run pour tester le code\n",
    "- `pytest-coverage`\n",
    "- `poetry` avec gestion des dépendances\n",
    "- `black` pour automatiquement indenter, etc.\n",
    "- `doctest` pour tester les exemples des docstrings\n",
    "- `bandit` pour gérer les vulnérabilités\n",
    "\n",
    "***\n",
    "\n",
    "- `yarl` pour travailler avec des URL"
   ]
  },
  {
   "cell_type": "markdown",
   "metadata": {},
   "source": [
    "## Le code ci-dessous lance le `scraper`\n",
    "\n",
    "- Tu peux changer le nombre d'*URL* de **19** à 1 ou 2 pour tester ça prendra beaucoup moins longtemps à générer\n",
    "- Lien [`Darty`](https://www.darty.com/nav/extra/list?seller=311289-0-327183-311290-311291-328771-311452&cat=89054&state=new_offer&persist_sold_by_darty=true) $\\Rightarrow$ en choisissant les produits uniquement vendus par Darty + Neufs on a 567 produits.\n",
    "- Avoir un comparatif Boulanger/Darty pourrait être intéressant\n",
    "- Voir pour récupérer les images des téléphones pour plus tard dans l'appli - voir : https://discuss.streamlit.io/t/add-image-and-header-to-streamlit-dataframe-table/36065/3"
   ]
  },
  {
   "cell_type": "code",
   "execution_count": 4,
   "metadata": {},
   "outputs": [],
   "source": [
    "URL = \"https://boulanger.com/c/nav-filtre/smartphone-telephone-portable?_etat_produit~neuf\""
   ]
  },
  {
   "cell_type": "code",
   "execution_count": 5,
   "metadata": {},
   "outputs": [
    {
     "name": "stdout",
     "output_type": "stream",
     "text": [
      "Page 1 -> Successfull Extraction.\n",
      "Page 2 -> Successfull Extraction.\n",
      "Page 3 -> Successfull Extraction.\n",
      "Page 4 -> Successfull Extraction.\n",
      "Page 5 -> Successfull Extraction.\n",
      "Page 6 -> Successfull Extraction.\n",
      "Page 7 -> Successfull Extraction.\n",
      "Page 8 -> Successfull Extraction.\n",
      "Page 9 -> Successfull Extraction.\n",
      "Page 10 -> Successfull Extraction.\n"
     ]
    },
    {
     "data": {
      "text/html": [
       "<pre style=\"white-space:pre;overflow-x:auto;line-height:normal;font-family:Menlo,'DejaVu Sans Mono',consolas,'Courier New',monospace\"><span style=\"font-style: italic\">Elapsed time</span> for <span style=\"color: #800000; text-decoration-color: #800000; font-weight: bold\">read_pages</span> function: <span style=\"color: #008080; text-decoration-color: #008080; font-weight: bold\">39.687</span> seconds.\n",
       "</pre>\n"
      ],
      "text/plain": [
       "\u001b[3mElapsed time\u001b[0m for \u001b[1;31mread_pages\u001b[0m function: \u001b[1;36m39.687\u001b[0m seconds.\n"
      ]
     },
     "metadata": {},
     "output_type": "display_data"
    }
   ],
   "source": [
    "session = create_session()\n",
    "url_list = create_url_list(URL, 11) #11\n",
    "pages = read_pages(url_list=url_list, session=session)"
   ]
  },
  {
   "cell_type": "code",
   "execution_count": null,
   "metadata": {},
   "outputs": [],
   "source": [
    "all_urls = extract_all_urls(pages)\n",
    "print(\"--------------------\")\n",
    "product_pages = extract_all_pages(all_urls, session)"
   ]
  },
  {
   "cell_type": "code",
   "execution_count": null,
   "metadata": {},
   "outputs": [],
   "source": [
    "all_urls"
   ]
  },
  {
   "cell_type": "markdown",
   "metadata": {},
   "source": [
    "Il faudrait créer une fonction pour la génération de la liste des smartphones + l'export en `json`"
   ]
  },
  {
   "cell_type": "code",
   "execution_count": 8,
   "metadata": {},
   "outputs": [],
   "source": [
    "smartphone_list = list()\n",
    "for article in product_pages:\n",
    "    soup = BeautifulSoup(article, \"html.parser\")\n",
    "    dict_features = extract_features(soup)\n",
    "    smartphone = smartphone_characteristics(dict_features)\n",
    "    smartphone_list.append(smartphone)"
   ]
  },
  {
   "cell_type": "code",
   "execution_count": 9,
   "metadata": {},
   "outputs": [],
   "source": [
    "smartphones_json = to_json(smartphone_list)"
   ]
  },
  {
   "cell_type": "code",
   "execution_count": 10,
   "metadata": {},
   "outputs": [],
   "source": [
    "file_path = \"data/smartphones_2.json\"\n",
    "\n",
    "with open(file_path, \"w\", encoding=\"utf-8\") as json_file:\n",
    "    json_file.write(smartphones_json)"
   ]
  },
  {
   "cell_type": "markdown",
   "metadata": {},
   "source": [
    "## Charge le Dataframe dans `polars`"
   ]
  },
  {
   "cell_type": "code",
   "execution_count": 1,
   "metadata": {},
   "outputs": [],
   "source": [
    "import polars as pl\n",
    "import polars.selectors as cs\n",
    "from script.polars_gazprom import *\n",
    "from itertools import chain"
   ]
  },
  {
   "cell_type": "code",
   "execution_count": 2,
   "metadata": {},
   "outputs": [],
   "source": [
    "df_brut = pl.read_json(\"data/smartphones_2.json\")"
   ]
  },
  {
   "cell_type": "markdown",
   "metadata": {},
   "source": [
    "### Pipeline"
   ]
  },
  {
   "cell_type": "markdown",
   "metadata": {},
   "source": [
    "Sur `535` extractions, il y a `487` téléphones valides."
   ]
  },
  {
   "cell_type": "code",
   "execution_count": 3,
   "metadata": {},
   "outputs": [],
   "source": [
    "df = NordStream(df_brut)"
   ]
  },
  {
   "cell_type": "code",
   "execution_count": 5,
   "metadata": {},
   "outputs": [],
   "source": [
    "from pathlib import Path\n",
    "\n",
    "root = Path(\".\").resolve()\n",
    "data_folder = root / \"data\"\n",
    "path_file = data_folder / \"df_clean_2.csv\""
   ]
  },
  {
   "cell_type": "code",
   "execution_count": 3,
   "metadata": {},
   "outputs": [
    {
     "ename": "NameError",
     "evalue": "name 'df' is not defined",
     "output_type": "error",
     "traceback": [
      "\u001b[1;31m---------------------------------------------------------------------------\u001b[0m",
      "\u001b[1;31mNameError\u001b[0m                                 Traceback (most recent call last)",
      "Cell \u001b[1;32mIn [3], line 1\u001b[0m\n\u001b[1;32m----> 1\u001b[0m \u001b[43mdf\u001b[49m\u001b[38;5;241m.\u001b[39mwrite_csv(path_file, separator\u001b[38;5;241m=\u001b[39m\u001b[38;5;124m\"\u001b[39m\u001b[38;5;124m;\u001b[39m\u001b[38;5;124m\"\u001b[39m)\n\u001b[0;32m      2\u001b[0m \u001b[38;5;28;01mimport\u001b[39;00m \u001b[38;5;21;01mpolars\u001b[39;00m \u001b[38;5;28;01mas\u001b[39;00m \u001b[38;5;21;01mpl\u001b[39;00m\n",
      "\u001b[1;31mNameError\u001b[0m: name 'df' is not defined"
     ]
    }
   ],
   "source": [
    "df.write_csv(path_file, separator=\";\")"
   ]
  },
  {
   "cell_type": "code",
   "execution_count": 5,
   "metadata": {},
   "outputs": [],
   "source": [
    "import polars as pl"
   ]
  },
  {
   "cell_type": "code",
   "execution_count": 6,
   "metadata": {},
   "outputs": [],
   "source": [
    "df = pl.read_parquet(\"data/sfa_results_app.parquet\")"
   ]
  },
  {
   "cell_type": "code",
   "execution_count": 42,
   "metadata": {},
   "outputs": [
    {
     "data": {
      "text/plain": [
       "['brand',\n",
       " 'screen_size',\n",
       " 'made_in',\n",
       " 'storage',\n",
       " 'ram',\n",
       " 'thickness',\n",
       " 'screen_type',\n",
       " 'reviews',\n",
       " 'image',\n",
       " 'cpu',\n",
       " 'network',\n",
       " 'model',\n",
       " 'cam_1',\n",
       " 'cam_2',\n",
       " 'cam_3',\n",
       " 'width',\n",
       " 'usb_type_c',\n",
       " 'das_chest',\n",
       " 'height',\n",
       " 'repairability_index',\n",
       " 'battery',\n",
       " 'net_weight',\n",
       " 'sensor',\n",
       " 'price',\n",
       " 'stars',\n",
       " 'resolution_1',\n",
       " 'resolution_2',\n",
       " 'scraping_time',\n",
       " 'das_head',\n",
       " 'upgrade_storage',\n",
       " 'das_limbs',\n",
       " 'fast_charging',\n",
       " 'screen_tech',\n",
       " 'color',\n",
       " 'diagonal_pixels',\n",
       " 'logprice',\n",
       " 'induction',\n",
       " 'ppi',\n",
       " 'flag',\n",
       " 'resolution',\n",
       " 'mpx_backward_cam',\n",
       " 'random_col',\n",
       " 'efficiency',\n",
       " 'prediction_sfa',\n",
       " 'prediction_loghedonic']"
      ]
     },
     "execution_count": 42,
     "metadata": {},
     "output_type": "execute_result"
    }
   ],
   "source": [
    "df.columns"
   ]
  },
  {
   "cell_type": "code",
   "execution_count": 30,
   "metadata": {},
   "outputs": [],
   "source": [
    "ctx = pl.SQLContext()"
   ]
  },
  {
   "cell_type": "code",
   "execution_count": 41,
   "metadata": {},
   "outputs": [
    {
     "data": {
      "text/plain": [
       "4.0"
      ]
     },
     "execution_count": 41,
     "metadata": {},
     "output_type": "execute_result"
    }
   ],
   "source": [
    "ctx.register(\"df\", df).execute(\n",
    "    \"SELECT ram FROM df WHERE model = 'iPhone 14 Plus' AND color = 'Jaune' \"\n",
    "    ).collect().item()"
   ]
  },
  {
   "cell_type": "code",
   "execution_count": 31,
   "metadata": {},
   "outputs": [
    {
     "data": {
      "text/plain": [
       "85"
      ]
     },
     "execution_count": 31,
     "metadata": {},
     "output_type": "execute_result"
    }
   ],
   "source": [
    "df.filter(pl.col(\"efficiency\") < 0.8).select(pl.col(\"model\").count()).item()"
   ]
  },
  {
   "cell_type": "code",
   "execution_count": 67,
   "metadata": {},
   "outputs": [
    {
     "data": {
      "text/html": [
       "<div><style>\n",
       ".dataframe > thead > tr > th,\n",
       ".dataframe > tbody > tr > td {\n",
       "  text-align: right;\n",
       "  white-space: pre-wrap;\n",
       "}\n",
       "</style>\n",
       "<small>shape: (432, 46)</small><table border=\"1\" class=\"dataframe\"><thead><tr><th>brand</th><th>screen_size</th><th>made_in</th><th>storage</th><th>ram</th><th>thickness</th><th>screen_type</th><th>reviews</th><th>image</th><th>cpu</th><th>network</th><th>model</th><th>cam_1</th><th>cam_2</th><th>cam_3</th><th>width</th><th>usb_type_c</th><th>das_chest</th><th>height</th><th>repairability_index</th><th>battery</th><th>net_weight</th><th>sensor</th><th>price</th><th>stars</th><th>resolution_1</th><th>resolution_2</th><th>scraping_time</th><th>das_head</th><th>upgrade_storage</th><th>das_limbs</th><th>fast_charging</th><th>screen_tech</th><th>color</th><th>diagonal_pixels</th><th>logprice</th><th>induction</th><th>ppi</th><th>flag</th><th>resolution</th><th>mpx_backward_cam</th><th>random_col</th><th>efficiency</th><th>prediction_sfa</th><th>prediction_loghedonic</th><th>ram_fmt</th></tr><tr><td>str</td><td>f64</td><td>str</td><td>f64</td><td>f64</td><td>f64</td><td>str</td><td>f64</td><td>str</td><td>str</td><td>str</td><td>str</td><td>f64</td><td>f64</td><td>f64</td><td>f64</td><td>bool</td><td>f64</td><td>f64</td><td>f64</td><td>f64</td><td>f64</td><td>f64</td><td>f64</td><td>f64</td><td>f64</td><td>f64</td><td>datetime[μs, UTC]</td><td>f64</td><td>bool</td><td>f64</td><td>bool</td><td>str</td><td>str</td><td>f64</td><td>f64</td><td>bool</td><td>f64</td><td>str</td><td>str</td><td>f64</td><td>f64</td><td>f64</td><td>f64</td><td>f64</td><td>str</td></tr></thead><tbody><tr><td>&quot;XIAOMI&quot;</td><td>5.5</td><td>&quot;Chine&quot;</td><td>32.0</td><td>2.0</td><td>9.1</td><td>&quot;Borderless&quot;</td><td>0.0</td><td>&quot;https://boulan…</td><td>&quot;Non communiqué…</td><td>&quot;4G&quot;</td><td>&quot;Xiaomi Redmi A…</td><td>0.0</td><td>0.0</td><td>0.0</td><td>76.8</td><td>false</td><td>0.86</td><td>164.9</td><td>7.4</td><td>5000.0</td><td>192.0</td><td>null</td><td>98.93</td><td>0.0</td><td>720.0</td><td>1600.0</td><td>2024-02-16 14:08:05.590273 UTC</td><td>0.86</td><td>true</td><td>0.86</td><td>true</td><td>&quot;Non communiqué…</td><td>&quot;Noir&quot;</td><td>1754.536976</td><td>4.594413</td><td>false</td><td>319.006723</td><td>&quot;🇨🇳&quot;</td><td>&quot;720 x 1600&quot;</td><td>0.0</td><td>653.0</td><td>0.895835</td><td>98.708884</td><td>114.710057</td><td>&quot;2 Go&quot;</td></tr><tr><td>&quot;XIAOMI&quot;</td><td>6.5</td><td>&quot;Chine&quot;</td><td>32.0</td><td>2.0</td><td>9.0</td><td>&quot;Plat&quot;</td><td>1.0</td><td>&quot;https://boulan…</td><td>&quot;8 coeurs jusqu…</td><td>&quot;4G&quot;</td><td>&quot;Xiaomi Redmi 9…</td><td>13.0</td><td>0.0</td><td>0.0</td><td>77.1</td><td>true</td><td>1.186</td><td>164.9</td><td>7.1</td><td>5000.0</td><td>194.0</td><td>1.0</td><td>84.9</td><td>3.0</td><td>1600.0</td><td>720.0</td><td>2024-02-16 14:08:07.003619 UTC</td><td>0.398</td><td>true</td><td>2.526</td><td>true</td><td>&quot;HD+&quot;</td><td>&quot;Bleu&quot;</td><td>1754.536976</td><td>4.441474</td><td>false</td><td>269.928766</td><td>&quot;🇨🇳&quot;</td><td>&quot;1600 x 720&quot;</td><td>13.0</td><td>274.0</td><td>0.903579</td><td>88.37793</td><td>105.834864</td><td>&quot;2 Go&quot;</td></tr><tr><td>&quot;XIAOMI&quot;</td><td>6.5</td><td>&quot;Chine&quot;</td><td>32.0</td><td>2.0</td><td>9.0</td><td>&quot;Plat&quot;</td><td>2.0</td><td>&quot;https://boulan…</td><td>&quot;8 coeurs jusqu…</td><td>&quot;4G&quot;</td><td>&quot;Xiaomi Redmi 9…</td><td>13.0</td><td>0.0</td><td>0.0</td><td>77.1</td><td>true</td><td>1.186</td><td>164.9</td><td>7.0</td><td>5000.0</td><td>194.0</td><td>1.0</td><td>84.6</td><td>4.0</td><td>1600.0</td><td>720.0</td><td>2024-02-16 14:08:12.525788 UTC</td><td>0.398</td><td>true</td><td>2.526</td><td>true</td><td>&quot;HD+&quot;</td><td>&quot;Gris&quot;</td><td>1754.536976</td><td>4.437934</td><td>false</td><td>269.928766</td><td>&quot;🇨🇳&quot;</td><td>&quot;1600 x 720&quot;</td><td>13.0</td><td>466.0</td><td>0.904191</td><td>88.37793</td><td>105.834864</td><td>&quot;2 Go&quot;</td></tr><tr><td>&quot;MOTOROLA&quot;</td><td>6.5</td><td>&quot;Chine&quot;</td><td>64.0</td><td>2.0</td><td>8.5</td><td>&quot;Plat&quot;</td><td>14.0</td><td>&quot;https://boulan…</td><td>&quot;8 coeurs jusqu…</td><td>&quot;4G&quot;</td><td>&quot;Motorola E13&quot;</td><td>13.0</td><td>0.0</td><td>0.0</td><td>75.0</td><td>true</td><td>1.73</td><td>164.2</td><td>8.0</td><td>5000.0</td><td>180.0</td><td>1.0</td><td>79.0</td><td>4.2143</td><td>1600.0</td><td>720.0</td><td>2024-02-16 14:08:20.981813 UTC</td><td>0.84</td><td>true</td><td>3.46</td><td>false</td><td>&quot;IPS (LCD)&quot;</td><td>&quot;Noir&quot;</td><td>1754.536976</td><td>4.369448</td><td>false</td><td>269.928766</td><td>&quot;🇨🇳&quot;</td><td>&quot;1600 x 720&quot;</td><td>13.0</td><td>163.0</td><td>0.920112</td><td>91.658354</td><td>111.814457</td><td>&quot;2 Go&quot;</td></tr><tr><td>&quot;XIAOMI&quot;</td><td>6.5</td><td>&quot;Chine&quot;</td><td>32.0</td><td>2.0</td><td>164.9</td><td>&quot;Plat&quot;</td><td>4.0</td><td>&quot;https://boulan…</td><td>&quot;8 coeurs jusqu…</td><td>&quot;4G&quot;</td><td>&quot;Xiaomi Redmi A…</td><td>8.0</td><td>8.0</td><td>0.0</td><td>76.8</td><td>false</td><td>0.997</td><td>9.1</td><td>7.5</td><td>5000.0</td><td>192.0</td><td>2.0</td><td>99.0</td><td>4.75</td><td>1600.0</td><td>720.0</td><td>2024-02-16 14:08:23.579617 UTC</td><td>0.897</td><td>true</td><td>2.541</td><td>true</td><td>&quot;HD+&quot;</td><td>&quot;Noir&quot;</td><td>1754.536976</td><td>4.59512</td><td>false</td><td>269.928766</td><td>&quot;🇨🇳&quot;</td><td>&quot;1600 x 720&quot;</td><td>16.0</td><td>-700.0</td><td>0.864559</td><td>86.029682</td><td>103.05636</td><td>&quot;2 Go&quot;</td></tr><tr><td>&quot;XIAOMI&quot;</td><td>6.5</td><td>&quot;Chine&quot;</td><td>32.0</td><td>2.0</td><td>9.0</td><td>&quot;Borderless&quot;</td><td>0.0</td><td>&quot;https://boulan…</td><td>&quot;Non communiqué…</td><td>&quot;4G&quot;</td><td>&quot;Xiaomi Redmi 9…</td><td>0.0</td><td>0.0</td><td>0.0</td><td>77.0</td><td>false</td><td>1.03</td><td>164.9</td><td>7.0</td><td>5000.0</td><td>194.0</td><td>null</td><td>90.34</td><td>0.0</td><td>720.0</td><td>1600.0</td><td>2024-02-16 14:08:34.058253 UTC</td><td>0.78</td><td>true</td><td>2.525</td><td>false</td><td>&quot;Non communiqué…</td><td>&quot;Gris&quot;</td><td>1754.536976</td><td>4.50358</td><td>false</td><td>269.928766</td><td>&quot;🇨🇳&quot;</td><td>&quot;720 x 1600&quot;</td><td>0.0</td><td>-705.0</td><td>0.906061</td><td>95.420034</td><td>113.130815</td><td>&quot;2 Go&quot;</td></tr><tr><td>&quot;XIAOMI&quot;</td><td>6.5</td><td>&quot;Chine&quot;</td><td>32.0</td><td>2.0</td><td>9.0</td><td>&quot;Borderless&quot;</td><td>0.0</td><td>&quot;https://boulan…</td><td>&quot;Non communiqué…</td><td>&quot;4G&quot;</td><td>&quot;Xiaomi Redmi 9…</td><td>0.0</td><td>0.0</td><td>0.0</td><td>77.0</td><td>false</td><td>1.03</td><td>164.9</td><td>7.0</td><td>5000.0</td><td>194.0</td><td>null</td><td>94.63</td><td>0.0</td><td>720.0</td><td>1600.0</td><td>2024-02-16 14:08:56.736643 UTC</td><td>0.78</td><td>true</td><td>2.525</td><td>false</td><td>&quot;Non communiqué…</td><td>&quot;Vert&quot;</td><td>1754.536976</td><td>4.549975</td><td>false</td><td>269.928766</td><td>&quot;🇨🇳&quot;</td><td>&quot;720 x 1600&quot;</td><td>0.0</td><td>861.0</td><td>0.897837</td><td>95.420034</td><td>113.130815</td><td>&quot;2 Go&quot;</td></tr><tr><td>&quot;XIAOMI&quot;</td><td>6.5</td><td>&quot;Chine&quot;</td><td>32.0</td><td>2.0</td><td>9.0</td><td>&quot;Plat&quot;</td><td>2.0</td><td>&quot;https://boulan…</td><td>&quot;8 coeurs jusqu…</td><td>&quot;4G&quot;</td><td>&quot;XIAOMI Redmi 1…</td><td>13.0</td><td>2.0</td><td>0.0</td><td>77.0</td><td>false</td><td>0.978</td><td>164.9</td><td>7.6</td><td>5000.0</td><td>194.0</td><td>2.0</td><td>127.48</td><td>3.5</td><td>1600.0</td><td>720.0</td><td>2024-02-16 14:09:00.287847 UTC</td><td>0.398</td><td>true</td><td>1.871</td><td>true</td><td>&quot;HD+&quot;</td><td>&quot;Gris&quot;</td><td>1754.536976</td><td>4.847959</td><td>false</td><td>269.928766</td><td>&quot;🇨🇳&quot;</td><td>&quot;1600 x 720&quot;</td><td>15.0</td><td>0.0</td><td>0.816917</td><td>94.761836</td><td>111.732163</td><td>&quot;2 Go&quot;</td></tr><tr><td>&quot;XIAOMI&quot;</td><td>6.5</td><td>&quot;Chine&quot;</td><td>32.0</td><td>2.0</td><td>9.0</td><td>&quot;Plat&quot;</td><td>31.0</td><td>&quot;https://boulan…</td><td>&quot;8 coeurs jusqu…</td><td>&quot;4G&quot;</td><td>&quot;XIAOMI Redmi 9…</td><td>13.0</td><td>5.0</td><td>0.0</td><td>77.1</td><td>true</td><td>1.14</td><td>164.9</td><td>7.1</td><td>5000.0</td><td>196.0</td><td>2.0</td><td>109.0</td><td>3.3226</td><td>1600.0</td><td>720.0</td><td>2024-02-16 14:09:00.504539 UTC</td><td>0.37</td><td>true</td><td>2.28</td><td>true</td><td>&quot;HD+&quot;</td><td>&quot;Gris&quot;</td><td>1754.536976</td><td>4.691348</td><td>false</td><td>269.928766</td><td>&quot;🇨🇳&quot;</td><td>&quot;1600 x 720&quot;</td><td>18.0</td><td>-462.0</td><td>0.853696</td><td>91.030994</td><td>108.389218</td><td>&quot;2 Go&quot;</td></tr><tr><td>&quot;XIAOMI&quot;</td><td>6.5</td><td>&quot;Chine&quot;</td><td>32.0</td><td>2.0</td><td>9.0</td><td>&quot;Borderless&quot;</td><td>0.0</td><td>&quot;https://boulan…</td><td>&quot;Non communiqué…</td><td>&quot;4G&quot;</td><td>&quot;Xiaomi Redmi 9…</td><td>0.0</td><td>0.0</td><td>0.0</td><td>77.0</td><td>false</td><td>1.185</td><td>164.9</td><td>7.0</td><td>5000.0</td><td>194.0</td><td>null</td><td>84.6</td><td>0.0</td><td>720.0</td><td>1600.0</td><td>2024-02-16 14:09:01.772709 UTC</td><td>0.398</td><td>true</td><td>2.525</td><td>true</td><td>&quot;Non communiqué…</td><td>&quot;Gris&quot;</td><td>1754.536976</td><td>4.437934</td><td>false</td><td>269.928766</td><td>&quot;🇨🇳&quot;</td><td>&quot;720 x 1600&quot;</td><td>0.0</td><td>339.0</td><td>0.905144</td><td>88.872397</td><td>107.23306</td><td>&quot;2 Go&quot;</td></tr><tr><td>&quot;XIAOMI&quot;</td><td>6.5</td><td>&quot;Chine&quot;</td><td>32.0</td><td>2.0</td><td>9.1</td><td>&quot;Plat&quot;</td><td>1.0</td><td>&quot;https://boulan…</td><td>&quot;4 coeurs jusqu…</td><td>&quot;4G&quot;</td><td>&quot;Xiaomi Redmi A…</td><td>8.0</td><td>8.0</td><td>0.0</td><td>76.8</td><td>true</td><td>0.997</td><td>164.9</td><td>7.4</td><td>5000.0</td><td>192.0</td><td>2.0</td><td>81.9</td><td>1.0</td><td>1600.0</td><td>720.0</td><td>2024-02-16 14:09:08.044994 UTC</td><td>0.846</td><td>true</td><td>2.541</td><td>true</td><td>&quot;HD+&quot;</td><td>&quot;Vert&quot;</td><td>1754.536976</td><td>4.405499</td><td>false</td><td>269.928766</td><td>&quot;🇨🇳&quot;</td><td>&quot;1600 x 720&quot;</td><td>16.0</td><td>-442.0</td><td>0.90526</td><td>86.095107</td><td>103.12562</td><td>&quot;2 Go&quot;</td></tr><tr><td>&quot;XIAOMI&quot;</td><td>6.5</td><td>&quot;Chine&quot;</td><td>32.0</td><td>2.0</td><td>9.0</td><td>&quot;Borderless&quot;</td><td>0.0</td><td>&quot;https://boulan…</td><td>&quot;Non communiqué…</td><td>&quot;4G&quot;</td><td>&quot;XIAOMI Redmi 1…</td><td>0.0</td><td>0.0</td><td>0.0</td><td>77.0</td><td>false</td><td>0.977</td><td>164.9</td><td>7.6</td><td>5000.0</td><td>194.0</td><td>null</td><td>114.72</td><td>0.0</td><td>1600.0</td><td>720.0</td><td>2024-02-16 14:09:09.276076 UTC</td><td>0.398</td><td>true</td><td>1.871</td><td>true</td><td>&quot;Non communiqué…</td><td>&quot;Gris&quot;</td><td>1754.536976</td><td>4.742494</td><td>false</td><td>269.928766</td><td>&quot;🇨🇳&quot;</td><td>&quot;1600 x 720&quot;</td><td>0.0</td><td>-462.0</td><td>0.852113</td><td>95.27908</td><td>113.195413</td><td>&quot;2 Go&quot;</td></tr><tr><td>&hellip;</td><td>&hellip;</td><td>&hellip;</td><td>&hellip;</td><td>&hellip;</td><td>&hellip;</td><td>&hellip;</td><td>&hellip;</td><td>&hellip;</td><td>&hellip;</td><td>&hellip;</td><td>&hellip;</td><td>&hellip;</td><td>&hellip;</td><td>&hellip;</td><td>&hellip;</td><td>&hellip;</td><td>&hellip;</td><td>&hellip;</td><td>&hellip;</td><td>&hellip;</td><td>&hellip;</td><td>&hellip;</td><td>&hellip;</td><td>&hellip;</td><td>&hellip;</td><td>&hellip;</td><td>&hellip;</td><td>&hellip;</td><td>&hellip;</td><td>&hellip;</td><td>&hellip;</td><td>&hellip;</td><td>&hellip;</td><td>&hellip;</td><td>&hellip;</td><td>&hellip;</td><td>&hellip;</td><td>&hellip;</td><td>&hellip;</td><td>&hellip;</td><td>&hellip;</td><td>&hellip;</td><td>&hellip;</td><td>&hellip;</td><td>&hellip;</td></tr><tr><td>&quot;SAMSUNG&quot;</td><td>6.7</td><td>&quot;Viêt Nam&quot;</td><td>256.0</td><td>12.0</td><td>28.0</td><td>&quot;Plat&quot;</td><td>0.0</td><td>&quot;https://boulan…</td><td>&quot;8 coeurs jusqu…</td><td>&quot;5G&quot;</td><td>&quot;Samsung Galaxy…</td><td>50.0</td><td>12.0</td><td>10.0</td><td>94.0</td><td>true</td><td>1.245</td><td>176.0</td><td>8.5</td><td>4900.0</td><td>197.0</td><td>3.0</td><td>1169.0</td><td>0.0</td><td>3120.0</td><td>1440.0</td><td>2024-02-16 14:09:02.838446 UTC</td><td>0.744</td><td>false</td><td>1.92</td><td>true</td><td>&quot;Dynamic AMOLED…</td><td>&quot;Noir&quot;</td><td>3436.277055</td><td>7.063904</td><td>true</td><td>512.877172</td><td>&quot;🇻🇳&quot;</td><td>&quot;3120 x 1440&quot;</td><td>72.0</td><td>-703.0</td><td>0.872221</td><td>1046.910437</td><td>1243.899662</td><td>&quot;12 Go&quot;</td></tr><tr><td>&quot;GOOGLE&quot;</td><td>6.7</td><td>&quot;Viêt Nam&quot;</td><td>128.0</td><td>12.0</td><td>9.0</td><td>&quot;Plat&quot;</td><td>22.0</td><td>&quot;https://boulan…</td><td>&quot;Google Tensor …</td><td>&quot;5G&quot;</td><td>&quot;Google Pixel 8…</td><td>50.0</td><td>48.0</td><td>48.0</td><td>76.0</td><td>true</td><td>1.2</td><td>163.0</td><td>8.2</td><td>5000.0</td><td>213.0</td><td>4.0</td><td>999.0</td><td>4.5918</td><td>2772.0</td><td>1344.0</td><td>2024-02-16 14:09:02.953908 UTC</td><td>0.84</td><td>false</td><td>2.5</td><td>true</td><td>&quot;Super Actua ou…</td><td>&quot;Noir&quot;</td><td>3080.636298</td><td>6.906755</td><td>true</td><td>459.796462</td><td>&quot;🇻🇳&quot;</td><td>&quot;2772 x 1344&quot;</td><td>146.0</td><td>-8.0</td><td>0.825988</td><td>762.723524</td><td>903.7094</td><td>&quot;12 Go&quot;</td></tr><tr><td>&quot;MOTOROLA&quot;</td><td>6.5</td><td>&quot;Chine&quot;</td><td>256.0</td><td>12.0</td><td>16.0</td><td>&quot;Plat&quot;</td><td>1.0</td><td>&quot;https://boulan…</td><td>&quot;8 coeurs jusqu…</td><td>&quot;5G&quot;</td><td>&quot;Motorola G84&quot;</td><td>50.0</td><td>8.0</td><td>0.0</td><td>7.4</td><td>false</td><td>1.26</td><td>0.8</td><td>7.0</td><td>5000.0</td><td>166.0</td><td>2.0</td><td>299.0</td><td>5.0</td><td>2400.0</td><td>1080.0</td><td>2024-02-16 14:09:05.238065 UTC</td><td>0.88</td><td>true</td><td>2.66</td><td>true</td><td>&quot;pOLED HDR10&quot;</td><td>&quot;Bleu&quot;</td><td>2631.805464</td><td>5.700444</td><td>false</td><td>404.893148</td><td>&quot;🇨🇳&quot;</td><td>&quot;2400 x 1080&quot;</td><td>58.0</td><td>-236.0</td><td>0.909589</td><td>322.718232</td><td>390.482215</td><td>&quot;12 Go&quot;</td></tr><tr><td>&quot;GOOGLE&quot;</td><td>6.7</td><td>&quot;Viêt Nam&quot;</td><td>256.0</td><td>12.0</td><td>9.0</td><td>&quot;Plat&quot;</td><td>10.0</td><td>&quot;https://boulan…</td><td>&quot;Google Tensor …</td><td>&quot;5G&quot;</td><td>&quot;Google Pixel 8…</td><td>50.0</td><td>48.0</td><td>48.0</td><td>76.0</td><td>true</td><td>1.2</td><td>163.0</td><td>8.2</td><td>5000.0</td><td>213.0</td><td>4.0</td><td>1059.0</td><td>4.6</td><td>2772.0</td><td>1344.0</td><td>2024-02-16 14:09:06.553399 UTC</td><td>0.84</td><td>false</td><td>2.5</td><td>true</td><td>&quot;Super Actua ou…</td><td>&quot;Bleu&quot;</td><td>3080.636298</td><td>6.96508</td><td>true</td><td>459.796462</td><td>&quot;🇻🇳&quot;</td><td>&quot;2772 x 1344&quot;</td><td>146.0</td><td>-810.0</td><td>0.832919</td><td>825.843563</td><td>975.215954</td><td>&quot;12 Go&quot;</td></tr><tr><td>&quot;SAMSUNG&quot;</td><td>6.2</td><td>&quot;Viêt Nam&quot;</td><td>512.0</td><td>12.0</td><td>6.1</td><td>&quot;Pliable&quot;</td><td>6.0</td><td>&quot;https://boulan…</td><td>&quot;8 coeurs jusqu…</td><td>&quot;5G&quot;</td><td>&quot;Samsung Galaxy…</td><td>50.0</td><td>12.0</td><td>10.0</td><td>154.9</td><td>true</td><td>1.193</td><td>129.9</td><td>8.0</td><td>4400.0</td><td>253.0</td><td>3.0</td><td>1879.0</td><td>4.6667</td><td>2176.0</td><td>1812.0</td><td>2024-02-16 14:09:09.725760 UTC</td><td>1.244</td><td>false</td><td>3.12</td><td>true</td><td>&quot;Dynamic AMOLED…</td><td>&quot;Bleu&quot;</td><td>2831.663822</td><td>7.538495</td><td>true</td><td>456.719971</td><td>&quot;🇻🇳&quot;</td><td>&quot;2176 x 1812&quot;</td><td>72.0</td><td>-815.0</td><td>0.807277</td><td>1359.052476</td><td>1663.378482</td><td>&quot;12 Go&quot;</td></tr><tr><td>&quot;SAMSUNG&quot;</td><td>6.8</td><td>&quot;Viêt Nam&quot;</td><td>256.0</td><td>12.0</td><td>8.9</td><td>&quot;Borderless&quot;</td><td>23.0</td><td>&quot;https://boulan…</td><td>&quot;Exynos 2200&quot;</td><td>&quot;5G&quot;</td><td>&quot;Samsung Galaxy…</td><td>108.0</td><td>12.0</td><td>10.0</td><td>77.9</td><td>true</td><td>1.59</td><td>163.3</td><td>8.2</td><td>5000.0</td><td>228.0</td><td>4.0</td><td>893.9</td><td>4.8261</td><td>3088.0</td><td>1440.0</td><td>2024-02-16 14:09:10.453984 UTC</td><td>1.05</td><td>false</td><td>3.18</td><td>true</td><td>&quot;Dynamic AMOLED…</td><td>&quot;Vert&quot;</td><td>3407.248743</td><td>6.795594</td><td>true</td><td>501.065992</td><td>&quot;🇻🇳&quot;</td><td>&quot;3088 x 1440&quot;</td><td>130.0</td><td>-857.0</td><td>0.900023</td><td>912.093448</td><td>1125.260928</td><td>&quot;12 Go&quot;</td></tr><tr><td>&quot;OPPO&quot;</td><td>6.7</td><td>&quot;Chine&quot;</td><td>256.0</td><td>12.0</td><td>8.5</td><td>&quot;Plat&quot;</td><td>14.0</td><td>&quot;https://boulan…</td><td>&quot;8 coeurs jusqu…</td><td>&quot;5G&quot;</td><td>&quot;OPPO Find X5 P…</td><td>50.0</td><td>50.0</td><td>13.0</td><td>73.9</td><td>true</td><td>1.272</td><td>163.7</td><td>8.4</td><td>5000.0</td><td>218.0</td><td>3.0</td><td>666.26</td><td>4.5</td><td>3216.0</td><td>1440.0</td><td>2024-02-16 14:09:11.153821 UTC</td><td>0.989</td><td>false</td><td>2.715</td><td>true</td><td>&quot;AMOLED Flexibl…</td><td>&quot;Noir&quot;</td><td>3523.670813</td><td>6.50168</td><td>true</td><td>525.921017</td><td>&quot;🇨🇳&quot;</td><td>&quot;3216 x 1440&quot;</td><td>113.0</td><td>-512.0</td><td>0.88854</td><td>641.040617</td><td>797.536946</td><td>&quot;12 Go&quot;</td></tr><tr><td>&quot;SAMSUNG&quot;</td><td>6.8</td><td>&quot;Viêt Nam&quot;</td><td>256.0</td><td>12.0</td><td>8.9</td><td>&quot;Borderless&quot;</td><td>23.0</td><td>&quot;https://boulan…</td><td>&quot;Exynos 2200&quot;</td><td>&quot;5G&quot;</td><td>&quot;Samsung Galaxy…</td><td>108.0</td><td>12.0</td><td>10.0</td><td>77.9</td><td>true</td><td>1.59</td><td>163.3</td><td>8.2</td><td>5000.0</td><td>228.0</td><td>4.0</td><td>893.9</td><td>4.8261</td><td>3088.0</td><td>1440.0</td><td>2024-02-16 14:09:14.142561 UTC</td><td>1.05</td><td>false</td><td>3.18</td><td>true</td><td>&quot;Dynamic AMOLED…</td><td>&quot;Blanc&quot;</td><td>3407.248743</td><td>6.795594</td><td>true</td><td>501.065992</td><td>&quot;🇻🇳&quot;</td><td>&quot;3088 x 1440&quot;</td><td>130.0</td><td>880.0</td><td>0.900023</td><td>912.093448</td><td>1125.260928</td><td>&quot;12 Go&quot;</td></tr><tr><td>&quot;SAMSUNG&quot;</td><td>6.8</td><td>&quot;Viêt Nam&quot;</td><td>256.0</td><td>12.0</td><td>8.9</td><td>&quot;Borderless&quot;</td><td>23.0</td><td>&quot;https://boulan…</td><td>&quot;Exynos 2200&quot;</td><td>&quot;5G&quot;</td><td>&quot;Samsung Galaxy…</td><td>108.0</td><td>12.0</td><td>10.0</td><td>77.9</td><td>true</td><td>1.59</td><td>163.3</td><td>8.2</td><td>5000.0</td><td>228.0</td><td>4.0</td><td>876.9</td><td>4.8261</td><td>3088.0</td><td>1440.0</td><td>2024-02-16 14:09:15.236378 UTC</td><td>1.05</td><td>false</td><td>3.18</td><td>true</td><td>&quot;Dynamic AMOLED…</td><td>&quot;Noir&quot;</td><td>3407.248743</td><td>6.776393</td><td>true</td><td>501.065992</td><td>&quot;🇻🇳&quot;</td><td>&quot;3088 x 1440&quot;</td><td>130.0</td><td>-258.0</td><td>0.90344</td><td>912.093448</td><td>1125.260928</td><td>&quot;12 Go&quot;</td></tr><tr><td>&quot;XIAOMI&quot;</td><td>6.7</td><td>&quot;Chine&quot;</td><td>256.0</td><td>12.0</td><td>8.2</td><td>&quot;Plat&quot;</td><td>8.0</td><td>&quot;https://boulan…</td><td>&quot;8 coeurs jusqu…</td><td>&quot;5G&quot;</td><td>&quot;Xiaomi 12 Pro&quot;</td><td>50.0</td><td>50.0</td><td>50.0</td><td>74.6</td><td>true</td><td>0.998</td><td>163.6</td><td>7.9</td><td>4600.0</td><td>205.0</td><td>3.0</td><td>658.82</td><td>4.125</td><td>3200.0</td><td>1440.0</td><td>2024-02-16 14:09:16.079305 UTC</td><td>0.599</td><td>false</td><td>1.987</td><td>true</td><td>&quot;AMOLED (LTPO)&quot;</td><td>&quot;Bleu&quot;</td><td>3509.073952</td><td>6.49045</td><td>true</td><td>523.742381</td><td>&quot;🇨🇳&quot;</td><td>&quot;3200 x 1440&quot;</td><td>150.0</td><td>700.0</td><td>0.890205</td><td>638.990215</td><td>761.692261</td><td>&quot;12 Go&quot;</td></tr><tr><td>&quot;XIAOMI&quot;</td><td>6.6</td><td>&quot;Chine&quot;</td><td>1000.0</td><td>16.0</td><td>8.5</td><td>&quot;Plat&quot;</td><td>7.0</td><td>&quot;https://boulan…</td><td>&quot;8 coeurs jusqu…</td><td>&quot;5G&quot;</td><td>&quot;Xiaomi 13T Pro…</td><td>50.0</td><td>50.0</td><td>12.0</td><td>75.7</td><td>false</td><td>0.995</td><td>162.2</td><td>7.1</td><td>5000.0</td><td>206.0</td><td>3.0</td><td>999.0</td><td>4.2857</td><td>2712.0</td><td>1220.0</td><td>2024-02-16 14:08:44.567668 UTC</td><td>0.996</td><td>false</td><td>2.589</td><td>true</td><td>&quot;CrystalRes AMO…</td><td>&quot;Noir&quot;</td><td>2973.776051</td><td>6.906755</td><td>false</td><td>450.572129</td><td>&quot;🇨🇳&quot;</td><td>&quot;2712 x 1220&quot;</td><td>112.0</td><td>-422.0</td><td>0.883607</td><td>939.389272</td><td>1119.43821</td><td>&quot;16 Go&quot;</td></tr><tr><td>&quot;HONOR&quot;</td><td>7.92</td><td>&quot;Chine&quot;</td><td>512.0</td><td>16.0</td><td>4.7</td><td>&quot;Plat&quot;</td><td>0.0</td><td>&quot;https://boulan…</td><td>&quot;Qualcomm Snapd…</td><td>&quot;5G&quot;</td><td>&quot;HONOR V2&quot;</td><td>50.0</td><td>50.0</td><td>20.0</td><td>74.0</td><td>true</td><td>1.29</td><td>156.7</td><td>7.9</td><td>5000.0</td><td>231.0</td><td>3.0</td><td>1999.0</td><td>0.0</td><td>2344.0</td><td>2156.0</td><td>2024-02-16 14:08:53.070944 UTC</td><td>0.85</td><td>false</td><td>2.96</td><td>true</td><td>&quot;OLED&quot;</td><td>&quot;Noir&quot;</td><td>3184.756192</td><td>7.600402</td><td>false</td><td>402.115681</td><td>&quot;🇨🇳&quot;</td><td>&quot;2344 x 2156&quot;</td><td>120.0</td><td>148.0</td><td>0.570516</td><td>786.36809</td><td>971.157275</td><td>&quot;16 Go&quot;</td></tr></tbody></table></div>"
      ],
      "text/plain": [
       "shape: (432, 46)\n",
       "┌──────────┬─────────────┬──────────┬─────────┬───┬────────────┬────────────┬────────────┬─────────┐\n",
       "│ brand    ┆ screen_size ┆ made_in  ┆ storage ┆ … ┆ efficiency ┆ prediction ┆ prediction ┆ ram_fmt │\n",
       "│ ---      ┆ ---         ┆ ---      ┆ ---     ┆   ┆ ---        ┆ _sfa       ┆ _loghedoni ┆ ---     │\n",
       "│ str      ┆ f64         ┆ str      ┆ f64     ┆   ┆ f64        ┆ ---        ┆ c          ┆ str     │\n",
       "│          ┆             ┆          ┆         ┆   ┆            ┆ f64        ┆ ---        ┆         │\n",
       "│          ┆             ┆          ┆         ┆   ┆            ┆            ┆ f64        ┆         │\n",
       "╞══════════╪═════════════╪══════════╪═════════╪═══╪════════════╪════════════╪════════════╪═════════╡\n",
       "│ XIAOMI   ┆ 5.5         ┆ Chine    ┆ 32.0    ┆ … ┆ 0.895835   ┆ 98.708884  ┆ 114.710057 ┆ 2 Go    │\n",
       "│ XIAOMI   ┆ 6.5         ┆ Chine    ┆ 32.0    ┆ … ┆ 0.903579   ┆ 88.37793   ┆ 105.834864 ┆ 2 Go    │\n",
       "│ XIAOMI   ┆ 6.5         ┆ Chine    ┆ 32.0    ┆ … ┆ 0.904191   ┆ 88.37793   ┆ 105.834864 ┆ 2 Go    │\n",
       "│ MOTOROLA ┆ 6.5         ┆ Chine    ┆ 64.0    ┆ … ┆ 0.920112   ┆ 91.658354  ┆ 111.814457 ┆ 2 Go    │\n",
       "│ …        ┆ …           ┆ …        ┆ …       ┆ … ┆ …          ┆ …          ┆ …          ┆ …       │\n",
       "│ SAMSUNG  ┆ 6.8         ┆ Viêt Nam ┆ 256.0   ┆ … ┆ 0.90344    ┆ 912.093448 ┆ 1125.26092 ┆ 12 Go   │\n",
       "│          ┆             ┆          ┆         ┆   ┆            ┆            ┆ 8          ┆         │\n",
       "│ XIAOMI   ┆ 6.7         ┆ Chine    ┆ 256.0   ┆ … ┆ 0.890205   ┆ 638.990215 ┆ 761.692261 ┆ 12 Go   │\n",
       "│ XIAOMI   ┆ 6.6         ┆ Chine    ┆ 1000.0  ┆ … ┆ 0.883607   ┆ 939.389272 ┆ 1119.43821 ┆ 16 Go   │\n",
       "│ HONOR    ┆ 7.92        ┆ Chine    ┆ 512.0   ┆ … ┆ 0.570516   ┆ 786.36809  ┆ 971.157275 ┆ 16 Go   │\n",
       "└──────────┴─────────────┴──────────┴─────────┴───┴────────────┴────────────┴────────────┴─────────┘"
      ]
     },
     "execution_count": 67,
     "metadata": {},
     "output_type": "execute_result"
    }
   ],
   "source": [
    "df.sort(pl.col(\"ram\")).with_columns(\n",
    "    pl.format(\"{} Go\", pl.col(\"ram\").cast(pl.Int64)).alias(\"ram_fmt\")\n",
    ")"
   ]
  }
 ],
 "metadata": {
  "kernelspec": {
   "display_name": "Python 3",
   "language": "python",
   "name": "python3"
  },
  "language_info": {
   "codemirror_mode": {
    "name": "ipython",
    "version": 3
   },
   "file_extension": ".py",
   "mimetype": "text/x-python",
   "name": "python",
   "nbconvert_exporter": "python",
   "pygments_lexer": "ipython3",
   "version": "3.10.6"
  }
 },
 "nbformat": 4,
 "nbformat_minor": 2
}
