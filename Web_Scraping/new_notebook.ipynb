{
 "cells": [
  {
   "cell_type": "code",
   "execution_count": 59,
   "metadata": {},
   "outputs": [],
   "source": [
    "from script.scraper_functions import *\n",
    "from script.soupifier import *\n",
    "from serde.json import to_json\n",
    "import numpy as np\n",
    "from itertools import chain\n",
    "from yarl import URL"
   ]
  },
  {
   "cell_type": "code",
   "execution_count": 2,
   "metadata": {},
   "outputs": [],
   "source": [
    "from plotly_figures.figure_loader import smartphone_graph_loader"
   ]
  },
  {
   "cell_type": "code",
   "execution_count": 3,
   "metadata": {},
   "outputs": [],
   "source": [
    "smartphones = smartphone_graph_loader().update_layout(\n",
    "        paper_bgcolor=\"white\",\n",
    "        font_color=\"black\",\n",
    "        legend_font_color=\"black\",\n",
    "        title_font_color=\"white\",\n",
    "        xaxis=dict(color=\"black\"),\n",
    "        margin=dict(l=30, r=30, b=30, t=30, pad=3),\n",
    "        showlegend=False\n",
    "    )"
   ]
  },
  {
   "cell_type": "code",
   "execution_count": 17,
   "metadata": {},
   "outputs": [],
   "source": [
    "import plotly.io as pio\n",
    "\n",
    "pio.write_image(smartphones, \"smartphones.png\", scale = 2, width=1400, height=800) "
   ]
  },
  {
   "cell_type": "markdown",
   "metadata": {},
   "source": [
    "**TODO**:\n",
    "\n",
    "- `ruff` $\\Rightarrow$ linter, à utiliser plus dans le cadre du dvpt\n",
    "- `pytest` avec subprocess.run pour tester le code\n",
    "- `pytest-coverage`\n",
    "- `poetry` avec gestion des dépendances\n",
    "- `black` pour automatiquement indenter, etc.\n",
    "- `doctest` pour tester les exemples des docstrings\n",
    "- `bandit` pour gérer les vulnérabilités\n",
    "\n",
    "***\n",
    "\n",
    "- `yarl` pour travailler avec des URL"
   ]
  },
  {
   "cell_type": "markdown",
   "metadata": {},
   "source": [
    "## Le code ci-dessous lance le `scraper`\n",
    "\n",
    "- Tu peux changer le nombre d'*URL* de **19** à 1 ou 2 pour tester ça prendra beaucoup moins longtemps à générer\n",
    "- Lien [`Darty`](https://www.darty.com/nav/extra/list?seller=311289-0-327183-311290-311291-328771-311452&cat=89054&state=new_offer&persist_sold_by_darty=true) $\\Rightarrow$ en choisissant les produits uniquement vendus par Darty + Neufs on a 567 produits.\n",
    "- Avoir un comparatif Boulanger/Darty pourrait être intéressant\n",
    "- Voir pour récupérer les images des téléphones pour plus tard dans l'appli - voir : https://discuss.streamlit.io/t/add-image-and-header-to-streamlit-dataframe-table/36065/3"
   ]
  },
  {
   "cell_type": "code",
   "execution_count": 60,
   "metadata": {},
   "outputs": [
    {
     "data": {
      "text/plain": [
       "URL('')"
      ]
     },
     "execution_count": 60,
     "metadata": {},
     "output_type": "execute_result"
    }
   ],
   "source": [
    "URL()"
   ]
  },
  {
   "cell_type": "code",
   "execution_count": 61,
   "metadata": {},
   "outputs": [],
   "source": [
    "session = create_session()\n",
    "url_list = create_url_list(URL, 1)\n",
    "pages = read_pages(url_list=url_list, session=session)"
   ]
  },
  {
   "cell_type": "code",
   "execution_count": null,
   "metadata": {},
   "outputs": [
    {
     "data": {
      "text/html": [
       "<pre style=\"white-space:pre;overflow-x:auto;line-height:normal;font-family:Menlo,'DejaVu Sans Mono',consolas,'Courier New',monospace\"><span style=\"font-style: italic\">Elapsed time</span> for <span style=\"color: #800000; text-decoration-color: #800000; font-weight: bold\">extract_all_urls</span> function: <span style=\"color: #008080; text-decoration-color: #008080; font-weight: bold\">0.488</span> seconds.\n",
       "</pre>\n"
      ],
      "text/plain": [
       "\u001b[3mElapsed time\u001b[0m for \u001b[1;31mextract_all_urls\u001b[0m function: \u001b[1;36m0.488\u001b[0m seconds.\n"
      ]
     },
     "metadata": {},
     "output_type": "display_data"
    },
    {
     "name": "stdout",
     "output_type": "stream",
     "text": [
      "--------------------\n",
      "Product 1 -> Successfull Extraction.\n",
      "Product 2 -> Successfull Extraction.\n",
      "Product 3 -> Successfull Extraction.\n",
      "Product 4 -> Successfull Extraction.\n",
      "Product 5 -> Successfull Extraction.\n",
      "Product 6 -> Successfull Extraction.\n",
      "Product 7 -> Successfull Extraction.\n",
      "Product 8 -> Successfull Extraction.\n",
      "Product 9 -> Successfull Extraction.\n",
      "Product 10 -> Successfull Extraction.\n",
      "Product 11 -> Successfull Extraction.\n",
      "Product 12 -> Successfull Extraction.\n",
      "Product 13 -> Successfull Extraction.\n",
      "Product 14 -> Successfull Extraction.\n",
      "Product 15 -> Successfull Extraction.\n",
      "Product 16 -> Successfull Extraction.\n",
      "Product 17 -> Successfull Extraction.\n",
      "Product 18 -> Successfull Extraction.\n",
      "Product 19 -> Successfull Extraction.\n",
      "Product 20 -> Successfull Extraction.\n",
      "Product 21 -> Successfull Extraction.\n",
      "Product 22 -> Successfull Extraction.\n",
      "Product 23 -> Successfull Extraction.\n",
      "Product 24 -> Successfull Extraction.\n",
      "Product 25 -> Successfull Extraction.\n",
      "Product 26 -> Successfull Extraction.\n",
      "Product 27 -> Successfull Extraction.\n",
      "Product 28 -> Successfull Extraction.\n",
      "Product 29 -> Successfull Extraction.\n",
      "Product 30 -> Successfull Extraction.\n"
     ]
    },
    {
     "data": {
      "text/html": [
       "<pre style=\"white-space:pre;overflow-x:auto;line-height:normal;font-family:Menlo,'DejaVu Sans Mono',consolas,'Courier New',monospace\"><span style=\"font-style: italic\">Elapsed time</span> for <span style=\"color: #800000; text-decoration-color: #800000; font-weight: bold\">extract_all_pages</span> function: <span style=\"color: #008080; text-decoration-color: #008080; font-weight: bold\">59.688</span> seconds.\n",
       "</pre>\n"
      ],
      "text/plain": [
       "\u001b[3mElapsed time\u001b[0m for \u001b[1;31mextract_all_pages\u001b[0m function: \u001b[1;36m59.688\u001b[0m seconds.\n"
      ]
     },
     "metadata": {},
     "output_type": "display_data"
    }
   ],
   "source": [
    "all_urls = extract_all_urls(pages)\n",
    "print(\"--------------------\")\n",
    "product_pages = extract_all_pages(all_urls, session)"
   ]
  },
  {
   "cell_type": "markdown",
   "metadata": {},
   "source": [
    "Il faudrait créer une fonction pour la génération de la liste des smartphones + l'export en `json`"
   ]
  },
  {
   "cell_type": "code",
   "execution_count": null,
   "metadata": {},
   "outputs": [],
   "source": [
    "smartphone_list = list()\n",
    "for article in product_pages:\n",
    "    soup = BeautifulSoup(article, \"html.parser\")\n",
    "    dict_features = extract_features(soup)\n",
    "    smartphone = smartphone_characteristics(dict_features)\n",
    "    smartphone_list.append(smartphone)"
   ]
  },
  {
   "cell_type": "code",
   "execution_count": null,
   "metadata": {},
   "outputs": [],
   "source": [
    "smartphones_json = to_json(smartphone_list)"
   ]
  },
  {
   "cell_type": "code",
   "execution_count": null,
   "metadata": {},
   "outputs": [],
   "source": [
    "file_path = \"data/smartphones.json\"\n",
    "\n",
    "with open(file_path, \"w\", encoding=\"utf-8\") as json_file:\n",
    "    json_file.write(smartphones_json)"
   ]
  },
  {
   "cell_type": "markdown",
   "metadata": {},
   "source": [
    "## Charge le Dataframe dans `polars`"
   ]
  },
  {
   "cell_type": "code",
   "execution_count": 1,
   "metadata": {},
   "outputs": [],
   "source": [
    "import polars as pl\n",
    "import polars.selectors as cs\n",
    "from script.polars_gazprom import *\n",
    "from itertools import chain"
   ]
  },
  {
   "cell_type": "code",
   "execution_count": 2,
   "metadata": {},
   "outputs": [],
   "source": [
    "df_brut = pl.read_json(\"data/smartphones.json\")"
   ]
  },
  {
   "cell_type": "markdown",
   "metadata": {},
   "source": [
    "### Pipeline"
   ]
  },
  {
   "cell_type": "markdown",
   "metadata": {},
   "source": [
    "Sur `535` extractions, il y a `487` téléphones valides."
   ]
  },
  {
   "cell_type": "code",
   "execution_count": 3,
   "metadata": {},
   "outputs": [],
   "source": [
    "df = NordStream(df_brut)"
   ]
  },
  {
   "cell_type": "code",
   "execution_count": 4,
   "metadata": {},
   "outputs": [
    {
     "data": {
      "text/plain": [
       "35"
      ]
     },
     "execution_count": 4,
     "metadata": {},
     "output_type": "execute_result"
    }
   ],
   "source": [
    "len(df.columns) - 3"
   ]
  },
  {
   "cell_type": "code",
   "execution_count": 8,
   "metadata": {},
   "outputs": [],
   "source": [
    "from pathlib import Path\n",
    "\n",
    "root = Path(\".\").resolve()\n",
    "data_folder = root / \"data\"\n",
    "path_file = data_folder / \"df_clean.csv\""
   ]
  },
  {
   "cell_type": "code",
   "execution_count": 6,
   "metadata": {},
   "outputs": [],
   "source": [
    "df.write_csv(path_file, separator=\";\")"
   ]
  },
  {
   "cell_type": "code",
   "execution_count": 24,
   "metadata": {},
   "outputs": [],
   "source": [
    "import plotly.express as px\n",
    "from plotly.subplots import make_subplots"
   ]
  },
  {
   "cell_type": "code",
   "execution_count": 75,
   "metadata": {},
   "outputs": [],
   "source": [
    "median = df.select(pl.col(\"price\").median()).item()\n",
    "mean = df.select(pl.col(\"price\").mean()).item()\n",
    "std = df.select(pl.col(\"price\").std()).item()\n",
    "pearson_skewness_coeff = (3*(mean-median))/ std"
   ]
  },
  {
   "cell_type": "code",
   "execution_count": 76,
   "metadata": {},
   "outputs": [
    {
     "data": {
      "text/plain": [
       "0.6722932133095527"
      ]
     },
     "execution_count": 76,
     "metadata": {},
     "output_type": "execute_result"
    }
   ],
   "source": [
    "pearson_skewness_coeff"
   ]
  },
  {
   "cell_type": "markdown",
   "metadata": {},
   "source": [
    "Le résultat indique que l'asymétrie de la distribution est positive => indique une distribution décalée à gauche de la médiane"
   ]
  },
  {
   "cell_type": "code",
   "execution_count": null,
   "metadata": {},
   "outputs": [],
   "source": [
    "df.select(cs.by_dtype(pl.NUMERIC_DTYPES)).corr()\n",
    "\n",
    "# Matrice de corrélation"
   ]
  },
  {
   "cell_type": "code",
   "execution_count": 3,
   "metadata": {},
   "outputs": [],
   "source": [
    "import statsmodels.formula.api as smf\n",
    "import statsmodels.formula as sm\n",
    "from stargazer.stargazer import Stargazer\n",
    "import numpy as np\n",
    "from dataclasses import dataclass\n",
    "from script.hedonic_regression import *"
   ]
  },
  {
   "cell_type": "code",
   "execution_count": 12,
   "metadata": {},
   "outputs": [],
   "source": [
    "y_1 = \"price\"\n",
    "y_2 = \"logprice\"\n",
    "X = [\n",
    "    \"screen_type\",\n",
    "    \"das_limbs\",\n",
    "    \"das_head\",\n",
    "    \"upgrade_storage\",\n",
    "    \"screen_size\",\n",
    "    \"fast_charging\",\n",
    "    \"repairability_index\",\n",
    "    \"made_in\",\n",
    "    \"ram\",\n",
    "    \"storage\",\n",
    "    \"brand\",\n",
    "    \"induction\",\n",
    "]"
   ]
  },
  {
   "cell_type": "code",
   "execution_count": 10,
   "metadata": {},
   "outputs": [],
   "source": [
    "f_1 = formula(y_1, X)\n",
    "f_2 = formula(y_2, X)\n",
    "res_1 = execute_ols(df, f_1)\n",
    "res_2 = execute_ols(df, f_2)"
   ]
  },
  {
   "cell_type": "markdown",
   "metadata": {},
   "source": [
    "On ajoute le prix prédit par la régression à notre dataframe"
   ]
  },
  {
   "cell_type": "code",
   "execution_count": 12,
   "metadata": {},
   "outputs": [],
   "source": [
    "df = df.with_columns(pl.from_numpy(res_1.predict(), schema=[\"predicted_price\"]))"
   ]
  },
  {
   "cell_type": "code",
   "execution_count": null,
   "metadata": {},
   "outputs": [],
   "source": [
    "Stargazer([res_1, res_2])"
   ]
  },
  {
   "cell_type": "code",
   "execution_count": 3,
   "metadata": {},
   "outputs": [],
   "source": [
    "sfa_file = data_folder / \"sfa_results.csv\""
   ]
  },
  {
   "cell_type": "code",
   "execution_count": 8,
   "metadata": {},
   "outputs": [],
   "source": [
    "sfa_df = pl.read_csv(sfa_file, ignore_errors=True)"
   ]
  },
  {
   "cell_type": "code",
   "execution_count": null,
   "metadata": {},
   "outputs": [],
   "source": [
    "sfa_df.select(\"model\", \"price\", \"predicted_price\", \"efficiency\").sort(\"efficiency\")"
   ]
  },
  {
   "cell_type": "code",
   "execution_count": null,
   "metadata": {},
   "outputs": [],
   "source": [
    "# res2 = res.get_robustcov_results(cov_type='HC1')\n",
    "# robuste std errors"
   ]
  },
  {
   "cell_type": "code",
   "execution_count": 1,
   "metadata": {},
   "outputs": [],
   "source": [
    "import polars as pl"
   ]
  },
  {
   "cell_type": "code",
   "execution_count": 5,
   "metadata": {},
   "outputs": [],
   "source": [
    "df = pl.read_json(\"data/smartphones.json\")"
   ]
  }
 ],
 "metadata": {
  "kernelspec": {
   "display_name": "Python 3",
   "language": "python",
   "name": "python3"
  },
  "language_info": {
   "codemirror_mode": {
    "name": "ipython",
    "version": 3
   },
   "file_extension": ".py",
   "mimetype": "text/x-python",
   "name": "python",
   "nbconvert_exporter": "python",
   "pygments_lexer": "ipython3",
   "version": "3.10.6"
  }
 },
 "nbformat": 4,
 "nbformat_minor": 2
}
